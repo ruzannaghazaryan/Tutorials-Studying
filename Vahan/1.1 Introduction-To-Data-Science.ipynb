{
 "cells": [
  {
   "cell_type": "code",
   "execution_count": 1,
   "id": "7e8533e3-24bc-485f-882e-dd9999c336f7",
   "metadata": {},
   "outputs": [],
   "source": [
    "import numpy as np"
   ]
  },
  {
   "cell_type": "markdown",
   "id": "f9031fe3-c6c5-4a9c-99ef-dc461bcbc72c",
   "metadata": {},
   "source": [
    "__Exercise__: Create a small 5×5 array to represent a simple image (maybe a diagonal line of 255s on a background of 0s). Print out the array and verify the positions of high values form the diagonal. This simulates creating a simple image pattern with numpy."
   ]
  },
  {
   "cell_type": "code",
   "execution_count": 2,
   "id": "e5763a48-85ce-495c-a624-e837c04195eb",
   "metadata": {},
   "outputs": [],
   "source": [
    "a = np.diag([255] * 5)"
   ]
  },
  {
   "cell_type": "code",
   "execution_count": 3,
   "id": "d0bbaf9d-87a4-4576-9a68-d6d7d9b189d4",
   "metadata": {},
   "outputs": [
    {
     "data": {
      "text/plain": [
       "array([[255,   0,   0,   0,   0],\n",
       "       [  0, 255,   0,   0,   0],\n",
       "       [  0,   0, 255,   0,   0],\n",
       "       [  0,   0,   0, 255,   0],\n",
       "       [  0,   0,   0,   0, 255]])"
      ]
     },
     "execution_count": 3,
     "metadata": {},
     "output_type": "execute_result"
    }
   ],
   "source": [
    "a"
   ]
  },
  {
   "cell_type": "code",
   "execution_count": 4,
   "id": "08d80853-2a7c-4862-bcf0-954658e30989",
   "metadata": {},
   "outputs": [
    {
     "name": "stdout",
     "output_type": "stream",
     "text": [
      "255 found at position 0, 0\n",
      "255 found at position 1, 1\n",
      "255 found at position 2, 2\n",
      "255 found at position 3, 3\n",
      "255 found at position 4, 4\n"
     ]
    }
   ],
   "source": [
    "# Verify positions of 255\n",
    "\n",
    "for i in range(a.shape[0]):\n",
    "    if a[i, i] == 255:\n",
    "        print(f'255 found at position {i}, {i}')"
   ]
  },
  {
   "cell_type": "markdown",
   "id": "9a387980-a110-4911-8994-da10652b12ee",
   "metadata": {},
   "source": [
    "---"
   ]
  },
  {
   "cell_type": "code",
   "execution_count": 5,
   "id": "60a47083-dbe2-46bf-84a0-5b45509128f8",
   "metadata": {},
   "outputs": [
    {
     "data": {
      "text/plain": [
       "array([[255,   0,   0,   0,   0],\n",
       "       [  0, 255,   0,   0,   0],\n",
       "       [  0,   0, 255,   0,   0],\n",
       "       [  0,   0,   0, 255,   0],\n",
       "       [  0,   0,   0,   0, 255]])"
      ]
     },
     "execution_count": 5,
     "metadata": {},
     "output_type": "execute_result"
    }
   ],
   "source": [
    "b = np.zeros((5, 5), dtype=int)\n",
    "np.fill_diagonal(b, 255)        # modifies the input array in-place, it does not return a value\n",
    "b"
   ]
  },
  {
   "cell_type": "markdown",
   "id": "0bd0fa75-fa42-46ac-9507-dd807595e727",
   "metadata": {},
   "source": [
    "---"
   ]
  },
  {
   "cell_type": "markdown",
   "id": "65f83d59-7f08-436f-85f0-21f0e8e7c7ee",
   "metadata": {},
   "source": [
    "__NumPy arrays__ are `homogeneous`, meaning `every element must be the same type`."
   ]
  },
  {
   "cell_type": "markdown",
   "id": "1c08a1ce-0465-4d15-a4c9-34c026bc773d",
   "metadata": {},
   "source": [
    "---"
   ]
  },
  {
   "cell_type": "code",
   "execution_count": 6,
   "id": "9c0eb495-8497-48d1-99c6-850abd63da05",
   "metadata": {},
   "outputs": [
    {
     "data": {
      "text/plain": [
       "array([[ 1, 85, 78],\n",
       "       [ 2, 90, 88],\n",
       "       [ 3, 75, 85]])"
      ]
     },
     "execution_count": 6,
     "metadata": {},
     "output_type": "execute_result"
    }
   ],
   "source": [
    "students = np.array([\n",
    "    [1, 85, 78],\n",
    "    [2, 90, 88],\n",
    "    [3, 75, 85]\n",
    "], dtype=np.int32)\n",
    "\n",
    "students"
   ]
  },
  {
   "cell_type": "code",
   "execution_count": 7,
   "id": "723e62c3-38e5-42de-9f3c-8a6db0077f7b",
   "metadata": {},
   "outputs": [
    {
     "data": {
      "text/plain": [
       "83.33333333333333"
      ]
     },
     "execution_count": 7,
     "metadata": {},
     "output_type": "execute_result"
    }
   ],
   "source": [
    "students[:, 1].mean()   # mean of second column (Math scores)"
   ]
  },
  {
   "cell_type": "markdown",
   "id": "e4375397-056f-428c-b4a0-1f9aac88c51f",
   "metadata": {},
   "source": [
    "---"
   ]
  },
  {
   "cell_type": "markdown",
   "id": "566e1a09-0635-4ede-862b-fcaab5e667a5",
   "metadata": {},
   "source": [
    "__Real-World Example (Loading CSV data):__ You might have a CSV file with rows of data. While the pandas library is often used for tabular data, NumPy can also load simple numeric data. For instance, if data.csv contains:"
   ]
  },
  {
   "cell_type": "code",
   "execution_count": 8,
   "id": "aabadd9b-689c-4a3a-9d08-04514adb7793",
   "metadata": {},
   "outputs": [],
   "source": [
    "# height,weight,age\n",
    "# 170,65,25\n",
    "# 160,50,30\n",
    "# 180,80,22"
   ]
  },
  {
   "cell_type": "markdown",
   "id": "86565b93-0a3b-4009-ba70-d0b4d6de0494",
   "metadata": {},
   "source": [
    "We can load it with NumPy (using `genfromtxt` or `loadtxt`):"
   ]
  },
  {
   "cell_type": "code",
   "execution_count": 9,
   "id": "4bae9fe1-f4c6-4b43-8254-65161328f951",
   "metadata": {},
   "outputs": [
    {
     "data": {
      "text/plain": [
       "array([[170.,  65.,  25.],\n",
       "       [160.,  50.,  30.],\n",
       "       [180.,  80.,  22.]])"
      ]
     },
     "execution_count": 9,
     "metadata": {},
     "output_type": "execute_result"
    }
   ],
   "source": [
    "data = np.loadtxt('data.csv', delimiter=',', skiprows=1)\n",
    "data"
   ]
  },
  {
   "cell_type": "code",
   "execution_count": 10,
   "id": "59eb6036-e239-4590-9ec2-826aedd544c6",
   "metadata": {},
   "outputs": [],
   "source": [
    "# Notice by default loadtxt gave floats; we can specify dtype=int if we want integers."
   ]
  },
  {
   "cell_type": "markdown",
   "id": "c964a03b-d336-47ce-9094-5461013f3df6",
   "metadata": {},
   "source": [
    "---\n",
    "---"
   ]
  },
  {
   "cell_type": "code",
   "execution_count": null,
   "id": "7a2d7956-4219-4a62-ae90-aaf23701e00a",
   "metadata": {},
   "outputs": [],
   "source": []
  },
  {
   "cell_type": "code",
   "execution_count": null,
   "id": "80bdf597-752b-4117-a961-1df8ff44640b",
   "metadata": {},
   "outputs": [],
   "source": []
  },
  {
   "cell_type": "code",
   "execution_count": null,
   "id": "6b545cbd-0183-4c9b-9ea9-da36ec167ab3",
   "metadata": {},
   "outputs": [],
   "source": []
  },
  {
   "cell_type": "markdown",
   "id": "4469f6bb-699c-4c88-8e02-df06e07a0a0b",
   "metadata": {},
   "source": [
    "### Key Linear Algebra Concepts in Machine Learning\n",
    "---"
   ]
  },
  {
   "cell_type": "markdown",
   "id": "cf6ccc0f-e6a0-4cb8-b89d-d8a34fc045ce",
   "metadata": {},
   "source": [
    "#### 1. Vectors"
   ]
  },
  {
   "cell_type": "markdown",
   "id": "0a44e360-1ed6-475a-b015-f2877d94a94f",
   "metadata": {},
   "source": [
    "Description: In mathematics, __a vector__ is an ordered list of numbers. Geometrically, you can think of a vector as a point in space (like a coordinate) or an arrow from the origin to that point. For example, [3, 5] in 2D represents a point 3 units along the x-axis and 5 units along the y-axis. Vectors have a _magnitude_ (length) and _direction_. In linear algebra, vectors are often written as column vectors (like a column of numbers), but in NumPy we usually use 1D arrays to represent them.\n",
    "\n",
    "In data science, a vector is a convenient way to represent a single data instance or a set of features. __Feature vector__ - a list of features describing one sample. For example, if we have a patient with [height, weight, age], that’s a feature vector in 3-dimensional space. Vectors are used to represent words in NLP (word embeddings), pixel values of an image (flattened into one long vector), or a time-series of sensor readings, etc."
   ]
  },
  {
   "cell_type": "code",
   "execution_count": 11,
   "id": "d2874126-8823-41c9-82d4-950b6ddaffd0",
   "metadata": {},
   "outputs": [
    {
     "name": "stdout",
     "output_type": "stream",
     "text": [
      "Vector v: [2 5 1]\n",
      "Vector w: [3 4 1]\n",
      "Shape of v: (3,)\n"
     ]
    }
   ],
   "source": [
    "# create a vector (as a 1D numpy array)\n",
    "\n",
    "v = np.array([2, 5, 1])\n",
    "w = np.array([3, 4, 1])\n",
    "\n",
    "print('Vector v:', v)\n",
    "print('Vector w:', w)\n",
    "print('Shape of v:', v.shape)"
   ]
  },
  {
   "cell_type": "code",
   "execution_count": 14,
   "id": "f1cbd66e-2f38-46f6-bc75-5a94e93846ed",
   "metadata": {},
   "outputs": [
    {
     "name": "stdout",
     "output_type": "stream",
     "text": [
      "v + w = [5 9 2]\n"
     ]
    }
   ],
   "source": [
    "# addition - add corresponding elements\n",
    "\n",
    "print(\"v + w =\", v + w)"
   ]
  },
  {
   "cell_type": "code",
   "execution_count": 16,
   "id": "74f88f86-b61f-4c97-9d38-2adb1b1455eb",
   "metadata": {},
   "outputs": [
    {
     "name": "stdout",
     "output_type": "stream",
     "text": [
      "v - w = [-1  1  0]\n"
     ]
    }
   ],
   "source": [
    "# subtraction\n",
    "\n",
    "print(\"v - w =\", v - w)"
   ]
  },
  {
   "cell_type": "markdown",
   "id": "6b7e1a04-c6a9-4a13-9f07-6bd3380aaa28",
   "metadata": {},
   "source": [
    "NumPy will perform __element-wise__ addition/subtraction automatically since v and w have the same shape."
   ]
  },
  {
   "cell_type": "code",
   "execution_count": 17,
   "id": "8fd55839-671c-4418-b7eb-2e548ee38748",
   "metadata": {
    "collapsed": true,
    "jupyter": {
     "outputs_hidden": true
    }
   },
   "outputs": [
    {
     "name": "stdout",
     "output_type": "stream",
     "text": [
      "2 * v = [ 4 10  2]\n"
     ]
    }
   ],
   "source": [
    "# Scalar Multiplication: Multiply each element by a number.\n",
    "\n",
    "print(\"2 * v =\", 2 * v)"
   ]
  },
  {
   "cell_type": "code",
   "execution_count": 19,
   "id": "6265fe4b-14bb-4723-9346-15be83e2ca82",
   "metadata": {},
   "outputs": [
    {
     "name": "stdout",
     "output_type": "stream",
     "text": [
      "||v|| = 5.477225575051661\n"
     ]
    }
   ],
   "source": [
    "# Magnitude (Length): ||v|| = sqrt(v_1^2 + v_2^2 + ... ).\n",
    "\n",
    "mag_v = np.linalg.norm(v)    # Euclidean norm (length) of v\n",
    "\n",
    "print(\"||v|| =\", mag_v)"
   ]
  },
  {
   "cell_type": "code",
   "execution_count": 20,
   "id": "9a756dfb-78e1-418a-ab9d-c6edbaa527ee",
   "metadata": {},
   "outputs": [
    {
     "data": {
      "text/plain": [
       "5.477225575051661"
      ]
     },
     "execution_count": 20,
     "metadata": {},
     "output_type": "execute_result"
    }
   ],
   "source": [
    "# manually it can be done\n",
    "\n",
    "np.sqrt((v**2).sum())"
   ]
  },
  {
   "cell_type": "markdown",
   "id": "39d298a5-01cf-47c8-a69f-913735d08b9e",
   "metadata": {},
   "source": [
    "---\n",
    "---"
   ]
  },
  {
   "cell_type": "code",
   "execution_count": null,
   "id": "91a09ba3-939b-4a08-9208-c0be6a20cbc9",
   "metadata": {},
   "outputs": [],
   "source": []
  },
  {
   "cell_type": "code",
   "execution_count": null,
   "id": "063eabdb-bc66-4ae1-bdcf-ec7986d05d65",
   "metadata": {},
   "outputs": [],
   "source": []
  },
  {
   "cell_type": "markdown",
   "id": "b741bee7-e1b7-44cb-88f9-77263c53b640",
   "metadata": {},
   "source": [
    "#### 2. Matrices "
   ]
  },
  {
   "cell_type": "markdown",
   "id": "fd3a9f32-d8b8-4aa0-a42b-54c733801314",
   "metadata": {},
   "source": [
    "In linear algebra, matrices are used to solve systems of linear equations, to represent linear transformations (like rotating or scaling coordinates), and much more."
   ]
  },
  {
   "cell_type": "code",
   "execution_count": 21,
   "id": "da2a4de0-55fa-4913-ae34-65099ae18d19",
   "metadata": {},
   "outputs": [],
   "source": [
    "# create a 2 x 3 matrix\n",
    "M = np.array([[1, 2, 3],\n",
    "             [4, 5, 6]])"
   ]
  },
  {
   "cell_type": "code",
   "execution_count": 22,
   "id": "a9b79ed7-4364-42ff-a760-e0a63817eea6",
   "metadata": {},
   "outputs": [
    {
     "data": {
      "text/plain": [
       "array([1, 2, 3])"
      ]
     },
     "execution_count": 22,
     "metadata": {},
     "output_type": "execute_result"
    }
   ],
   "source": [
    "# first row\n",
    "M[0, :]"
   ]
  },
  {
   "cell_type": "code",
   "execution_count": 23,
   "id": "22431ae2-d42a-4c25-a77f-4545c63f882b",
   "metadata": {},
   "outputs": [
    {
     "data": {
      "text/plain": [
       "array([3, 6])"
      ]
     },
     "execution_count": 23,
     "metadata": {},
     "output_type": "execute_result"
    }
   ],
   "source": [
    "# 3rd column\n",
    "M[:, 2]"
   ]
  },
  {
   "cell_type": "markdown",
   "id": "7d9a76b4-b721-4961-b087-6b43478079f1",
   "metadata": {},
   "source": [
    "We can do __operations__ on matrices __element-wise__ similar to vectors (addition, subtraction, scalar multiply, etc., __as long as shapes align__ or \n",
    "__via broadcasting__)."
   ]
  },
  {
   "cell_type": "code",
   "execution_count": 24,
   "id": "c27037f0-9c82-4d08-9364-df6219831332",
   "metadata": {},
   "outputs": [
    {
     "data": {
      "text/plain": [
       "array([[ 2,  4,  6],\n",
       "       [ 8, 10, 12]])"
      ]
     },
     "execution_count": 24,
     "metadata": {},
     "output_type": "execute_result"
    }
   ],
   "source": [
    "M * 2"
   ]
  },
  {
   "cell_type": "code",
   "execution_count": 25,
   "id": "2e6190fa-eab4-465c-be1c-bd30666583ab",
   "metadata": {},
   "outputs": [
    {
     "data": {
      "text/plain": [
       "array([[ 8, 10, 12],\n",
       "       [ 5,  7,  9]])"
      ]
     },
     "execution_count": 25,
     "metadata": {},
     "output_type": "execute_result"
    }
   ],
   "source": [
    "N = np.array([[7, 8, 9],\n",
    "             [1, 2, 3]])\n",
    "\n",
    "M + N"
   ]
  },
  {
   "cell_type": "markdown",
   "id": "5d17783d-7d35-4769-89f1-311ef47d4028",
   "metadata": {},
   "source": [
    "---"
   ]
  },
  {
   "cell_type": "markdown",
   "id": "5e67a5aa-755c-4907-abbc-c9f2312dab74",
   "metadata": {},
   "source": [
    "__Use in Data/ML__:\n",
    "\n",
    "As mentioned, treating the whole dataset as a matrix allows vectorized computations. For instance, if X is an (N×M) matrix of data and w is an (M×1) weight vector, then X @ w yields an N×1 vector of predictions (one per data point). This is how we express making predictions for multiple data points in one go."
   ]
  },
  {
   "cell_type": "markdown",
   "id": "5ed1ae5d-2592-438c-8d0d-35b0a6d105a3",
   "metadata": {},
   "source": [
    "----\n",
    "----"
   ]
  },
  {
   "cell_type": "code",
   "execution_count": null,
   "id": "d234fede-ec40-48a9-aadc-56d7a1dfe9a2",
   "metadata": {},
   "outputs": [],
   "source": []
  },
  {
   "cell_type": "code",
   "execution_count": null,
   "id": "b580e72a-1566-4f73-821d-c9ff248b73cc",
   "metadata": {},
   "outputs": [],
   "source": []
  },
  {
   "cell_type": "code",
   "execution_count": null,
   "id": "7aaf91aa-f392-4a75-b0b8-63d214d49ebf",
   "metadata": {},
   "outputs": [],
   "source": []
  },
  {
   "cell_type": "markdown",
   "id": "91804f48-2bfe-41c1-8d24-b30ab1d11c23",
   "metadata": {},
   "source": [
    "#### 3. Matrix Multiplication"
   ]
  },
  {
   "cell_type": "markdown",
   "id": "068affb1-f345-4057-a413-cf2c6239da7d",
   "metadata": {},
   "source": [
    "This is __not__ done element-wise, but follows a specific rule: if A is of shape (p×q) and B is of shape (q×r), then their product C = A × B is of shape (p×r). Each element of C is computed by taking a row of A and a column of B and computing their dot product (multiply corresponding elements and sum them up).\n",
    "\n",
    "For matrix multiplication to be valid, the __inner dimensions__ must match (the number of columns of the first matrix must equal the number of rows of the second matrix). If you have incompatible shapes, you cannot multiply them in the standard linear algebra sense.\n",
    "\n",
    "(Note: pay attention to order – matrix multiplication is _not commutative_, meaning \n",
    "AB ≠ BA in general.)"
   ]
  },
  {
   "cell_type": "markdown",
   "id": "cf9ff471-6bf2-4306-9405-7d772f718458",
   "metadata": {},
   "source": [
    "__Python/NumPy Example__: We can use `np.dot()` or the `@` operator to do matrix multiplication in NumPy."
   ]
  },
  {
   "cell_type": "code",
   "execution_count": 26,
   "id": "999186ee-2e5b-4392-b88d-07df96b23259",
   "metadata": {},
   "outputs": [],
   "source": [
    "A = np.array([[1, 2, 3],\n",
    "             [4, 5, 6]])   # shape (2, 3)\n",
    "B = np.array([[7, 8],\n",
    "             [9, 10],\n",
    "             [11, 12]])    # shape (3, 2)"
   ]
  },
  {
   "cell_type": "code",
   "execution_count": 28,
   "id": "5ee4cbb1-2199-449d-afa0-de6a6e6aa16b",
   "metadata": {},
   "outputs": [
    {
     "data": {
      "text/plain": [
       "array([[ 58,  64],\n",
       "       [139, 154]])"
      ]
     },
     "execution_count": 28,
     "metadata": {},
     "output_type": "execute_result"
    }
   ],
   "source": [
    "C = A.dot(B)\n",
    "C"
   ]
  },
  {
   "cell_type": "code",
   "execution_count": 29,
   "id": "eefe5205-67a2-4365-9626-e0adbab355a7",
   "metadata": {},
   "outputs": [
    {
     "data": {
      "text/plain": [
       "array([[ 58,  64],\n",
       "       [139, 154]])"
      ]
     },
     "execution_count": 29,
     "metadata": {},
     "output_type": "execute_result"
    }
   ],
   "source": [
    "A @ B"
   ]
  },
  {
   "cell_type": "code",
   "execution_count": 30,
   "id": "a5e926a3-40e2-483a-8032-d5a09cd1efe3",
   "metadata": {},
   "outputs": [
    {
     "data": {
      "text/plain": [
       "array([[ 58,  64],\n",
       "       [139, 154]])"
      ]
     },
     "execution_count": 30,
     "metadata": {},
     "output_type": "execute_result"
    }
   ],
   "source": [
    "np.dot(A, B)"
   ]
  },
  {
   "cell_type": "markdown",
   "id": "45593a80-39ff-4c79-81b9-d0f3fe431f51",
   "metadata": {},
   "source": [
    "---"
   ]
  },
  {
   "cell_type": "markdown",
   "id": "5be4b9a8-549e-46ee-8b84-a2589a5caeec",
   "metadata": {},
   "source": [
    "__Use in Data/ML__: Matrix multiplication is everywhere in machine learning:\n",
    "\n",
    "- __Linear Regression/Linear Models__: If X is your data matrix (N samples × M features) and β is a parameter vector (M × 1), then predictions \n",
    "y^ for all N samples can be computed as the matrix product X × β (result is N × 1). This is essentially performing N dot-products (one for each sample).\n",
    "- __Neural Networks__: The computation in each layer of a neural network is often a matrix multiply: if you have an input vector, it’s multiplied by a weight matrix to produce an output vector for the next layer. When you process multiple inputs at once (batch processing), you actually use matrix multiplication between a batch matrix and the weight matrix.\n",
    "- __Word Embeddings__: In NLP, if you represent the vocabulary as vectors (one-hot encodings), multiplying a one-hot vector (which is mostly zeros and a 1 for the target word index) by an __embedding matrix__ yields the vector for that word. That’s matrix multiplication under the hood: one-hot (1×V) times embedding matrix (V×D) = word embedding (1×D).\n"
   ]
  },
  {
   "cell_type": "markdown",
   "id": "3364927f-ce59-4dab-977e-c781d206e3fb",
   "metadata": {},
   "source": [
    "---\n",
    "---"
   ]
  },
  {
   "cell_type": "code",
   "execution_count": null,
   "id": "c9ed785a-b024-4412-a3c8-3ccd136c4d6c",
   "metadata": {},
   "outputs": [],
   "source": []
  },
  {
   "cell_type": "code",
   "execution_count": null,
   "id": "e59d2a4b-8ede-425e-88f2-d2d60d342505",
   "metadata": {},
   "outputs": [],
   "source": []
  },
  {
   "cell_type": "code",
   "execution_count": null,
   "id": "c9e2dadd-b1e2-483b-b450-f9aee99e809e",
   "metadata": {},
   "outputs": [],
   "source": []
  },
  {
   "cell_type": "markdown",
   "id": "3724aa29-f53c-4c0a-a21d-65dc9d1f8ebc",
   "metadata": {},
   "source": [
    "#### 4. Dot Product"
   ]
  },
  {
   "cell_type": "markdown",
   "id": "27abc8e5-c19f-4eb5-9d82-7f3462fa1328",
   "metadata": {},
   "source": [
    "Description: The __dot product__ (also called scalar product or inner product) is an operation that takes two vectors of the same length and returns a single number (a scalar). If $a$ and $b$ are vectors $(a_1, a_2, ..., a_n)$ and $(b_1, b_2, ..., b_n)$, then\n",
    "\n",
    "$$\n",
    " a \\cdot b = a_1 b_1 + a_2 b_2 + \\cdots + a_n b_n. \n",
    "$$"
   ]
  },
  {
   "cell_type": "markdown",
   "id": "1f07cea4-3c08-4ef2-99e8-897167a9fab4",
   "metadata": {},
   "source": [
    "It's essentially multiplying corresponding components and summing them. We saw this concept inside matrix multiplication (each entry was a row dot a column). The dot product has a geometric interpretation: $a \\cdot b = \\|a\\|\\|b\\|\\cos\\theta$, where $\\theta$ is the angle between the two vectors. So if two vectors point in similar directions, their dot product is large (and positive); if they are orthogonal (90° apart), dot product is 0; if they point opposite, dot product is negative."
   ]
  },
  {
   "cell_type": "markdown",
   "id": "ebdce710-f24b-404e-b60d-5a8bc61539b2",
   "metadata": {},
   "source": [
    "__Python/NumPy Example__: Dot product of two vectors."
   ]
  },
  {
   "cell_type": "code",
   "execution_count": 31,
   "id": "c475352b-78e8-4b06-87b2-8bebc5124511",
   "metadata": {},
   "outputs": [
    {
     "data": {
      "text/plain": [
       "32"
      ]
     },
     "execution_count": 31,
     "metadata": {},
     "output_type": "execute_result"
    }
   ],
   "source": [
    "a = np.array([1, 2, 3])\n",
    "b = np.array([4, 5, 6])\n",
    "dot = np.dot(a, b) # or a.dot(b) or a @ b (for 1D does dot)\n",
    "dot"
   ]
  },
  {
   "cell_type": "code",
   "execution_count": 32,
   "id": "17abe6c4-b808-42a7-bbaf-190df439bace",
   "metadata": {},
   "outputs": [
    {
     "data": {
      "text/plain": [
       "32"
      ]
     },
     "execution_count": 32,
     "metadata": {},
     "output_type": "execute_result"
    }
   ],
   "source": [
    "# We can also confirm this by breaking it down:\n",
    "\n",
    "elementwise = a * b\n",
    "elementwise.sum()"
   ]
  },
  {
   "cell_type": "markdown",
   "id": "fc3d23dd-ffb8-4c44-8256-8359aa06be58",
   "metadata": {},
   "source": [
    "---"
   ]
  },
  {
   "cell_type": "markdown",
   "id": "40b74aad-52a4-4e05-b789-483b028d4700",
   "metadata": {},
   "source": [
    "**Use in Data/ML:**\n",
    "- **Feature Weights:** If you have a feature vector and a weight vector, the prediction of a linear model is a dot product $w \\cdot x$ (plus maybe a bias). For instance, in linear regression or in a single neuron of a neural net, you compute weighted sum of inputs – that’s a dot product.\n",
    "- **Similarity:** In information retrieval or recommender systems, you might compute how similar two users are by taking the dot product of their preference vectors. Cosine similarity between two vectors is basically $\\frac{a \\cdot b}{\\|a\\|\\|b\\|}$. If vectors are normalized to length 1, cosine similarity is exactly the dot product. Word embeddings are often compared via dot product to find similar words ([Linear Algebra Required for Data Science | GeeksforGeeks](https://www.geeksforgeeks.org/linear-algebra-required-for-data-science/#:~:text=%2A%20NLP%20,dot%20products%20alongside%20matrix%20multiplication)).\n",
    "- **Orthogonality:** As noted, if $a \\cdot b = 0$, the vectors are orthogonal (uncorrelated in a sense). In ML, this concept appears in orthogonal feature vectors or orthogonal weight initialization in neural networks, etc., meaning components that capture independent information.\n",
    "- **Matrix multiplication connection:** When we do $X @ w$ for predictions, each output is a dot product of a data row with the weight vector. So dot product is the elemental operation inside matrix multiplication.\n"
   ]
  },
  {
   "cell_type": "markdown",
   "id": "ac69a353-5fbd-413d-a8e5-9b7ba9db079a",
   "metadata": {},
   "source": [
    "---\n",
    "---"
   ]
  },
  {
   "cell_type": "code",
   "execution_count": null,
   "id": "674ff822-a9ca-4d1d-b569-1310a1b4b2c4",
   "metadata": {},
   "outputs": [],
   "source": []
  },
  {
   "cell_type": "code",
   "execution_count": null,
   "id": "9b6753ae-d696-4393-9897-631607309e85",
   "metadata": {},
   "outputs": [],
   "source": []
  },
  {
   "cell_type": "code",
   "execution_count": null,
   "id": "4e0ed019-5e61-4e4a-bcf4-7173a0af4381",
   "metadata": {},
   "outputs": [],
   "source": []
  },
  {
   "cell_type": "code",
   "execution_count": null,
   "id": "26f89503-8480-41c8-b202-1cfe080ed748",
   "metadata": {},
   "outputs": [],
   "source": []
  },
  {
   "cell_type": "code",
   "execution_count": null,
   "id": "9313558c-932c-4d31-ab46-4faa8c6066b2",
   "metadata": {},
   "outputs": [],
   "source": []
  }
 ],
 "metadata": {
  "kernelspec": {
   "display_name": "Python 3 (ipykernel)",
   "language": "python",
   "name": "python3"
  },
  "language_info": {
   "codemirror_mode": {
    "name": "ipython",
    "version": 3
   },
   "file_extension": ".py",
   "mimetype": "text/x-python",
   "name": "python",
   "nbconvert_exporter": "python",
   "pygments_lexer": "ipython3",
   "version": "3.12.11"
  }
 },
 "nbformat": 4,
 "nbformat_minor": 5
}
