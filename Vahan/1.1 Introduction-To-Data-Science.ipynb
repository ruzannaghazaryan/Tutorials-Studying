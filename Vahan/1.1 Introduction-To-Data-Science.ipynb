{
 "cells": [
  {
   "cell_type": "code",
   "execution_count": 1,
   "id": "7e8533e3-24bc-485f-882e-dd9999c336f7",
   "metadata": {},
   "outputs": [],
   "source": [
    "import numpy as np"
   ]
  },
  {
   "cell_type": "markdown",
   "id": "f9031fe3-c6c5-4a9c-99ef-dc461bcbc72c",
   "metadata": {},
   "source": [
    "__Exercise__: Create a small 5×5 array to represent a simple image (maybe a diagonal line of 255s on a background of 0s). Print out the array and verify the positions of high values form the diagonal. This simulates creating a simple image pattern with numpy."
   ]
  },
  {
   "cell_type": "code",
   "execution_count": 2,
   "id": "e5763a48-85ce-495c-a624-e837c04195eb",
   "metadata": {},
   "outputs": [],
   "source": [
    "a = np.diag([255] * 5)"
   ]
  },
  {
   "cell_type": "code",
   "execution_count": 3,
   "id": "d0bbaf9d-87a4-4576-9a68-d6d7d9b189d4",
   "metadata": {},
   "outputs": [
    {
     "data": {
      "text/plain": [
       "array([[255,   0,   0,   0,   0],\n",
       "       [  0, 255,   0,   0,   0],\n",
       "       [  0,   0, 255,   0,   0],\n",
       "       [  0,   0,   0, 255,   0],\n",
       "       [  0,   0,   0,   0, 255]])"
      ]
     },
     "execution_count": 3,
     "metadata": {},
     "output_type": "execute_result"
    }
   ],
   "source": [
    "a"
   ]
  },
  {
   "cell_type": "code",
   "execution_count": 4,
   "id": "08d80853-2a7c-4862-bcf0-954658e30989",
   "metadata": {},
   "outputs": [
    {
     "name": "stdout",
     "output_type": "stream",
     "text": [
      "255 found at position 0, 0\n",
      "255 found at position 1, 1\n",
      "255 found at position 2, 2\n",
      "255 found at position 3, 3\n",
      "255 found at position 4, 4\n"
     ]
    }
   ],
   "source": [
    "# Verify positions of 255\n",
    "\n",
    "for i in range(a.shape[0]):\n",
    "    if a[i, i] == 255:\n",
    "        print(f'255 found at position {i}, {i}')"
   ]
  },
  {
   "cell_type": "markdown",
   "id": "9a387980-a110-4911-8994-da10652b12ee",
   "metadata": {},
   "source": [
    "---"
   ]
  },
  {
   "cell_type": "code",
   "execution_count": 5,
   "id": "60a47083-dbe2-46bf-84a0-5b45509128f8",
   "metadata": {},
   "outputs": [
    {
     "data": {
      "text/plain": [
       "array([[255,   0,   0,   0,   0],\n",
       "       [  0, 255,   0,   0,   0],\n",
       "       [  0,   0, 255,   0,   0],\n",
       "       [  0,   0,   0, 255,   0],\n",
       "       [  0,   0,   0,   0, 255]])"
      ]
     },
     "execution_count": 5,
     "metadata": {},
     "output_type": "execute_result"
    }
   ],
   "source": [
    "b = np.zeros((5, 5), dtype=int)\n",
    "np.fill_diagonal(b, 255)        # modifies the input array in-place, it does not return a value\n",
    "b"
   ]
  },
  {
   "cell_type": "markdown",
   "id": "0bd0fa75-fa42-46ac-9507-dd807595e727",
   "metadata": {},
   "source": [
    "---"
   ]
  },
  {
   "cell_type": "markdown",
   "id": "65f83d59-7f08-436f-85f0-21f0e8e7c7ee",
   "metadata": {},
   "source": [
    "__NumPy arrays__ are `homogeneous`, meaning `every element must be the same type`."
   ]
  },
  {
   "cell_type": "markdown",
   "id": "1c08a1ce-0465-4d15-a4c9-34c026bc773d",
   "metadata": {},
   "source": [
    "---"
   ]
  },
  {
   "cell_type": "code",
   "execution_count": 6,
   "id": "9c0eb495-8497-48d1-99c6-850abd63da05",
   "metadata": {},
   "outputs": [
    {
     "data": {
      "text/plain": [
       "array([[ 1, 85, 78],\n",
       "       [ 2, 90, 88],\n",
       "       [ 3, 75, 85]])"
      ]
     },
     "execution_count": 6,
     "metadata": {},
     "output_type": "execute_result"
    }
   ],
   "source": [
    "students = np.array([\n",
    "    [1, 85, 78],\n",
    "    [2, 90, 88],\n",
    "    [3, 75, 85]\n",
    "], dtype=np.int32)\n",
    "\n",
    "students"
   ]
  },
  {
   "cell_type": "code",
   "execution_count": 7,
   "id": "723e62c3-38e5-42de-9f3c-8a6db0077f7b",
   "metadata": {},
   "outputs": [
    {
     "data": {
      "text/plain": [
       "83.33333333333333"
      ]
     },
     "execution_count": 7,
     "metadata": {},
     "output_type": "execute_result"
    }
   ],
   "source": [
    "students[:, 1].mean()   # mean of second column (Math scores)"
   ]
  },
  {
   "cell_type": "markdown",
   "id": "e4375397-056f-428c-b4a0-1f9aac88c51f",
   "metadata": {},
   "source": [
    "---"
   ]
  },
  {
   "cell_type": "markdown",
   "id": "566e1a09-0635-4ede-862b-fcaab5e667a5",
   "metadata": {},
   "source": [
    "__Real-World Example (Loading CSV data):__ You might have a CSV file with rows of data. While the pandas library is often used for tabular data, NumPy can also load simple numeric data. For instance, if data.csv contains:"
   ]
  },
  {
   "cell_type": "code",
   "execution_count": 8,
   "id": "aabadd9b-689c-4a3a-9d08-04514adb7793",
   "metadata": {},
   "outputs": [],
   "source": [
    "# height,weight,age\n",
    "# 170,65,25\n",
    "# 160,50,30\n",
    "# 180,80,22"
   ]
  },
  {
   "cell_type": "markdown",
   "id": "86565b93-0a3b-4009-ba70-d0b4d6de0494",
   "metadata": {},
   "source": [
    "We can load it with NumPy (using `genfromtxt` or `loadtxt`):"
   ]
  },
  {
   "cell_type": "code",
   "execution_count": 9,
   "id": "4bae9fe1-f4c6-4b43-8254-65161328f951",
   "metadata": {},
   "outputs": [
    {
     "data": {
      "text/plain": [
       "array([[170.,  65.,  25.],\n",
       "       [160.,  50.,  30.],\n",
       "       [180.,  80.,  22.]])"
      ]
     },
     "execution_count": 9,
     "metadata": {},
     "output_type": "execute_result"
    }
   ],
   "source": [
    "data = np.loadtxt('data.csv', delimiter=',', skiprows=1)\n",
    "data"
   ]
  },
  {
   "cell_type": "code",
   "execution_count": 10,
   "id": "59eb6036-e239-4590-9ec2-826aedd544c6",
   "metadata": {},
   "outputs": [],
   "source": [
    "# Notice by default loadtxt gave floats; we can specify dtype=int if we want integers."
   ]
  },
  {
   "cell_type": "markdown",
   "id": "c964a03b-d336-47ce-9094-5461013f3df6",
   "metadata": {},
   "source": [
    "---\n",
    "---"
   ]
  },
  {
   "cell_type": "code",
   "execution_count": null,
   "id": "7a2d7956-4219-4a62-ae90-aaf23701e00a",
   "metadata": {},
   "outputs": [],
   "source": []
  },
  {
   "cell_type": "code",
   "execution_count": null,
   "id": "80bdf597-752b-4117-a961-1df8ff44640b",
   "metadata": {},
   "outputs": [],
   "source": []
  },
  {
   "cell_type": "code",
   "execution_count": null,
   "id": "6b545cbd-0183-4c9b-9ea9-da36ec167ab3",
   "metadata": {},
   "outputs": [],
   "source": []
  },
  {
   "cell_type": "markdown",
   "id": "4469f6bb-699c-4c88-8e02-df06e07a0a0b",
   "metadata": {},
   "source": [
    "### Key Linear Algebra Concepts in Machine Learning\n",
    "---"
   ]
  },
  {
   "cell_type": "markdown",
   "id": "cf6ccc0f-e6a0-4cb8-b89d-d8a34fc045ce",
   "metadata": {},
   "source": [
    "#### 1. Vectors"
   ]
  },
  {
   "cell_type": "markdown",
   "id": "0a44e360-1ed6-475a-b015-f2877d94a94f",
   "metadata": {},
   "source": [
    "Description: In mathematics, __a vector__ is an ordered list of numbers. Geometrically, you can think of a vector as a point in space (like a coordinate) or an arrow from the origin to that point. For example, [3, 5] in 2D represents a point 3 units along the x-axis and 5 units along the y-axis. Vectors have a _magnitude_ (length) and _direction_. In linear algebra, vectors are often written as column vectors (like a column of numbers), but in NumPy we usually use 1D arrays to represent them.\n",
    "\n",
    "In data science, a vector is a convenient way to represent a single data instance or a set of features. __Feature vector__ - a list of features describing one sample. For example, if we have a patient with [height, weight, age], that’s a feature vector in 3-dimensional space. Vectors are used to represent words in NLP (word embeddings), pixel values of an image (flattened into one long vector), or a time-series of sensor readings, etc."
   ]
  },
  {
   "cell_type": "code",
   "execution_count": 11,
   "id": "d2874126-8823-41c9-82d4-950b6ddaffd0",
   "metadata": {},
   "outputs": [
    {
     "name": "stdout",
     "output_type": "stream",
     "text": [
      "Vector v: [2 5 1]\n",
      "Vector w: [3 4 1]\n",
      "Shape of v: (3,)\n"
     ]
    }
   ],
   "source": [
    "# create a vector (as a 1D numpy array)\n",
    "\n",
    "v = np.array([2, 5, 1])\n",
    "w = np.array([3, 4, 1])\n",
    "\n",
    "print('Vector v:', v)\n",
    "print('Vector w:', w)\n",
    "print('Shape of v:', v.shape)"
   ]
  },
  {
   "cell_type": "code",
   "execution_count": 14,
   "id": "f1cbd66e-2f38-46f6-bc75-5a94e93846ed",
   "metadata": {},
   "outputs": [
    {
     "name": "stdout",
     "output_type": "stream",
     "text": [
      "v + w = [5 9 2]\n"
     ]
    }
   ],
   "source": [
    "# addition - add corresponding elements\n",
    "\n",
    "print(\"v + w =\", v + w)"
   ]
  },
  {
   "cell_type": "code",
   "execution_count": 16,
   "id": "74f88f86-b61f-4c97-9d38-2adb1b1455eb",
   "metadata": {},
   "outputs": [
    {
     "name": "stdout",
     "output_type": "stream",
     "text": [
      "v - w = [-1  1  0]\n"
     ]
    }
   ],
   "source": [
    "# subtraction\n",
    "\n",
    "print(\"v - w =\", v - w)"
   ]
  },
  {
   "cell_type": "markdown",
   "id": "6b7e1a04-c6a9-4a13-9f07-6bd3380aaa28",
   "metadata": {},
   "source": [
    "NumPy will perform __element-wise__ addition/subtraction automatically since v and w have the same shape."
   ]
  },
  {
   "cell_type": "code",
   "execution_count": 17,
   "id": "8fd55839-671c-4418-b7eb-2e548ee38748",
   "metadata": {
    "collapsed": true,
    "jupyter": {
     "outputs_hidden": true
    }
   },
   "outputs": [
    {
     "name": "stdout",
     "output_type": "stream",
     "text": [
      "2 * v = [ 4 10  2]\n"
     ]
    }
   ],
   "source": [
    "# Scalar Multiplication: Multiply each element by a number.\n",
    "\n",
    "print(\"2 * v =\", 2 * v)"
   ]
  },
  {
   "cell_type": "code",
   "execution_count": 19,
   "id": "6265fe4b-14bb-4723-9346-15be83e2ca82",
   "metadata": {},
   "outputs": [
    {
     "name": "stdout",
     "output_type": "stream",
     "text": [
      "||v|| = 5.477225575051661\n"
     ]
    }
   ],
   "source": [
    "# Magnitude (Length): ||v|| = sqrt(v_1^2 + v_2^2 + ... ).\n",
    "\n",
    "mag_v = np.linalg.norm(v)    # Euclidean norm (length) of v\n",
    "\n",
    "print(\"||v|| =\", mag_v)"
   ]
  },
  {
   "cell_type": "code",
   "execution_count": 20,
   "id": "9a756dfb-78e1-418a-ab9d-c6edbaa527ee",
   "metadata": {},
   "outputs": [
    {
     "data": {
      "text/plain": [
       "5.477225575051661"
      ]
     },
     "execution_count": 20,
     "metadata": {},
     "output_type": "execute_result"
    }
   ],
   "source": [
    "# manually it can be done\n",
    "\n",
    "np.sqrt((v**2).sum())"
   ]
  },
  {
   "cell_type": "markdown",
   "id": "39d298a5-01cf-47c8-a69f-913735d08b9e",
   "metadata": {},
   "source": [
    "---\n",
    "---"
   ]
  },
  {
   "cell_type": "code",
   "execution_count": null,
   "id": "91a09ba3-939b-4a08-9208-c0be6a20cbc9",
   "metadata": {},
   "outputs": [],
   "source": []
  },
  {
   "cell_type": "code",
   "execution_count": null,
   "id": "063eabdb-bc66-4ae1-bdcf-ec7986d05d65",
   "metadata": {},
   "outputs": [],
   "source": []
  },
  {
   "cell_type": "markdown",
   "id": "b741bee7-e1b7-44cb-88f9-77263c53b640",
   "metadata": {},
   "source": [
    "#### 2. Matrices "
   ]
  },
  {
   "cell_type": "markdown",
   "id": "fd3a9f32-d8b8-4aa0-a42b-54c733801314",
   "metadata": {},
   "source": [
    "In linear algebra, matrices are used to solve systems of linear equations, to represent linear transformations (like rotating or scaling coordinates), and much more."
   ]
  },
  {
   "cell_type": "code",
   "execution_count": 21,
   "id": "da2a4de0-55fa-4913-ae34-65099ae18d19",
   "metadata": {},
   "outputs": [],
   "source": [
    "# create a 2 x 3 matrix\n",
    "M = np.array([[1, 2, 3],\n",
    "             [4, 5, 6]])"
   ]
  },
  {
   "cell_type": "code",
   "execution_count": 22,
   "id": "a9b79ed7-4364-42ff-a760-e0a63817eea6",
   "metadata": {},
   "outputs": [
    {
     "data": {
      "text/plain": [
       "array([1, 2, 3])"
      ]
     },
     "execution_count": 22,
     "metadata": {},
     "output_type": "execute_result"
    }
   ],
   "source": [
    "# first row\n",
    "M[0, :]"
   ]
  },
  {
   "cell_type": "code",
   "execution_count": 23,
   "id": "22431ae2-d42a-4c25-a77f-4545c63f882b",
   "metadata": {},
   "outputs": [
    {
     "data": {
      "text/plain": [
       "array([3, 6])"
      ]
     },
     "execution_count": 23,
     "metadata": {},
     "output_type": "execute_result"
    }
   ],
   "source": [
    "# 3rd column\n",
    "M[:, 2]"
   ]
  },
  {
   "cell_type": "markdown",
   "id": "7d9a76b4-b721-4961-b087-6b43478079f1",
   "metadata": {},
   "source": [
    "We can do __operations__ on matrices __element-wise__ similar to vectors (addition, subtraction, scalar multiply, etc., __as long as shapes align__ or \n",
    "__via broadcasting__)."
   ]
  },
  {
   "cell_type": "code",
   "execution_count": 24,
   "id": "c27037f0-9c82-4d08-9364-df6219831332",
   "metadata": {},
   "outputs": [
    {
     "data": {
      "text/plain": [
       "array([[ 2,  4,  6],\n",
       "       [ 8, 10, 12]])"
      ]
     },
     "execution_count": 24,
     "metadata": {},
     "output_type": "execute_result"
    }
   ],
   "source": [
    "M * 2"
   ]
  },
  {
   "cell_type": "code",
   "execution_count": 25,
   "id": "2e6190fa-eab4-465c-be1c-bd30666583ab",
   "metadata": {},
   "outputs": [
    {
     "data": {
      "text/plain": [
       "array([[ 8, 10, 12],\n",
       "       [ 5,  7,  9]])"
      ]
     },
     "execution_count": 25,
     "metadata": {},
     "output_type": "execute_result"
    }
   ],
   "source": [
    "N = np.array([[7, 8, 9],\n",
    "             [1, 2, 3]])\n",
    "\n",
    "M + N"
   ]
  },
  {
   "cell_type": "markdown",
   "id": "5d17783d-7d35-4769-89f1-311ef47d4028",
   "metadata": {},
   "source": [
    "---"
   ]
  },
  {
   "cell_type": "markdown",
   "id": "5e67a5aa-755c-4907-abbc-c9f2312dab74",
   "metadata": {},
   "source": [
    "__Use in Data/ML__:\n",
    "\n",
    "As mentioned, treating the whole dataset as a matrix allows vectorized computations. For instance, if X is an (N×M) matrix of data and w is an (M×1) weight vector, then X @ w yields an N×1 vector of predictions (one per data point). This is how we express making predictions for multiple data points in one go."
   ]
  },
  {
   "cell_type": "code",
   "execution_count": null,
   "id": "c8c0a627-281f-46cd-a46b-ddbe44e39a4c",
   "metadata": {},
   "outputs": [],
   "source": []
  }
 ],
 "metadata": {
  "kernelspec": {
   "display_name": "Python 3 (ipykernel)",
   "language": "python",
   "name": "python3"
  },
  "language_info": {
   "codemirror_mode": {
    "name": "ipython",
    "version": 3
   },
   "file_extension": ".py",
   "mimetype": "text/x-python",
   "name": "python",
   "nbconvert_exporter": "python",
   "pygments_lexer": "ipython3",
   "version": "3.12.11"
  }
 },
 "nbformat": 4,
 "nbformat_minor": 5
}
