{
 "cells": [
  {
   "cell_type": "markdown",
   "id": "32c79c95",
   "metadata": {},
   "source": [
    "# Cross-validation"
   ]
  },
  {
   "cell_type": "markdown",
   "id": "2a86c8ee",
   "metadata": {},
   "source": [
    "https://towardsdatascience.com/k-fold-cross-validation-explained-in-plain-english-659e33c0bc0"
   ]
  },
  {
   "cell_type": "markdown",
   "id": "f011263b",
   "metadata": {},
   "source": [
    "__<u>Cross validation__ is a more advanced set of methods for splitting data into training and testing sets.\n",
    "\n",
    "__<u>Tuning__ implies you are adjusting hyperparameters for better performance."
   ]
  },
  {
   "cell_type": "markdown",
   "id": "6a4f4eae",
   "metadata": {},
   "source": [
    "---"
   ]
  },
  {
   "cell_type": "markdown",
   "id": "ca9e079e",
   "metadata": {},
   "source": [
    "<img src='cv1.png' width=650>"
   ]
  },
  {
   "cell_type": "markdown",
   "id": "e0d32705",
   "metadata": {},
   "source": [
    "---"
   ]
  },
  {
   "cell_type": "markdown",
   "id": "c4c178f7",
   "metadata": {},
   "source": [
    "<img src='cv2.png' width=650>"
   ]
  },
  {
   "cell_type": "markdown",
   "id": "8413f054",
   "metadata": {},
   "source": [
    "---"
   ]
  },
  {
   "cell_type": "markdown",
   "id": "5c98422c",
   "metadata": {},
   "source": [
    "<img src='cv3.png' width=650>"
   ]
  },
  {
   "cell_type": "markdown",
   "id": "0df7ec7b",
   "metadata": {},
   "source": [
    "Which means if you decided K is equal to 10, that means you're leaving 10% of the data or 1/10 as the test set."
   ]
  },
  {
   "cell_type": "markdown",
   "id": "94790382",
   "metadata": {},
   "source": [
    "---"
   ]
  },
  {
   "cell_type": "markdown",
   "id": "6c8b37cd",
   "metadata": {},
   "source": [
    "<img src='cv4.png' width=650>"
   ]
  },
  {
   "cell_type": "markdown",
   "id": "3949ef42",
   "metadata": {},
   "source": [
    "---"
   ]
  },
  {
   "cell_type": "markdown",
   "id": "d9f849ca",
   "metadata": {},
   "source": [
    "<img src='cv5.png' width=650>"
   ]
  },
  {
   "cell_type": "markdown",
   "id": "97d7ccfc",
   "metadata": {},
   "source": [
    "---"
   ]
  },
  {
   "cell_type": "markdown",
   "id": "014a55db",
   "metadata": {},
   "source": [
    "- This is known as __<u>K-fold cross-validation__.\n",
    "- A very common choice for K is 10 so that each test set is __10% of your total data__.\n",
    "- Largest K possible would be K equal to the number of number of rows (just draw one row as your test set).\n",
    "    - This is known as __<u>leave one out__ cross-validation.\n",
    "    - Computationally expensive!"
   ]
  },
  {
   "cell_type": "markdown",
   "id": "c5564460",
   "metadata": {},
   "source": [
    "---"
   ]
  },
  {
   "cell_type": "markdown",
   "id": "c1c78c19",
   "metadata": {},
   "source": [
    "#  train | validation | holdout test set"
   ]
  },
  {
   "cell_type": "markdown",
   "id": "9884ea65",
   "metadata": {},
   "source": [
    "So, you start off with the entire data set. And then you're going to remove a portion of that and you're going to call it your test set or more specifically, your __holdout test set__. And this is a set of data that __the model will never see__ and also __never be adjusted to__."
   ]
  },
  {
   "cell_type": "markdown",
   "id": "71c1d6fd",
   "metadata": {},
   "source": [
    "<img src='cv6.png' width=650>"
   ]
  },
  {
   "cell_type": "markdown",
   "id": "16f017a3",
   "metadata": {},
   "source": [
    "__or__"
   ]
  },
  {
   "cell_type": "markdown",
   "id": "1c7c1c7d",
   "metadata": {},
   "source": [
    "<img src='cv7.png' width=650>"
   ]
  },
  {
   "cell_type": "markdown",
   "id": "63a484ab",
   "metadata": {},
   "source": [
    "---"
   ]
  },
  {
   "cell_type": "markdown",
   "id": "66464bf5",
   "metadata": {},
   "source": [
    "<img src='cv8.png' width=650>"
   ]
  },
  {
   "cell_type": "markdown",
   "id": "59f74bcd",
   "metadata": {},
   "source": [
    "__!!!__ The very __important__ thing to note here is that you cannot tune after this final test evaluation."
   ]
  },
  {
   "cell_type": "markdown",
   "id": "95efdae1",
   "metadata": {},
   "source": [
    "So you can imagine if you have a boss coming in and asking you how well did the model truly perform, you're going to report back this final number and you're not going to tune after this."
   ]
  },
  {
   "cell_type": "markdown",
   "id": "ca83e242",
   "metadata": {},
   "source": [
    "---"
   ]
  },
  {
   "cell_type": "markdown",
   "id": "d322edbb",
   "metadata": {},
   "source": [
    "<img src='cv9.png' width=650>"
   ]
  },
  {
   "cell_type": "markdown",
   "id": "a3cc414c",
   "metadata": {},
   "source": [
    "---"
   ]
  }
 ],
 "metadata": {
  "kernelspec": {
   "display_name": "Python 3 (ipykernel)",
   "language": "python",
   "name": "python3"
  },
  "language_info": {
   "codemirror_mode": {
    "name": "ipython",
    "version": 3
   },
   "file_extension": ".py",
   "mimetype": "text/x-python",
   "name": "python",
   "nbconvert_exporter": "python",
   "pygments_lexer": "ipython3",
   "version": "3.9.12"
  }
 },
 "nbformat": 4,
 "nbformat_minor": 5
}
