{
 "cells": [
  {
   "cell_type": "markdown",
   "id": "accc487a",
   "metadata": {},
   "source": [
    "- [from sklearn.preprocessing import PolynomialFeatures](#poly)\n",
    "<br>[polynomial_converter = PolynomialFeatures(degree=, interaction_only=, include_bias=)](#poly)\n",
    "<br>[polynomial_converter.fit(X)](#poly)\n",
    "<br>[poly_features = polynomial_converter.transform(X)](#poly)\n",
    "<br>or [polynomial_converter.fit_transform(X)](#poly)\n",
    "-[polynomial_converter.get_feature_names_out()](#poly)"
   ]
  },
  {
   "cell_type": "markdown",
   "id": "683aa154",
   "metadata": {},
   "source": [
    "---"
   ]
  },
  {
   "cell_type": "code",
   "execution_count": 1,
   "id": "3f788c36",
   "metadata": {},
   "outputs": [],
   "source": [
    "import numpy as np\n",
    "import pandas as pd\n",
    "import matplotlib.pyplot as plt\n",
    "import seaborn as sns"
   ]
  },
  {
   "cell_type": "code",
   "execution_count": 2,
   "id": "8adc3c5c",
   "metadata": {},
   "outputs": [],
   "source": [
    "df = pd.read_csv('Advertising.csv')"
   ]
  },
  {
   "cell_type": "code",
   "execution_count": 3,
   "id": "41737d21",
   "metadata": {},
   "outputs": [
    {
     "data": {
      "text/html": [
       "<div>\n",
       "<style scoped>\n",
       "    .dataframe tbody tr th:only-of-type {\n",
       "        vertical-align: middle;\n",
       "    }\n",
       "\n",
       "    .dataframe tbody tr th {\n",
       "        vertical-align: top;\n",
       "    }\n",
       "\n",
       "    .dataframe thead th {\n",
       "        text-align: right;\n",
       "    }\n",
       "</style>\n",
       "<table border=\"1\" class=\"dataframe\">\n",
       "  <thead>\n",
       "    <tr style=\"text-align: right;\">\n",
       "      <th></th>\n",
       "      <th>TV</th>\n",
       "      <th>radio</th>\n",
       "      <th>newspaper</th>\n",
       "      <th>sales</th>\n",
       "    </tr>\n",
       "  </thead>\n",
       "  <tbody>\n",
       "    <tr>\n",
       "      <th>0</th>\n",
       "      <td>230.1</td>\n",
       "      <td>37.8</td>\n",
       "      <td>69.2</td>\n",
       "      <td>22.1</td>\n",
       "    </tr>\n",
       "    <tr>\n",
       "      <th>1</th>\n",
       "      <td>44.5</td>\n",
       "      <td>39.3</td>\n",
       "      <td>45.1</td>\n",
       "      <td>10.4</td>\n",
       "    </tr>\n",
       "    <tr>\n",
       "      <th>2</th>\n",
       "      <td>17.2</td>\n",
       "      <td>45.9</td>\n",
       "      <td>69.3</td>\n",
       "      <td>9.3</td>\n",
       "    </tr>\n",
       "    <tr>\n",
       "      <th>3</th>\n",
       "      <td>151.5</td>\n",
       "      <td>41.3</td>\n",
       "      <td>58.5</td>\n",
       "      <td>18.5</td>\n",
       "    </tr>\n",
       "    <tr>\n",
       "      <th>4</th>\n",
       "      <td>180.8</td>\n",
       "      <td>10.8</td>\n",
       "      <td>58.4</td>\n",
       "      <td>12.9</td>\n",
       "    </tr>\n",
       "  </tbody>\n",
       "</table>\n",
       "</div>"
      ],
      "text/plain": [
       "      TV  radio  newspaper  sales\n",
       "0  230.1   37.8       69.2   22.1\n",
       "1   44.5   39.3       45.1   10.4\n",
       "2   17.2   45.9       69.3    9.3\n",
       "3  151.5   41.3       58.5   18.5\n",
       "4  180.8   10.8       58.4   12.9"
      ]
     },
     "execution_count": 3,
     "metadata": {},
     "output_type": "execute_result"
    }
   ],
   "source": [
    "df.head()"
   ]
  },
  {
   "cell_type": "markdown",
   "id": "da48526a",
   "metadata": {},
   "source": [
    "What we're actually going to do is first separate out our features from our label and then use preprocessing to create changes or new features from our original three features."
   ]
  },
  {
   "cell_type": "code",
   "execution_count": 4,
   "id": "7e136b82",
   "metadata": {},
   "outputs": [],
   "source": [
    "X = df.drop('sales', axis=1)\n",
    "y = df['sales']"
   ]
  },
  {
   "cell_type": "markdown",
   "id": "34e7f853",
   "metadata": {},
   "source": [
    "Now it's time for polynomial regression. Again, we do this with the __preprocessing library__ from Scikit_Learn."
   ]
  },
  {
   "cell_type": "code",
   "execution_count": 5,
   "id": "21837d63",
   "metadata": {},
   "outputs": [],
   "source": [
    "from sklearn.preprocessing import PolynomialFeatures"
   ]
  },
  {
   "cell_type": "markdown",
   "id": "27a4acb2",
   "metadata": {},
   "source": [
    "The way PolynomialFeatures works is it's in the same framework as just something like LinearRegression or any other model within sklearn. You create an instance of PolynomialFeatures and then you can actually fit to your data set."
   ]
  },
  {
   "cell_type": "code",
   "execution_count": 6,
   "id": "4854b042",
   "metadata": {
    "scrolled": true
   },
   "outputs": [],
   "source": [
    "polynomial_converter = PolynomialFeatures(degree=2, include_bias=False)"
   ]
  },
  {
   "cell_type": "markdown",
   "id": "4194cb94",
   "metadata": {},
   "source": [
    "The parameters:\n",
    "- __degree__ - to what order do you want to take the polynomial?\n",
    "- __interaction_only__ - whether you want only the interaction terms.\n",
    "- __include_bias__ - if you include the bias term, that's going to add in the array column of one values."
   ]
  },
  {
   "cell_type": "markdown",
   "id": "54409753",
   "metadata": {},
   "source": [
    "What polynomial_convertor is expecting is to be fit onto a data set, and fitting in this case means is it's going to grab and analyze all the feature values. It's not actually going to transform anything until you ask for it."
   ]
  },
  {
   "cell_type": "code",
   "execution_count": 7,
   "id": "9361254e",
   "metadata": {},
   "outputs": [
    {
     "data": {
      "text/plain": [
       "PolynomialFeatures(include_bias=False)"
      ]
     },
     "execution_count": 7,
     "metadata": {},
     "output_type": "execute_result"
    }
   ],
   "source": [
    "polynomial_converter.fit(X)"
   ]
  },
  {
   "cell_type": "markdown",
   "id": "515c5f9e",
   "metadata": {},
   "source": [
    "__Keep in mind__, we don't actually need to split this into a training set or test set yet because this is not our machine learning model, it's just a feature converter.\n",
    "\n",
    "However, if we actually want to transform it, then"
   ]
  },
  {
   "cell_type": "code",
   "execution_count": 8,
   "id": "32a93f87",
   "metadata": {
    "scrolled": true
   },
   "outputs": [
    {
     "data": {
      "text/plain": [
       "array([[ 230.1 ,   37.8 ,   69.2 , ..., 1428.84, 2615.76, 4788.64],\n",
       "       [  44.5 ,   39.3 ,   45.1 , ..., 1544.49, 1772.43, 2034.01],\n",
       "       [  17.2 ,   45.9 ,   69.3 , ..., 2106.81, 3180.87, 4802.49],\n",
       "       ...,\n",
       "       [ 177.  ,    9.3 ,    6.4 , ...,   86.49,   59.52,   40.96],\n",
       "       [ 283.6 ,   42.  ,   66.2 , ..., 1764.  , 2780.4 , 4382.44],\n",
       "       [ 232.1 ,    8.6 ,    8.7 , ...,   73.96,   74.82,   75.69]])"
      ]
     },
     "execution_count": 8,
     "metadata": {},
     "output_type": "execute_result"
    }
   ],
   "source": [
    "polynomial_converter.transform(X)"
   ]
  },
  {
   "cell_type": "code",
   "execution_count": 9,
   "id": "a5815b45",
   "metadata": {},
   "outputs": [
    {
     "data": {
      "text/plain": [
       "(200, 9)"
      ]
     },
     "execution_count": 9,
     "metadata": {},
     "output_type": "execute_result"
    }
   ],
   "source": [
    "polynomial_converter.transform(X).shape"
   ]
  },
  {
   "cell_type": "code",
   "execution_count": 10,
   "id": "7689d321",
   "metadata": {},
   "outputs": [
    {
     "data": {
      "text/plain": [
       "(200, 3)"
      ]
     },
     "execution_count": 10,
     "metadata": {},
     "output_type": "execute_result"
    }
   ],
   "source": [
    "X.shape"
   ]
  },
  {
   "cell_type": "code",
   "execution_count": 11,
   "id": "e2142eac",
   "metadata": {},
   "outputs": [
    {
     "data": {
      "text/plain": [
       "TV           230.1\n",
       "radio         37.8\n",
       "newspaper     69.2\n",
       "Name: 0, dtype: float64"
      ]
     },
     "execution_count": 11,
     "metadata": {},
     "output_type": "execute_result"
    }
   ],
   "source": [
    "X.iloc[0]"
   ]
  },
  {
   "cell_type": "code",
   "execution_count": 12,
   "id": "68e67cbc",
   "metadata": {},
   "outputs": [],
   "source": [
    "poly_features = polynomial_converter.transform(X)"
   ]
  },
  {
   "cell_type": "code",
   "execution_count": 13,
   "id": "39695584",
   "metadata": {},
   "outputs": [
    {
     "data": {
      "text/plain": [
       "array([2.301000e+02, 3.780000e+01, 6.920000e+01, 5.294601e+04,\n",
       "       8.697780e+03, 1.592292e+04, 1.428840e+03, 2.615760e+03,\n",
       "       4.788640e+03])"
      ]
     },
     "execution_count": 13,
     "metadata": {},
     "output_type": "execute_result"
    }
   ],
   "source": [
    "poly_features[0]"
   ]
  },
  {
   "cell_type": "markdown",
   "id": "af043815",
   "metadata": {},
   "source": [
    "So the first three values are your original x1, x2, x3. So it makes sense now that we have nine terms, the original three, the three possible interaction terms and then the three possible squared terms."
   ]
  },
  {
   "cell_type": "markdown",
   "id": "e1dc1601",
   "metadata": {},
   "source": [
    "And essentially what we're going to do is train on poly_features and do our train_test_split on poly_features as if it was our original data set.\n",
    "\n",
    "Because it's so common to fit and transform on the exact same data set, there's also a __`fit_transform() method`__."
   ]
  },
  {
   "cell_type": "code",
   "execution_count": 14,
   "id": "2eec6431",
   "metadata": {},
   "outputs": [
    {
     "data": {
      "text/plain": [
       "array([[ 230.1 ,   37.8 ,   69.2 , ..., 1428.84, 2615.76, 4788.64],\n",
       "       [  44.5 ,   39.3 ,   45.1 , ..., 1544.49, 1772.43, 2034.01],\n",
       "       [  17.2 ,   45.9 ,   69.3 , ..., 2106.81, 3180.87, 4802.49],\n",
       "       ...,\n",
       "       [ 177.  ,    9.3 ,    6.4 , ...,   86.49,   59.52,   40.96],\n",
       "       [ 283.6 ,   42.  ,   66.2 , ..., 1764.  , 2780.4 , 4382.44],\n",
       "       [ 232.1 ,    8.6 ,    8.7 , ...,   73.96,   74.82,   75.69]])"
      ]
     },
     "execution_count": 14,
     "metadata": {},
     "output_type": "execute_result"
    }
   ],
   "source": [
    "polynomial_converter.fit_transform(X) \n",
    "\n",
    "# it essentially does both steps at the same time"
   ]
  },
  {
   "cell_type": "code",
   "execution_count": 15,
   "id": "8140ed3b",
   "metadata": {},
   "outputs": [
    {
     "data": {
      "text/plain": [
       "array(['TV', 'radio', 'newspaper', 'TV^2', 'TV radio', 'TV newspaper',\n",
       "       'radio^2', 'radio newspaper', 'newspaper^2'], dtype=object)"
      ]
     },
     "execution_count": 15,
     "metadata": {},
     "output_type": "execute_result"
    }
   ],
   "source": [
    "polynomial_converter.get_feature_names_out()"
   ]
  },
  {
   "cell_type": "markdown",
   "id": "99b66937",
   "metadata": {},
   "source": [
    "---"
   ]
  },
  {
   "cell_type": "markdown",
   "id": "76a5861d",
   "metadata": {},
   "source": [
    "Well, the advertising data set is an example that we show, using polynomial regression gives better performance than just linear regression, due to interaction between the terms."
   ]
  },
  {
   "cell_type": "markdown",
   "id": "95a2e289",
   "metadata": {},
   "source": [
    "include_bias = True _ this would just add the intercept term to the power of 0, which is 1. Not really needed since the linear regression we call on this will have the bias term."
   ]
  },
  {
   "cell_type": "markdown",
   "id": "986dd7f7",
   "metadata": {},
   "source": [
    "__DO NOT confuse__ the terms __\"multiple linear regression\"__ with __\"polynomial regression\"__. Multiple means more than 1 x feature. Polynomial means you are raising those multiple features to x^2 x^3 etc..."
   ]
  },
  {
   "cell_type": "code",
   "execution_count": null,
   "id": "39c986e4",
   "metadata": {},
   "outputs": [],
   "source": []
  }
 ],
 "metadata": {
  "kernelspec": {
   "display_name": "Python 3 (ipykernel)",
   "language": "python",
   "name": "python3"
  },
  "language_info": {
   "codemirror_mode": {
    "name": "ipython",
    "version": 3
   },
   "file_extension": ".py",
   "mimetype": "text/x-python",
   "name": "python",
   "nbconvert_exporter": "python",
   "pygments_lexer": "ipython3",
   "version": "3.9.12"
  }
 },
 "nbformat": 4,
 "nbformat_minor": 5
}
