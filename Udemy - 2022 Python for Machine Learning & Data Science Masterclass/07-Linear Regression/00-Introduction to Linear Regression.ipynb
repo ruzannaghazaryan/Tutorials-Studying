{
 "cells": [
  {
   "cell_type": "markdown",
   "id": "b8114127",
   "metadata": {},
   "source": [
    "https://en.wikipedia.org/wiki/Simple_linear_regression\n",
    "<br>https://towardsdatascience.com/linear-regression-simplified-ordinary-least-square-vs-gradient-descent-48145de2cf76\n",
    "<br>https://www.youtube.com/watch?v=ewnc1cXJmGA"
   ]
  },
  {
   "cell_type": "markdown",
   "id": "1028c99f",
   "metadata": {},
   "source": [
    "---"
   ]
  },
  {
   "cell_type": "markdown",
   "id": "cabfbe94",
   "metadata": {},
   "source": [
    "- Put simply, a linear relationship implies some constant straight line relationship.\n",
    "- The simplest possible being y = x."
   ]
  },
  {
   "cell_type": "markdown",
   "id": "ec50864a",
   "metadata": {},
   "source": [
    "---"
   ]
  },
  {
   "cell_type": "code",
   "execution_count": 1,
   "id": "d817f009",
   "metadata": {},
   "outputs": [],
   "source": [
    "import numpy as np\n",
    "import matplotlib.pyplot as plt"
   ]
  },
  {
   "cell_type": "code",
   "execution_count": 2,
   "id": "73acce95",
   "metadata": {},
   "outputs": [],
   "source": [
    "x = [1, 2, 3]\n",
    "y = [1, 2, 3]"
   ]
  },
  {
   "cell_type": "code",
   "execution_count": 3,
   "id": "649d4e37",
   "metadata": {
    "scrolled": false
   },
   "outputs": [
    {
     "data": {
      "text/plain": [
       "<matplotlib.collections.PathCollection at 0x1f537b3ae08>"
      ]
     },
     "execution_count": 3,
     "metadata": {},
     "output_type": "execute_result"
    },
    {
     "data": {
      "image/png": "[encoded data removed]",
      "text/plain": [
       "<Figure size 432x288 with 1 Axes>"
      ]
     },
     "metadata": {
      "needs_background": "light"
     },
     "output_type": "display_data"
    }
   ],
   "source": [
    "plt.scatter(x=x, y=y)\n",
    "\n",
    "# plt.plot(x, y, 'o')"
   ]
  },
  {
   "cell_type": "markdown",
   "id": "1f121a13",
   "metadata": {},
   "source": [
    "We could then (based on the three real data points) build out the relationship y = x as our \"fitted\" line."
   ]
  },
  {
   "cell_type": "code",
   "execution_count": 7,
   "id": "88ae76a8",
   "metadata": {
    "scrolled": false
   },
   "outputs": [
    {
     "data": {
      "text/plain": [
       "[<matplotlib.lines.Line2D at 0x204e1937108>]"
      ]
     },
     "execution_count": 7,
     "metadata": {},
     "output_type": "execute_result"
    },
    {
     "data": {
      "image/png": "[encoded data removed]",
      "text/plain": [
       "<Figure size 432x288 with 1 Axes>"
      ]
     },
     "metadata": {
      "needs_background": "light"
     },
     "output_type": "display_data"
    }
   ],
   "source": [
    "plt.plot(x, y, ls='--', marker='o')"
   ]
  },
  {
   "cell_type": "markdown",
   "id": "74b2a0b4",
   "metadata": {},
   "source": [
    "---"
   ]
  },
  {
   "cell_type": "markdown",
   "id": "730d0c13",
   "metadata": {},
   "source": [
    "- But what's going to happen with real data is it's not going to fit perfectly on a straight line, so what we have to do is decide where do we actually draw this line of best fit?"
   ]
  },
  {
   "cell_type": "markdown",
   "id": "4c32205b",
   "metadata": {},
   "source": [
    "- Fundamentally, we understand we want to minimize the overall distance from the points to the line."
   ]
  },
  {
   "cell_type": "markdown",
   "id": "cc6d5bdc",
   "metadata": {},
   "source": [
    "---"
   ]
  },
  {
   "cell_type": "markdown",
   "id": "ca423e0e",
   "metadata": {},
   "source": [
    "<img src='Residual error.png' width=750>"
   ]
  },
  {
   "cell_type": "markdown",
   "id": "fb6bef99",
   "metadata": {},
   "source": [
    "---"
   ]
  },
  {
   "cell_type": "markdown",
   "id": "364ed8fc",
   "metadata": {},
   "source": [
    "<img src='rss.png'>"
   ]
  },
  {
   "cell_type": "markdown",
   "id": "f65a382a",
   "metadata": {},
   "source": [
    "RSS _ Residual Sum of Squares"
   ]
  },
  {
   "cell_type": "markdown",
   "id": "09a8b0d5",
   "metadata": {},
   "source": [
    "---"
   ]
  },
  {
   "cell_type": "markdown",
   "id": "dbfee225",
   "metadata": {},
   "source": [
    "- We can also see the __residuals__ can be both positive and negative. "
   ]
  },
  {
   "cell_type": "markdown",
   "id": "0ce2309d",
   "metadata": {},
   "source": [
    "- **Ordinary Least Squares (OLS)** works by minimizing the sum of the squares of the differences between the observed dependent variable in the given dataset (actual value) and those predicted by the linear function (predicted value)."
   ]
  },
  {
   "cell_type": "markdown",
   "id": "69ae1104",
   "metadata": {},
   "source": [
    "---"
   ]
  },
  {
   "cell_type": "markdown",
   "id": "547a8c58",
   "metadata": {},
   "source": [
    "### !!! Look through the images 1-9 (simple linear regression from copybook)"
   ]
  },
  {
   "cell_type": "markdown",
   "id": "5cbf43a7",
   "metadata": {},
   "source": [
    "---"
   ]
  },
  {
   "cell_type": "markdown",
   "id": "eec7d34e",
   "metadata": {},
   "source": [
    "- This is for __simple linear regression__ where we only have __one feature (independent)__.\n",
    "- When we expand to **<u>more than a single feature**, however, this analytical solution quickly becomes unscalable.\n",
    "  <br> So, instead of OLS, we should focus on minimizing a cost function with **<u>gradient descent**."
   ]
  },
  {
   "cell_type": "markdown",
   "id": "4567b6da",
   "metadata": {},
   "source": [
    "---"
   ]
  },
  {
   "cell_type": "markdown",
   "id": "5b677a53",
   "metadata": {},
   "source": [
    "__Standard deviation__ describes variability within a single sample, while __standard error__ describes variability across multiple samples of a population."
   ]
  },
  {
   "cell_type": "code",
   "execution_count": null,
   "id": "f99a3428",
   "metadata": {},
   "outputs": [],
   "source": []
  }
 ],
 "metadata": {
  "kernelspec": {
   "display_name": "Python 3 (ipykernel)",
   "language": "python",
   "name": "python3"
  },
  "language_info": {
   "codemirror_mode": {
    "name": "ipython",
    "version": 3
   },
   "file_extension": ".py",
   "mimetype": "text/x-python",
   "name": "python",
   "nbconvert_exporter": "python",
   "pygments_lexer": "ipython3",
   "version": "3.9.12"
  }
 },
 "nbformat": 4,
 "nbformat_minor": 5
}
