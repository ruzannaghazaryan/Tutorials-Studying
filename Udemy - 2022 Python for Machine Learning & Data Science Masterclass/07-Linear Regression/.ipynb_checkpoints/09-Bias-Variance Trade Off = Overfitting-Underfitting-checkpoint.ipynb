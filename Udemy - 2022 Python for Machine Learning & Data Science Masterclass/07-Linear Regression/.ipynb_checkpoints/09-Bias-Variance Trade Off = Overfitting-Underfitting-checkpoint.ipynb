{
 "cells": [
  {
   "attachments": {},
   "cell_type": "markdown",
   "id": "cbbcf0c0",
   "metadata": {},
   "source": [
    "<img src='ou1.png' width=600>"
   ]
  },
  {
   "cell_type": "markdown",
   "id": "a2d74fd9",
   "metadata": {},
   "source": [
    "---"
   ]
  },
  {
   "cell_type": "markdown",
   "id": "d5226e3a",
   "metadata": {},
   "source": [
    "<img src='0u2.png' width=550>"
   ]
  },
  {
   "cell_type": "markdown",
   "id": "a9168815",
   "metadata": {},
   "source": [
    "---"
   ]
  },
  {
   "cell_type": "markdown",
   "id": "30c2e344",
   "metadata": {},
   "source": [
    "### Overfitting\n",
    "- is when the model fits too much to the noise or variance from the data.\n",
    "- This often results in __low error on training sets, but high error on test or validation sets__."
   ]
  },
  {
   "cell_type": "markdown",
   "id": "a5799dc0",
   "metadata": {},
   "source": [
    "If we have a model that overfits, it means it's picking up too much noise from all the data."
   ]
  },
  {
   "cell_type": "markdown",
   "id": "bd95201b",
   "metadata": {},
   "source": [
    "---"
   ]
  },
  {
   "cell_type": "markdown",
   "id": "af164951",
   "metadata": {},
   "source": [
    "This is why it's so important to perform things like cross validation and train_test_splits and to also consider __training error versus testing error__ when you're deciding on __model complexity__."
   ]
  },
  {
   "cell_type": "markdown",
   "id": "f251d09b",
   "metadata": {},
   "source": [
    "---"
   ]
  },
  {
   "cell_type": "markdown",
   "id": "317aeccb",
   "metadata": {},
   "source": [
    "### Underfitting\n",
    "\n",
    "- The model does not capture the underlying trend of the data well enough and does not fit to the training data.\n",
    "- Low variance, but high bias.\n",
    "- Underfitting is often a result of an excessively simple model."
   ]
  },
  {
   "cell_type": "markdown",
   "id": "d394e87e",
   "metadata": {},
   "source": [
    "---"
   ]
  },
  {
   "cell_type": "code",
   "execution_count": null,
   "id": "ab09c77f",
   "metadata": {},
   "outputs": [],
   "source": []
  }
 ],
 "metadata": {
  "kernelspec": {
   "display_name": "Python 3 (ipykernel)",
   "language": "python",
   "name": "python3"
  },
  "language_info": {
   "codemirror_mode": {
    "name": "ipython",
    "version": 3
   },
   "file_extension": ".py",
   "mimetype": "text/x-python",
   "name": "python",
   "nbconvert_exporter": "python",
   "pygments_lexer": "ipython3",
   "version": "3.7.11"
  }
 },
 "nbformat": 4,
 "nbformat_minor": 5
}
