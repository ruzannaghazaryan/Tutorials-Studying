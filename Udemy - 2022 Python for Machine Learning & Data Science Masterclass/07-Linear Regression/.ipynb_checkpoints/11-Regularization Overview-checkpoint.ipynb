{
 "cells": [
  {
   "cell_type": "markdown",
   "id": "3d23cc25",
   "metadata": {},
   "source": [
    "# Regularization"
   ]
  },
  {
   "cell_type": "markdown",
   "id": "b6ee5208",
   "metadata": {},
   "source": [
    "- __Regularization__ seeks to solve a few common model issues by:\n",
    "    - Minimizing model complexity\n",
    "    - Penalizing the loss function\n",
    "    - Reducing model overfitting (add more bias to reduce model variance)"
   ]
  },
  {
   "cell_type": "markdown",
   "id": "045b282e",
   "metadata": {},
   "source": [
    "---"
   ]
  },
  {
   "cell_type": "markdown",
   "id": "d74fa4b5",
   "metadata": {},
   "source": [
    "__Regularization__ is all about adding in these __penalty hyperparameters__.\n",
    "\n",
    "Regularization is an additional tool to prevent overfitting, you can combine it with polynomial, it's usually very helpful, much more than just polynomial.\n",
    "\n"
   ]
  },
  {
   "cell_type": "markdown",
   "id": "699874c4",
   "metadata": {},
   "source": [
    "---"
   ]
  },
  {
   "cell_type": "markdown",
   "id": "92839beb",
   "metadata": {},
   "source": [
    "- __Three main types of regularization__:\n",
    "   - L1 regularization\n",
    "       - LASSO Regression\n",
    "   - L2 regularization\n",
    "       - RIDGE Regression\n",
    "   - Combining L1 and L2\n",
    "       - Elastic Net"
   ]
  },
  {
   "cell_type": "markdown",
   "id": "fd11e04c",
   "metadata": {},
   "source": [
    "---"
   ]
  },
  {
   "cell_type": "markdown",
   "id": "54cea32e",
   "metadata": {},
   "source": [
    "# L1 Regularization"
   ]
  },
  {
   "cell_type": "markdown",
   "id": "f9265cc0",
   "metadata": {},
   "source": [
    "- __L1 regularization__ adds a penalty equal to the __absolute value__ of the magnitude of the coefficients.\n",
    "    - Limits the size of the coefficients.\n",
    "    - Can yield sparse models where some coefficients can become zero. (We've already seen in our discussions on polynomial regressions that coefficients can get very small. When it comes to something like L1 regularization, it will go ahead and just treat those as zero, which can help you decide which features are not even to be considered in regards to your model's output.)"
   ]
  },
  {
   "cell_type": "markdown",
   "id": "ea698119",
   "metadata": {},
   "source": [
    "<img src='reg1.png' width=650>"
   ]
  },
  {
   "cell_type": "markdown",
   "id": "e1286468",
   "metadata": {},
   "source": [
    "The main thing to note here is that this is actually the same error we were trying to minimise - that residual sum of squares with the addition of a penalty term.\n",
    "\n",
    "__Lambda__ coefficient is a __hyperparameter__ that we can __tune__.\n",
    " - decides on how strong the penalty should be."
   ]
  },
  {
   "cell_type": "markdown",
   "id": "8974d85a",
   "metadata": {},
   "source": [
    "---"
   ]
  },
  {
   "cell_type": "markdown",
   "id": "5ae2ed72",
   "metadata": {},
   "source": [
    "# L2 Regularization"
   ]
  },
  {
   "cell_type": "markdown",
   "id": "7e9a33de",
   "metadata": {},
   "source": [
    "- __L2 regularization__, adds in a penalty equal to the __square__ of the magnitude of the coefficients."
   ]
  },
  {
   "cell_type": "markdown",
   "id": "e394680b",
   "metadata": {},
   "source": [
    "<img src='reg2.png' width=650>"
   ]
  },
  {
   "cell_type": "markdown",
   "id": "56d5a58d",
   "metadata": {},
   "source": [
    "---"
   ]
  },
  {
   "cell_type": "markdown",
   "id": "24b6cbd3",
   "metadata": {},
   "source": [
    "# Elastic Net"
   ]
  },
  {
   "cell_type": "markdown",
   "id": "5d946684",
   "metadata": {},
   "source": [
    "<img src='reg3.png' width=650>"
   ]
  },
  {
   "cell_type": "code",
   "execution_count": null,
   "id": "e7db0682",
   "metadata": {},
   "outputs": [],
   "source": []
  }
 ],
 "metadata": {
  "kernelspec": {
   "display_name": "Python 3 (ipykernel)",
   "language": "python",
   "name": "python3"
  },
  "language_info": {
   "codemirror_mode": {
    "name": "ipython",
    "version": 3
   },
   "file_extension": ".py",
   "mimetype": "text/x-python",
   "name": "python",
   "nbconvert_exporter": "python",
   "pygments_lexer": "ipython3",
   "version": "3.7.11"
  }
 },
 "nbformat": 4,
 "nbformat_minor": 5
}
