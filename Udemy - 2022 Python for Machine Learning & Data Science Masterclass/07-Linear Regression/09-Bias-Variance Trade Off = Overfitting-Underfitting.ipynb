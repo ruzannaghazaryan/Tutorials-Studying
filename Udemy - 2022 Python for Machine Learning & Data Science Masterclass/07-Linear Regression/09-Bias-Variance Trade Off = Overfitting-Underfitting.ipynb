{
 "cells": [
  {
   "cell_type": "markdown",
   "id": "f272d1cc",
   "metadata": {},
   "source": [
    "<img src='ou1.png' width=600>"
   ]
  },
  {
   "cell_type": "markdown",
   "id": "670d69c4",
   "metadata": {},
   "source": [
    "---"
   ]
  },
  {
   "cell_type": "markdown",
   "id": "98d5de5e",
   "metadata": {},
   "source": [
    "<img src='0u2.png' width=550>"
   ]
  },
  {
   "cell_type": "markdown",
   "id": "52d391b6",
   "metadata": {},
   "source": [
    "---"
   ]
  },
  {
   "cell_type": "markdown",
   "id": "115e7e00",
   "metadata": {},
   "source": [
    "### Overfitting\n",
    "- is when the model fits too much to the noise or variance from the data.\n",
    "- This often results in __low error on training sets, but high error on test or validation sets__."
   ]
  },
  {
   "cell_type": "markdown",
   "id": "97aa3c59",
   "metadata": {},
   "source": [
    "If we have a model that overfits, it means it's picking up too much noise from all the data.\n",
    "\n",
    "Basically, the model starts optimizing for zero error on the training data, rather than a more generalized model that will have some error on training data, but also perform ok on other new test data."
   ]
  },
  {
   "cell_type": "markdown",
   "id": "cf27a11b",
   "metadata": {},
   "source": [
    "---"
   ]
  },
  {
   "cell_type": "markdown",
   "id": "d550b722",
   "metadata": {},
   "source": [
    "This is why it's so important to perform things like cross validation and train_test_splits and to also consider __training error versus testing error__ when you're deciding on __model complexity__."
   ]
  },
  {
   "cell_type": "markdown",
   "id": "e60c2dc0",
   "metadata": {},
   "source": [
    "---"
   ]
  },
  {
   "cell_type": "markdown",
   "id": "50f81ca6",
   "metadata": {},
   "source": [
    "### Underfitting\n",
    "\n",
    "- The model does not capture the underlying trend of the data well enough and does not fit to the training data.\n",
    "- Low variance, but high bias.\n",
    "- Underfitting is often a result of an excessively simple model."
   ]
  },
  {
   "cell_type": "markdown",
   "id": "30018af8",
   "metadata": {},
   "source": [
    "---"
   ]
  },
  {
   "cell_type": "markdown",
   "id": "66f38db4",
   "metadata": {},
   "source": [
    "<img src='ou3.png' width=700>"
   ]
  },
  {
   "cell_type": "markdown",
   "id": "064be3f3",
   "metadata": {},
   "source": [
    "As you increase the complexity, your error goes lower.\n",
    "<br>And for the polynomial regression case, that would be your polynomial degree.\n",
    "<br>As you increase the degree of your polynomial, your error is going to go down in general."
   ]
  },
  {
   "cell_type": "markdown",
   "id": "31187812",
   "metadata": {},
   "source": [
    "---"
   ]
  },
  {
   "cell_type": "markdown",
   "id": "bd568616",
   "metadata": {},
   "source": [
    "What about a bad model?\n",
    "<br>A bad model would actually have an increase in error as you increase the complexity of the model."
   ]
  },
  {
   "cell_type": "markdown",
   "id": "55f8ce15",
   "metadata": {},
   "source": [
    "<img src='ou4.png' width=700>"
   ]
  },
  {
   "cell_type": "markdown",
   "id": "96ee4a36",
   "metadata": {},
   "source": [
    "---"
   ]
  },
  {
   "cell_type": "markdown",
   "id": "9a37165a",
   "metadata": {},
   "source": [
    "Eventually, when you're increasing your model complexity, your model is capturing every single piece of noise and variance in your training data set."
   ]
  },
  {
   "cell_type": "markdown",
   "id": "f215656a",
   "metadata": {},
   "source": [
    "---"
   ]
  },
  {
   "cell_type": "markdown",
   "id": "9f5119a4",
   "metadata": {},
   "source": [
    "So the way you can check for overfitting of your model is to simply plot out model complexity versus error for both the test set and the training set."
   ]
  },
  {
   "cell_type": "markdown",
   "id": "dba9517e",
   "metadata": {},
   "source": [
    "<img src='ou5.png' width=700>"
   ]
  },
  {
   "cell_type": "code",
   "execution_count": null,
   "id": "ef544013",
   "metadata": {},
   "outputs": [],
   "source": []
  }
 ],
 "metadata": {
  "kernelspec": {
   "display_name": "Python 3 (ipykernel)",
   "language": "python",
   "name": "python3"
  },
  "language_info": {
   "codemirror_mode": {
    "name": "ipython",
    "version": 3
   },
   "file_extension": ".py",
   "mimetype": "text/x-python",
   "name": "python",
   "nbconvert_exporter": "python",
   "pygments_lexer": "ipython3",
   "version": "3.9.12"
  }
 },
 "nbformat": 4,
 "nbformat_minor": 5
}
