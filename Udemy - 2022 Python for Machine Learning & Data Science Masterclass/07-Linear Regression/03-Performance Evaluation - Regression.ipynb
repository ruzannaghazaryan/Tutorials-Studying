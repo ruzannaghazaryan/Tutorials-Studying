{
 "cells": [
  {
   "cell_type": "markdown",
   "id": "2a041c46",
   "metadata": {},
   "source": [
    "- [from sklearn.metrics import mean_absolute_error, mean_squared_error](#metrics)\n",
    "- [np.sqrt()](#sqrt)"
   ]
  },
  {
   "cell_type": "markdown",
   "id": "8006b6ef",
   "metadata": {},
   "source": [
    "---\n",
    "---"
   ]
  },
  {
   "cell_type": "markdown",
   "id": "40b85bc0",
   "metadata": {},
   "source": [
    "__Regression__ is a task when a model attempts __to predict continuous values__ (unlike categorical values, which is a classification task)."
   ]
  },
  {
   "cell_type": "markdown",
   "id": "c27e383f",
   "metadata": {},
   "source": [
    "Some of the most common __evaluation metrics for regression__:\n",
    "- Mean Absolute Error\n",
    "- Mean Squared Error\n",
    "- Root Mean Square Error"
   ]
  },
  {
   "cell_type": "markdown",
   "id": "b4ff8c5a",
   "metadata": {},
   "source": [
    "---"
   ]
  },
  {
   "cell_type": "markdown",
   "id": "c28966cf",
   "metadata": {},
   "source": [
    "## `Mean Absolute Error (MAE)`"
   ]
  },
  {
   "cell_type": "markdown",
   "id": "b2e83470",
   "metadata": {},
   "source": [
    "__MAE won't punish large errors however.__"
   ]
  },
  {
   "cell_type": "markdown",
   "id": "a6a3b100",
   "metadata": {},
   "source": [
    "<img src='mae.png' width=800>"
   ]
  },
  {
   "cell_type": "markdown",
   "id": "8cd26f2d",
   "metadata": {},
   "source": [
    "Unfortunately, it's not going to punish when you're really off for just a few points."
   ]
  },
  {
   "cell_type": "markdown",
   "id": "d686be51",
   "metadata": {},
   "source": [
    "---\n",
    "---"
   ]
  },
  {
   "cell_type": "markdown",
   "id": "bafa4628",
   "metadata": {},
   "source": [
    "## `Mean Squared Error (MSE)`"
   ]
  },
  {
   "cell_type": "markdown",
   "id": "001a6a01",
   "metadata": {},
   "source": [
    "We want some sort of reporting metric that those take into account if you're extremely off even for just a few points.\n",
    "<br>To fix this, what we could do is use a mean squared error."
   ]
  },
  {
   "cell_type": "markdown",
   "id": "e5964bb2",
   "metadata": {},
   "source": [
    "<img src='mse.png' width=800>"
   ]
  },
  {
   "cell_type": "markdown",
   "id": "d086ca12",
   "metadata": {},
   "source": [
    "And when you __square the difference__, you're going to __really punish__ your model that __if it has a large error__, even for just a few points, __squaring__ it is really going to __increase the overall affect on the average__ of those few points that are really far off."
   ]
  },
  {
   "cell_type": "markdown",
   "id": "81ac87bc",
   "metadata": {},
   "source": [
    "There is an issue with mean squared error, and fundamentally the issue is that it's actually reporting back your __error in different units__ than your original Y value. So what it's actually reporting are __units of Y squared__.\n",
    "- If we think back to the example of predicting the price of a house, mean absolute error would report back your error in terms of dollars. It would say, on average you're off by X amount of dollars here.\n",
    "- Here, if we were to report back mean squared error, we would actually be reporting back how far you're off in squared dollars. And that's really hard to interpret."
   ]
  },
  {
   "cell_type": "markdown",
   "id": "250c4ba7",
   "metadata": {},
   "source": [
    "---\n",
    "---"
   ]
  },
  {
   "cell_type": "markdown",
   "id": "d44f4af9",
   "metadata": {},
   "source": [
    "## `Root Mean Square Error (RMSE)`"
   ]
  },
  {
   "cell_type": "markdown",
   "id": "a34a2a32",
   "metadata": {},
   "source": [
    "So, what we could do is to fix this issue and get it back into units of the original Y, we'll simply take the square root of everything after we're done and it's RMSE. And it's really analogous to a standard deviation instead of reporting back variance."
   ]
  },
  {
   "cell_type": "markdown",
   "id": "e8356efc",
   "metadata": {},
   "source": [
    "<img src='rmse.png' width=800>"
   ]
  },
  {
   "cell_type": "markdown",
   "id": "c4efb69d",
   "metadata": {},
   "source": [
    "And this is one of the most popular metrics because it's going to __punish those larger errors by squaring__ them. And it also fixes the issue of the squared units of Y by taking the square root, since this is reporting back your __error in the same units as your original Y value__ and it's punishing those larger values."
   ]
  },
  {
   "cell_type": "markdown",
   "id": "e22f06dd",
   "metadata": {},
   "source": [
    "<img src='goodValueForRMSE.png' width=800>"
   ]
  },
  {
   "cell_type": "markdown",
   "id": "81f1ea92",
   "metadata": {},
   "source": [
    "You should also be __comparing your error metric to the average value of the label__ in your data set to try to get an intuition of its overall performance."
   ]
  },
  {
   "cell_type": "markdown",
   "id": "222564b4",
   "metadata": {},
   "source": [
    "---\n",
    "---\n",
    "---\n",
    "---"
   ]
  },
  {
   "cell_type": "code",
   "execution_count": 1,
   "id": "95ade429",
   "metadata": {},
   "outputs": [],
   "source": [
    "import numpy as np\n",
    "import pandas as pd\n",
    "import matplotlib.pyplot as plt\n",
    "import seaborn as sns"
   ]
  },
  {
   "cell_type": "code",
   "execution_count": 2,
   "id": "72ee7d94",
   "metadata": {},
   "outputs": [],
   "source": [
    "df = pd.read_csv('Advertising.csv')"
   ]
  },
  {
   "cell_type": "code",
   "execution_count": 3,
   "id": "a8cc7a67",
   "metadata": {
    "scrolled": true
   },
   "outputs": [
    {
     "data": {
      "text/html": [
       "<div>\n",
       "<style scoped>\n",
       "    .dataframe tbody tr th:only-of-type {\n",
       "        vertical-align: middle;\n",
       "    }\n",
       "\n",
       "    .dataframe tbody tr th {\n",
       "        vertical-align: top;\n",
       "    }\n",
       "\n",
       "    .dataframe thead th {\n",
       "        text-align: right;\n",
       "    }\n",
       "</style>\n",
       "<table border=\"1\" class=\"dataframe\">\n",
       "  <thead>\n",
       "    <tr style=\"text-align: right;\">\n",
       "      <th></th>\n",
       "      <th>TV</th>\n",
       "      <th>radio</th>\n",
       "      <th>newspaper</th>\n",
       "      <th>sales</th>\n",
       "    </tr>\n",
       "  </thead>\n",
       "  <tbody>\n",
       "    <tr>\n",
       "      <th>0</th>\n",
       "      <td>230.1</td>\n",
       "      <td>37.8</td>\n",
       "      <td>69.2</td>\n",
       "      <td>22.1</td>\n",
       "    </tr>\n",
       "    <tr>\n",
       "      <th>1</th>\n",
       "      <td>44.5</td>\n",
       "      <td>39.3</td>\n",
       "      <td>45.1</td>\n",
       "      <td>10.4</td>\n",
       "    </tr>\n",
       "    <tr>\n",
       "      <th>2</th>\n",
       "      <td>17.2</td>\n",
       "      <td>45.9</td>\n",
       "      <td>69.3</td>\n",
       "      <td>9.3</td>\n",
       "    </tr>\n",
       "    <tr>\n",
       "      <th>3</th>\n",
       "      <td>151.5</td>\n",
       "      <td>41.3</td>\n",
       "      <td>58.5</td>\n",
       "      <td>18.5</td>\n",
       "    </tr>\n",
       "    <tr>\n",
       "      <th>4</th>\n",
       "      <td>180.8</td>\n",
       "      <td>10.8</td>\n",
       "      <td>58.4</td>\n",
       "      <td>12.9</td>\n",
       "    </tr>\n",
       "  </tbody>\n",
       "</table>\n",
       "</div>"
      ],
      "text/plain": [
       "      TV  radio  newspaper  sales\n",
       "0  230.1   37.8       69.2   22.1\n",
       "1   44.5   39.3       45.1   10.4\n",
       "2   17.2   45.9       69.3    9.3\n",
       "3  151.5   41.3       58.5   18.5\n",
       "4  180.8   10.8       58.4   12.9"
      ]
     },
     "execution_count": 3,
     "metadata": {},
     "output_type": "execute_result"
    }
   ],
   "source": [
    "df.head()"
   ]
  },
  {
   "cell_type": "code",
   "execution_count": 4,
   "id": "95574f72",
   "metadata": {},
   "outputs": [],
   "source": [
    "X = df.drop('sales', axis=1)\n",
    "y = df['sales']"
   ]
  },
  {
   "cell_type": "code",
   "execution_count": 5,
   "id": "74163bbc",
   "metadata": {},
   "outputs": [],
   "source": [
    "from sklearn.model_selection import train_test_split"
   ]
  },
  {
   "cell_type": "code",
   "execution_count": 6,
   "id": "34d6d5af",
   "metadata": {},
   "outputs": [],
   "source": [
    "X_train, X_test, y_train, y_test = train_test_split(X, y, test_size=0.3, random_state=101)"
   ]
  },
  {
   "cell_type": "code",
   "execution_count": 7,
   "id": "e928fc25",
   "metadata": {},
   "outputs": [],
   "source": [
    "from sklearn.linear_model import LinearRegression"
   ]
  },
  {
   "cell_type": "code",
   "execution_count": 8,
   "id": "03769bb0",
   "metadata": {},
   "outputs": [],
   "source": [
    "model = LinearRegression()"
   ]
  },
  {
   "cell_type": "code",
   "execution_count": 11,
   "id": "a5bc1297",
   "metadata": {},
   "outputs": [
    {
     "data": {
      "text/plain": [
       "LinearRegression()"
      ]
     },
     "execution_count": 11,
     "metadata": {},
     "output_type": "execute_result"
    }
   ],
   "source": [
    "model.fit(X_train, y_train)"
   ]
  },
  {
   "cell_type": "code",
   "execution_count": 13,
   "id": "3c2287d1",
   "metadata": {},
   "outputs": [
    {
     "data": {
      "text/html": [
       "<div>\n",
       "<style scoped>\n",
       "    .dataframe tbody tr th:only-of-type {\n",
       "        vertical-align: middle;\n",
       "    }\n",
       "\n",
       "    .dataframe tbody tr th {\n",
       "        vertical-align: top;\n",
       "    }\n",
       "\n",
       "    .dataframe thead th {\n",
       "        text-align: right;\n",
       "    }\n",
       "</style>\n",
       "<table border=\"1\" class=\"dataframe\">\n",
       "  <thead>\n",
       "    <tr style=\"text-align: right;\">\n",
       "      <th></th>\n",
       "      <th>TV</th>\n",
       "      <th>radio</th>\n",
       "      <th>newspaper</th>\n",
       "    </tr>\n",
       "  </thead>\n",
       "  <tbody>\n",
       "    <tr>\n",
       "      <th>37</th>\n",
       "      <td>74.7</td>\n",
       "      <td>49.4</td>\n",
       "      <td>45.7</td>\n",
       "    </tr>\n",
       "    <tr>\n",
       "      <th>109</th>\n",
       "      <td>255.4</td>\n",
       "      <td>26.9</td>\n",
       "      <td>5.5</td>\n",
       "    </tr>\n",
       "    <tr>\n",
       "      <th>31</th>\n",
       "      <td>112.9</td>\n",
       "      <td>17.4</td>\n",
       "      <td>38.6</td>\n",
       "    </tr>\n",
       "    <tr>\n",
       "      <th>89</th>\n",
       "      <td>109.8</td>\n",
       "      <td>47.8</td>\n",
       "      <td>51.4</td>\n",
       "    </tr>\n",
       "    <tr>\n",
       "      <th>66</th>\n",
       "      <td>31.5</td>\n",
       "      <td>24.6</td>\n",
       "      <td>2.2</td>\n",
       "    </tr>\n",
       "  </tbody>\n",
       "</table>\n",
       "</div>"
      ],
      "text/plain": [
       "        TV  radio  newspaper\n",
       "37    74.7   49.4       45.7\n",
       "109  255.4   26.9        5.5\n",
       "31   112.9   17.4       38.6\n",
       "89   109.8   47.8       51.4\n",
       "66    31.5   24.6        2.2"
      ]
     },
     "execution_count": 13,
     "metadata": {},
     "output_type": "execute_result"
    }
   ],
   "source": [
    "X_test.head()"
   ]
  },
  {
   "cell_type": "code",
   "execution_count": 14,
   "id": "a904cbbb",
   "metadata": {},
   "outputs": [
    {
     "data": {
      "text/plain": [
       "37     14.7\n",
       "109    19.8\n",
       "31     11.9\n",
       "89     16.7\n",
       "66      9.5\n",
       "Name: sales, dtype: float64"
      ]
     },
     "execution_count": 14,
     "metadata": {},
     "output_type": "execute_result"
    }
   ],
   "source": [
    "y_test.head()"
   ]
  },
  {
   "cell_type": "code",
   "execution_count": 15,
   "id": "9f7c0e89",
   "metadata": {
    "scrolled": true
   },
   "outputs": [
    {
     "data": {
      "text/plain": [
       "array([15.74131332, 19.61062568, 11.44888935, 17.00819787,  9.17285676,\n",
       "        7.01248287, 20.28992463, 17.29953992,  9.77584467, 19.22194224,\n",
       "       12.40503154, 13.89234998, 13.72541098, 21.28794031, 18.42456638,\n",
       "        9.98198406, 15.55228966,  7.68913693,  7.55614992, 20.40311209,\n",
       "        7.79215204, 18.24214098, 24.68631904, 22.82199068,  7.97962085,\n",
       "       12.65207264, 21.46925937,  8.05228573, 12.42315981, 12.50719678,\n",
       "       10.77757812, 19.24460093, 10.070269  ,  6.70779999, 17.31492147,\n",
       "        7.76764327,  9.25393336,  8.27834697, 10.58105585, 10.63591128,\n",
       "       13.01002595,  9.77192057, 10.21469861,  8.04572042, 11.5671075 ,\n",
       "       10.08368001,  8.99806574, 16.25388914, 13.23942315, 20.81493419,\n",
       "       12.49727439, 13.96615898, 17.56285075, 11.14537013, 12.56261468,\n",
       "        5.50870279, 23.29465134, 12.62409688, 18.77399978, 15.18785675])"
      ]
     },
     "execution_count": 15,
     "metadata": {},
     "output_type": "execute_result"
    }
   ],
   "source": [
    "test_predictions = model.predict(X_test)\n",
    "test_predictions # It's just an array of predicted values."
   ]
  },
  {
   "cell_type": "code",
   "execution_count": 17,
   "id": "1b0c2777",
   "metadata": {},
   "outputs": [],
   "source": [
    "from sklearn.metrics import mean_absolute_error, mean_squared_error\n",
    "\n",
    "# and for the root mean square error (RMSE), I can simply take the square root of mean squared error"
   ]
  },
  {
   "cell_type": "code",
   "execution_count": 18,
   "id": "9c630c9b",
   "metadata": {},
   "outputs": [
    {
     "data": {
      "text/plain": [
       "14.022500000000003"
      ]
     },
     "execution_count": 18,
     "metadata": {},
     "output_type": "execute_result"
    }
   ],
   "source": [
    "df['sales'].mean()"
   ]
  },
  {
   "cell_type": "code",
   "execution_count": 22,
   "id": "0ac37928",
   "metadata": {},
   "outputs": [
    {
     "data": {
      "text/plain": [
       "<AxesSubplot:xlabel='sales', ylabel='Count'>"
      ]
     },
     "execution_count": 22,
     "metadata": {},
     "output_type": "execute_result"
    },
    {
     "data": {
      "image/png": "[encoded data removed]",
      "text/plain": [
       "<Figure size 432x288 with 1 Axes>"
      ]
     },
     "metadata": {
      "needs_background": "light"
     },
     "output_type": "display_data"
    }
   ],
   "source": [
    "sns.histplot(data=df, x='sales')"
   ]
  },
  {
   "cell_type": "code",
   "execution_count": 23,
   "id": "1852af64",
   "metadata": {},
   "outputs": [
    {
     "data": {
      "text/plain": [
       "<AxesSubplot:xlabel='sales', ylabel='Count'>"
      ]
     },
     "execution_count": 23,
     "metadata": {},
     "output_type": "execute_result"
    },
    {
     "data": {
      "image/png": "[encoded data removed]",
      "text/plain": [
       "<Figure size 432x288 with 1 Axes>"
      ]
     },
     "metadata": {
      "needs_background": "light"
     },
     "output_type": "display_data"
    }
   ],
   "source": [
    "sns.histplot(data=df, x='sales', bins=20)"
   ]
  },
  {
   "cell_type": "code",
   "execution_count": 29,
   "id": "19b411b5",
   "metadata": {},
   "outputs": [
    {
     "data": {
      "text/plain": [
       "1.2137457736144808"
      ]
     },
     "execution_count": 29,
     "metadata": {},
     "output_type": "execute_result"
    }
   ],
   "source": [
    "mean_absolute_error(y_test, test_predictions)\n",
    "\n",
    "# its around 10% of the mean y target value"
   ]
  },
  {
   "cell_type": "markdown",
   "id": "a2d16cfe",
   "metadata": {},
   "source": [
    "So the obvious question is, is this a good mean_absolute_error value?\n",
    "\n",
    "Of course, context is everything. Did I already have a historical model that tried to predict sales based off features? If so, I should be comparing my current mean absolute error to that historical model.\n",
    "\n",
    "I can see that my average sales value is about 14 and I can see the distribution kind of goes from five to twenty five. <br>And then my mean absolute error is 1.2137457736144808, basically, on average, I'm off by 1.21. <br>Is that good or bad when compared to 14? Let's say, it's a 10 percent error range.\n",
    "\n",
    "So, on data that the model has never seen before, on average is going to be off by 1.21, which if I compare it to my average sales value, is a little less than 10 percent."
   ]
  },
  {
   "cell_type": "markdown",
   "id": "44357cb9",
   "metadata": {},
   "source": [
    "---"
   ]
  },
  {
   "cell_type": "markdown",
   "id": "7ae5233e",
   "metadata": {},
   "source": [
    "But this (MAE), again, doesn't take into account situations where my model could be really far off for just a few points. For that, I'm going to want mean squared error and then root mean square error."
   ]
  },
  {
   "cell_type": "code",
   "execution_count": 26,
   "id": "3c96239a",
   "metadata": {},
   "outputs": [
    {
     "data": {
      "text/plain": [
       "2.298716697886378"
      ]
     },
     "execution_count": 26,
     "metadata": {},
     "output_type": "execute_result"
    }
   ],
   "source": [
    "mean_squared_error(y_test, test_predictions)"
   ]
  },
  {
   "cell_type": "markdown",
   "id": "19f4ffcb",
   "metadata": {},
   "source": [
    "This value, however, I cannot directly compare to the mean because this is now in squared terms of y."
   ]
  },
  {
   "cell_type": "code",
   "execution_count": 28,
   "id": "82b3df92",
   "metadata": {},
   "outputs": [
    {
     "data": {
      "text/plain": [
       "1.5161519375993877"
      ]
     },
     "execution_count": 28,
     "metadata": {},
     "output_type": "execute_result"
    }
   ],
   "source": [
    "# RMSE\n",
    "\n",
    "np.sqrt(mean_squared_error(y_test, test_predictions))"
   ]
  },
  {
   "cell_type": "markdown",
   "id": "4ceb0557",
   "metadata": {},
   "source": [
    "It's kind of around that 10 percent range."
   ]
  },
  {
   "cell_type": "markdown",
   "id": "d7846a70",
   "metadata": {},
   "source": [
    "---"
   ]
  },
  {
   "cell_type": "markdown",
   "id": "38067b8a",
   "metadata": {},
   "source": [
    "### !!!\n",
    "\n",
    "So what I like to do is kind of __use both mean absolute error__ to make sure on average I'm doing pretty good and also __root mean square error__ to make sure I'm not super far off for just a few data points."
   ]
  },
  {
   "cell_type": "markdown",
   "id": "71e9ece0",
   "metadata": {},
   "source": [
    "---"
   ]
  },
  {
   "cell_type": "markdown",
   "id": "bed6d46e",
   "metadata": {},
   "source": [
    "If you got a __mean absolute error__ that was performing __OK__, but you got a really __horrible root mean square error__, then that's basically informing you that your model is performing pretty well for most points. But you have a few data points where you're way off and that is going to show up when you're squaring that error.\n",
    "\n",
    "MAE won't let you know how well you are performing on outliers."
   ]
  },
  {
   "cell_type": "markdown",
   "id": "f05636df",
   "metadata": {},
   "source": [
    "---"
   ]
  },
  {
   "cell_type": "markdown",
   "id": "bb69498d",
   "metadata": {},
   "source": [
    "- What is the relationship between \"Cost Function\" and MAE/RMSE?\n",
    "  - You mean a direct relationship? There isn't really one. They aren't related as cost function and final RMSE are on two different data sets. "
   ]
  },
  {
   "cell_type": "markdown",
   "id": "ab8544ba",
   "metadata": {},
   "source": [
    "---"
   ]
  },
  {
   "cell_type": "markdown",
   "id": "44171cfa",
   "metadata": {},
   "source": [
    "MAE calculates the mean error but it does not account the outliers means it is not capable of telling how well our model is when we have outliers.\n",
    "\n",
    "But in case of RMSE, it tells us that if I am(RMSE) large means your model is not good for outliers but if I am small means model is performing well for every data point even for outliers."
   ]
  },
  {
   "cell_type": "markdown",
   "id": "f8ddac76",
   "metadata": {},
   "source": [
    "---"
   ]
  },
  {
   "cell_type": "code",
   "execution_count": null,
   "id": "4d502850",
   "metadata": {},
   "outputs": [],
   "source": []
  }
 ],
 "metadata": {
  "kernelspec": {
   "display_name": "Python 3 (ipykernel)",
   "language": "python",
   "name": "python3"
  },
  "language_info": {
   "codemirror_mode": {
    "name": "ipython",
    "version": 3
   },
   "file_extension": ".py",
   "mimetype": "text/x-python",
   "name": "python",
   "nbconvert_exporter": "python",
   "pygments_lexer": "ipython3",
   "version": "3.9.12"
  }
 },
 "nbformat": 4,
 "nbformat_minor": 5
}
