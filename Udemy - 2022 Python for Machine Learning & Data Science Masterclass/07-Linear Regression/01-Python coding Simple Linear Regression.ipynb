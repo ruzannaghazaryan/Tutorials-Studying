{
 "cells": [
  {
   "cell_type": "markdown",
   "id": "bd1fbe61",
   "metadata": {},
   "source": [
    "- [sns.regplot(data=, x='', y='')](#regplot) for simple linear regression\n",
    "- [np.polyfit(X, y, deg=)](#polyfit) to find theta_0, theta_1 .. parameters\n",
    "- [from sklearn.model_selection import train_test_split](#traintestsplit)\n",
    "- [the general framework code for essentially any supervised learning algorithm within sklearn](#framework)"
   ]
  },
  {
   "cell_type": "markdown",
   "id": "e816a51b",
   "metadata": {},
   "source": [
    "---"
   ]
  },
  {
   "cell_type": "markdown",
   "id": "6f231864",
   "metadata": {},
   "source": [
    "Chapter 3.1 _ The book ISLR\n",
    "<br>https://towardsdatascience.com/linear-regression-using-gradient-descent-in-10-lines-of-code-642f995339c0"
   ]
  },
  {
   "cell_type": "markdown",
   "id": "aea1c197",
   "metadata": {},
   "source": [
    "---"
   ]
  },
  {
   "cell_type": "code",
   "execution_count": 28,
   "id": "2b6b8ea9",
   "metadata": {},
   "outputs": [],
   "source": [
    "# \"Zero\" is the usual name for the number 0 in English. In British English \"nought\" is also used."
   ]
  },
  {
   "cell_type": "markdown",
   "id": "661161ad",
   "metadata": {},
   "source": [
    "---"
   ]
  },
  {
   "cell_type": "code",
   "execution_count": 2,
   "id": "6de7f0a5",
   "metadata": {},
   "outputs": [],
   "source": [
    "import numpy as np\n",
    "import pandas as pd\n",
    "import matplotlib.pyplot as plt\n",
    "import seaborn as sns"
   ]
  },
  {
   "cell_type": "code",
   "execution_count": 3,
   "id": "c0a8cc7a",
   "metadata": {},
   "outputs": [],
   "source": [
    "df = pd.read_csv('Advertising.csv')"
   ]
  },
  {
   "cell_type": "code",
   "execution_count": 3,
   "id": "216417e5",
   "metadata": {
    "scrolled": true
   },
   "outputs": [
    {
     "data": {
      "text/html": [
       "<div>\n",
       "<style scoped>\n",
       "    .dataframe tbody tr th:only-of-type {\n",
       "        vertical-align: middle;\n",
       "    }\n",
       "\n",
       "    .dataframe tbody tr th {\n",
       "        vertical-align: top;\n",
       "    }\n",
       "\n",
       "    .dataframe thead th {\n",
       "        text-align: right;\n",
       "    }\n",
       "</style>\n",
       "<table border=\"1\" class=\"dataframe\">\n",
       "  <thead>\n",
       "    <tr style=\"text-align: right;\">\n",
       "      <th></th>\n",
       "      <th>TV</th>\n",
       "      <th>radio</th>\n",
       "      <th>newspaper</th>\n",
       "      <th>sales</th>\n",
       "    </tr>\n",
       "  </thead>\n",
       "  <tbody>\n",
       "    <tr>\n",
       "      <th>0</th>\n",
       "      <td>230.1</td>\n",
       "      <td>37.8</td>\n",
       "      <td>69.2</td>\n",
       "      <td>22.1</td>\n",
       "    </tr>\n",
       "    <tr>\n",
       "      <th>1</th>\n",
       "      <td>44.5</td>\n",
       "      <td>39.3</td>\n",
       "      <td>45.1</td>\n",
       "      <td>10.4</td>\n",
       "    </tr>\n",
       "    <tr>\n",
       "      <th>2</th>\n",
       "      <td>17.2</td>\n",
       "      <td>45.9</td>\n",
       "      <td>69.3</td>\n",
       "      <td>9.3</td>\n",
       "    </tr>\n",
       "    <tr>\n",
       "      <th>3</th>\n",
       "      <td>151.5</td>\n",
       "      <td>41.3</td>\n",
       "      <td>58.5</td>\n",
       "      <td>18.5</td>\n",
       "    </tr>\n",
       "    <tr>\n",
       "      <th>4</th>\n",
       "      <td>180.8</td>\n",
       "      <td>10.8</td>\n",
       "      <td>58.4</td>\n",
       "      <td>12.9</td>\n",
       "    </tr>\n",
       "  </tbody>\n",
       "</table>\n",
       "</div>"
      ],
      "text/plain": [
       "      TV  radio  newspaper  sales\n",
       "0  230.1   37.8       69.2   22.1\n",
       "1   44.5   39.3       45.1   10.4\n",
       "2   17.2   45.9       69.3    9.3\n",
       "3  151.5   41.3       58.5   18.5\n",
       "4  180.8   10.8       58.4   12.9"
      ]
     },
     "execution_count": 3,
     "metadata": {},
     "output_type": "execute_result"
    }
   ],
   "source": [
    "df.head()"
   ]
  },
  {
   "cell_type": "markdown",
   "id": "5c156559",
   "metadata": {},
   "source": [
    "We want to find out, is there a relationship between how much we're spending on advertising versus the results we get in sales?\n",
    "\n",
    "Obviously, if there is no correlation there, we probably don't want to spend any money on advertising.\n",
    "\n",
    "As we're dealing with simple linear regression, we're limited to just a single feature X.\n",
    "<br>What we could do is just combine all of these into total spend."
   ]
  },
  {
   "cell_type": "code",
   "execution_count": 4,
   "id": "ca2140e1",
   "metadata": {},
   "outputs": [],
   "source": [
    "df['total_spend'] = df['TV'] + df['radio'] + df['newspaper']"
   ]
  },
  {
   "cell_type": "code",
   "execution_count": 5,
   "id": "bb9e7b35",
   "metadata": {
    "scrolled": false
   },
   "outputs": [
    {
     "data": {
      "text/html": [
       "<div>\n",
       "<style scoped>\n",
       "    .dataframe tbody tr th:only-of-type {\n",
       "        vertical-align: middle;\n",
       "    }\n",
       "\n",
       "    .dataframe tbody tr th {\n",
       "        vertical-align: top;\n",
       "    }\n",
       "\n",
       "    .dataframe thead th {\n",
       "        text-align: right;\n",
       "    }\n",
       "</style>\n",
       "<table border=\"1\" class=\"dataframe\">\n",
       "  <thead>\n",
       "    <tr style=\"text-align: right;\">\n",
       "      <th></th>\n",
       "      <th>TV</th>\n",
       "      <th>radio</th>\n",
       "      <th>newspaper</th>\n",
       "      <th>sales</th>\n",
       "      <th>total_spend</th>\n",
       "    </tr>\n",
       "  </thead>\n",
       "  <tbody>\n",
       "    <tr>\n",
       "      <th>0</th>\n",
       "      <td>230.1</td>\n",
       "      <td>37.8</td>\n",
       "      <td>69.2</td>\n",
       "      <td>22.1</td>\n",
       "      <td>337.1</td>\n",
       "    </tr>\n",
       "    <tr>\n",
       "      <th>1</th>\n",
       "      <td>44.5</td>\n",
       "      <td>39.3</td>\n",
       "      <td>45.1</td>\n",
       "      <td>10.4</td>\n",
       "      <td>128.9</td>\n",
       "    </tr>\n",
       "    <tr>\n",
       "      <th>2</th>\n",
       "      <td>17.2</td>\n",
       "      <td>45.9</td>\n",
       "      <td>69.3</td>\n",
       "      <td>9.3</td>\n",
       "      <td>132.4</td>\n",
       "    </tr>\n",
       "    <tr>\n",
       "      <th>3</th>\n",
       "      <td>151.5</td>\n",
       "      <td>41.3</td>\n",
       "      <td>58.5</td>\n",
       "      <td>18.5</td>\n",
       "      <td>251.3</td>\n",
       "    </tr>\n",
       "    <tr>\n",
       "      <th>4</th>\n",
       "      <td>180.8</td>\n",
       "      <td>10.8</td>\n",
       "      <td>58.4</td>\n",
       "      <td>12.9</td>\n",
       "      <td>250.0</td>\n",
       "    </tr>\n",
       "  </tbody>\n",
       "</table>\n",
       "</div>"
      ],
      "text/plain": [
       "      TV  radio  newspaper  sales  total_spend\n",
       "0  230.1   37.8       69.2   22.1        337.1\n",
       "1   44.5   39.3       45.1   10.4        128.9\n",
       "2   17.2   45.9       69.3    9.3        132.4\n",
       "3  151.5   41.3       58.5   18.5        251.3\n",
       "4  180.8   10.8       58.4   12.9        250.0"
      ]
     },
     "execution_count": 5,
     "metadata": {},
     "output_type": "execute_result"
    }
   ],
   "source": [
    "df.head()"
   ]
  },
  {
   "cell_type": "code",
   "execution_count": 10,
   "id": "a8a0e535",
   "metadata": {},
   "outputs": [
    {
     "data": {
      "text/plain": [
       "(200, 5)"
      ]
     },
     "execution_count": 10,
     "metadata": {},
     "output_type": "execute_result"
    }
   ],
   "source": [
    "df.shape"
   ]
  },
  {
   "cell_type": "markdown",
   "id": "dc682e44",
   "metadata": {},
   "source": [
    "---"
   ]
  },
  {
   "cell_type": "markdown",
   "id": "e9b687dc",
   "metadata": {},
   "source": [
    "Let's visually explore if there appears to be a relationship between total advertising spend and sales."
   ]
  },
  {
   "cell_type": "code",
   "execution_count": 6,
   "id": "38433ef4",
   "metadata": {
    "scrolled": true
   },
   "outputs": [
    {
     "data": {
      "text/plain": [
       "<AxesSubplot:xlabel='total_spend', ylabel='sales'>"
      ]
     },
     "execution_count": 6,
     "metadata": {},
     "output_type": "execute_result"
    },
    {
     "data": {
      "image/png": "[encoded data removed]",
      "text/plain": [
       "<Figure size 432x288 with 1 Axes>"
      ]
     },
     "metadata": {
      "needs_background": "light"
     },
     "output_type": "display_data"
    }
   ],
   "source": [
    "sns.scatterplot(data=df, x='total_spend', y='sales')"
   ]
  },
  {
   "cell_type": "markdown",
   "id": "a5c8f265",
   "metadata": {},
   "source": [
    "I can see that the more I spend on advertising, the likelihood is that I'm going to get more sales.\n",
    "<br>So there does appear to be a relationship between total advertising spend and sales."
   ]
  },
  {
   "cell_type": "markdown",
   "id": "cd5321c4",
   "metadata": {},
   "source": [
    "---"
   ]
  },
  {
   "cell_type": "markdown",
   "id": "47cf8a86",
   "metadata": {},
   "source": [
    "<a id='regplot'></a>\n",
    "### `sns.regplot()`"
   ]
  },
  {
   "cell_type": "markdown",
   "id": "746deddc",
   "metadata": {},
   "source": [
    "In the seaborn library exists a sns.regplot(), which is a regression line plot.\n",
    "<br>For the case of simple linear regression, where you just have one y vector and one x feature, seaborn is actually able to plot out a regression line using ordinary least squares."
   ]
  },
  {
   "cell_type": "code",
   "execution_count": 7,
   "id": "d1c1ae08",
   "metadata": {},
   "outputs": [
    {
     "data": {
      "text/plain": [
       "<AxesSubplot:xlabel='total_spend', ylabel='sales'>"
      ]
     },
     "execution_count": 7,
     "metadata": {},
     "output_type": "execute_result"
    },
    {
     "data": {
      "image/png": "[encoded data removed]",
      "text/plain": [
       "<Figure size 432x288 with 1 Axes>"
      ]
     },
     "metadata": {
      "needs_background": "light"
     },
     "output_type": "display_data"
    }
   ],
   "source": [
    "sns.regplot(data=df, x='total_spend', y='sales')"
   ]
  },
  {
   "cell_type": "markdown",
   "id": "3e3724fe",
   "metadata": {},
   "source": [
    "---"
   ]
  },
  {
   "cell_type": "markdown",
   "id": "0c17cd49",
   "metadata": {},
   "source": [
    "<a id='polyfit'></a>\n",
    "### `np.polyfit()`"
   ]
  },
  {
   "cell_type": "code",
   "execution_count": 8,
   "id": "54d81ce9",
   "metadata": {},
   "outputs": [],
   "source": [
    "X = df['total_spend']\n",
    "y = df['sales']"
   ]
  },
  {
   "cell_type": "code",
   "execution_count": 11,
   "id": "9cbcce60",
   "metadata": {
    "scrolled": true
   },
   "outputs": [
    {
     "name": "stdout",
     "output_type": "stream",
     "text": [
      "Help on function polyfit in module numpy:\n",
      "\n",
      "polyfit(x, y, deg, rcond=None, full=False, w=None, cov=False)\n",
      "    Least squares polynomial fit.\n",
      "    \n",
      "    .. note::\n",
      "       This forms part of the old polynomial API. Since version 1.4, the\n",
      "       new polynomial API defined in `numpy.polynomial` is preferred.\n",
      "       A summary of the differences can be found in the\n",
      "       :doc:`transition guide </reference/routines.polynomials>`.\n",
      "    \n",
      "    Fit a polynomial ``p(x) = p[0] * x**deg + ... + p[deg]`` of degree `deg`\n",
      "    to points `(x, y)`. Returns a vector of coefficients `p` that minimises\n",
      "    the squared error in the order `deg`, `deg-1`, ... `0`.\n",
      "    \n",
      "    The `Polynomial.fit <numpy.polynomial.polynomial.Polynomial.fit>` class\n",
      "    method is recommended for new code as it is more stable numerically. See\n",
      "    the documentation of the method for more information.\n",
      "    \n",
      "    Parameters\n",
      "    ----------\n",
      "    x : array_like, shape (M,)\n",
      "        x-coordinates of the M sample points ``(x[i], y[i])``.\n",
      "    y : array_like, shape (M,) or (M, K)\n",
      "        y-coordinates of the sample points. Several data sets of sample\n",
      "        points sharing the same x-coordinates can be fitted at once by\n",
      "        passing in a 2D-array that contains one dataset per column.\n",
      "    deg : int\n",
      "        Degree of the fitting polynomial\n",
      "    rcond : float, optional\n",
      "        Relative condition number of the fit. Singular values smaller than\n",
      "        this relative to the largest singular value will be ignored. The\n",
      "        default value is len(x)*eps, where eps is the relative precision of\n",
      "        the float type, about 2e-16 in most cases.\n",
      "    full : bool, optional\n",
      "        Switch determining nature of return value. When it is False (the\n",
      "        default) just the coefficients are returned, when True diagnostic\n",
      "        information from the singular value decomposition is also returned.\n",
      "    w : array_like, shape (M,), optional\n",
      "        Weights to apply to the y-coordinates of the sample points. For\n",
      "        gaussian uncertainties, use 1/sigma (not 1/sigma**2).\n",
      "    cov : bool or str, optional\n",
      "        If given and not `False`, return not just the estimate but also its\n",
      "        covariance matrix. By default, the covariance are scaled by\n",
      "        chi2/dof, where dof = M - (deg + 1), i.e., the weights are presumed \n",
      "        to be unreliable except in a relative sense and everything is scaled \n",
      "        such that the reduced chi2 is unity. This scaling is omitted if \n",
      "        ``cov='unscaled'``, as is relevant for the case that the weights are \n",
      "        1/sigma**2, with sigma known to be a reliable estimate of the \n",
      "        uncertainty.\n",
      "    \n",
      "    Returns\n",
      "    -------\n",
      "    p : ndarray, shape (deg + 1,) or (deg + 1, K)\n",
      "        Polynomial coefficients, highest power first.  If `y` was 2-D, the\n",
      "        coefficients for `k`-th data set are in ``p[:,k]``.\n",
      "    \n",
      "    residuals, rank, singular_values, rcond\n",
      "        Present only if `full` = True.  Residuals is sum of squared residuals\n",
      "        of the least-squares fit, the effective rank of the scaled Vandermonde\n",
      "        coefficient matrix, its singular values, and the specified value of\n",
      "        `rcond`. For more details, see `linalg.lstsq`.\n",
      "    \n",
      "    V : ndarray, shape (M,M) or (M,M,K)\n",
      "        Present only if `full` = False and `cov`=True.  The covariance\n",
      "        matrix of the polynomial coefficient estimates.  The diagonal of\n",
      "        this matrix are the variance estimates for each coefficient.  If y\n",
      "        is a 2-D array, then the covariance matrix for the `k`-th data set\n",
      "        are in ``V[:,:,k]``\n",
      "    \n",
      "    \n",
      "    Warns\n",
      "    -----\n",
      "    RankWarning\n",
      "        The rank of the coefficient matrix in the least-squares fit is\n",
      "        deficient. The warning is only raised if `full` = False.\n",
      "    \n",
      "        The warnings can be turned off by\n",
      "    \n",
      "        >>> import warnings\n",
      "        >>> warnings.simplefilter('ignore', np.RankWarning)\n",
      "    \n",
      "    See Also\n",
      "    --------\n",
      "    polyval : Compute polynomial values.\n",
      "    linalg.lstsq : Computes a least-squares fit.\n",
      "    scipy.interpolate.UnivariateSpline : Computes spline fits.\n",
      "    \n",
      "    Notes\n",
      "    -----\n",
      "    The solution minimizes the squared error\n",
      "    \n",
      "    .. math ::\n",
      "        E = \\sum_{j=0}^k |p(x_j) - y_j|^2\n",
      "    \n",
      "    in the equations::\n",
      "    \n",
      "        x[0]**n * p[0] + ... + x[0] * p[n-1] + p[n] = y[0]\n",
      "        x[1]**n * p[0] + ... + x[1] * p[n-1] + p[n] = y[1]\n",
      "        ...\n",
      "        x[k]**n * p[0] + ... + x[k] * p[n-1] + p[n] = y[k]\n",
      "    \n",
      "    The coefficient matrix of the coefficients `p` is a Vandermonde matrix.\n",
      "    \n",
      "    `polyfit` issues a `RankWarning` when the least-squares fit is badly\n",
      "    conditioned. This implies that the best fit is not well-defined due\n",
      "    to numerical error. The results may be improved by lowering the polynomial\n",
      "    degree or by replacing `x` by `x` - `x`.mean(). The `rcond` parameter\n",
      "    can also be set to a value smaller than its default, but the resulting\n",
      "    fit may be spurious: including contributions from the small singular\n",
      "    values can add numerical noise to the result.\n",
      "    \n",
      "    Note that fitting polynomial coefficients is inherently badly conditioned\n",
      "    when the degree of the polynomial is large or the interval of sample points\n",
      "    is badly centered. The quality of the fit should always be checked in these\n",
      "    cases. When polynomial fits are not satisfactory, splines may be a good\n",
      "    alternative.\n",
      "    \n",
      "    References\n",
      "    ----------\n",
      "    .. [1] Wikipedia, \"Curve fitting\",\n",
      "           https://en.wikipedia.org/wiki/Curve_fitting\n",
      "    .. [2] Wikipedia, \"Polynomial interpolation\",\n",
      "           https://en.wikipedia.org/wiki/Polynomial_interpolation\n",
      "    \n",
      "    Examples\n",
      "    --------\n",
      "    >>> import warnings\n",
      "    >>> x = np.array([0.0, 1.0, 2.0, 3.0,  4.0,  5.0])\n",
      "    >>> y = np.array([0.0, 0.8, 0.9, 0.1, -0.8, -1.0])\n",
      "    >>> z = np.polyfit(x, y, 3)\n",
      "    >>> z\n",
      "    array([ 0.08703704, -0.81349206,  1.69312169, -0.03968254]) # may vary\n",
      "    \n",
      "    It is convenient to use `poly1d` objects for dealing with polynomials:\n",
      "    \n",
      "    >>> p = np.poly1d(z)\n",
      "    >>> p(0.5)\n",
      "    0.6143849206349179 # may vary\n",
      "    >>> p(3.5)\n",
      "    -0.34732142857143039 # may vary\n",
      "    >>> p(10)\n",
      "    22.579365079365115 # may vary\n",
      "    \n",
      "    High-order polynomials may oscillate wildly:\n",
      "    \n",
      "    >>> with warnings.catch_warnings():\n",
      "    ...     warnings.simplefilter('ignore', np.RankWarning)\n",
      "    ...     p30 = np.poly1d(np.polyfit(x, y, 30))\n",
      "    ...\n",
      "    >>> p30(4)\n",
      "    -0.80000000000000204 # may vary\n",
      "    >>> p30(5)\n",
      "    -0.99999999999999445 # may vary\n",
      "    >>> p30(4.5)\n",
      "    -0.10547061179440398 # may vary\n",
      "    \n",
      "    Illustration:\n",
      "    \n",
      "    >>> import matplotlib.pyplot as plt\n",
      "    >>> xp = np.linspace(-2, 6, 100)\n",
      "    >>> _ = plt.plot(x, y, '.', xp, p(xp), '-', xp, p30(xp), '--')\n",
      "    >>> plt.ylim(-2,2)\n",
      "    (-2, 2)\n",
      "    >>> plt.show()\n",
      "\n"
     ]
    }
   ],
   "source": [
    "help(np.polyfit)"
   ]
  },
  {
   "cell_type": "markdown",
   "id": "00f2fde9",
   "metadata": {},
   "source": [
    "- __np.polyfit() function__ does a least squares polynomial fit. And the reason it does a polynomial fit is because you actually have the option of not just fitting to X, but also fitting to X squared or X cubed in addition to X. \n",
    "- In our case, we're just going to say degree of the polynomial is equal to 1.\n",
    "- And what np.polyfit() __returns__ are the set of __coefficients__ solved by __ordinary least squares__.\n",
    "- And it returns them in order of the highest order coefficient to least."
   ]
  },
  {
   "cell_type": "markdown",
   "id": "cda47006",
   "metadata": {},
   "source": [
    "---"
   ]
  },
  {
   "cell_type": "code",
   "execution_count": 14,
   "id": "15ba062b",
   "metadata": {},
   "outputs": [],
   "source": [
    "# y = B1x + B0     \n",
    "\n",
    "# create an equation for the best fitting line for this real set of data points"
   ]
  },
  {
   "cell_type": "code",
   "execution_count": 15,
   "id": "96e31f6d",
   "metadata": {},
   "outputs": [
    {
     "data": {
      "text/plain": [
       "array([0.04868788, 4.24302822])"
      ]
     },
     "execution_count": 15,
     "metadata": {},
     "output_type": "execute_result"
    }
   ],
   "source": [
    "np.polyfit(X, y, deg=1)"
   ]
  },
  {
   "cell_type": "markdown",
   "id": "128f669e",
   "metadata": {},
   "source": [
    "---"
   ]
  },
  {
   "cell_type": "markdown",
   "id": "9e6e04e0",
   "metadata": {},
   "source": [
    "__our manual calculation and plotting__"
   ]
  },
  {
   "cell_type": "code",
   "execution_count": 19,
   "id": "877cc715",
   "metadata": {},
   "outputs": [],
   "source": [
    "potential_spend = np.linspace(0, 500, 100) # some theoretical potential spend in advertising\n",
    "\n",
    "# And the reason we chose 0 to five hundred is because more or less, that's the range of our dataset."
   ]
  },
  {
   "cell_type": "markdown",
   "id": "55a56a73",
   "metadata": {},
   "source": [
    "Now what I'm going to do is calculate my predicted sales for each of these potential spend values."
   ]
  },
  {
   "cell_type": "code",
   "execution_count": 20,
   "id": "6820b4f3",
   "metadata": {},
   "outputs": [],
   "source": [
    "predicted_sales = 0.04868788 * potential_spend + 4.24302822"
   ]
  },
  {
   "cell_type": "code",
   "execution_count": 22,
   "id": "f2bd47e8",
   "metadata": {},
   "outputs": [
    {
     "data": {
      "text/plain": [
       "[<matplotlib.lines.Line2D at 0x27bebcefcc8>]"
      ]
     },
     "execution_count": 22,
     "metadata": {},
     "output_type": "execute_result"
    },
    {
     "data": {
      "image/png": "[encoded data removed]",
      "text/plain": [
       "<Figure size 432x288 with 1 Axes>"
      ]
     },
     "metadata": {
      "needs_background": "light"
     },
     "output_type": "display_data"
    }
   ],
   "source": [
    "plt.plot(potential_spend, predicted_sales) # I get this regression line."
   ]
  },
  {
   "cell_type": "code",
   "execution_count": 24,
   "id": "25c62f4a",
   "metadata": {},
   "outputs": [
    {
     "data": {
      "text/plain": [
       "[<matplotlib.lines.Line2D at 0x27beb3e9808>]"
      ]
     },
     "execution_count": 24,
     "metadata": {},
     "output_type": "execute_result"
    },
    {
     "data": {
      "image/png": "[encoded data removed]",
      "text/plain": [
       "<Figure size 432x288 with 1 Axes>"
      ]
     },
     "metadata": {
      "needs_background": "light"
     },
     "output_type": "display_data"
    }
   ],
   "source": [
    "sns.scatterplot(data=df, x='total_spend', y='sales')\n",
    "plt.plot(potential_spend, predicted_sales, color='red')"
   ]
  },
  {
   "cell_type": "markdown",
   "id": "4e953854",
   "metadata": {},
   "source": [
    "---\n",
    "---"
   ]
  },
  {
   "cell_type": "markdown",
   "id": "e8d12d9b",
   "metadata": {},
   "source": [
    "We just fit y = mx + b, but we could be fitting to higher degree polynomials."
   ]
  },
  {
   "cell_type": "code",
   "execution_count": 25,
   "id": "8b8aeae5",
   "metadata": {
    "scrolled": true
   },
   "outputs": [
    {
     "data": {
      "text/plain": [
       "array([ 3.07615033e-07, -1.89392449e-04,  8.20886302e-02,  2.70495053e+00])"
      ]
     },
     "execution_count": 25,
     "metadata": {},
     "output_type": "execute_result"
    }
   ],
   "source": [
    "np.polyfit(X, y, 3)"
   ]
  },
  {
   "cell_type": "code",
   "execution_count": 27,
   "id": "1bce81ff",
   "metadata": {},
   "outputs": [],
   "source": [
    "# we actually just solved the equation\n",
    "\n",
    "# y = B3x**3 + B2x**2 + B1x + B0\n",
    "\n",
    "# high level polynomial model"
   ]
  },
  {
   "cell_type": "markdown",
   "id": "e8f0137f",
   "metadata": {},
   "source": [
    "And keep in mind, if there is actually less information on something like X cubed or X squared, essentially saying that there's no real higher order relationship there, then these beta coefficient values are going to get quite small.\n",
    "\n",
    "You'll notice that the relationship for X cubed versus y is almost non-existent.\n",
    "<br>The way we know this is that the beta coefficient here is three point zero seven times ten to the power of negative seven (3.07615033e-07). This is actually almost zero or very close to it, which essentially says go ahead and don't even consider X cubed because it's not really a factor here."
   ]
  },
  {
   "cell_type": "code",
   "execution_count": 29,
   "id": "8a22b239",
   "metadata": {},
   "outputs": [],
   "source": [
    "pot_spend = np.linspace(0, 500, 100)"
   ]
  },
  {
   "cell_type": "code",
   "execution_count": 30,
   "id": "09ebd7fe",
   "metadata": {},
   "outputs": [],
   "source": [
    "pred_sales = 3.07615033e-07 * pot_spend**3 - 1.89392449e-04 * pot_spend**2 + 8.20886302e-02 * pot_spend + 2.70495053e+00"
   ]
  },
  {
   "cell_type": "code",
   "execution_count": 32,
   "id": "936b6996",
   "metadata": {},
   "outputs": [
    {
     "data": {
      "text/plain": [
       "[<matplotlib.lines.Line2D at 0x27beb96c548>]"
      ]
     },
     "execution_count": 32,
     "metadata": {},
     "output_type": "execute_result"
    },
    {
     "data": {
      "image/png": "[encoded data removed]",
      "text/plain": [
       "<Figure size 432x288 with 1 Axes>"
      ]
     },
     "metadata": {
      "needs_background": "light"
     },
     "output_type": "display_data"
    }
   ],
   "source": [
    "sns.scatterplot(data=df, x='total_spend', y='sales')\n",
    "plt.plot(pot_spend, pred_sales, color='red')"
   ]
  },
  {
   "cell_type": "markdown",
   "id": "7f6db2cf",
   "metadata": {},
   "source": [
    "---"
   ]
  },
  {
   "cell_type": "markdown",
   "id": "95aa7746",
   "metadata": {},
   "source": [
    "- All a __machine learning algorithm__ does is __estimate some output__.\n",
    "\n",
    "- Now, let's talk about the philosophy behind Scikit-Learn.\n",
    "<br>In general, __Scikit-Learn's approach__ to model building focuses on __applying models__ and __performance metrics__.\n",
    "<br>Essentially, we're going to __train a model on some data__ and __then check its performance on a set of data that it hasn't seen before__, at least for supervised learning.\n",
    "\n",
    "- Recall from our discussion on the supervised machine learning process that we need to perform a __train | test split__ for supervised learning in order to fairly evaluate our model."
   ]
  },
  {
   "cell_type": "markdown",
   "id": "29de478a",
   "metadata": {},
   "source": [
    "----"
   ]
  },
  {
   "cell_type": "markdown",
   "id": "97b34b7b",
   "metadata": {},
   "source": [
    "<a id='traintestsplit'></a>"
   ]
  },
  {
   "cell_type": "markdown",
   "id": "1b045d57",
   "metadata": {},
   "source": [
    "<img src='Screenshot 2022-06-07 052439.png' width=800>"
   ]
  },
  {
   "cell_type": "markdown",
   "id": "d48fa333",
   "metadata": {},
   "source": [
    "---"
   ]
  },
  {
   "cell_type": "markdown",
   "id": "42e6548d",
   "metadata": {},
   "source": [
    "So we have ___sklearn_ as the main library__ and then we have ___model_selection_ within Scikit-Learn__, we're going to import the ___train_test_split_ function__."
   ]
  },
  {
   "cell_type": "code",
   "execution_count": 34,
   "id": "fc2c6ef3",
   "metadata": {},
   "outputs": [],
   "source": [
    "from sklearn.model_selection import train_test_split"
   ]
  },
  {
   "cell_type": "markdown",
   "id": "adf5f00c",
   "metadata": {},
   "source": [
    "And what the __train_test_split function__ does is it __takes in your X features__, that is __all of them__ and __all your corresponding y labels__, and then it __creates the four components for you__.\n",
    "<br>And notice here, this is just __tuple unpacking__."
   ]
  },
  {
   "cell_type": "code",
   "execution_count": 35,
   "id": "4afa37f2",
   "metadata": {},
   "outputs": [],
   "source": [
    "X_train, X_test, y_train, y_test = train_test_split(X, y)"
   ]
  },
  {
   "cell_type": "markdown",
   "id": "cd1a2e48",
   "metadata": {},
   "source": [
    "---\n",
    "---"
   ]
  },
  {
   "cell_type": "markdown",
   "id": "b2b246ef",
   "metadata": {},
   "source": [
    "<a id='framework'></a>\n",
    "And right here is the __general framework code__ for essentially __any supervised learning algorithm within sklearn__."
   ]
  },
  {
   "cell_type": "markdown",
   "id": "8c14126d",
   "metadata": {},
   "source": [
    "<img src='genframe.png'>"
   ]
  },
  {
   "cell_type": "markdown",
   "id": "ac405057",
   "metadata": {},
   "source": [
    "After importing you create an instance of that model, we could also go and edit parameters of our model so we could define any specific parameters we want for the algorithm we're working with."
   ]
  },
  {
   "cell_type": "code",
   "execution_count": null,
   "id": "08b3f308",
   "metadata": {},
   "outputs": [],
   "source": []
  }
 ],
 "metadata": {
  "kernelspec": {
   "display_name": "Python 3 (ipykernel)",
   "language": "python",
   "name": "python3"
  },
  "language_info": {
   "codemirror_mode": {
    "name": "ipython",
    "version": 3
   },
   "file_extension": ".py",
   "mimetype": "text/x-python",
   "name": "python",
   "nbconvert_exporter": "python",
   "pygments_lexer": "ipython3",
   "version": "3.9.12"
  }
 },
 "nbformat": 4,
 "nbformat_minor": 5
}
