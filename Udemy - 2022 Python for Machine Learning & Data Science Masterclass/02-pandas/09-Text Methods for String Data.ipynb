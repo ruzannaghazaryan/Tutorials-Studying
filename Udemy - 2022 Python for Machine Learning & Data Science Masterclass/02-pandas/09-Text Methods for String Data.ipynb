{
 "cells": [
  {
   "cell_type": "markdown",
   "id": "e2460537",
   "metadata": {},
   "source": [
    "* [.str.upper()](#strupper)\n",
    "* [.str.isdigit()](#strdigit)\n",
    "* [.str.split()](#strsplit)\n",
    "* [.str.split().str[0] get values at 0 index of Series](#index0)\n",
    "* [.str.split(expand=True)   from Series to DataFrame](#splitexpand)\n",
    "* [.str.replace()](#strreplace)\n",
    "* [.str.strip()](#strstrip)\n",
    "* [.str.capitalize()](#strcap)\n",
    "* [Time efficiency measurement with _timeit_ module](#timeit)"
   ]
  },
  {
   "cell_type": "markdown",
   "id": "cdf2073c",
   "metadata": {},
   "source": [
    "___"
   ]
  },
  {
   "cell_type": "markdown",
   "id": "55904d6e",
   "metadata": {},
   "source": [
    "https://pandas.pydata.org/docs/user_guide/text.html"
   ]
  },
  {
   "cell_type": "markdown",
   "id": "506d7874",
   "metadata": {},
   "source": [
    "### Working with Text Data\n",
    "__`.str library`__\n",
    "\n",
    "__.str__ is only for calling methods off a __pandas series__"
   ]
  },
  {
   "cell_type": "markdown",
   "id": "a8d464b3",
   "metadata": {},
   "source": [
    "___"
   ]
  },
  {
   "cell_type": "markdown",
   "id": "ed9fb124",
   "metadata": {},
   "source": [
    "- Often text data needs to be cleaned or manipulated for processing.\n",
    "- While we can always use a custom __apply() function__ for these tasks, pandas comes with many built-in __string method calls__. And those sort of things are actually built in to the __.str method call library in pandas__."
   ]
  },
  {
   "cell_type": "markdown",
   "id": "1829c72a",
   "metadata": {},
   "source": [
    "___"
   ]
  },
  {
   "cell_type": "markdown",
   "id": "9aa0c024",
   "metadata": {},
   "source": [
    "There are two ways to store text data in pandas:\n",
    "\n",
    "- __object__ dtype\n",
    "- __StringDtype__ extension type"
   ]
  },
  {
   "cell_type": "markdown",
   "id": "cd9e65a5",
   "metadata": {},
   "source": [
    "___"
   ]
  },
  {
   "cell_type": "code",
   "execution_count": 1,
   "id": "928e7f6e",
   "metadata": {},
   "outputs": [],
   "source": [
    "import numpy as np\n",
    "import pandas as pd"
   ]
  },
  {
   "cell_type": "code",
   "execution_count": 2,
   "id": "1d6755c0",
   "metadata": {},
   "outputs": [],
   "source": [
    "email = 'jose@email.com'"
   ]
  },
  {
   "cell_type": "code",
   "execution_count": 3,
   "id": "48fe8d41",
   "metadata": {},
   "outputs": [
    {
     "data": {
      "text/plain": [
       "['jose', 'email.com']"
      ]
     },
     "execution_count": 3,
     "metadata": {},
     "output_type": "execute_result"
    }
   ],
   "source": [
    "email.split('@')"
   ]
  },
  {
   "cell_type": "code",
   "execution_count": 4,
   "id": "92fb5578",
   "metadata": {},
   "outputs": [],
   "source": [
    "names = pd.Series(['andrew', 'bobo', 'claire', 'david', '5'])"
   ]
  },
  {
   "cell_type": "code",
   "execution_count": 5,
   "id": "ccdd534a",
   "metadata": {},
   "outputs": [
    {
     "data": {
      "text/plain": [
       "0    andrew\n",
       "1      bobo\n",
       "2    claire\n",
       "3     david\n",
       "4         5\n",
       "dtype: object"
      ]
     },
     "execution_count": 5,
     "metadata": {},
     "output_type": "execute_result"
    }
   ],
   "source": [
    "names"
   ]
  },
  {
   "cell_type": "markdown",
   "id": "c358155b",
   "metadata": {},
   "source": [
    "<a id='strupper'></a>\n",
    "__`.str.upper()`__"
   ]
  },
  {
   "cell_type": "code",
   "execution_count": 6,
   "id": "2774065c",
   "metadata": {},
   "outputs": [
    {
     "data": {
      "text/plain": [
       "0    ANDREW\n",
       "1      BOBO\n",
       "2    CLAIRE\n",
       "3     DAVID\n",
       "4         5\n",
       "dtype: object"
      ]
     },
     "execution_count": 6,
     "metadata": {},
     "output_type": "execute_result"
    }
   ],
   "source": [
    "names.str.upper()"
   ]
  },
  {
   "cell_type": "markdown",
   "id": "fc640f14",
   "metadata": {},
   "source": [
    "__Keep in mind__, this __does NOT permanently affect the series__, we have to reassign it to make that effect permanent."
   ]
  },
  {
   "cell_type": "markdown",
   "id": "7acc0ed1",
   "metadata": {},
   "source": [
    "___"
   ]
  },
  {
   "cell_type": "markdown",
   "id": "f3912799",
   "metadata": {},
   "source": [
    "<a id='strdigit'></a>\n",
    "\n",
    "__`.str.isdigit()`__"
   ]
  },
  {
   "cell_type": "code",
   "execution_count": 19,
   "id": "ae24469b",
   "metadata": {
    "scrolled": false
   },
   "outputs": [
    {
     "data": {
      "text/plain": [
       "'jose@email.com'"
      ]
     },
     "execution_count": 19,
     "metadata": {},
     "output_type": "execute_result"
    }
   ],
   "source": [
    "email"
   ]
  },
  {
   "cell_type": "code",
   "execution_count": 20,
   "id": "7194358f",
   "metadata": {},
   "outputs": [
    {
     "data": {
      "text/plain": [
       "False"
      ]
     },
     "execution_count": 20,
     "metadata": {},
     "output_type": "execute_result"
    }
   ],
   "source": [
    "email.isdigit()"
   ]
  },
  {
   "cell_type": "code",
   "execution_count": 21,
   "id": "5a15bba6",
   "metadata": {},
   "outputs": [
    {
     "data": {
      "text/plain": [
       "True"
      ]
     },
     "execution_count": 21,
     "metadata": {},
     "output_type": "execute_result"
    }
   ],
   "source": [
    "'5'.isdigit()"
   ]
  },
  {
   "cell_type": "code",
   "execution_count": 22,
   "id": "038dade4",
   "metadata": {
    "scrolled": true
   },
   "outputs": [
    {
     "data": {
      "text/plain": [
       "0    False\n",
       "1    False\n",
       "2    False\n",
       "3    False\n",
       "4     True\n",
       "dtype: bool"
      ]
     },
     "execution_count": 22,
     "metadata": {},
     "output_type": "execute_result"
    }
   ],
   "source": [
    "names.str.isdigit()"
   ]
  },
  {
   "cell_type": "code",
   "execution_count": 23,
   "id": "0e7be445",
   "metadata": {},
   "outputs": [
    {
     "data": {
      "text/plain": [
       "4    5\n",
       "dtype: object"
      ]
     },
     "execution_count": 23,
     "metadata": {},
     "output_type": "execute_result"
    }
   ],
   "source": [
    "names[names.str.isdigit()]  # we can actually use this to filter"
   ]
  },
  {
   "cell_type": "markdown",
   "id": "40963c23",
   "metadata": {},
   "source": [
    "___"
   ]
  },
  {
   "cell_type": "markdown",
   "id": "df3d79fe",
   "metadata": {},
   "source": [
    "<a id='strsplit'></a>\n",
    "__`.str.split()`__"
   ]
  },
  {
   "cell_type": "code",
   "execution_count": 24,
   "id": "9f32ac36",
   "metadata": {},
   "outputs": [],
   "source": [
    "tech_finance = ['GOOG,APPL,AMZN', 'JPM,BAC,GS']"
   ]
  },
  {
   "cell_type": "code",
   "execution_count": 25,
   "id": "35fea113",
   "metadata": {},
   "outputs": [
    {
     "data": {
      "text/plain": [
       "2"
      ]
     },
     "execution_count": 25,
     "metadata": {},
     "output_type": "execute_result"
    }
   ],
   "source": [
    "len(tech_finance)"
   ]
  },
  {
   "cell_type": "code",
   "execution_count": 26,
   "id": "ba021976",
   "metadata": {},
   "outputs": [],
   "source": [
    "tickers = pd.Series(tech_finance)"
   ]
  },
  {
   "cell_type": "code",
   "execution_count": 27,
   "id": "cf16d4af",
   "metadata": {},
   "outputs": [
    {
     "data": {
      "text/plain": [
       "0    GOOG,APPL,AMZN\n",
       "1        JPM,BAC,GS\n",
       "dtype: object"
      ]
     },
     "execution_count": 27,
     "metadata": {},
     "output_type": "execute_result"
    }
   ],
   "source": [
    "tickers"
   ]
  },
  {
   "cell_type": "code",
   "execution_count": 28,
   "id": "449ca02a",
   "metadata": {},
   "outputs": [
    {
     "data": {
      "text/plain": [
       "0    [GOOG, APPL, AMZN]\n",
       "1        [JPM, BAC, GS]\n",
       "dtype: object"
      ]
     },
     "execution_count": 28,
     "metadata": {},
     "output_type": "execute_result"
    }
   ],
   "source": [
    "tickers.str.split(',')"
   ]
  },
  {
   "cell_type": "markdown",
   "id": "cd8a562a",
   "metadata": {},
   "source": [
    "<a id='index0'></a>\n",
    "__`.str.split().str[0]`__"
   ]
  },
  {
   "cell_type": "markdown",
   "id": "164d010d",
   "metadata": {},
   "source": [
    "To understand let's look at a single item at a time."
   ]
  },
  {
   "cell_type": "code",
   "execution_count": 31,
   "id": "98774178",
   "metadata": {},
   "outputs": [
    {
     "data": {
      "text/plain": [
       "'GOOG'"
      ]
     },
     "execution_count": 31,
     "metadata": {},
     "output_type": "execute_result"
    }
   ],
   "source": [
    "tech = 'GOOG,APPL,AMZN'\n",
    "tech.split(',')[0] # on a single string"
   ]
  },
  {
   "cell_type": "markdown",
   "id": "cd15cce2",
   "metadata": {},
   "source": [
    "To only return back the first items after the split in pandas Series, indexing should be done with another call from .str"
   ]
  },
  {
   "cell_type": "code",
   "execution_count": 39,
   "id": "ee911a4c",
   "metadata": {},
   "outputs": [
    {
     "data": {
      "text/plain": [
       "0    GOOG\n",
       "1     JPM\n",
       "dtype: object"
      ]
     },
     "execution_count": 39,
     "metadata": {},
     "output_type": "execute_result"
    }
   ],
   "source": [
    "tickers.str.split(',').str[0] # pandas version of above cell"
   ]
  },
  {
   "cell_type": "markdown",
   "id": "3bc5918d",
   "metadata": {},
   "source": [
    "<a id='splitexpand'></a>\n",
    "__`.str.split(expand=True)`__ "
   ]
  },
  {
   "cell_type": "markdown",
   "id": "9b81e90e",
   "metadata": {},
   "source": [
    "Let's say we don't want just the first item, but instead, I want to make this into three columns."
   ]
  },
  {
   "cell_type": "code",
   "execution_count": 41,
   "id": "427d3544",
   "metadata": {
    "scrolled": true
   },
   "outputs": [
    {
     "data": {
      "text/html": [
       "<div>\n",
       "<style scoped>\n",
       "    .dataframe tbody tr th:only-of-type {\n",
       "        vertical-align: middle;\n",
       "    }\n",
       "\n",
       "    .dataframe tbody tr th {\n",
       "        vertical-align: top;\n",
       "    }\n",
       "\n",
       "    .dataframe thead th {\n",
       "        text-align: right;\n",
       "    }\n",
       "</style>\n",
       "<table border=\"1\" class=\"dataframe\">\n",
       "  <thead>\n",
       "    <tr style=\"text-align: right;\">\n",
       "      <th></th>\n",
       "      <th>0</th>\n",
       "      <th>1</th>\n",
       "      <th>2</th>\n",
       "    </tr>\n",
       "  </thead>\n",
       "  <tbody>\n",
       "    <tr>\n",
       "      <th>0</th>\n",
       "      <td>GOOG</td>\n",
       "      <td>APPL</td>\n",
       "      <td>AMZN</td>\n",
       "    </tr>\n",
       "    <tr>\n",
       "      <th>1</th>\n",
       "      <td>JPM</td>\n",
       "      <td>BAC</td>\n",
       "      <td>GS</td>\n",
       "    </tr>\n",
       "  </tbody>\n",
       "</table>\n",
       "</div>"
      ],
      "text/plain": [
       "      0     1     2\n",
       "0  GOOG  APPL  AMZN\n",
       "1   JPM   BAC    GS"
      ]
     },
     "execution_count": 41,
     "metadata": {},
     "output_type": "execute_result"
    }
   ],
   "source": [
    "tickers.str.split(',', expand=True) # essentially now I've built out a data frame"
   ]
  },
  {
   "cell_type": "markdown",
   "id": "a48047c6",
   "metadata": {},
   "source": [
    "___"
   ]
  },
  {
   "cell_type": "code",
   "execution_count": 42,
   "id": "ca99579c",
   "metadata": {},
   "outputs": [],
   "source": [
    "messy_names = pd.Series(['andrew  ', 'bo;bo', '   claire  '])"
   ]
  },
  {
   "cell_type": "code",
   "execution_count": 43,
   "id": "3eba1d01",
   "metadata": {},
   "outputs": [
    {
     "data": {
      "text/plain": [
       "0       andrew  \n",
       "1          bo;bo\n",
       "2       claire  \n",
       "dtype: object"
      ]
     },
     "execution_count": 43,
     "metadata": {},
     "output_type": "execute_result"
    }
   ],
   "source": [
    "messy_names"
   ]
  },
  {
   "cell_type": "code",
   "execution_count": 45,
   "id": "74334ae8",
   "metadata": {},
   "outputs": [
    {
     "data": {
      "text/plain": [
       "'andrew  '"
      ]
     },
     "execution_count": 45,
     "metadata": {},
     "output_type": "execute_result"
    }
   ],
   "source": [
    "messy_names[0] # there is spacing involved"
   ]
  },
  {
   "cell_type": "markdown",
   "id": "059e12f8",
   "metadata": {},
   "source": [
    "<a id='strreplace'></a>\n",
    "__`.str.replace()`__"
   ]
  },
  {
   "cell_type": "code",
   "execution_count": 46,
   "id": "b796fd04",
   "metadata": {},
   "outputs": [
    {
     "data": {
      "text/plain": [
       "0       andrew  \n",
       "1           bobo\n",
       "2       claire  \n",
       "dtype: object"
      ]
     },
     "execution_count": 46,
     "metadata": {},
     "output_type": "execute_result"
    }
   ],
   "source": [
    "messy_names.str.replace(';', '')"
   ]
  },
  {
   "cell_type": "markdown",
   "id": "a8c5520c",
   "metadata": {},
   "source": [
    "<a id='strstrip'></a>\n",
    "__`.str.strip()`__"
   ]
  },
  {
   "cell_type": "code",
   "execution_count": 52,
   "id": "3daeaba6",
   "metadata": {},
   "outputs": [
    {
     "data": {
      "text/plain": [
       "0    andrew\n",
       "1     bo;bo\n",
       "2    claire\n",
       "dtype: object"
      ]
     },
     "execution_count": 52,
     "metadata": {},
     "output_type": "execute_result"
    }
   ],
   "source": [
    "messy_names.str.strip() # to remove whitespaces"
   ]
  },
  {
   "cell_type": "code",
   "execution_count": 54,
   "id": "0f24ff40",
   "metadata": {},
   "outputs": [
    {
     "data": {
      "text/plain": [
       "'andrew'"
      ]
     },
     "execution_count": 54,
     "metadata": {},
     "output_type": "execute_result"
    }
   ],
   "source": [
    "messy_names.str.strip()[0]"
   ]
  },
  {
   "cell_type": "markdown",
   "id": "5d2c2536",
   "metadata": {},
   "source": [
    "<a id='strcap'></a>\n",
    "__`.str.capitalize()`__"
   ]
  },
  {
   "cell_type": "code",
   "execution_count": 58,
   "id": "2943169d",
   "metadata": {
    "scrolled": true
   },
   "outputs": [
    {
     "data": {
      "text/plain": [
       "0    Andrew\n",
       "1      Bobo\n",
       "2    Claire\n",
       "dtype: object"
      ]
     },
     "execution_count": 58,
     "metadata": {},
     "output_type": "execute_result"
    }
   ],
   "source": [
    "messy_names.str.replace(';', '').str.strip().str.capitalize()  \n",
    "\n",
    "# you're replacing the semicolons, stripping out whitespace and then capitalizing"
   ]
  },
  {
   "cell_type": "markdown",
   "id": "b0a6e289",
   "metadata": {},
   "source": [
    "___"
   ]
  },
  {
   "cell_type": "markdown",
   "id": "bf7ad11e",
   "metadata": {},
   "source": [
    "Always __keep in mind__ that if you have something that's really hard to do, you can use an apply() custom call."
   ]
  },
  {
   "cell_type": "code",
   "execution_count": 60,
   "id": "09281b8f",
   "metadata": {},
   "outputs": [],
   "source": [
    "def cleanup(name):\n",
    "    name = name.replace(';', '')\n",
    "    name = name.strip()\n",
    "    name = name.capitalize()\n",
    "    return name\n",
    "\n",
    "# does the same thing"
   ]
  },
  {
   "cell_type": "code",
   "execution_count": 62,
   "id": "3d149775",
   "metadata": {},
   "outputs": [
    {
     "data": {
      "text/plain": [
       "0    Andrew\n",
       "1      Bobo\n",
       "2    Claire\n",
       "dtype: object"
      ]
     },
     "execution_count": 62,
     "metadata": {},
     "output_type": "execute_result"
    }
   ],
   "source": [
    "messy_names.apply(cleanup)"
   ]
  },
  {
   "cell_type": "code",
   "execution_count": 64,
   "id": "9e5c8e3c",
   "metadata": {},
   "outputs": [
    {
     "data": {
      "text/plain": [
       "array(['Andrew', 'Bobo', 'Claire'], dtype='<U6')"
      ]
     },
     "execution_count": 64,
     "metadata": {},
     "output_type": "execute_result"
    }
   ],
   "source": [
    "np.vectorize(cleanup)(messy_names)"
   ]
  },
  {
   "cell_type": "markdown",
   "id": "f70735ad",
   "metadata": {},
   "source": [
    "__Keep in mind__, if your stuff is getting really complicated and you have to start looking for certain situations like an if statement, it's going to be impossible to just do it through string method calls and you will have to create your own custom function."
   ]
  },
  {
   "cell_type": "markdown",
   "id": "ca595870",
   "metadata": {},
   "source": [
    "___"
   ]
  },
  {
   "cell_type": "markdown",
   "id": "2e01317c",
   "metadata": {},
   "source": [
    "<a id='timeit'></a>\n",
    "### Which one is more efficient?\n",
    "\n",
    "Time efficiency measurement with _timeit_ module"
   ]
  },
  {
   "cell_type": "code",
   "execution_count": 65,
   "id": "9fb4809b",
   "metadata": {},
   "outputs": [],
   "source": [
    "import timeit\n",
    "\n",
    "# code snippet (фрагмент) to be executed only once\n",
    "setup = '''\n",
    "import numpy as np\n",
    "import pandas as pd\n",
    "messy_names = pd.Series(['andrew  ', 'bo;bo', '   claire  '])\n",
    "def cleanup(name):\n",
    "    name = name.replace(';', '')\n",
    "    name = name.strip()\n",
    "    name = name.capitalize()\n",
    "    return name\n",
    "'''\n",
    "\n",
    "\n",
    "# code snippet whose execution time is to be measured\n",
    "stmt_pandas_str = '''\n",
    "messy_names.str.replace(';', '').str.strip().str.capitalize()\n",
    "'''\n",
    "\n",
    "stmt_pandas_apply = '''\n",
    "messy_names.apply(cleanup)\n",
    "'''\n",
    "\n",
    "stmt_pandas_vectorize = '''\n",
    "np.vectorize(cleanup)(messy_names)\n",
    "'''"
   ]
  },
  {
   "cell_type": "code",
   "execution_count": 66,
   "id": "2dba7f59",
   "metadata": {},
   "outputs": [
    {
     "data": {
      "text/plain": [
       "4.935063399999763"
      ]
     },
     "execution_count": 66,
     "metadata": {},
     "output_type": "execute_result"
    }
   ],
   "source": [
    "timeit.timeit(setup=setup,\n",
    "             stmt = stmt_pandas_str,\n",
    "             number=10000)"
   ]
  },
  {
   "cell_type": "code",
   "execution_count": 67,
   "id": "d3f2b6e8",
   "metadata": {},
   "outputs": [
    {
     "data": {
      "text/plain": [
       "1.4165186999998696"
      ]
     },
     "execution_count": 67,
     "metadata": {},
     "output_type": "execute_result"
    }
   ],
   "source": [
    "timeit.timeit(setup=setup, \n",
    "              stmt = stmt_pandas_apply,\n",
    "              number=10000)"
   ]
  },
  {
   "cell_type": "code",
   "execution_count": 68,
   "id": "8bdc4e36",
   "metadata": {},
   "outputs": [
    {
     "data": {
      "text/plain": [
       "0.26484249999975873"
      ]
     },
     "execution_count": 68,
     "metadata": {},
     "output_type": "execute_result"
    }
   ],
   "source": [
    "timeit.timeit(setup=setup,\n",
    "             stmt = stmt_pandas_vectorize,\n",
    "             number=10000)"
   ]
  },
  {
   "cell_type": "markdown",
   "id": "dad01983",
   "metadata": {},
   "source": [
    "While .str() methods can be extremely convienent, when it comes to performance, don't forget about np.vectorize()! Review the \"Useful Methods\" lecture for a deeper discussion on np.vectorize()"
   ]
  },
  {
   "cell_type": "code",
   "execution_count": null,
   "id": "d9a9cced",
   "metadata": {},
   "outputs": [],
   "source": []
  }
 ],
 "metadata": {
  "kernelspec": {
   "display_name": "Python 3 (ipykernel)",
   "language": "python",
   "name": "python3"
  },
  "language_info": {
   "codemirror_mode": {
    "name": "ipython",
    "version": 3
   },
   "file_extension": ".py",
   "mimetype": "text/x-python",
   "name": "python",
   "nbconvert_exporter": "python",
   "pygments_lexer": "ipython3",
   "version": "3.7.11"
  }
 },
 "nbformat": 4,
 "nbformat_minor": 5
}
