{
 "cells": [
  {
   "cell_type": "markdown",
   "id": "285b16fb",
   "metadata": {},
   "source": [
    "- [creating a series from a list](#create1)\n",
    "- [creating a series from a dictionary](#create2)\n",
    "- [grabbing a value either by its numeric or by labeled index](#grab)\n",
    "- [.keys()](#keys)\n",
    "- [.dtype](#dtype)\n",
    "- [operations between two series](#operations)\n",
    "- [seriesname1.add(seriesname2, fill_value=)](#seriesname)"
   ]
  },
  {
   "cell_type": "markdown",
   "id": "e2964dba",
   "metadata": {},
   "source": [
    "___"
   ]
  },
  {
   "cell_type": "markdown",
   "id": "5b5927b5",
   "metadata": {},
   "source": [
    "https://pandas.pydata.org/docs/user_guide/index.html"
   ]
  },
  {
   "cell_type": "markdown",
   "id": "b7faa2e9",
   "metadata": {},
   "source": [
    "### <u>Series - Part One"
   ]
  },
  {
   "cell_type": "code",
   "execution_count": 2,
   "id": "33cba234",
   "metadata": {},
   "outputs": [],
   "source": [
    "import numpy as np\n",
    "import pandas as pd"
   ]
  },
  {
   "cell_type": "code",
   "execution_count": 3,
   "id": "8e33b52e",
   "metadata": {},
   "outputs": [],
   "source": [
    "# help(pd.Series)"
   ]
  },
  {
   "cell_type": "markdown",
   "id": "0d99684c",
   "metadata": {},
   "source": [
    "<a id='create1'></a>\n",
    "__Creating a series from a list__"
   ]
  },
  {
   "cell_type": "code",
   "execution_count": 3,
   "id": "91c04f31",
   "metadata": {},
   "outputs": [],
   "source": [
    "myIndex = ['USA', 'Canada', 'Mexico']\n",
    "myData = [1776, 1867, 1821]"
   ]
  },
  {
   "cell_type": "code",
   "execution_count": 5,
   "id": "5aa2260e",
   "metadata": {},
   "outputs": [],
   "source": [
    "myser = pd.Series(data=myData)"
   ]
  },
  {
   "cell_type": "markdown",
   "id": "2a1e756c",
   "metadata": {},
   "source": [
    "You'll notice that automatically it's going to show you the default numeric index."
   ]
  },
  {
   "cell_type": "code",
   "execution_count": 8,
   "id": "149359b9",
   "metadata": {
    "scrolled": true
   },
   "outputs": [
    {
     "data": {
      "text/plain": [
       "0    1776\n",
       "1    1867\n",
       "2    1821\n",
       "dtype: int64"
      ]
     },
     "execution_count": 8,
     "metadata": {},
     "output_type": "execute_result"
    }
   ],
   "source": [
    "myser"
   ]
  },
  {
   "cell_type": "code",
   "execution_count": 9,
   "id": "ba50d6c7",
   "metadata": {
    "scrolled": true
   },
   "outputs": [
    {
     "data": {
      "text/plain": [
       "pandas.core.series.Series"
      ]
     },
     "execution_count": 9,
     "metadata": {},
     "output_type": "execute_result"
    }
   ],
   "source": [
    "type(myser)"
   ]
  },
  {
   "cell_type": "markdown",
   "id": "fb8da3a3",
   "metadata": {},
   "source": [
    "But it also can take in index parameter."
   ]
  },
  {
   "cell_type": "code",
   "execution_count": 4,
   "id": "41689b3f",
   "metadata": {
    "scrolled": true
   },
   "outputs": [
    {
     "data": {
      "text/plain": [
       "USA       1776\n",
       "Canada    1867\n",
       "Mexico    1821\n",
       "dtype: int64"
      ]
     },
     "execution_count": 4,
     "metadata": {},
     "output_type": "execute_result"
    }
   ],
   "source": [
    "myser = pd.Series(data=myData, index=myIndex)\n",
    "myser"
   ]
  },
  {
   "cell_type": "markdown",
   "id": "d8c51c1a",
   "metadata": {},
   "source": [
    "Now we can see that the index is this labeled string index."
   ]
  },
  {
   "cell_type": "markdown",
   "id": "2d4127dd",
   "metadata": {},
   "source": [
    "<a id='grab'></a>"
   ]
  },
  {
   "cell_type": "code",
   "execution_count": 14,
   "id": "009280c9",
   "metadata": {},
   "outputs": [
    {
     "data": {
      "text/plain": [
       "1776"
      ]
     },
     "execution_count": 14,
     "metadata": {},
     "output_type": "execute_result"
    }
   ],
   "source": [
    "# either by numeric index\n",
    "\n",
    "myser[0]"
   ]
  },
  {
   "cell_type": "code",
   "execution_count": 15,
   "id": "095c9348",
   "metadata": {
    "scrolled": true
   },
   "outputs": [
    {
     "data": {
      "text/plain": [
       "1776"
      ]
     },
     "execution_count": 15,
     "metadata": {},
     "output_type": "execute_result"
    }
   ],
   "source": [
    "# or\n",
    "\n",
    "myser['USA']"
   ]
  },
  {
   "cell_type": "markdown",
   "id": "c0b3fe8e",
   "metadata": {},
   "source": [
    "___"
   ]
  },
  {
   "cell_type": "markdown",
   "id": "d7fda52e",
   "metadata": {},
   "source": [
    "<a id='create2'></a>\n",
    "__We can also create a series from a dictionary.__"
   ]
  },
  {
   "cell_type": "code",
   "execution_count": 16,
   "id": "17ce9126",
   "metadata": {},
   "outputs": [],
   "source": [
    "ages = {'Sam': 5, \n",
    "       'Frank': 10,\n",
    "       'Spike': 7}"
   ]
  },
  {
   "cell_type": "code",
   "execution_count": 17,
   "id": "4ffb82c7",
   "metadata": {
    "scrolled": true
   },
   "outputs": [
    {
     "data": {
      "text/plain": [
       "Sam       5\n",
       "Frank    10\n",
       "Spike     7\n",
       "dtype: int64"
      ]
     },
     "execution_count": 17,
     "metadata": {},
     "output_type": "execute_result"
    }
   ],
   "source": [
    "pd.Series(ages)"
   ]
  },
  {
   "cell_type": "markdown",
   "id": "02f91113",
   "metadata": {},
   "source": [
    "____"
   ]
  },
  {
   "cell_type": "markdown",
   "id": "05226479",
   "metadata": {},
   "source": [
    "### <u>Series - Part Two"
   ]
  },
  {
   "cell_type": "code",
   "execution_count": 18,
   "id": "0fea5bee",
   "metadata": {},
   "outputs": [],
   "source": [
    "# Imaginary Sales Data for 1st and 2nd Quarters for Global Companies\n",
    "q1 = {'Japan': 80,\n",
    "     'China': 450,\n",
    "     'India': 200,\n",
    "     'USA': 250}\n",
    "\n",
    "q2 = {'Brazil': 100,\n",
    "     'China': 500,\n",
    "     'India': 210,\n",
    "     'USA': 260}"
   ]
  },
  {
   "cell_type": "code",
   "execution_count": 19,
   "id": "ee29fa97",
   "metadata": {},
   "outputs": [],
   "source": [
    "sales_q1 = pd.Series(q1)\n",
    "sales_q2 = pd.Series(q2)"
   ]
  },
  {
   "cell_type": "code",
   "execution_count": 20,
   "id": "c0a19015",
   "metadata": {
    "scrolled": true
   },
   "outputs": [
    {
     "data": {
      "text/plain": [
       "Japan     80\n",
       "China    450\n",
       "India    200\n",
       "USA      250\n",
       "dtype: int64"
      ]
     },
     "execution_count": 20,
     "metadata": {},
     "output_type": "execute_result"
    }
   ],
   "source": [
    "sales_q1"
   ]
  },
  {
   "cell_type": "code",
   "execution_count": 21,
   "id": "75265375",
   "metadata": {},
   "outputs": [
    {
     "data": {
      "text/plain": [
       "Brazil    100\n",
       "China     500\n",
       "India     210\n",
       "USA       260\n",
       "dtype: int64"
      ]
     },
     "execution_count": 21,
     "metadata": {},
     "output_type": "execute_result"
    }
   ],
   "source": [
    "sales_q2"
   ]
  },
  {
   "cell_type": "code",
   "execution_count": 22,
   "id": "4bf9db27",
   "metadata": {
    "scrolled": true
   },
   "outputs": [
    {
     "data": {
      "text/plain": [
       "80"
      ]
     },
     "execution_count": 22,
     "metadata": {},
     "output_type": "execute_result"
    }
   ],
   "source": [
    "sales_q1['Japan']"
   ]
  },
  {
   "cell_type": "code",
   "execution_count": 23,
   "id": "db04d881",
   "metadata": {
    "scrolled": true
   },
   "outputs": [
    {
     "data": {
      "text/plain": [
       "80"
      ]
     },
     "execution_count": 23,
     "metadata": {},
     "output_type": "execute_result"
    }
   ],
   "source": [
    "# or\n",
    "sales_q1[0]"
   ]
  },
  {
   "cell_type": "markdown",
   "id": "3f14c3c6",
   "metadata": {},
   "source": [
    "___"
   ]
  },
  {
   "cell_type": "markdown",
   "id": "45f5f56a",
   "metadata": {},
   "source": [
    "<a id='keys'></a>\n",
    "__`.keys()`__"
   ]
  },
  {
   "cell_type": "code",
   "execution_count": 24,
   "id": "88f98392",
   "metadata": {},
   "outputs": [
    {
     "data": {
      "text/plain": [
       "Index(['Japan', 'China', 'India', 'USA'], dtype='object')"
      ]
     },
     "execution_count": 24,
     "metadata": {},
     "output_type": "execute_result"
    }
   ],
   "source": [
    "sales_q1.keys()"
   ]
  },
  {
   "cell_type": "markdown",
   "id": "b014a17d",
   "metadata": {},
   "source": [
    "___"
   ]
  },
  {
   "cell_type": "markdown",
   "id": "01cd54ea",
   "metadata": {},
   "source": [
    "<a id='operations'></a>\n",
    "__Let's go ahead and discuss the very basics of operations between two series.__"
   ]
  },
  {
   "cell_type": "code",
   "execution_count": 27,
   "id": "d89b6863",
   "metadata": {},
   "outputs": [
    {
     "data": {
      "text/plain": [
       "[1, 2, 1, 2]"
      ]
     },
     "execution_count": 27,
     "metadata": {},
     "output_type": "execute_result"
    }
   ],
   "source": [
    "[1, 2] * 2"
   ]
  },
  {
   "cell_type": "code",
   "execution_count": 28,
   "id": "d1435ff1",
   "metadata": {
    "scrolled": true
   },
   "outputs": [
    {
     "data": {
      "text/plain": [
       "array([2, 4])"
      ]
     },
     "execution_count": 28,
     "metadata": {},
     "output_type": "execute_result"
    }
   ],
   "source": [
    "# BUT if it's a numpy array\n",
    "\n",
    "np.array([1, 2]) * 2"
   ]
  },
  {
   "cell_type": "markdown",
   "id": "de81e581",
   "metadata": {},
   "source": [
    "Since __pandas series is built off a NumPy array__, then the same happens here."
   ]
  },
  {
   "cell_type": "code",
   "execution_count": 30,
   "id": "f8ae37c1",
   "metadata": {
    "scrolled": false
   },
   "outputs": [
    {
     "data": {
      "text/plain": [
       "Japan     80\n",
       "China    450\n",
       "India    200\n",
       "USA      250\n",
       "dtype: int64"
      ]
     },
     "execution_count": 30,
     "metadata": {},
     "output_type": "execute_result"
    }
   ],
   "source": [
    "sales_q1"
   ]
  },
  {
   "cell_type": "code",
   "execution_count": 31,
   "id": "139fe899",
   "metadata": {
    "scrolled": true
   },
   "outputs": [
    {
     "data": {
      "text/plain": [
       "Japan    160\n",
       "China    900\n",
       "India    400\n",
       "USA      500\n",
       "dtype: int64"
      ]
     },
     "execution_count": 31,
     "metadata": {},
     "output_type": "execute_result"
    }
   ],
   "source": [
    "sales_q1 * 2"
   ]
  },
  {
   "cell_type": "code",
   "execution_count": 32,
   "id": "558785ec",
   "metadata": {
    "scrolled": false
   },
   "outputs": [
    {
     "data": {
      "text/plain": [
       "Japan    0.8\n",
       "China    4.5\n",
       "India    2.0\n",
       "USA      2.5\n",
       "dtype: float64"
      ]
     },
     "execution_count": 32,
     "metadata": {},
     "output_type": "execute_result"
    }
   ],
   "source": [
    "sales_q1 / 100"
   ]
  },
  {
   "cell_type": "markdown",
   "id": "fd68505f",
   "metadata": {},
   "source": [
    "___"
   ]
  },
  {
   "cell_type": "markdown",
   "id": "5f53475c",
   "metadata": {},
   "source": [
    "We have information on Japan in q1, but not in q2. Instead, it got replaced by Brazil.\n",
    "\n",
    "So what happens if I'm trying to calculate my total sales?"
   ]
  },
  {
   "cell_type": "code",
   "execution_count": 33,
   "id": "832b0205",
   "metadata": {},
   "outputs": [
    {
     "data": {
      "text/plain": [
       "Brazil      NaN\n",
       "China     950.0\n",
       "India     410.0\n",
       "Japan       NaN\n",
       "USA       510.0\n",
       "dtype: float64"
      ]
     },
     "execution_count": 33,
     "metadata": {},
     "output_type": "execute_result"
    }
   ],
   "source": [
    "sales_q1 + sales_q2"
   ]
  },
  {
   "cell_type": "code",
   "execution_count": null,
   "id": "12897e65",
   "metadata": {},
   "outputs": [],
   "source": [
    "# NaN - not a number"
   ]
  },
  {
   "cell_type": "markdown",
   "id": "7f3e9b83",
   "metadata": {},
   "source": [
    "And this is actually a good way of pandas essentially telling you, Brazil and Japan are not present in both these series."
   ]
  },
  {
   "cell_type": "markdown",
   "id": "002d2061",
   "metadata": {},
   "source": [
    "<a id='seriesname'></a>\n",
    "\n",
    "Let's say you as the user actually know that to be the case and you want to fill in some value by default when it's not present in the series.\n",
    "\n",
    "Essentially, for example, you want Brazil in q2 to be 100 and in q1 to be zero."
   ]
  },
  {
   "cell_type": "code",
   "execution_count": 36,
   "id": "1a7ed1f3",
   "metadata": {
    "scrolled": true
   },
   "outputs": [
    {
     "data": {
      "text/plain": [
       "Brazil    100.0\n",
       "China     950.0\n",
       "India     410.0\n",
       "Japan      80.0\n",
       "USA       510.0\n",
       "dtype: float64"
      ]
     },
     "execution_count": 36,
     "metadata": {},
     "output_type": "execute_result"
    }
   ],
   "source": [
    "sales_q1.add(sales_q2, fill_value=0)"
   ]
  },
  {
   "cell_type": "markdown",
   "id": "2229aafd",
   "metadata": {},
   "source": [
    "__Original values were in integers. As soon as you start doing numeric computations with any objects within pandas, it's going to quickly convert them into floating point numbers.__"
   ]
  },
  {
   "cell_type": "markdown",
   "id": "d676b288",
   "metadata": {},
   "source": [
    "<a id='dtype'></a>\n",
    "__You can always specify the data type or change that data type of a pandas series.__"
   ]
  },
  {
   "cell_type": "code",
   "execution_count": 37,
   "id": "c88eb3e4",
   "metadata": {
    "scrolled": false
   },
   "outputs": [
    {
     "data": {
      "text/plain": [
       "dtype('int64')"
      ]
     },
     "execution_count": 37,
     "metadata": {},
     "output_type": "execute_result"
    }
   ],
   "source": [
    "sales_q1.dtype"
   ]
  },
  {
   "cell_type": "code",
   "execution_count": 38,
   "id": "2111ed16",
   "metadata": {},
   "outputs": [
    {
     "data": {
      "text/plain": [
       "Brazil    100.0\n",
       "China     950.0\n",
       "India     410.0\n",
       "Japan      80.0\n",
       "USA       510.0\n",
       "dtype: float64"
      ]
     },
     "execution_count": 38,
     "metadata": {},
     "output_type": "execute_result"
    }
   ],
   "source": [
    "first_half = sales_q1.add(sales_q2, fill_value=0)\n",
    "first_half"
   ]
  },
  {
   "cell_type": "code",
   "execution_count": 39,
   "id": "a0d558f7",
   "metadata": {},
   "outputs": [
    {
     "data": {
      "text/plain": [
       "dtype('float64')"
      ]
     },
     "execution_count": 39,
     "metadata": {},
     "output_type": "execute_result"
    }
   ],
   "source": [
    "first_half.dtype"
   ]
  },
  {
   "cell_type": "markdown",
   "id": "e02e0f5b",
   "metadata": {},
   "source": [
    "__Main thing to note here is that when you perform operations with two series, pandas is going to be smart enough to understand that they're labeled and that they should perform the operation on the labels.__"
   ]
  },
  {
   "cell_type": "code",
   "execution_count": null,
   "id": "b1718c36",
   "metadata": {},
   "outputs": [],
   "source": []
  }
 ],
 "metadata": {
  "kernelspec": {
   "display_name": "Python 3",
   "language": "python",
   "name": "python3"
  },
  "language_info": {
   "codemirror_mode": {
    "name": "ipython",
    "version": 3
   },
   "file_extension": ".py",
   "mimetype": "text/x-python",
   "name": "python",
   "nbconvert_exporter": "python",
   "pygments_lexer": "ipython3",
   "version": "3.7.11"
  }
 },
 "nbformat": 4,
 "nbformat_minor": 5
}
