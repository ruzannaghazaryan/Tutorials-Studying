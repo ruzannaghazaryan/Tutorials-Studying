{
 "cells": [
  {
   "cell_type": "markdown",
   "id": "84c57f77",
   "metadata": {},
   "source": [
    "---\n",
    "---"
   ]
  },
  {
   "cell_type": "markdown",
   "id": "39967851",
   "metadata": {},
   "source": [
    "- **Machine Learning in general is the study of statistical computer algorithms that improve automatically through data.**\n",
    "\n",
    "- **This means that unlike typical computer algorithms that rely on human input for what approach to take, ML algorithms infer best approach from the data itself.**"
   ]
  },
  {
   "cell_type": "markdown",
   "id": "5de8aaf9",
   "metadata": {},
   "source": [
    "---\n",
    "---"
   ]
  },
  {
   "cell_type": "markdown",
   "id": "48a2bd77",
   "metadata": {},
   "source": [
    "**Structure of ML Problem framing:**\n",
    "\n",
    "   - Given __features__ from a dataset obtain a desired __label__.  \n",
    "   - ML algorithms are often called \"estimators\" since they are estimating the desired label or output."
   ]
  },
  {
   "cell_type": "markdown",
   "id": "f93bfa3b",
   "metadata": {},
   "source": [
    "---\n",
    "---"
   ]
  },
  {
   "cell_type": "markdown",
   "id": "d828da75",
   "metadata": {},
   "source": [
    "There are 2 main types of ML:\n",
    "      \n",
    "   - **Supervised learning**\n",
    "       \n",
    "       - Using **historical** and **labeled** data, the machine learning model predicts a value.\n",
    "  \n",
    "  \n",
    "  - **Unsupervised learning**\n",
    "  \n",
    "      - Applied to **unlabeled** data, the machine learning model discovers possible patterns in the data. "
   ]
  },
  {
   "cell_type": "markdown",
   "id": "e9920e2e",
   "metadata": {},
   "source": [
    "---\n",
    "---"
   ]
  },
  {
   "cell_type": "markdown",
   "id": "fe09f540",
   "metadata": {},
   "source": [
    "**Supervised Learning**\n",
    "   - Two main label types\n",
    "       - Categorical Value to Predict\n",
    "           - Classification Task\n",
    "       - Continuous Value to Predict\n",
    "           - Regression Task"
   ]
  },
  {
   "cell_type": "markdown",
   "id": "debd0363",
   "metadata": {},
   "source": [
    "---\n",
    "---"
   ]
  },
  {
   "cell_type": "markdown",
   "id": "93a78bbb",
   "metadata": {},
   "source": [
    "**Unsupervised Learning**\n",
    "   - Group and interpret data without a label or essentially then task to discover the label on our own.\n",
    "   - Major downside is because there was no historical \"correct\" label, it is much harder to evaluate performance of an unsupervised learning algorithm."
   ]
  },
  {
   "cell_type": "markdown",
   "id": "ef918d04",
   "metadata": {},
   "source": [
    "---\n",
    "---"
   ]
  },
  {
   "cell_type": "markdown",
   "id": "4aeffab4",
   "metadata": {},
   "source": [
    "<img src=\"photo_2022-05-24_11-52-09.jpg\">"
   ]
  },
  {
   "cell_type": "markdown",
   "id": "9381c557",
   "metadata": {},
   "source": [
    "---"
   ]
  },
  {
   "cell_type": "markdown",
   "id": "87d01e51",
   "metadata": {},
   "source": [
    "<img src='photo_2022-05-24_12-12-49.jpg'>"
   ]
  },
  {
   "cell_type": "markdown",
   "id": "65792062",
   "metadata": {},
   "source": [
    "---"
   ]
  },
  {
   "cell_type": "markdown",
   "id": "209da7fd",
   "metadata": {},
   "source": [
    "<img src='photo_2022-05-24_12-09-56.jpg'>"
   ]
  },
  {
   "cell_type": "markdown",
   "id": "11814889",
   "metadata": {},
   "source": [
    "---"
   ]
  },
  {
   "cell_type": "markdown",
   "id": "7347c1d9",
   "metadata": {},
   "source": [
    "So notice here that the training set and the test set __both__ grab the features __and__ the labels."
   ]
  },
  {
   "cell_type": "markdown",
   "id": "b5369ed5",
   "metadata": {},
   "source": [
    "The main idea is we're going to show the algorithm some training data and then evaluate the performance on some test data."
   ]
  },
  {
   "cell_type": "markdown",
   "id": "cb9dfc5a",
   "metadata": {},
   "source": [
    "---"
   ]
  },
  {
   "cell_type": "markdown",
   "id": "8b46af6a",
   "metadata": {},
   "source": [
    "<img src='photo_2022-05-24_12-27-38.jpg'>"
   ]
  },
  {
   "cell_type": "markdown",
   "id": "16d23bf4",
   "metadata": {},
   "source": [
    "---"
   ]
  },
  {
   "cell_type": "markdown",
   "id": "6085c0f2",
   "metadata": {},
   "source": [
    "Now the question arises, what happens if you're unsatisfied with the performance of the model's ability on the test features?\n",
    "<br> We can adjust model **hyperparameters**.\n",
    "\n",
    "If you're unsatisfied with the performance on the test set, you can go back and adjust your model's parameters. Then you retrain the model on the training dataset and evaluate the suggested model again on only the features of the test dataset. And you can repeat this process as necessary."
   ]
  },
  {
   "cell_type": "markdown",
   "id": "2fe1d304",
   "metadata": {},
   "source": [
    "<img src='photo_2022-05-24_12-35-29.jpg'>"
   ]
  },
  {
   "cell_type": "markdown",
   "id": "ddaef75d",
   "metadata": {},
   "source": [
    "---"
   ]
  },
  {
   "cell_type": "markdown",
   "id": "39e58880",
   "metadata": {},
   "source": [
    "<img src='photo_2022-05-24_12-46-50.jpg'>"
   ]
  },
  {
   "cell_type": "markdown",
   "id": "4ab00d4e",
   "metadata": {},
   "source": [
    "deploy - применять - use, apply, practice"
   ]
  },
  {
   "cell_type": "markdown",
   "id": "ea9a358b",
   "metadata": {},
   "source": [
    "---"
   ]
  },
  {
   "cell_type": "markdown",
   "id": "d56cd185",
   "metadata": {},
   "source": [
    "<img src='photo_2022-05-24_12-50-23.jpg'>"
   ]
  },
  {
   "cell_type": "markdown",
   "id": "ff831996",
   "metadata": {},
   "source": [
    "---"
   ]
  },
  {
   "cell_type": "code",
   "execution_count": null,
   "id": "44f497b7",
   "metadata": {},
   "outputs": [],
   "source": []
  }
 ],
 "metadata": {
  "kernelspec": {
   "display_name": "Python 3 (ipykernel)",
   "language": "python",
   "name": "python3"
  },
  "language_info": {
   "codemirror_mode": {
    "name": "ipython",
    "version": 3
   },
   "file_extension": ".py",
   "mimetype": "text/x-python",
   "name": "python",
   "nbconvert_exporter": "python",
   "pygments_lexer": "ipython3",
   "version": "3.7.11"
  }
 },
 "nbformat": 4,
 "nbformat_minor": 5
}
