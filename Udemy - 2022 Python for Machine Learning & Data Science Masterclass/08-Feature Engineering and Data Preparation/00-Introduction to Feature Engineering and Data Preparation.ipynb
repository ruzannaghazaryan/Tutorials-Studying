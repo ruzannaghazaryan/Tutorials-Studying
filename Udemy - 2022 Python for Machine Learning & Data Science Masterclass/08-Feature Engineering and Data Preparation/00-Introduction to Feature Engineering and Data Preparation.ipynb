{
 "cells": [
  {
   "cell_type": "markdown",
   "id": "319d1f46",
   "metadata": {},
   "source": [
    "<img src='1.png' width=700>"
   ]
  },
  {
   "cell_type": "markdown",
   "id": "f3bb954a",
   "metadata": {},
   "source": [
    "---"
   ]
  },
  {
   "cell_type": "markdown",
   "id": "c9a0e18e",
   "metadata": {},
   "source": [
    "## Extracting Information"
   ]
  },
  {
   "cell_type": "markdown",
   "id": "9701cf11",
   "metadata": {},
   "source": [
    "<img src='3.png' width=700>"
   ]
  },
  {
   "cell_type": "markdown",
   "id": "a07889d7",
   "metadata": {},
   "source": [
    "---"
   ]
  },
  {
   "cell_type": "markdown",
   "id": "8b427b35",
   "metadata": {},
   "source": [
    "<img src='4.png' width=700>"
   ]
  },
  {
   "cell_type": "markdown",
   "id": "a3b727f3",
   "metadata": {},
   "source": [
    "---"
   ]
  },
  {
   "cell_type": "markdown",
   "id": "7949cd56",
   "metadata": {},
   "source": [
    "- And then there's more complex examples of this as well. Maybe we have the __text data__ in general.\n",
    "Now we can definitely not directly multiply a string of text by coefficient.\n",
    "I can't say 5.5 times this essay.\n",
    "So instead what we could do is try to extract numeric features from something like text data, which\n",
    "at first glance doesn't seem like it has any numeric features but actually does.\n",
    "What you could do is \n",
    "    - take into account the length of the text\n",
    "    - or take into account the number of times certain terms are mentioned."
   ]
  },
  {
   "cell_type": "markdown",
   "id": "e6c2e198",
   "metadata": {},
   "source": [
    "---\n",
    "---"
   ]
  },
  {
   "cell_type": "markdown",
   "id": "298c0045",
   "metadata": {},
   "source": [
    "## Combining Information\n",
    "- We’ve actually already done this with Polynomial Regression.\n",
    "- Recall advertising spend could have possible interaction terms to consider, so we could multiply them together.\n"
   ]
  },
  {
   "cell_type": "markdown",
   "id": "5d79bb50",
   "metadata": {},
   "source": [
    "---\n",
    "---"
   ]
  },
  {
   "cell_type": "markdown",
   "id": "c7308f2f",
   "metadata": {},
   "source": [
    "## Transforming Information"
   ]
  },
  {
   "cell_type": "markdown",
   "id": "9d2b0d72",
   "metadata": {},
   "source": [
    "There's two main approaches for dealing with __categorical transformation__.\n",
    "- __Integer Encoding__\n",
    "    - Directly convert categories into integers 1, 2, 3, ..., N\n",
    "- __One-Hot Encoding (Dummy variables)__"
   ]
  },
  {
   "cell_type": "markdown",
   "id": "3779eae8",
   "metadata": {},
   "source": [
    "### <u>Integer Encoding"
   ]
  },
  {
   "cell_type": "markdown",
   "id": "bd7825c5",
   "metadata": {},
   "source": [
    "<img src='5.png' width=700>"
   ]
  },
  {
   "cell_type": "markdown",
   "id": "58d4a31f",
   "metadata": {},
   "source": [
    "Now a __possible issue__ when it comes to integer encoding is that it's actually __implying an ordering__ and\n",
    "__relationship__ because the machine learning algorithm is not fully going to understand that in this particular\n",
    "case, the integers are representing categories.\n",
    "It's always going to think of these numbers as being on some sort of linear scale.\n",
    "And the formal word for this is an __ordinal variable__.\n",
    "\n",
    "But in this particular case, it's highly unlikely that we actually have that direct encoding relationship.\n",
    "\n",
    "For a quick example of something that would definitely make sense for integer encoding, it could be\n",
    "something like spice level, where here we can see we have mild, hot and fire as different spice levels\n",
    "and there's clearly some sort of ordering within the string categories."
   ]
  },
  {
   "cell_type": "markdown",
   "id": "e588eccb",
   "metadata": {},
   "source": [
    "<img src='6.png' width=700>"
   ]
  },
  {
   "cell_type": "markdown",
   "id": "ee8adf2c",
   "metadata": {},
   "source": [
    "If we decided to do integer encoding, then an ordinal variable or something that has ordering to it was a fair assumption to make."
   ]
  },
  {
   "cell_type": "markdown",
   "id": "76fa534b",
   "metadata": {},
   "source": [
    "<img src='7.png' width=700>"
   ]
  },
  {
   "cell_type": "markdown",
   "id": "6a3a1d45",
   "metadata": {},
   "source": [
    "---"
   ]
  },
  {
   "cell_type": "markdown",
   "id": "50ab0869",
   "metadata": {},
   "source": [
    "### <u>One-Hot Encoding (Dummy variables)\n",
    "    \n",
    "- convert categories into individual features that are either 0 or 1\n",
    "- what we're going to say is create a new feature for every single unique category possible"
   ]
  },
  {
   "cell_type": "markdown",
   "id": "61d1c284",
   "metadata": {},
   "source": [
    "<img src='8.png' width=700>"
   ]
  },
  {
   "cell_type": "markdown",
   "id": "3d60afe1",
   "metadata": {},
   "source": [
    "We can try to reduce this feature column expansion by creating __higher level categories__.\n",
    "\n",
    "For example, if you're dealing with a social network that has users from all over the world and in every single country, it may not be useful to do a feature for every single possible country.\n",
    "Instead, maybe you do higher level categories like the region they're from, like northern Europe versus\n",
    "Southern Europe, or maybe continents, Europe versus Asia versus North America, etc.."
   ]
  },
  {
   "cell_type": "code",
   "execution_count": null,
   "id": "290580bc",
   "metadata": {},
   "outputs": [],
   "source": []
  }
 ],
 "metadata": {
  "kernelspec": {
   "display_name": "Python 3 (ipykernel)",
   "language": "python",
   "name": "python3"
  },
  "language_info": {
   "codemirror_mode": {
    "name": "ipython",
    "version": 3
   },
   "file_extension": ".py",
   "mimetype": "text/x-python",
   "name": "python",
   "nbconvert_exporter": "python",
   "pygments_lexer": "ipython3",
   "version": "3.9.12"
  }
 },
 "nbformat": 4,
 "nbformat_minor": 5
}
