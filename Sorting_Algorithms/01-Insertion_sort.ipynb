{
 "cells": [
  {
   "cell_type": "code",
   "execution_count": 1,
   "id": "2ee4b87c-dab4-459c-8d3e-fe66096b8ba4",
   "metadata": {},
   "outputs": [],
   "source": [
    "a = [5, 2, 4, 6, 1]"
   ]
  },
  {
   "cell_type": "markdown",
   "id": "d1e5f0d4-6051-4413-819b-94aa2e4be11f",
   "metadata": {},
   "source": [
    "---"
   ]
  },
  {
   "cell_type": "code",
   "execution_count": 2,
   "id": "42223b38-34cc-4e06-b433-3cd013f31b0e",
   "metadata": {},
   "outputs": [],
   "source": [
    "for i in range(1, len(a)):\n",
    "    current = a[i]\n",
    "    j = i - 1\n",
    "    while j >= 0 and a[j] > current:\n",
    "        a[j + 1] = a[j]\n",
    "        j -= 1\n",
    "    a[j + 1] = current"
   ]
  },
  {
   "cell_type": "code",
   "execution_count": 3,
   "id": "6c4f579b-9cc6-4a0a-9990-a3830f4bccc5",
   "metadata": {},
   "outputs": [
    {
     "data": {
      "text/plain": [
       "[1, 2, 4, 5, 6]"
      ]
     },
     "execution_count": 3,
     "metadata": {},
     "output_type": "execute_result"
    }
   ],
   "source": [
    "a"
   ]
  },
  {
   "cell_type": "markdown",
   "id": "009d79da-a7c1-4bd7-a2dc-5d7c592150e7",
   "metadata": {},
   "source": [
    "---"
   ]
  },
  {
   "cell_type": "code",
   "execution_count": null,
   "id": "a14ce78d-0fea-44dc-8bdb-679af356d61d",
   "metadata": {},
   "outputs": [],
   "source": []
  }
 ],
 "metadata": {
  "kernelspec": {
   "display_name": "Python 3 (ipykernel)",
   "language": "python",
   "name": "python3"
  },
  "language_info": {
   "codemirror_mode": {
    "name": "ipython",
    "version": 3
   },
   "file_extension": ".py",
   "mimetype": "text/x-python",
   "name": "python",
   "nbconvert_exporter": "python",
   "pygments_lexer": "ipython3",
   "version": "3.12.7"
  }
 },
 "nbformat": 4,
 "nbformat_minor": 5
}
