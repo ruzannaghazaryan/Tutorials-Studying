{
 "cells": [
  {
   "cell_type": "code",
   "execution_count": 1,
   "id": "199081df",
   "metadata": {},
   "outputs": [
    {
     "name": "stdout",
     "output_type": "stream",
     "text": [
      "file_00.txt\n"
     ]
    }
   ],
   "source": [
    "baseFilename = input()"
   ]
  },
  {
   "cell_type": "code",
   "execution_count": 2,
   "id": "faadb128",
   "metadata": {},
   "outputs": [],
   "source": [
    "languages = ['c', 'cpp', 'cs']"
   ]
  },
  {
   "cell_type": "code",
   "execution_count": 3,
   "id": "e4ba153a",
   "metadata": {},
   "outputs": [],
   "source": [
    "for i in languages:\n",
    "    open(f'{i}_{baseFilename}', 'w')"
   ]
  },
  {
   "cell_type": "code",
   "execution_count": 4,
   "id": "04b7f7ff",
   "metadata": {},
   "outputs": [],
   "source": [
    "with open(baseFilename, 'r') as input_file:\n",
    "    input_file_content = input_file.read()\n",
    "    input_file.close()"
   ]
  },
  {
   "cell_type": "code",
   "execution_count": 5,
   "id": "4ebccb2d",
   "metadata": {},
   "outputs": [],
   "source": [
    "input_file_content = input_file_content.split('\\n')"
   ]
  },
  {
   "cell_type": "code",
   "execution_count": 6,
   "id": "13880bca",
   "metadata": {},
   "outputs": [
    {
     "data": {
      "text/plain": [
       "['first.c', 'first.cpp', 'first.cs', 'second.c']"
      ]
     },
     "execution_count": 6,
     "metadata": {},
     "output_type": "execute_result"
    }
   ],
   "source": [
    "input_file_content"
   ]
  },
  {
   "cell_type": "code",
   "execution_count": 7,
   "id": "4f7629f4",
   "metadata": {},
   "outputs": [],
   "source": [
    "# for i in input_file_content:\n",
    "#     for j in languages:\n",
    "#         if i[-1] == j[-1]:\n",
    "#             corr_file = f'{j}_{baseFilename}'\n",
    "#             with open(corr_file, 'a') as my_file:\n",
    "#                 my_file.write(f'{i}\\n')\n",
    "#             break\n",
    "#         else:\n",
    "#             if j == languages[-1]:\n",
    "#                 continue"
   ]
  },
  {
   "cell_type": "code",
   "execution_count": 8,
   "id": "57882b7d",
   "metadata": {},
   "outputs": [],
   "source": [
    "for i in range(len(input_file_content)):\n",
    "    for j in range(len(languages)):\n",
    "        if input_file_content[i][-1] == languages[j][-1]:\n",
    "            corr_file = languages[j] + '_' + baseFilename\n",
    "            with open(corr_file, 'a') as my_file:\n",
    "                my_file.write(f'{input_file_content[i]}\\n')\n",
    "            break"
   ]
  },
  {
   "cell_type": "code",
   "execution_count": 17,
   "id": "0399086a",
   "metadata": {},
   "outputs": [],
   "source": [
    "a = ['']"
   ]
  },
  {
   "cell_type": "code",
   "execution_count": 18,
   "id": "3484ce3d",
   "metadata": {},
   "outputs": [],
   "source": [
    "for i in a:\n",
    "    if len(i) > 0:\n",
    "        print(i[-1])"
   ]
  },
  {
   "cell_type": "code",
   "execution_count": 21,
   "id": "8da989de",
   "metadata": {},
   "outputs": [
    {
     "data": {
      "text/plain": [
       "'s'"
      ]
     },
     "execution_count": 21,
     "metadata": {},
     "output_type": "execute_result"
    }
   ],
   "source": [
    "input_file_content[-2][-1]"
   ]
  },
  {
   "cell_type": "code",
   "execution_count": 23,
   "id": "46141923",
   "metadata": {},
   "outputs": [
    {
     "data": {
      "text/plain": [
       "1"
      ]
     },
     "execution_count": 23,
     "metadata": {},
     "output_type": "execute_result"
    }
   ],
   "source": [
    "len('5')"
   ]
  },
  {
   "cell_type": "code",
   "execution_count": 24,
   "id": "6124ce62",
   "metadata": {},
   "outputs": [
    {
     "data": {
      "text/plain": [
       "'5'"
      ]
     },
     "execution_count": 24,
     "metadata": {},
     "output_type": "execute_result"
    }
   ],
   "source": [
    "'5'[-1]"
   ]
  },
  {
   "cell_type": "code",
   "execution_count": 25,
   "id": "b2426ff1",
   "metadata": {},
   "outputs": [
    {
     "data": {
      "text/plain": [
       "['ghjo']"
      ]
     },
     "execution_count": 25,
     "metadata": {},
     "output_type": "execute_result"
    }
   ],
   "source": [
    "'ghjo'.split('\\n')"
   ]
  },
  {
   "cell_type": "code",
   "execution_count": null,
   "id": "d272935a",
   "metadata": {},
   "outputs": [],
   "source": []
  }
 ],
 "metadata": {
  "kernelspec": {
   "display_name": "Python 3 (ipykernel)",
   "language": "python",
   "name": "python3"
  },
  "language_info": {
   "codemirror_mode": {
    "name": "ipython",
    "version": 3
   },
   "file_extension": ".py",
   "mimetype": "text/x-python",
   "name": "python",
   "nbconvert_exporter": "python",
   "pygments_lexer": "ipython3",
   "version": "3.9.12"
  }
 },
 "nbformat": 4,
 "nbformat_minor": 5
}
