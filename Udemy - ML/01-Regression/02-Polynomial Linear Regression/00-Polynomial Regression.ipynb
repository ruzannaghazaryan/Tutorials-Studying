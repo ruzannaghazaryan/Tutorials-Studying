{
 "cells": [
  {
   "cell_type": "markdown",
   "id": "095dba6d",
   "metadata": {},
   "source": [
    "- __simple linear regression__\n",
    "<br> y = b0 + b1 * x1\n",
    "\n",
    "- __multiple linear regression__\n",
    "<br> y = b0 + b1 * x1 + b2 * x2 + ... + bn * xn\n",
    "\n",
    "- __polynomial linear regression__\n",
    "<br> y = b0 + b1 * x1 + b2 * x1** 2 + ... + bn * x1** n"
   ]
  },
  {
   "cell_type": "markdown",
   "id": "07f2687d",
   "metadata": {},
   "source": [
    "In case of polynomial regression we have the same independent variables but in different powers.\n",
    "\n",
    "Polynomial regression a special case or version of Multiple linear regression.\n",
    "\n",
    "Is Polynomial linear regression a linear model?\n",
    "<br>YES."
   ]
  },
  {
   "cell_type": "markdown",
   "id": "841a604f",
   "metadata": {},
   "source": [
    "---"
   ]
  },
  {
   "cell_type": "markdown",
   "id": "2a609566",
   "metadata": {},
   "source": [
    "<u>Polynomial __Linear__ Regression</u> \n",
    "\n",
    "## Why \"Linear\"?\n",
    "\n",
    "When we're talking about linear and nonlinear we're NOT actually talking about the X variables.\n",
    "<br>You're talking about __the coefficients__  (ultimately the unknowns are the cofficients)."
   ]
  },
  {
   "cell_type": "markdown",
   "id": "fdd59977",
   "metadata": {},
   "source": [
    "---"
   ]
  },
  {
   "cell_type": "markdown",
   "id": "fe228389",
   "metadata": {},
   "source": [
    "### Importing the libraries"
   ]
  },
  {
   "cell_type": "code",
   "execution_count": 1,
   "id": "f9387a69",
   "metadata": {},
   "outputs": [],
   "source": [
    "import numpy as np\n",
    "import pandas as pd\n",
    "import matplotlib.pyplot as plt"
   ]
  },
  {
   "cell_type": "markdown",
   "id": "8b19e21c",
   "metadata": {},
   "source": [
    "---"
   ]
  },
  {
   "cell_type": "markdown",
   "id": "dea965b5",
   "metadata": {},
   "source": [
    "### Importing the dataset"
   ]
  },
  {
   "cell_type": "code",
   "execution_count": 2,
   "id": "0e353585",
   "metadata": {},
   "outputs": [],
   "source": [
    "df = pd.read_csv('Position_Salaries.csv')"
   ]
  },
  {
   "cell_type": "code",
   "execution_count": 3,
   "id": "d4086193",
   "metadata": {},
   "outputs": [
    {
     "data": {
      "text/html": [
       "<div>\n",
       "<style scoped>\n",
       "    .dataframe tbody tr th:only-of-type {\n",
       "        vertical-align: middle;\n",
       "    }\n",
       "\n",
       "    .dataframe tbody tr th {\n",
       "        vertical-align: top;\n",
       "    }\n",
       "\n",
       "    .dataframe thead th {\n",
       "        text-align: right;\n",
       "    }\n",
       "</style>\n",
       "<table border=\"1\" class=\"dataframe\">\n",
       "  <thead>\n",
       "    <tr style=\"text-align: right;\">\n",
       "      <th></th>\n",
       "      <th>Position</th>\n",
       "      <th>Level</th>\n",
       "      <th>Salary</th>\n",
       "    </tr>\n",
       "  </thead>\n",
       "  <tbody>\n",
       "    <tr>\n",
       "      <th>0</th>\n",
       "      <td>Business Analyst</td>\n",
       "      <td>1</td>\n",
       "      <td>45000</td>\n",
       "    </tr>\n",
       "    <tr>\n",
       "      <th>1</th>\n",
       "      <td>Junior Consultant</td>\n",
       "      <td>2</td>\n",
       "      <td>50000</td>\n",
       "    </tr>\n",
       "    <tr>\n",
       "      <th>2</th>\n",
       "      <td>Senior Consultant</td>\n",
       "      <td>3</td>\n",
       "      <td>60000</td>\n",
       "    </tr>\n",
       "    <tr>\n",
       "      <th>3</th>\n",
       "      <td>Manager</td>\n",
       "      <td>4</td>\n",
       "      <td>80000</td>\n",
       "    </tr>\n",
       "    <tr>\n",
       "      <th>4</th>\n",
       "      <td>Country Manager</td>\n",
       "      <td>5</td>\n",
       "      <td>110000</td>\n",
       "    </tr>\n",
       "    <tr>\n",
       "      <th>5</th>\n",
       "      <td>Region Manager</td>\n",
       "      <td>6</td>\n",
       "      <td>150000</td>\n",
       "    </tr>\n",
       "    <tr>\n",
       "      <th>6</th>\n",
       "      <td>Partner</td>\n",
       "      <td>7</td>\n",
       "      <td>200000</td>\n",
       "    </tr>\n",
       "    <tr>\n",
       "      <th>7</th>\n",
       "      <td>Senior Partner</td>\n",
       "      <td>8</td>\n",
       "      <td>300000</td>\n",
       "    </tr>\n",
       "    <tr>\n",
       "      <th>8</th>\n",
       "      <td>C-level</td>\n",
       "      <td>9</td>\n",
       "      <td>500000</td>\n",
       "    </tr>\n",
       "    <tr>\n",
       "      <th>9</th>\n",
       "      <td>CEO</td>\n",
       "      <td>10</td>\n",
       "      <td>1000000</td>\n",
       "    </tr>\n",
       "  </tbody>\n",
       "</table>\n",
       "</div>"
      ],
      "text/plain": [
       "            Position  Level   Salary\n",
       "0   Business Analyst      1    45000\n",
       "1  Junior Consultant      2    50000\n",
       "2  Senior Consultant      3    60000\n",
       "3            Manager      4    80000\n",
       "4    Country Manager      5   110000\n",
       "5     Region Manager      6   150000\n",
       "6            Partner      7   200000\n",
       "7     Senior Partner      8   300000\n",
       "8            C-level      9   500000\n",
       "9                CEO     10  1000000"
      ]
     },
     "execution_count": 3,
     "metadata": {},
     "output_type": "execute_result"
    }
   ],
   "source": [
    "df"
   ]
  },
  {
   "cell_type": "code",
   "execution_count": 4,
   "id": "27c268ac",
   "metadata": {},
   "outputs": [
    {
     "data": {
      "text/plain": [
       "Position    0\n",
       "Level       0\n",
       "Salary      0\n",
       "dtype: int64"
      ]
     },
     "execution_count": 4,
     "metadata": {},
     "output_type": "execute_result"
    }
   ],
   "source": [
    "df.isnull().sum()"
   ]
  },
  {
   "cell_type": "code",
   "execution_count": 7,
   "id": "e88879c5",
   "metadata": {},
   "outputs": [],
   "source": [
    "X = df.iloc[:, 1:-1].values # using only the 'Level' column as independent variable\n",
    "y = df.iloc[:, -1].values"
   ]
  },
  {
   "cell_type": "code",
   "execution_count": 10,
   "id": "7943b33d",
   "metadata": {},
   "outputs": [
    {
     "data": {
      "text/plain": [
       "array([[ 1],\n",
       "       [ 2],\n",
       "       [ 3],\n",
       "       [ 4],\n",
       "       [ 5],\n",
       "       [ 6],\n",
       "       [ 7],\n",
       "       [ 8],\n",
       "       [ 9],\n",
       "       [10]], dtype=int64)"
      ]
     },
     "execution_count": 10,
     "metadata": {},
     "output_type": "execute_result"
    }
   ],
   "source": [
    "X"
   ]
  },
  {
   "cell_type": "code",
   "execution_count": 11,
   "id": "534f0ec6",
   "metadata": {},
   "outputs": [
    {
     "data": {
      "text/plain": [
       "array([  45000,   50000,   60000,   80000,  110000,  150000,  200000,\n",
       "        300000,  500000, 1000000], dtype=int64)"
      ]
     },
     "execution_count": 11,
     "metadata": {},
     "output_type": "execute_result"
    }
   ],
   "source": [
    "y"
   ]
  },
  {
   "cell_type": "markdown",
   "id": "195835f0",
   "metadata": {},
   "source": [
    "---"
   ]
  },
  {
   "cell_type": "markdown",
   "id": "ac16c1c3",
   "metadata": {},
   "source": [
    "### Training the Linear Regression model on the whole dataset"
   ]
  },
  {
   "cell_type": "code",
   "execution_count": 12,
   "id": "dde32cf9",
   "metadata": {},
   "outputs": [],
   "source": [
    "from sklearn.linear_model import LinearRegression\n",
    "# in this case we have a simple linear regression"
   ]
  },
  {
   "cell_type": "code",
   "execution_count": 14,
   "id": "6e8535d4",
   "metadata": {},
   "outputs": [],
   "source": [
    "# an object of this class\n",
    "lin_reg = LinearRegression()"
   ]
  },
  {
   "cell_type": "markdown",
   "id": "4d0cb16f",
   "metadata": {},
   "source": [
    "Remember here, that we didn't split the data set into a training set and a test set, because we want to leverage the maximum data in order to train our model."
   ]
  },
  {
   "cell_type": "code",
   "execution_count": 16,
   "id": "0ab39712",
   "metadata": {},
   "outputs": [
    {
     "data": {
      "text/plain": [
       "LinearRegression()"
      ]
     },
     "execution_count": 16,
     "metadata": {},
     "output_type": "execute_result"
    }
   ],
   "source": [
    "lin_reg.fit(X, y) # now we have a trained model on this dataset"
   ]
  },
  {
   "cell_type": "markdown",
   "id": "d6da72fd",
   "metadata": {},
   "source": [
    "---"
   ]
  },
  {
   "cell_type": "markdown",
   "id": "6f7daced",
   "metadata": {},
   "source": [
    "### Training the Polynomial Regression model on the whole dataset (2 degree)"
   ]
  },
  {
   "cell_type": "markdown",
   "id": "a2b1dc2e",
   "metadata": {},
   "source": [
    "- We're gonna __first create__ the matrix of features containing these __features at different powers__,\n",
    "- And then we'll __integrate__ that into a __linear regression model__, because indeed, this is a linear combination of these powered features."
   ]
  },
  {
   "cell_type": "code",
   "execution_count": 17,
   "id": "ae023992",
   "metadata": {},
   "outputs": [],
   "source": [
    "from sklearn.preprocessing import PolynomialFeatures"
   ]
  },
  {
   "cell_type": "code",
   "execution_count": 18,
   "id": "6e1a180d",
   "metadata": {},
   "outputs": [],
   "source": [
    "# create an object of this class\n",
    "poly_reg = PolynomialFeatures(degree=2)\n",
    "\n",
    "# y = b0 + b1 * x1 + b2 * x1**2"
   ]
  },
  {
   "cell_type": "markdown",
   "id": "5092f4b1",
   "metadata": {},
   "source": [
    "The transformation is to turn this matrix of a single feature into this new matrix of features\n",
    "composed of X1 as the first feature and X1 squared as the second feature."
   ]
  },
  {
   "cell_type": "code",
   "execution_count": 19,
   "id": "8595b6d2",
   "metadata": {},
   "outputs": [],
   "source": [
    "X_poly = poly_reg.fit_transform(X)"
   ]
  },
  {
   "cell_type": "code",
   "execution_count": 21,
   "id": "4ff3242c",
   "metadata": {},
   "outputs": [
    {
     "data": {
      "text/plain": [
       "array([[  1.,   1.,   1.],\n",
       "       [  1.,   2.,   4.],\n",
       "       [  1.,   3.,   9.],\n",
       "       [  1.,   4.,  16.],\n",
       "       [  1.,   5.,  25.],\n",
       "       [  1.,   6.,  36.],\n",
       "       [  1.,   7.,  49.],\n",
       "       [  1.,   8.,  64.],\n",
       "       [  1.,   9.,  81.],\n",
       "       [  1.,  10., 100.]])"
      ]
     },
     "execution_count": 21,
     "metadata": {},
     "output_type": "execute_result"
    }
   ],
   "source": [
    "X_poly\n",
    "# b0*x0, where x0=1"
   ]
  },
  {
   "cell_type": "code",
   "execution_count": 22,
   "id": "adbb5112",
   "metadata": {},
   "outputs": [
    {
     "data": {
      "text/plain": [
       "LinearRegression()"
      ]
     },
     "execution_count": 22,
     "metadata": {},
     "output_type": "execute_result"
    }
   ],
   "source": [
    "lin_reg_2 = LinearRegression()\n",
    "lin_reg_2.fit(X_poly, y)"
   ]
  },
  {
   "cell_type": "markdown",
   "id": "729c8891",
   "metadata": {},
   "source": [
    "---"
   ]
  },
  {
   "cell_type": "markdown",
   "id": "f9a3737a",
   "metadata": {},
   "source": [
    "### Visualising the Linear Regression results"
   ]
  },
  {
   "cell_type": "code",
   "execution_count": 30,
   "id": "8f7567f4",
   "metadata": {},
   "outputs": [
    {
     "data": {
      "image/png": "[encoded data removed]",
      "text/plain": [
       "<Figure size 432x288 with 1 Axes>"
      ]
     },
     "metadata": {
      "needs_background": "light"
     },
     "output_type": "display_data"
    }
   ],
   "source": [
    "plt.scatter(X, y, c='r')\n",
    "plt.plot(X, lin_reg.predict(X), c='blue')\n",
    "plt.title('Truth or Bluff (Linear Regression)')\n",
    "plt.xlabel('Position Level')\n",
    "plt.ylabel('Salary');"
   ]
  },
  {
   "cell_type": "markdown",
   "id": "8f587ab0",
   "metadata": {},
   "source": [
    "---"
   ]
  },
  {
   "cell_type": "markdown",
   "id": "4ae7525f",
   "metadata": {},
   "source": [
    "### Visualising the Polynomial Regression results"
   ]
  },
  {
   "cell_type": "code",
   "execution_count": 37,
   "id": "b1c4f3fd",
   "metadata": {},
   "outputs": [
    {
     "data": {
      "image/png": "[encoded data removed]",
      "text/plain": [
       "<Figure size 432x288 with 1 Axes>"
      ]
     },
     "metadata": {
      "needs_background": "light"
     },
     "output_type": "display_data"
    }
   ],
   "source": [
    "plt.scatter(X, y, c='r')\n",
    "plt.plot(X, lin_reg_2.predict(X_poly), c='blue')\n",
    "plt.title('Truth or Bluff (Polynomial Regression, degree=2)')\n",
    "plt.xlabel('Position Level')\n",
    "plt.ylabel('Salary');"
   ]
  },
  {
   "cell_type": "markdown",
   "id": "b3f05a70",
   "metadata": {},
   "source": [
    "I'm gonna show you then that with higher powers (n equals three or four..), we will get even better results."
   ]
  },
  {
   "cell_type": "markdown",
   "id": "b785dc8d",
   "metadata": {},
   "source": [
    "---"
   ]
  },
  {
   "cell_type": "markdown",
   "id": "c2ff6a13",
   "metadata": {},
   "source": [
    "### Training the Polynomial Regression model on the whole dataset (4 degree)"
   ]
  },
  {
   "cell_type": "code",
   "execution_count": 33,
   "id": "207279da",
   "metadata": {},
   "outputs": [
    {
     "data": {
      "text/plain": [
       "array([[1.000e+00, 1.000e+00, 1.000e+00, 1.000e+00, 1.000e+00],\n",
       "       [1.000e+00, 2.000e+00, 4.000e+00, 8.000e+00, 1.600e+01],\n",
       "       [1.000e+00, 3.000e+00, 9.000e+00, 2.700e+01, 8.100e+01],\n",
       "       [1.000e+00, 4.000e+00, 1.600e+01, 6.400e+01, 2.560e+02],\n",
       "       [1.000e+00, 5.000e+00, 2.500e+01, 1.250e+02, 6.250e+02],\n",
       "       [1.000e+00, 6.000e+00, 3.600e+01, 2.160e+02, 1.296e+03],\n",
       "       [1.000e+00, 7.000e+00, 4.900e+01, 3.430e+02, 2.401e+03],\n",
       "       [1.000e+00, 8.000e+00, 6.400e+01, 5.120e+02, 4.096e+03],\n",
       "       [1.000e+00, 9.000e+00, 8.100e+01, 7.290e+02, 6.561e+03],\n",
       "       [1.000e+00, 1.000e+01, 1.000e+02, 1.000e+03, 1.000e+04]])"
      ]
     },
     "execution_count": 33,
     "metadata": {},
     "output_type": "execute_result"
    }
   ],
   "source": [
    "poly_reg_4 = PolynomialFeatures(degree=4)\n",
    "X_poly_4 = poly_reg_4.fit_transform(X)\n",
    "X_poly_4"
   ]
  },
  {
   "cell_type": "code",
   "execution_count": 34,
   "id": "50730de2",
   "metadata": {},
   "outputs": [
    {
     "data": {
      "text/plain": [
       "LinearRegression()"
      ]
     },
     "execution_count": 34,
     "metadata": {},
     "output_type": "execute_result"
    }
   ],
   "source": [
    "lin_reg_4 = LinearRegression()\n",
    "lin_reg_4.fit(X_poly_4, y)"
   ]
  },
  {
   "cell_type": "code",
   "execution_count": 51,
   "id": "3b48cb73",
   "metadata": {},
   "outputs": [
    {
     "data": {
      "image/png": "[encoded data removed]",
      "text/plain": [
       "<Figure size 720x504 with 1 Axes>"
      ]
     },
     "metadata": {
      "needs_background": "light"
     },
     "output_type": "display_data"
    }
   ],
   "source": [
    "plt.figure(figsize=(10, 7))\n",
    "plt.scatter(X, y, c='r')\n",
    "plt.plot(X, lin_reg_4.predict(X_poly_4), c='blue')\n",
    "plt.title('Truth or Bluff (Polynomial Regression, degree=4)')\n",
    "plt.xlabel('Position Level')\n",
    "plt.ylabel('Salary');"
   ]
  },
  {
   "cell_type": "markdown",
   "id": "c063d81f",
   "metadata": {},
   "source": [
    "So here we clearly have __overfitting__.\n",
    "\n",
    "As you can see here, what happened is that only __some straight lines were plotted between each consecutive points__ of the data set. And therefore, that makes this curve not as smooth as we would hope for."
   ]
  },
  {
   "cell_type": "markdown",
   "id": "9069d798",
   "metadata": {},
   "source": [
    "---"
   ]
  },
  {
   "cell_type": "markdown",
   "id": "f834b2ec",
   "metadata": {},
   "source": [
    "### Visualising the Polynomial Regression results (for higher resolution and smoother curve)"
   ]
  },
  {
   "cell_type": "code",
   "execution_count": 42,
   "id": "f2cddb3a",
   "metadata": {},
   "outputs": [
    {
     "name": "stdout",
     "output_type": "stream",
     "text": [
      "[[ 1]\n",
      " [ 2]\n",
      " [ 3]\n",
      " [ 4]\n",
      " [ 5]\n",
      " [ 6]\n",
      " [ 7]\n",
      " [ 8]\n",
      " [ 9]\n",
      " [10]]\n"
     ]
    }
   ],
   "source": [
    "print(X)"
   ]
  },
  {
   "cell_type": "code",
   "execution_count": 43,
   "id": "5d7d92cc",
   "metadata": {
    "scrolled": true
   },
   "outputs": [
    {
     "data": {
      "text/plain": [
       "array([1. , 1.1, 1.2, 1.3, 1.4, 1.5, 1.6, 1.7, 1.8, 1.9, 2. , 2.1, 2.2,\n",
       "       2.3, 2.4, 2.5, 2.6, 2.7, 2.8, 2.9, 3. , 3.1, 3.2, 3.3, 3.4, 3.5,\n",
       "       3.6, 3.7, 3.8, 3.9, 4. , 4.1, 4.2, 4.3, 4.4, 4.5, 4.6, 4.7, 4.8,\n",
       "       4.9, 5. , 5.1, 5.2, 5.3, 5.4, 5.5, 5.6, 5.7, 5.8, 5.9, 6. , 6.1,\n",
       "       6.2, 6.3, 6.4, 6.5, 6.6, 6.7, 6.8, 6.9, 7. , 7.1, 7.2, 7.3, 7.4,\n",
       "       7.5, 7.6, 7.7, 7.8, 7.9, 8. , 8.1, 8.2, 8.3, 8.4, 8.5, 8.6, 8.7,\n",
       "       8.8, 8.9, 9. , 9.1, 9.2, 9.3, 9.4, 9.5, 9.6, 9.7, 9.8, 9.9])"
      ]
     },
     "execution_count": 43,
     "metadata": {},
     "output_type": "execute_result"
    }
   ],
   "source": [
    "X_grid = np.arange(min(X), max(X), 0.1)\n",
    "X_grid"
   ]
  },
  {
   "cell_type": "code",
   "execution_count": 44,
   "id": "dd491613",
   "metadata": {},
   "outputs": [],
   "source": [
    "X_grid = X_grid.reshape((len(X_grid), 1))"
   ]
  },
  {
   "cell_type": "code",
   "execution_count": 48,
   "id": "6a71f560",
   "metadata": {},
   "outputs": [
    {
     "data": {
      "text/plain": [
       "array([[1. ],\n",
       "       [1.1],\n",
       "       [1.2],\n",
       "       [1.3],\n",
       "       [1.4],\n",
       "       [1.5],\n",
       "       [1.6],\n",
       "       [1.7],\n",
       "       [1.8],\n",
       "       [1.9],\n",
       "       [2. ],\n",
       "       [2.1],\n",
       "       [2.2],\n",
       "       [2.3],\n",
       "       [2.4],\n",
       "       [2.5],\n",
       "       [2.6],\n",
       "       [2.7],\n",
       "       [2.8],\n",
       "       [2.9],\n",
       "       [3. ],\n",
       "       [3.1],\n",
       "       [3.2],\n",
       "       [3.3],\n",
       "       [3.4],\n",
       "       [3.5],\n",
       "       [3.6],\n",
       "       [3.7],\n",
       "       [3.8],\n",
       "       [3.9],\n",
       "       [4. ],\n",
       "       [4.1],\n",
       "       [4.2],\n",
       "       [4.3],\n",
       "       [4.4],\n",
       "       [4.5],\n",
       "       [4.6],\n",
       "       [4.7],\n",
       "       [4.8],\n",
       "       [4.9],\n",
       "       [5. ],\n",
       "       [5.1],\n",
       "       [5.2],\n",
       "       [5.3],\n",
       "       [5.4],\n",
       "       [5.5],\n",
       "       [5.6],\n",
       "       [5.7],\n",
       "       [5.8],\n",
       "       [5.9],\n",
       "       [6. ],\n",
       "       [6.1],\n",
       "       [6.2],\n",
       "       [6.3],\n",
       "       [6.4],\n",
       "       [6.5],\n",
       "       [6.6],\n",
       "       [6.7],\n",
       "       [6.8],\n",
       "       [6.9],\n",
       "       [7. ],\n",
       "       [7.1],\n",
       "       [7.2],\n",
       "       [7.3],\n",
       "       [7.4],\n",
       "       [7.5],\n",
       "       [7.6],\n",
       "       [7.7],\n",
       "       [7.8],\n",
       "       [7.9],\n",
       "       [8. ],\n",
       "       [8.1],\n",
       "       [8.2],\n",
       "       [8.3],\n",
       "       [8.4],\n",
       "       [8.5],\n",
       "       [8.6],\n",
       "       [8.7],\n",
       "       [8.8],\n",
       "       [8.9],\n",
       "       [9. ],\n",
       "       [9.1],\n",
       "       [9.2],\n",
       "       [9.3],\n",
       "       [9.4],\n",
       "       [9.5],\n",
       "       [9.6],\n",
       "       [9.7],\n",
       "       [9.8],\n",
       "       [9.9]])"
      ]
     },
     "execution_count": 48,
     "metadata": {},
     "output_type": "execute_result"
    }
   ],
   "source": [
    "X_grid"
   ]
  },
  {
   "cell_type": "code",
   "execution_count": 52,
   "id": "bc54883e",
   "metadata": {},
   "outputs": [
    {
     "data": {
      "image/png": "[encoded data removed]",
      "text/plain": [
       "<Figure size 720x504 with 1 Axes>"
      ]
     },
     "metadata": {
      "needs_background": "light"
     },
     "output_type": "display_data"
    }
   ],
   "source": [
    "plt.figure(figsize=(10, 7))\n",
    "plt.scatter(X, y, c='r')\n",
    "plt.plot(X_grid, lin_reg_4.predict(poly_reg_4.fit_transform(X_grid)), c='blue')\n",
    "plt.title('Truth or Bluff (Polynomial Regression Smoother, degree=4)')\n",
    "plt.xlabel('Position Level')\n",
    "plt.ylabel('Salary');"
   ]
  },
  {
   "cell_type": "markdown",
   "id": "4e077bae",
   "metadata": {},
   "source": [
    "The trick to plot this curve is just to instead of taking the integers 1, 2, 3, 4, 5, 6, 7, 8, 9, 10, we increase the density of these points by taking with a step 0.1. "
   ]
  },
  {
   "cell_type": "markdown",
   "id": "c8a59482",
   "metadata": {},
   "source": [
    "---"
   ]
  },
  {
   "cell_type": "markdown",
   "id": "d029c6cb",
   "metadata": {},
   "source": [
    "### Predicting a new result with Linear Regression"
   ]
  },
  {
   "cell_type": "code",
   "execution_count": null,
   "id": "5e95f2b7",
   "metadata": {},
   "outputs": [],
   "source": [
    "# predicting the salary of the position level 6.5"
   ]
  },
  {
   "cell_type": "code",
   "execution_count": 53,
   "id": "222b8fa8",
   "metadata": {},
   "outputs": [
    {
     "data": {
      "text/plain": [
       "array([330378.78787879])"
      ]
     },
     "execution_count": 53,
     "metadata": {},
     "output_type": "execute_result"
    }
   ],
   "source": [
    "lin_reg.predict([[6.5]])\n",
    "\n",
    "# you always have to input your observations in an array\n",
    "# generally in Python an array is built with pairs of square brackets\n",
    "# a pair of square brackets creates a list"
   ]
  },
  {
   "cell_type": "markdown",
   "id": "8d8ca17f",
   "metadata": {},
   "source": [
    "This is a bad prediction (look at the first plot)"
   ]
  },
  {
   "cell_type": "markdown",
   "id": "9a1c8220",
   "metadata": {},
   "source": [
    "---"
   ]
  },
  {
   "cell_type": "markdown",
   "id": "1f86bc4b",
   "metadata": {},
   "source": [
    "### Predicting a new result with Polynomial Regression"
   ]
  },
  {
   "cell_type": "markdown",
   "id": "684afcc3",
   "metadata": {},
   "source": [
    "## !!!"
   ]
  },
  {
   "cell_type": "code",
   "execution_count": 54,
   "id": "4f6c8233",
   "metadata": {},
   "outputs": [],
   "source": [
    "# predicting the salary of the position level 6.5\n",
    "\n",
    "# !!! first we need to transform it to Polynomial Features"
   ]
  },
  {
   "cell_type": "code",
   "execution_count": 59,
   "id": "3bd4562b",
   "metadata": {},
   "outputs": [
    {
     "data": {
      "text/plain": [
       "array([158862.45265153])"
      ]
     },
     "execution_count": 59,
     "metadata": {},
     "output_type": "execute_result"
    }
   ],
   "source": [
    "lin_reg_4.predict(poly_reg_4.fit_transform([[6.5]]))"
   ]
  },
  {
   "cell_type": "code",
   "execution_count": 58,
   "id": "1348fc22",
   "metadata": {},
   "outputs": [
    {
     "data": {
      "text/plain": [
       "array([[1.0000000e+00, 6.5000000e+00, 4.2250000e+01, 2.7462500e+02,\n",
       "        1.7850625e+03]])"
      ]
     },
     "execution_count": 58,
     "metadata": {},
     "output_type": "execute_result"
    }
   ],
   "source": [
    "poly_reg_4.fit_transform([[6.5]])"
   ]
  },
  {
   "cell_type": "markdown",
   "id": "75e945be",
   "metadata": {},
   "source": [
    "---"
   ]
  }
 ],
 "metadata": {
  "kernelspec": {
   "display_name": "Python 3 (ipykernel)",
   "language": "python",
   "name": "python3"
  },
  "language_info": {
   "codemirror_mode": {
    "name": "ipython",
    "version": 3
   },
   "file_extension": ".py",
   "mimetype": "text/x-python",
   "name": "python",
   "nbconvert_exporter": "python",
   "pygments_lexer": "ipython3",
   "version": "3.9.12"
  }
 },
 "nbformat": 4,
 "nbformat_minor": 5
}
