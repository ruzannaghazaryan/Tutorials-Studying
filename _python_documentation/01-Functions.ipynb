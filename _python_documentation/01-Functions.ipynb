{
 "cells": [
  {
   "cell_type": "code",
   "execution_count": 1,
   "id": "375845b3-d919-4fb6-a2b1-18750fedb387",
   "metadata": {},
   "outputs": [],
   "source": [
    "# write Fibonacci series up to n"
   ]
  },
  {
   "cell_type": "code",
   "execution_count": 4,
   "id": "3afa6c09-568a-49c3-92ff-bbee1dedaa25",
   "metadata": {},
   "outputs": [],
   "source": [
    "def fib(n):\n",
    "    \"\"\"Print a Fibonacci series up to n.\"\"\"\n",
    "    a, b = 0, 1\n",
    "    while a < n:\n",
    "        print(a, end=' ')\n",
    "        a, b = b, a + b\n",
    "    print()"
   ]
  },
  {
   "cell_type": "code",
   "execution_count": 5,
   "id": "cef75df6-5d07-4702-a0c1-dd2143962946",
   "metadata": {},
   "outputs": [
    {
     "name": "stdout",
     "output_type": "stream",
     "text": [
      "0 1 1 2 3 5 8 13 21 34 55 89 144 233 377 610 987 1597 \n"
     ]
    }
   ],
   "source": [
    "fib(2000)"
   ]
  },
  {
   "cell_type": "markdown",
   "id": "84edcf2c-7fe8-4d05-860d-b415f71c3ba4",
   "metadata": {},
   "source": [
    "---"
   ]
  },
  {
   "cell_type": "markdown",
   "id": "69da64d2-0be1-4c2f-8906-22fcf2eda100",
   "metadata": {},
   "source": [
    "The keyword ___def___ introduces a function definition. It must be ___followed by the function name___ and the ___parenthesized list of formal parameters___.\n",
    "\n",
    "The first statement of the function body can optionally be a string literal; this string literal is the function’s documentation string, or ___docstring___."
   ]
  },
  {
   "cell_type": "markdown",
   "id": "c3d3f7c6-e601-411e-b863-41ba7147aa23",
   "metadata": {},
   "source": [
    "---"
   ]
  },
  {
   "cell_type": "markdown",
   "id": "dc12ed8f-6bdf-4702-84c9-747312358082",
   "metadata": {},
   "source": [
    "The ___execution___ of a function introduces __<u>a new symbol table used for the local variables</u>__ of the function. More precisely, all variable assignments in a function store the value in the local symbol table; whereas variable references first look in the local symbol table, then in the local symbol tables of enclosing functions, then in the global symbol table, and finally in the table of built-in names which means:\n",
    "\n",
    "When _a variable is referenced (i.e., read) inside the function_, Python searches for the variable's value in a specific order:\n",
    " - Local Symbol Table: First, it looks in the current function's local symbol table.\n",
    " - Enclosing Functions: If the variable is not found, Python looks in the symbol tables of any enclosing functions (if the function is nested within other functions).\n",
    " - Global Symbol Table: If still not found, Python searches in the global symbol table (the module-level scope).\n",
    " - Built-in Names: Finally, if the variable is not found in any of the above, Python looks in the built-in namespace (e.g., len, range)."
   ]
  },
  {
   "cell_type": "code",
   "execution_count": 13,
   "id": "1fd91a28-cde1-4013-b370-829be943a838",
   "metadata": {},
   "outputs": [
    {
     "name": "stdout",
     "output_type": "stream",
     "text": [
      "30\n",
      "20\n",
      "10\n"
     ]
    }
   ],
   "source": [
    "# Here's a code example to illustrate how this works:\n",
    "\n",
    "x = 10 # global variable\n",
    "\n",
    "def outer_function():\n",
    "    y = 20 # enclosing function variable\n",
    "\n",
    "    def inner_function():\n",
    "        z = 30 # local variable\n",
    "\n",
    "        print(z)  # Looks in local symbol table of inner_function, finds 30\n",
    "        print(y)  # Looks in local symbol table of inner_function, not found, looks in outer_function's symbol table, finds 20\n",
    "        print(x)  # Looks in local symbol table of inner_function, not found, looks in outer_function's symbol table, not found, looks in global symbol table, finds 10\n",
    "\n",
    "    inner_function()\n",
    "\n",
    "outer_function()"
   ]
  },
  {
   "cell_type": "markdown",
   "id": "1298adf6-4bdc-4fd6-ab75-d726a8d08d9f",
   "metadata": {},
   "source": [
    "---"
   ]
  },
  {
   "cell_type": "markdown",
   "id": "6c6e3184-abfa-4b8d-a049-a855757e5cc5",
   "metadata": {},
   "source": [
    "Thus, <u>global variables and variables of enclosing functions cannot be directly assigned a value within a function</u> (unless, for global variables, named in a ___global___ statement, or, for variables of enclosing functions, named in a ___nonlocal___ statement), although they may be referenced."
   ]
  },
  {
   "cell_type": "markdown",
   "id": "fc8098b2-b2f1-4290-a1be-3d30765ba018",
   "metadata": {},
   "source": [
    "__1. Global Variables__:\n",
    "\n",
    "- __Reference__: You can read (reference) global variables from within a function without any special declarations.\n",
    "- __Assignment__: To assign a new value to a global variable from within a function, you must explicitly declare the variable as global using the ___global___ __statement__.\n"
   ]
  },
  {
   "cell_type": "code",
   "execution_count": 18,
   "id": "e762a5bc-d5d2-4352-8f7e-b792b6caa51d",
   "metadata": {},
   "outputs": [
    {
     "name": "stdout",
     "output_type": "stream",
     "text": [
      "20\n",
      "20\n"
     ]
    }
   ],
   "source": [
    "x = 10  # This is a global variable\n",
    "\n",
    "def my_function():\n",
    "    global x  # Declare x as global\n",
    "    x = 20    # Modify the global variable\n",
    "    print(x)\n",
    "\n",
    "my_function()  # Outputs: 20\n",
    "print(x)       # Outputs: 20 (the global variable x has been modified)"
   ]
  },
  {
   "cell_type": "code",
   "execution_count": 20,
   "id": "d445a6ea-c5d4-4c4c-8ff2-86c009849f23",
   "metadata": {},
   "outputs": [
    {
     "name": "stdout",
     "output_type": "stream",
     "text": [
      "20\n",
      "10\n"
     ]
    }
   ],
   "source": [
    "x = 10\n",
    "\n",
    "def foo():\n",
    "    x = 20\n",
    "    print(x) # creates a new symbol table for this foo's local variables, this is not global variable x\n",
    "\n",
    "foo()\n",
    "print(x) # this one is a global variable x, which wasn't changed"
   ]
  },
  {
   "cell_type": "markdown",
   "id": "2dc610cd-7bb4-4ce0-9a60-f681e39efc5c",
   "metadata": {},
   "source": [
    "---"
   ]
  },
  {
   "cell_type": "markdown",
   "id": "3772acde-5d43-4439-8a06-5d1b417cefb5",
   "metadata": {},
   "source": [
    "__2. Variables of Enclosing Functions:__\n",
    "\n",
    "- __Reference:__ You can read (reference) variables from an enclosing function's scope (a function defined within another function) without any special declarations.\n",
    "- __Assignment:__ To assign a new value to a variable from an enclosing function's scope, you must explicitly declare the variable as nonlocal using the nonlocal statement.\n"
   ]
  },
  {
   "cell_type": "code",
   "execution_count": 21,
   "id": "ea2702c7-03df-41ef-8f3d-dae1b66f13f9",
   "metadata": {},
   "outputs": [
    {
     "name": "stdout",
     "output_type": "stream",
     "text": [
      "20\n",
      "20\n"
     ]
    }
   ],
   "source": [
    "def outer_function():\n",
    "    y = 10  # This is in the enclosing function's scope\n",
    "    \n",
    "    def inner_function():\n",
    "        nonlocal y  # Declare y as nonlocal\n",
    "        y = 20      # Modify the variable in the enclosing function's scope\n",
    "        print(y)\n",
    "    \n",
    "    inner_function()  # Outputs: 20\n",
    "    print(y)          # Outputs: 20 (the variable y in the enclosing scope has been modified)\n",
    "\n",
    "outer_function()"
   ]
  },
  {
   "cell_type": "code",
   "execution_count": 23,
   "id": "62542c7a-0910-4f84-b7b4-64081290079a",
   "metadata": {},
   "outputs": [
    {
     "name": "stdout",
     "output_type": "stream",
     "text": [
      "20\n",
      "10\n"
     ]
    }
   ],
   "source": [
    "def outer_function():\n",
    "    y = 10  # This is in the enclosing function's scope\n",
    "    \n",
    "    def inner_function():\n",
    "        # nonlocal y  # Declare y as nonlocal\n",
    "        y = 20      # Modify the variable in the enclosing function's scope\n",
    "        print(y)\n",
    "    \n",
    "    inner_function()  # Outputs: 20\n",
    "    print(y)          # Outputs: 10 \n",
    "\n",
    "outer_function()"
   ]
  },
  {
   "cell_type": "markdown",
   "id": "39436973-d3a3-4770-a77b-233e19eebd66",
   "metadata": {},
   "source": [
    "---"
   ]
  },
  {
   "cell_type": "code",
   "execution_count": null,
   "id": "6dbd8c88-b62f-4ed0-a8c2-0fbda4138f72",
   "metadata": {},
   "outputs": [],
   "source": []
  }
 ],
 "metadata": {
  "kernelspec": {
   "display_name": "Python 3 (ipykernel)",
   "language": "python",
   "name": "python3"
  },
  "language_info": {
   "codemirror_mode": {
    "name": "ipython",
    "version": 3
   },
   "file_extension": ".py",
   "mimetype": "text/x-python",
   "name": "python",
   "nbconvert_exporter": "python",
   "pygments_lexer": "ipython3",
   "version": "3.11.9"
  }
 },
 "nbformat": 4,
 "nbformat_minor": 5
}
