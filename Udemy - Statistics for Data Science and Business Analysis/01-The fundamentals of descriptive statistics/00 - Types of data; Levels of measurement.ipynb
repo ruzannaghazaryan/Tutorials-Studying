{
 "cells": [
  {
   "cell_type": "markdown",
   "id": "37b13077",
   "metadata": {},
   "source": [
    "---"
   ]
  },
  {
   "cell_type": "markdown",
   "id": "e03888de",
   "metadata": {},
   "source": [
    "Different types of variables require different types of statistical and visualization approaches.\n",
    "\n",
    "We can __classify data__ in two main ways - based on its __type__ and on its __measurement level__."
   ]
  },
  {
   "cell_type": "markdown",
   "id": "a35e9b62",
   "metadata": {},
   "source": [
    "---"
   ]
  },
  {
   "cell_type": "markdown",
   "id": "7088c5f9",
   "metadata": {},
   "source": [
    "<img src='datatypes.png' width='600'/>"
   ]
  },
  {
   "cell_type": "markdown",
   "id": "7f745d41",
   "metadata": {},
   "source": [
    "- __Categorical data__ describes categories or groups (for example, car brands; questions yes/no, marital status).\n",
    "\n",
    "- __Numerical data__, on the other hand, represents numbers.\n",
    "<br>It is further divided into two subsets - __discrete__ and __continuous__.\n",
    "\n",
    "  - __Discrete data__ can usually be counted in a __finite__ matter (the number of children that you want to have). What is important for a variable to be defined as discrete is that you can imagine each member of the data set (the number of objects in general, no matter if bottles, glasses, tables or cars, they can only take __integer values__). \n",
    "  - __Continuous data__ is __infinite__ and impossible to count (for instance, your weight can take on __every value in some range__; height, area, distance and time). "
   ]
  },
  {
   "cell_type": "markdown",
   "id": "85d69910",
   "metadata": {},
   "source": [
    "---"
   ]
  },
  {
   "cell_type": "markdown",
   "id": "4ca1f5e1",
   "metadata": {},
   "source": [
    "It’s time to move onto the other classification – __levels of measurement__. These can be split into two groups: __qualitative__ and __quantitative__ data."
   ]
  },
  {
   "cell_type": "markdown",
   "id": "efbdd642",
   "metadata": {},
   "source": [
    "- __Qualitative data__ can be\n",
    "  - __nominal__ - nominal variables are like the categories we talked about – Mercedes, BMW or Audi, or like the four seasons – winter, spring, summer and autumn. They aren’t numbers and cannot be ordered.  \n",
    "  - __ordinal__ - ordinal data, on the other hand, consists of groups and categories which follow a strict order.\n",
    "- __Quantitative data__\n",
    "  - __interval__ \n",
    "  - __ratio__\n",
    "  <br>Intervals and ratios are both represented by numbers but have _one major difference_. Ratios have a true zero and intervals don’t. Temperature is the most common example of an interval variable.\n",
    "  <br>(The \"0\" value usually means nothing or absence or non-existence. If we are dealing with number of siblings, when we say 0 siblings, this means that one has no brother nor sister. For a person with a zero weight could possibly mean that person does not exist. In temperature, a 0 degrees Celsius does not mean absence of temperature. In fact, it is the freezing point of water.)"
   ]
  },
  {
   "cell_type": "code",
   "execution_count": null,
   "id": "eb3adc5f",
   "metadata": {},
   "outputs": [],
   "source": []
  }
 ],
 "metadata": {
  "kernelspec": {
   "display_name": "Python 3 (ipykernel)",
   "language": "python",
   "name": "python3"
  },
  "language_info": {
   "codemirror_mode": {
    "name": "ipython",
    "version": 3
   },
   "file_extension": ".py",
   "mimetype": "text/x-python",
   "name": "python",
   "nbconvert_exporter": "python",
   "pygments_lexer": "ipython3",
   "version": "3.7.11"
  }
 },
 "nbformat": 4,
 "nbformat_minor": 5
}
