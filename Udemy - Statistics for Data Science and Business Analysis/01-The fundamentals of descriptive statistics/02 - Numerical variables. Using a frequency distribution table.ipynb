{
 "cells": [
  {
   "cell_type": "markdown",
   "id": "28d97ee2",
   "metadata": {},
   "source": [
    "---"
   ]
  },
  {
   "cell_type": "markdown",
   "id": "4cb5ba8c",
   "metadata": {},
   "source": [
    "When we deal with __numerical variables__, it makes much more sense __to group the data into intervals (intervals of equal length)__ and then find __the corresponding frequencies__."
   ]
  },
  {
   "cell_type": "markdown",
   "id": "d01129e3",
   "metadata": {},
   "source": [
    "---"
   ]
  },
  {
   "cell_type": "markdown",
   "id": "c08d15b8",
   "metadata": {},
   "source": [
    "The simple formula that we use is as follows: \n",
    "\n",
    "__the interval width = (the largest number - the smallest number) / the number of desired intervals__\n",
    "\n",
    "\n",
    "** Round up to the nearest whole number, bigger than the result that you obtain."
   ]
  },
  {
   "cell_type": "markdown",
   "id": "2646ac7f",
   "metadata": {},
   "source": [
    "---"
   ]
  },
  {
   "cell_type": "markdown",
   "id": "08c92597",
   "metadata": {},
   "source": [
    "The most common graph used to represent numerical data is the __histogram__.\n",
    "\n",
    "The intervals in the histogram are called __'bins'__."
   ]
  },
  {
   "cell_type": "markdown",
   "id": "b33dec9a",
   "metadata": {},
   "source": [
    "---"
   ]
  },
  {
   "cell_type": "code",
   "execution_count": null,
   "id": "cf0d59f7",
   "metadata": {},
   "outputs": [],
   "source": []
  }
 ],
 "metadata": {
  "kernelspec": {
   "display_name": "Python 3 (ipykernel)",
   "language": "python",
   "name": "python3"
  },
  "language_info": {
   "codemirror_mode": {
    "name": "ipython",
    "version": 3
   },
   "file_extension": ".py",
   "mimetype": "text/x-python",
   "name": "python",
   "nbconvert_exporter": "python",
   "pygments_lexer": "ipython3",
   "version": "3.7.11"
  }
 },
 "nbformat": 4,
 "nbformat_minor": 5
}
