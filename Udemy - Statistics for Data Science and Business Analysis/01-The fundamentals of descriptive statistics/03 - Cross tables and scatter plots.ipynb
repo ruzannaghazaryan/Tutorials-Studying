{
 "cells": [
  {
   "cell_type": "markdown",
   "id": "78d69f0c",
   "metadata": {},
   "source": [
    "---"
   ]
  },
  {
   "cell_type": "markdown",
   "id": "279ce6eb",
   "metadata": {},
   "source": [
    "So far, we have covered graphs that represent only one variable. \n",
    "<br>But how do we represent __relationships between two variables__?"
   ]
  },
  {
   "cell_type": "markdown",
   "id": "b86b8c74",
   "metadata": {},
   "source": [
    "---"
   ]
  },
  {
   "cell_type": "markdown",
   "id": "212af5f1",
   "metadata": {},
   "source": [
    "Let’s start with __categorical variables__.\n",
    "<br>The most common way to represent them is using __cross tables__, or as some statisticians call them – contingency tables."
   ]
  },
  {
   "cell_type": "markdown",
   "id": "e36e81e8",
   "metadata": {},
   "source": [
    "<img src='crosstables.png'>"
   ]
  },
  {
   "cell_type": "markdown",
   "id": "14cd14ca",
   "metadata": {},
   "source": [
    "---\n",
    "---"
   ]
  },
  {
   "cell_type": "markdown",
   "id": "59021de8",
   "metadata": {},
   "source": [
    "The __scatterplot__ is used when representing __two numerical variables__.\n",
    "\n",
    "When interpreting a scatterplot, a statistician is not expected to look into single data points. He would be much more interested in getting the main idea of how the data is distributed."
   ]
  },
  {
   "cell_type": "markdown",
   "id": "70de6579",
   "metadata": {},
   "source": [
    "---"
   ]
  },
  {
   "cell_type": "markdown",
   "id": "37dd7f7b",
   "metadata": {},
   "source": [
    "An __outlier__ - it goes against the logic of the whole dataset."
   ]
  },
  {
   "cell_type": "markdown",
   "id": "0310817a",
   "metadata": {},
   "source": [
    "---"
   ]
  },
  {
   "cell_type": "code",
   "execution_count": null,
   "id": "484a5b78",
   "metadata": {},
   "outputs": [],
   "source": []
  }
 ],
 "metadata": {
  "kernelspec": {
   "display_name": "Python 3 (ipykernel)",
   "language": "python",
   "name": "python3"
  },
  "language_info": {
   "codemirror_mode": {
    "name": "ipython",
    "version": 3
   },
   "file_extension": ".py",
   "mimetype": "text/x-python",
   "name": "python",
   "nbconvert_exporter": "python",
   "pygments_lexer": "ipython3",
   "version": "3.7.11"
  }
 },
 "nbformat": 4,
 "nbformat_minor": 5
}
