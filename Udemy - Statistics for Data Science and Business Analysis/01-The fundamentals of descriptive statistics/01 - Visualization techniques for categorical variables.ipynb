{
 "cells": [
  {
   "cell_type": "markdown",
   "id": "b08c6c9a",
   "metadata": {},
   "source": [
    "---"
   ]
  },
  {
   "cell_type": "markdown",
   "id": "bdf5a49f",
   "metadata": {},
   "source": [
    "<img src='photo_2022-06-09_08-39-25.jpg' width='550'/>"
   ]
  },
  {
   "cell_type": "markdown",
   "id": "1a2340b8",
   "metadata": {},
   "source": [
    "---"
   ]
  },
  {
   "cell_type": "markdown",
   "id": "ee670229",
   "metadata": {},
   "source": [
    "Some of the most common ways to visualize categorical variables are __frequency distribution tables, bar charts, pie charts and Pareto diagrams__."
   ]
  },
  {
   "cell_type": "markdown",
   "id": "2ec42fd0",
   "metadata": {},
   "source": [
    "---"
   ]
  },
  {
   "cell_type": "markdown",
   "id": "566ddfa9",
   "metadata": {},
   "source": [
    "First, let's see what a __frequency distribution table__ looks like.\n",
    "<br>It has two columns, the category itself and the corresponding frequency."
   ]
  },
  {
   "cell_type": "markdown",
   "id": "26fc64b0",
   "metadata": {},
   "source": [
    "---"
   ]
  },
  {
   "cell_type": "markdown",
   "id": "e5792caf",
   "metadata": {},
   "source": [
    "- By __frequency__ statisticians mean the number of occurrences of each item.\n",
    "- When we calculate what percentage of the total each category represents - in statistics, this is known as __relative frequency__.\n",
    "- Naturally, all relative frequencies add up to 100 percent."
   ]
  },
  {
   "cell_type": "markdown",
   "id": "dbddda8a",
   "metadata": {},
   "source": [
    "---"
   ]
  },
  {
   "cell_type": "markdown",
   "id": "bd348c2c",
   "metadata": {},
   "source": [
    "- In fact, a __Pareto diagram__ is nothing more than a special type of bar chart where categories are shown in descending order of frequency.\n",
    "- There is one last touch to make it one, a curve on the same graph showing the __cumulative frequency__. The cumulative frequency is the sum of the relative frequencies, it starts as the frequency of the first category and then we add the second, the third and so on until it finishes at one hundred percent.\n",
    "- A Pareto diagram is designed to show __how subtotals change with each additional category__ and provide us with a better understanding of our data."
   ]
  },
  {
   "cell_type": "markdown",
   "id": "a86046de",
   "metadata": {},
   "source": [
    "---"
   ]
  },
  {
   "cell_type": "markdown",
   "id": "dfd44577",
   "metadata": {},
   "source": [
    "You may have heard of another idea of his (Pareto) - __the Pareto Principle__, also known as the __80/20 rule__. It states that 80 percent of the effects come from 20 percent of the causes. (A real life example is a statement by Microsoft that by fixing 20 percent of its software bugs, they manage to solve 80 percent of the problems customers experience.)"
   ]
  },
  {
   "cell_type": "code",
   "execution_count": null,
   "id": "2c81c407",
   "metadata": {},
   "outputs": [],
   "source": []
  }
 ],
 "metadata": {
  "kernelspec": {
   "display_name": "Python 3 (ipykernel)",
   "language": "python",
   "name": "python3"
  },
  "language_info": {
   "codemirror_mode": {
    "name": "ipython",
    "version": 3
   },
   "file_extension": ".py",
   "mimetype": "text/x-python",
   "name": "python",
   "nbconvert_exporter": "python",
   "pygments_lexer": "ipython3",
   "version": "3.7.11"
  }
 },
 "nbformat": 4,
 "nbformat_minor": 5
}
