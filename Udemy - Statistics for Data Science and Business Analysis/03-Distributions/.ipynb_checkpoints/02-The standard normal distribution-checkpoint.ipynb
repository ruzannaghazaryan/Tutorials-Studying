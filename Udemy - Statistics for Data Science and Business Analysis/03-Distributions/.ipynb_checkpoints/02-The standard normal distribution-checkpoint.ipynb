{
 "cells": [
  {
   "cell_type": "markdown",
   "id": "7f252c22",
   "metadata": {},
   "source": [
    "- What is the purpose of standardizing the distribution?\n",
    "      \n",
    "      Standardization is a common technique to deal with many different problems with the data. The biggest one being:    scale.\n",
    "      When our data is of completely different scale like this:\n",
    "      One variable takes values in the range: 500,000 to 1,000,000.\n",
    "      Another takes values in the range: 0.001 to 0.005.\n",
    "      Then the two are not really comparable. This causes a great deal of problems when using machine learning models    (linear   regression included).\n",
    "      A simple solution is to standardize all variables. Once they have the same magnitude/scale, models work much better (due to homoscedasticity, etc.)."
   ]
  },
  {
   "cell_type": "markdown",
   "id": "75e708ac",
   "metadata": {},
   "source": [
    "---"
   ]
  },
  {
   "cell_type": "markdown",
   "id": "7a32d587",
   "metadata": {},
   "source": [
    "- To __inverse standardize__, the formula is: multiply by the standard deviation and then add the mean.\n",
    "<br>In this way, you will be back to the original distribution of the data.\n",
    "\n"
   ]
  },
  {
   "cell_type": "markdown",
   "id": "23c933c6",
   "metadata": {},
   "source": [
    "---"
   ]
  },
  {
   "cell_type": "markdown",
   "id": "348946ef",
   "metadata": {},
   "source": [
    "- Can we use __standartization on skewed data (not normal distrubition)__?\n",
    "  \n",
    "      Yes, you can standardize skewed data, too. \n",
    "      When you standardize data from a Normal distribution you reach a Standard normal distribution.\n",
    "      When you standardize data from a non-normal distribution you simply reach standardized data. \n",
    "      Why would you want to do that? Well, when you are feeding data to an algorithm, you often want all your data to be  scaled in the same way. Standardization is one way to do that."
   ]
  },
  {
   "cell_type": "markdown",
   "id": "df16d6de",
   "metadata": {},
   "source": [
    "---"
   ]
  },
  {
   "cell_type": "markdown",
   "id": "9c2451c2",
   "metadata": {},
   "source": [
    "The standardization process is the same for both sample and population.\n",
    "<br>For a sample, we would standardize using the sample mean and the sample variance.\n",
    "<br>For a population, we would standardize using the population mean and the population variance."
   ]
  },
  {
   "cell_type": "markdown",
   "id": "31b47885",
   "metadata": {},
   "source": [
    "---"
   ]
  },
  {
   "cell_type": "code",
   "execution_count": 30,
   "id": "72d5827a",
   "metadata": {},
   "outputs": [],
   "source": [
    "import pandas as pd"
   ]
  },
  {
   "cell_type": "code",
   "execution_count": 31,
   "id": "804eb0ba",
   "metadata": {},
   "outputs": [],
   "source": [
    "df = pd.read_excel('3.4.Standard-normal-distribution-exercise.xlsx')"
   ]
  },
  {
   "cell_type": "code",
   "execution_count": 32,
   "id": "76bd7973",
   "metadata": {},
   "outputs": [
    {
     "data": {
      "text/html": [
       "<div>\n",
       "<style scoped>\n",
       "    .dataframe tbody tr th:only-of-type {\n",
       "        vertical-align: middle;\n",
       "    }\n",
       "\n",
       "    .dataframe tbody tr th {\n",
       "        vertical-align: top;\n",
       "    }\n",
       "\n",
       "    .dataframe thead th {\n",
       "        text-align: right;\n",
       "    }\n",
       "</style>\n",
       "<table border=\"1\" class=\"dataframe\">\n",
       "  <thead>\n",
       "    <tr style=\"text-align: right;\">\n",
       "      <th></th>\n",
       "      <th>Unnamed: 0</th>\n",
       "      <th>Standard normal distribution</th>\n",
       "      <th>Unnamed: 2</th>\n",
       "    </tr>\n",
       "  </thead>\n",
       "  <tbody>\n",
       "    <tr>\n",
       "      <th>0</th>\n",
       "      <td>NaN</td>\n",
       "      <td>NaN</td>\n",
       "      <td>NaN</td>\n",
       "    </tr>\n",
       "    <tr>\n",
       "      <th>1</th>\n",
       "      <td>NaN</td>\n",
       "      <td>Background</td>\n",
       "      <td>You are given an approximately normally distri...</td>\n",
       "    </tr>\n",
       "    <tr>\n",
       "      <th>2</th>\n",
       "      <td>NaN</td>\n",
       "      <td>Task 1</td>\n",
       "      <td>Calculate the mean and standard deviation of t...</td>\n",
       "    </tr>\n",
       "    <tr>\n",
       "      <th>3</th>\n",
       "      <td>NaN</td>\n",
       "      <td>Task 2</td>\n",
       "      <td>Standardize the dataset</td>\n",
       "    </tr>\n",
       "    <tr>\n",
       "      <th>4</th>\n",
       "      <td>NaN</td>\n",
       "      <td>Task 3</td>\n",
       "      <td>Plot the data on a graph to see the change</td>\n",
       "    </tr>\n",
       "    <tr>\n",
       "      <th>...</th>\n",
       "      <td>...</td>\n",
       "      <td>...</td>\n",
       "      <td>...</td>\n",
       "    </tr>\n",
       "    <tr>\n",
       "      <th>84</th>\n",
       "      <td>NaN</td>\n",
       "      <td>842.866667</td>\n",
       "      <td>NaN</td>\n",
       "    </tr>\n",
       "    <tr>\n",
       "      <th>85</th>\n",
       "      <td>NaN</td>\n",
       "      <td>849.616667</td>\n",
       "      <td>NaN</td>\n",
       "    </tr>\n",
       "    <tr>\n",
       "      <th>86</th>\n",
       "      <td>NaN</td>\n",
       "      <td>874.7</td>\n",
       "      <td>NaN</td>\n",
       "    </tr>\n",
       "    <tr>\n",
       "      <th>87</th>\n",
       "      <td>NaN</td>\n",
       "      <td>878.783333</td>\n",
       "      <td>NaN</td>\n",
       "    </tr>\n",
       "    <tr>\n",
       "      <th>88</th>\n",
       "      <td>NaN</td>\n",
       "      <td>897.45</td>\n",
       "      <td>NaN</td>\n",
       "    </tr>\n",
       "  </tbody>\n",
       "</table>\n",
       "<p>89 rows × 3 columns</p>\n",
       "</div>"
      ],
      "text/plain": [
       "    Unnamed: 0 Standard normal distribution  \\\n",
       "0          NaN                          NaN   \n",
       "1          NaN                   Background   \n",
       "2          NaN                       Task 1   \n",
       "3          NaN                       Task 2   \n",
       "4          NaN                       Task 3   \n",
       "..         ...                          ...   \n",
       "84         NaN                   842.866667   \n",
       "85         NaN                   849.616667   \n",
       "86         NaN                        874.7   \n",
       "87         NaN                   878.783333   \n",
       "88         NaN                       897.45   \n",
       "\n",
       "                                           Unnamed: 2  \n",
       "0                                                 NaN  \n",
       "1   You are given an approximately normally distri...  \n",
       "2   Calculate the mean and standard deviation of t...  \n",
       "3                             Standardize the dataset  \n",
       "4          Plot the data on a graph to see the change  \n",
       "..                                                ...  \n",
       "84                                                NaN  \n",
       "85                                                NaN  \n",
       "86                                                NaN  \n",
       "87                                                NaN  \n",
       "88                                                NaN  \n",
       "\n",
       "[89 rows x 3 columns]"
      ]
     },
     "execution_count": 32,
     "metadata": {},
     "output_type": "execute_result"
    }
   ],
   "source": [
    "df"
   ]
  },
  {
   "cell_type": "code",
   "execution_count": 33,
   "id": "c2c725bd",
   "metadata": {},
   "outputs": [],
   "source": [
    "data = df[9:]['Standard normal distribution']"
   ]
  },
  {
   "cell_type": "code",
   "execution_count": 34,
   "id": "1c963982",
   "metadata": {},
   "outputs": [
    {
     "data": {
      "text/plain": [
       "9         567.45\n",
       "10        572.45\n",
       "11        572.45\n",
       "12    589.116667\n",
       "13    613.866667\n",
       "         ...    \n",
       "84    842.866667\n",
       "85    849.616667\n",
       "86         874.7\n",
       "87    878.783333\n",
       "88        897.45\n",
       "Name: Standard normal distribution, Length: 80, dtype: object"
      ]
     },
     "execution_count": 34,
     "metadata": {},
     "output_type": "execute_result"
    }
   ],
   "source": [
    "data"
   ]
  },
  {
   "cell_type": "code",
   "execution_count": 35,
   "id": "b870efb1",
   "metadata": {},
   "outputs": [],
   "source": [
    "import numpy as np"
   ]
  },
  {
   "cell_type": "code",
   "execution_count": 36,
   "id": "fe8ef259",
   "metadata": {},
   "outputs": [
    {
     "data": {
      "text/plain": [
       "743.0270833333332"
      ]
     },
     "execution_count": 36,
     "metadata": {},
     "output_type": "execute_result"
    }
   ],
   "source": [
    "np.mean(data)"
   ]
  },
  {
   "cell_type": "code",
   "execution_count": 37,
   "id": "f084c521",
   "metadata": {},
   "outputs": [
    {
     "data": {
      "text/plain": [
       "73.48940042500271"
      ]
     },
     "execution_count": 37,
     "metadata": {},
     "output_type": "execute_result"
    }
   ],
   "source": [
    "np.std(data)"
   ]
  },
  {
   "cell_type": "code",
   "execution_count": 38,
   "id": "b9736c89",
   "metadata": {},
   "outputs": [],
   "source": [
    "import seaborn as sns\n",
    "import matplotlib.pyplot as plt"
   ]
  },
  {
   "cell_type": "code",
   "execution_count": 39,
   "id": "c9e51bf8",
   "metadata": {},
   "outputs": [
    {
     "data": {
      "text/plain": [
       "Text(0.5, 0, 'Normal Distribution')"
      ]
     },
     "execution_count": 39,
     "metadata": {},
     "output_type": "execute_result"
    },
    {
     "data": {
      "image/png": "[encoded data removed]",
      "text/plain": [
       "<Figure size 432x288 with 1 Axes>"
      ]
     },
     "metadata": {
      "needs_background": "light"
     },
     "output_type": "display_data"
    }
   ],
   "source": [
    "sns.kdeplot(data)\n",
    "plt.xlabel('Normal Distribution')"
   ]
  },
  {
   "cell_type": "code",
   "execution_count": 40,
   "id": "83b27559",
   "metadata": {},
   "outputs": [],
   "source": [
    "data_std = pd.Series((data.values - np.mean(data))/np.std(data))"
   ]
  },
  {
   "cell_type": "code",
   "execution_count": 41,
   "id": "0b08b58e",
   "metadata": {},
   "outputs": [
    {
     "data": {
      "text/plain": [
       "0    -2.389148\n",
       "1    -2.321111\n",
       "2    -2.321111\n",
       "3    -2.094321\n",
       "4    -1.757538\n",
       "        ...   \n",
       "75    1.358558\n",
       "76    1.450408\n",
       "77    1.791727\n",
       "78     1.84729\n",
       "79    2.101295\n",
       "Length: 80, dtype: object"
      ]
     },
     "execution_count": 41,
     "metadata": {},
     "output_type": "execute_result"
    }
   ],
   "source": [
    "data_std"
   ]
  },
  {
   "cell_type": "code",
   "execution_count": 42,
   "id": "6041d174",
   "metadata": {},
   "outputs": [
    {
     "data": {
      "text/plain": [
       "0.0"
      ]
     },
     "execution_count": 42,
     "metadata": {},
     "output_type": "execute_result"
    }
   ],
   "source": [
    "np.round(np.mean(data_std), 2)"
   ]
  },
  {
   "cell_type": "code",
   "execution_count": 43,
   "id": "96119c13",
   "metadata": {},
   "outputs": [
    {
     "data": {
      "text/plain": [
       "0.9999999999999999"
      ]
     },
     "execution_count": 43,
     "metadata": {},
     "output_type": "execute_result"
    }
   ],
   "source": [
    "np.std(data_std)"
   ]
  },
  {
   "cell_type": "code",
   "execution_count": 45,
   "id": "23bcad58",
   "metadata": {},
   "outputs": [
    {
     "data": {
      "text/plain": [
       "Text(0.5, 0, 'Standard Normal Distribution')"
      ]
     },
     "execution_count": 45,
     "metadata": {},
     "output_type": "execute_result"
    },
    {
     "data": {
      "image/png": "[encoded data removed]",
      "text/plain": [
       "<Figure size 432x288 with 1 Axes>"
      ]
     },
     "metadata": {
      "needs_background": "light"
     },
     "output_type": "display_data"
    }
   ],
   "source": [
    "sns.kdeplot(data_std)\n",
    "plt.xlabel('Standard Normal Distribution')"
   ]
  },
  {
   "cell_type": "code",
   "execution_count": 46,
   "id": "6f48ff3d",
   "metadata": {},
   "outputs": [
    {
     "data": {
      "text/plain": [
       "<AxesSubplot:xlabel='Standard normal distribution', ylabel='Density'>"
      ]
     },
     "execution_count": 46,
     "metadata": {},
     "output_type": "execute_result"
    },
    {
     "data": {
      "image/png": "[encoded data removed]",
      "text/plain": [
       "<Figure size 432x288 with 1 Axes>"
      ]
     },
     "metadata": {
      "needs_background": "light"
     },
     "output_type": "display_data"
    }
   ],
   "source": [
    "sns.kdeplot(data)\n",
    "sns.kdeplot(data_std)"
   ]
  },
  {
   "cell_type": "code",
   "execution_count": 47,
   "id": "b38d065a",
   "metadata": {},
   "outputs": [
    {
     "data": {
      "text/plain": [
       "<seaborn.axisgrid.FacetGrid at 0x1c4bc086ec8>"
      ]
     },
     "execution_count": 47,
     "metadata": {},
     "output_type": "execute_result"
    },
    {
     "data": {
      "image/png": "[encoded data removed]",
      "text/plain": [
       "<Figure size 360x360 with 1 Axes>"
      ]
     },
     "metadata": {
      "needs_background": "light"
     },
     "output_type": "display_data"
    },
    {
     "data": {
      "image/png": "[encoded data removed]",
      "text/plain": [
       "<Figure size 360x360 with 1 Axes>"
      ]
     },
     "metadata": {
      "needs_background": "light"
     },
     "output_type": "display_data"
    }
   ],
   "source": [
    "sns.displot(data, bins=25)\n",
    "sns.displot(data_std, bins=25)"
   ]
  },
  {
   "cell_type": "code",
   "execution_count": null,
   "id": "d58498ff",
   "metadata": {},
   "outputs": [],
   "source": []
  }
 ],
 "metadata": {
  "kernelspec": {
   "display_name": "Python 3 (ipykernel)",
   "language": "python",
   "name": "python3"
  },
  "language_info": {
   "codemirror_mode": {
    "name": "ipython",
    "version": 3
   },
   "file_extension": ".py",
   "mimetype": "text/x-python",
   "name": "python",
   "nbconvert_exporter": "python",
   "pygments_lexer": "ipython3",
   "version": "3.7.11"
  }
 },
 "nbformat": 4,
 "nbformat_minor": 5
}
