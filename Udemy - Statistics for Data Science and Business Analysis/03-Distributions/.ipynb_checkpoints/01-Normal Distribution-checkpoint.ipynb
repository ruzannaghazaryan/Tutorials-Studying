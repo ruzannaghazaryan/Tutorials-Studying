{
 "cells": [
  {
   "cell_type": "markdown",
   "id": "568d9519",
   "metadata": {},
   "source": [
    "__Keeping the standard deviation fixed__, or in statistical jargon, __controlling for the standard deviation__, a lower mean would result in the same shape of the distribution, but on the left side of the plane. In the same way, a bigger mean would move the graph to the right."
   ]
  },
  {
   "cell_type": "markdown",
   "id": "7686f8eb",
   "metadata": {},
   "source": [
    "<img src='photo_2022-07-06_04-49-20.jpg' width=550>"
   ]
  },
  {
   "cell_type": "markdown",
   "id": "8aa92759",
   "metadata": {},
   "source": [
    "---"
   ]
  },
  {
   "cell_type": "markdown",
   "id": "9bca8583",
   "metadata": {},
   "source": [
    "Let’s do the opposite. __Controlling for the mean__, we can change the standard deviation and see what happens. This time the graph is not moving but is rather reshaping. A lower standard deviation results in a lower dispersion, so more data in the middle and thinner tails. On the other hand, a higher standard deviation will cause the graph to flatten out with less points in the middle and more to the end, or in statistics jargon – fatter tails."
   ]
  },
  {
   "cell_type": "markdown",
   "id": "f76f578a",
   "metadata": {},
   "source": [
    "<img src='photo_2022-07-06_04-52-16.jpg' width=550>"
   ]
  },
  {
   "cell_type": "markdown",
   "id": "afe1b400",
   "metadata": {},
   "source": [
    "---"
   ]
  },
  {
   "cell_type": "markdown",
   "id": "4705bee2",
   "metadata": {},
   "source": [
    "Every data set has its own distribution. It could be normal or not normal- meaning skewed to the right, or bimodal, or multimodal. Not all data set are normally distributed with curve like a bell but many different and common data set follow a normal distribution."
   ]
  },
  {
   "cell_type": "code",
   "execution_count": null,
   "id": "a5b347e0",
   "metadata": {},
   "outputs": [],
   "source": []
  }
 ],
 "metadata": {
  "kernelspec": {
   "display_name": "Python 3 (ipykernel)",
   "language": "python",
   "name": "python3"
  },
  "language_info": {
   "codemirror_mode": {
    "name": "ipython",
    "version": 3
   },
   "file_extension": ".py",
   "mimetype": "text/x-python",
   "name": "python",
   "nbconvert_exporter": "python",
   "pygments_lexer": "ipython3",
   "version": "3.7.11"
  }
 },
 "nbformat": 4,
 "nbformat_minor": 5
}
