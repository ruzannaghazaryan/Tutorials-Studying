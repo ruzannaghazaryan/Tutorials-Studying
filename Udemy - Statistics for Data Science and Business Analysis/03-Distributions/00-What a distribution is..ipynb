{
 "cells": [
  {
   "cell_type": "markdown",
   "id": "88dd97e6",
   "metadata": {},
   "source": [
    "---"
   ]
  },
  {
   "cell_type": "markdown",
   "id": "44f08919",
   "metadata": {},
   "source": [
    "- __<u>Inferential statistics__ refers to methods that rely on __probability theory__ and __distributions__ in particular to predict population values based on sample data."
   ]
  },
  {
   "cell_type": "markdown",
   "id": "83ac3533",
   "metadata": {},
   "source": [
    "- A __<u>distribution__ is a function that shows the possible values for a variable and how often they occur."
   ]
  },
  {
   "cell_type": "markdown",
   "id": "987aaf19",
   "metadata": {},
   "source": [
    "- The distribution of an event consists not only of the input values that can be observed but is made up of all possible values. <br>(What is the probability of getting a 7 when rolling a single die.? It is impossible to get a 7. Therefore, the probability is 0.)"
   ]
  },
  {
   "cell_type": "markdown",
   "id": "d1a49c00",
   "metadata": {},
   "source": [
    "- The probability distribution of rolling a die is called __<u>a discrete uniform distribution__. \n",
    "<br>All outcomes have an equal chance of occurring."
   ]
  },
  {
   "cell_type": "markdown",
   "id": "f562c23d",
   "metadata": {},
   "source": [
    "- It is crucial to understand that the graph is JUST a visual representation of a distribution. Often, when we talk about distributions, we make use of the graph. That’s why many people believe that a distribution is the graph itself, however, this is NOT true. A distribution is defined by the underlying probabilities and not the graph. The graph is just a visual representation."
   ]
  },
  {
   "cell_type": "markdown",
   "id": "743fcfa8",
   "metadata": {},
   "source": [
    "---"
   ]
  },
  {
   "cell_type": "markdown",
   "id": "32cb87a6",
   "metadata": {},
   "source": [
    "Throwing two dice follows a __Binomial distribution__."
   ]
  },
  {
   "cell_type": "markdown",
   "id": "18a4f3c2",
   "metadata": {},
   "source": [
    "Think about rolling two dice.Say we are playing a game, where we are trying to guess the sum of the two dice.<br> What’s the probability of getting a sum of 1? It’s 0, as this event is impossible.\n",
    "<br>What’s the probability of getting a sum of 2? It's 1 out of 36 total outcomes, or 0.03.\n",
    "<br>The probability of getting a sum of 3. It's 2 divided by 36, or 0.06. (1 2 and 2 1) (1/6 * 1/6 + 1/6 * 1/6)"
   ]
  },
  {
   "cell_type": "markdown",
   "id": "3faec69c",
   "metadata": {},
   "source": [
    "<img src='photo_2022-07-06_04-20-26.jpg' width=450>"
   ]
  },
  {
   "cell_type": "markdown",
   "id": "216a044a",
   "metadata": {},
   "source": [
    "---"
   ]
  },
  {
   "cell_type": "markdown",
   "id": "ea4b0dfc",
   "metadata": {},
   "source": [
    "- A __frequency distribution__ table has columns \"classes\" and \"frequency\" while __probability distribution__ has values of random variables together with their probabilities which sums to 1."
   ]
  },
  {
   "cell_type": "code",
   "execution_count": null,
   "id": "e3bff127",
   "metadata": {},
   "outputs": [],
   "source": []
  }
 ],
 "metadata": {
  "kernelspec": {
   "display_name": "Python 3 (ipykernel)",
   "language": "python",
   "name": "python3"
  },
  "language_info": {
   "codemirror_mode": {
    "name": "ipython",
    "version": 3
   },
   "file_extension": ".py",
   "mimetype": "text/x-python",
   "name": "python",
   "nbconvert_exporter": "python",
   "pygments_lexer": "ipython3",
   "version": "3.7.11"
  }
 },
 "nbformat": 4,
 "nbformat_minor": 5
}
