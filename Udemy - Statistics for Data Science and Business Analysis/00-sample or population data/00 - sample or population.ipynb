{
 "cells": [
  {
   "cell_type": "markdown",
   "id": "d225047d",
   "metadata": {},
   "source": [
    "---"
   ]
  },
  {
   "cell_type": "markdown",
   "id": "c5e5af32",
   "metadata": {},
   "source": [
    "The first step of every statistical analysis you perform is determine __whether the data you are dealing with__ is __a population or a sample__."
   ]
  },
  {
   "cell_type": "markdown",
   "id": "1d5ad7df",
   "metadata": {},
   "source": [
    "- __A population is the collection of all items of interest to our study.__\n",
    "\n",
    "- The numbers we've obtained when using a population are called __parameters__."
   ]
  },
  {
   "cell_type": "markdown",
   "id": "a392e90f",
   "metadata": {},
   "source": [
    "- __A sample is a subset of the population.__\n",
    "- The numbers we've obtained when working with the sample are called __statistic(s)__."
   ]
  },
  {
   "cell_type": "markdown",
   "id": "a523e2ae",
   "metadata": {},
   "source": [
    "---"
   ]
  },
  {
   "cell_type": "markdown",
   "id": "ba284e48",
   "metadata": {},
   "source": [
    "Populations are hard to define and hard to observe in real life.\n",
    "<br>A sample, however, is much easier to gather, it is less time consuming and less costly.\n",
    "\n",
    "You will almost always be working with __sample data__ and __make data driven decisions and inferences based on it__."
   ]
  },
  {
   "cell_type": "markdown",
   "id": "f38c8367",
   "metadata": {},
   "source": [
    "----"
   ]
  },
  {
   "cell_type": "markdown",
   "id": "2a3a3056",
   "metadata": {},
   "source": [
    "- Since statistical tests are usually based on __sample data__, samples are key to accurate statistical insights. \n",
    "<br>They have two defining characteristics - __randomness__ and __representativeness__. A sample must be both random and representative for an insight to be precise.\n",
    "- __A random sample__ is collected when each member of the sample is chosen from the population __strictly by chance__.\n",
    "- __A representative sample__ is a subset of the population that __accurately reflects__ the members of __the entire population__."
   ]
  },
  {
   "cell_type": "code",
   "execution_count": null,
   "id": "2b9445d5",
   "metadata": {},
   "outputs": [],
   "source": []
  }
 ],
 "metadata": {
  "kernelspec": {
   "display_name": "Python 3 (ipykernel)",
   "language": "python",
   "name": "python3"
  },
  "language_info": {
   "codemirror_mode": {
    "name": "ipython",
    "version": 3
   },
   "file_extension": ".py",
   "mimetype": "text/x-python",
   "name": "python",
   "nbconvert_exporter": "python",
   "pygments_lexer": "ipython3",
   "version": "3.7.11"
  }
 },
 "nbformat": 4,
 "nbformat_minor": 5
}
