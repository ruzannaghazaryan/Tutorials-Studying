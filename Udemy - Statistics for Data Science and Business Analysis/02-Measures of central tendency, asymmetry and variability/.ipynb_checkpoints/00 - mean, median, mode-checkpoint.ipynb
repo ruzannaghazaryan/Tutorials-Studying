{
 "cells": [
  {
   "cell_type": "markdown",
   "id": "2cad4328",
   "metadata": {},
   "source": [
    "---"
   ]
  },
  {
   "cell_type": "markdown",
   "id": "a9409694",
   "metadata": {},
   "source": [
    "__The three measures of central tendency:__\n",
    "- mean\n",
    "- median\n",
    "- mode"
   ]
  },
  {
   "cell_type": "markdown",
   "id": "4dada188",
   "metadata": {},
   "source": [
    "---"
   ]
  },
  {
   "cell_type": "markdown",
   "id": "c8f3d804",
   "metadata": {},
   "source": [
    "## Mean "
   ]
  },
  {
   "cell_type": "markdown",
   "id": "a67951f8",
   "metadata": {},
   "source": [
    "also known as simple average"
   ]
  },
  {
   "cell_type": "markdown",
   "id": "eee2fc64",
   "metadata": {},
   "source": [
    "<img src='mean.jpg' width=\"500\"/>"
   ]
  },
  {
   "cell_type": "markdown",
   "id": "5d0cd6d8",
   "metadata": {},
   "source": [
    "---"
   ]
  },
  {
   "cell_type": "markdown",
   "id": "175e5da7",
   "metadata": {},
   "source": [
    "Mean has <u>a huge downside</u> – it is __easily affected by outliers__."
   ]
  },
  {
   "cell_type": "markdown",
   "id": "3817ed42",
   "metadata": {},
   "source": [
    "___"
   ]
  },
  {
   "cell_type": "markdown",
   "id": "00cec960",
   "metadata": {},
   "source": [
    "<img src='meanf.jpg' width=\"550\"/>"
   ]
  },
  {
   "cell_type": "markdown",
   "id": "32da500c",
   "metadata": {},
   "source": [
    "---\n",
    "---"
   ]
  },
  {
   "cell_type": "markdown",
   "id": "fe3c830e",
   "metadata": {},
   "source": [
    "## Median"
   ]
  },
  {
   "cell_type": "markdown",
   "id": "c10532ee",
   "metadata": {},
   "source": [
    "The mean is not enough to make definite conclusions (as it's easily affected by outliers). We can calculate the second measure – the median.\n",
    "\n",
    "__The median__ is basically the __‘middle’ number in an ordered data set__.\n",
    "<br>In order to calculate the median, we have to order our data in __ascending order__."
   ]
  },
  {
   "cell_type": "markdown",
   "id": "3aed4f46",
   "metadata": {},
   "source": [
    "The median is the number at position __(n+1)/2__ in the ordered list, where n is the number of observations."
   ]
  },
  {
   "cell_type": "markdown",
   "id": "b841aed2",
   "metadata": {},
   "source": [
    "---\n",
    "---"
   ]
  },
  {
   "cell_type": "markdown",
   "id": "e8a6989b",
   "metadata": {},
   "source": [
    "## Mode"
   ]
  },
  {
   "cell_type": "markdown",
   "id": "beca48cc",
   "metadata": {},
   "source": [
    "The mode is __the value that occurs most often__.\n",
    "\n",
    "It can be used for both numerical and categorical data.\n",
    "\n",
    "If having equal frequencies - we say that there is no mode.\n",
    "\n",
    "In general, you often have multiple modes. Usually two or three modes are tolerable, but more than that would defeat the purpose of finding a mode."
   ]
  },
  {
   "cell_type": "markdown",
   "id": "a79bdd07",
   "metadata": {},
   "source": [
    "---\n",
    "---"
   ]
  },
  {
   "cell_type": "markdown",
   "id": "4864d6e6",
   "metadata": {},
   "source": [
    "__The measures of central tendency should be used together rather than independently.__ Therefore, there is no best measure, but using only one is definitely the worst."
   ]
  },
  {
   "cell_type": "markdown",
   "id": "616d137a",
   "metadata": {},
   "source": [
    "---"
   ]
  },
  {
   "cell_type": "markdown",
   "id": "4af04868",
   "metadata": {},
   "source": [
    "The mean and median are pretty close, so we don’t have a lot of outliers."
   ]
  },
  {
   "cell_type": "code",
   "execution_count": null,
   "id": "da9dfc58",
   "metadata": {},
   "outputs": [],
   "source": []
  }
 ],
 "metadata": {
  "kernelspec": {
   "display_name": "Python 3 (ipykernel)",
   "language": "python",
   "name": "python3"
  },
  "language_info": {
   "codemirror_mode": {
    "name": "ipython",
    "version": 3
   },
   "file_extension": ".py",
   "mimetype": "text/x-python",
   "name": "python",
   "nbconvert_exporter": "python",
   "pygments_lexer": "ipython3",
   "version": "3.7.11"
  }
 },
 "nbformat": 4,
 "nbformat_minor": 5
}
