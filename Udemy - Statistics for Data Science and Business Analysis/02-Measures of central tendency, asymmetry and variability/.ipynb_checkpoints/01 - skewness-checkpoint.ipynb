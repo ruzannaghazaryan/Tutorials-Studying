{
 "cells": [
  {
   "cell_type": "markdown",
   "id": "02702b08",
   "metadata": {},
   "source": [
    "---"
   ]
  },
  {
   "cell_type": "markdown",
   "id": "b2a95d5a",
   "metadata": {},
   "source": [
    "The most commonly used tool __to measure asymmetry__ is __<u>skewness</u>__."
   ]
  },
  {
   "cell_type": "markdown",
   "id": "748c4723",
   "metadata": {},
   "source": [
    "---"
   ]
  },
  {
   "cell_type": "markdown",
   "id": "05f4b8d7",
   "metadata": {},
   "source": [
    "<img src='skew.jpg' width=\"500\"/>"
   ]
  },
  {
   "cell_type": "markdown",
   "id": "7d5f3f2c",
   "metadata": {},
   "source": [
    "---"
   ]
  },
  {
   "cell_type": "markdown",
   "id": "32bd7490",
   "metadata": {},
   "source": [
    "__Skewness__ indicates __whether the observations in a data set are concentrated on one side__."
   ]
  },
  {
   "cell_type": "markdown",
   "id": "e58eee89",
   "metadata": {},
   "source": [
    "---"
   ]
  },
  {
   "cell_type": "markdown",
   "id": "ca3684d7",
   "metadata": {},
   "source": [
    "<img src='right.jpg' width=550>"
   ]
  },
  {
   "cell_type": "markdown",
   "id": "27c0ab0b",
   "metadata": {},
   "source": [
    "The mean is bigger than the median. We say that this is a __<u>positive or right skew__.\n",
    "    \n",
    "From the graph, you can clearly see that the data points are concentrated on the left side. Note that the direction of the skew is counterintuitive. It does not depend on which side the line is leaning to, but rather to which side its tail is leaning to. So, right skewness means that the outliers are to the right.\n",
    "\n",
    "When we have right skewness, the mean is bigger than the median, and the mode is the value with the highest visual representation."
   ]
  },
  {
   "cell_type": "markdown",
   "id": "92aa4e1c",
   "metadata": {},
   "source": [
    "---"
   ]
  },
  {
   "cell_type": "markdown",
   "id": "a4311b04",
   "metadata": {},
   "source": [
    "A data set that has an equal mean, median and mode. The frequency of occurrence is completely symmetrical and we call this a __<u>zero or no skew__. Most often, you will hear people say that the __distribution is symmetrical__."
   ]
  },
  {
   "cell_type": "markdown",
   "id": "3ff1473c",
   "metadata": {},
   "source": [
    "---"
   ]
  },
  {
   "cell_type": "markdown",
   "id": "37bede8a",
   "metadata": {},
   "source": [
    "As the mean is lower than the median, we say that there is a __<u>negative or left skew__.\n",
    "\n",
    "Why is it called a left skew, again? That’s right, because the outliers are to the left."
   ]
  },
  {
   "cell_type": "markdown",
   "id": "d4df016f",
   "metadata": {},
   "source": [
    "---"
   ]
  },
  {
   "cell_type": "markdown",
   "id": "1aa7c27b",
   "metadata": {},
   "source": [
    "So, why is skewness important? Skewness tells us a lot about where the data is situated. As we mentioned, the mean, median and mode should be used together to get a good understanding of the dataset. Measures of asymmetry like skewness are the link between central tendency measures and probability theory."
   ]
  },
  {
   "cell_type": "markdown",
   "id": "a474271c",
   "metadata": {},
   "source": [
    "---"
   ]
  },
  {
   "cell_type": "markdown",
   "id": "6d747e43",
   "metadata": {},
   "source": [
    "Whenever you determine the skewness, all that matters is the mean and the median. The mode is not important for the determination of skewness."
   ]
  },
  {
   "cell_type": "markdown",
   "id": "e5270fcf",
   "metadata": {},
   "source": [
    "---"
   ]
  },
  {
   "cell_type": "markdown",
   "id": "002e7a96",
   "metadata": {},
   "source": [
    "Imagine you live in a nice middle-class neighborhood. The mean income is 92,500 per year and the median income is 91,000 per year. Everybody in the neighborhood makes from 78,000 to 111,000. You would want to use the mean as your measure (you always want to if you have no reason to eliminate it). Now, consider that Bill Gates's daughter likes the neighborhood and moves in. The mean income of the neighborhood is now 4,543,000 and the median income is now 92,100 per year. The disparity between these two would cause you to question the mean as a proper measure of center due to the Gates outlier. The median would be a proper measure of center for this distribution if you were not eliminating outliers (doing a robust analysis)."
   ]
  },
  {
   "cell_type": "code",
   "execution_count": null,
   "id": "2c411620",
   "metadata": {},
   "outputs": [],
   "source": []
  }
 ],
 "metadata": {
  "kernelspec": {
   "display_name": "Python 3.7 (XPython)",
   "language": "python",
   "name": "xpython"
  },
  "language_info": {
   "file_extension": ".py",
   "mimetype": "text/x-python",
   "name": "python",
   "version": "3.7.12"
  }
 },
 "nbformat": 4,
 "nbformat_minor": 5
}
