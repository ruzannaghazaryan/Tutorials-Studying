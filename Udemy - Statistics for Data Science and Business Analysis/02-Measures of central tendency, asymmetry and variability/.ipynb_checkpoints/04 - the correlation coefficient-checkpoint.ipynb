{
 "cells": [
  {
   "cell_type": "markdown",
   "id": "5195d8ac",
   "metadata": {},
   "source": [
    "---"
   ]
  },
  {
   "cell_type": "markdown",
   "id": "35aea094",
   "metadata": {},
   "source": [
    "Correlation adjusts covariance so that the relationship between the two variables becomes easy and intuitive to interpret."
   ]
  },
  {
   "cell_type": "markdown",
   "id": "9d4b1531",
   "metadata": {},
   "source": [
    "---"
   ]
  },
  {
   "cell_type": "markdown",
   "id": "2bb590df",
   "metadata": {},
   "source": [
    "<img src='photo_2022-07-05_03-53-53.jpg' width=350>"
   ]
  },
  {
   "cell_type": "markdown",
   "id": "b9d2c9c7",
   "metadata": {},
   "source": [
    "---"
   ]
  },
  {
   "cell_type": "markdown",
   "id": "b173dd7a",
   "metadata": {},
   "source": [
    "Correlation is a statistic based on the covariance, which is bounded __between -1 and 1__."
   ]
  },
  {
   "cell_type": "markdown",
   "id": "a2460f27",
   "metadata": {},
   "source": [
    "A sample correlation coefficient of __0.87__ - so there is __a strong relationship between the two variables__."
   ]
  },
  {
   "cell_type": "markdown",
   "id": "f2cd5a4a",
   "metadata": {},
   "source": [
    "- A correlation of __1__, also known as __perfect positive correlation__, means that the entire variability of one variable is explained by the other variable.\n",
    "- A correlation of __0__ between two variables means that they are __absolutely independent__ from each other.\n",
    "-  It can be __perfect negative correlation__ of __-1__. Think of the following businesses - a company producing ice cream and a company selling umbrellas. Ice cream tends to be sold more when the weather is very good, and people buy umbrellas when it’s rainy. Obviously, there is a negative correlation between the two, and hence, when one of the companies makes more money, the other won’t."
   ]
  },
  {
   "cell_type": "markdown",
   "id": "f65522b5",
   "metadata": {},
   "source": [
    "---"
   ]
  },
  {
   "cell_type": "markdown",
   "id": "e0320439",
   "metadata": {},
   "source": [
    "We must note that the correlation between two variables __x and y__ is the __same__ as the correlation between __y and x__.\n",
    "<br>This leads us to __causality__. It is very important for any analyst or researcher to understand the direction of causal relationships. In the housing business, size causes the price, and not vice versa."
   ]
  },
  {
   "cell_type": "markdown",
   "id": "c11d190a",
   "metadata": {},
   "source": [
    "### !!! Correlation DOES NOT imply causation."
   ]
  },
  {
   "cell_type": "markdown",
   "id": "69eb3683",
   "metadata": {},
   "source": [
    "---"
   ]
  },
  {
   "cell_type": "markdown",
   "id": "93b74b0e",
   "metadata": {},
   "source": [
    "A correlation between (-0.2,0.2) is generally considered very low and virtually negligible. \n",
    "\n",
    "A correlation between: (-0.4,-0.2) and (0.2,0.4) is generally considered weak, but cannot be disregarded.\n",
    "\n",
    "A correlation between (-0.6,-0.4) and (0.4,0.6) is generally considered moderate and is surely significant.\n",
    "\n",
    "A correlation between (-0.8,-0.6) and (0.6,0.8) is generally considered strong and very significant.\n",
    "\n",
    "A correlation between (-1,-0.8) and (0.8,1) is generally considered very strong and extremely significant."
   ]
  },
  {
   "cell_type": "markdown",
   "id": "88830ac1",
   "metadata": {},
   "source": [
    "---"
   ]
  },
  {
   "cell_type": "code",
   "execution_count": null,
   "id": "526a93a8",
   "metadata": {},
   "outputs": [],
   "source": []
  }
 ],
 "metadata": {
  "kernelspec": {
   "display_name": "Python 3 (ipykernel)",
   "language": "python",
   "name": "python3"
  },
  "language_info": {
   "codemirror_mode": {
    "name": "ipython",
    "version": 3
   },
   "file_extension": ".py",
   "mimetype": "text/x-python",
   "name": "python",
   "nbconvert_exporter": "python",
   "pygments_lexer": "ipython3",
   "version": "3.7.11"
  }
 },
 "nbformat": 4,
 "nbformat_minor": 5
}
