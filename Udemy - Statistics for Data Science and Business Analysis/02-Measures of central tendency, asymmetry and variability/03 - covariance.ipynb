{
 "cells": [
  {
   "cell_type": "markdown",
   "id": "f2d64198",
   "metadata": {},
   "source": [
    "---"
   ]
  },
  {
   "cell_type": "markdown",
   "id": "fb5229c6",
   "metadata": {},
   "source": [
    "__Measures of Relationship Between Variables__\n",
    "- covariance\n",
    "- linear correlation coefficient "
   ]
  },
  {
   "cell_type": "markdown",
   "id": "24b9728e",
   "metadata": {},
   "source": [
    "---\n",
    "---"
   ]
  },
  {
   "cell_type": "markdown",
   "id": "e28a9d1d",
   "metadata": {},
   "source": [
    "## Covariance"
   ]
  },
  {
   "cell_type": "markdown",
   "id": "4fe229fd",
   "metadata": {},
   "source": [
    "Unlike variance, covariance may be positive, equal to zero, or negative."
   ]
  },
  {
   "cell_type": "markdown",
   "id": "cf7dd17a",
   "metadata": {},
   "source": [
    "<img src='covar.jpg' width=550>"
   ]
  },
  {
   "cell_type": "markdown",
   "id": "a712f261",
   "metadata": {},
   "source": [
    "It gives us a sense of __the direction__ in which __the two variables are moving__.\n",
    "- &#x3e; 0, if they go in the same direction, the covariance will have a positive sign,\n",
    "- < 0, while if they move in opposite directions, the covariance will have a negative sign. \n",
    "- = 0, finally, if their movements are independent, the covariance will be equal to zero."
   ]
  },
  {
   "cell_type": "markdown",
   "id": "4c2b0dd3",
   "metadata": {},
   "source": [
    "There is just one tiny problem with covariance, though. It could be a number like 5 or 50, but it can also be something like 0.0023456 or even over 30 million.\n",
    "<br>__Values of a completely different scale!__ "
   ]
  },
  {
   "cell_type": "markdown",
   "id": "38509407",
   "metadata": {},
   "source": [
    "---"
   ]
  },
  {
   "cell_type": "code",
   "execution_count": null,
   "id": "3895e9b2",
   "metadata": {},
   "outputs": [],
   "source": []
  }
 ],
 "metadata": {
  "kernelspec": {
   "display_name": "Python 3 (ipykernel)",
   "language": "python",
   "name": "python3"
  },
  "language_info": {
   "codemirror_mode": {
    "name": "ipython",
    "version": 3
   },
   "file_extension": ".py",
   "mimetype": "text/x-python",
   "name": "python",
   "nbconvert_exporter": "python",
   "pygments_lexer": "ipython3",
   "version": "3.7.11"
  }
 },
 "nbformat": 4,
 "nbformat_minor": 5
}
