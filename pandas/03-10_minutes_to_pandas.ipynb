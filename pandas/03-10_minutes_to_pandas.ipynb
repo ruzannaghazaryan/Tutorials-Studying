{
 "cells": [
  {
   "cell_type": "code",
   "execution_count": 1,
   "id": "3f20e593-ea59-487c-b287-5cc8b897cc4f",
   "metadata": {},
   "outputs": [],
   "source": [
    "import numpy as np\n",
    "import pandas as pd"
   ]
  },
  {
   "cell_type": "markdown",
   "id": "7be9601b-40f4-455c-ba39-a21bb5218308",
   "metadata": {},
   "source": [
    "---"
   ]
  },
  {
   "cell_type": "markdown",
   "id": "759ab88e-54b0-4e50-a3dd-4a829122a047",
   "metadata": {},
   "source": [
    "### Basic data structures in pandas"
   ]
  },
  {
   "cell_type": "markdown",
   "id": "e20aa2c9-86a2-4d17-9d2e-4b81ac495b58",
   "metadata": {},
   "source": [
    "1. `Series`: __a one-dimensional labeled array__ holding data of any type\n",
    "    <br>such as integers, strings, Python objects etc.\n",
    "\n",
    "2. `DataFrame`: __a two-dimensional data structure__ that holds data like a two-dimension array or __a table with rows and columns__."
   ]
  },
  {
   "cell_type": "markdown",
   "id": "e31844df-095c-4dfd-a230-5e811b07fdc8",
   "metadata": {},
   "source": [
    "---"
   ]
  },
  {
   "cell_type": "markdown",
   "id": "82f1bdb8-9eeb-4406-989f-c432e33b9d34",
   "metadata": {},
   "source": [
    "### Object creation"
   ]
  },
  {
   "cell_type": "code",
   "execution_count": 2,
   "id": "db3a16d8-97df-4ede-9526-3149d5d5fef0",
   "metadata": {},
   "outputs": [],
   "source": [
    "# letting pandas create a default RangeIndex\n",
    "s = pd.Series([1, 2, 3, np.nan, 5, 6])"
   ]
  },
  {
   "cell_type": "markdown",
   "id": "0f360862-5daa-40b3-8b42-626de12a1e9c",
   "metadata": {},
   "source": [
    "`numpy.nan` is a special value from the `NumPy library` that represents the `null` value (a `missing value` or `undefined numerical result`)\n",
    "\n",
    "`numpy.nan` returns a value of type `float`.\n",
    "\n",
    "__Pandas__ uses `np.nan` to represent __missing values in numeric data types__.\n"
   ]
  },
  {
   "cell_type": "markdown",
   "id": "156b796d-0b1e-48a3-add0-2d641c2ebef9",
   "metadata": {},
   "source": [
    "---"
   ]
  },
  {
   "cell_type": "code",
   "execution_count": null,
   "id": "5ad4444f-c3e2-4128-8140-5e6be35a22bf",
   "metadata": {},
   "outputs": [],
   "source": []
  },
  {
   "cell_type": "markdown",
   "id": "134e659e-8db3-476a-bb6e-c76686214184",
   "metadata": {},
   "source": [
    "`np.nan` is __not equal to anything__, including itself:\n",
    "\n",
    "\n",
    "This property makes it suitable for representing missing values, as it doesn't interfere with normal equality checks."
   ]
  },
  {
   "cell_type": "code",
   "execution_count": 3,
   "id": "21cc7831-b8b1-453f-809b-51d19303fee8",
   "metadata": {},
   "outputs": [
    {
     "name": "stdout",
     "output_type": "stream",
     "text": [
      "False\n"
     ]
    }
   ],
   "source": [
    "print(np.nan == np.nan)  # Output: False"
   ]
  },
  {
   "cell_type": "code",
   "execution_count": null,
   "id": "fdddb3a8-89a4-4517-8313-fa7fd351601f",
   "metadata": {},
   "outputs": [],
   "source": []
  },
  {
   "cell_type": "markdown",
   "id": "21ab1178-4238-41c5-bb04-f67bb1f8ce90",
   "metadata": {},
   "source": [
    "---"
   ]
  },
  {
   "cell_type": "code",
   "execution_count": null,
   "id": "8779452d-ca9e-4063-8e18-b5f799a3b355",
   "metadata": {},
   "outputs": [],
   "source": []
  },
  {
   "cell_type": "markdown",
   "id": "ec54ba40-1a9e-4167-a20d-aa405a987e34",
   "metadata": {},
   "source": [
    "`Creating a DataFrame` by passing a NumPy array with a datetime index using `pd.date_range()` and labeled columns:"
   ]
  },
  {
   "cell_type": "code",
   "execution_count": 4,
   "id": "7a06c66a-49ea-4052-a2d2-af5514483469",
   "metadata": {},
   "outputs": [
    {
     "data": {
      "text/plain": [
       "DatetimeIndex(['2013-01-01', '2013-01-02', '2013-01-03', '2013-01-04',\n",
       "               '2013-01-05'],\n",
       "              dtype='datetime64[ns]', freq='D')"
      ]
     },
     "execution_count": 4,
     "metadata": {},
     "output_type": "execute_result"
    }
   ],
   "source": [
    "# default frequency - days  \n",
    "\n",
    "pd.date_range('2013-01-01', periods=5)"
   ]
  },
  {
   "cell_type": "code",
   "execution_count": 5,
   "id": "5257893f-ca2a-4f5a-8ced-c69dd6d20518",
   "metadata": {
    "scrolled": true
   },
   "outputs": [
    {
     "data": {
      "text/plain": [
       "DatetimeIndex(['2013-01-01', '2013-02-01', '2013-03-01', '2013-04-01',\n",
       "               '2013-05-01'],\n",
       "              dtype='datetime64[ns]', freq='MS')"
      ]
     },
     "execution_count": 5,
     "metadata": {},
     "output_type": "execute_result"
    }
   ],
   "source": [
    "# If you want the first day of each month, use the frequency 'MS' (Month Start):\n",
    "\n",
    "pd.date_range('2013-01-01', periods=5, freq='MS')"
   ]
  },
  {
   "cell_type": "code",
   "execution_count": 6,
   "id": "9c2fe9d1-1c1d-401d-938b-77f704ee5c76",
   "metadata": {},
   "outputs": [
    {
     "data": {
      "text/plain": [
       "DatetimeIndex(['2013-01-31', '2013-02-28', '2013-03-31', '2013-04-30',\n",
       "               '2013-05-31'],\n",
       "              dtype='datetime64[ns]', freq='ME')"
      ]
     },
     "execution_count": 6,
     "metadata": {},
     "output_type": "execute_result"
    }
   ],
   "source": [
    "# 'ME' stands for Month End frequency.\n",
    "\n",
    "pd.date_range('2013-01-01', periods=5, freq='ME')"
   ]
  },
  {
   "cell_type": "code",
   "execution_count": 7,
   "id": "236d3ac5-501b-4aa5-9f59-2a1c46074fd7",
   "metadata": {},
   "outputs": [
    {
     "data": {
      "text/plain": [
       "[31, 28, 31, 30, 31, 30, 31, 31, 30, 31, 30, 31]"
      ]
     },
     "execution_count": 7,
     "metadata": {},
     "output_type": "execute_result"
    }
   ],
   "source": [
    "[i.day for i in pd.date_range(start='2025-01-01', periods=12, freq='ME')]"
   ]
  },
  {
   "cell_type": "code",
   "execution_count": null,
   "id": "820ca40f-227d-49cd-82cf-5c1797dab854",
   "metadata": {},
   "outputs": [],
   "source": []
  },
  {
   "cell_type": "code",
   "execution_count": null,
   "id": "86b2e11d-63ff-4c84-a910-d3d1d70d0307",
   "metadata": {},
   "outputs": [],
   "source": []
  },
  {
   "cell_type": "markdown",
   "id": "c0a1921b-795b-4c51-a393-0d25fb359306",
   "metadata": {},
   "source": [
    "---"
   ]
  },
  {
   "cell_type": "code",
   "execution_count": null,
   "id": "3b789373-cf50-4bc1-93a6-6d0755a1f7f8",
   "metadata": {},
   "outputs": [],
   "source": []
  },
  {
   "cell_type": "markdown",
   "id": "25ba6ac3-cc9e-4911-9746-6ded7c273dfd",
   "metadata": {},
   "source": [
    "`np.random.randn()`\n",
    "- Return a sample (or samples) from the `\"standard normal\" distribution`.\n",
    "- random floats sampled from `a univariate \"normal\" (Gaussian) \n",
    "distribution of mean 0 and variance 1 `."
   ]
  },
  {
   "cell_type": "code",
   "execution_count": 3,
   "id": "a686e018-8a24-403f-ba5f-dd8eda9b56d0",
   "metadata": {},
   "outputs": [
    {
     "data": {
      "text/plain": [
       "['A', 'B', 'C', 'D']"
      ]
     },
     "execution_count": 3,
     "metadata": {},
     "output_type": "execute_result"
    }
   ],
   "source": [
    "list('ABCD')"
   ]
  },
  {
   "cell_type": "code",
   "execution_count": 4,
   "id": "a9857931-cd4a-469e-b985-80537944040f",
   "metadata": {},
   "outputs": [],
   "source": [
    "df = pd.DataFrame(np.random.randn(6, 4), \n",
    "                  index=pd.date_range('20130101', periods=6),\n",
    "                  columns=list(\"ABCD\"))"
   ]
  },
  {
   "cell_type": "code",
   "execution_count": 5,
   "id": "d9ed336f-d241-40b6-8d04-63587c53327e",
   "metadata": {},
   "outputs": [
    {
     "data": {
      "text/html": [
       "<div>\n",
       "<style scoped>\n",
       "    .dataframe tbody tr th:only-of-type {\n",
       "        vertical-align: middle;\n",
       "    }\n",
       "\n",
       "    .dataframe tbody tr th {\n",
       "        vertical-align: top;\n",
       "    }\n",
       "\n",
       "    .dataframe thead th {\n",
       "        text-align: right;\n",
       "    }\n",
       "</style>\n",
       "<table border=\"1\" class=\"dataframe\">\n",
       "  <thead>\n",
       "    <tr style=\"text-align: right;\">\n",
       "      <th></th>\n",
       "      <th>A</th>\n",
       "      <th>B</th>\n",
       "      <th>C</th>\n",
       "      <th>D</th>\n",
       "    </tr>\n",
       "  </thead>\n",
       "  <tbody>\n",
       "    <tr>\n",
       "      <th>2013-01-01</th>\n",
       "      <td>-1.474355</td>\n",
       "      <td>0.531672</td>\n",
       "      <td>0.025491</td>\n",
       "      <td>-0.302742</td>\n",
       "    </tr>\n",
       "    <tr>\n",
       "      <th>2013-01-02</th>\n",
       "      <td>-0.726984</td>\n",
       "      <td>-0.746165</td>\n",
       "      <td>0.702313</td>\n",
       "      <td>0.803666</td>\n",
       "    </tr>\n",
       "    <tr>\n",
       "      <th>2013-01-03</th>\n",
       "      <td>-0.454112</td>\n",
       "      <td>-0.225644</td>\n",
       "      <td>-0.211412</td>\n",
       "      <td>-0.265718</td>\n",
       "    </tr>\n",
       "    <tr>\n",
       "      <th>2013-01-04</th>\n",
       "      <td>-0.136119</td>\n",
       "      <td>-0.401121</td>\n",
       "      <td>-2.291708</td>\n",
       "      <td>-1.362184</td>\n",
       "    </tr>\n",
       "    <tr>\n",
       "      <th>2013-01-05</th>\n",
       "      <td>-1.690095</td>\n",
       "      <td>1.015610</td>\n",
       "      <td>0.173992</td>\n",
       "      <td>0.105964</td>\n",
       "    </tr>\n",
       "    <tr>\n",
       "      <th>2013-01-06</th>\n",
       "      <td>0.768235</td>\n",
       "      <td>-0.307700</td>\n",
       "      <td>-2.005750</td>\n",
       "      <td>-0.492335</td>\n",
       "    </tr>\n",
       "  </tbody>\n",
       "</table>\n",
       "</div>"
      ],
      "text/plain": [
       "                   A         B         C         D\n",
       "2013-01-01 -1.474355  0.531672  0.025491 -0.302742\n",
       "2013-01-02 -0.726984 -0.746165  0.702313  0.803666\n",
       "2013-01-03 -0.454112 -0.225644 -0.211412 -0.265718\n",
       "2013-01-04 -0.136119 -0.401121 -2.291708 -1.362184\n",
       "2013-01-05 -1.690095  1.015610  0.173992  0.105964\n",
       "2013-01-06  0.768235 -0.307700 -2.005750 -0.492335"
      ]
     },
     "execution_count": 5,
     "metadata": {},
     "output_type": "execute_result"
    }
   ],
   "source": [
    "df"
   ]
  },
  {
   "cell_type": "code",
   "execution_count": 11,
   "id": "dea313ef-1fc0-4ca6-8918-6879eee6b424",
   "metadata": {},
   "outputs": [
    {
     "data": {
      "text/plain": [
       "A    0.709946\n",
       "B    1.478118\n",
       "C    0.643158\n",
       "D   -1.004364\n",
       "Name: 2013-01-01 00:00:00, dtype: float64"
      ]
     },
     "execution_count": 11,
     "metadata": {},
     "output_type": "execute_result"
    }
   ],
   "source": [
    "df.loc['2013-01-01']"
   ]
  },
  {
   "cell_type": "code",
   "execution_count": 12,
   "id": "9301648c-a144-4530-9cb3-7276002cd1e8",
   "metadata": {},
   "outputs": [
    {
     "data": {
      "text/plain": [
       "pandas.core.series.Series"
      ]
     },
     "execution_count": 12,
     "metadata": {},
     "output_type": "execute_result"
    }
   ],
   "source": [
    "type(df.loc['2013-01-01'])"
   ]
  },
  {
   "cell_type": "code",
   "execution_count": 13,
   "id": "a28548b9-ad36-445d-b4f2-3e424ed1ce80",
   "metadata": {},
   "outputs": [
    {
     "data": {
      "text/plain": [
       "A    0.709946\n",
       "B    1.478118\n",
       "C    0.643158\n",
       "D   -1.004364\n",
       "Name: 2013-01-01 00:00:00, dtype: float64"
      ]
     },
     "execution_count": 13,
     "metadata": {},
     "output_type": "execute_result"
    }
   ],
   "source": [
    "df.iloc[0]"
   ]
  },
  {
   "cell_type": "markdown",
   "id": "03a4a901-5fbb-42ec-8d15-6046dea0a72a",
   "metadata": {},
   "source": [
    "---"
   ]
  },
  {
   "cell_type": "code",
   "execution_count": null,
   "id": "1726adcb-f1bc-4987-bb5e-7ede63ffa928",
   "metadata": {},
   "outputs": [],
   "source": []
  },
  {
   "cell_type": "code",
   "execution_count": null,
   "id": "01ce9110-2c42-48aa-b24f-4b7500b75f49",
   "metadata": {},
   "outputs": [],
   "source": []
  },
  {
   "cell_type": "markdown",
   "id": "8cee10ca-e628-4fa1-b277-7f768cdf36a5",
   "metadata": {},
   "source": [
    "`Creating a DataFrame` by passing `a dictionary` of objects where the keys are the column labels and the values are the column values.\n",
    "\r\n"
   ]
  },
  {
   "cell_type": "code",
   "execution_count": 8,
   "id": "479ee8f2-5efd-45d8-88df-4027255f8a19",
   "metadata": {},
   "outputs": [],
   "source": [
    "df2 = pd.DataFrame(\n",
    "    {\n",
    "        'A': 1.0,\n",
    "        'B': pd.Timestamp('2013-01-01'),\n",
    "        'C': pd.Series(1, index=list(range(4)), dtype='float32'),\n",
    "        'D': np.array([3] * 4, dtype='int32'),\n",
    "        'E': pd.Categorical(['test', 'train', 'test', 'train']),\n",
    "        'F': 'foo'\n",
    "    }\n",
    ")"
   ]
  },
  {
   "cell_type": "code",
   "execution_count": 9,
   "id": "989de5ab-e026-4995-803a-483d2743116c",
   "metadata": {
    "scrolled": true
   },
   "outputs": [
    {
     "data": {
      "text/html": [
       "<div>\n",
       "<style scoped>\n",
       "    .dataframe tbody tr th:only-of-type {\n",
       "        vertical-align: middle;\n",
       "    }\n",
       "\n",
       "    .dataframe tbody tr th {\n",
       "        vertical-align: top;\n",
       "    }\n",
       "\n",
       "    .dataframe thead th {\n",
       "        text-align: right;\n",
       "    }\n",
       "</style>\n",
       "<table border=\"1\" class=\"dataframe\">\n",
       "  <thead>\n",
       "    <tr style=\"text-align: right;\">\n",
       "      <th></th>\n",
       "      <th>A</th>\n",
       "      <th>B</th>\n",
       "      <th>C</th>\n",
       "      <th>D</th>\n",
       "      <th>E</th>\n",
       "      <th>F</th>\n",
       "    </tr>\n",
       "  </thead>\n",
       "  <tbody>\n",
       "    <tr>\n",
       "      <th>0</th>\n",
       "      <td>1.0</td>\n",
       "      <td>2013-01-01</td>\n",
       "      <td>1.0</td>\n",
       "      <td>3</td>\n",
       "      <td>test</td>\n",
       "      <td>foo</td>\n",
       "    </tr>\n",
       "    <tr>\n",
       "      <th>1</th>\n",
       "      <td>1.0</td>\n",
       "      <td>2013-01-01</td>\n",
       "      <td>1.0</td>\n",
       "      <td>3</td>\n",
       "      <td>train</td>\n",
       "      <td>foo</td>\n",
       "    </tr>\n",
       "    <tr>\n",
       "      <th>2</th>\n",
       "      <td>1.0</td>\n",
       "      <td>2013-01-01</td>\n",
       "      <td>1.0</td>\n",
       "      <td>3</td>\n",
       "      <td>test</td>\n",
       "      <td>foo</td>\n",
       "    </tr>\n",
       "    <tr>\n",
       "      <th>3</th>\n",
       "      <td>1.0</td>\n",
       "      <td>2013-01-01</td>\n",
       "      <td>1.0</td>\n",
       "      <td>3</td>\n",
       "      <td>train</td>\n",
       "      <td>foo</td>\n",
       "    </tr>\n",
       "  </tbody>\n",
       "</table>\n",
       "</div>"
      ],
      "text/plain": [
       "     A          B    C  D      E    F\n",
       "0  1.0 2013-01-01  1.0  3   test  foo\n",
       "1  1.0 2013-01-01  1.0  3  train  foo\n",
       "2  1.0 2013-01-01  1.0  3   test  foo\n",
       "3  1.0 2013-01-01  1.0  3  train  foo"
      ]
     },
     "execution_count": 9,
     "metadata": {},
     "output_type": "execute_result"
    }
   ],
   "source": [
    "df2"
   ]
  },
  {
   "cell_type": "code",
   "execution_count": 10,
   "id": "bf04942b-befd-46a1-8f6c-96796f6d27ea",
   "metadata": {},
   "outputs": [
    {
     "data": {
      "text/plain": [
       "array([3, 3, 3, 3])"
      ]
     },
     "execution_count": 10,
     "metadata": {},
     "output_type": "execute_result"
    }
   ],
   "source": [
    "np.array([3] * 4)"
   ]
  },
  {
   "cell_type": "code",
   "execution_count": 11,
   "id": "936d74d6-d5a2-44e5-a42b-c8007caaada1",
   "metadata": {},
   "outputs": [
    {
     "data": {
      "text/plain": [
       "[3, 3, 3, 3]"
      ]
     },
     "execution_count": 11,
     "metadata": {},
     "output_type": "execute_result"
    }
   ],
   "source": [
    "[3] * 4 # list and not array is multiplied"
   ]
  },
  {
   "cell_type": "code",
   "execution_count": 12,
   "id": "582943ae-4f0b-4c7c-bc1c-ba9771e8a091",
   "metadata": {},
   "outputs": [
    {
     "data": {
      "text/plain": [
       "array([12])"
      ]
     },
     "execution_count": 12,
     "metadata": {},
     "output_type": "execute_result"
    }
   ],
   "source": [
    "np.array([3]) * 4"
   ]
  },
  {
   "cell_type": "markdown",
   "id": "32241419-098e-419b-b04f-f527c916485f",
   "metadata": {},
   "source": [
    "---"
   ]
  },
  {
   "cell_type": "code",
   "execution_count": 13,
   "id": "6faec044-21c3-4421-872a-f7ee3f4d8fa2",
   "metadata": {},
   "outputs": [],
   "source": [
    "d = pd.Timestamp('2025-01-01')"
   ]
  },
  {
   "cell_type": "code",
   "execution_count": 14,
   "id": "0a3ac07c-ad07-403a-aae5-2700d0e6afa6",
   "metadata": {},
   "outputs": [
    {
     "data": {
      "text/plain": [
       "pandas._libs.tslibs.timestamps.Timestamp"
      ]
     },
     "execution_count": 14,
     "metadata": {},
     "output_type": "execute_result"
    }
   ],
   "source": [
    "type(d)"
   ]
  },
  {
   "cell_type": "code",
   "execution_count": 15,
   "id": "bc2c941d-128a-40c0-9eec-5a8c028007cb",
   "metadata": {},
   "outputs": [],
   "source": [
    "d_series = pd.Series([pd.Timestamp('2025-07-07')] * 4)"
   ]
  },
  {
   "cell_type": "code",
   "execution_count": 16,
   "id": "6f144be8-a7b7-4aff-9fd0-55cf485add91",
   "metadata": {},
   "outputs": [
    {
     "data": {
      "text/plain": [
       "0   2025-07-07\n",
       "1   2025-07-07\n",
       "2   2025-07-07\n",
       "3   2025-07-07\n",
       "dtype: datetime64[ns]"
      ]
     },
     "execution_count": 16,
     "metadata": {},
     "output_type": "execute_result"
    }
   ],
   "source": [
    "d_series"
   ]
  },
  {
   "cell_type": "code",
   "execution_count": 17,
   "id": "cdf3a623-b97d-4907-8dbf-9e0600f3029a",
   "metadata": {},
   "outputs": [
    {
     "data": {
      "text/plain": [
       "dtype('<M8[ns]')"
      ]
     },
     "execution_count": 17,
     "metadata": {},
     "output_type": "execute_result"
    }
   ],
   "source": [
    "d_series.dtype"
   ]
  },
  {
   "cell_type": "markdown",
   "id": "731bac87-516a-4379-9627-4b3c3f6c0f8a",
   "metadata": {},
   "source": [
    "---"
   ]
  },
  {
   "cell_type": "markdown",
   "id": "b2a7f777-c2c9-46dd-aed5-bfc20570a83f",
   "metadata": {},
   "source": [
    "`<M8[ns]` is the NumPy internal representation of `datetime64[ns]`.\n",
    "<br> It indicates datetime data stored with `nanosecond precision`."
   ]
  },
  {
   "cell_type": "markdown",
   "id": "8e29b48a-f8f9-41b0-b8bb-764933fb383a",
   "metadata": {},
   "source": [
    "### Key Points\n",
    "\n",
    "There is `NO` specific `dtype` called `timestamp` in pandas or NumPy. However:\n",
    "\n",
    "- In pandas, date-time-related data is often represented as `datetime64` types under the hood, even though individual values may appear as `pandas.Timestamp` objects.\n",
    "- In NumPy, date-time data is stored using `datetime64` dtypes (e.g., datetime64[s], datetime64[ms], etc.).\n"
   ]
  },
  {
   "cell_type": "markdown",
   "id": "48a77035-4f8f-4ed1-89b5-83e87b5f1e0f",
   "metadata": {},
   "source": [
    "---"
   ]
  },
  {
   "cell_type": "code",
   "execution_count": 18,
   "id": "8f734223-262f-441c-9d8b-ecb508f43b54",
   "metadata": {
    "scrolled": true
   },
   "outputs": [
    {
     "data": {
      "text/html": [
       "<div>\n",
       "<style scoped>\n",
       "    .dataframe tbody tr th:only-of-type {\n",
       "        vertical-align: middle;\n",
       "    }\n",
       "\n",
       "    .dataframe tbody tr th {\n",
       "        vertical-align: top;\n",
       "    }\n",
       "\n",
       "    .dataframe thead th {\n",
       "        text-align: right;\n",
       "    }\n",
       "</style>\n",
       "<table border=\"1\" class=\"dataframe\">\n",
       "  <thead>\n",
       "    <tr style=\"text-align: right;\">\n",
       "      <th></th>\n",
       "      <th>A</th>\n",
       "      <th>B</th>\n",
       "      <th>C</th>\n",
       "      <th>D</th>\n",
       "      <th>E</th>\n",
       "      <th>F</th>\n",
       "    </tr>\n",
       "  </thead>\n",
       "  <tbody>\n",
       "    <tr>\n",
       "      <th>0</th>\n",
       "      <td>1.0</td>\n",
       "      <td>2013-01-01</td>\n",
       "      <td>1.0</td>\n",
       "      <td>3</td>\n",
       "      <td>test</td>\n",
       "      <td>foo</td>\n",
       "    </tr>\n",
       "    <tr>\n",
       "      <th>1</th>\n",
       "      <td>1.0</td>\n",
       "      <td>2013-01-01</td>\n",
       "      <td>1.0</td>\n",
       "      <td>3</td>\n",
       "      <td>train</td>\n",
       "      <td>foo</td>\n",
       "    </tr>\n",
       "    <tr>\n",
       "      <th>2</th>\n",
       "      <td>1.0</td>\n",
       "      <td>2013-01-01</td>\n",
       "      <td>1.0</td>\n",
       "      <td>3</td>\n",
       "      <td>test</td>\n",
       "      <td>foo</td>\n",
       "    </tr>\n",
       "    <tr>\n",
       "      <th>3</th>\n",
       "      <td>1.0</td>\n",
       "      <td>2013-01-01</td>\n",
       "      <td>1.0</td>\n",
       "      <td>3</td>\n",
       "      <td>train</td>\n",
       "      <td>foo</td>\n",
       "    </tr>\n",
       "  </tbody>\n",
       "</table>\n",
       "</div>"
      ],
      "text/plain": [
       "     A          B    C  D      E    F\n",
       "0  1.0 2013-01-01  1.0  3   test  foo\n",
       "1  1.0 2013-01-01  1.0  3  train  foo\n",
       "2  1.0 2013-01-01  1.0  3   test  foo\n",
       "3  1.0 2013-01-01  1.0  3  train  foo"
      ]
     },
     "execution_count": 18,
     "metadata": {},
     "output_type": "execute_result"
    }
   ],
   "source": [
    "df2"
   ]
  },
  {
   "cell_type": "code",
   "execution_count": 19,
   "id": "e89cdc2e-57d0-48f7-b0b2-6296eda1a27b",
   "metadata": {},
   "outputs": [
    {
     "data": {
      "text/plain": [
       "A          float64\n",
       "B    datetime64[s]\n",
       "C          float32\n",
       "D            int32\n",
       "E         category\n",
       "F           object\n",
       "dtype: object"
      ]
     },
     "execution_count": 19,
     "metadata": {},
     "output_type": "execute_result"
    }
   ],
   "source": [
    "df2.dtypes"
   ]
  },
  {
   "cell_type": "markdown",
   "id": "7bf70b58-7b7c-4aa3-9f0e-7992ad2f8b3c",
   "metadata": {},
   "source": [
    "---"
   ]
  },
  {
   "cell_type": "code",
   "execution_count": 20,
   "id": "24b4302b-d79d-4c29-bf9f-9d0a1b847197",
   "metadata": {},
   "outputs": [
    {
     "data": {
      "text/plain": [
       "0    1\n",
       "1    a\n",
       "2    4\n",
       "dtype: object"
      ]
     },
     "execution_count": 20,
     "metadata": {},
     "output_type": "execute_result"
    }
   ],
   "source": [
    "pd.Series([1, 'a', 4])"
   ]
  },
  {
   "cell_type": "markdown",
   "id": "3b6bd03f-fed4-4b29-9a2c-99afc127f5b4",
   "metadata": {},
   "source": [
    "---"
   ]
  },
  {
   "cell_type": "code",
   "execution_count": null,
   "id": "c3a3d274-0da8-49e3-ad56-5cddf16f6e74",
   "metadata": {},
   "outputs": [],
   "source": []
  },
  {
   "cell_type": "code",
   "execution_count": null,
   "id": "d8495931-453a-4213-8d74-053da220f388",
   "metadata": {},
   "outputs": [],
   "source": []
  },
  {
   "cell_type": "code",
   "execution_count": null,
   "id": "b6614dcf-ea6e-4d31-ad6b-290978170036",
   "metadata": {},
   "outputs": [],
   "source": []
  },
  {
   "cell_type": "markdown",
   "id": "11de6e2e-281e-4f69-9807-e4cee1dff465",
   "metadata": {},
   "source": [
    "## Viewing data"
   ]
  },
  {
   "cell_type": "code",
   "execution_count": 24,
   "id": "05716642-6d8a-45b6-bd1f-6388ff09d7a7",
   "metadata": {},
   "outputs": [],
   "source": [
    "# the top and bottom rows"
   ]
  },
  {
   "cell_type": "code",
   "execution_count": 25,
   "id": "b15febf6-0786-4c63-94ce-88469c647690",
   "metadata": {},
   "outputs": [
    {
     "data": {
      "text/html": [
       "<div>\n",
       "<style scoped>\n",
       "    .dataframe tbody tr th:only-of-type {\n",
       "        vertical-align: middle;\n",
       "    }\n",
       "\n",
       "    .dataframe tbody tr th {\n",
       "        vertical-align: top;\n",
       "    }\n",
       "\n",
       "    .dataframe thead th {\n",
       "        text-align: right;\n",
       "    }\n",
       "</style>\n",
       "<table border=\"1\" class=\"dataframe\">\n",
       "  <thead>\n",
       "    <tr style=\"text-align: right;\">\n",
       "      <th></th>\n",
       "      <th>A</th>\n",
       "      <th>B</th>\n",
       "      <th>C</th>\n",
       "      <th>D</th>\n",
       "    </tr>\n",
       "  </thead>\n",
       "  <tbody>\n",
       "    <tr>\n",
       "      <th>2013-01-01</th>\n",
       "      <td>-1.474355</td>\n",
       "      <td>0.531672</td>\n",
       "      <td>0.025491</td>\n",
       "      <td>-0.302742</td>\n",
       "    </tr>\n",
       "    <tr>\n",
       "      <th>2013-01-02</th>\n",
       "      <td>-0.726984</td>\n",
       "      <td>-0.746165</td>\n",
       "      <td>0.702313</td>\n",
       "      <td>0.803666</td>\n",
       "    </tr>\n",
       "    <tr>\n",
       "      <th>2013-01-03</th>\n",
       "      <td>-0.454112</td>\n",
       "      <td>-0.225644</td>\n",
       "      <td>-0.211412</td>\n",
       "      <td>-0.265718</td>\n",
       "    </tr>\n",
       "    <tr>\n",
       "      <th>2013-01-04</th>\n",
       "      <td>-0.136119</td>\n",
       "      <td>-0.401121</td>\n",
       "      <td>-2.291708</td>\n",
       "      <td>-1.362184</td>\n",
       "    </tr>\n",
       "    <tr>\n",
       "      <th>2013-01-05</th>\n",
       "      <td>-1.690095</td>\n",
       "      <td>1.015610</td>\n",
       "      <td>0.173992</td>\n",
       "      <td>0.105964</td>\n",
       "    </tr>\n",
       "  </tbody>\n",
       "</table>\n",
       "</div>"
      ],
      "text/plain": [
       "                   A         B         C         D\n",
       "2013-01-01 -1.474355  0.531672  0.025491 -0.302742\n",
       "2013-01-02 -0.726984 -0.746165  0.702313  0.803666\n",
       "2013-01-03 -0.454112 -0.225644 -0.211412 -0.265718\n",
       "2013-01-04 -0.136119 -0.401121 -2.291708 -1.362184\n",
       "2013-01-05 -1.690095  1.015610  0.173992  0.105964"
      ]
     },
     "execution_count": 25,
     "metadata": {},
     "output_type": "execute_result"
    }
   ],
   "source": [
    "df.head()"
   ]
  },
  {
   "cell_type": "code",
   "execution_count": 26,
   "id": "550c1da8-67a6-406f-b62a-768e29a4bd33",
   "metadata": {},
   "outputs": [
    {
     "data": {
      "text/html": [
       "<div>\n",
       "<style scoped>\n",
       "    .dataframe tbody tr th:only-of-type {\n",
       "        vertical-align: middle;\n",
       "    }\n",
       "\n",
       "    .dataframe tbody tr th {\n",
       "        vertical-align: top;\n",
       "    }\n",
       "\n",
       "    .dataframe thead th {\n",
       "        text-align: right;\n",
       "    }\n",
       "</style>\n",
       "<table border=\"1\" class=\"dataframe\">\n",
       "  <thead>\n",
       "    <tr style=\"text-align: right;\">\n",
       "      <th></th>\n",
       "      <th>A</th>\n",
       "      <th>B</th>\n",
       "      <th>C</th>\n",
       "      <th>D</th>\n",
       "    </tr>\n",
       "  </thead>\n",
       "  <tbody>\n",
       "    <tr>\n",
       "      <th>2013-01-05</th>\n",
       "      <td>-1.690095</td>\n",
       "      <td>1.01561</td>\n",
       "      <td>0.173992</td>\n",
       "      <td>0.105964</td>\n",
       "    </tr>\n",
       "    <tr>\n",
       "      <th>2013-01-06</th>\n",
       "      <td>0.768235</td>\n",
       "      <td>-0.30770</td>\n",
       "      <td>-2.005750</td>\n",
       "      <td>-0.492335</td>\n",
       "    </tr>\n",
       "  </tbody>\n",
       "</table>\n",
       "</div>"
      ],
      "text/plain": [
       "                   A        B         C         D\n",
       "2013-01-05 -1.690095  1.01561  0.173992  0.105964\n",
       "2013-01-06  0.768235 -0.30770 -2.005750 -0.492335"
      ]
     },
     "execution_count": 26,
     "metadata": {},
     "output_type": "execute_result"
    }
   ],
   "source": [
    "df.tail(2)"
   ]
  },
  {
   "cell_type": "markdown",
   "id": "eb3b3084-ac12-4f41-8e43-411fd16de810",
   "metadata": {},
   "source": [
    "---"
   ]
  },
  {
   "cell_type": "code",
   "execution_count": 27,
   "id": "0e29074b-6280-4d69-950f-2decf0505fb8",
   "metadata": {},
   "outputs": [
    {
     "data": {
      "text/plain": [
       "DatetimeIndex(['2013-01-01', '2013-01-02', '2013-01-03', '2013-01-04',\n",
       "               '2013-01-05', '2013-01-06'],\n",
       "              dtype='datetime64[ns]', freq='D')"
      ]
     },
     "execution_count": 27,
     "metadata": {},
     "output_type": "execute_result"
    }
   ],
   "source": [
    "df.index"
   ]
  },
  {
   "cell_type": "code",
   "execution_count": 28,
   "id": "c1dcc4fc-650c-43a4-87f2-a6213f3b4e52",
   "metadata": {},
   "outputs": [
    {
     "data": {
      "text/plain": [
       "Index(['A', 'B', 'C', 'D'], dtype='object')"
      ]
     },
     "execution_count": 28,
     "metadata": {},
     "output_type": "execute_result"
    }
   ],
   "source": [
    "df.columns"
   ]
  },
  {
   "cell_type": "markdown",
   "id": "9fe59d22-7a24-4d14-9e0c-9a76a5d0aa20",
   "metadata": {},
   "source": [
    "---"
   ]
  },
  {
   "cell_type": "code",
   "execution_count": 29,
   "id": "462e91c7-8689-416b-9c02-3a5a2c31b05b",
   "metadata": {},
   "outputs": [
    {
     "data": {
      "text/plain": [
       "array([[-1.47435522,  0.53167239,  0.02549119, -0.30274197],\n",
       "       [-0.72698401, -0.74616467,  0.70231261,  0.80366648],\n",
       "       [-0.45411242, -0.22564356, -0.21141234, -0.26571822],\n",
       "       [-0.13611902, -0.40112063, -2.29170839, -1.36218393],\n",
       "       [-1.69009469,  1.01560992,  0.17399187,  0.10596362],\n",
       "       [ 0.76823538, -0.30770033, -2.00574956, -0.49233502]])"
      ]
     },
     "execution_count": 29,
     "metadata": {},
     "output_type": "execute_result"
    }
   ],
   "source": [
    "# Return a NumPy representation of the underlying data:\n",
    "\n",
    "df.to_numpy()"
   ]
  },
  {
   "cell_type": "markdown",
   "id": "b25269f8-e82a-43b5-a259-aa20e03e8bf9",
   "metadata": {},
   "source": [
    "#### *Note\n",
    "__NumPy arrays have one dtype for the entire array while pandas DataFrames have one dtype per column__. When you call `DataFrame.to_numpy()`, pandas will find the NumPy dtype that can hold _all_ of the dtypes in the DataFrame. If the common data type is `object`, DataFrame.to_numpy() will require copying data.\n",
    "\n"
   ]
  },
  {
   "cell_type": "code",
   "execution_count": 30,
   "id": "29ef004f-79c4-47ef-9622-6849cfe5fe6c",
   "metadata": {},
   "outputs": [
    {
     "data": {
      "text/html": [
       "<div>\n",
       "<style scoped>\n",
       "    .dataframe tbody tr th:only-of-type {\n",
       "        vertical-align: middle;\n",
       "    }\n",
       "\n",
       "    .dataframe tbody tr th {\n",
       "        vertical-align: top;\n",
       "    }\n",
       "\n",
       "    .dataframe thead th {\n",
       "        text-align: right;\n",
       "    }\n",
       "</style>\n",
       "<table border=\"1\" class=\"dataframe\">\n",
       "  <thead>\n",
       "    <tr style=\"text-align: right;\">\n",
       "      <th></th>\n",
       "      <th>A</th>\n",
       "      <th>B</th>\n",
       "      <th>C</th>\n",
       "      <th>D</th>\n",
       "      <th>E</th>\n",
       "      <th>F</th>\n",
       "    </tr>\n",
       "  </thead>\n",
       "  <tbody>\n",
       "    <tr>\n",
       "      <th>0</th>\n",
       "      <td>1.0</td>\n",
       "      <td>2013-01-01</td>\n",
       "      <td>1.0</td>\n",
       "      <td>3</td>\n",
       "      <td>test</td>\n",
       "      <td>foo</td>\n",
       "    </tr>\n",
       "    <tr>\n",
       "      <th>1</th>\n",
       "      <td>1.0</td>\n",
       "      <td>2013-01-01</td>\n",
       "      <td>1.0</td>\n",
       "      <td>3</td>\n",
       "      <td>train</td>\n",
       "      <td>foo</td>\n",
       "    </tr>\n",
       "    <tr>\n",
       "      <th>2</th>\n",
       "      <td>1.0</td>\n",
       "      <td>2013-01-01</td>\n",
       "      <td>1.0</td>\n",
       "      <td>3</td>\n",
       "      <td>test</td>\n",
       "      <td>foo</td>\n",
       "    </tr>\n",
       "    <tr>\n",
       "      <th>3</th>\n",
       "      <td>1.0</td>\n",
       "      <td>2013-01-01</td>\n",
       "      <td>1.0</td>\n",
       "      <td>3</td>\n",
       "      <td>train</td>\n",
       "      <td>foo</td>\n",
       "    </tr>\n",
       "  </tbody>\n",
       "</table>\n",
       "</div>"
      ],
      "text/plain": [
       "     A          B    C  D      E    F\n",
       "0  1.0 2013-01-01  1.0  3   test  foo\n",
       "1  1.0 2013-01-01  1.0  3  train  foo\n",
       "2  1.0 2013-01-01  1.0  3   test  foo\n",
       "3  1.0 2013-01-01  1.0  3  train  foo"
      ]
     },
     "execution_count": 30,
     "metadata": {},
     "output_type": "execute_result"
    }
   ],
   "source": [
    "df2"
   ]
  },
  {
   "cell_type": "code",
   "execution_count": 30,
   "id": "b8ba348f-b5d8-42ac-84c1-baba4f2636e1",
   "metadata": {},
   "outputs": [
    {
     "data": {
      "text/plain": [
       "array([[1.0, Timestamp('2013-01-01 00:00:00'), 1.0, 3, 'test', 'foo'],\n",
       "       [1.0, Timestamp('2013-01-01 00:00:00'), 1.0, 3, 'train', 'foo'],\n",
       "       [1.0, Timestamp('2013-01-01 00:00:00'), 1.0, 3, 'test', 'foo'],\n",
       "       [1.0, Timestamp('2013-01-01 00:00:00'), 1.0, 3, 'train', 'foo']],\n",
       "      dtype=object)"
      ]
     },
     "execution_count": 30,
     "metadata": {},
     "output_type": "execute_result"
    }
   ],
   "source": [
    "df2.to_numpy()"
   ]
  },
  {
   "cell_type": "markdown",
   "id": "6afab74d-12cb-4c60-b548-8a7c3f861058",
   "metadata": {},
   "source": [
    "---"
   ]
  },
  {
   "cell_type": "code",
   "execution_count": null,
   "id": "74d232ed-a474-4a4c-8086-0c945d79cc54",
   "metadata": {},
   "outputs": [],
   "source": []
  },
  {
   "cell_type": "markdown",
   "id": "7436f25b-9b85-4b6e-91b1-72b7734c1b89",
   "metadata": {},
   "source": [
    "---"
   ]
  },
  {
   "cell_type": "markdown",
   "id": "053abd56-33b4-4850-bd53-8d412338b1fd",
   "metadata": {},
   "source": [
    "#### In pandas\n",
    "<u>`object` __dtype__ </u>"
   ]
  },
  {
   "cell_type": "markdown",
   "id": "1a41f16b-986b-4578-b08a-c1a75489c7a8",
   "metadata": {},
   "source": [
    " - The `object` __dtype__ terminology `is specific to pandas` and is not a general Python concept. It is a wrapper around Python objects to allow pandas to work with mixed data types in a column or Series.\n",
    " <br>The concept of a \"dtype\" like object does not exist in core Python.\n",
    "\n",
    "- In native Python, data types are handled directly as Python classes (e.g., int, float, str, etc.), without an abstraction layer like pandas' dtypes."
   ]
  },
  {
   "cell_type": "markdown",
   "id": "124c29e9-ba88-46c6-a738-252faf6df47c",
   "metadata": {},
   "source": [
    "---"
   ]
  },
  {
   "cell_type": "markdown",
   "id": "09a7c101-f274-4eb9-99cc-49a5cf4376c0",
   "metadata": {},
   "source": [
    "#### In Core Python:\n",
    "- `Strings` in Python are instances of the `str` class, and their type is `str`.\n",
    "- Example:"
   ]
  },
  {
   "cell_type": "code",
   "execution_count": 54,
   "id": "ac205ee7-0438-4231-adc7-22683dba9734",
   "metadata": {},
   "outputs": [
    {
     "name": "stdout",
     "output_type": "stream",
     "text": [
      "<class 'str'>\n"
     ]
    }
   ],
   "source": [
    "s = \"Hello, World!\"\n",
    "print(type(s))  "
   ]
  },
  {
   "cell_type": "code",
   "execution_count": null,
   "id": "0c729670-cd82-47fb-afbc-4442e258d761",
   "metadata": {},
   "outputs": [],
   "source": []
  },
  {
   "cell_type": "markdown",
   "id": "0e777069-3357-4d89-8459-9b09bf7f2e88",
   "metadata": {},
   "source": [
    "In Python's pandas library, the `object` data type is a flexible data type used primarily for storing __text (strings) or mixed types of data__ in a `DataFrame` or `Series`. It is the most general data type in pandas and can store any Python object, including:\n",
    "\n",
    "- Strings (the most common use case)\n",
    "- Mixed types (e.g., numbers, strings, and other objects in the same column)\n",
    "- Custom Python objects\n"
   ]
  },
  {
   "cell_type": "code",
   "execution_count": null,
   "id": "f421b74b-4675-4528-b7e0-a75881dff606",
   "metadata": {},
   "outputs": [],
   "source": []
  },
  {
   "cell_type": "markdown",
   "id": "935e5362-c704-4e98-8dbd-89d261374259",
   "metadata": {},
   "source": [
    "#### Characteristics of `object` dtype:\n",
    "<br>\n",
    "\n",
    "\n",
    "- __Flexibility__: It can hold any type of Python object, making it highly versatile.\n",
    "- __Performance__: Operations on `object` dtype are generally __slower__ compared to specialized data types like `int`, `float`, or `category` because pandas does not perform type-specific optimizations.\n",
    "- __Memory Usage__: `object` dtype columns use more memory because they store pointers to objects in memory, rather than directly storing the data."
   ]
  },
  {
   "cell_type": "code",
   "execution_count": null,
   "id": "eb3ea861-e56a-4419-ba85-e0403d894414",
   "metadata": {},
   "outputs": [],
   "source": []
  },
  {
   "cell_type": "code",
   "execution_count": 62,
   "id": "e759c137-3ef6-45fc-b48a-62213b863e59",
   "metadata": {},
   "outputs": [],
   "source": [
    "a = pd.Series(['apple', 'banana', 'orange']) "
   ]
  },
  {
   "cell_type": "code",
   "execution_count": 63,
   "id": "2db352ce-9d3f-42e1-9335-694747b8f8b5",
   "metadata": {},
   "outputs": [
    {
     "data": {
      "text/plain": [
       "dtype('O')"
      ]
     },
     "execution_count": 63,
     "metadata": {},
     "output_type": "execute_result"
    }
   ],
   "source": [
    "a.dtype"
   ]
  },
  {
   "cell_type": "code",
   "execution_count": 64,
   "id": "0e5c4bdb-0c4e-4f7a-8e51-5f18fcb14cb6",
   "metadata": {},
   "outputs": [
    {
     "name": "stdout",
     "output_type": "stream",
     "text": [
      "object\n"
     ]
    }
   ],
   "source": [
    "print(a.dtype)"
   ]
  },
  {
   "cell_type": "code",
   "execution_count": 50,
   "id": "06db939a-7f21-4d5a-b23b-bb181081b7d5",
   "metadata": {},
   "outputs": [],
   "source": [
    "# with mixed types\n",
    "\n",
    "b = pd.Series(['a', 1, 5.0, True])"
   ]
  },
  {
   "cell_type": "code",
   "execution_count": 51,
   "id": "8e183f56-667b-405b-ae92-e0280fb2ba0c",
   "metadata": {},
   "outputs": [
    {
     "name": "stdout",
     "output_type": "stream",
     "text": [
      "object\n"
     ]
    }
   ],
   "source": [
    "print(b.dtype)"
   ]
  },
  {
   "cell_type": "markdown",
   "id": "2a1b4979-3ba5-4072-b9f3-8e932451e36a",
   "metadata": {},
   "source": [
    "---"
   ]
  },
  {
   "cell_type": "markdown",
   "id": "130402fc-7e2c-4a99-8817-74d8723df213",
   "metadata": {},
   "source": [
    "#### When to Avoid `object` dtype:\n",
    "\n",
    "\n",
    "<br>\n",
    "\n",
    "- If you're dealing with text data and there are only a few unique values, consider converting the column to the `category` dtype for better performance and memory efficiency.\n",
    "- For numeric data, use `int`or `float` types for faster computations.\n"
   ]
  },
  {
   "cell_type": "code",
   "execution_count": null,
   "id": "efd870ad-7448-4e3f-84df-9ef26d82568d",
   "metadata": {},
   "outputs": [],
   "source": []
  },
  {
   "cell_type": "code",
   "execution_count": 34,
   "id": "c4f9b41e-66bd-4ee1-8f4d-472a3c830f1d",
   "metadata": {},
   "outputs": [],
   "source": [
    "# # Convert text data to category\n",
    "\n",
    "data = pd.Series(['apple', 'banana', 'orange'], dtype='category')"
   ]
  },
  {
   "cell_type": "code",
   "execution_count": 38,
   "id": "3f6c88cd-9be4-4e9c-8f73-ff2d2e8cd812",
   "metadata": {},
   "outputs": [
    {
     "data": {
      "text/plain": [
       "0     apple\n",
       "1    banana\n",
       "2    orange\n",
       "dtype: category\n",
       "Categories (3, object): ['apple', 'banana', 'orange']"
      ]
     },
     "execution_count": 38,
     "metadata": {},
     "output_type": "execute_result"
    }
   ],
   "source": [
    "data"
   ]
  },
  {
   "cell_type": "code",
   "execution_count": 35,
   "id": "c2a1ac33-2b9b-4622-8923-eb3e4a699b94",
   "metadata": {
    "scrolled": true
   },
   "outputs": [
    {
     "name": "stdout",
     "output_type": "stream",
     "text": [
      "category\n"
     ]
    }
   ],
   "source": [
    "print(data.dtype)"
   ]
  },
  {
   "cell_type": "code",
   "execution_count": 37,
   "id": "e78f9a2d-3eee-482a-b16f-61cb42dcfd6f",
   "metadata": {},
   "outputs": [
    {
     "name": "stdout",
     "output_type": "stream",
     "text": [
      "Index(['apple', 'banana', 'orange'], dtype='object')\n"
     ]
    }
   ],
   "source": [
    "print(data.cat.categories)"
   ]
  },
  {
   "cell_type": "code",
   "execution_count": null,
   "id": "f6727490-4b2d-47cb-8292-977bd87a737b",
   "metadata": {},
   "outputs": [],
   "source": []
  },
  {
   "cell_type": "code",
   "execution_count": 39,
   "id": "923380a5-77ce-4772-9dd9-390b20364ea7",
   "metadata": {},
   "outputs": [
    {
     "data": {
      "text/plain": [
       "3"
      ]
     },
     "execution_count": 39,
     "metadata": {},
     "output_type": "execute_result"
    }
   ],
   "source": [
    "len(data)"
   ]
  },
  {
   "cell_type": "code",
   "execution_count": 40,
   "id": "03fdcf12-15ed-4586-981c-ac2d3bcf76f0",
   "metadata": {},
   "outputs": [],
   "source": [
    "# let's add a new value that isn't in the existing categories \n",
    "data[3] = 'pear'"
   ]
  },
  {
   "cell_type": "code",
   "execution_count": 41,
   "id": "f03ac6f0-087e-4d72-a681-867fba21dff3",
   "metadata": {},
   "outputs": [
    {
     "data": {
      "text/plain": [
       "0     apple\n",
       "1    banana\n",
       "2    orange\n",
       "3      pear\n",
       "dtype: object"
      ]
     },
     "execution_count": 41,
     "metadata": {},
     "output_type": "execute_result"
    }
   ],
   "source": [
    "data"
   ]
  },
  {
   "cell_type": "code",
   "execution_count": null,
   "id": "be7fbd72-fdfd-4491-920b-e7d29b5582ca",
   "metadata": {},
   "outputs": [],
   "source": []
  },
  {
   "cell_type": "markdown",
   "id": "91af4d8d-9ea9-4a68-a75b-443836cf98a3",
   "metadata": {},
   "source": [
    "### !!!\n",
    "\n",
    "\n",
    "1. Without adding a category first, Pandas silently __converts__ the `Series to object` when assigning a new value.\n",
    "2. To preserve categorical dtype, you must explicitly add the new category using `.cat.add_categories(new_categories)`.\n"
   ]
  },
  {
   "cell_type": "code",
   "execution_count": null,
   "id": "842d934c-ef57-4723-b8a1-8a152c7d2a7b",
   "metadata": {},
   "outputs": [],
   "source": []
  },
  {
   "cell_type": "code",
   "execution_count": 42,
   "id": "493ab415-76ca-44d1-a5df-2c1c6ec12d45",
   "metadata": {},
   "outputs": [],
   "source": [
    "data = pd.Series(['apple', 'banana', 'apple'], dtype='category')"
   ]
  },
  {
   "cell_type": "code",
   "execution_count": 43,
   "id": "9cdfdaaa-e634-4a94-b4bb-1b2393aad74b",
   "metadata": {},
   "outputs": [
    {
     "data": {
      "text/plain": [
       "0     apple\n",
       "1    banana\n",
       "2     apple\n",
       "dtype: category\n",
       "Categories (2, object): ['apple', 'banana']"
      ]
     },
     "execution_count": 43,
     "metadata": {},
     "output_type": "execute_result"
    }
   ],
   "source": [
    "data"
   ]
  },
  {
   "cell_type": "code",
   "execution_count": 46,
   "id": "5e44b6a1-f234-46dc-b7e6-a24936eded28",
   "metadata": {},
   "outputs": [],
   "source": [
    "data = data.cat.add_categories('pear')"
   ]
  },
  {
   "cell_type": "code",
   "execution_count": 47,
   "id": "3889cef5-2042-43b5-baee-4a8507e04621",
   "metadata": {},
   "outputs": [
    {
     "data": {
      "text/plain": [
       "0     apple\n",
       "1    banana\n",
       "2     apple\n",
       "dtype: category\n",
       "Categories (3, object): ['apple', 'banana', 'pear']"
      ]
     },
     "execution_count": 47,
     "metadata": {},
     "output_type": "execute_result"
    }
   ],
   "source": [
    "data"
   ]
  },
  {
   "cell_type": "code",
   "execution_count": 48,
   "id": "1f6abd4e-6dde-4102-aab2-0bd4f8709975",
   "metadata": {},
   "outputs": [],
   "source": [
    "data[3] = 'pear'"
   ]
  },
  {
   "cell_type": "code",
   "execution_count": 49,
   "id": "fa6f195d-a1ca-42a8-b5d1-e8255263e620",
   "metadata": {},
   "outputs": [
    {
     "data": {
      "text/plain": [
       "0     apple\n",
       "1    banana\n",
       "2     apple\n",
       "3      pear\n",
       "dtype: category\n",
       "Categories (3, object): ['apple', 'banana', 'pear']"
      ]
     },
     "execution_count": 49,
     "metadata": {},
     "output_type": "execute_result"
    }
   ],
   "source": [
    "data"
   ]
  },
  {
   "cell_type": "markdown",
   "id": "cdd2f78e-ce01-4ed6-a7ed-5dda62bb6158",
   "metadata": {},
   "source": [
    "---"
   ]
  },
  {
   "cell_type": "code",
   "execution_count": null,
   "id": "29c695e1-9e7f-4cea-8af5-6780db074032",
   "metadata": {},
   "outputs": [],
   "source": []
  },
  {
   "cell_type": "markdown",
   "id": "a30cd35b-6397-41bc-9c4e-0a04a785b677",
   "metadata": {},
   "source": [
    "### In pandas:\n",
    "- __Strings__ in a pandas `Series` or `DataFrame` can be stored as:\n",
    "\n",
    "    1. `object` dtype: When pandas does not optimize specifically for strings, it stores them as generic Python objects (of type `str`).\n",
    "    2. `string` dtype: A specialized dtype introduced in recent versions of pandas for string storage and operations, offering better consistency and functionality."
   ]
  },
  {
   "cell_type": "code",
   "execution_count": 55,
   "id": "65be69d4-4859-4b80-a9a6-b203dea53964",
   "metadata": {},
   "outputs": [],
   "source": [
    "# Example \n",
    "a = pd.Series(['apple', 'banana', 'orange'])"
   ]
  },
  {
   "cell_type": "code",
   "execution_count": 57,
   "id": "72a398d4-6548-4fda-b680-d69bf4bdd876",
   "metadata": {},
   "outputs": [
    {
     "data": {
      "text/plain": [
       "dtype('O')"
      ]
     },
     "execution_count": 57,
     "metadata": {},
     "output_type": "execute_result"
    }
   ],
   "source": [
    "a.dtype"
   ]
  },
  {
   "cell_type": "code",
   "execution_count": 44,
   "id": "c86a1ca3-c41a-4098-bf07-912dd13cac55",
   "metadata": {},
   "outputs": [
    {
     "data": {
      "text/plain": [
       "0    foo\n",
       "1    foo\n",
       "2    foo\n",
       "3    foo\n",
       "Name: F, dtype: object"
      ]
     },
     "execution_count": 44,
     "metadata": {},
     "output_type": "execute_result"
    }
   ],
   "source": [
    "df2['F']"
   ]
  },
  {
   "cell_type": "code",
   "execution_count": 45,
   "id": "2443c2e4-773f-4f29-999c-cef0459186d9",
   "metadata": {},
   "outputs": [],
   "source": [
    "df2['F'] = df2['F'].astype('string')"
   ]
  },
  {
   "cell_type": "code",
   "execution_count": 46,
   "id": "6710f481-b710-45fd-b306-42d9df4b61c2",
   "metadata": {},
   "outputs": [
    {
     "data": {
      "text/plain": [
       "0    foo\n",
       "1    foo\n",
       "2    foo\n",
       "3    foo\n",
       "Name: F, dtype: string"
      ]
     },
     "execution_count": 46,
     "metadata": {},
     "output_type": "execute_result"
    }
   ],
   "source": [
    "df2['F']"
   ]
  },
  {
   "cell_type": "markdown",
   "id": "e6360453-dbc2-4684-ae3d-d109c7a5d9af",
   "metadata": {},
   "source": [
    "---"
   ]
  },
  {
   "cell_type": "markdown",
   "id": "13dece8e-c8eb-46ee-b9c3-7d6586bf197e",
   "metadata": {},
   "source": [
    "- Use `.dtype` for a single column or Series.\n",
    "- Use `.dtypes` for an overview of all column data types in a DataFrame.\n",
    "\n",
    "\n",
    "\n",
    "\n",
    "\n"
   ]
  },
  {
   "cell_type": "code",
   "execution_count": 58,
   "id": "cc2c6948-69f4-43fd-82ac-93f22797e711",
   "metadata": {},
   "outputs": [
    {
     "name": "stdout",
     "output_type": "stream",
     "text": [
      "2582709371136\n",
      "2582674572976\n"
     ]
    }
   ],
   "source": [
    "data = {'A': [1, 2, 3], 'B': ['x', 'y', 'z']}\n",
    "print(id(data))\n",
    "data = pd.DataFrame(data)\n",
    "print(id(data))\n"
   ]
  },
  {
   "cell_type": "code",
   "execution_count": 59,
   "id": "5d601310-18f1-45a6-b782-fcaaf48c51cb",
   "metadata": {},
   "outputs": [
    {
     "data": {
      "text/plain": [
       "dtype('int64')"
      ]
     },
     "execution_count": 59,
     "metadata": {},
     "output_type": "execute_result"
    }
   ],
   "source": [
    "data['A'].dtype"
   ]
  },
  {
   "cell_type": "code",
   "execution_count": 60,
   "id": "9bd1fdc9-f736-4284-9d15-18a94d4b44ba",
   "metadata": {},
   "outputs": [
    {
     "data": {
      "text/plain": [
       "dtype('O')"
      ]
     },
     "execution_count": 60,
     "metadata": {},
     "output_type": "execute_result"
    }
   ],
   "source": [
    "data['B'].dtype"
   ]
  },
  {
   "cell_type": "code",
   "execution_count": 61,
   "id": "c67671a6-e03c-440b-b067-bddf54833a34",
   "metadata": {},
   "outputs": [
    {
     "data": {
      "text/plain": [
       "A     int64\n",
       "B    object\n",
       "dtype: object"
      ]
     },
     "execution_count": 61,
     "metadata": {},
     "output_type": "execute_result"
    }
   ],
   "source": [
    "data.dtypes"
   ]
  },
  {
   "cell_type": "markdown",
   "id": "31e0ec42-9459-44e0-a627-811bec755170",
   "metadata": {},
   "source": [
    "---"
   ]
  },
  {
   "cell_type": "code",
   "execution_count": null,
   "id": "f2f96eca-8135-4da5-90a2-611605752572",
   "metadata": {},
   "outputs": [],
   "source": []
  },
  {
   "cell_type": "code",
   "execution_count": null,
   "id": "207aa3d5-59bd-4070-b44d-e028401d039d",
   "metadata": {},
   "outputs": [],
   "source": []
  },
  {
   "cell_type": "code",
   "execution_count": null,
   "id": "c0d90ba0-f689-4a68-b44e-b9de38415dda",
   "metadata": {},
   "outputs": [],
   "source": []
  },
  {
   "cell_type": "code",
   "execution_count": null,
   "id": "e76bdaa6-d5e1-4da4-b1b6-eb3b10ad8162",
   "metadata": {},
   "outputs": [],
   "source": []
  },
  {
   "cell_type": "markdown",
   "id": "76267eec-d137-4460-9998-1cc840f01d92",
   "metadata": {
    "scrolled": true
   },
   "source": [
    "`.describe()`\n",
    "\n",
    "Generate _descriptive statistics_ (excluding NaN values).\n",
    "\n"
   ]
  },
  {
   "cell_type": "code",
   "execution_count": 66,
   "id": "a9da9a6a-f779-4a0b-98c1-3e27ea38d74e",
   "metadata": {},
   "outputs": [
    {
     "data": {
      "text/html": [
       "<div>\n",
       "<style scoped>\n",
       "    .dataframe tbody tr th:only-of-type {\n",
       "        vertical-align: middle;\n",
       "    }\n",
       "\n",
       "    .dataframe tbody tr th {\n",
       "        vertical-align: top;\n",
       "    }\n",
       "\n",
       "    .dataframe thead th {\n",
       "        text-align: right;\n",
       "    }\n",
       "</style>\n",
       "<table border=\"1\" class=\"dataframe\">\n",
       "  <thead>\n",
       "    <tr style=\"text-align: right;\">\n",
       "      <th></th>\n",
       "      <th>A</th>\n",
       "      <th>B</th>\n",
       "      <th>C</th>\n",
       "      <th>D</th>\n",
       "    </tr>\n",
       "  </thead>\n",
       "  <tbody>\n",
       "    <tr>\n",
       "      <th>2013-01-01</th>\n",
       "      <td>0.604343</td>\n",
       "      <td>-1.458726</td>\n",
       "      <td>-0.026405</td>\n",
       "      <td>-0.898501</td>\n",
       "    </tr>\n",
       "    <tr>\n",
       "      <th>2013-01-02</th>\n",
       "      <td>-0.833029</td>\n",
       "      <td>1.575948</td>\n",
       "      <td>0.593999</td>\n",
       "      <td>0.074502</td>\n",
       "    </tr>\n",
       "    <tr>\n",
       "      <th>2013-01-03</th>\n",
       "      <td>0.521692</td>\n",
       "      <td>-0.176570</td>\n",
       "      <td>-0.069330</td>\n",
       "      <td>0.021970</td>\n",
       "    </tr>\n",
       "    <tr>\n",
       "      <th>2013-01-04</th>\n",
       "      <td>0.190665</td>\n",
       "      <td>-0.816560</td>\n",
       "      <td>0.104098</td>\n",
       "      <td>1.144434</td>\n",
       "    </tr>\n",
       "    <tr>\n",
       "      <th>2013-01-05</th>\n",
       "      <td>1.174129</td>\n",
       "      <td>-0.637501</td>\n",
       "      <td>-1.734045</td>\n",
       "      <td>0.663057</td>\n",
       "    </tr>\n",
       "    <tr>\n",
       "      <th>2013-01-06</th>\n",
       "      <td>0.003405</td>\n",
       "      <td>-1.347315</td>\n",
       "      <td>-0.143134</td>\n",
       "      <td>-0.191517</td>\n",
       "    </tr>\n",
       "  </tbody>\n",
       "</table>\n",
       "</div>"
      ],
      "text/plain": [
       "                   A         B         C         D\n",
       "2013-01-01  0.604343 -1.458726 -0.026405 -0.898501\n",
       "2013-01-02 -0.833029  1.575948  0.593999  0.074502\n",
       "2013-01-03  0.521692 -0.176570 -0.069330  0.021970\n",
       "2013-01-04  0.190665 -0.816560  0.104098  1.144434\n",
       "2013-01-05  1.174129 -0.637501 -1.734045  0.663057\n",
       "2013-01-06  0.003405 -1.347315 -0.143134 -0.191517"
      ]
     },
     "execution_count": 66,
     "metadata": {},
     "output_type": "execute_result"
    }
   ],
   "source": [
    "df"
   ]
  },
  {
   "cell_type": "code",
   "execution_count": 67,
   "id": "09aadd57-8752-4725-9fcd-84ee154824cf",
   "metadata": {},
   "outputs": [
    {
     "data": {
      "text/html": [
       "<div>\n",
       "<style scoped>\n",
       "    .dataframe tbody tr th:only-of-type {\n",
       "        vertical-align: middle;\n",
       "    }\n",
       "\n",
       "    .dataframe tbody tr th {\n",
       "        vertical-align: top;\n",
       "    }\n",
       "\n",
       "    .dataframe thead th {\n",
       "        text-align: right;\n",
       "    }\n",
       "</style>\n",
       "<table border=\"1\" class=\"dataframe\">\n",
       "  <thead>\n",
       "    <tr style=\"text-align: right;\">\n",
       "      <th></th>\n",
       "      <th>A</th>\n",
       "      <th>B</th>\n",
       "      <th>C</th>\n",
       "      <th>D</th>\n",
       "    </tr>\n",
       "  </thead>\n",
       "  <tbody>\n",
       "    <tr>\n",
       "      <th>count</th>\n",
       "      <td>6.000000</td>\n",
       "      <td>6.000000</td>\n",
       "      <td>6.000000</td>\n",
       "      <td>6.000000</td>\n",
       "    </tr>\n",
       "    <tr>\n",
       "      <th>mean</th>\n",
       "      <td>0.276868</td>\n",
       "      <td>-0.476787</td>\n",
       "      <td>-0.212469</td>\n",
       "      <td>0.135657</td>\n",
       "    </tr>\n",
       "    <tr>\n",
       "      <th>std</th>\n",
       "      <td>0.676216</td>\n",
       "      <td>1.110599</td>\n",
       "      <td>0.790660</td>\n",
       "      <td>0.705545</td>\n",
       "    </tr>\n",
       "    <tr>\n",
       "      <th>min</th>\n",
       "      <td>-0.833029</td>\n",
       "      <td>-1.458726</td>\n",
       "      <td>-1.734045</td>\n",
       "      <td>-0.898501</td>\n",
       "    </tr>\n",
       "    <tr>\n",
       "      <th>25%</th>\n",
       "      <td>0.050220</td>\n",
       "      <td>-1.214626</td>\n",
       "      <td>-0.124683</td>\n",
       "      <td>-0.138145</td>\n",
       "    </tr>\n",
       "    <tr>\n",
       "      <th>50%</th>\n",
       "      <td>0.356178</td>\n",
       "      <td>-0.727031</td>\n",
       "      <td>-0.047868</td>\n",
       "      <td>0.048236</td>\n",
       "    </tr>\n",
       "    <tr>\n",
       "      <th>75%</th>\n",
       "      <td>0.583681</td>\n",
       "      <td>-0.291803</td>\n",
       "      <td>0.071473</td>\n",
       "      <td>0.515918</td>\n",
       "    </tr>\n",
       "    <tr>\n",
       "      <th>max</th>\n",
       "      <td>1.174129</td>\n",
       "      <td>1.575948</td>\n",
       "      <td>0.593999</td>\n",
       "      <td>1.144434</td>\n",
       "    </tr>\n",
       "  </tbody>\n",
       "</table>\n",
       "</div>"
      ],
      "text/plain": [
       "              A         B         C         D\n",
       "count  6.000000  6.000000  6.000000  6.000000\n",
       "mean   0.276868 -0.476787 -0.212469  0.135657\n",
       "std    0.676216  1.110599  0.790660  0.705545\n",
       "min   -0.833029 -1.458726 -1.734045 -0.898501\n",
       "25%    0.050220 -1.214626 -0.124683 -0.138145\n",
       "50%    0.356178 -0.727031 -0.047868  0.048236\n",
       "75%    0.583681 -0.291803  0.071473  0.515918\n",
       "max    1.174129  1.575948  0.593999  1.144434"
      ]
     },
     "execution_count": 67,
     "metadata": {},
     "output_type": "execute_result"
    }
   ],
   "source": [
    "df.describe()"
   ]
  },
  {
   "cell_type": "markdown",
   "id": "c64a7623-bbc0-4ae5-8661-81bc21e317cb",
   "metadata": {},
   "source": [
    "---"
   ]
  },
  {
   "cell_type": "code",
   "execution_count": null,
   "id": "c8bb1fa0-5047-4045-a4f8-44860d409ee5",
   "metadata": {},
   "outputs": [],
   "source": []
  },
  {
   "cell_type": "code",
   "execution_count": null,
   "id": "1bf20833-355c-4513-9754-17893d08914b",
   "metadata": {},
   "outputs": [],
   "source": []
  },
  {
   "cell_type": "markdown",
   "id": "b92a5649-0a57-4a81-8df8-3a357a9b0ae5",
   "metadata": {},
   "source": [
    "`Transposing your data`"
   ]
  },
  {
   "cell_type": "code",
   "execution_count": 69,
   "id": "e6afdc47-76f0-43e4-80ce-128910f08948",
   "metadata": {},
   "outputs": [
    {
     "data": {
      "text/html": [
       "<div>\n",
       "<style scoped>\n",
       "    .dataframe tbody tr th:only-of-type {\n",
       "        vertical-align: middle;\n",
       "    }\n",
       "\n",
       "    .dataframe tbody tr th {\n",
       "        vertical-align: top;\n",
       "    }\n",
       "\n",
       "    .dataframe thead th {\n",
       "        text-align: right;\n",
       "    }\n",
       "</style>\n",
       "<table border=\"1\" class=\"dataframe\">\n",
       "  <thead>\n",
       "    <tr style=\"text-align: right;\">\n",
       "      <th></th>\n",
       "      <th>A</th>\n",
       "      <th>B</th>\n",
       "      <th>C</th>\n",
       "      <th>D</th>\n",
       "    </tr>\n",
       "  </thead>\n",
       "  <tbody>\n",
       "    <tr>\n",
       "      <th>2013-01-01</th>\n",
       "      <td>0.604343</td>\n",
       "      <td>-1.458726</td>\n",
       "      <td>-0.026405</td>\n",
       "      <td>-0.898501</td>\n",
       "    </tr>\n",
       "    <tr>\n",
       "      <th>2013-01-02</th>\n",
       "      <td>-0.833029</td>\n",
       "      <td>1.575948</td>\n",
       "      <td>0.593999</td>\n",
       "      <td>0.074502</td>\n",
       "    </tr>\n",
       "    <tr>\n",
       "      <th>2013-01-03</th>\n",
       "      <td>0.521692</td>\n",
       "      <td>-0.176570</td>\n",
       "      <td>-0.069330</td>\n",
       "      <td>0.021970</td>\n",
       "    </tr>\n",
       "    <tr>\n",
       "      <th>2013-01-04</th>\n",
       "      <td>0.190665</td>\n",
       "      <td>-0.816560</td>\n",
       "      <td>0.104098</td>\n",
       "      <td>1.144434</td>\n",
       "    </tr>\n",
       "    <tr>\n",
       "      <th>2013-01-05</th>\n",
       "      <td>1.174129</td>\n",
       "      <td>-0.637501</td>\n",
       "      <td>-1.734045</td>\n",
       "      <td>0.663057</td>\n",
       "    </tr>\n",
       "    <tr>\n",
       "      <th>2013-01-06</th>\n",
       "      <td>0.003405</td>\n",
       "      <td>-1.347315</td>\n",
       "      <td>-0.143134</td>\n",
       "      <td>-0.191517</td>\n",
       "    </tr>\n",
       "  </tbody>\n",
       "</table>\n",
       "</div>"
      ],
      "text/plain": [
       "                   A         B         C         D\n",
       "2013-01-01  0.604343 -1.458726 -0.026405 -0.898501\n",
       "2013-01-02 -0.833029  1.575948  0.593999  0.074502\n",
       "2013-01-03  0.521692 -0.176570 -0.069330  0.021970\n",
       "2013-01-04  0.190665 -0.816560  0.104098  1.144434\n",
       "2013-01-05  1.174129 -0.637501 -1.734045  0.663057\n",
       "2013-01-06  0.003405 -1.347315 -0.143134 -0.191517"
      ]
     },
     "execution_count": 69,
     "metadata": {},
     "output_type": "execute_result"
    }
   ],
   "source": [
    "df"
   ]
  },
  {
   "cell_type": "code",
   "execution_count": 70,
   "id": "76ec0339-54b9-45b2-ac0b-1a91ab769956",
   "metadata": {},
   "outputs": [
    {
     "data": {
      "text/html": [
       "<div>\n",
       "<style scoped>\n",
       "    .dataframe tbody tr th:only-of-type {\n",
       "        vertical-align: middle;\n",
       "    }\n",
       "\n",
       "    .dataframe tbody tr th {\n",
       "        vertical-align: top;\n",
       "    }\n",
       "\n",
       "    .dataframe thead th {\n",
       "        text-align: right;\n",
       "    }\n",
       "</style>\n",
       "<table border=\"1\" class=\"dataframe\">\n",
       "  <thead>\n",
       "    <tr style=\"text-align: right;\">\n",
       "      <th></th>\n",
       "      <th>2013-01-01</th>\n",
       "      <th>2013-01-02</th>\n",
       "      <th>2013-01-03</th>\n",
       "      <th>2013-01-04</th>\n",
       "      <th>2013-01-05</th>\n",
       "      <th>2013-01-06</th>\n",
       "    </tr>\n",
       "  </thead>\n",
       "  <tbody>\n",
       "    <tr>\n",
       "      <th>A</th>\n",
       "      <td>0.604343</td>\n",
       "      <td>-0.833029</td>\n",
       "      <td>0.521692</td>\n",
       "      <td>0.190665</td>\n",
       "      <td>1.174129</td>\n",
       "      <td>0.003405</td>\n",
       "    </tr>\n",
       "    <tr>\n",
       "      <th>B</th>\n",
       "      <td>-1.458726</td>\n",
       "      <td>1.575948</td>\n",
       "      <td>-0.176570</td>\n",
       "      <td>-0.816560</td>\n",
       "      <td>-0.637501</td>\n",
       "      <td>-1.347315</td>\n",
       "    </tr>\n",
       "    <tr>\n",
       "      <th>C</th>\n",
       "      <td>-0.026405</td>\n",
       "      <td>0.593999</td>\n",
       "      <td>-0.069330</td>\n",
       "      <td>0.104098</td>\n",
       "      <td>-1.734045</td>\n",
       "      <td>-0.143134</td>\n",
       "    </tr>\n",
       "    <tr>\n",
       "      <th>D</th>\n",
       "      <td>-0.898501</td>\n",
       "      <td>0.074502</td>\n",
       "      <td>0.021970</td>\n",
       "      <td>1.144434</td>\n",
       "      <td>0.663057</td>\n",
       "      <td>-0.191517</td>\n",
       "    </tr>\n",
       "  </tbody>\n",
       "</table>\n",
       "</div>"
      ],
      "text/plain": [
       "   2013-01-01  2013-01-02  2013-01-03  2013-01-04  2013-01-05  2013-01-06\n",
       "A    0.604343   -0.833029    0.521692    0.190665    1.174129    0.003405\n",
       "B   -1.458726    1.575948   -0.176570   -0.816560   -0.637501   -1.347315\n",
       "C   -0.026405    0.593999   -0.069330    0.104098   -1.734045   -0.143134\n",
       "D   -0.898501    0.074502    0.021970    1.144434    0.663057   -0.191517"
      ]
     },
     "execution_count": 70,
     "metadata": {},
     "output_type": "execute_result"
    }
   ],
   "source": [
    "df.T"
   ]
  },
  {
   "cell_type": "markdown",
   "id": "dc8d9ccb-e1ed-4d1b-93eb-744727e93fca",
   "metadata": {},
   "source": [
    "---"
   ]
  },
  {
   "cell_type": "code",
   "execution_count": null,
   "id": "ba5539ea-a7ea-401b-aab8-4992f4245c1c",
   "metadata": {},
   "outputs": [],
   "source": []
  },
  {
   "cell_type": "code",
   "execution_count": null,
   "id": "90bbbc33-e4bd-49b7-a800-541311180ddb",
   "metadata": {},
   "outputs": [],
   "source": []
  },
  {
   "cell_type": "markdown",
   "id": "dbd9757d-1de9-4651-b792-6c9587832d5a",
   "metadata": {},
   "source": [
    "`.sort_index()`\n",
    "\n",
    "DataFrame.sort_index() sorts by an axis:\n",
    "\n",
    "\n"
   ]
  },
  {
   "cell_type": "code",
   "execution_count": 74,
   "id": "52b37cfe-08d3-441b-97ac-44af5c678a75",
   "metadata": {},
   "outputs": [
    {
     "data": {
      "text/html": [
       "<div>\n",
       "<style scoped>\n",
       "    .dataframe tbody tr th:only-of-type {\n",
       "        vertical-align: middle;\n",
       "    }\n",
       "\n",
       "    .dataframe tbody tr th {\n",
       "        vertical-align: top;\n",
       "    }\n",
       "\n",
       "    .dataframe thead th {\n",
       "        text-align: right;\n",
       "    }\n",
       "</style>\n",
       "<table border=\"1\" class=\"dataframe\">\n",
       "  <thead>\n",
       "    <tr style=\"text-align: right;\">\n",
       "      <th></th>\n",
       "      <th>D</th>\n",
       "      <th>C</th>\n",
       "      <th>B</th>\n",
       "      <th>A</th>\n",
       "    </tr>\n",
       "  </thead>\n",
       "  <tbody>\n",
       "    <tr>\n",
       "      <th>2013-01-01</th>\n",
       "      <td>-0.898501</td>\n",
       "      <td>-0.026405</td>\n",
       "      <td>-1.458726</td>\n",
       "      <td>0.604343</td>\n",
       "    </tr>\n",
       "    <tr>\n",
       "      <th>2013-01-02</th>\n",
       "      <td>0.074502</td>\n",
       "      <td>0.593999</td>\n",
       "      <td>1.575948</td>\n",
       "      <td>-0.833029</td>\n",
       "    </tr>\n",
       "    <tr>\n",
       "      <th>2013-01-03</th>\n",
       "      <td>0.021970</td>\n",
       "      <td>-0.069330</td>\n",
       "      <td>-0.176570</td>\n",
       "      <td>0.521692</td>\n",
       "    </tr>\n",
       "    <tr>\n",
       "      <th>2013-01-04</th>\n",
       "      <td>1.144434</td>\n",
       "      <td>0.104098</td>\n",
       "      <td>-0.816560</td>\n",
       "      <td>0.190665</td>\n",
       "    </tr>\n",
       "    <tr>\n",
       "      <th>2013-01-05</th>\n",
       "      <td>0.663057</td>\n",
       "      <td>-1.734045</td>\n",
       "      <td>-0.637501</td>\n",
       "      <td>1.174129</td>\n",
       "    </tr>\n",
       "    <tr>\n",
       "      <th>2013-01-06</th>\n",
       "      <td>-0.191517</td>\n",
       "      <td>-0.143134</td>\n",
       "      <td>-1.347315</td>\n",
       "      <td>0.003405</td>\n",
       "    </tr>\n",
       "  </tbody>\n",
       "</table>\n",
       "</div>"
      ],
      "text/plain": [
       "                   D         C         B         A\n",
       "2013-01-01 -0.898501 -0.026405 -1.458726  0.604343\n",
       "2013-01-02  0.074502  0.593999  1.575948 -0.833029\n",
       "2013-01-03  0.021970 -0.069330 -0.176570  0.521692\n",
       "2013-01-04  1.144434  0.104098 -0.816560  0.190665\n",
       "2013-01-05  0.663057 -1.734045 -0.637501  1.174129\n",
       "2013-01-06 -0.191517 -0.143134 -1.347315  0.003405"
      ]
     },
     "execution_count": 74,
     "metadata": {},
     "output_type": "execute_result"
    }
   ],
   "source": [
    "df.sort_index(axis=1, ascending=False)"
   ]
  },
  {
   "cell_type": "code",
   "execution_count": 76,
   "id": "1df9976d-fb49-4d2d-aa12-bb8e9fa66011",
   "metadata": {},
   "outputs": [
    {
     "data": {
      "text/html": [
       "<div>\n",
       "<style scoped>\n",
       "    .dataframe tbody tr th:only-of-type {\n",
       "        vertical-align: middle;\n",
       "    }\n",
       "\n",
       "    .dataframe tbody tr th {\n",
       "        vertical-align: top;\n",
       "    }\n",
       "\n",
       "    .dataframe thead th {\n",
       "        text-align: right;\n",
       "    }\n",
       "</style>\n",
       "<table border=\"1\" class=\"dataframe\">\n",
       "  <thead>\n",
       "    <tr style=\"text-align: right;\">\n",
       "      <th></th>\n",
       "      <th>A</th>\n",
       "      <th>B</th>\n",
       "      <th>C</th>\n",
       "      <th>D</th>\n",
       "    </tr>\n",
       "  </thead>\n",
       "  <tbody>\n",
       "    <tr>\n",
       "      <th>2013-01-06</th>\n",
       "      <td>0.003405</td>\n",
       "      <td>-1.347315</td>\n",
       "      <td>-0.143134</td>\n",
       "      <td>-0.191517</td>\n",
       "    </tr>\n",
       "    <tr>\n",
       "      <th>2013-01-05</th>\n",
       "      <td>1.174129</td>\n",
       "      <td>-0.637501</td>\n",
       "      <td>-1.734045</td>\n",
       "      <td>0.663057</td>\n",
       "    </tr>\n",
       "    <tr>\n",
       "      <th>2013-01-04</th>\n",
       "      <td>0.190665</td>\n",
       "      <td>-0.816560</td>\n",
       "      <td>0.104098</td>\n",
       "      <td>1.144434</td>\n",
       "    </tr>\n",
       "    <tr>\n",
       "      <th>2013-01-03</th>\n",
       "      <td>0.521692</td>\n",
       "      <td>-0.176570</td>\n",
       "      <td>-0.069330</td>\n",
       "      <td>0.021970</td>\n",
       "    </tr>\n",
       "    <tr>\n",
       "      <th>2013-01-02</th>\n",
       "      <td>-0.833029</td>\n",
       "      <td>1.575948</td>\n",
       "      <td>0.593999</td>\n",
       "      <td>0.074502</td>\n",
       "    </tr>\n",
       "    <tr>\n",
       "      <th>2013-01-01</th>\n",
       "      <td>0.604343</td>\n",
       "      <td>-1.458726</td>\n",
       "      <td>-0.026405</td>\n",
       "      <td>-0.898501</td>\n",
       "    </tr>\n",
       "  </tbody>\n",
       "</table>\n",
       "</div>"
      ],
      "text/plain": [
       "                   A         B         C         D\n",
       "2013-01-06  0.003405 -1.347315 -0.143134 -0.191517\n",
       "2013-01-05  1.174129 -0.637501 -1.734045  0.663057\n",
       "2013-01-04  0.190665 -0.816560  0.104098  1.144434\n",
       "2013-01-03  0.521692 -0.176570 -0.069330  0.021970\n",
       "2013-01-02 -0.833029  1.575948  0.593999  0.074502\n",
       "2013-01-01  0.604343 -1.458726 -0.026405 -0.898501"
      ]
     },
     "execution_count": 76,
     "metadata": {},
     "output_type": "execute_result"
    }
   ],
   "source": [
    "df.sort_index(axis=0, ascending=False)"
   ]
  },
  {
   "cell_type": "markdown",
   "id": "dcce22ac-e861-40a1-94c9-575be0faf24b",
   "metadata": {},
   "source": [
    "---"
   ]
  },
  {
   "cell_type": "code",
   "execution_count": null,
   "id": "e80e5453-67c2-43a9-b04b-e9f1475aaedf",
   "metadata": {},
   "outputs": [],
   "source": []
  },
  {
   "cell_type": "code",
   "execution_count": null,
   "id": "66047394-8b93-4366-ba21-d89d9442d4e2",
   "metadata": {},
   "outputs": [],
   "source": []
  },
  {
   "cell_type": "code",
   "execution_count": null,
   "id": "2a4e0c65-bd31-457d-b797-a6c3e9e0234f",
   "metadata": {},
   "outputs": [],
   "source": []
  },
  {
   "cell_type": "markdown",
   "id": "fe995202-5f9b-494c-bd38-94ccfb70b204",
   "metadata": {},
   "source": [
    "`.sort_values()`\n",
    "\n",
    "DataFrame.sort_values() sorts by values:\n",
    "\n"
   ]
  },
  {
   "cell_type": "code",
   "execution_count": 77,
   "id": "da95f6ab-c302-412b-84d8-44b219183473",
   "metadata": {},
   "outputs": [
    {
     "data": {
      "text/html": [
       "<div>\n",
       "<style scoped>\n",
       "    .dataframe tbody tr th:only-of-type {\n",
       "        vertical-align: middle;\n",
       "    }\n",
       "\n",
       "    .dataframe tbody tr th {\n",
       "        vertical-align: top;\n",
       "    }\n",
       "\n",
       "    .dataframe thead th {\n",
       "        text-align: right;\n",
       "    }\n",
       "</style>\n",
       "<table border=\"1\" class=\"dataframe\">\n",
       "  <thead>\n",
       "    <tr style=\"text-align: right;\">\n",
       "      <th></th>\n",
       "      <th>A</th>\n",
       "      <th>B</th>\n",
       "      <th>C</th>\n",
       "      <th>D</th>\n",
       "    </tr>\n",
       "  </thead>\n",
       "  <tbody>\n",
       "    <tr>\n",
       "      <th>2013-01-01</th>\n",
       "      <td>0.604343</td>\n",
       "      <td>-1.458726</td>\n",
       "      <td>-0.026405</td>\n",
       "      <td>-0.898501</td>\n",
       "    </tr>\n",
       "    <tr>\n",
       "      <th>2013-01-06</th>\n",
       "      <td>0.003405</td>\n",
       "      <td>-1.347315</td>\n",
       "      <td>-0.143134</td>\n",
       "      <td>-0.191517</td>\n",
       "    </tr>\n",
       "    <tr>\n",
       "      <th>2013-01-04</th>\n",
       "      <td>0.190665</td>\n",
       "      <td>-0.816560</td>\n",
       "      <td>0.104098</td>\n",
       "      <td>1.144434</td>\n",
       "    </tr>\n",
       "    <tr>\n",
       "      <th>2013-01-05</th>\n",
       "      <td>1.174129</td>\n",
       "      <td>-0.637501</td>\n",
       "      <td>-1.734045</td>\n",
       "      <td>0.663057</td>\n",
       "    </tr>\n",
       "    <tr>\n",
       "      <th>2013-01-03</th>\n",
       "      <td>0.521692</td>\n",
       "      <td>-0.176570</td>\n",
       "      <td>-0.069330</td>\n",
       "      <td>0.021970</td>\n",
       "    </tr>\n",
       "    <tr>\n",
       "      <th>2013-01-02</th>\n",
       "      <td>-0.833029</td>\n",
       "      <td>1.575948</td>\n",
       "      <td>0.593999</td>\n",
       "      <td>0.074502</td>\n",
       "    </tr>\n",
       "  </tbody>\n",
       "</table>\n",
       "</div>"
      ],
      "text/plain": [
       "                   A         B         C         D\n",
       "2013-01-01  0.604343 -1.458726 -0.026405 -0.898501\n",
       "2013-01-06  0.003405 -1.347315 -0.143134 -0.191517\n",
       "2013-01-04  0.190665 -0.816560  0.104098  1.144434\n",
       "2013-01-05  1.174129 -0.637501 -1.734045  0.663057\n",
       "2013-01-03  0.521692 -0.176570 -0.069330  0.021970\n",
       "2013-01-02 -0.833029  1.575948  0.593999  0.074502"
      ]
     },
     "execution_count": 77,
     "metadata": {},
     "output_type": "execute_result"
    }
   ],
   "source": [
    "df.sort_values(by=\"B\")"
   ]
  },
  {
   "cell_type": "markdown",
   "id": "44145b07-df6a-49ff-9629-77c7ab06d10b",
   "metadata": {},
   "source": [
    "---"
   ]
  },
  {
   "cell_type": "code",
   "execution_count": null,
   "id": "f8b46aca-0faf-4e42-a3b9-a7f8097ac9af",
   "metadata": {},
   "outputs": [],
   "source": []
  },
  {
   "cell_type": "code",
   "execution_count": null,
   "id": "ef27a605-5474-41ae-9adf-bc3c85f5ff2f",
   "metadata": {},
   "outputs": [],
   "source": []
  },
  {
   "cell_type": "code",
   "execution_count": null,
   "id": "63c4bf61-8716-4bef-8359-1af655555be2",
   "metadata": {},
   "outputs": [],
   "source": []
  },
  {
   "cell_type": "code",
   "execution_count": null,
   "id": "8a9daa59-fca3-4805-83fc-cb83aaa6bb7f",
   "metadata": {},
   "outputs": [],
   "source": []
  },
  {
   "cell_type": "code",
   "execution_count": null,
   "id": "8598ea3b-eb36-49e0-aa97-315353932b5e",
   "metadata": {},
   "outputs": [],
   "source": []
  },
  {
   "cell_type": "markdown",
   "id": "2642e737-e1c8-4110-8c7a-1aecd78d9a6d",
   "metadata": {},
   "source": [
    "## SELECTION"
   ]
  },
  {
   "cell_type": "code",
   "execution_count": null,
   "id": "0fdeedc1-8c31-411f-9726-55bcbed3cd53",
   "metadata": {},
   "outputs": [],
   "source": []
  },
  {
   "cell_type": "markdown",
   "id": "048a9420-0d97-4728-95e6-f6f55e86f87e",
   "metadata": {},
   "source": [
    "pandas data access methods: \n",
    "- DataFrame.at()\n",
    "- DataFrame.iat() \n",
    "- DataFrame.loc()\n",
    "- DataFrame.iloc()"
   ]
  },
  {
   "cell_type": "markdown",
   "id": "26f35398-d3a3-45e3-8a70-b1eee8afd264",
   "metadata": {},
   "source": [
    "## Getitem ([])"
   ]
  },
  {
   "cell_type": "markdown",
   "id": "d222f369-d02c-4bf2-96ec-5bb917ab3937",
   "metadata": {},
   "source": [
    "For a `DataFrame`, passing __a single label__ selects a columns and yields a `Series` equivalent to df.A:"
   ]
  },
  {
   "cell_type": "code",
   "execution_count": 79,
   "id": "04e4d55b-7bf7-4d9c-99ec-11927b30afdb",
   "metadata": {},
   "outputs": [
    {
     "data": {
      "text/plain": [
       "2013-01-01    0.604343\n",
       "2013-01-02   -0.833029\n",
       "2013-01-03    0.521692\n",
       "2013-01-04    0.190665\n",
       "2013-01-05    1.174129\n",
       "2013-01-06    0.003405\n",
       "Freq: D, Name: A, dtype: float64"
      ]
     },
     "execution_count": 79,
     "metadata": {},
     "output_type": "execute_result"
    }
   ],
   "source": [
    "df['A']"
   ]
  },
  {
   "cell_type": "markdown",
   "id": "c949bafa-5ce2-4139-b696-5e52f415dcb6",
   "metadata": {},
   "source": [
    "---"
   ]
  },
  {
   "cell_type": "markdown",
   "id": "0b944474-c55d-4062-a5f7-75b03235412d",
   "metadata": {},
   "source": [
    "For a `DataFrame`, passing a slice `:` selects matching `rows`:\n",
    "\n"
   ]
  },
  {
   "cell_type": "code",
   "execution_count": 80,
   "id": "d08b1439-fadd-42cf-9fdc-69bc62619ac8",
   "metadata": {},
   "outputs": [
    {
     "data": {
      "text/html": [
       "<div>\n",
       "<style scoped>\n",
       "    .dataframe tbody tr th:only-of-type {\n",
       "        vertical-align: middle;\n",
       "    }\n",
       "\n",
       "    .dataframe tbody tr th {\n",
       "        vertical-align: top;\n",
       "    }\n",
       "\n",
       "    .dataframe thead th {\n",
       "        text-align: right;\n",
       "    }\n",
       "</style>\n",
       "<table border=\"1\" class=\"dataframe\">\n",
       "  <thead>\n",
       "    <tr style=\"text-align: right;\">\n",
       "      <th></th>\n",
       "      <th>A</th>\n",
       "      <th>B</th>\n",
       "      <th>C</th>\n",
       "      <th>D</th>\n",
       "    </tr>\n",
       "  </thead>\n",
       "  <tbody>\n",
       "    <tr>\n",
       "      <th>2013-01-01</th>\n",
       "      <td>0.604343</td>\n",
       "      <td>-1.458726</td>\n",
       "      <td>-0.026405</td>\n",
       "      <td>-0.898501</td>\n",
       "    </tr>\n",
       "    <tr>\n",
       "      <th>2013-01-02</th>\n",
       "      <td>-0.833029</td>\n",
       "      <td>1.575948</td>\n",
       "      <td>0.593999</td>\n",
       "      <td>0.074502</td>\n",
       "    </tr>\n",
       "    <tr>\n",
       "      <th>2013-01-03</th>\n",
       "      <td>0.521692</td>\n",
       "      <td>-0.176570</td>\n",
       "      <td>-0.069330</td>\n",
       "      <td>0.021970</td>\n",
       "    </tr>\n",
       "  </tbody>\n",
       "</table>\n",
       "</div>"
      ],
      "text/plain": [
       "                   A         B         C         D\n",
       "2013-01-01  0.604343 -1.458726 -0.026405 -0.898501\n",
       "2013-01-02 -0.833029  1.575948  0.593999  0.074502\n",
       "2013-01-03  0.521692 -0.176570 -0.069330  0.021970"
      ]
     },
     "execution_count": 80,
     "metadata": {},
     "output_type": "execute_result"
    }
   ],
   "source": [
    "df[0:3]"
   ]
  },
  {
   "cell_type": "markdown",
   "id": "eecac156-1e95-4db3-a701-ceb41edbaa70",
   "metadata": {},
   "source": [
    "The __indices__ are `DatetimeIndex`."
   ]
  },
  {
   "cell_type": "code",
   "execution_count": 86,
   "id": "f8ca6eb2-b382-4811-8db6-2b4e39cafdc7",
   "metadata": {
    "scrolled": true
   },
   "outputs": [
    {
     "data": {
      "text/html": [
       "<div>\n",
       "<style scoped>\n",
       "    .dataframe tbody tr th:only-of-type {\n",
       "        vertical-align: middle;\n",
       "    }\n",
       "\n",
       "    .dataframe tbody tr th {\n",
       "        vertical-align: top;\n",
       "    }\n",
       "\n",
       "    .dataframe thead th {\n",
       "        text-align: right;\n",
       "    }\n",
       "</style>\n",
       "<table border=\"1\" class=\"dataframe\">\n",
       "  <thead>\n",
       "    <tr style=\"text-align: right;\">\n",
       "      <th></th>\n",
       "      <th>A</th>\n",
       "      <th>B</th>\n",
       "      <th>C</th>\n",
       "      <th>D</th>\n",
       "    </tr>\n",
       "  </thead>\n",
       "  <tbody>\n",
       "    <tr>\n",
       "      <th>2013-01-02</th>\n",
       "      <td>-0.833029</td>\n",
       "      <td>1.575948</td>\n",
       "      <td>0.593999</td>\n",
       "      <td>0.074502</td>\n",
       "    </tr>\n",
       "    <tr>\n",
       "      <th>2013-01-03</th>\n",
       "      <td>0.521692</td>\n",
       "      <td>-0.176570</td>\n",
       "      <td>-0.069330</td>\n",
       "      <td>0.021970</td>\n",
       "    </tr>\n",
       "    <tr>\n",
       "      <th>2013-01-04</th>\n",
       "      <td>0.190665</td>\n",
       "      <td>-0.816560</td>\n",
       "      <td>0.104098</td>\n",
       "      <td>1.144434</td>\n",
       "    </tr>\n",
       "  </tbody>\n",
       "</table>\n",
       "</div>"
      ],
      "text/plain": [
       "                   A         B         C         D\n",
       "2013-01-02 -0.833029  1.575948  0.593999  0.074502\n",
       "2013-01-03  0.521692 -0.176570 -0.069330  0.021970\n",
       "2013-01-04  0.190665 -0.816560  0.104098  1.144434"
      ]
     },
     "execution_count": 86,
     "metadata": {},
     "output_type": "execute_result"
    }
   ],
   "source": [
    "df['20130102':'20130104'] # including both ends"
   ]
  },
  {
   "cell_type": "markdown",
   "id": "07636834-f87a-42ff-9ad3-30b3a0633456",
   "metadata": {},
   "source": [
    "Slicing `df[0:3]` selects the first 3 rows `by position (0-based indexing)`, not by the labels.\n",
    "\n",
    "The slicing `df[0:3]` is functionally equivalent to `df.iloc[0:3]`. Both select rows by position (using integer-based indexing) in a 0-based manner.\n",
    "\n"
   ]
  }
 ],
 "metadata": {
  "kernelspec": {
   "display_name": "Python 3 (ipykernel)",
   "language": "python",
   "name": "python3"
  },
  "language_info": {
   "codemirror_mode": {
    "name": "ipython",
    "version": 3
   },
   "file_extension": ".py",
   "mimetype": "text/x-python",
   "name": "python",
   "nbconvert_exporter": "python",
   "pygments_lexer": "ipython3",
   "version": "3.12.7"
  }
 },
 "nbformat": 4,
 "nbformat_minor": 5
}
