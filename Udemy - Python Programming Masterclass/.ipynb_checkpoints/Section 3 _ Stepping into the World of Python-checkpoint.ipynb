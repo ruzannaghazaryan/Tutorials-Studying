{
 "cells": [
  {
   "cell_type": "markdown",
   "id": "577030e3",
   "metadata": {},
   "source": [
    "- [print()](#print)\n",
    "- [input()](#input)\n",
    "- [int(input())](#intinput)\n",
    "- ['   \\n   ' ](#bslashn)\n",
    "- ['   \\t    '](#bslasht)\n",
    "- [\"  \\ \"  \" or '  \\ '  '](#bslash')\n",
    "- [\"\"\"\n",
    "<br>\"\"\"](#big)\n",
    "- [triple quotation marks with a space and a \\ at the end of the line](#trbs)\n",
    "- [to include the backslash character in your string](#bplus)\n",
    "<br>[r' \\ '](#bplus)\n",
    "<br>[' \\ \\ '](#bplus)\n",
    "- [Variables and Data Types](#var&types)\n",
    "- [Python Data Types](#datatypes)\n",
    "- [Python3 has three numeric data types: int, float, complex](#num)\n",
    "- [/ division with a float result](#fldiv)\n",
    "- [// integer division](#intdiv)\n",
    "- [% remainder](#remainder)\n",
    "- [Operator Precedence Acronyms](#oper)\n",
    "- [String Slicing](#slice)\n",
    "<br>[Slicing is done from left to right.](#slice)\n",
    "- [Using a Step in a Slice](#step)\n",
    "- [\"\".join() method for strings](#join)\n",
    "- [.split() method for strings](#split)\n",
    "- [Slicing Backwards](#back)\n",
    "- [To add line numbers to a Jupyter Notebook is to use the keyboard shortcut, which is Ctrl-m to enter Command Mode, then type L.](#l)\n",
    "- [Python Sequence Types](#seq)\n",
    "<br>[string](#seq)\n",
    "<br>[list](#seq)\n",
    "<br>[tuple](#seq)\n",
    "<br>[range](#seq)\n",
    "<br>[bytes and bytearray](#seq)\n",
    "- [if a string is a substring](#in)\n",
    "<br>[today = 'friday'](#in)\n",
    "<br>['day' in today](#in)\n",
    "- [String Replacement Fields](#replace)\n",
    "<br>[1) age = 25](#replace)\n",
    "<br>[print('My age is {0} years'.format(age))](#replace)\n",
    "<br>[2) f-strings](#replace) \n",
    "<br>[print(f\"Pi is approximately {math.pi}.\")](#replace)"
   ]
  },
  {
   "cell_type": "markdown",
   "id": "0f2b5fb1",
   "metadata": {},
   "source": [
    "---"
   ]
  },
  {
   "cell_type": "markdown",
   "id": "cda6f82c",
   "metadata": {},
   "source": [
    "__python.org__"
   ]
  },
  {
   "cell_type": "code",
   "execution_count": 1,
   "id": "de87e806",
   "metadata": {
    "scrolled": true
   },
   "outputs": [
    {
     "name": "stdout",
     "output_type": "stream",
     "text": [
      "try smth 3\n"
     ]
    }
   ],
   "source": [
    "print('try', 'smth', 3)"
   ]
  },
  {
   "cell_type": "code",
   "execution_count": 2,
   "id": "404a64e3",
   "metadata": {},
   "outputs": [
    {
     "name": "stdout",
     "output_type": "stream",
     "text": [
      "Please input your name: Tom\n"
     ]
    }
   ],
   "source": [
    "greeting = 'Hello'\n",
    "name = input('Please input your name: ')"
   ]
  },
  {
   "cell_type": "code",
   "execution_count": 3,
   "id": "cada6891",
   "metadata": {
    "scrolled": true
   },
   "outputs": [
    {
     "name": "stdout",
     "output_type": "stream",
     "text": [
      "Hello Tom\n"
     ]
    }
   ],
   "source": [
    "print(greeting + ' ' + name)"
   ]
  },
  {
   "cell_type": "code",
   "execution_count": 4,
   "id": "0c758c46",
   "metadata": {},
   "outputs": [
    {
     "name": "stdout",
     "output_type": "stream",
     "text": [
      "5\n"
     ]
    }
   ],
   "source": [
    "number = int(input())"
   ]
  },
  {
   "cell_type": "code",
   "execution_count": 5,
   "id": "46fddd68",
   "metadata": {},
   "outputs": [
    {
     "data": {
      "text/plain": [
       "int"
      ]
     },
     "execution_count": 5,
     "metadata": {},
     "output_type": "execute_result"
    }
   ],
   "source": [
    "type(number)"
   ]
  },
  {
   "cell_type": "markdown",
   "id": "f24a529d",
   "metadata": {},
   "source": [
    "___"
   ]
  },
  {
   "cell_type": "markdown",
   "id": "564a38f1",
   "metadata": {},
   "source": [
    "__\\n__ <br>\n",
    "(backslash n) in a string causes to start in a new line."
   ]
  },
  {
   "cell_type": "code",
   "execution_count": 6,
   "id": "12797926",
   "metadata": {},
   "outputs": [],
   "source": [
    "splitString = \"This string has been\\nsplit over\\nseveral\\nlines\""
   ]
  },
  {
   "cell_type": "code",
   "execution_count": 7,
   "id": "b136d8bf",
   "metadata": {},
   "outputs": [
    {
     "name": "stdout",
     "output_type": "stream",
     "text": [
      "This string has been\n",
      "split over\n",
      "several\n",
      "lines\n"
     ]
    }
   ],
   "source": [
    "print(splitString)"
   ]
  },
  {
   "cell_type": "markdown",
   "id": "8d1d1aa0",
   "metadata": {},
   "source": [
    "___"
   ]
  },
  {
   "cell_type": "markdown",
   "id": "6bfaaeb3",
   "metadata": {},
   "source": [
    "__\\t__ \n",
    "<br>\n",
    "tabbed across the string"
   ]
  },
  {
   "cell_type": "code",
   "execution_count": 8,
   "id": "f7507868",
   "metadata": {},
   "outputs": [],
   "source": [
    "tabbedString = \"1\\t2\\t3\\t4\""
   ]
  },
  {
   "cell_type": "code",
   "execution_count": 9,
   "id": "b5425eb3",
   "metadata": {},
   "outputs": [
    {
     "name": "stdout",
     "output_type": "stream",
     "text": [
      "1\t2\t3\t4\n"
     ]
    }
   ],
   "source": [
    "print(tabbedString)"
   ]
  },
  {
   "cell_type": "markdown",
   "id": "028595f0",
   "metadata": {},
   "source": [
    "___"
   ]
  },
  {
   "cell_type": "code",
   "execution_count": 10,
   "id": "f6e3dc5f",
   "metadata": {
    "scrolled": true
   },
   "outputs": [
    {
     "name": "stdout",
     "output_type": "stream",
     "text": [
      "The book's mine.\n"
     ]
    }
   ],
   "source": [
    "print('The book\\'s mine.')"
   ]
  },
  {
   "cell_type": "code",
   "execution_count": 11,
   "id": "c777566c",
   "metadata": {
    "scrolled": true
   },
   "outputs": [
    {
     "name": "stdout",
     "output_type": "stream",
     "text": [
      "The book\"s mine.\n"
     ]
    }
   ],
   "source": [
    "print(\"The book\\\"s mine.\")"
   ]
  },
  {
   "cell_type": "markdown",
   "id": "1fce8c5c",
   "metadata": {},
   "source": [
    "___"
   ]
  },
  {
   "cell_type": "code",
   "execution_count": 12,
   "id": "99c5da2c",
   "metadata": {},
   "outputs": [],
   "source": [
    "anotherSplitString = \"\"\"This string \n",
    "has been\n",
    "split over\n",
    "several \n",
    "lines\"\"\" "
   ]
  },
  {
   "cell_type": "code",
   "execution_count": 13,
   "id": "f006c0d8",
   "metadata": {},
   "outputs": [
    {
     "name": "stdout",
     "output_type": "stream",
     "text": [
      "This string \n",
      "has been\n",
      "split over\n",
      "several \n",
      "lines\n"
     ]
    }
   ],
   "source": [
    "print(anotherSplitString)"
   ]
  },
  {
   "cell_type": "markdown",
   "id": "be2af928",
   "metadata": {},
   "source": [
    "Now if you want to lay out a string with breaks, but don't want every one to start with a new line when printed, then what you can do is escape the end of a line with a backslash."
   ]
  },
  {
   "cell_type": "code",
   "execution_count": 14,
   "id": "1045bc4c",
   "metadata": {},
   "outputs": [],
   "source": [
    "# at the end of a line put space and \\\n",
    "anotherSplitString1 = \"\"\"This string has been \\\n",
    "split over \\\n",
    "several \\\n",
    "lines\"\"\" "
   ]
  },
  {
   "cell_type": "code",
   "execution_count": 15,
   "id": "f60be630",
   "metadata": {},
   "outputs": [
    {
     "name": "stdout",
     "output_type": "stream",
     "text": [
      "This string has been split over several lines\n"
     ]
    }
   ],
   "source": [
    "print(anotherSplitString1)"
   ]
  },
  {
   "cell_type": "markdown",
   "id": "8c917894",
   "metadata": {},
   "source": [
    "___"
   ]
  },
  {
   "cell_type": "markdown",
   "id": "4dbdc46c",
   "metadata": {},
   "source": [
    "If you want to include the backslash character in your string."
   ]
  },
  {
   "cell_type": "code",
   "execution_count": 16,
   "id": "7d9ad795",
   "metadata": {
    "scrolled": false
   },
   "outputs": [
    {
     "ename": "SyntaxError",
     "evalue": "(unicode error) 'unicodeescape' codec can't decode bytes in position 2-3: truncated \\UXXXXXXXX escape (<ipython-input-16-6b60bbc95ab9>, line 1)",
     "output_type": "error",
     "traceback": [
      "\u001b[1;36m  File \u001b[1;32m\"<ipython-input-16-6b60bbc95ab9>\"\u001b[1;36m, line \u001b[1;32m1\u001b[0m\n\u001b[1;33m    print(\"C:\\Users\\timbuchalka\\notes.txt\")\u001b[0m\n\u001b[1;37m         ^\u001b[0m\n\u001b[1;31mSyntaxError\u001b[0m\u001b[1;31m:\u001b[0m (unicode error) 'unicodeescape' codec can't decode bytes in position 2-3: truncated \\UXXXXXXXX escape\n"
     ]
    }
   ],
   "source": [
    "print(\"C:\\Users\\timbuchalka\\notes.txt\")\n",
    "# \\t it's interpreting as a tab character"
   ]
  },
  {
   "cell_type": "code",
   "execution_count": 18,
   "id": "b13f4bef",
   "metadata": {},
   "outputs": [
    {
     "name": "stdout",
     "output_type": "stream",
     "text": [
      "C:\\Users\\timbuchalka\\notes.txt\n"
     ]
    }
   ],
   "source": [
    "# So the first way is by putting another backslash before it.\n",
    "print(\"C:\\\\Users\\\\timbuchalka\\\\notes.txt\")"
   ]
  },
  {
   "cell_type": "code",
   "execution_count": 19,
   "id": "26a5e428",
   "metadata": {},
   "outputs": [
    {
     "name": "stdout",
     "output_type": "stream",
     "text": [
      "C:\\Users\\timbuchalka\\notes.txt\n"
     ]
    }
   ],
   "source": [
    "# The second way is to use a raw string.\n",
    "print(r\"C:\\Users\\timbuchalka\\notes.txt\")"
   ]
  },
  {
   "cell_type": "markdown",
   "id": "9323d7b7",
   "metadata": {},
   "source": [
    "____"
   ]
  },
  {
   "cell_type": "markdown",
   "id": "21dc6247",
   "metadata": {},
   "source": [
    "<a id='var&types'></a>\n",
    "### Variables and Types"
   ]
  },
  {
   "cell_type": "markdown",
   "id": "1772f0f0",
   "metadata": {},
   "source": [
    "A __variable is basically just a way to give a (meaningful) name to an area of memory, into which we can place certain values.__\n",
    "<br>\n",
    "<br>\n",
    "Type, which is also called __data type__, describes __the kind of information that we're storing__."
   ]
  },
  {
   "cell_type": "markdown",
   "id": "ac4e54a7",
   "metadata": {},
   "source": [
    "__string, integer__"
   ]
  },
  {
   "cell_type": "code",
   "execution_count": 20,
   "id": "6fdf371c",
   "metadata": {},
   "outputs": [
    {
     "name": "stdout",
     "output_type": "stream",
     "text": [
      "Hello\n"
     ]
    }
   ],
   "source": [
    "print(greeting)"
   ]
  },
  {
   "cell_type": "code",
   "execution_count": 21,
   "id": "bc3b56f7",
   "metadata": {},
   "outputs": [
    {
     "name": "stdout",
     "output_type": "stream",
     "text": [
      "25\n"
     ]
    }
   ],
   "source": [
    "age = 25\n",
    "print(age)"
   ]
  },
  {
   "cell_type": "code",
   "execution_count": 22,
   "id": "073e0054",
   "metadata": {},
   "outputs": [
    {
     "name": "stdout",
     "output_type": "stream",
     "text": [
      "<class 'str'>\n",
      "<class 'int'>\n"
     ]
    }
   ],
   "source": [
    "print(type(greeting))\n",
    "print(type(age))\n"
   ]
  },
  {
   "cell_type": "markdown",
   "id": "d247854a",
   "metadata": {},
   "source": [
    "__float__ - \n",
    "lets you work with numbers that have a decimal part."
   ]
  },
  {
   "cell_type": "markdown",
   "id": "066fae9e",
   "metadata": {},
   "source": [
    "___"
   ]
  },
  {
   "cell_type": "markdown",
   "id": "1f03a3fa",
   "metadata": {},
   "source": [
    "<a id='datatypes'></a>\n",
    "### Python Data Types"
   ]
  },
  {
   "cell_type": "markdown",
   "id": "2fee839c",
   "metadata": {},
   "source": [
    "Python has several built-in data types, that can be classed as:\n",
    "<br>\n",
    "* numeric \n",
    "<br>\n",
    "* iterator\n",
    "<br>\n",
    "* sequence (which are also iterators)\n",
    "<br>\n",
    "* mapping \n",
    "<br>\n",
    "* file\n",
    "<br>\n",
    "* class\n",
    "<br>\n",
    "* exception"
   ]
  },
  {
   "cell_type": "markdown",
   "id": "14a92d14",
   "metadata": {},
   "source": [
    "___"
   ]
  },
  {
   "cell_type": "markdown",
   "id": "71e80072",
   "metadata": {},
   "source": [
    "<a id='num'></a>\n",
    "Python 3 has three __numeric data types__:\n",
    "<br>\n",
    "* int\n",
    "<br>\n",
    "* float\n",
    "<br>\n",
    "* complex _(which contain a real and an imaginary part, based on the square root of minus one)_"
   ]
  },
  {
   "cell_type": "code",
   "execution_count": 23,
   "id": "bbbf88c6",
   "metadata": {},
   "outputs": [
    {
     "name": "stdout",
     "output_type": "stream",
     "text": [
      "4.0\n",
      "4\n",
      "0\n"
     ]
    }
   ],
   "source": [
    "a = 12\n",
    "b = 3\n",
    "print(a / b)  # 4.0 division produces a float result \n",
    "print(a // b) # 4   integer division\n",
    "print(a % b)  # 0   remainder\n"
   ]
  },
  {
   "cell_type": "code",
   "execution_count": 25,
   "id": "00c7b1e9",
   "metadata": {},
   "outputs": [
    {
     "ename": "TypeError",
     "evalue": "'float' object cannot be interpreted as an integer",
     "output_type": "error",
     "traceback": [
      "\u001b[1;31m---------------------------------------------------------------------------\u001b[0m",
      "\u001b[1;31mTypeError\u001b[0m                                 Traceback (most recent call last)",
      "\u001b[1;32m<ipython-input-25-2e5c4672d619>\u001b[0m in \u001b[0;36m<module>\u001b[1;34m\u001b[0m\n\u001b[1;32m----> 1\u001b[1;33m \u001b[1;32mfor\u001b[0m \u001b[0mi\u001b[0m \u001b[1;32min\u001b[0m \u001b[0mrange\u001b[0m\u001b[1;33m(\u001b[0m\u001b[1;36m1\u001b[0m\u001b[1;33m,\u001b[0m \u001b[0ma\u001b[0m \u001b[1;33m/\u001b[0m \u001b[0mb\u001b[0m\u001b[1;33m)\u001b[0m\u001b[1;33m:\u001b[0m\u001b[1;33m\u001b[0m\u001b[1;33m\u001b[0m\u001b[0m\n\u001b[0m\u001b[0;32m      2\u001b[0m     \u001b[0mprint\u001b[0m\u001b[1;33m(\u001b[0m\u001b[0mi\u001b[0m\u001b[1;33m)\u001b[0m\u001b[1;33m\u001b[0m\u001b[1;33m\u001b[0m\u001b[0m\n",
      "\u001b[1;31mTypeError\u001b[0m: 'float' object cannot be interpreted as an integer"
     ]
    }
   ],
   "source": [
    "for i in range(1, a / b):\n",
    "    print(i)"
   ]
  },
  {
   "cell_type": "code",
   "execution_count": 26,
   "id": "2d69c081",
   "metadata": {},
   "outputs": [
    {
     "name": "stdout",
     "output_type": "stream",
     "text": [
      "1\n",
      "2\n",
      "3\n"
     ]
    }
   ],
   "source": [
    "for i in range(1, a//b):\n",
    "    print(i)"
   ]
  },
  {
   "cell_type": "markdown",
   "id": "6ea12ded",
   "metadata": {},
   "source": [
    "___"
   ]
  },
  {
   "cell_type": "markdown",
   "id": "c9d0ff52",
   "metadata": {},
   "source": [
    "<a id='oper'></a>\n",
    "### Operator Precedence Acronyms"
   ]
  },
  {
   "cell_type": "markdown",
   "id": "eb3cdfb5",
   "metadata": {},
   "source": [
    "* PEMDAS - __P__arentheses, __E__xponents, __M__ultiplication/__D__ivision, __A__ddition/__S__ubtraction\n",
    "* BEDMAS - __B__rackets, __E__xponents, __D__ivision/__M__ultiplication, __A__ddition/__S__ubtraction\n",
    "* BODMAS - __B__rackets, __O__rder, __D__ivision/__M__ultiplication, __A__ddition/__S__ubtraction\n",
    "* BIDMAS - __B__rackets, __I__ndex, __D__ivision/__M__ultiplication, __A__ddition/__S__ubtraction"
   ]
  },
  {
   "cell_type": "markdown",
   "id": "71d93eaf",
   "metadata": {},
   "source": [
    "_Multiplication and division have equal precedence. Addition and subtraction also have equal precedence._\n",
    "<br>\n",
    "_In an expression that mixes operations with equal precedence, they're evaluated from left to right._"
   ]
  },
  {
   "cell_type": "markdown",
   "id": "7cd86f22",
   "metadata": {},
   "source": [
    "___"
   ]
  },
  {
   "cell_type": "markdown",
   "id": "f62b15a0",
   "metadata": {},
   "source": [
    "<a id='slice'></a>\n",
    "#### String Slicing"
   ]
  },
  {
   "cell_type": "markdown",
   "id": "16da46e1",
   "metadata": {},
   "source": [
    "_Slicing is done from left to right._"
   ]
  },
  {
   "cell_type": "code",
   "execution_count": 1,
   "id": "6829f223",
   "metadata": {},
   "outputs": [],
   "source": [
    "parrot = 'Norwegian Blue'"
   ]
  },
  {
   "cell_type": "code",
   "execution_count": 31,
   "id": "b3c0e3f8",
   "metadata": {},
   "outputs": [
    {
     "data": {
      "text/plain": [
       "'Norweg'"
      ]
     },
     "execution_count": 31,
     "metadata": {},
     "output_type": "execute_result"
    }
   ],
   "source": [
    "parrot[0:6] # up to 6th index character BUT NOT Including "
   ]
  },
  {
   "cell_type": "code",
   "execution_count": 32,
   "id": "7f6c80e8",
   "metadata": {},
   "outputs": [
    {
     "data": {
      "text/plain": [
       "'Norwegian'"
      ]
     },
     "execution_count": 32,
     "metadata": {},
     "output_type": "execute_result"
    }
   ],
   "source": [
    "parrot[0:9]"
   ]
  },
  {
   "cell_type": "code",
   "execution_count": 33,
   "id": "a2b4c4ab",
   "metadata": {},
   "outputs": [
    {
     "data": {
      "text/plain": [
       "'Norwegian'"
      ]
     },
     "execution_count": 33,
     "metadata": {},
     "output_type": "execute_result"
    }
   ],
   "source": [
    "parrot[:9]"
   ]
  },
  {
   "cell_type": "code",
   "execution_count": 40,
   "id": "ac0ab6cb",
   "metadata": {},
   "outputs": [
    {
     "data": {
      "text/plain": [
       "('Blue', 'Blue')"
      ]
     },
     "execution_count": 40,
     "metadata": {},
     "output_type": "execute_result"
    }
   ],
   "source": [
    "parrot[-4:], parrot[10:]"
   ]
  },
  {
   "cell_type": "code",
   "execution_count": 41,
   "id": "74c45f27",
   "metadata": {},
   "outputs": [
    {
     "data": {
      "text/plain": [
       "'Norwegian Blue'"
      ]
     },
     "execution_count": 41,
     "metadata": {},
     "output_type": "execute_result"
    }
   ],
   "source": [
    "parrot[:6] + parrot[6:]"
   ]
  },
  {
   "cell_type": "code",
   "execution_count": 42,
   "id": "50eb4a6b",
   "metadata": {},
   "outputs": [
    {
     "data": {
      "text/plain": [
       "'Norwegian Blue'"
      ]
     },
     "execution_count": 42,
     "metadata": {},
     "output_type": "execute_result"
    }
   ],
   "source": [
    "parrot[:]"
   ]
  },
  {
   "cell_type": "code",
   "execution_count": 48,
   "id": "d30b2b27",
   "metadata": {},
   "outputs": [
    {
     "data": {
      "text/plain": [
       "('Bl', 'Bl')"
      ]
     },
     "execution_count": 48,
     "metadata": {},
     "output_type": "execute_result"
    }
   ],
   "source": [
    "parrot[-4:-2], parrot[-4:12]"
   ]
  },
  {
   "cell_type": "markdown",
   "id": "680f7811",
   "metadata": {},
   "source": [
    "<a id='step'></a>\n",
    "__Using a Step in a Slice__"
   ]
  },
  {
   "cell_type": "code",
   "execution_count": 2,
   "id": "19f82ed6",
   "metadata": {},
   "outputs": [
    {
     "data": {
      "text/plain": [
       "'Norwegian Blue'"
      ]
     },
     "execution_count": 2,
     "metadata": {},
     "output_type": "execute_result"
    }
   ],
   "source": [
    "parrot"
   ]
  },
  {
   "cell_type": "code",
   "execution_count": 3,
   "id": "5cc7fda5",
   "metadata": {},
   "outputs": [
    {
     "data": {
      "text/plain": [
       "'Nre'"
      ]
     },
     "execution_count": 3,
     "metadata": {},
     "output_type": "execute_result"
    }
   ],
   "source": [
    "parrot[0:6:2] # starts at index 1 and it's slicing every 2nd character"
   ]
  },
  {
   "cell_type": "code",
   "execution_count": 4,
   "id": "ea9787d3",
   "metadata": {},
   "outputs": [
    {
     "data": {
      "text/plain": [
       "'Nw'"
      ]
     },
     "execution_count": 4,
     "metadata": {},
     "output_type": "execute_result"
    }
   ],
   "source": [
    "parrot[0:6:3]"
   ]
  },
  {
   "cell_type": "code",
   "execution_count": 5,
   "id": "20d3b970",
   "metadata": {},
   "outputs": [],
   "source": [
    "number = '9,456;789:909 345,234;123'"
   ]
  },
  {
   "cell_type": "code",
   "execution_count": 6,
   "id": "02be15b8",
   "metadata": {},
   "outputs": [
    {
     "data": {
      "text/plain": [
       "',;: ,;'"
      ]
     },
     "execution_count": 6,
     "metadata": {},
     "output_type": "execute_result"
    }
   ],
   "source": [
    "separators = number[1::4]\n",
    "separators"
   ]
  },
  {
   "cell_type": "code",
   "execution_count": 7,
   "id": "1bf3df1f",
   "metadata": {},
   "outputs": [
    {
     "data": {
      "text/plain": [
       "'9 456 789 909 345 234 123'"
      ]
     },
     "execution_count": 7,
     "metadata": {},
     "output_type": "execute_result"
    }
   ],
   "source": [
    "\"\".join(char if char not in separators else \" \" for char in number)"
   ]
  },
  {
   "cell_type": "code",
   "execution_count": 8,
   "id": "f807459c",
   "metadata": {},
   "outputs": [
    {
     "data": {
      "text/plain": [
       "['9', '456', '789', '909', '345', '234', '123']"
      ]
     },
     "execution_count": 8,
     "metadata": {},
     "output_type": "execute_result"
    }
   ],
   "source": [
    "values = \"\".join(char if char not in separators else \" \" for char in number).split()\n",
    "values"
   ]
  },
  {
   "cell_type": "code",
   "execution_count": 9,
   "id": "230df623",
   "metadata": {},
   "outputs": [
    {
     "data": {
      "text/plain": [
       "[9, 456, 789, 909, 345, 234, 123]"
      ]
     },
     "execution_count": 9,
     "metadata": {},
     "output_type": "execute_result"
    }
   ],
   "source": [
    "[int(i) for i in values]"
   ]
  },
  {
   "cell_type": "markdown",
   "id": "6d70d1bc",
   "metadata": {},
   "source": [
    "<a id='back'></a>\n",
    "#### Slicing Backwards"
   ]
  },
  {
   "cell_type": "markdown",
   "id": "8badd13e",
   "metadata": {},
   "source": [
    "_To add __line numbers__ to a Jupyter Notebook is to use the keyboard shortcut, which is __Ctrl-m__ to enter Command Mode, then type __L__._"
   ]
  },
  {
   "cell_type": "code",
   "execution_count": 20,
   "id": "5086d2ca",
   "metadata": {},
   "outputs": [],
   "source": [
    "letters = 'abcdefghijklmnopqrstuvwxyz'"
   ]
  },
  {
   "cell_type": "code",
   "execution_count": 21,
   "id": "7b1d634e",
   "metadata": {},
   "outputs": [
    {
     "data": {
      "text/plain": [
       "'zyxwvutsrqponmlkjihgfedcb'"
      ]
     },
     "execution_count": 21,
     "metadata": {},
     "output_type": "execute_result"
    }
   ],
   "source": [
    "backwards = letters[25:0:-1]\n",
    "backwards"
   ]
  },
  {
   "cell_type": "code",
   "execution_count": 22,
   "id": "276c9e8f",
   "metadata": {},
   "outputs": [
    {
     "data": {
      "text/plain": [
       "'zyxwvutsrqponmlkjihgfedcba'"
      ]
     },
     "execution_count": 22,
     "metadata": {},
     "output_type": "execute_result"
    }
   ],
   "source": [
    "# To include a\n",
    "letters[25::-1]"
   ]
  },
  {
   "cell_type": "code",
   "execution_count": 23,
   "id": "3316a6cb",
   "metadata": {},
   "outputs": [
    {
     "data": {
      "text/plain": [
       "'zyxwvutsrqponmlkjihgfedcba'"
      ]
     },
     "execution_count": 23,
     "metadata": {},
     "output_type": "execute_result"
    }
   ],
   "source": [
    "letters[::-1]"
   ]
  },
  {
   "cell_type": "code",
   "execution_count": 24,
   "id": "0bd0e62c",
   "metadata": {},
   "outputs": [
    {
     "data": {
      "text/plain": [
       "'qpo'"
      ]
     },
     "execution_count": 24,
     "metadata": {},
     "output_type": "execute_result"
    }
   ],
   "source": [
    "letters[16:13:-1]"
   ]
  },
  {
   "cell_type": "code",
   "execution_count": 25,
   "id": "15d563f5",
   "metadata": {},
   "outputs": [
    {
     "data": {
      "text/plain": [
       "'edcba'"
      ]
     },
     "execution_count": 25,
     "metadata": {},
     "output_type": "execute_result"
    }
   ],
   "source": [
    "# edcba\n",
    "letters[4::-1]"
   ]
  },
  {
   "cell_type": "code",
   "execution_count": 26,
   "id": "481a2c0d",
   "metadata": {},
   "outputs": [
    {
     "data": {
      "text/plain": [
       "'zyxwvuts'"
      ]
     },
     "execution_count": 26,
     "metadata": {},
     "output_type": "execute_result"
    }
   ],
   "source": [
    "# the last 8 characters in reverse order\n",
    "letters[:-9:-1]"
   ]
  },
  {
   "cell_type": "code",
   "execution_count": 27,
   "id": "aada1815",
   "metadata": {},
   "outputs": [
    {
     "data": {
      "text/plain": [
       "'wxyz'"
      ]
     },
     "execution_count": 27,
     "metadata": {},
     "output_type": "execute_result"
    }
   ],
   "source": [
    "letters[-4:]"
   ]
  },
  {
   "cell_type": "code",
   "execution_count": 28,
   "id": "baf6c62b",
   "metadata": {},
   "outputs": [
    {
     "data": {
      "text/plain": [
       "'z'"
      ]
     },
     "execution_count": 28,
     "metadata": {},
     "output_type": "execute_result"
    }
   ],
   "source": [
    "letters[-1:]"
   ]
  },
  {
   "cell_type": "code",
   "execution_count": 29,
   "id": "93fde327",
   "metadata": {},
   "outputs": [
    {
     "data": {
      "text/plain": [
       "'a'"
      ]
     },
     "execution_count": 29,
     "metadata": {},
     "output_type": "execute_result"
    }
   ],
   "source": [
    "letters[:1]"
   ]
  },
  {
   "cell_type": "code",
   "execution_count": 30,
   "id": "619e215b",
   "metadata": {},
   "outputs": [
    {
     "data": {
      "text/plain": [
       "'a'"
      ]
     },
     "execution_count": 30,
     "metadata": {},
     "output_type": "execute_result"
    }
   ],
   "source": [
    "letters[0]"
   ]
  },
  {
   "cell_type": "markdown",
   "id": "ce856232",
   "metadata": {},
   "source": [
    "---"
   ]
  },
  {
   "cell_type": "markdown",
   "id": "9b0d246a",
   "metadata": {},
   "source": [
    "<a id='seq'></a>\n",
    "### Python Sequence Types"
   ]
  },
  {
   "cell_type": "markdown",
   "id": "86f74f98",
   "metadata": {},
   "source": [
    "* string\n",
    "<br>\n",
    "* list\n",
    "<br>\n",
    "* tuple\n",
    "<br>\n",
    "* range\n",
    "<br>\n",
    "* bytes and bytearray"
   ]
  },
  {
   "cell_type": "markdown",
   "id": "c1ef3813",
   "metadata": {},
   "source": [
    "*sequence - an ordered set of items*\n"
   ]
  },
  {
   "cell_type": "code",
   "execution_count": 31,
   "id": "b6bf6336",
   "metadata": {},
   "outputs": [],
   "source": [
    "today = 'friday'"
   ]
  },
  {
   "cell_type": "markdown",
   "id": "699a6e49",
   "metadata": {},
   "source": [
    "<a id='in'></a>\n",
    "With these expressions, we are checking if __a string__ like \"day\" __is a substring__ of the today variable (which is a string)."
   ]
  },
  {
   "cell_type": "code",
   "execution_count": 32,
   "id": "5545fa2f",
   "metadata": {},
   "outputs": [
    {
     "data": {
      "text/plain": [
       "True"
      ]
     },
     "execution_count": 32,
     "metadata": {},
     "output_type": "execute_result"
    }
   ],
   "source": [
    "'day' in today"
   ]
  },
  {
   "cell_type": "code",
   "execution_count": 33,
   "id": "cfe3b75f",
   "metadata": {},
   "outputs": [
    {
     "data": {
      "text/plain": [
       "True"
      ]
     },
     "execution_count": 33,
     "metadata": {},
     "output_type": "execute_result"
    }
   ],
   "source": [
    "'day' in \"today\""
   ]
  },
  {
   "cell_type": "markdown",
   "id": "dbf1bdc6",
   "metadata": {},
   "source": [
    "___"
   ]
  },
  {
   "cell_type": "markdown",
   "id": "132f140c",
   "metadata": {},
   "source": [
    "<a id='replace'></a>\n",
    "### String Replacement Fields"
   ]
  },
  {
   "cell_type": "code",
   "execution_count": 34,
   "id": "6d71b693",
   "metadata": {
    "scrolled": true
   },
   "outputs": [
    {
     "name": "stdout",
     "output_type": "stream",
     "text": [
      "My age is 25 years\n"
     ]
    }
   ],
   "source": [
    "age = 25\n",
    "print('My age is ' + str(age) + ' years')"
   ]
  },
  {
   "cell_type": "code",
   "execution_count": 35,
   "id": "f4b8a755",
   "metadata": {},
   "outputs": [
    {
     "name": "stdout",
     "output_type": "stream",
     "text": [
      "My age is 25 years\n"
     ]
    }
   ],
   "source": [
    "print('My age is {0} years'.format(age))"
   ]
  },
  {
   "cell_type": "code",
   "execution_count": 93,
   "id": "c40fef11",
   "metadata": {},
   "outputs": [
    {
     "name": "stdout",
     "output_type": "stream",
     "text": [
      "There are 31 days in Jan, Mar, May, Jul, Aug, Oct and Dec.\n"
     ]
    }
   ],
   "source": [
    "print('There are {0} days in {1}, {2}, {3}, {4}, {5}, {6} and {7}.'\n",
    "      .format(31, \"Jan\", \"Mar\", \"May\", \"Jul\", \"Aug\", \"Oct\", \"Dec\"))"
   ]
  },
  {
   "cell_type": "code",
   "execution_count": 95,
   "id": "5ab91fee",
   "metadata": {},
   "outputs": [
    {
     "name": "stdout",
     "output_type": "stream",
     "text": [
      "There are 31 days in Jan, Mar, May, Jul, Aug, Oct, Dec.\n"
     ]
    }
   ],
   "source": [
    "print('There are {0} days in Jan, Mar, May, Jul, Aug, Oct, Dec.'.format(31))"
   ]
  },
  {
   "cell_type": "code",
   "execution_count": 96,
   "id": "04b37130",
   "metadata": {},
   "outputs": [
    {
     "name": "stdout",
     "output_type": "stream",
     "text": [
      "Jan: 31, Feb: 28, Mar: 31, Apr: 30, May: 31, Jun: 30, Jul: 31, Sep: 30, Oct: 31, Nov: 30, Dec: 31\n"
     ]
    }
   ],
   "source": [
    "print(\"Jan: {2}, Feb: {0}, Mar: {2}, Apr: {1}, May: {2}, Jun: {1}, Jul: {2}, Sep: {1}, Oct: {2}, Nov: {1}, Dec: {2}\"\n",
    "     .format(28, 30, 31))"
   ]
  },
  {
   "cell_type": "code",
   "execution_count": 97,
   "id": "206955a7",
   "metadata": {},
   "outputs": [
    {
     "name": "stdout",
     "output_type": "stream",
     "text": [
      "\n",
      "Jan: 31\n",
      "Feb: 28\n",
      "Mar: 31\n",
      "Apr: 30\n",
      "May: 31\n",
      "Jun: 30\n",
      "Jul: 31\n",
      "Sep: 30\n",
      "Oct: 31\n",
      "Nov: 30\n",
      "Dec: 31\n",
      "\n"
     ]
    }
   ],
   "source": [
    "print(\"\"\"\n",
    "Jan: {2}\n",
    "Feb: {0}\n",
    "Mar: {2}\n",
    "Apr: {1}\n",
    "May: {2}\n",
    "Jun: {1}\n",
    "Jul: {2}\n",
    "Sep: {1}\n",
    "Oct: {2}\n",
    "Nov: {1}\n",
    "Dec: {2}\n",
    "\"\"\".format(28, 30, 31))"
   ]
  },
  {
   "cell_type": "code",
   "execution_count": 35,
   "id": "e44b385a",
   "metadata": {
    "scrolled": false
   },
   "outputs": [
    {
     "name": "stdout",
     "output_type": "stream",
     "text": [
      "No. 1 squared is 1 and cubed is 1.\n",
      "No. 2 squared is 4 and cubed is 8.\n",
      "No. 3 squared is 9 and cubed is 27.\n",
      "No. 4 squared is 16 and cubed is 64.\n",
      "No. 5 squared is 25 and cubed is 125.\n",
      "No. 6 squared is 36 and cubed is 216.\n",
      "No. 7 squared is 49 and cubed is 343.\n",
      "No. 8 squared is 64 and cubed is 512.\n",
      "No. 9 squared is 81 and cubed is 729.\n",
      "No. 10 squared is 100 and cubed is 1000.\n",
      "No. 11 squared is 121 and cubed is 1331.\n",
      "No. 12 squared is 144 and cubed is 1728.\n"
     ]
    }
   ],
   "source": [
    "for i in range(1, 13):\n",
    "    print(\"No. {0} squared is {1} and cubed is {2}.\".format(i, i**2, i**3))"
   ]
  },
  {
   "cell_type": "code",
   "execution_count": 36,
   "id": "d90e77ea",
   "metadata": {
    "scrolled": true
   },
   "outputs": [
    {
     "name": "stdout",
     "output_type": "stream",
     "text": [
      "No. 1 squared is 1 and cubed is 1.\n",
      "No. 2 squared is 4 and cubed is 8.\n",
      "No. 3 squared is 9 and cubed is 27.\n",
      "No. 4 squared is 16 and cubed is 64.\n",
      "No. 5 squared is 25 and cubed is 125.\n",
      "No. 6 squared is 36 and cubed is 216.\n",
      "No. 7 squared is 49 and cubed is 343.\n",
      "No. 8 squared is 64 and cubed is 512.\n",
      "No. 9 squared is 81 and cubed is 729.\n",
      "No. 10 squared is 100 and cubed is 1000.\n",
      "No. 11 squared is 121 and cubed is 1331.\n",
      "No. 12 squared is 144 and cubed is 1728.\n"
     ]
    }
   ],
   "source": [
    "for i in range(1, 13):\n",
    "    print(\"No. {} squared is {} and cubed is {}.\".format(i, i**2, i**3))"
   ]
  },
  {
   "cell_type": "code",
   "execution_count": 37,
   "id": "dabc0a5b",
   "metadata": {},
   "outputs": [
    {
     "name": "stdout",
     "output_type": "stream",
     "text": [
      "No.  1 squared is   1 and cubed is    1\n",
      "No.  2 squared is   4 and cubed is    8\n",
      "No.  3 squared is   9 and cubed is   27\n",
      "No.  4 squared is  16 and cubed is   64\n",
      "No.  5 squared is  25 and cubed is  125\n",
      "No.  6 squared is  36 and cubed is  216\n",
      "No.  7 squared is  49 and cubed is  343\n",
      "No.  8 squared is  64 and cubed is  512\n",
      "No.  9 squared is  81 and cubed is  729\n",
      "No. 10 squared is 100 and cubed is 1000\n",
      "No. 11 squared is 121 and cubed is 1331\n",
      "No. 12 squared is 144 and cubed is 1728\n"
     ]
    }
   ],
   "source": [
    "# The numbers aren't lined up. So we can fix that in the output  by applying some formatting. \n",
    "# So firstly, I'm going to specify a field width for each of the replacement fields. \n",
    "# So all the values for i are a maximum of two digits, because we're, obviously, only counting from 1 to 12 here. \n",
    "# So we can use a field width of 2 for the first replacement field.\n",
    "# I'm going to use a field width of 4 for the other two fields.\n",
    "# To specify width, we add the width by putting a colon and then the number that we need.\n",
    "\n",
    "for i in range(1, 13):\n",
    "    print(\"No. {0:2} squared is {1:3} and cubed is {2:4}\".format(i, i**2, i**3))"
   ]
  },
  {
   "cell_type": "code",
   "execution_count": 38,
   "id": "0e1ca738",
   "metadata": {},
   "outputs": [
    {
     "name": "stdout",
     "output_type": "stream",
     "text": [
      "No.  1 squared is   1 and cubed is    1.\n",
      "No.  2 squared is   4 and cubed is    8.\n",
      "No.  3 squared is   9 and cubed is   27.\n",
      "No.  4 squared is  16 and cubed is   64.\n",
      "No.  5 squared is  25 and cubed is  125.\n",
      "No.  6 squared is  36 and cubed is  216.\n",
      "No.  7 squared is  49 and cubed is  343.\n",
      "No.  8 squared is  64 and cubed is  512.\n",
      "No.  9 squared is  81 and cubed is  729.\n",
      "No. 10 squared is 100 and cubed is 1000.\n",
      "No. 11 squared is 121 and cubed is 1331.\n",
      "No. 12 squared is 144 and cubed is 1728.\n"
     ]
    }
   ],
   "source": [
    "for i in range(1, 13):\n",
    "    print(\"No. {:2} squared is {:3} and cubed is {:4}.\".format(i, i**2, i**3))"
   ]
  },
  {
   "cell_type": "code",
   "execution_count": 39,
   "id": "c52ac5e4",
   "metadata": {
    "scrolled": true
   },
   "outputs": [
    {
     "name": "stdout",
     "output_type": "stream",
     "text": [
      "No. 1  squared is 1   and cubed is 1   \n",
      "No. 2  squared is 4   and cubed is 8   \n",
      "No. 3  squared is 9   and cubed is 27  \n",
      "No. 4  squared is 16  and cubed is 64  \n",
      "No. 5  squared is 25  and cubed is 125 \n",
      "No. 6  squared is 36  and cubed is 216 \n",
      "No. 7  squared is 49  and cubed is 343 \n",
      "No. 8  squared is 64  and cubed is 512 \n",
      "No. 9  squared is 81  and cubed is 729 \n",
      "No. 10 squared is 100 and cubed is 1000\n",
      "No. 11 squared is 121 and cubed is 1331\n",
      "No. 12 squared is 144 and cubed is 1728\n"
     ]
    }
   ],
   "source": [
    "# To left align the values we place a < symbol after the colon.\n",
    "\n",
    "for i in range(1, 13):\n",
    "    print(\"No. {0:<2} squared is {1:<3} and cubed is {2:<4}\".format(i, i**2, i**3))"
   ]
  },
  {
   "cell_type": "markdown",
   "id": "ee54f249",
   "metadata": {},
   "source": [
    "___"
   ]
  },
  {
   "cell_type": "code",
   "execution_count": 40,
   "id": "0e639eb5",
   "metadata": {},
   "outputs": [
    {
     "name": "stdout",
     "output_type": "stream",
     "text": [
      "Pi is approximately 3.142857142857143\n"
     ]
    }
   ],
   "source": [
    "# that's the general format, and that defaults to printing 15 decimals.\n",
    "print(\"Pi is approximately {0:12}\".format(22/7))"
   ]
  },
  {
   "cell_type": "code",
   "execution_count": 41,
   "id": "e0d820f4",
   "metadata": {},
   "outputs": [
    {
     "name": "stdout",
     "output_type": "stream",
     "text": [
      "Pi is approximately     3.142857\n"
     ]
    }
   ],
   "source": [
    "# When we specify a floating-point value using the f, we get the default of 6 digits after the decimal point.\n",
    "print(\"Pi is approximately {0:12f}\".format(22/7))"
   ]
  },
  {
   "cell_type": "code",
   "execution_count": 42,
   "id": "2d5ac3ba",
   "metadata": {},
   "outputs": [
    {
     "name": "stdout",
     "output_type": "stream",
     "text": [
      "Pi is approximately 3.14285714285714279370154144999105483293533325195312\n"
     ]
    }
   ],
   "source": [
    "# We're still specifying a floating-point format,\n",
    "# but we also add a precision of 50 and that gives 50 points after the decimal point.\n",
    "print(\"Pi is approximately {0:52.50f}\".format(22/7))"
   ]
  },
  {
   "cell_type": "code",
   "execution_count": 43,
   "id": "ea68e04b",
   "metadata": {},
   "outputs": [
    {
     "name": "stdout",
     "output_type": "stream",
     "text": [
      "Pi is approximately 3.14285714285714279370154144999105483293533325195312\n"
     ]
    }
   ],
   "source": [
    "# We can't put a value that's got 50 decimals in a field width of 12. \n",
    "# Python decides that precision is more important than field width, \n",
    "# and ignores the value 12 that we've specified for the width\n",
    "print(\"Pi is approximately {0:12.50f}\".format(22/7))"
   ]
  },
  {
   "cell_type": "markdown",
   "id": "888a05c3",
   "metadata": {},
   "source": [
    "___"
   ]
  },
  {
   "cell_type": "markdown",
   "id": "5b647468",
   "metadata": {},
   "source": [
    "#### f-strings"
   ]
  },
  {
   "cell_type": "code",
   "execution_count": 44,
   "id": "dce9384f",
   "metadata": {},
   "outputs": [
    {
     "ename": "TypeError",
     "evalue": "can only concatenate str (not \"int\") to str",
     "output_type": "error",
     "traceback": [
      "\u001b[1;31m---------------------------------------------------------------------------\u001b[0m",
      "\u001b[1;31mTypeError\u001b[0m                                 Traceback (most recent call last)",
      "\u001b[1;32m<ipython-input-44-9058c8899e99>\u001b[0m in \u001b[0;36m<module>\u001b[1;34m\u001b[0m\n\u001b[0;32m      2\u001b[0m \u001b[0mage\u001b[0m \u001b[1;33m=\u001b[0m \u001b[1;36m24\u001b[0m\u001b[1;33m\u001b[0m\u001b[1;33m\u001b[0m\u001b[0m\n\u001b[0;32m      3\u001b[0m \u001b[1;33m\u001b[0m\u001b[0m\n\u001b[1;32m----> 4\u001b[1;33m \u001b[0mprint\u001b[0m\u001b[1;33m(\u001b[0m\u001b[0mname\u001b[0m \u001b[1;33m+\u001b[0m \u001b[1;34m' is '\u001b[0m \u001b[1;33m+\u001b[0m \u001b[0mage\u001b[0m \u001b[1;33m+\u001b[0m \u001b[1;34m' years old.'\u001b[0m\u001b[1;33m)\u001b[0m\u001b[1;33m\u001b[0m\u001b[1;33m\u001b[0m\u001b[0m\n\u001b[0m",
      "\u001b[1;31mTypeError\u001b[0m: can only concatenate str (not \"int\") to str"
     ]
    }
   ],
   "source": [
    "name = \"Tim\"\n",
    "age = 24\n",
    "\n",
    "print(name + ' is ' + age + ' years old.')"
   ]
  },
  {
   "cell_type": "code",
   "execution_count": 45,
   "id": "594596b2",
   "metadata": {
    "scrolled": true
   },
   "outputs": [
    {
     "name": "stdout",
     "output_type": "stream",
     "text": [
      "Tim is 24 years old.\n"
     ]
    }
   ],
   "source": [
    "print(name + f\" is {age} years old.\")"
   ]
  },
  {
   "cell_type": "code",
   "execution_count": 46,
   "id": "37eb4d9f",
   "metadata": {},
   "outputs": [
    {
     "data": {
      "text/plain": [
       "3.141592653589793"
      ]
     },
     "execution_count": 46,
     "metadata": {},
     "output_type": "execute_result"
    }
   ],
   "source": [
    "import math\n",
    "math.pi"
   ]
  },
  {
   "cell_type": "code",
   "execution_count": 47,
   "id": "82485d8c",
   "metadata": {},
   "outputs": [
    {
     "name": "stdout",
     "output_type": "stream",
     "text": [
      "Pi is approximately 3.141592653589793.\n"
     ]
    }
   ],
   "source": [
    "print(f\"Pi is approximately {math.pi}.\")"
   ]
  },
  {
   "cell_type": "code",
   "execution_count": 48,
   "id": "e98692f3",
   "metadata": {},
   "outputs": [
    {
     "name": "stdout",
     "output_type": "stream",
     "text": [
      "Pi is approximately 3.141592653589793.\n"
     ]
    }
   ],
   "source": [
    "print(\"Pi is approximately {0}.\".format(math.pi))"
   ]
  },
  {
   "cell_type": "code",
   "execution_count": 49,
   "id": "689df895",
   "metadata": {
    "scrolled": true
   },
   "outputs": [
    {
     "name": "stdout",
     "output_type": "stream",
     "text": [
      "Pi is approximately 3.14159265358979311599796346854418516159057617187500.\n"
     ]
    }
   ],
   "source": [
    "print(f\"Pi is approximately {math.pi:12.50f}.\")"
   ]
  },
  {
   "cell_type": "code",
   "execution_count": 50,
   "id": "5b6a336d",
   "metadata": {},
   "outputs": [
    {
     "name": "stdout",
     "output_type": "stream",
     "text": [
      "No.  1 squared is   1 and cubed is    1.\n",
      "No.  2 squared is   4 and cubed is    8.\n",
      "No.  3 squared is   9 and cubed is   27.\n",
      "No.  4 squared is  16 and cubed is   64.\n",
      "No.  5 squared is  25 and cubed is  125.\n",
      "No.  6 squared is  36 and cubed is  216.\n",
      "No.  7 squared is  49 and cubed is  343.\n",
      "No.  8 squared is  64 and cubed is  512.\n",
      "No.  9 squared is  81 and cubed is  729.\n",
      "No. 10 squared is 100 and cubed is 1000.\n",
      "No. 11 squared is 121 and cubed is 1331.\n",
      "No. 12 squared is 144 and cubed is 1728.\n"
     ]
    }
   ],
   "source": [
    "for i in range(1, 13):\n",
    "    print(f\"No. {i:2} squared is {i**2:3} and cubed is {i**3:4}.\")"
   ]
  },
  {
   "cell_type": "markdown",
   "id": "155a6faa",
   "metadata": {},
   "source": [
    "___"
   ]
  },
  {
   "cell_type": "code",
   "execution_count": 15,
   "id": "673dbba7",
   "metadata": {},
   "outputs": [],
   "source": [
    "# What result will this program print?\n",
    "\n",
    "a = 45\n",
    "b = 15\n",
    "c = 3\n",
    " \n",
    "# print(a - b / c)"
   ]
  },
  {
   "cell_type": "markdown",
   "id": "0c696949",
   "metadata": {},
   "source": [
    "#### !!! the result of dividing two integers is a float, so the final result will also be a float."
   ]
  },
  {
   "cell_type": "code",
   "execution_count": 16,
   "id": "199ba525",
   "metadata": {},
   "outputs": [
    {
     "name": "stdout",
     "output_type": "stream",
     "text": [
      "40.0\n"
     ]
    }
   ],
   "source": [
    "print(a - b / c)"
   ]
  },
  {
   "cell_type": "markdown",
   "id": "0aa234dc",
   "metadata": {},
   "source": [
    "__b / c__ will be calculated __first__, to give __45 - 5.0__ Because the division gives a float, the result will also be a __float__."
   ]
  },
  {
   "cell_type": "markdown",
   "id": "4719d0d7",
   "metadata": {},
   "source": [
    "___"
   ]
  },
  {
   "cell_type": "code",
   "execution_count": 17,
   "id": "616e2733",
   "metadata": {},
   "outputs": [],
   "source": [
    "# What output will this program produce?\n",
    "\n",
    "quantity = 10\n",
    "price = 5.0\n",
    "total = quantity * price\n",
    "tax = total / 5\n",
    " \n",
    "Total = total + tax\n",
    " \n",
    "# print(total)"
   ]
  },
  {
   "cell_type": "markdown",
   "id": "c8e3e233",
   "metadata": {},
   "source": [
    "The __Total__ including tax is calculated, but __isn't printed__. The value of __total__ doesn't include the tax.\n",
    "<br>\n",
    "__Total__ and __total__ are different variables."
   ]
  },
  {
   "cell_type": "markdown",
   "id": "dfd19b89",
   "metadata": {},
   "source": [
    "___"
   ]
  },
  {
   "cell_type": "code",
   "execution_count": 22,
   "id": "e2230f40",
   "metadata": {
    "scrolled": true
   },
   "outputs": [
    {
     "name": "stdout",
     "output_type": "stream",
     "text": [
      "MTWTFSS\n"
     ]
    }
   ],
   "source": [
    "days = \"Mon, Tue, Wed, Thu, Fri, Sat, Sun\"\n",
    "\n",
    "print(days[::5])"
   ]
  },
  {
   "cell_type": "markdown",
   "id": "ab00df7b",
   "metadata": {},
   "source": [
    "____"
   ]
  },
  {
   "cell_type": "code",
   "execution_count": null,
   "id": "7c5fc0ad",
   "metadata": {},
   "outputs": [],
   "source": []
  }
 ],
 "metadata": {
  "kernelspec": {
   "display_name": "Python 3 (ipykernel)",
   "language": "python",
   "name": "python3"
  },
  "language_info": {
   "codemirror_mode": {
    "name": "ipython",
    "version": 3
   },
   "file_extension": ".py",
   "mimetype": "text/x-python",
   "name": "python",
   "nbconvert_exporter": "python",
   "pygments_lexer": "ipython3",
   "version": "3.9.12"
  }
 },
 "nbformat": 4,
 "nbformat_minor": 5
}
