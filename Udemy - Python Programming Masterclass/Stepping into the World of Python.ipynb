{
 "cells": [
  {
   "cell_type": "markdown",
   "id": "cda6f82c",
   "metadata": {},
   "source": [
    "python.org"
   ]
  },
  {
   "cell_type": "code",
   "execution_count": 1,
   "id": "de87e806",
   "metadata": {},
   "outputs": [
    {
     "name": "stdout",
     "output_type": "stream",
     "text": [
      "try smth 3\n"
     ]
    }
   ],
   "source": [
    "print('try', 'smth', 3)"
   ]
  },
  {
   "cell_type": "code",
   "execution_count": 2,
   "id": "404a64e3",
   "metadata": {},
   "outputs": [
    {
     "name": "stdout",
     "output_type": "stream",
     "text": [
      "Please input your name: Tom\n"
     ]
    }
   ],
   "source": [
    "greeting = 'Hello'\n",
    "name = input('Please input your name: ')"
   ]
  },
  {
   "cell_type": "code",
   "execution_count": 3,
   "id": "cada6891",
   "metadata": {},
   "outputs": [
    {
     "name": "stdout",
     "output_type": "stream",
     "text": [
      "Hello Tom\n"
     ]
    }
   ],
   "source": [
    "print(greeting + ' ' + name)"
   ]
  },
  {
   "cell_type": "code",
   "execution_count": 5,
   "id": "0c758c46",
   "metadata": {},
   "outputs": [
    {
     "name": "stdout",
     "output_type": "stream",
     "text": [
      "5\n"
     ]
    }
   ],
   "source": [
    "number = int(input())"
   ]
  },
  {
   "cell_type": "code",
   "execution_count": 6,
   "id": "46fddd68",
   "metadata": {},
   "outputs": [
    {
     "data": {
      "text/plain": [
       "int"
      ]
     },
     "execution_count": 6,
     "metadata": {},
     "output_type": "execute_result"
    }
   ],
   "source": [
    "type(number)"
   ]
  },
  {
   "cell_type": "markdown",
   "id": "f24a529d",
   "metadata": {},
   "source": [
    "___"
   ]
  },
  {
   "cell_type": "markdown",
   "id": "564a38f1",
   "metadata": {},
   "source": [
    "__\\n__ <br>\n",
    "(backslash n) in a string causes to start in a new line."
   ]
  },
  {
   "cell_type": "code",
   "execution_count": 10,
   "id": "12797926",
   "metadata": {},
   "outputs": [],
   "source": [
    "splitString = \"This string has been\\nsplit over\\nseveral\\nlines\""
   ]
  },
  {
   "cell_type": "code",
   "execution_count": 11,
   "id": "b136d8bf",
   "metadata": {},
   "outputs": [
    {
     "name": "stdout",
     "output_type": "stream",
     "text": [
      "This string has been\n",
      "split over\n",
      "several\n",
      "lines\n"
     ]
    }
   ],
   "source": [
    "print(splitString)"
   ]
  },
  {
   "cell_type": "markdown",
   "id": "8d1d1aa0",
   "metadata": {},
   "source": [
    "___"
   ]
  },
  {
   "cell_type": "markdown",
   "id": "6bfaaeb3",
   "metadata": {},
   "source": [
    "__\\t__ \n",
    "<br>\n",
    "tabbed across the string"
   ]
  },
  {
   "cell_type": "code",
   "execution_count": 17,
   "id": "f7507868",
   "metadata": {},
   "outputs": [],
   "source": [
    "tabbedString = \"1\\t2\\t3\\t4\""
   ]
  },
  {
   "cell_type": "code",
   "execution_count": 18,
   "id": "b5425eb3",
   "metadata": {},
   "outputs": [
    {
     "name": "stdout",
     "output_type": "stream",
     "text": [
      "1\t2\t3\t4\n"
     ]
    }
   ],
   "source": [
    "print(tabbedString)"
   ]
  },
  {
   "cell_type": "markdown",
   "id": "028595f0",
   "metadata": {},
   "source": [
    "___"
   ]
  },
  {
   "cell_type": "code",
   "execution_count": 20,
   "id": "f6e3dc5f",
   "metadata": {},
   "outputs": [
    {
     "name": "stdout",
     "output_type": "stream",
     "text": [
      "The book's mine.\n"
     ]
    }
   ],
   "source": [
    "print('The book\\'s mine.')"
   ]
  },
  {
   "cell_type": "code",
   "execution_count": 23,
   "id": "c777566c",
   "metadata": {},
   "outputs": [
    {
     "name": "stdout",
     "output_type": "stream",
     "text": [
      "The book\"s mine.\n"
     ]
    }
   ],
   "source": [
    "print(\"The book\\\"s mine.\")"
   ]
  },
  {
   "cell_type": "markdown",
   "id": "1fce8c5c",
   "metadata": {},
   "source": [
    "___"
   ]
  },
  {
   "cell_type": "code",
   "execution_count": 36,
   "id": "99c5da2c",
   "metadata": {},
   "outputs": [],
   "source": [
    "anotherSplitString = \"\"\"This string \n",
    "has been\n",
    "split over\n",
    "several \n",
    "lines\"\"\" "
   ]
  },
  {
   "cell_type": "code",
   "execution_count": 37,
   "id": "f006c0d8",
   "metadata": {},
   "outputs": [
    {
     "name": "stdout",
     "output_type": "stream",
     "text": [
      "This string \n",
      "has been\n",
      "split over\n",
      "several \n",
      "lines\n"
     ]
    }
   ],
   "source": [
    "print(anotherSplitString)"
   ]
  },
  {
   "cell_type": "markdown",
   "id": "be2af928",
   "metadata": {},
   "source": [
    "Now if you want to lay out a string with breaks, but don't want every one to start with a new line when printed, then what you can do is escape the end of a line with a backslash."
   ]
  },
  {
   "cell_type": "code",
   "execution_count": 38,
   "id": "1045bc4c",
   "metadata": {},
   "outputs": [],
   "source": [
    "# at the end of a line put space and \\\n",
    "anotherSplitString1 = \"\"\"This string has been \\\n",
    "split over \\\n",
    "several \\\n",
    "lines\"\"\" "
   ]
  },
  {
   "cell_type": "code",
   "execution_count": 39,
   "id": "f60be630",
   "metadata": {},
   "outputs": [
    {
     "name": "stdout",
     "output_type": "stream",
     "text": [
      "This string has been split over several lines\n"
     ]
    }
   ],
   "source": [
    "print(anotherSplitString1)"
   ]
  },
  {
   "cell_type": "markdown",
   "id": "8c917894",
   "metadata": {},
   "source": [
    "___"
   ]
  },
  {
   "cell_type": "markdown",
   "id": "4dbdc46c",
   "metadata": {},
   "source": [
    "If you want to include the backslash character in your string."
   ]
  },
  {
   "cell_type": "code",
   "execution_count": 43,
   "id": "7d9ad795",
   "metadata": {
    "scrolled": false
   },
   "outputs": [
    {
     "ename": "SyntaxError",
     "evalue": "(unicode error) 'unicodeescape' codec can't decode bytes in position 2-3: truncated \\UXXXXXXXX escape (<ipython-input-43-6b60bbc95ab9>, line 1)",
     "output_type": "error",
     "traceback": [
      "\u001b[1;36m  File \u001b[1;32m\"<ipython-input-43-6b60bbc95ab9>\"\u001b[1;36m, line \u001b[1;32m1\u001b[0m\n\u001b[1;33m    print(\"C:\\Users\\timbuchalka\\notes.txt\")\u001b[0m\n\u001b[1;37m         ^\u001b[0m\n\u001b[1;31mSyntaxError\u001b[0m\u001b[1;31m:\u001b[0m (unicode error) 'unicodeescape' codec can't decode bytes in position 2-3: truncated \\UXXXXXXXX escape\n"
     ]
    }
   ],
   "source": [
    "print(\"C:\\Users\\timbuchalka\\notes.txt\")\n",
    "# \\t it's interpreting as a tab character"
   ]
  },
  {
   "cell_type": "code",
   "execution_count": 44,
   "id": "b13f4bef",
   "metadata": {},
   "outputs": [
    {
     "name": "stdout",
     "output_type": "stream",
     "text": [
      "C:\\Users\\timbuchalka\\notes.txt\n"
     ]
    }
   ],
   "source": [
    "# So the first way is by putting another backslash before it.\n",
    "print(\"C:\\\\Users\\\\timbuchalka\\\\notes.txt\")"
   ]
  },
  {
   "cell_type": "code",
   "execution_count": 45,
   "id": "26a5e428",
   "metadata": {},
   "outputs": [
    {
     "name": "stdout",
     "output_type": "stream",
     "text": [
      "C:\\Users\\timbuchalka\\notes.txt\n"
     ]
    }
   ],
   "source": [
    "# The second way is to use a raw string.\n",
    "print(r\"C:\\Users\\timbuchalka\\notes.txt\")"
   ]
  },
  {
   "cell_type": "markdown",
   "id": "9323d7b7",
   "metadata": {},
   "source": [
    "____"
   ]
  },
  {
   "cell_type": "markdown",
   "id": "21dc6247",
   "metadata": {},
   "source": [
    "### Variables and Types"
   ]
  },
  {
   "cell_type": "markdown",
   "id": "1772f0f0",
   "metadata": {},
   "source": [
    "A variable is basically just a way to give a (meaningful) name to an area of memory, into which we can place certain values.\n",
    "<br>\n",
    "<br>\n",
    "Type, which is also called data type, describes the kind of information that we're storing."
   ]
  },
  {
   "cell_type": "markdown",
   "id": "ac4e54a7",
   "metadata": {},
   "source": [
    "__string, integer__"
   ]
  },
  {
   "cell_type": "code",
   "execution_count": 54,
   "id": "6fdf371c",
   "metadata": {},
   "outputs": [
    {
     "name": "stdout",
     "output_type": "stream",
     "text": [
      "Hello\n"
     ]
    }
   ],
   "source": [
    "print(greeting)"
   ]
  },
  {
   "cell_type": "code",
   "execution_count": 55,
   "id": "bc3b56f7",
   "metadata": {},
   "outputs": [
    {
     "name": "stdout",
     "output_type": "stream",
     "text": [
      "25\n"
     ]
    }
   ],
   "source": [
    "age = 25\n",
    "print(age)"
   ]
  },
  {
   "cell_type": "code",
   "execution_count": 56,
   "id": "073e0054",
   "metadata": {},
   "outputs": [
    {
     "name": "stdout",
     "output_type": "stream",
     "text": [
      "<class 'str'>\n",
      "<class 'int'>\n"
     ]
    }
   ],
   "source": [
    "print(type(greeting))\n",
    "print(type(age))\n"
   ]
  },
  {
   "cell_type": "markdown",
   "id": "d247854a",
   "metadata": {},
   "source": [
    "__float__ - \n",
    "lets you work with numbers that have a decimal part."
   ]
  },
  {
   "cell_type": "markdown",
   "id": "066fae9e",
   "metadata": {},
   "source": [
    "___"
   ]
  },
  {
   "cell_type": "markdown",
   "id": "1f03a3fa",
   "metadata": {},
   "source": [
    "### Python Data Types"
   ]
  },
  {
   "cell_type": "markdown",
   "id": "2fee839c",
   "metadata": {},
   "source": [
    "Python has several built-in data types, that can be classed as:\n",
    "<br>\n",
    "* numeric \n",
    "<br>\n",
    "* iterator\n",
    "<br>\n",
    "* sequence (which are also iterators)\n",
    "<br>\n",
    "* mapping \n",
    "<br>\n",
    "* file\n",
    "<br>\n",
    "* class\n",
    "<br>\n",
    "* exception"
   ]
  },
  {
   "cell_type": "markdown",
   "id": "14a92d14",
   "metadata": {},
   "source": [
    "___"
   ]
  },
  {
   "cell_type": "markdown",
   "id": "71e80072",
   "metadata": {},
   "source": [
    "Python 3 has three __numeric data types__:\n",
    "<br>\n",
    "* int\n",
    "<br>\n",
    "* float\n",
    "<br>\n",
    "* complex _(which contain a real and an imaginary part, based on the square root of minus one)_"
   ]
  },
  {
   "cell_type": "code",
   "execution_count": 57,
   "id": "bbbf88c6",
   "metadata": {},
   "outputs": [
    {
     "name": "stdout",
     "output_type": "stream",
     "text": [
      "4.0\n",
      "4\n",
      "0\n"
     ]
    }
   ],
   "source": [
    "a = 12\n",
    "b = 3\n",
    "print(a / b)  # 4.0 division produces a float result \n",
    "print(a // b) # 4   integer division\n",
    "print(a % b)  # 0   remainder\n"
   ]
  },
  {
   "cell_type": "code",
   "execution_count": 61,
   "id": "00c7b1e9",
   "metadata": {},
   "outputs": [
    {
     "ename": "TypeError",
     "evalue": "'float' object cannot be interpreted as an integer",
     "output_type": "error",
     "traceback": [
      "\u001b[1;31m---------------------------------------------------------------------------\u001b[0m",
      "\u001b[1;31mTypeError\u001b[0m                                 Traceback (most recent call last)",
      "\u001b[1;32m<ipython-input-61-2e5c4672d619>\u001b[0m in \u001b[0;36m<module>\u001b[1;34m\u001b[0m\n\u001b[1;32m----> 1\u001b[1;33m \u001b[1;32mfor\u001b[0m \u001b[0mi\u001b[0m \u001b[1;32min\u001b[0m \u001b[0mrange\u001b[0m\u001b[1;33m(\u001b[0m\u001b[1;36m1\u001b[0m\u001b[1;33m,\u001b[0m \u001b[0ma\u001b[0m \u001b[1;33m/\u001b[0m \u001b[0mb\u001b[0m\u001b[1;33m)\u001b[0m\u001b[1;33m:\u001b[0m\u001b[1;33m\u001b[0m\u001b[1;33m\u001b[0m\u001b[0m\n\u001b[0m\u001b[0;32m      2\u001b[0m     \u001b[0mprint\u001b[0m\u001b[1;33m(\u001b[0m\u001b[0mi\u001b[0m\u001b[1;33m)\u001b[0m\u001b[1;33m\u001b[0m\u001b[1;33m\u001b[0m\u001b[0m\n",
      "\u001b[1;31mTypeError\u001b[0m: 'float' object cannot be interpreted as an integer"
     ]
    }
   ],
   "source": [
    "for i in range(1, a / b):\n",
    "    print(i)"
   ]
  },
  {
   "cell_type": "code",
   "execution_count": 62,
   "id": "2d69c081",
   "metadata": {},
   "outputs": [
    {
     "name": "stdout",
     "output_type": "stream",
     "text": [
      "1\n",
      "2\n",
      "3\n"
     ]
    }
   ],
   "source": [
    "for i in range(1, a//b):\n",
    "    print(i)"
   ]
  },
  {
   "cell_type": "markdown",
   "id": "6ea12ded",
   "metadata": {},
   "source": [
    "___"
   ]
  },
  {
   "cell_type": "code",
   "execution_count": null,
   "id": "41c440c4",
   "metadata": {},
   "outputs": [],
   "source": []
  }
 ],
 "metadata": {
  "kernelspec": {
   "display_name": "Python 3",
   "language": "python",
   "name": "python3"
  },
  "language_info": {
   "codemirror_mode": {
    "name": "ipython",
    "version": 3
   },
   "file_extension": ".py",
   "mimetype": "text/x-python",
   "name": "python",
   "nbconvert_exporter": "python",
   "pygments_lexer": "ipython3",
   "version": "3.7.11"
  }
 },
 "nbformat": 4,
 "nbformat_minor": 5
}
