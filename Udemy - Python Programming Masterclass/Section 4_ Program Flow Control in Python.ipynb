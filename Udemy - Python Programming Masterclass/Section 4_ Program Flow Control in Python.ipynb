{
 "cells": [
  {
   "cell_type": "markdown",
   "id": "d672baf2",
   "metadata": {},
   "source": [
    "__code blocks__"
   ]
  },
  {
   "cell_type": "markdown",
   "id": "31845405",
   "metadata": {},
   "source": [
    "Whenever a line ends with a colon, Python will expect a new code block to follow it.\n",
    "<br>\n",
    "That means that the next line must be indented. \n",
    "<br>\n",
    "When you've finished all the code for a block, you remove the indentation for the next line."
   ]
  },
  {
   "cell_type": "code",
   "execution_count": 1,
   "id": "a4484190",
   "metadata": {},
   "outputs": [
    {
     "name": "stdout",
     "output_type": "stream",
     "text": [
      "No. 1 squared is 1 and cubed is 1.\n",
      "No. 2 squared is 4 and cubed is 8.\n"
     ]
    }
   ],
   "source": [
    "for i in range(1, 3):\n",
    "    print(\"No. {} squared is {} and cubed is {}.\".format(i, i**2, i**3))"
   ]
  },
  {
   "cell_type": "code",
   "execution_count": 2,
   "id": "25aa785c",
   "metadata": {},
   "outputs": [
    {
     "name": "stdout",
     "output_type": "stream",
     "text": [
      "No. 1 squared is 1 and cubed is 1.\n",
      "\n",
      "\n",
      "No. 2 squared is 4 and cubed is 8.\n",
      "\n",
      "\n"
     ]
    }
   ],
   "source": [
    "for i in range(1, 3):\n",
    "    print(f\"No. {i} squared is {i**2} and cubed is {i**3}.\")\n",
    "    print()\n",
    "    print()"
   ]
  },
  {
   "cell_type": "markdown",
   "id": "efffed90",
   "metadata": {},
   "source": [
    "___"
   ]
  },
  {
   "cell_type": "markdown",
   "id": "c95e7df6",
   "metadata": {},
   "source": [
    "!!! select lines of code and use ___shift tab___ to __remove a level of indentation.__"
   ]
  },
  {
   "cell_type": "markdown",
   "id": "47801ca9",
   "metadata": {},
   "source": [
    "___"
   ]
  },
  {
   "cell_type": "code",
   "execution_count": 3,
   "id": "2958ac03",
   "metadata": {},
   "outputs": [
    {
     "name": "stdout",
     "output_type": "stream",
     "text": [
      "No.  1 squared is   1 and cubed is    1.\n",
      "No.  2 squared is   4 and cubed is    8.\n",
      "********************************************************************************\n"
     ]
    }
   ],
   "source": [
    "for i in range(1, 3):\n",
    "    print(\"No. {:2} squared is {:3} and cubed is {:4}.\".format(i, i**2, i**3))\n",
    "\n",
    "print('*' * 80)"
   ]
  },
  {
   "cell_type": "markdown",
   "id": "b04eb909",
   "metadata": {},
   "source": [
    "____"
   ]
  },
  {
   "cell_type": "code",
   "execution_count": 4,
   "id": "998a8611",
   "metadata": {},
   "outputs": [
    {
     "name": "stdout",
     "output_type": "stream",
     "text": [
      "Please enter your name: Zuzi\n"
     ]
    }
   ],
   "source": [
    "name = input(\"Please enter your name: \")"
   ]
  },
  {
   "cell_type": "code",
   "execution_count": 5,
   "id": "92de097d",
   "metadata": {},
   "outputs": [
    {
     "name": "stdout",
     "output_type": "stream",
     "text": [
      "How old are you, Zuzi: 25\n"
     ]
    }
   ],
   "source": [
    "age = input(\"How old are you, {0}: \".format(name))"
   ]
  },
  {
   "cell_type": "code",
   "execution_count": 6,
   "id": "fb0107a1",
   "metadata": {},
   "outputs": [
    {
     "data": {
      "text/plain": [
       "('25', str)"
      ]
     },
     "execution_count": 6,
     "metadata": {},
     "output_type": "execute_result"
    }
   ],
   "source": [
    "age, type(age)"
   ]
  },
  {
   "cell_type": "code",
   "execution_count": 7,
   "id": "669e1317",
   "metadata": {},
   "outputs": [
    {
     "name": "stdout",
     "output_type": "stream",
     "text": [
      "How old are you, Zuzi: 25\n"
     ]
    }
   ],
   "source": [
    "age = int(input(\"How old are you, {}: \".format(name)))"
   ]
  },
  {
   "cell_type": "code",
   "execution_count": 8,
   "id": "0a21a23f",
   "metadata": {},
   "outputs": [
    {
     "data": {
      "text/plain": [
       "(25, int)"
      ]
     },
     "execution_count": 8,
     "metadata": {},
     "output_type": "execute_result"
    }
   ],
   "source": [
    "age, type(age)"
   ]
  },
  {
   "cell_type": "code",
   "execution_count": 9,
   "id": "070dd79f",
   "metadata": {},
   "outputs": [
    {
     "name": "stdout",
     "output_type": "stream",
     "text": [
      "You're old enough to vote.\n"
     ]
    }
   ],
   "source": [
    "if age >= 18:\n",
    "    print('You\\'re old enough to vote.')\n",
    "else:\n",
    "    print(\"Please come back in {0} years.\".format(18-age))"
   ]
  },
  {
   "cell_type": "code",
   "execution_count": 10,
   "id": "d5f6332f",
   "metadata": {},
   "outputs": [
    {
     "name": "stdout",
     "output_type": "stream",
     "text": [
      "You're old enough to vote.\n",
      "Put an X in the box.\n"
     ]
    }
   ],
   "source": [
    "if age < 18:\n",
    "    print(\"Please come back in {0} years.\".format(18-age))\n",
    "elif age == 900: \n",
    "    print(\"Sorry, there is a mistake.\")\n",
    "else:\n",
    "    print('You\\'re old enough to vote.')\n",
    "    print('Put an X in the box.')"
   ]
  },
  {
   "cell_type": "markdown",
   "id": "7955d6ed",
   "metadata": {},
   "source": [
    "___"
   ]
  },
  {
   "cell_type": "markdown",
   "id": "842dbb91",
   "metadata": {},
   "source": [
    "__Python won't test the code in an _elif_ or an _else_ when the _if_ condition is _true_.__"
   ]
  },
  {
   "cell_type": "markdown",
   "id": "73ca8084",
   "metadata": {},
   "source": [
    "__else blocks will be executed if nothing else evaluated to true.__"
   ]
  },
  {
   "cell_type": "markdown",
   "id": "59123d18",
   "metadata": {},
   "source": [
    "So an if-statement begins with the keyword if, followed by condition. \n",
    "The if condition will always be evaluated.\n",
    "\n",
    "Next, you can have one or more elif blocks.\n",
    "\n",
    "And finally, you may have an else block. You don't have to use else, but if you do,\n",
    "it must come after the if, and it must also come after any elifs, if there are any."
   ]
  },
  {
   "cell_type": "markdown",
   "id": "e131c0f7",
   "metadata": {},
   "source": [
    "An __if statement__ can include __many elif__ parts, but there can only be __one else__."
   ]
  },
  {
   "cell_type": "markdown",
   "id": "a2ddc4a8",
   "metadata": {},
   "source": [
    "___"
   ]
  },
  {
   "cell_type": "code",
   "execution_count": 11,
   "id": "3a21534d",
   "metadata": {},
   "outputs": [
    {
     "name": "stdout",
     "output_type": "stream",
     "text": [
      "Please guess number between 1 and 10: \n",
      "7\n",
      "Please guess lower.\n",
      "6\n",
      "Incorrect guess again.\n"
     ]
    }
   ],
   "source": [
    "answer = 5\n",
    "\n",
    "print('Please guess number between 1 and 10: ')\n",
    "guess = int(input())\n",
    "\n",
    "if guess < answer:\n",
    "    print('Please guess higher.')\n",
    "    guess = int(input())\n",
    "    if guess == answer:\n",
    "        print('Well done, you guessed it.')\n",
    "    else:\n",
    "        print('Incorrect guess again.')\n",
    "elif guess > answer:\n",
    "    print('Please guess lower.')\n",
    "    guess = int(input())\n",
    "    if guess == answer:\n",
    "        print('Well done, you guessed it.')\n",
    "    else:\n",
    "        print('Incorrect guess again.')\n",
    "else:\n",
    "    print('You got it immediately.')"
   ]
  },
  {
   "cell_type": "markdown",
   "id": "a00997ff",
   "metadata": {},
   "source": [
    "We've duplicated exactly the same code in the if and elif blocks.\n",
    "\n",
    "Whenever you see duplication like this happening, that's a good indication that it can be done better.\n",
    "\n",
    "Duplicating code is generally a bad idea. There's almost always a better way."
   ]
  },
  {
   "cell_type": "code",
   "execution_count": 12,
   "id": "74091257",
   "metadata": {},
   "outputs": [
    {
     "name": "stdout",
     "output_type": "stream",
     "text": [
      "Please guess number between 1 and 10: \n",
      "3\n",
      "Please guess higher.\n",
      "8\n",
      "Sorry, you've not guessed correctly.\n"
     ]
    }
   ],
   "source": [
    "answer = 5\n",
    "\n",
    "print('Please guess number between 1 and 10: ')\n",
    "guess = int(input())\n",
    "\n",
    "if guess != answer:\n",
    "    if guess < answer:\n",
    "        print('Please guess higher.')\n",
    "    else:\n",
    "        print('Please guess lower.')\n",
    "    guess = int(input())\n",
    "    if guess == answer:\n",
    "        print('Well done, you guessed it.')\n",
    "    else:\n",
    "        print(\"Sorry, you've not guessed correctly.\")\n",
    "else:\n",
    "    print('You got it immediately.')"
   ]
  },
  {
   "cell_type": "markdown",
   "id": "8cd33741",
   "metadata": {},
   "source": [
    "___"
   ]
  },
  {
   "cell_type": "markdown",
   "id": "8a23c4e4",
   "metadata": {},
   "source": [
    "__Comparison operators__\n",
    "<br> >\n",
    "<br> >= \n",
    "<br> <\n",
    "<br> <=\n",
    "<br> ==\n",
    "<br> !="
   ]
  },
  {
   "cell_type": "markdown",
   "id": "aa0b4ad0",
   "metadata": {},
   "source": [
    "___"
   ]
  },
  {
   "cell_type": "markdown",
   "id": "587c6681",
   "metadata": {},
   "source": [
    "Using __and, or, in__ Conditions"
   ]
  },
  {
   "cell_type": "code",
   "execution_count": 13,
   "id": "6f62bf2b",
   "metadata": {},
   "outputs": [
    {
     "name": "stdout",
     "output_type": "stream",
     "text": [
      "How old are you? 25\n"
     ]
    }
   ],
   "source": [
    "age = int(input('How old are you? '))"
   ]
  },
  {
   "cell_type": "code",
   "execution_count": 14,
   "id": "d80c2a11",
   "metadata": {},
   "outputs": [
    {
     "name": "stdout",
     "output_type": "stream",
     "text": [
      "Have a good day at work.\n"
     ]
    }
   ],
   "source": [
    "if age >= 16 and age < 63:\n",
    "    print('Have a good day at work.')"
   ]
  },
  {
   "cell_type": "markdown",
   "id": "178d1348",
   "metadata": {},
   "source": [
    "Let's look at simplifying chained comparisons. <br> When dealing with numerical values in a condition, you can often replace and with a simpler comparison."
   ]
  },
  {
   "cell_type": "code",
   "execution_count": 15,
   "id": "c3829c84",
   "metadata": {},
   "outputs": [
    {
     "name": "stdout",
     "output_type": "stream",
     "text": [
      "How old are you? 25\n",
      "Have a good day at work.\n",
      "--------------------------------------------------------------------------------\n",
      "Have a good day at work.\n"
     ]
    }
   ],
   "source": [
    "age = int(input('How old are you? '))\n",
    "\n",
    "if 16 <= age < 63:\n",
    "    print('Have a good day at work.')\n",
    "else:\n",
    "    print(\"Enjoy your free time.\")\n",
    "\n",
    "print('-' * 80)\n",
    "\n",
    "if age < 16 or age >= 63:\n",
    "    print(\"Enjoy your free time.\")\n",
    "else:\n",
    "    print(\"Have a good day at work.\")"
   ]
  },
  {
   "cell_type": "markdown",
   "id": "f1172a2d",
   "metadata": {},
   "source": [
    "___"
   ]
  },
  {
   "cell_type": "markdown",
   "id": "898b25c4",
   "metadata": {},
   "source": [
    "A __boolean value__ is a value that can either be __True__ or __False__.\n",
    "\n",
    "__Not__ is used to reverse the value."
   ]
  },
  {
   "cell_type": "code",
   "execution_count": 16,
   "id": "1d50ebc0",
   "metadata": {},
   "outputs": [],
   "source": [
    "# age greater than equal to 16 is a boolean expression\n",
    "# name == Tim, so that's a boolean expression that will evaluate to True if the value of name equals the string Tim."
   ]
  },
  {
   "cell_type": "code",
   "execution_count": 18,
   "id": "d13d83e6",
   "metadata": {},
   "outputs": [
    {
     "name": "stdout",
     "output_type": "stream",
     "text": [
      "Learn Python\n"
     ]
    }
   ],
   "source": [
    "day = \"Monday\"\n",
    "temperature = 30\n",
    "raining = True\n",
    "\n",
    "if day == 'Saturday' and temperature > 27 and not raining:\n",
    "    print('Go swimming')\n",
    "else:\n",
    "    print('Learn Python')"
   ]
  },
  {
   "cell_type": "code",
   "execution_count": 21,
   "id": "693e41af",
   "metadata": {},
   "outputs": [
    {
     "name": "stdout",
     "output_type": "stream",
     "text": [
      "Learn Python\n"
     ]
    }
   ],
   "source": [
    "day = \"Saturday\"\n",
    "temperature = 30\n",
    "raining = True\n",
    "\n",
    "if day == 'Saturday' and temperature > 27 and not raining:\n",
    "    print('Go swimming')\n",
    "else:\n",
    "    print('Learn Python')\n",
    "    \n",
    "\n",
    "# All three parts of the condition must evaluate to True in order for the entire condition to be true. \n",
    "# The last part of the condition is: and not raining.\n",
    "# So raining is true, as we can see on line 3. That means that not raining is false."
   ]
  },
  {
   "cell_type": "code",
   "execution_count": 23,
   "id": "49c30573",
   "metadata": {},
   "outputs": [
    {
     "name": "stdout",
     "output_type": "stream",
     "text": [
      "Go swimming\n"
     ]
    }
   ],
   "source": [
    "# change and -> or (True or False => True)\n",
    "\n",
    "day = \"Saturday\"\n",
    "temperature = 30\n",
    "raining = True\n",
    "\n",
    "if day == 'Saturday' and temperature > 27 or not raining:\n",
    "    print('Go swimming')\n",
    "else:\n",
    "    print('Learn Python')"
   ]
  },
  {
   "cell_type": "markdown",
   "id": "1d3753ff",
   "metadata": {},
   "source": [
    "https://docs.python.org/3/reference/expressions.html#operator-precedence"
   ]
  },
  {
   "cell_type": "code",
   "execution_count": 25,
   "id": "b2241736",
   "metadata": {},
   "outputs": [],
   "source": [
    "# the above code doesn't really give you any indication of what I intended.\n",
    "# we should use parentheses to make it clear."
   ]
  },
  {
   "cell_type": "code",
   "execution_count": 27,
   "id": "479d31ca",
   "metadata": {},
   "outputs": [
    {
     "name": "stdout",
     "output_type": "stream",
     "text": [
      "Go swimming\n"
     ]
    }
   ],
   "source": [
    "day = \"Friday\"\n",
    "temperature = 30\n",
    "raining = False\n",
    "\n",
    "if day == 'Saturday' and temperature > 27 or not raining:\n",
    "    print('Go swimming')\n",
    "else:\n",
    "    print('Learn Python')\n",
    "    \n",
    "# False and True or True\n",
    "# and has a higher precedence than or\n",
    "# False or True => True"
   ]
  },
  {
   "cell_type": "code",
   "execution_count": 29,
   "id": "13b138a5",
   "metadata": {},
   "outputs": [
    {
     "name": "stdout",
     "output_type": "stream",
     "text": [
      "Go swimming\n"
     ]
    }
   ],
   "source": [
    "# to make the code much easier to read.\n",
    "\n",
    "day = \"Friday\"\n",
    "temperature = 30\n",
    "raining = False\n",
    "\n",
    "if (day == 'Saturday' and temperature > 27) or not raining:\n",
    "    print('Go swimming')\n",
    "else:\n",
    "    print('Learn Python')"
   ]
  },
  {
   "cell_type": "markdown",
   "id": "996af21f",
   "metadata": {},
   "source": [
    "___"
   ]
  },
  {
   "cell_type": "markdown",
   "id": "18d2c732",
   "metadata": {},
   "source": [
    "https://docs.python.org/3/library/stdtypes.html"
   ]
  },
  {
   "cell_type": "markdown",
   "id": "20c1caa6",
   "metadata": {},
   "source": [
    "By default, an object is considered true unless its class defines either a __bool__() method that returns False or a __len__() method that returns zero, when called with the object. Here are most of the built-in objects considered false:\n",
    "\n",
    "* constants defined to be false: None and False.\n",
    "\n",
    "* zero of any numeric type: 0, 0.0, 0j, Decimal(0), Fraction(0, 1)\n",
    "\n",
    "* empty sequences and collections: '', (), [], {}, set(), range(0)"
   ]
  },
  {
   "cell_type": "code",
   "execution_count": 33,
   "id": "6a4204bb",
   "metadata": {},
   "outputs": [
    {
     "name": "stdout",
     "output_type": "stream",
     "text": [
      "False\n"
     ]
    }
   ],
   "source": [
    "# Python expects a boolean expression after if, which is why it tries to evaluate 0 and name as boolean values. \n",
    "# We've already seen that 0 evaluates to False.\n",
    "\n",
    "if 0:\n",
    "    print('True')\n",
    "else:\n",
    "    print('False')"
   ]
  },
  {
   "cell_type": "code",
   "execution_count": 38,
   "id": "9d65d27c",
   "metadata": {},
   "outputs": [
    {
     "name": "stdout",
     "output_type": "stream",
     "text": [
      "Please enter your name: Zazu\n",
      "Hello, Zazu\n"
     ]
    }
   ],
   "source": [
    "name = input('Please enter your name: ')\n",
    "\n",
    "if name:\n",
    "    print('Hello, {}'.format(name))\n",
    "else:\n",
    "    print('Are you the man with no name')\n",
    "    \n",
    "# Because Zazu isn't an empty string, it evaluates as True."
   ]
  },
  {
   "cell_type": "code",
   "execution_count": 39,
   "id": "d3354f49",
   "metadata": {},
   "outputs": [
    {
     "name": "stdout",
     "output_type": "stream",
     "text": [
      "Hello, Zazu\n"
     ]
    }
   ],
   "source": [
    "# It's more obvious what we're doing there and that's the way I suggest you write your conditions to begin with.\n",
    "\n",
    "if name != '':\n",
    "    print('Hello, {}'.format(name))\n",
    "else:\n",
    "    print('Are you the man with no name')  "
   ]
  },
  {
   "cell_type": "markdown",
   "id": "d3e18155",
   "metadata": {},
   "source": [
    "__in__ and __not in__ "
   ]
  },
  {
   "cell_type": "code",
   "execution_count": 46,
   "id": "fea429d7",
   "metadata": {},
   "outputs": [
    {
     "name": "stdout",
     "output_type": "stream",
     "text": [
      "Please enter a character: i\n",
      "i is in Norwegian Blue\n"
     ]
    }
   ],
   "source": [
    "parrot = 'Norwegian Blue'\n",
    "\n",
    "letter = input('Please enter a character: ')\n",
    "\n",
    "if letter in parrot:\n",
    "    print(\"{} is in {}\".format(letter, parrot))\n",
    "else:\n",
    "    print(\"I don't need that letter\")"
   ]
  },
  {
   "cell_type": "code",
   "execution_count": 47,
   "id": "7db468a4",
   "metadata": {},
   "outputs": [
    {
     "name": "stdout",
     "output_type": "stream",
     "text": [
      "Please enter a character: A\n",
      "I don't need that letter\n"
     ]
    }
   ],
   "source": [
    "# Remember that string comparisons are case-sensitive.\n",
    "# If you enter a capital A it won't be found in the string.\n",
    "\n",
    "parrot = 'Norwegian Blue'\n",
    "\n",
    "letter = input('Please enter a character: ')\n",
    "\n",
    "if letter in parrot:\n",
    "    print(\"{} is in {}\".format(letter, parrot))\n",
    "else:\n",
    "    print(\"I don't need that letter\")"
   ]
  },
  {
   "cell_type": "code",
   "execution_count": 48,
   "id": "385b90dc",
   "metadata": {},
   "outputs": [
    {
     "name": "stdout",
     "output_type": "stream",
     "text": [
      "Please enter a character: Blue\n",
      "Blue is in Norwegian Blue\n"
     ]
    }
   ],
   "source": [
    "parrot = 'Norwegian Blue'\n",
    "\n",
    "letter = input('Please enter a character: ')\n",
    "\n",
    "if letter in parrot:\n",
    "    print(\"{} is in {}\".format(letter, parrot))\n",
    "else:\n",
    "    print(\"I don't need that letter\")"
   ]
  },
  {
   "cell_type": "code",
   "execution_count": 49,
   "id": "2e1f05a5",
   "metadata": {},
   "outputs": [
    {
     "name": "stdout",
     "output_type": "stream",
     "text": [
      "Please enter a character: blue\n",
      "I don't need that letter\n"
     ]
    }
   ],
   "source": [
    "parrot = 'Norwegian Blue'\n",
    "\n",
    "letter = input('Please enter a character: ')\n",
    "\n",
    "if letter in parrot:\n",
    "    print(\"{} is in {}\".format(letter, parrot))\n",
    "else:\n",
    "    print(\"I don't need that letter\")"
   ]
  },
  {
   "cell_type": "markdown",
   "id": "8076fe29",
   "metadata": {},
   "source": [
    "___"
   ]
  },
  {
   "cell_type": "code",
   "execution_count": 52,
   "id": "7396a4bf",
   "metadata": {},
   "outputs": [
    {
     "name": "stdout",
     "output_type": "stream",
     "text": [
      "What would you like to learn today? I want to learn Python\n",
      "But I want to go to the cinema.\n"
     ]
    }
   ],
   "source": [
    "# not in\n",
    "\n",
    "activity = input(\"What would you like to learn today? \")\n",
    "\n",
    "if 'cinema' not in activity:\n",
    "    print('But I want to go to the cinema.')"
   ]
  },
  {
   "cell_type": "code",
   "execution_count": 54,
   "id": "e5213a56",
   "metadata": {},
   "outputs": [
    {
     "name": "stdout",
     "output_type": "stream",
     "text": [
      "What would you like to learn today? I'm going to the Cinema\n",
      "But I want to go to the cinema.\n"
     ]
    }
   ],
   "source": [
    "activity = input(\"What would you like to learn today? \")\n",
    "\n",
    "if 'cinema' not in activity:\n",
    "    print('But I want to go to the cinema.')\n",
    "    \n",
    "# case-sensitive (capital letter)"
   ]
  },
  {
   "cell_type": "markdown",
   "id": "8877f06d",
   "metadata": {},
   "source": [
    "__casefold() function converts a string to lowercase__"
   ]
  },
  {
   "cell_type": "code",
   "execution_count": 56,
   "id": "4aa0bd86",
   "metadata": {},
   "outputs": [
    {
     "data": {
      "text/plain": [
       "\"i'm going to the cinema\""
      ]
     },
     "execution_count": 56,
     "metadata": {},
     "output_type": "execute_result"
    }
   ],
   "source": [
    "activity.casefold()"
   ]
  },
  {
   "cell_type": "code",
   "execution_count": 57,
   "id": "2560b82d",
   "metadata": {},
   "outputs": [
    {
     "name": "stdout",
     "output_type": "stream",
     "text": [
      "What would you like to learn today? I want to go to the Cinema\n"
     ]
    }
   ],
   "source": [
    "activity = input(\"What would you like to learn today? \")\n",
    "\n",
    "if 'cinema' not in activity.casefold():\n",
    "    print('But I want to go to the cinema.')"
   ]
  },
  {
   "cell_type": "markdown",
   "id": "91a2cde6",
   "metadata": {},
   "source": [
    "___"
   ]
  },
  {
   "cell_type": "markdown",
   "id": "1eb705f8",
   "metadata": {},
   "source": [
    "Look through, please\n",
    "\n",
    "https://docs.python.org/3/library/stdtypes.html#string-methods"
   ]
  },
  {
   "cell_type": "markdown",
   "id": "fdcb47fb",
   "metadata": {},
   "source": [
    "___"
   ]
  },
  {
   "cell_type": "code",
   "execution_count": 59,
   "id": "72e52e81",
   "metadata": {},
   "outputs": [
    {
     "name": "stdout",
     "output_type": "stream",
     "text": [
      "Please enter your name: Zazu\n",
      "How old are you? 25\n",
      "Welcome club 18-30 holidays, Zazu.\n"
     ]
    }
   ],
   "source": [
    "name = input('Please enter your name: ')\n",
    "age = int(input(\"How old are you? \"))\n",
    "\n",
    "if 18 <= age < 31:\n",
    "    print('Welcome club 18-30 holidays, {}.'.format(name))\n",
    "else:\n",
    "    print('Sorry, our holidays are only for cool people.')"
   ]
  },
  {
   "cell_type": "markdown",
   "id": "a28e5153",
   "metadata": {},
   "source": [
    "___"
   ]
  },
  {
   "cell_type": "markdown",
   "id": "110a6e06",
   "metadata": {},
   "source": [
    "**for loops**"
   ]
  },
  {
   "cell_type": "code",
   "execution_count": 60,
   "id": "67d74807",
   "metadata": {},
   "outputs": [
    {
     "name": "stdout",
     "output_type": "stream",
     "text": [
      "N\n",
      "o\n",
      "r\n",
      "w\n",
      "e\n",
      "g\n",
      "i\n",
      "a\n",
      "n\n",
      " \n",
      "B\n",
      "l\n",
      "u\n",
      "e\n"
     ]
    }
   ],
   "source": [
    "parrot = 'Norwegian Blue'\n",
    "\n",
    "for character in parrot:\n",
    "    print(character)"
   ]
  },
  {
   "cell_type": "code",
   "execution_count": 61,
   "id": "caf29057",
   "metadata": {},
   "outputs": [
    {
     "name": "stdout",
     "output_type": "stream",
     "text": [
      ",;: ,;\n"
     ]
    }
   ],
   "source": [
    "number = '9,223;372:036 854,775;807'\n",
    "separators = ''\n",
    "\n",
    "for char in number:\n",
    "    if not char.isnumeric():\n",
    "        separators = separators + char\n",
    "\n",
    "print(separators)"
   ]
  },
  {
   "cell_type": "code",
   "execution_count": 66,
   "id": "a5480676",
   "metadata": {
    "scrolled": true
   },
   "outputs": [
    {
     "name": "stdout",
     "output_type": "stream",
     "text": [
      "['9', '223', '372', '036', '854', '775', '807']\n",
      "[9, 223, 372, 36, 854, 775, 807]\n",
      "3076\n"
     ]
    }
   ],
   "source": [
    "values = ''.join(char if char not in separators else ' ' for char in number).split(' ')\n",
    "print(values)\n",
    "print([int(char) for char in values])\n",
    "print(sum([int(char) for char in values]))"
   ]
  },
  {
   "cell_type": "markdown",
   "id": "1f134847",
   "metadata": {},
   "source": [
    "___"
   ]
  },
  {
   "cell_type": "markdown",
   "id": "2727b0ad",
   "metadata": {},
   "source": [
    "https://docs.python.org/3/library/functions.html"
   ]
  },
  {
   "cell_type": "markdown",
   "id": "e855788c",
   "metadata": {},
   "source": [
    "___"
   ]
  },
  {
   "cell_type": "code",
   "execution_count": 80,
   "id": "66504dfd",
   "metadata": {},
   "outputs": [
    {
     "name": "stdout",
     "output_type": "stream",
     "text": [
      "A\n",
      "S\n",
      "M\n",
      "E\n",
      "W\n",
      "P\n",
      "O\n",
      "I\n",
      "R\n",
      "F\n",
      "W\n",
      "S\n",
      "P\n",
      "H\n",
      "R\n"
     ]
    }
   ],
   "source": [
    "quote = \"\"\"\n",
    "            Alright, but apart from the Sanitation, the Medicine, Education, Wine,\n",
    "            Public Order, Irrigation, Roads, the Fresh-Water System,\n",
    "            and Public Health, what have the Romans ever done for us?\n",
    "        \"\"\"\n",
    " \n",
    "# Use a for loop and an if statement to print just the capitals in the quote above.\n",
    "for i in quote:\n",
    "    if i.isupper():\n",
    "        print(i)"
   ]
  },
  {
   "cell_type": "code",
   "execution_count": 81,
   "id": "6c82efcc",
   "metadata": {},
   "outputs": [
    {
     "name": "stdout",
     "output_type": "stream",
     "text": [
      " \n",
      " \n",
      " \n",
      " \n",
      "?\n",
      "L\n",
      "K\n",
      ".\n",
      ";\n"
     ]
    }
   ],
   "source": [
    "test = '    nk?LiKiu.jk;'\n",
    "for i in test:\n",
    "    if not i.islower():\n",
    "        print(i)"
   ]
  },
  {
   "cell_type": "markdown",
   "id": "5b56ddd7",
   "metadata": {},
   "source": [
    "___"
   ]
  },
  {
   "cell_type": "markdown",
   "id": "987aadd2",
   "metadata": {},
   "source": [
    "### range"
   ]
  },
  {
   "cell_type": "code",
   "execution_count": 92,
   "id": "829d05a9",
   "metadata": {},
   "outputs": [
    {
     "name": "stdout",
     "output_type": "stream",
     "text": [
      "i now is 0\n",
      "i now is 1\n",
      "i now is 2\n",
      "i now is 3\n",
      "i now is 4\n",
      "i now is 5\n",
      "i now is 6\n",
      "i now is 7\n",
      "i now is 8\n",
      "i now is 9\n"
     ]
    }
   ],
   "source": [
    "for i in range(10):\n",
    "    print(\"i now is {}\".format(i))"
   ]
  },
  {
   "cell_type": "code",
   "execution_count": 84,
   "id": "caf3b8f3",
   "metadata": {},
   "outputs": [
    {
     "name": "stdout",
     "output_type": "stream",
     "text": [
      "i now is 0\n",
      "i now is 2\n",
      "i now is 4\n",
      "i now is 6\n",
      "i now is 8\n"
     ]
    }
   ],
   "source": [
    "# specifying a step\n",
    "for i in range(0, 10, 2):\n",
    "    print(\"i now is {}\".format(i))"
   ]
  },
  {
   "cell_type": "code",
   "execution_count": 85,
   "id": "e2a61ad5",
   "metadata": {},
   "outputs": [
    {
     "name": "stdout",
     "output_type": "stream",
     "text": [
      "i now is 10\n",
      "i now is 8\n",
      "i now is 6\n",
      "i now is 4\n",
      "i now is 2\n"
     ]
    }
   ],
   "source": [
    "# backwards\n",
    "for i in range(10, 0, -2):\n",
    "    print(\"i now is {}\".format(i))"
   ]
  },
  {
   "cell_type": "code",
   "execution_count": 86,
   "id": "04bd0b72",
   "metadata": {},
   "outputs": [
    {
     "name": "stdout",
     "output_type": "stream",
     "text": [
      "25\n",
      "Have a good day at work.\n"
     ]
    }
   ],
   "source": [
    "age = int(input())\n",
    "if age in range(16, 63):\n",
    "    print('Have a good day at work.')"
   ]
  },
  {
   "cell_type": "markdown",
   "id": "6ee6bdf4",
   "metadata": {},
   "source": [
    "Write a program to print out all the numbers from 0 to 100 that are divisible by 7.  "
   ]
  },
  {
   "cell_type": "code",
   "execution_count": 90,
   "id": "abcb1e20",
   "metadata": {},
   "outputs": [
    {
     "name": "stdout",
     "output_type": "stream",
     "text": [
      "0\n",
      "7\n",
      "14\n",
      "21\n",
      "28\n",
      "35\n",
      "42\n",
      "49\n",
      "56\n",
      "63\n",
      "70\n",
      "77\n",
      "84\n",
      "91\n",
      "98\n"
     ]
    }
   ],
   "source": [
    "for i in range(101):\n",
    "    if i % 7 == 0:\n",
    "        print(i)"
   ]
  },
  {
   "cell_type": "code",
   "execution_count": 91,
   "id": "7b36b2dd",
   "metadata": {},
   "outputs": [
    {
     "name": "stdout",
     "output_type": "stream",
     "text": [
      "0\n",
      "7\n",
      "14\n",
      "21\n",
      "28\n",
      "35\n",
      "42\n",
      "49\n",
      "56\n",
      "63\n",
      "70\n",
      "77\n",
      "84\n",
      "91\n",
      "98\n"
     ]
    }
   ],
   "source": [
    "for i in range(0, 101, 7):\n",
    "    print(i)"
   ]
  },
  {
   "cell_type": "markdown",
   "id": "e81e158c",
   "metadata": {},
   "source": [
    "___"
   ]
  },
  {
   "cell_type": "markdown",
   "id": "617302ac",
   "metadata": {},
   "source": [
    "### Nested for loops"
   ]
  },
  {
   "cell_type": "code",
   "execution_count": 95,
   "id": "f9383fe1",
   "metadata": {},
   "outputs": [
    {
     "name": "stdout",
     "output_type": "stream",
     "text": [
      "1 times 1 is 1\n",
      "1 times 2 is 2\n",
      "1 times 3 is 3\n",
      "1 times 4 is 4\n",
      "----------------------------------------------\n",
      "2 times 1 is 2\n",
      "2 times 2 is 4\n",
      "2 times 3 is 6\n",
      "2 times 4 is 8\n",
      "----------------------------------------------\n",
      "3 times 1 is 3\n",
      "3 times 2 is 6\n",
      "3 times 3 is 9\n",
      "3 times 4 is 12\n",
      "----------------------------------------------\n",
      "4 times 1 is 4\n",
      "4 times 2 is 8\n",
      "4 times 3 is 12\n",
      "4 times 4 is 16\n",
      "----------------------------------------------\n"
     ]
    }
   ],
   "source": [
    "# Multiplication table\n",
    "for i in range(1, 5):\n",
    "    for j in range(1, 5):\n",
    "        print('{0} times {1} is {2}'.format(i, j, i*j))\n",
    "    print('----------------------------------------------')"
   ]
  },
  {
   "cell_type": "markdown",
   "id": "8cb29f79",
   "metadata": {},
   "source": [
    "### continue"
   ]
  },
  {
   "cell_type": "code",
   "execution_count": 96,
   "id": "da68b0c2",
   "metadata": {},
   "outputs": [],
   "source": [
    "shopping_list = ['milk', 'pasta', 'eggs', 'spam', 'bread', 'rice']"
   ]
  },
  {
   "cell_type": "code",
   "execution_count": 97,
   "id": "e625d372",
   "metadata": {},
   "outputs": [
    {
     "name": "stdout",
     "output_type": "stream",
     "text": [
      "Buy milk\n",
      "Buy pasta\n",
      "Buy eggs\n",
      "Buy spam\n",
      "Buy bread\n",
      "Buy rice\n"
     ]
    }
   ],
   "source": [
    "for item in shopping_list:\n",
    "    print('Buy ' + item)"
   ]
  },
  {
   "cell_type": "markdown",
   "id": "0ba1007c",
   "metadata": {},
   "source": [
    "But what if we don't like spam?\n",
    "<br> Well we've seen one way to deal with that. <br> We could check for the current item\n",
    "not being spam before printing the reminder."
   ]
  },
  {
   "cell_type": "code",
   "execution_count": 99,
   "id": "1df9524f",
   "metadata": {},
   "outputs": [
    {
     "name": "stdout",
     "output_type": "stream",
     "text": [
      "Buy milk\n",
      "Buy pasta\n",
      "Buy eggs\n",
      "Buy bread\n",
      "Buy rice\n"
     ]
    }
   ],
   "source": [
    "for item in shopping_list:\n",
    "    if item != 'spam':\n",
    "        print('Buy ' + item)"
   ]
  },
  {
   "cell_type": "markdown",
   "id": "48acf769",
   "metadata": {},
   "source": [
    "but there's another way in loops and that's to use __continue__\n",
    "\n",
    "__continue causes all the remaining code in the block to be skipped, so execution will jump straight back to the for statement.__"
   ]
  },
  {
   "cell_type": "code",
   "execution_count": 100,
   "id": "136c4d04",
   "metadata": {},
   "outputs": [
    {
     "name": "stdout",
     "output_type": "stream",
     "text": [
      "Buy milk\n",
      "Buy pasta\n",
      "Buy eggs\n",
      "Buy bread\n",
      "Buy rice\n"
     ]
    }
   ],
   "source": [
    "for item in shopping_list:\n",
    "    if item == 'spam':\n",
    "        continue\n",
    "    print('Buy ' + item)"
   ]
  },
  {
   "cell_type": "markdown",
   "id": "38e6a7d8",
   "metadata": {},
   "source": [
    "https://stackoverflow.com/questions/8420705/example-use-of-continue-statement-in-python"
   ]
  },
  {
   "cell_type": "code",
   "execution_count": 101,
   "id": "c5738a4e",
   "metadata": {},
   "outputs": [
    {
     "data": {
      "text/plain": [
       "['lemon', 'orange', 'pear']"
      ]
     },
     "execution_count": 101,
     "metadata": {},
     "output_type": "execute_result"
    }
   ],
   "source": [
    "def filter_out_colors(elements):\n",
    "    colors = ['red', 'green']\n",
    "    result = []\n",
    "    for element in elements:\n",
    "        if element in colors:\n",
    "            continue # skip the element\n",
    "        result.append(element)\n",
    "    return result\n",
    "\n",
    "filter_out_colors(['lemon', 'orange', 'red', 'pear'])"
   ]
  },
  {
   "cell_type": "code",
   "execution_count": 104,
   "id": "eae72aa3",
   "metadata": {},
   "outputs": [
    {
     "name": "stdout",
     "output_type": "stream",
     "text": [
      "Someone commited at 8:20\n",
      "Someone commited at 9:30\n",
      "Someone commited at 11:45\n",
      "Someone commited at 15:50\n",
      "Someone commited at 17:45\n"
     ]
    }
   ],
   "source": [
    "commit_times = [(8,20), (9,30), (11, 45), (15, 50), (17, 45), (27, 132)]\n",
    "\n",
    "for time in commit_times:\n",
    "    hour = time[0]\n",
    "    minutes = time[1]\n",
    "\n",
    "    if not (0 <= hour <= 24 and 0 <= minutes <= 59):\n",
    "        continue\n",
    "\n",
    "    print(\"Someone commited at {h}:{m}\".format(h=hour, m=minutes))"
   ]
  },
  {
   "cell_type": "markdown",
   "id": "1c5dcb18",
   "metadata": {},
   "source": [
    "### break\n",
    "__break causes Python to jump out of the loop__"
   ]
  },
  {
   "cell_type": "markdown",
   "id": "0b365ef2",
   "metadata": {},
   "source": [
    "It's also possible to break out of a for loop completely, using the break statement."
   ]
  },
  {
   "cell_type": "code",
   "execution_count": 110,
   "id": "e1328717",
   "metadata": {},
   "outputs": [
    {
     "data": {
      "text/plain": [
       "['milk', 'pasta', 'eggs', 'spam', 'bread', 'rice']"
      ]
     },
     "execution_count": 110,
     "metadata": {},
     "output_type": "execute_result"
    }
   ],
   "source": [
    "shopping_list"
   ]
  },
  {
   "cell_type": "code",
   "execution_count": 111,
   "id": "b4467917",
   "metadata": {},
   "outputs": [
    {
     "name": "stdout",
     "output_type": "stream",
     "text": [
      "Buy milk\n",
      "Buy pasta\n",
      "Buy eggs\n"
     ]
    }
   ],
   "source": [
    "# the loop will terminate when it gets to spam\n",
    "\n",
    "for item in shopping_list:\n",
    "    if item == 'spam':\n",
    "        break\n",
    "    print(f'Buy {item}')"
   ]
  },
  {
   "cell_type": "code",
   "execution_count": 112,
   "id": "4f38210f",
   "metadata": {},
   "outputs": [
    {
     "name": "stdout",
     "output_type": "stream",
     "text": [
      "Buy milk\n",
      "Buy pasta\n",
      "Buy eggs\n",
      "Buy spam\n"
     ]
    }
   ],
   "source": [
    "for item in shopping_list:\n",
    "    print(f'Buy {item}')\n",
    "    if item == 'spam':\n",
    "        break\n",
    "    "
   ]
  },
  {
   "cell_type": "markdown",
   "id": "6df0522e",
   "metadata": {},
   "source": [
    "___"
   ]
  },
  {
   "cell_type": "markdown",
   "id": "20e0681a",
   "metadata": {},
   "source": [
    "__None__ is a constant that's used to show that something doesn't have a value, so it's roughly equivalent to null in C or Java."
   ]
  },
  {
   "cell_type": "code",
   "execution_count": 116,
   "id": "efeb346e",
   "metadata": {},
   "outputs": [
    {
     "name": "stdout",
     "output_type": "stream",
     "text": [
      "3\n"
     ]
    }
   ],
   "source": [
    "shopping_list = ['milk', 'pasta', 'eggs', 'spam', 'bread', 'rice']\n",
    "\n",
    "item_to_find = 'spam'\n",
    "found_at = None\n",
    "\n",
    "# So we're gonna search for 'spam'. If we find it, we want to know its position in the list.\n",
    "for index in range(len(shopping_list)):\n",
    "    if shopping_list[index] == item_to_find:\n",
    "        found_at = index\n",
    "\n",
    "print(found_at)\n",
    "# We found what we're looking for and there's no point continuing to search, but the code's still searching."
   ]
  },
  {
   "cell_type": "code",
   "execution_count": 117,
   "id": "c5f6bbed",
   "metadata": {},
   "outputs": [
    {
     "name": "stdout",
     "output_type": "stream",
     "text": [
      "3\n"
     ]
    }
   ],
   "source": [
    "# So this is where break can be useful.\n",
    "\n",
    "for index in range(len(shopping_list)):\n",
    "    if shopping_list[index] == item_to_find:\n",
    "        found_at = index\n",
    "        break\n",
    "        \n",
    "print(found_at)"
   ]
  },
  {
   "cell_type": "markdown",
   "id": "b93b983c",
   "metadata": {},
   "source": [
    "___"
   ]
  },
  {
   "cell_type": "code",
   "execution_count": 7,
   "id": "88a2a7fb",
   "metadata": {},
   "outputs": [
    {
     "name": "stdout",
     "output_type": "stream",
     "text": [
      "None\n"
     ]
    }
   ],
   "source": [
    "# item which is not in the list\n",
    "\n",
    "shopping_list = ['milk', 'pasta', 'eggs', 'spam', 'bread', 'rice']\n",
    "\n",
    "item_to_find = 'albatross'\n",
    "found_at = None\n",
    "\n",
    "for index in range(len(shopping_list)):\n",
    "    if shopping_list[index] == item_to_find:\n",
    "        found_at = index\n",
    "        break\n",
    "\n",
    "print(found_at)"
   ]
  },
  {
   "cell_type": "code",
   "execution_count": 1,
   "id": "f6563cf1",
   "metadata": {},
   "outputs": [
    {
     "ename": "NameError",
     "evalue": "name 'found_at' is not defined",
     "output_type": "error",
     "traceback": [
      "\u001b[1;31m---------------------------------------------------------------------------\u001b[0m",
      "\u001b[1;31mNameError\u001b[0m                                 Traceback (most recent call last)",
      "\u001b[1;32m<ipython-input-1-feb47d0f4cc6>\u001b[0m in \u001b[0;36m<module>\u001b[1;34m\u001b[0m\n\u001b[0;32m     12\u001b[0m         \u001b[1;32mbreak\u001b[0m\u001b[1;33m\u001b[0m\u001b[1;33m\u001b[0m\u001b[0m\n\u001b[0;32m     13\u001b[0m \u001b[1;33m\u001b[0m\u001b[0m\n\u001b[1;32m---> 14\u001b[1;33m \u001b[0mprint\u001b[0m\u001b[1;33m(\u001b[0m\u001b[0mfound_at\u001b[0m\u001b[1;33m)\u001b[0m\u001b[1;33m\u001b[0m\u001b[1;33m\u001b[0m\u001b[0m\n\u001b[0m",
      "\u001b[1;31mNameError\u001b[0m: name 'found_at' is not defined"
     ]
    }
   ],
   "source": [
    "# restart kernel, then run the below code\n",
    "# let's see what would have happened if we hadn't have defined 'found_at' variable.\n",
    "\n",
    "shopping_list = ['milk', 'pasta', 'eggs', 'spam', 'bread', 'rice']\n",
    "\n",
    "item_to_find = 'albatross'\n",
    "# found_at = None\n",
    "\n",
    "for index in range(len(shopping_list)):\n",
    "    if shopping_list[index] == item_to_find:\n",
    "        found_at = index\n",
    "        break\n",
    "\n",
    "print(found_at)"
   ]
  },
  {
   "cell_type": "code",
   "execution_count": 2,
   "id": "eac0060c",
   "metadata": {},
   "outputs": [
    {
     "name": "stdout",
     "output_type": "stream",
     "text": [
      "albatross item not found\n"
     ]
    }
   ],
   "source": [
    "shopping_list = ['milk', 'pasta', 'eggs', 'spam', 'bread', 'rice']\n",
    "\n",
    "item_to_find = 'albatross'\n",
    "found_at = None\n",
    "\n",
    "for index in range(len(shopping_list)):\n",
    "    if shopping_list[index] == item_to_find:\n",
    "        found_at = index\n",
    "        break\n",
    "\n",
    "if found_at is not None:\n",
    "    print(\"Item found at position {}\".format(found_at))\n",
    "else:\n",
    "    print('{} item not found'.format(item_to_find))"
   ]
  },
  {
   "cell_type": "code",
   "execution_count": 3,
   "id": "c585bd35",
   "metadata": {},
   "outputs": [
    {
     "name": "stdout",
     "output_type": "stream",
     "text": [
      "albatross item not found\n"
     ]
    }
   ],
   "source": [
    "if item_to_find in shopping_list:\n",
    "    found_at = shopping_list.index(item_to_find)\n",
    "\n",
    "if found_at is not None:\n",
    "    print(\"Item found at position {}\".format(found_at))\n",
    "else:\n",
    "    print('{} item not found'.format(item_to_find))"
   ]
  },
  {
   "cell_type": "markdown",
   "id": "ae47fbda",
   "metadata": {},
   "source": [
    "___"
   ]
  },
  {
   "cell_type": "markdown",
   "id": "8fb541e0",
   "metadata": {},
   "source": [
    "### while loop"
   ]
  },
  {
   "cell_type": "markdown",
   "id": "10d18ca3",
   "metadata": {},
   "source": [
    "Sometimes we need to keep looping as long as some condition is true and stop when it becomes False.\n",
    "We do this using a while loop."
   ]
  },
  {
   "cell_type": "code",
   "execution_count": 7,
   "id": "57ce021a",
   "metadata": {},
   "outputs": [
    {
     "name": "stdout",
     "output_type": "stream",
     "text": [
      "i is now 0\n",
      "i is now 1\n",
      "i is now 2\n",
      "i is now 3\n",
      "i is now 4\n",
      "i is now 5\n",
      "i is now 6\n",
      "i is now 7\n",
      "i is now 8\n",
      "i is now 9\n",
      "end\n"
     ]
    }
   ],
   "source": [
    "i = 0\n",
    "while i < 10:\n",
    "    print('i is now {}'.format(i))\n",
    "    i += 1\n",
    "print('end')"
   ]
  },
  {
   "cell_type": "markdown",
   "id": "ddb92022",
   "metadata": {},
   "source": [
    "__So that leads to two other important things to consider.__\n",
    "<br>First, the condition must be initialized before the while loop starts. \n",
    "With the for loop, we just used i without setting a value first. \n",
    "With the while loop though, we have to give i a value first. If we hadn't, we'd get an error that i is not defined.\n",
    "<br>The second thing is that we need some way within the loop, for the condition to become False. Otherwise, the condition never becomes False and the loop will keep running forever."
   ]
  },
  {
   "cell_type": "code",
   "execution_count": 9,
   "id": "80cd7c48",
   "metadata": {},
   "outputs": [
    {
     "name": "stdout",
     "output_type": "stream",
     "text": [
      "Please choose a direction: north_east\n",
      "Please choose a direction: west\n"
     ]
    }
   ],
   "source": [
    "available_exits = ['north', 'south', 'east', 'west']\n",
    "\n",
    "chosen_exit = ''\n",
    "while chosen_exit not in available_exits:\n",
    "    chosen_exit = input('Please choose a direction: ')"
   ]
  },
  {
   "cell_type": "markdown",
   "id": "6553a7f3",
   "metadata": {},
   "source": [
    "One of the important features of while loops is that they can be used when you can't determine, in advance, how many times you will need to loop. <br>A for loop will repeat for each item in a predetermined sequence, whereas with a while loop you don't need to know how many times the loop will execute."
   ]
  },
  {
   "cell_type": "markdown",
   "id": "463107ad",
   "metadata": {},
   "source": [
    "### break in a while loop"
   ]
  },
  {
   "cell_type": "code",
   "execution_count": 11,
   "id": "00218f76",
   "metadata": {},
   "outputs": [
    {
     "name": "stdout",
     "output_type": "stream",
     "text": [
      "Please choose a direction: up\n",
      "Please choose a direction: quit\n",
      "Game Over\n"
     ]
    }
   ],
   "source": [
    "available_exits = ['north', 'south', 'east', 'west']\n",
    "\n",
    "chosen_exit = ''\n",
    "while chosen_exit not in available_exits:\n",
    "    chosen_exit = input('Please choose a direction: ')\n",
    "    if chosen_exit == 'quit':\n",
    "        print('Game Over')\n",
    "        break"
   ]
  },
  {
   "cell_type": "code",
   "execution_count": 13,
   "id": "d39314c2",
   "metadata": {},
   "outputs": [
    {
     "name": "stdout",
     "output_type": "stream",
     "text": [
      "Please choose a direction: down\n",
      "Please choose a direction: up\n",
      "Please choose a direction: Quit\n",
      "Game Over\n"
     ]
    }
   ],
   "source": [
    "# Because string comparisons are case sensitive, quit with a capital Q doesn't match the string we're checking for, so\n",
    "\n",
    "available_exits = ['north', 'south', 'east', 'west']\n",
    "\n",
    "chosen_exit = ''\n",
    "while chosen_exit not in available_exits:\n",
    "    chosen_exit = input('Please choose a direction: ')\n",
    "    if chosen_exit.casefold() == 'quit':\n",
    "        print('Game Over')\n",
    "        break"
   ]
  },
  {
   "cell_type": "code",
   "execution_count": 14,
   "id": "f06549ce",
   "metadata": {},
   "outputs": [
    {
     "name": "stdout",
     "output_type": "stream",
     "text": [
      "0\n",
      "7\n",
      "14\n",
      "21\n",
      "28\n",
      "35\n",
      "42\n",
      "49\n",
      "56\n",
      "63\n",
      "70\n",
      "77\n"
     ]
    }
   ],
   "source": [
    "# Modify the code so that it stops printing when it reaches a number greater than zero that's exactly divisible by 11\n",
    "\n",
    "# for i in range(0, 100, 7):\n",
    "    # print(i)\n",
    "    \n",
    "for i in range(0, 100, 7):\n",
    "    print(i)\n",
    "    if i > 0 and i % 11 == 0:\n",
    "        break"
   ]
  },
  {
   "cell_type": "code",
   "execution_count": 18,
   "id": "7b4c801e",
   "metadata": {},
   "outputs": [
    {
     "name": "stdout",
     "output_type": "stream",
     "text": [
      "1\n",
      "2\n",
      "4\n",
      "7\n",
      "8\n",
      "11\n",
      "13\n",
      "14\n",
      "16\n",
      "17\n",
      "19\n"
     ]
    }
   ],
   "source": [
    "# Write a program to print out all the numbers from 0 to 20 that aren't divisible by either 3 or 5.\n",
    "# (Zero is considered divisible by everything (zero should not appear in the output))\n",
    "\n",
    "for i in range(21):\n",
    "    if i >= 0 and (i % 3 == 0 or i % 5 == 0):\n",
    "        continue\n",
    "    print(i)\n",
    "    \n",
    "# this is a solution with continue statement "
   ]
  },
  {
   "cell_type": "code",
   "execution_count": 19,
   "id": "efad2db8",
   "metadata": {},
   "outputs": [
    {
     "name": "stdout",
     "output_type": "stream",
     "text": [
      "1\n",
      "2\n",
      "4\n",
      "7\n",
      "8\n",
      "11\n",
      "13\n",
      "14\n",
      "16\n",
      "17\n",
      "19\n"
     ]
    }
   ],
   "source": [
    "# this is a solution without continue statement\n",
    "\n",
    "for x in range(21):\n",
    "    if x % 3 != 0 and x % 5 != 0:\n",
    "        print(x)"
   ]
  },
  {
   "cell_type": "markdown",
   "id": "f48753c9",
   "metadata": {},
   "source": [
    "___"
   ]
  },
  {
   "cell_type": "markdown",
   "id": "ab874160",
   "metadata": {},
   "source": [
    "### The random module and import"
   ]
  },
  {
   "cell_type": "code",
   "execution_count": 21,
   "id": "42371faf",
   "metadata": {},
   "outputs": [
    {
     "name": "stdout",
     "output_type": "stream",
     "text": [
      "Please guess number between 1 and 10: \n",
      "6\n",
      "Please guess lower.\n",
      "2\n",
      "Sorry, you've not guessed correctly.\n"
     ]
    }
   ],
   "source": [
    "# There's a number of problems with this game. One problem is that it only allows two guesses.\n",
    "\n",
    "answer = 5\n",
    "\n",
    "print('Please guess number between 1 and 10: ')\n",
    "guess = int(input())\n",
    "\n",
    "if guess != answer:\n",
    "    if guess < answer:\n",
    "        print('Please guess higher.')\n",
    "    else:\n",
    "        print('Please guess lower.')\n",
    "    guess = int(input())\n",
    "    if guess == answer:\n",
    "        print('Well done, you guessed it.')\n",
    "    else:\n",
    "        print(\"Sorry, you've not guessed correctly.\")\n",
    "else:\n",
    "    print('You got it immediately.')"
   ]
  },
  {
   "cell_type": "code",
   "execution_count": 23,
   "id": "c4030042",
   "metadata": {},
   "outputs": [
    {
     "name": "stdout",
     "output_type": "stream",
     "text": [
      "Please guess number between 1 and 10: \n",
      "5\n",
      "Please guess lower.\n",
      "3\n",
      "Sorry, you've not guessed correctly.\n"
     ]
    }
   ],
   "source": [
    "import random\n",
    "\n",
    "highest = 10\n",
    "# randomly generate a number\n",
    "answer = random.randint(1, highest) # the randint function is in the random module.\n",
    "\n",
    "print('Please guess number between 1 and {}: '.format(highest))\n",
    "guess = int(input())\n",
    "\n",
    "if guess != answer:\n",
    "    if guess < answer:\n",
    "        print('Please guess higher.')\n",
    "    else:\n",
    "        print('Please guess lower.')\n",
    "    guess = int(input())\n",
    "    if guess == answer:\n",
    "        print('Well done, you guessed it.')\n",
    "    else:\n",
    "        print(\"Sorry, you've not guessed correctly.\")\n",
    "else:\n",
    "    print('You got it immediately.')"
   ]
  },
  {
   "cell_type": "code",
   "execution_count": null,
   "id": "94eae9fd",
   "metadata": {},
   "outputs": [],
   "source": []
  }
 ],
 "metadata": {
  "kernelspec": {
   "display_name": "Python 3",
   "language": "python",
   "name": "python3"
  },
  "language_info": {
   "codemirror_mode": {
    "name": "ipython",
    "version": 3
   },
   "file_extension": ".py",
   "mimetype": "text/x-python",
   "name": "python",
   "nbconvert_exporter": "python",
   "pygments_lexer": "ipython3",
   "version": "3.7.11"
  }
 },
 "nbformat": 4,
 "nbformat_minor": 5
}
