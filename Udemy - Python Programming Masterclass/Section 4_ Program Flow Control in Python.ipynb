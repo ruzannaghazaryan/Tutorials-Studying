{
 "cells": [
  {
   "cell_type": "markdown",
   "id": "d672baf2",
   "metadata": {},
   "source": [
    "__code blocks__"
   ]
  },
  {
   "cell_type": "markdown",
   "id": "31845405",
   "metadata": {},
   "source": [
    "Whenever a line ends with a colon, Python will expect a new code block to follow it.\n",
    "<br>\n",
    "That means that the next line must be indented. \n",
    "<br>\n",
    "When you've finished all the code for a block, you remove the indentation for the next line."
   ]
  },
  {
   "cell_type": "code",
   "execution_count": 1,
   "id": "a4484190",
   "metadata": {},
   "outputs": [
    {
     "name": "stdout",
     "output_type": "stream",
     "text": [
      "No. 1 squared is 1 and cubed is 1.\n",
      "No. 2 squared is 4 and cubed is 8.\n"
     ]
    }
   ],
   "source": [
    "for i in range(1, 3):\n",
    "    print(\"No. {} squared is {} and cubed is {}.\".format(i, i**2, i**3))"
   ]
  },
  {
   "cell_type": "code",
   "execution_count": 2,
   "id": "25aa785c",
   "metadata": {},
   "outputs": [
    {
     "name": "stdout",
     "output_type": "stream",
     "text": [
      "No. 1 squared is 1 and cubed is 1.\n",
      "\n",
      "\n",
      "No. 2 squared is 4 and cubed is 8.\n",
      "\n",
      "\n"
     ]
    }
   ],
   "source": [
    "for i in range(1, 3):\n",
    "    print(f\"No. {i} squared is {i**2} and cubed is {i**3}.\")\n",
    "    print()\n",
    "    print()"
   ]
  },
  {
   "cell_type": "markdown",
   "id": "14297231",
   "metadata": {},
   "source": [
    "___"
   ]
  },
  {
   "cell_type": "markdown",
   "id": "c95e7df6",
   "metadata": {},
   "source": [
    "!!! select lines of code and use ___shift tab___ to __remove a level of indentation.__"
   ]
  },
  {
   "cell_type": "markdown",
   "id": "0ffccf66",
   "metadata": {},
   "source": [
    "___"
   ]
  },
  {
   "cell_type": "code",
   "execution_count": 3,
   "id": "2958ac03",
   "metadata": {},
   "outputs": [
    {
     "name": "stdout",
     "output_type": "stream",
     "text": [
      "No.  1 squared is   1 and cubed is    1.\n",
      "No.  2 squared is   4 and cubed is    8.\n",
      "********************************************************************************\n"
     ]
    }
   ],
   "source": [
    "for i in range(1, 3):\n",
    "    print(\"No. {:2} squared is {:3} and cubed is {:4}.\".format(i, i**2, i**3))\n",
    "\n",
    "print('*' * 80)"
   ]
  },
  {
   "cell_type": "markdown",
   "id": "b04eb909",
   "metadata": {},
   "source": [
    "____"
   ]
  },
  {
   "cell_type": "code",
   "execution_count": 4,
   "id": "998a8611",
   "metadata": {},
   "outputs": [
    {
     "name": "stdout",
     "output_type": "stream",
     "text": [
      "Please enter your name: Zuzi\n"
     ]
    }
   ],
   "source": [
    "name = input(\"Please enter your name: \")"
   ]
  },
  {
   "cell_type": "code",
   "execution_count": 5,
   "id": "92de097d",
   "metadata": {},
   "outputs": [
    {
     "name": "stdout",
     "output_type": "stream",
     "text": [
      "How old are you, Zuzi: 25\n"
     ]
    }
   ],
   "source": [
    "age = input(\"How old are you, {0}: \".format(name))"
   ]
  },
  {
   "cell_type": "code",
   "execution_count": 6,
   "id": "fb0107a1",
   "metadata": {},
   "outputs": [
    {
     "data": {
      "text/plain": [
       "('25', str)"
      ]
     },
     "execution_count": 6,
     "metadata": {},
     "output_type": "execute_result"
    }
   ],
   "source": [
    "age, type(age)"
   ]
  },
  {
   "cell_type": "code",
   "execution_count": 7,
   "id": "669e1317",
   "metadata": {},
   "outputs": [
    {
     "name": "stdout",
     "output_type": "stream",
     "text": [
      "How old are you, Zuzi: 25\n"
     ]
    }
   ],
   "source": [
    "age = int(input(\"How old are you, {}: \".format(name)))"
   ]
  },
  {
   "cell_type": "code",
   "execution_count": 8,
   "id": "0a21a23f",
   "metadata": {},
   "outputs": [
    {
     "data": {
      "text/plain": [
       "(25, int)"
      ]
     },
     "execution_count": 8,
     "metadata": {},
     "output_type": "execute_result"
    }
   ],
   "source": [
    "age, type(age)"
   ]
  },
  {
   "cell_type": "code",
   "execution_count": 9,
   "id": "070dd79f",
   "metadata": {},
   "outputs": [
    {
     "name": "stdout",
     "output_type": "stream",
     "text": [
      "You're old enough to vote.\n"
     ]
    }
   ],
   "source": [
    "if age >= 18:\n",
    "    print('You\\'re old enough to vote.')\n",
    "else:\n",
    "    print(\"Please come back in {0} years.\".format(18-age))"
   ]
  },
  {
   "cell_type": "code",
   "execution_count": 10,
   "id": "d5f6332f",
   "metadata": {},
   "outputs": [
    {
     "name": "stdout",
     "output_type": "stream",
     "text": [
      "You're old enough to vote.\n",
      "Put an X in the box.\n"
     ]
    }
   ],
   "source": [
    "if age < 18:\n",
    "    print(\"Please come back in {0} years.\".format(18-age))\n",
    "elif age == 900: \n",
    "    print(\"Sorry, there is a mistake.\")\n",
    "else:\n",
    "    print('You\\'re old enough to vote.')\n",
    "    print('Put an X in the box.')"
   ]
  },
  {
   "cell_type": "markdown",
   "id": "7955d6ed",
   "metadata": {},
   "source": [
    "___"
   ]
  },
  {
   "cell_type": "markdown",
   "id": "842dbb91",
   "metadata": {},
   "source": [
    "__Python won't test the code in an _elif_ or an _else_ when the _if_ condition is _true_.__"
   ]
  },
  {
   "cell_type": "markdown",
   "id": "73ca8084",
   "metadata": {},
   "source": [
    "__else blocks will be executed if nothing else evaluated to true.__"
   ]
  },
  {
   "cell_type": "markdown",
   "id": "59123d18",
   "metadata": {},
   "source": [
    "So an if-statement begins with the keyword if, followed by condition. \n",
    "The if condition will always be evaluated.\n",
    "\n",
    "Next, you can have one or more elif blocks.\n",
    "\n",
    "And finally, you may have an else block. You don't have to use else, but if you do,\n",
    "it must come after the if, and it must also come after any elifs, if there are any."
   ]
  },
  {
   "cell_type": "markdown",
   "id": "e131c0f7",
   "metadata": {},
   "source": [
    "An __if statement__ can include __many elif__ parts, but there can only be __one else__."
   ]
  },
  {
   "cell_type": "markdown",
   "id": "a2ddc4a8",
   "metadata": {},
   "source": [
    "___"
   ]
  },
  {
   "cell_type": "code",
   "execution_count": 11,
   "id": "3a21534d",
   "metadata": {},
   "outputs": [
    {
     "name": "stdout",
     "output_type": "stream",
     "text": [
      "Please guess number between 1 and 10: \n",
      "7\n",
      "Please guess lower.\n",
      "6\n",
      "Incorrect guess again.\n"
     ]
    }
   ],
   "source": [
    "answer = 5\n",
    "\n",
    "print('Please guess number between 1 and 10: ')\n",
    "guess = int(input())\n",
    "\n",
    "if guess < answer:\n",
    "    print('Please guess higher.')\n",
    "    guess = int(input())\n",
    "    if guess == answer:\n",
    "        print('Well done, you guessed it.')\n",
    "    else:\n",
    "        print('Incorrect guess again.')\n",
    "elif guess > answer:\n",
    "    print('Please guess lower.')\n",
    "    guess = int(input())\n",
    "    if guess == answer:\n",
    "        print('Well done, you guessed it.')\n",
    "    else:\n",
    "        print('Incorrect guess again.')\n",
    "else:\n",
    "    print('You got it immediately.')"
   ]
  },
  {
   "cell_type": "markdown",
   "id": "a00997ff",
   "metadata": {},
   "source": [
    "We've duplicated exactly the same code in the if and elif blocks.\n",
    "\n",
    "Whenever you see duplication like this happening, that's a good indication that it can be done better.\n",
    "\n",
    "Duplicating code is generally a bad idea. There's almost always a better way."
   ]
  },
  {
   "cell_type": "code",
   "execution_count": 12,
   "id": "74091257",
   "metadata": {},
   "outputs": [
    {
     "name": "stdout",
     "output_type": "stream",
     "text": [
      "Please guess number between 1 and 10: \n",
      "3\n",
      "Please guess higher.\n",
      "8\n",
      "Sorry, you've not guessed correctly.\n"
     ]
    }
   ],
   "source": [
    "answer = 5\n",
    "\n",
    "print('Please guess number between 1 and 10: ')\n",
    "guess = int(input())\n",
    "\n",
    "if guess != answer:\n",
    "    if guess < answer:\n",
    "        print('Please guess higher.')\n",
    "    else:\n",
    "        print('Please guess lower.')\n",
    "    guess = int(input())\n",
    "    if guess == answer:\n",
    "        print('Well done, you guessed it.')\n",
    "    else:\n",
    "        print(\"Sorry, you've not guessed correctly.\")\n",
    "else:\n",
    "    print('You got it immediately.')"
   ]
  },
  {
   "cell_type": "markdown",
   "id": "8cd33741",
   "metadata": {},
   "source": [
    "___"
   ]
  },
  {
   "cell_type": "markdown",
   "id": "8a23c4e4",
   "metadata": {},
   "source": [
    "__Comparison operators__\n",
    "<br> >\n",
    "<br> >= \n",
    "<br> <\n",
    "<br> <=\n",
    "<br> ==\n",
    "<br> !="
   ]
  },
  {
   "cell_type": "markdown",
   "id": "aa0b4ad0",
   "metadata": {},
   "source": [
    "___"
   ]
  },
  {
   "cell_type": "markdown",
   "id": "587c6681",
   "metadata": {},
   "source": [
    "Using __and, or, in__ Conditions"
   ]
  },
  {
   "cell_type": "code",
   "execution_count": 13,
   "id": "6f62bf2b",
   "metadata": {},
   "outputs": [
    {
     "name": "stdout",
     "output_type": "stream",
     "text": [
      "How old are you? 25\n"
     ]
    }
   ],
   "source": [
    "age = int(input('How old are you? '))"
   ]
  },
  {
   "cell_type": "code",
   "execution_count": 14,
   "id": "d80c2a11",
   "metadata": {},
   "outputs": [
    {
     "name": "stdout",
     "output_type": "stream",
     "text": [
      "Have a good day at work.\n"
     ]
    }
   ],
   "source": [
    "if age >= 16 and age < 63:\n",
    "    print('Have a good day at work.')"
   ]
  },
  {
   "cell_type": "markdown",
   "id": "178d1348",
   "metadata": {},
   "source": [
    "Let's look at simplifying chained comparisons. <br> When dealing with numerical values in a condition, you can often replace and with a simpler comparison."
   ]
  },
  {
   "cell_type": "code",
   "execution_count": 15,
   "id": "c3829c84",
   "metadata": {},
   "outputs": [
    {
     "name": "stdout",
     "output_type": "stream",
     "text": [
      "How old are you? 25\n",
      "Have a good day at work.\n",
      "--------------------------------------------------------------------------------\n",
      "Have a good day at work.\n"
     ]
    }
   ],
   "source": [
    "age = int(input('How old are you? '))\n",
    "\n",
    "if 16 <= age < 63:\n",
    "    print('Have a good day at work.')\n",
    "else:\n",
    "    print(\"Enjoy your free time.\")\n",
    "\n",
    "print('-' * 80)\n",
    "\n",
    "if age < 16 or age >= 63:\n",
    "    print(\"Enjoy your free time.\")\n",
    "else:\n",
    "    print(\"Have a good day at work.\")"
   ]
  },
  {
   "cell_type": "markdown",
   "id": "7a6d25f5",
   "metadata": {},
   "source": [
    "___"
   ]
  },
  {
   "cell_type": "markdown",
   "id": "ad160889",
   "metadata": {},
   "source": [
    "A __boolean value__ is a value that can either be __True__ or __False__.\n",
    "\n",
    "__Not__ is used to reverse the value."
   ]
  },
  {
   "cell_type": "code",
   "execution_count": 16,
   "id": "db847dee",
   "metadata": {},
   "outputs": [],
   "source": [
    "# age greater than equal to 16 is a boolean expression\n",
    "# name == Tim, so that's a boolean expression that will evaluate to True if the value of name equals the string Tim."
   ]
  },
  {
   "cell_type": "code",
   "execution_count": 18,
   "id": "000baa1a",
   "metadata": {},
   "outputs": [
    {
     "name": "stdout",
     "output_type": "stream",
     "text": [
      "Learn Python\n"
     ]
    }
   ],
   "source": [
    "day = \"Monday\"\n",
    "temperature = 30\n",
    "raining = True\n",
    "\n",
    "if day == 'Saturday' and temperature > 27 and not raining:\n",
    "    print('Go swimming')\n",
    "else:\n",
    "    print('Learn Python')"
   ]
  },
  {
   "cell_type": "code",
   "execution_count": 21,
   "id": "5e3ca2e8",
   "metadata": {},
   "outputs": [
    {
     "name": "stdout",
     "output_type": "stream",
     "text": [
      "Learn Python\n"
     ]
    }
   ],
   "source": [
    "day = \"Saturday\"\n",
    "temperature = 30\n",
    "raining = True\n",
    "\n",
    "if day == 'Saturday' and temperature > 27 and not raining:\n",
    "    print('Go swimming')\n",
    "else:\n",
    "    print('Learn Python')\n",
    "    \n",
    "\n",
    "# All three parts of the condition must evaluate to True in order for the entire condition to be true. \n",
    "# The last part of the condition is: and not raining.\n",
    "# So raining is true, as we can see on line 3. That means that not raining is false."
   ]
  },
  {
   "cell_type": "code",
   "execution_count": 23,
   "id": "321870e7",
   "metadata": {},
   "outputs": [
    {
     "name": "stdout",
     "output_type": "stream",
     "text": [
      "Go swimming\n"
     ]
    }
   ],
   "source": [
    "# change and -> or (True or False => True)\n",
    "\n",
    "day = \"Saturday\"\n",
    "temperature = 30\n",
    "raining = True\n",
    "\n",
    "if day == 'Saturday' and temperature > 27 or not raining:\n",
    "    print('Go swimming')\n",
    "else:\n",
    "    print('Learn Python')"
   ]
  },
  {
   "cell_type": "markdown",
   "id": "07e44397",
   "metadata": {},
   "source": [
    "https://docs.python.org/3/reference/expressions.html#operator-precedence"
   ]
  },
  {
   "cell_type": "code",
   "execution_count": 25,
   "id": "010be849",
   "metadata": {},
   "outputs": [],
   "source": [
    "# the above code doesn't really give you any indication of what I intended.\n",
    "# we should use parentheses to make it clear."
   ]
  },
  {
   "cell_type": "code",
   "execution_count": 27,
   "id": "8034b1e8",
   "metadata": {},
   "outputs": [
    {
     "name": "stdout",
     "output_type": "stream",
     "text": [
      "Go swimming\n"
     ]
    }
   ],
   "source": [
    "day = \"Friday\"\n",
    "temperature = 30\n",
    "raining = False\n",
    "\n",
    "if day == 'Saturday' and temperature > 27 or not raining:\n",
    "    print('Go swimming')\n",
    "else:\n",
    "    print('Learn Python')\n",
    "    \n",
    "# False and True or True\n",
    "# and has a higher precedence than or\n",
    "# False or True => True"
   ]
  },
  {
   "cell_type": "code",
   "execution_count": 29,
   "id": "74cd9326",
   "metadata": {},
   "outputs": [
    {
     "name": "stdout",
     "output_type": "stream",
     "text": [
      "Go swimming\n"
     ]
    }
   ],
   "source": [
    "# to make the code much easier to read.\n",
    "\n",
    "day = \"Friday\"\n",
    "temperature = 30\n",
    "raining = False\n",
    "\n",
    "if (day == 'Saturday' and temperature > 27) or not raining:\n",
    "    print('Go swimming')\n",
    "else:\n",
    "    print('Learn Python')"
   ]
  },
  {
   "cell_type": "markdown",
   "id": "dce1dc94",
   "metadata": {},
   "source": [
    "___"
   ]
  },
  {
   "cell_type": "markdown",
   "id": "d4bf2d51",
   "metadata": {},
   "source": [
    "https://docs.python.org/3/library/stdtypes.html"
   ]
  },
  {
   "cell_type": "markdown",
   "id": "a0cd9274",
   "metadata": {},
   "source": [
    "By default, an object is considered true unless its class defines either a __bool__() method that returns False or a __len__() method that returns zero, when called with the object. Here are most of the built-in objects considered false:\n",
    "\n",
    "* constants defined to be false: None and False.\n",
    "\n",
    "* zero of any numeric type: 0, 0.0, 0j, Decimal(0), Fraction(0, 1)\n",
    "\n",
    "* empty sequences and collections: '', (), [], {}, set(), range(0)"
   ]
  },
  {
   "cell_type": "code",
   "execution_count": 33,
   "id": "6f368055",
   "metadata": {},
   "outputs": [
    {
     "name": "stdout",
     "output_type": "stream",
     "text": [
      "False\n"
     ]
    }
   ],
   "source": [
    "# Python expects a boolean expression after if, which is why it tries to evaluate 0 and name as boolean values. \n",
    "# We've already seen that 0 evaluates to False.\n",
    "\n",
    "if 0:\n",
    "    print('True')\n",
    "else:\n",
    "    print('False')"
   ]
  },
  {
   "cell_type": "code",
   "execution_count": 38,
   "id": "99ae03b9",
   "metadata": {},
   "outputs": [
    {
     "name": "stdout",
     "output_type": "stream",
     "text": [
      "Please enter your name: Zazu\n",
      "Hello, Zazu\n"
     ]
    }
   ],
   "source": [
    "name = input('Please enter your name: ')\n",
    "\n",
    "if name:\n",
    "    print('Hello, {}'.format(name))\n",
    "else:\n",
    "    print('Are you the man with no name')\n",
    "    \n",
    "# Because Zazu isn't an empty string, it evaluates as True."
   ]
  },
  {
   "cell_type": "code",
   "execution_count": 39,
   "id": "cb490bf4",
   "metadata": {},
   "outputs": [
    {
     "name": "stdout",
     "output_type": "stream",
     "text": [
      "Hello, Zazu\n"
     ]
    }
   ],
   "source": [
    "# It's more obvious what we're doing there and that's the way I suggest you write your conditions to begin with.\n",
    "\n",
    "if name != '':\n",
    "    print('Hello, {}'.format(name))\n",
    "else:\n",
    "    print('Are you the man with no name')  "
   ]
  },
  {
   "cell_type": "markdown",
   "id": "cee7ac4e",
   "metadata": {},
   "source": [
    "__in__ and __not in__ "
   ]
  },
  {
   "cell_type": "code",
   "execution_count": 46,
   "id": "f4997a05",
   "metadata": {},
   "outputs": [
    {
     "name": "stdout",
     "output_type": "stream",
     "text": [
      "Please enter a character: i\n",
      "i is in Norwegian Blue\n"
     ]
    }
   ],
   "source": [
    "parrot = 'Norwegian Blue'\n",
    "\n",
    "letter = input('Please enter a character: ')\n",
    "\n",
    "if letter in parrot:\n",
    "    print(\"{} is in {}\".format(letter, parrot))\n",
    "else:\n",
    "    print(\"I don't need that letter\")"
   ]
  },
  {
   "cell_type": "code",
   "execution_count": 47,
   "id": "d2b7d06c",
   "metadata": {},
   "outputs": [
    {
     "name": "stdout",
     "output_type": "stream",
     "text": [
      "Please enter a character: A\n",
      "I don't need that letter\n"
     ]
    }
   ],
   "source": [
    "# Remember that string comparisons are case-sensitive.\n",
    "# If you enter a capital A it won't be found in the string.\n",
    "\n",
    "parrot = 'Norwegian Blue'\n",
    "\n",
    "letter = input('Please enter a character: ')\n",
    "\n",
    "if letter in parrot:\n",
    "    print(\"{} is in {}\".format(letter, parrot))\n",
    "else:\n",
    "    print(\"I don't need that letter\")"
   ]
  },
  {
   "cell_type": "code",
   "execution_count": 48,
   "id": "468271c8",
   "metadata": {},
   "outputs": [
    {
     "name": "stdout",
     "output_type": "stream",
     "text": [
      "Please enter a character: Blue\n",
      "Blue is in Norwegian Blue\n"
     ]
    }
   ],
   "source": [
    "parrot = 'Norwegian Blue'\n",
    "\n",
    "letter = input('Please enter a character: ')\n",
    "\n",
    "if letter in parrot:\n",
    "    print(\"{} is in {}\".format(letter, parrot))\n",
    "else:\n",
    "    print(\"I don't need that letter\")"
   ]
  },
  {
   "cell_type": "code",
   "execution_count": 49,
   "id": "a046733e",
   "metadata": {},
   "outputs": [
    {
     "name": "stdout",
     "output_type": "stream",
     "text": [
      "Please enter a character: blue\n",
      "I don't need that letter\n"
     ]
    }
   ],
   "source": [
    "parrot = 'Norwegian Blue'\n",
    "\n",
    "letter = input('Please enter a character: ')\n",
    "\n",
    "if letter in parrot:\n",
    "    print(\"{} is in {}\".format(letter, parrot))\n",
    "else:\n",
    "    print(\"I don't need that letter\")"
   ]
  },
  {
   "cell_type": "markdown",
   "id": "6ac31734",
   "metadata": {},
   "source": [
    "___"
   ]
  },
  {
   "cell_type": "code",
   "execution_count": 52,
   "id": "c8b8bf74",
   "metadata": {},
   "outputs": [
    {
     "name": "stdout",
     "output_type": "stream",
     "text": [
      "What would you like to learn today? I want to learn Python\n",
      "But I want to go to the cinema.\n"
     ]
    }
   ],
   "source": [
    "# not in\n",
    "\n",
    "activity = input(\"What would you like to learn today? \")\n",
    "\n",
    "if 'cinema' not in activity:\n",
    "    print('But I want to go to the cinema.')"
   ]
  },
  {
   "cell_type": "code",
   "execution_count": 54,
   "id": "e8806eea",
   "metadata": {},
   "outputs": [
    {
     "name": "stdout",
     "output_type": "stream",
     "text": [
      "What would you like to learn today? I'm going to the Cinema\n",
      "But I want to go to the cinema.\n"
     ]
    }
   ],
   "source": [
    "activity = input(\"What would you like to learn today? \")\n",
    "\n",
    "if 'cinema' not in activity:\n",
    "    print('But I want to go to the cinema.')\n",
    "    \n",
    "# case-sensitive (capital letter)"
   ]
  },
  {
   "cell_type": "markdown",
   "id": "1f2918b7",
   "metadata": {},
   "source": [
    "__casefold() function converts a string to lowercase__"
   ]
  },
  {
   "cell_type": "code",
   "execution_count": 56,
   "id": "181f0b2c",
   "metadata": {},
   "outputs": [
    {
     "data": {
      "text/plain": [
       "\"i'm going to the cinema\""
      ]
     },
     "execution_count": 56,
     "metadata": {},
     "output_type": "execute_result"
    }
   ],
   "source": [
    "activity.casefold()"
   ]
  },
  {
   "cell_type": "code",
   "execution_count": 57,
   "id": "edd89495",
   "metadata": {},
   "outputs": [
    {
     "name": "stdout",
     "output_type": "stream",
     "text": [
      "What would you like to learn today? I want to go to the Cinema\n"
     ]
    }
   ],
   "source": [
    "activity = input(\"What would you like to learn today? \")\n",
    "\n",
    "if 'cinema' not in activity.casefold():\n",
    "    print('But I want to go to the cinema.')"
   ]
  },
  {
   "cell_type": "markdown",
   "id": "b4153d80",
   "metadata": {},
   "source": [
    "___"
   ]
  },
  {
   "cell_type": "markdown",
   "id": "b08f8c3b",
   "metadata": {},
   "source": [
    "Look through, please\n",
    "\n",
    "https://docs.python.org/3/library/stdtypes.html#string-methods"
   ]
  },
  {
   "cell_type": "markdown",
   "id": "21c93ba9",
   "metadata": {},
   "source": [
    "___"
   ]
  },
  {
   "cell_type": "code",
   "execution_count": 59,
   "id": "a59802a5",
   "metadata": {},
   "outputs": [
    {
     "name": "stdout",
     "output_type": "stream",
     "text": [
      "Please enter your name: Zazu\n",
      "How old are you? 25\n",
      "Welcome club 18-30 holidays, Zazu.\n"
     ]
    }
   ],
   "source": [
    "name = input('Please enter your name: ')\n",
    "age = int(input(\"How old are you? \"))\n",
    "\n",
    "if 18 <= age < 31:\n",
    "    print('Welcome club 18-30 holidays, {}.'.format(name))\n",
    "else:\n",
    "    print('Sorry, our holidays are only for cool people.')"
   ]
  },
  {
   "cell_type": "markdown",
   "id": "7f22fe30",
   "metadata": {},
   "source": [
    "___"
   ]
  },
  {
   "cell_type": "markdown",
   "id": "bf563c62",
   "metadata": {},
   "source": [
    "**for loops**"
   ]
  },
  {
   "cell_type": "code",
   "execution_count": 60,
   "id": "5e75ea09",
   "metadata": {},
   "outputs": [
    {
     "name": "stdout",
     "output_type": "stream",
     "text": [
      "N\n",
      "o\n",
      "r\n",
      "w\n",
      "e\n",
      "g\n",
      "i\n",
      "a\n",
      "n\n",
      " \n",
      "B\n",
      "l\n",
      "u\n",
      "e\n"
     ]
    }
   ],
   "source": [
    "parrot = 'Norwegian Blue'\n",
    "\n",
    "for character in parrot:\n",
    "    print(character)"
   ]
  },
  {
   "cell_type": "code",
   "execution_count": 61,
   "id": "01233a5a",
   "metadata": {},
   "outputs": [
    {
     "name": "stdout",
     "output_type": "stream",
     "text": [
      ",;: ,;\n"
     ]
    }
   ],
   "source": [
    "number = '9,223;372:036 854,775;807'\n",
    "separators = ''\n",
    "\n",
    "for char in number:\n",
    "    if not char.isnumeric():\n",
    "        separators = separators + char\n",
    "\n",
    "print(separators)"
   ]
  },
  {
   "cell_type": "code",
   "execution_count": 65,
   "id": "c59a734a",
   "metadata": {},
   "outputs": [
    {
     "name": "stdout",
     "output_type": "stream",
     "text": [
      "['9', '223', '372', '036', '854', '775', '807']\n",
      "[9, 223, 372, 36, 854, 775, 807]\n"
     ]
    }
   ],
   "source": [
    "values = ''.join(char if char not in separators else ' ' for char in number).split(' ')\n",
    "print(values)\n",
    "print([int(char) for char in values])"
   ]
  },
  {
   "cell_type": "code",
   "execution_count": null,
   "id": "5cdedb78",
   "metadata": {},
   "outputs": [],
   "source": []
  }
 ],
 "metadata": {
  "kernelspec": {
   "display_name": "Python 3",
   "language": "python",
   "name": "python3"
  },
  "language_info": {
   "codemirror_mode": {
    "name": "ipython",
    "version": 3
   },
   "file_extension": ".py",
   "mimetype": "text/x-python",
   "name": "python",
   "nbconvert_exporter": "python",
   "pygments_lexer": "ipython3",
   "version": "3.7.11"
  }
 },
 "nbformat": 4,
 "nbformat_minor": 5
}
