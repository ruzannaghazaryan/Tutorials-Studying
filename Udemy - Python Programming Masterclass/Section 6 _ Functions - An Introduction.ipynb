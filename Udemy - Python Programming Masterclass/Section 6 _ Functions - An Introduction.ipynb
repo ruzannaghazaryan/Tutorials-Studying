{
 "cells": [
  {
   "cell_type": "markdown",
   "id": "0fdf6f84",
   "metadata": {},
   "source": [
    "A Python function definition starts with the **keyword def**."
   ]
  },
  {
   "cell_type": "code",
   "execution_count": 6,
   "id": "92155e80",
   "metadata": {},
   "outputs": [],
   "source": [
    "def multiply():\n",
    "    result = 10.5 * 4\n",
    "    return result\n",
    "\n",
    "# the numbers are hard coded\n",
    "# hard coding"
   ]
  },
  {
   "cell_type": "code",
   "execution_count": 5,
   "id": "4cafe3dd",
   "metadata": {},
   "outputs": [
    {
     "name": "stdout",
     "output_type": "stream",
     "text": [
      "42.0\n"
     ]
    }
   ],
   "source": [
    "answer = multiply()\n",
    "print(answer)\n",
    "\n",
    "# We multiplied an int by a float, so the result is a float."
   ]
  },
  {
   "cell_type": "markdown",
   "id": "51331407",
   "metadata": {},
   "source": [
    "It doesn't have any arguments, but we still need to include the parentheses, and because our function returns a value, we can bind the variable answer to the return value."
   ]
  },
  {
   "cell_type": "markdown",
   "id": "d80da73c",
   "metadata": {},
   "source": [
    "**The structure of a function**\n",
    "________________________________\n",
    "<br> - It starts with the Python keyword def - def is short for define. \n",
    "<br> - That's followed by the name of the function\n",
    "<br> - All function definitions have parentheses after the function name. \n",
    "<br> - You can also define parameters inside the parentheses\n",
    "<br> - and a colon : in the end"
   ]
  },
  {
   "cell_type": "markdown",
   "id": "12d7d6bf",
   "metadata": {},
   "source": [
    "____"
   ]
  },
  {
   "cell_type": "markdown",
   "id": "b9bd2342",
   "metadata": {},
   "source": [
    "**Make sure you leave two black lines, before and after your functions.**"
   ]
  },
  {
   "cell_type": "markdown",
   "id": "50563fdd",
   "metadata": {},
   "source": [
    "___"
   ]
  },
  {
   "cell_type": "markdown",
   "id": "a5eb159f",
   "metadata": {},
   "source": [
    "__Parameters__ are like placeholders for the real values that you'll pass to your function. \n",
    "<br> They're just variables, but they're given a value when you call the function. \n",
    "<br> You may also see them referred to as __formal parameters__.\n",
    "<br> You might also hear programmers refer to them as arguments. That's not strictly accurate. "
   ]
  },
  {
   "cell_type": "markdown",
   "id": "a8ee3021",
   "metadata": {},
   "source": [
    "___"
   ]
  },
  {
   "cell_type": "markdown",
   "id": "256bb97d",
   "metadata": {},
   "source": [
    "__Arguments__ are the values that will be used by __formal parameters__, when we call a function.\n",
    "<br> Each parameter must be given a value, by providing an __argument__ in the function call. \n",
    "<br> Providing values as arguments is called __passing__ the arguments.\n",
    "<br> If a function defines two parameters, we __pass__ two arguments to it when we call it. "
   ]
  },
  {
   "cell_type": "markdown",
   "id": "3f2a715a",
   "metadata": {},
   "source": [
    "___"
   ]
  },
  {
   "cell_type": "markdown",
   "id": "f8938d01",
   "metadata": {},
   "source": [
    "__A parameter is a variable that exists inside the function.__"
   ]
  },
  {
   "cell_type": "markdown",
   "id": "a0496d05",
   "metadata": {},
   "source": [
    "___"
   ]
  },
  {
   "cell_type": "markdown",
   "id": "0d08cd3a",
   "metadata": {},
   "source": [
    "https://en.wikipedia.org/wiki/Evaluation_strategy#Call_by_sharing"
   ]
  },
  {
   "cell_type": "code",
   "execution_count": 12,
   "id": "0c4b10cd",
   "metadata": {},
   "outputs": [
    {
     "name": "stdout",
     "output_type": "stream",
     "text": [
      "[1]\n"
     ]
    }
   ],
   "source": [
    "def f(a_list):\n",
    "    a_list.append(1)\n",
    "\n",
    "m = []\n",
    "f(m)\n",
    "print(m)"
   ]
  },
  {
   "cell_type": "markdown",
   "id": "6ffce138",
   "metadata": {},
   "source": [
    "outputs [1] because the append method modifies the object on which it is called."
   ]
  },
  {
   "cell_type": "code",
   "execution_count": 92,
   "id": "c070ddcf",
   "metadata": {},
   "outputs": [
    {
     "name": "stdout",
     "output_type": "stream",
     "text": [
      "None\n",
      "[]\n"
     ]
    }
   ],
   "source": [
    "def f(a_list):\n",
    "    a_list = a_list + [1]\n",
    "\n",
    "m = []\n",
    "print(f(m))\n",
    "print(m)"
   ]
  },
  {
   "cell_type": "markdown",
   "id": "eb4d82b6",
   "metadata": {},
   "source": [
    "m outputs [], f(m) outputs None because the statement a_list + [1] reassigns a new list to the variable rather than to the location it references."
   ]
  },
  {
   "cell_type": "markdown",
   "id": "b174dd8c",
   "metadata": {},
   "source": [
    "___"
   ]
  },
  {
   "cell_type": "markdown",
   "id": "92336f15",
   "metadata": {},
   "source": [
    "__scope__ - It's where a variable exists."
   ]
  },
  {
   "cell_type": "markdown",
   "id": "f02b91d4",
   "metadata": {},
   "source": [
    "__Parameters' scope is the function they're defined in.__"
   ]
  },
  {
   "cell_type": "code",
   "execution_count": 93,
   "id": "57abc83d",
   "metadata": {},
   "outputs": [],
   "source": [
    "def is_palindrome(string):\n",
    "    backwards = string[::-1]\n",
    "    return backwards == string\n",
    "\n",
    "# or shortly\n",
    "def is_palindrome(string):\n",
    "    return string[::-1] == string"
   ]
  },
  {
   "cell_type": "code",
   "execution_count": 95,
   "id": "5dd0b0ac",
   "metadata": {},
   "outputs": [
    {
     "name": "stdout",
     "output_type": "stream",
     "text": [
      "Please enter a word to check: radar\n",
      "'radar' is a palindrome.\n"
     ]
    }
   ],
   "source": [
    "word = input('Please enter a word to check: ')\n",
    "if is_palindrome(word):\n",
    "    print(f\"'{word}' is a palindrome.\")\n",
    "else:\n",
    "    print(\"'{}' is not a palindrome.\".format(word))"
   ]
  },
  {
   "cell_type": "code",
   "execution_count": 96,
   "id": "faf8cf82",
   "metadata": {},
   "outputs": [
    {
     "name": "stdout",
     "output_type": "stream",
     "text": [
      "Please enter a word to check: Radar\n",
      "'Radar' is not a palindrome.\n"
     ]
    }
   ],
   "source": [
    "word = input('Please enter a word to check: ')\n",
    "if is_palindrome(word):\n",
    "    print(f\"'{word}' is a palindrome.\")\n",
    "else:\n",
    "    print(\"'{}' is not a palindrome.\".format(word))"
   ]
  },
  {
   "cell_type": "code",
   "execution_count": 20,
   "id": "7e045223",
   "metadata": {},
   "outputs": [],
   "source": [
    "def is_palindrome(string):\n",
    "    return string[::-1].casefold() == string.casefold()"
   ]
  },
  {
   "cell_type": "code",
   "execution_count": 21,
   "id": "b6e6f980",
   "metadata": {},
   "outputs": [
    {
     "name": "stdout",
     "output_type": "stream",
     "text": [
      "Please enter a word to check: Radar\n",
      "'Radar' is a palindrome.\n"
     ]
    }
   ],
   "source": [
    "word = input('Please enter a word to check: ')\n",
    "if is_palindrome(word):\n",
    "    print(f\"'{word}' is a palindrome.\")\n",
    "else:\n",
    "    print(\"'{}' is not a palindrome.\".format(word))"
   ]
  },
  {
   "cell_type": "markdown",
   "id": "06a18e34",
   "metadata": {},
   "source": [
    "___"
   ]
  },
  {
   "cell_type": "markdown",
   "id": "b3ec072c",
   "metadata": {},
   "source": [
    "The Python ___isalpha()___ method returns true if a string __only contains letters__. Python ___isnumeric()___ returns true if all characters in a string are __numbers__. Python ___isalnum()___ only returns true if a string contains __alphanumeric characters, without symbols__."
   ]
  },
  {
   "cell_type": "code",
   "execution_count": 26,
   "id": "44ff0b38",
   "metadata": {},
   "outputs": [],
   "source": [
    "def palindrome_sentence(sentence):\n",
    "    string = \"\"\n",
    "    for char in sentence:\n",
    "        if char.isalnum():\n",
    "            string.join(char) # or string += char\n",
    "            \n",
    "    return string[::-1].casefold() == string.casefold()"
   ]
  },
  {
   "cell_type": "code",
   "execution_count": 24,
   "id": "3eaf7141",
   "metadata": {},
   "outputs": [
    {
     "name": "stdout",
     "output_type": "stream",
     "text": [
      "Please enter a word to check: Was it a car, or a cat, I saw\n",
      "'Was it a car, or a cat, I saw' is a palindrome.\n"
     ]
    }
   ],
   "source": [
    "# Was it a car, or a cat, I saw.\n",
    "# Do geese see god?\n",
    "\n",
    "word = input('Please enter a word to check: ')\n",
    "if palindrome_sentence(word):\n",
    "    print(f\"'{word}' is a palindrome.\")\n",
    "else:\n",
    "    print(\"'{}' is not a palindrome.\".format(word))"
   ]
  },
  {
   "cell_type": "code",
   "execution_count": 27,
   "id": "4ecdc9c5",
   "metadata": {},
   "outputs": [
    {
     "name": "stdout",
     "output_type": "stream",
     "text": [
      "Please enter a word to check: Radar\n",
      "'Radar' is a palindrome.\n"
     ]
    }
   ],
   "source": [
    "word = input('Please enter a word to check: ')\n",
    "if palindrome_sentence(word):\n",
    "    print(f\"'{word}' is a palindrome.\")\n",
    "else:\n",
    "    print(\"'{}' is not a palindrome.\".format(word))"
   ]
  },
  {
   "cell_type": "markdown",
   "id": "0d8dc74d",
   "metadata": {},
   "source": [
    "___"
   ]
  },
  {
   "cell_type": "markdown",
   "id": "d5a60cc6",
   "metadata": {},
   "source": [
    "#### Functions calling functions"
   ]
  },
  {
   "cell_type": "code",
   "execution_count": null,
   "id": "2e47bb92",
   "metadata": {},
   "outputs": [],
   "source": [
    "def is_palindrome(string):\n",
    "    return string[::-1].casefold() == string.casefold()"
   ]
  },
  {
   "cell_type": "code",
   "execution_count": 28,
   "id": "41e5c62e",
   "metadata": {},
   "outputs": [],
   "source": [
    "def palindrome_sentence(sentence):\n",
    "    string = \"\"\n",
    "    for char in sentence:\n",
    "        if char.isalnum():\n",
    "            string.join(char) # or string += char\n",
    "            \n",
    "    return is_palindrome(string)"
   ]
  },
  {
   "cell_type": "markdown",
   "id": "c0797631",
   "metadata": {},
   "source": [
    "___"
   ]
  },
  {
   "cell_type": "markdown",
   "id": "81c27930",
   "metadata": {},
   "source": [
    "* How to make sure the users input is numeric"
   ]
  },
  {
   "cell_type": "code",
   "execution_count": 37,
   "id": "2b150761",
   "metadata": {},
   "outputs": [
    {
     "name": "stdout",
     "output_type": "stream",
     "text": [
      "5\n",
      "'Tim'\n"
     ]
    },
    {
     "ename": "ValueError",
     "evalue": "invalid literal for int() with base 10: \"'Tim'\"",
     "output_type": "error",
     "traceback": [
      "\u001b[1;31m---------------------------------------------------------------------------\u001b[0m",
      "\u001b[1;31mValueError\u001b[0m                                Traceback (most recent call last)",
      "\u001b[1;32m<ipython-input-37-e5af4cf226da>\u001b[0m in \u001b[0;36m<module>\u001b[1;34m\u001b[0m\n\u001b[0;32m      8\u001b[0m \u001b[1;33m\u001b[0m\u001b[0m\n\u001b[0;32m      9\u001b[0m \u001b[1;32mwhile\u001b[0m \u001b[0mguess\u001b[0m \u001b[1;33m!=\u001b[0m \u001b[0manswer\u001b[0m\u001b[1;33m:\u001b[0m\u001b[1;33m\u001b[0m\u001b[1;33m\u001b[0m\u001b[0m\n\u001b[1;32m---> 10\u001b[1;33m     \u001b[0mguess\u001b[0m \u001b[1;33m=\u001b[0m \u001b[0mint\u001b[0m\u001b[1;33m(\u001b[0m\u001b[0minput\u001b[0m\u001b[1;33m(\u001b[0m\u001b[1;33m)\u001b[0m\u001b[1;33m)\u001b[0m\u001b[1;33m\u001b[0m\u001b[1;33m\u001b[0m\u001b[0m\n\u001b[0m\u001b[0;32m     11\u001b[0m     \u001b[1;32mif\u001b[0m \u001b[0mguess\u001b[0m \u001b[1;33m==\u001b[0m \u001b[1;36m0\u001b[0m\u001b[1;33m:\u001b[0m\u001b[1;33m\u001b[0m\u001b[1;33m\u001b[0m\u001b[0m\n\u001b[0;32m     12\u001b[0m         \u001b[1;32mbreak\u001b[0m\u001b[1;33m\u001b[0m\u001b[1;33m\u001b[0m\u001b[0m\n",
      "\u001b[1;31mValueError\u001b[0m: invalid literal for int() with base 10: \"'Tim'\""
     ]
    }
   ],
   "source": [
    "import random\n",
    "\n",
    "highest = 10\n",
    "answer = random.randint(1, highest)\n",
    "print(answer)\n",
    "\n",
    "guess = 0\n",
    "\n",
    "while guess != answer:\n",
    "    guess = int(input())\n",
    "    if guess == 0:\n",
    "        break\n",
    "    \n",
    "    if guess == answer:\n",
    "        print('Well done, you guessed it.')\n",
    "#         break\n",
    "    else:\n",
    "        if guess < answer:\n",
    "            print('Please guess higher')\n",
    "        else:\n",
    "            print('Please guess lower')"
   ]
  },
  {
   "cell_type": "code",
   "execution_count": 38,
   "id": "60bcc767",
   "metadata": {},
   "outputs": [
    {
     "name": "stdout",
     "output_type": "stream",
     "text": [
      "6\n",
      ": 4\n",
      "Please guess higher\n",
      ": 'Tim\n",
      ": Ann\n",
      ": Ruz\n",
      ": 3\n",
      "Please guess higher\n",
      ": 6\n",
      "Well done, you guessed it.\n"
     ]
    }
   ],
   "source": [
    "import random\n",
    "\n",
    "\n",
    "def get_integer(prompt):\n",
    "    while True:\n",
    "        temp = input(prompt)\n",
    "        if temp.isnumeric():\n",
    "            return int(temp)\n",
    "            \n",
    "            \n",
    "# The return statement causes execution to leave the function. \n",
    "# There's no need to use break here. \n",
    "# Return will cause the while loop to stop.\n",
    "\n",
    "\n",
    "highest = 10\n",
    "answer = random.randint(1, highest)\n",
    "print(answer)\n",
    "\n",
    "guess = 0\n",
    "\n",
    "while guess != answer:\n",
    "    guess = get_integer(': ')\n",
    "    if guess == 0:\n",
    "        break\n",
    "    \n",
    "    if guess == answer:\n",
    "        print('Well done, you guessed it.')\n",
    "#         break\n",
    "    else:\n",
    "        if guess < answer:\n",
    "            print('Please guess higher')\n",
    "        else:\n",
    "            print('Please guess lower')"
   ]
  },
  {
   "cell_type": "markdown",
   "id": "ca413ca4",
   "metadata": {},
   "source": [
    "___"
   ]
  },
  {
   "cell_type": "code",
   "execution_count": 39,
   "id": "b1c473fe",
   "metadata": {},
   "outputs": [
    {
     "name": "stdout",
     "output_type": "stream",
     "text": [
      "2\n",
      ": \"Ruz\"\n",
      "\"Ruz\" isn't a valid number\n",
      ": 2\n",
      "Well done, you guessed it.\n"
     ]
    }
   ],
   "source": [
    "# adding else block for inputted not valid numbers\n",
    "\n",
    "import random\n",
    "\n",
    "\n",
    "def get_integer(prompt):\n",
    "    while True:\n",
    "        temp = input(prompt)\n",
    "        if temp.isnumeric():\n",
    "            return int(temp)\n",
    "        else:  # !!!!!!!!!!!!!!!!!!!!!!!!!!!!!!!!!!!!!!!!!!!!!!!!!!!!!!!!!!!!!!!!!!!!!!!!!!!!!!!!\n",
    "            print(f'{temp} isn\\'t a valid number')\n",
    "            \n",
    "\n",
    "highest = 10\n",
    "answer = random.randint(1, highest)\n",
    "print(answer)\n",
    "\n",
    "guess = 0\n",
    "\n",
    "while guess != answer:\n",
    "    guess = get_integer(': ')\n",
    "    if guess == 0:\n",
    "        break\n",
    "    \n",
    "    if guess == answer:\n",
    "        print('Well done, you guessed it.')\n",
    "#         break\n",
    "    else:\n",
    "        if guess < answer:\n",
    "            print('Please guess higher')\n",
    "        else:\n",
    "            print('Please guess lower')"
   ]
  },
  {
   "cell_type": "markdown",
   "id": "3412c340",
   "metadata": {},
   "source": [
    "** What may not have been obvious, is that the else isn't needed. If the return is executed, then any code after that line won't be. The function will terminate at that point, and return to the calling code. So that means that some programmers won't use the else."
   ]
  },
  {
   "cell_type": "code",
   "execution_count": 40,
   "id": "f7fbea2a",
   "metadata": {},
   "outputs": [],
   "source": [
    "def get_integer(prompt):\n",
    "    while True:\n",
    "        temp = input(prompt)\n",
    "        if temp.isnumeric():\n",
    "            return int(temp)\n",
    "        print(f'{temp} isn\\'t a valid number')"
   ]
  },
  {
   "cell_type": "code",
   "execution_count": 41,
   "id": "63c27c7d",
   "metadata": {},
   "outputs": [
    {
     "name": "stdout",
     "output_type": "stream",
     "text": [
      ": 3\n"
     ]
    },
    {
     "data": {
      "text/plain": [
       "3"
      ]
     },
     "execution_count": 41,
     "metadata": {},
     "output_type": "execute_result"
    }
   ],
   "source": [
    "get_integer(': ')"
   ]
  },
  {
   "cell_type": "code",
   "execution_count": 42,
   "id": "864bfd9a",
   "metadata": {},
   "outputs": [
    {
     "name": "stdout",
     "output_type": "stream",
     "text": [
      ": 'Zuz'\n",
      "'Zuz' isn't a valid number\n",
      ": dfgh\n",
      "dfgh isn't a valid number\n",
      ": 6.7\n",
      "6.7 isn't a valid number\n",
      ": 5\n"
     ]
    },
    {
     "data": {
      "text/plain": [
       "5"
      ]
     },
     "execution_count": 42,
     "metadata": {},
     "output_type": "execute_result"
    }
   ],
   "source": [
    "get_integer(': ')"
   ]
  },
  {
   "cell_type": "markdown",
   "id": "a5abac82",
   "metadata": {},
   "source": [
    "___"
   ]
  },
  {
   "cell_type": "markdown",
   "id": "543a2aef",
   "metadata": {},
   "source": [
    "Write a function with the following parameters:\n",
    "- n:    a positive number\n",
    "- t:    a string\n",
    "\n",
    "If _t_ has the value 'e', the function should return the sum of all __even__ natural numbers less than _n_.\n",
    "\n",
    "Else if _t_ has the value 'o', the function should return the sum of all __odd__ natural numbers less than _n_.\n",
    "\n",
    "For any other values of _t_ return -1.\n"
   ]
  },
  {
   "cell_type": "code",
   "execution_count": 49,
   "id": "634b158a",
   "metadata": {},
   "outputs": [
    {
     "data": {
      "text/plain": [
       "20"
      ]
     },
     "execution_count": 49,
     "metadata": {},
     "output_type": "execute_result"
    }
   ],
   "source": [
    "# my solution\n",
    "def sum_eo(n, t):\n",
    "    if t == 'e':\n",
    "        even_num_sum = sum([i for i in range(1, n) if i < n and i % 2 == 0])\n",
    "        return even_num_sum\n",
    "    elif t == 'o':\n",
    "        odd_num_sum = sum([i for i in range(1, n) if i < n and i % 2 != 0])\n",
    "        return odd_num_sum\n",
    "    else:\n",
    "        return -1\n",
    "        \n",
    "\n",
    "sum_eo(10, 'e')"
   ]
  },
  {
   "cell_type": "code",
   "execution_count": 50,
   "id": "0b719ef6",
   "metadata": {},
   "outputs": [],
   "source": [
    "# solution\n",
    "\n",
    "def sum_eo(n, t):\n",
    "    if t == 'e':\n",
    "        start = 2\n",
    "    elif t == 'o':\n",
    "        start = 1\n",
    "    else:\n",
    "        return -1\n",
    "    \n",
    "    return sum(range(start, n, 2))"
   ]
  },
  {
   "cell_type": "markdown",
   "id": "466a8980",
   "metadata": {},
   "source": [
    "___"
   ]
  },
  {
   "cell_type": "markdown",
   "id": "b0f6d7f4",
   "metadata": {},
   "source": [
    "#### Returning None"
   ]
  },
  {
   "cell_type": "markdown",
   "id": "c7412dc1",
   "metadata": {},
   "source": [
    "All Python functions return a value. If you don't explicitly return something, then your function will return None.That behavior's automatic - it's how Python functions work."
   ]
  },
  {
   "cell_type": "markdown",
   "id": "6171a09c",
   "metadata": {},
   "source": [
    "___"
   ]
  },
  {
   "cell_type": "code",
   "execution_count": 61,
   "id": "c7c996ab",
   "metadata": {},
   "outputs": [
    {
     "name": "stdout",
     "output_type": "stream",
     "text": [
      "testing something new\n"
     ]
    }
   ],
   "source": [
    "print('testing something new')"
   ]
  },
  {
   "cell_type": "code",
   "execution_count": 62,
   "id": "539a121f",
   "metadata": {},
   "outputs": [],
   "source": [
    "screen_width = 110"
   ]
  },
  {
   "cell_type": "code",
   "execution_count": 63,
   "id": "bb2ba899",
   "metadata": {
    "scrolled": false
   },
   "outputs": [
    {
     "name": "stdout",
     "output_type": "stream",
     "text": [
      "                                            testing something new                                             \n"
     ]
    }
   ],
   "source": [
    "print('testing something new'.center(screen_width))"
   ]
  },
  {
   "cell_type": "code",
   "execution_count": 67,
   "id": "5a43875d",
   "metadata": {},
   "outputs": [],
   "source": [
    "def banner_text(text):\n",
    "    screen_width = 110\n",
    "    if len(text) > screen_width - 4:\n",
    "        print('THE TEXT IS TOO LONG TO FIT IN THE SPECIFIED WIDTH.')\n",
    "    \n",
    "    elif text == '*':\n",
    "        print('*' * screen_width)\n",
    "        \n",
    "    else:\n",
    "        centered_text = text.center(screen_width - 4)\n",
    "        output_string = f'**{centered_text}**'\n",
    "        print(output_string)\n",
    "        \n",
    "        \n",
    "# 4 is subtracted from the screen width because we're printing 4 asterisks - 2 each side of the text. "
   ]
  },
  {
   "cell_type": "code",
   "execution_count": 70,
   "id": "0033fc96",
   "metadata": {},
   "outputs": [
    {
     "name": "stdout",
     "output_type": "stream",
     "text": [
      "**************************************************************************************************************\n",
      "**                                Always look on the bright side of life...                                 **\n",
      "**                                  Laugh and smile and sing and dance...                                   **\n",
      "**                                                                                                          **\n",
      "**************************************************************************************************************\n"
     ]
    }
   ],
   "source": [
    "banner_text('*')\n",
    "banner_text('Always look on the bright side of life...')\n",
    "banner_text('Laugh and smile and sing and dance...')\n",
    "banner_text('  ')\n",
    "banner_text('*')"
   ]
  },
  {
   "cell_type": "markdown",
   "id": "8653db15",
   "metadata": {},
   "source": [
    "So our banner_text function is designed, or intended to perform an action, not to return a result."
   ]
  },
  {
   "cell_type": "markdown",
   "id": "9a01fb4a",
   "metadata": {},
   "source": [
    "___"
   ]
  },
  {
   "cell_type": "code",
   "execution_count": 72,
   "id": "76e18fc0",
   "metadata": {},
   "outputs": [
    {
     "name": "stdout",
     "output_type": "stream",
     "text": [
      "None\n"
     ]
    }
   ],
   "source": [
    "numbers = [3, 5, 6, 4]\n",
    "print(numbers.sort())"
   ]
  },
  {
   "cell_type": "markdown",
   "id": "ff796190",
   "metadata": {},
   "source": [
    "__!!! The dot sort method sorts the list in place. So it's performing an action, sorting the list here, and doesn't return a useful value, and that's why we've got None in the output.__"
   ]
  },
  {
   "cell_type": "code",
   "execution_count": 73,
   "id": "2da0290f",
   "metadata": {},
   "outputs": [
    {
     "name": "stdout",
     "output_type": "stream",
     "text": [
      "[3, 4, 5, 6]\n"
     ]
    }
   ],
   "source": [
    "print(numbers)"
   ]
  },
  {
   "cell_type": "markdown",
   "id": "e695a77e",
   "metadata": {},
   "source": [
    "__Not all functions return something useful - some functions perform an action, rather than producing a value.__"
   ]
  },
  {
   "cell_type": "markdown",
   "id": "9f53a424",
   "metadata": {},
   "source": [
    "___"
   ]
  },
  {
   "cell_type": "markdown",
   "id": "a91baea9",
   "metadata": {},
   "source": [
    "#### Handling invalid arguments"
   ]
  },
  {
   "cell_type": "code",
   "execution_count": 97,
   "id": "d392a792",
   "metadata": {},
   "outputs": [],
   "source": [
    "def banner_text(text):\n",
    "    screen_width = 50\n",
    "    if len(text) > screen_width - 4:\n",
    "        raise ValueError('String {0} is larger than specified width {1}'\n",
    "                        .format(text, screen_width))\n",
    "    elif text == '*':\n",
    "        print('*' * screen_width)\n",
    "    else:\n",
    "        centered_text = text.center(screen_width - 4)\n",
    "        output_string = f'**{centered_text}**'\n",
    "        print(output_string)"
   ]
  },
  {
   "cell_type": "code",
   "execution_count": 98,
   "id": "d71fb76d",
   "metadata": {},
   "outputs": [
    {
     "name": "stdout",
     "output_type": "stream",
     "text": [
      "**************************************************\n",
      "**  Always look on the bright side of life...   **\n"
     ]
    },
    {
     "ename": "ValueError",
     "evalue": "String aaaaaaaaaaaaaaaaaaaaaaaaaaaaaaaaaaaaaaaaaaaaaaaaaaaaaaaaaaaaaaaaaaaaaaaaaaaaaaaaaaaaaaaaaaaaaaaaaaaaaaaaaaaaaaaaaaaaaaaaaaaaaaaaaaaaaaaaaaaaaaaaaaaaaaaaaaaaaaaaaaaaaaaaaa is larger than specified width 50",
     "output_type": "error",
     "traceback": [
      "\u001b[1;31m---------------------------------------------------------------------------\u001b[0m",
      "\u001b[1;31mValueError\u001b[0m                                Traceback (most recent call last)",
      "\u001b[1;32m<ipython-input-98-158e1cc2fb28>\u001b[0m in \u001b[0;36m<module>\u001b[1;34m\u001b[0m\n\u001b[0;32m      1\u001b[0m \u001b[0mbanner_text\u001b[0m\u001b[1;33m(\u001b[0m\u001b[1;34m'*'\u001b[0m\u001b[1;33m)\u001b[0m\u001b[1;33m\u001b[0m\u001b[1;33m\u001b[0m\u001b[0m\n\u001b[0;32m      2\u001b[0m \u001b[0mbanner_text\u001b[0m\u001b[1;33m(\u001b[0m\u001b[1;34m'Always look on the bright side of life...'\u001b[0m\u001b[1;33m)\u001b[0m\u001b[1;33m\u001b[0m\u001b[1;33m\u001b[0m\u001b[0m\n\u001b[1;32m----> 3\u001b[1;33m \u001b[0mbanner_text\u001b[0m\u001b[1;33m(\u001b[0m\u001b[1;34m'a'\u001b[0m \u001b[1;33m*\u001b[0m \u001b[1;36m170\u001b[0m\u001b[1;33m)\u001b[0m\u001b[1;33m\u001b[0m\u001b[1;33m\u001b[0m\u001b[0m\n\u001b[0m\u001b[0;32m      4\u001b[0m \u001b[0mbanner_text\u001b[0m\u001b[1;33m(\u001b[0m\u001b[1;34m'Laugh and smile and sing and dance...'\u001b[0m\u001b[1;33m)\u001b[0m\u001b[1;33m\u001b[0m\u001b[1;33m\u001b[0m\u001b[0m\n\u001b[0;32m      5\u001b[0m \u001b[0mbanner_text\u001b[0m\u001b[1;33m(\u001b[0m\u001b[1;34m'  '\u001b[0m\u001b[1;33m)\u001b[0m\u001b[1;33m\u001b[0m\u001b[1;33m\u001b[0m\u001b[0m\n",
      "\u001b[1;32m<ipython-input-97-809f8b9a6e4c>\u001b[0m in \u001b[0;36mbanner_text\u001b[1;34m(text)\u001b[0m\n\u001b[0;32m      3\u001b[0m     \u001b[1;32mif\u001b[0m \u001b[0mlen\u001b[0m\u001b[1;33m(\u001b[0m\u001b[0mtext\u001b[0m\u001b[1;33m)\u001b[0m \u001b[1;33m>\u001b[0m \u001b[0mscreen_width\u001b[0m \u001b[1;33m-\u001b[0m \u001b[1;36m4\u001b[0m\u001b[1;33m:\u001b[0m\u001b[1;33m\u001b[0m\u001b[1;33m\u001b[0m\u001b[0m\n\u001b[0;32m      4\u001b[0m         raise ValueError('String {0} is larger than specified width {1}'\n\u001b[1;32m----> 5\u001b[1;33m                         .format(text, screen_width))\n\u001b[0m\u001b[0;32m      6\u001b[0m     \u001b[1;32melif\u001b[0m \u001b[0mtext\u001b[0m \u001b[1;33m==\u001b[0m \u001b[1;34m'*'\u001b[0m\u001b[1;33m:\u001b[0m\u001b[1;33m\u001b[0m\u001b[1;33m\u001b[0m\u001b[0m\n\u001b[0;32m      7\u001b[0m         \u001b[0mprint\u001b[0m\u001b[1;33m(\u001b[0m\u001b[1;34m'*'\u001b[0m \u001b[1;33m*\u001b[0m \u001b[0mscreen_width\u001b[0m\u001b[1;33m)\u001b[0m\u001b[1;33m\u001b[0m\u001b[1;33m\u001b[0m\u001b[0m\n",
      "\u001b[1;31mValueError\u001b[0m: String aaaaaaaaaaaaaaaaaaaaaaaaaaaaaaaaaaaaaaaaaaaaaaaaaaaaaaaaaaaaaaaaaaaaaaaaaaaaaaaaaaaaaaaaaaaaaaaaaaaaaaaaaaaaaaaaaaaaaaaaaaaaaaaaaaaaaaaaaaaaaaaaaaaaaaaaaaaaaaaaaaaaaaaaaa is larger than specified width 50"
     ]
    }
   ],
   "source": [
    "banner_text('*')\n",
    "banner_text('Always look on the bright side of life...')\n",
    "banner_text('a' * 170)\n",
    "banner_text('Laugh and smile and sing and dance...')\n",
    "banner_text('  ')\n",
    "banner_text('*')"
   ]
  },
  {
   "cell_type": "markdown",
   "id": "7bb42544",
   "metadata": {},
   "source": [
    "__keyword raise__ - _that's how you raise an exception in Python_"
   ]
  },
  {
   "cell_type": "markdown",
   "id": "a71de60a",
   "metadata": {},
   "source": [
    "https://docs.python.org/3/library/exceptions.html"
   ]
  },
  {
   "cell_type": "markdown",
   "id": "72711e62",
   "metadata": {},
   "source": [
    "___"
   ]
  },
  {
   "cell_type": "markdown",
   "id": "49215aac",
   "metadata": {},
   "source": [
    "___"
   ]
  },
  {
   "cell_type": "markdown",
   "id": "43552819",
   "metadata": {},
   "source": [
    "__Default parameter values__"
   ]
  },
  {
   "cell_type": "markdown",
   "id": "62d18c29",
   "metadata": {},
   "source": [
    "If a function defines two positional parameters, then you must provide two arguments when calling it.\n",
    "<br> __UNLESS__ the parameters have default values. If you provide a default value for a parameter, then it's not necessary to provide a corresponding argument for it."
   ]
  },
  {
   "cell_type": "code",
   "execution_count": 87,
   "id": "806488b1",
   "metadata": {},
   "outputs": [],
   "source": [
    "def banner_text(text, screen_width=80):\n",
    "    if len(text) > screen_width - 4:\n",
    "        raise ValueError('String {0} is larger than specified width {1}'\n",
    "                        .format(text, screen_width))\n",
    "    elif text == '*':\n",
    "        print('*' * screen_width)\n",
    "    else:\n",
    "        centered_text = text.center(screen_width - 4)\n",
    "        output_string = f'**{centered_text}**'\n",
    "        print(output_string)"
   ]
  },
  {
   "cell_type": "markdown",
   "id": "6c8a48f5",
   "metadata": {},
   "source": [
    "#### It's usual not to put a space either side of the equals, when providing default values."
   ]
  },
  {
   "cell_type": "code",
   "execution_count": 90,
   "id": "a9d3a0ac",
   "metadata": {},
   "outputs": [
    {
     "name": "stdout",
     "output_type": "stream",
     "text": [
      "********************************************************************************\n",
      "**                 Always look on the bright side of life...                  **\n",
      "********************************************************************************\n",
      "**************************************************************************************************************\n",
      "**                                Always look on the bright side of life...                                 **\n",
      "**************************************************************************************************************\n"
     ]
    }
   ],
   "source": [
    "banner_text('*')\n",
    "banner_text('Always look on the bright side of life...')\n",
    "banner_text('*')\n",
    "\n",
    "banner_text('*', 110)\n",
    "banner_text('Always look on the bright side of life...', 110)\n",
    "banner_text('*', 110)"
   ]
  },
  {
   "cell_type": "markdown",
   "id": "1dbcebae",
   "metadata": {},
   "source": [
    "So if we call our function without providing an argument for the screen width, the default value of 80 will be used."
   ]
  },
  {
   "cell_type": "markdown",
   "id": "745d4def",
   "metadata": {},
   "source": [
    "___"
   ]
  },
  {
   "cell_type": "markdown",
   "id": "635a0a01",
   "metadata": {},
   "source": [
    "__Keyword arguments__"
   ]
  },
  {
   "cell_type": "code",
   "execution_count": 99,
   "id": "efe02cdd",
   "metadata": {},
   "outputs": [],
   "source": [
    "def banner_text(text, screen_width=80):\n",
    "    if len(text) > screen_width - 4:\n",
    "        raise ValueError('String {0} is larger than specified width {1}'\n",
    "                        .format(text, screen_width))\n",
    "    elif text == '*':\n",
    "        print('*' * screen_width)\n",
    "    else:\n",
    "        centered_text = text.center(screen_width - 4)\n",
    "        output_string = f'**{centered_text}**'\n",
    "        print(output_string)"
   ]
  },
  {
   "cell_type": "code",
   "execution_count": 101,
   "id": "c93952cb",
   "metadata": {},
   "outputs": [
    {
     "name": "stdout",
     "output_type": "stream",
     "text": [
      "********************************************************************************\n",
      "**                 Always look on the bright side of life...                  **\n"
     ]
    },
    {
     "ename": "TypeError",
     "evalue": "banner_text() missing 1 required positional argument: 'text'",
     "output_type": "error",
     "traceback": [
      "\u001b[1;31m---------------------------------------------------------------------------\u001b[0m",
      "\u001b[1;31mTypeError\u001b[0m                                 Traceback (most recent call last)",
      "\u001b[1;32m<ipython-input-101-1072a4ad296e>\u001b[0m in \u001b[0;36m<module>\u001b[1;34m\u001b[0m\n\u001b[0;32m      1\u001b[0m \u001b[0mbanner_text\u001b[0m\u001b[1;33m(\u001b[0m\u001b[1;34m'*'\u001b[0m\u001b[1;33m)\u001b[0m\u001b[1;33m\u001b[0m\u001b[1;33m\u001b[0m\u001b[0m\n\u001b[0;32m      2\u001b[0m \u001b[0mbanner_text\u001b[0m\u001b[1;33m(\u001b[0m\u001b[1;34m'Always look on the bright side of life...'\u001b[0m\u001b[1;33m)\u001b[0m\u001b[1;33m\u001b[0m\u001b[1;33m\u001b[0m\u001b[0m\n\u001b[1;32m----> 3\u001b[1;33m \u001b[0mbanner_text\u001b[0m\u001b[1;33m(\u001b[0m\u001b[1;33m)\u001b[0m \u001b[1;31m# In this case, the error's because we're not passing any text to the function, and it requires some text.\u001b[0m\u001b[1;33m\u001b[0m\u001b[1;33m\u001b[0m\u001b[0m\n\u001b[0m\u001b[0;32m      4\u001b[0m \u001b[0mbanner_text\u001b[0m\u001b[1;33m(\u001b[0m\u001b[1;34m'*'\u001b[0m\u001b[1;33m)\u001b[0m\u001b[1;33m\u001b[0m\u001b[1;33m\u001b[0m\u001b[0m\n",
      "\u001b[1;31mTypeError\u001b[0m: banner_text() missing 1 required positional argument: 'text'"
     ]
    }
   ],
   "source": [
    "banner_text('*')\n",
    "banner_text('Always look on the bright side of life...')\n",
    "banner_text() # In this case, the error's because we're not passing any text to the function, and it requires some text. \n",
    "banner_text('*')"
   ]
  },
  {
   "cell_type": "code",
   "execution_count": 102,
   "id": "9fa40b1e",
   "metadata": {},
   "outputs": [],
   "source": [
    "# To fix that, we can provide a default value for the text parameter.\n",
    "\n",
    "def banner_text(text=' ', screen_width=80):\n",
    "    if len(text) > screen_width - 4:\n",
    "        raise ValueError('String {0} is larger than specified width {1}'\n",
    "                        .format(text, screen_width))\n",
    "    elif text == '*':\n",
    "        print('*' * screen_width)\n",
    "    else:\n",
    "        centered_text = text.center(screen_width - 4)\n",
    "        output_string = f'**{centered_text}**'\n",
    "        print(output_string)"
   ]
  },
  {
   "cell_type": "code",
   "execution_count": 104,
   "id": "04c45644",
   "metadata": {},
   "outputs": [
    {
     "name": "stdout",
     "output_type": "stream",
     "text": [
      "********************************************************************************\n",
      "**                 Always look on the bright side of life...                  **\n",
      "**                                                                            **\n",
      "********************************************************************************\n"
     ]
    }
   ],
   "source": [
    "banner_text('*')\n",
    "banner_text('Always look on the bright side of life...')\n",
    "banner_text()\n",
    "banner_text('*')\n",
    "\n",
    "# You don't have to remember to use a space, when you want to include a blank line in the banner."
   ]
  },
  {
   "cell_type": "markdown",
   "id": "23e1c7ae",
   "metadata": {},
   "source": [
    "___"
   ]
  },
  {
   "cell_type": "markdown",
   "id": "69638f09",
   "metadata": {},
   "source": [
    "- Now I'm going to change the width of our banner to 60 characters."
   ]
  },
  {
   "cell_type": "code",
   "execution_count": 105,
   "id": "74a8a872",
   "metadata": {},
   "outputs": [
    {
     "ename": "SyntaxError",
     "evalue": "invalid syntax (<ipython-input-105-c57994d2e9ce>, line 3)",
     "output_type": "error",
     "traceback": [
      "\u001b[1;36m  File \u001b[1;32m\"<ipython-input-105-c57994d2e9ce>\"\u001b[1;36m, line \u001b[1;32m3\u001b[0m\n\u001b[1;33m    banner_text(, 60) # So we want to provide a value for screen width,\u001b[0m\n\u001b[1;37m                ^\u001b[0m\n\u001b[1;31mSyntaxError\u001b[0m\u001b[1;31m:\u001b[0m invalid syntax\n"
     ]
    }
   ],
   "source": [
    "banner_text('*', 60)\n",
    "banner_text('Always look on the bright side of life...', 60)\n",
    "banner_text(, 60) # So we want to provide a value for screen width, \n",
    "                  # but we also want to use the default value for the text argument.\n",
    "banner_text('*', 60)"
   ]
  },
  {
   "cell_type": "markdown",
   "id": "5d67954c",
   "metadata": {},
   "source": [
    "Now, obviously, we can't just leave the text argument blank - that gives us an error. \n",
    "<br> This is why keyword arguments are useful. We can specify which parameter we want that 60 argument to be used for, by naming it."
   ]
  },
  {
   "cell_type": "code",
   "execution_count": 106,
   "id": "9713544f",
   "metadata": {},
   "outputs": [
    {
     "name": "stdout",
     "output_type": "stream",
     "text": [
      "************************************************************\n",
      "**       Always look on the bright side of life...        **\n",
      "**                                                        **\n",
      "************************************************************\n"
     ]
    }
   ],
   "source": [
    "banner_text('*', 60)\n",
    "banner_text('Always look on the bright side of life...', 60)\n",
    "banner_text(screen_width=60) # So we want to provide a value for screen width, \n",
    "                  # but we also want to use the default value for the text argument.\n",
    "banner_text('*', 60)"
   ]
  },
  {
   "cell_type": "markdown",
   "id": "e5a1f1eb",
   "metadata": {},
   "source": [
    "___"
   ]
  },
  {
   "cell_type": "markdown",
   "id": "09dbfe69",
   "metadata": {},
   "source": [
    "__positional arguments__ - where the arguments are used to provide a value for the parameter in the same position. \n",
    "<br>__keyword arguments__ - where you specify the parameter name when you pass an argument."
   ]
  },
  {
   "cell_type": "markdown",
   "id": "e9249c37",
   "metadata": {},
   "source": [
    "___"
   ]
  },
  {
   "cell_type": "markdown",
   "id": "cecdc51e",
   "metadata": {},
   "source": [
    "### Writing a Docstring (documentation)"
   ]
  },
  {
   "cell_type": "markdown",
   "id": "82757e1d",
   "metadata": {},
   "source": [
    "https://google.github.io/styleguide/pyguide.html#38-comments-and-docstrings"
   ]
  },
  {
   "cell_type": "markdown",
   "id": "78c491a0",
   "metadata": {},
   "source": [
    "Always use the three double-quote \"\"\" format for docstrings.\n",
    "<br>A docstring is a string that is the first statement in a package, module, class or function.\n",
    "<br>So the first line is a short descriptive comment, explaining what our function is for - its purpose, in other words."
   ]
  },
  {
   "cell_type": "code",
   "execution_count": 112,
   "id": "1a0d08d0",
   "metadata": {},
   "outputs": [],
   "source": [
    "def get_integer(prompt):\n",
    "    \"\"\"\n",
    "    Get an integer from Standard Input (stdin).\n",
    "    \n",
    "    The function will continue looping, and prompting\n",
    "    the user, until a valid `int` is entered.\n",
    "    \n",
    "    param:\n",
    "        prompt: The string that the user will see, when\n",
    "            they're prompted to enter the value.\n",
    "    return:\n",
    "        The integer that the user enters.\n",
    "    \"\"\"\n",
    "    while True:\n",
    "        temp = input(prompt)\n",
    "        if temp.isnumeric():\n",
    "            return int(temp)\n",
    "        print(f'{temp} isn\\'t a valid number')"
   ]
  },
  {
   "cell_type": "code",
   "execution_count": 113,
   "id": "3d014c5a",
   "metadata": {},
   "outputs": [],
   "source": [
    "# Anyone calling this function will want to know that it won't exit without a valid integer."
   ]
  },
  {
   "cell_type": "markdown",
   "id": "2864ad2d",
   "metadata": {},
   "source": [
    "Notice that there's no blank line between the end of triple quotes and the start of the code."
   ]
  },
  {
   "cell_type": "markdown",
   "id": "8c4d5e4b",
   "metadata": {},
   "source": [
    "__<u>click on get_integer and use Shift_Tab to see the documentation.__"
   ]
  },
  {
   "cell_type": "code",
   "execution_count": 114,
   "id": "efb055e0",
   "metadata": {},
   "outputs": [
    {
     "name": "stdout",
     "output_type": "stream",
     "text": [
      ": 7\n"
     ]
    }
   ],
   "source": [
    "guess = get_integer(': ')"
   ]
  },
  {
   "cell_type": "markdown",
   "id": "68c1622f",
   "metadata": {},
   "source": [
    "___"
   ]
  },
  {
   "cell_type": "markdown",
   "id": "5ea91ccb",
   "metadata": {},
   "source": [
    "Each __.py__ file that you create becomes a new Python __module__."
   ]
  },
  {
   "cell_type": "markdown",
   "id": "81d2e56c",
   "metadata": {},
   "source": [
    "Python Docstrings appear __inside__ the function. They become an __attribute__ of the function. "
   ]
  },
  {
   "cell_type": "code",
   "execution_count": 117,
   "id": "080d0c1d",
   "metadata": {},
   "outputs": [
    {
     "name": "stdout",
     "output_type": "stream",
     "text": [
      "Forward raw_input to frontends\n",
      "\n",
      "        Raises\n",
      "        ------\n",
      "        StdinNotImplentedError if active frontend doesn't support stdin.\n",
      "        \n"
     ]
    }
   ],
   "source": [
    "print(input.__doc__)"
   ]
  },
  {
   "cell_type": "code",
   "execution_count": 118,
   "id": "48b7d377",
   "metadata": {},
   "outputs": [
    {
     "name": "stdout",
     "output_type": "stream",
     "text": [
      "\n",
      "    Get an integer from Standard Input (stdin).\n",
      "    \n",
      "    The function will continue looping, and prompting\n",
      "    the user, until a valid `int` is entered.\n",
      "    \n",
      "    param:\n",
      "        prompt: The string that the user will see, when\n",
      "            they're prompted to enter the value.\n",
      "    return:\n",
      "        The integer that the user enters.\n",
      "    \n"
     ]
    }
   ],
   "source": [
    "print(get_integer.__doc__)"
   ]
  },
  {
   "cell_type": "markdown",
   "id": "62016fbc",
   "metadata": {},
   "source": [
    "We're not calling the functions here - we're referring their attributes.\n",
    "<br>That means that we don't use parentheses after the function name.\n",
    "\n"
   ]
  },
  {
   "cell_type": "markdown",
   "id": "3d9b4cdb",
   "metadata": {},
   "source": [
    "__or__"
   ]
  },
  {
   "cell_type": "code",
   "execution_count": 119,
   "id": "698af6e5",
   "metadata": {},
   "outputs": [
    {
     "name": "stdout",
     "output_type": "stream",
     "text": [
      "Help on function get_integer in module __main__:\n",
      "\n",
      "get_integer(prompt)\n",
      "    Get an integer from Standard Input (stdin).\n",
      "    \n",
      "    The function will continue looping, and prompting\n",
      "    the user, until a valid `int` is entered.\n",
      "    \n",
      "    param:\n",
      "        prompt: The string that the user will see, when\n",
      "            they're prompted to enter the value.\n",
      "    return:\n",
      "        The integer that the user enters.\n",
      "\n"
     ]
    }
   ],
   "source": [
    "help(get_integer)"
   ]
  },
  {
   "cell_type": "markdown",
   "id": "49e4aad7",
   "metadata": {},
   "source": [
    "___"
   ]
  },
  {
   "cell_type": "markdown",
   "id": "a60d6fd6",
   "metadata": {},
   "source": [
    "### Examples of Docstrings"
   ]
  },
  {
   "cell_type": "code",
   "execution_count": 125,
   "id": "41856e81",
   "metadata": {},
   "outputs": [],
   "source": [
    "def multiply(x, y):\n",
    "    \"\"\"\n",
    "    Multiply 2 numbers.\n",
    " \n",
    "    Although this function is intended to multiply 2 numbers,\n",
    "    you can also use it to multiply a sequence.  If you pass\n",
    "    a string, for example, as the first argument, you'll get\n",
    "    the string repeated `y` times as the returned value.\n",
    " \n",
    "    :param x: The first number to multiply.\n",
    "    :param y: The number to multiply `x` by.\n",
    "    :return: The product of `x` and `y`.\n",
    "    \"\"\"\n",
    "    result = x * y\n",
    "    return result"
   ]
  },
  {
   "cell_type": "code",
   "execution_count": 126,
   "id": "b9dd038b",
   "metadata": {},
   "outputs": [
    {
     "data": {
      "text/plain": [
       "12"
      ]
     },
     "execution_count": 126,
     "metadata": {},
     "output_type": "execute_result"
    }
   ],
   "source": [
    "multiply(3, 4) # shift_tab"
   ]
  },
  {
   "cell_type": "code",
   "execution_count": 127,
   "id": "cd8d501c",
   "metadata": {},
   "outputs": [
    {
     "data": {
      "text/plain": [
       "[1, 2, 1, 2, 1, 2]"
      ]
     },
     "execution_count": 127,
     "metadata": {},
     "output_type": "execute_result"
    }
   ],
   "source": [
    "[1, 2] * 3"
   ]
  },
  {
   "cell_type": "code",
   "execution_count": 128,
   "id": "35a12c59",
   "metadata": {},
   "outputs": [
    {
     "ename": "TypeError",
     "evalue": "can't multiply sequence by non-int of type 'list'",
     "output_type": "error",
     "traceback": [
      "\u001b[1;31m---------------------------------------------------------------------------\u001b[0m",
      "\u001b[1;31mTypeError\u001b[0m                                 Traceback (most recent call last)",
      "\u001b[1;32m<ipython-input-128-15d927583020>\u001b[0m in \u001b[0;36m<module>\u001b[1;34m\u001b[0m\n\u001b[1;32m----> 1\u001b[1;33m \u001b[1;33m[\u001b[0m\u001b[1;36m1\u001b[0m\u001b[1;33m,\u001b[0m \u001b[1;36m3\u001b[0m\u001b[1;33m]\u001b[0m \u001b[1;33m*\u001b[0m \u001b[1;33m[\u001b[0m\u001b[1;36m1\u001b[0m\u001b[1;33m,\u001b[0m \u001b[1;36m2\u001b[0m\u001b[1;33m]\u001b[0m\u001b[1;33m\u001b[0m\u001b[1;33m\u001b[0m\u001b[0m\n\u001b[0m",
      "\u001b[1;31mTypeError\u001b[0m: can't multiply sequence by non-int of type 'list'"
     ]
    }
   ],
   "source": [
    "[1, 3] * [1, 2]"
   ]
  },
  {
   "cell_type": "markdown",
   "id": "0850182f",
   "metadata": {},
   "source": [
    "___"
   ]
  },
  {
   "cell_type": "code",
   "execution_count": 130,
   "id": "da4331f8",
   "metadata": {},
   "outputs": [],
   "source": [
    "def is_palindrome(string):\n",
    "    \"\"\"\n",
    "    Check if a string is a palindrome.\n",
    " \n",
    "    A palindrome is a string that reads the same forwards as backwards.\n",
    " \n",
    "    :param string: The string to check.\n",
    "    :return: True if `string` is a palindrome, False otherwise.\n",
    "    \"\"\"\n",
    "    return string[::-1].casefold() == string.casefold()"
   ]
  },
  {
   "cell_type": "markdown",
   "id": "f2e6b972",
   "metadata": {},
   "source": [
    "___"
   ]
  },
  {
   "cell_type": "code",
   "execution_count": 131,
   "id": "6e30213e",
   "metadata": {},
   "outputs": [],
   "source": [
    "def palindrome_sentence(sentence):\n",
    "    \"\"\"\n",
    "    Check if a sentence is a palindrome.\n",
    " \n",
    "    The function ignores whitespace, capitalisation and\n",
    "    punctuation in the sentence.\n",
    " \n",
    "    :param sentence: The sentence to check.\n",
    "    :return: True if `sentence` is a palindrome, False otherwise.\n",
    "    \"\"\"\n",
    "    string = \"\"\n",
    "    for char in sentence:\n",
    "        if char.isalnum():\n",
    "            string += char\n",
    "    return is_palindrome(string)"
   ]
  },
  {
   "cell_type": "markdown",
   "id": "0a2a8b2b",
   "metadata": {},
   "source": [
    "____"
   ]
  },
  {
   "cell_type": "markdown",
   "id": "9c0ac11c",
   "metadata": {},
   "source": [
    "### Fibonacci Numbers"
   ]
  },
  {
   "cell_type": "markdown",
   "id": "b7ac8ab7",
   "metadata": {},
   "source": [
    "The Fibonacci sequence is a series of numbers in which each number is the sum of the two that precede it.\n",
    "<br>Starting at 0 and 1, the sequence looks like this: 0, 1, 1, 2, 3, 5, 8, 13, 21, 34, and so on forever.\n",
    "<br>The Fibonacci sequence can be described using a mathematical equation: Xn+2= Xn+1 + Xn"
   ]
  },
  {
   "cell_type": "code",
   "execution_count": 142,
   "id": "35f9cf09",
   "metadata": {},
   "outputs": [
    {
     "data": {
      "text/plain": [
       "[0, 1, 1, 2, 3, 5, 8, 13, 21, 34, 55, 89, 144, 233, 377, 610, 987, 1597, 2584]"
      ]
     },
     "execution_count": 142,
     "metadata": {},
     "output_type": "execute_result"
    }
   ],
   "source": [
    "# my solution\n",
    "\n",
    "fib = [0, 1]\n",
    "while True:\n",
    "    sumPrec = fib[-1] + fib[-2]\n",
    "    fib.append(sumPrec)\n",
    "    if sumPrec > 2000:\n",
    "        break   \n",
    "        \n",
    "fib"
   ]
  },
  {
   "cell_type": "code",
   "execution_count": 158,
   "id": "d63ee695",
   "metadata": {},
   "outputs": [],
   "source": [
    "def fibonacci(n):\n",
    "    \"\"\"Return the `n`th Fibonacci number for positive `n`.\"\"\"\n",
    "    if 0 <= n <= 1:\n",
    "        return n\n",
    "    \n",
    "    n_minus1, n_minus2 = 1, 0\n",
    "    \n",
    "    for f in range(n - 1):\n",
    "        result = n_minus2 + n_minus1\n",
    "        n_minus2 = n_minus1\n",
    "        n_minus1 = result\n",
    "    \n",
    "    return result"
   ]
  },
  {
   "cell_type": "code",
   "execution_count": 159,
   "id": "868d7a73",
   "metadata": {},
   "outputs": [
    {
     "data": {
      "text/plain": [
       "2584"
      ]
     },
     "execution_count": 159,
     "metadata": {},
     "output_type": "execute_result"
    }
   ],
   "source": [
    "fibonacci(18)"
   ]
  },
  {
   "cell_type": "code",
   "execution_count": 160,
   "id": "78157221",
   "metadata": {},
   "outputs": [
    {
     "name": "stdout",
     "output_type": "stream",
     "text": [
      "0 0\n",
      "1 1\n",
      "2 1\n",
      "3 2\n",
      "4 3\n",
      "5 5\n",
      "6 8\n",
      "7 13\n",
      "8 21\n",
      "9 34\n",
      "10 55\n",
      "11 89\n",
      "12 144\n",
      "13 233\n",
      "14 377\n",
      "15 610\n",
      "16 987\n",
      "17 1597\n",
      "18 2584\n"
     ]
    }
   ],
   "source": [
    "for i in range(19):\n",
    "    print(i, fibonacci(i))"
   ]
  },
  {
   "cell_type": "markdown",
   "id": "98b5f2c7",
   "metadata": {},
   "source": [
    "___"
   ]
  },
  {
   "cell_type": "markdown",
   "id": "b6e312c8",
   "metadata": {},
   "source": [
    "#### Function annotations and type hints"
   ]
  },
  {
   "cell_type": "code",
   "execution_count": null,
   "id": "97a2a755",
   "metadata": {},
   "outputs": [],
   "source": []
  }
 ],
 "metadata": {
  "kernelspec": {
   "display_name": "Python 3",
   "language": "python",
   "name": "python3"
  },
  "language_info": {
   "codemirror_mode": {
    "name": "ipython",
    "version": 3
   },
   "file_extension": ".py",
   "mimetype": "text/x-python",
   "name": "python",
   "nbconvert_exporter": "python",
   "pygments_lexer": "ipython3",
   "version": "3.7.11"
  }
 },
 "nbformat": 4,
 "nbformat_minor": 5
}
