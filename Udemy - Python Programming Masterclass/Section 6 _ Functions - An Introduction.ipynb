{
 "cells": [
  {
   "cell_type": "markdown",
   "id": "0fdf6f84",
   "metadata": {},
   "source": [
    "A Python function definition starts with the **keyword def**."
   ]
  },
  {
   "cell_type": "code",
   "execution_count": 6,
   "id": "92155e80",
   "metadata": {},
   "outputs": [],
   "source": [
    "def multiply():\n",
    "    result = 10.5 * 4\n",
    "    return result\n",
    "\n",
    "# the numbers are hard coded\n",
    "# hard coding"
   ]
  },
  {
   "cell_type": "code",
   "execution_count": 5,
   "id": "4cafe3dd",
   "metadata": {},
   "outputs": [
    {
     "name": "stdout",
     "output_type": "stream",
     "text": [
      "42.0\n"
     ]
    }
   ],
   "source": [
    "answer = multiply()\n",
    "print(answer)\n",
    "\n",
    "# We multiplied an int by a float, so the result is a float."
   ]
  },
  {
   "cell_type": "markdown",
   "id": "51331407",
   "metadata": {},
   "source": [
    "It doesn't have any arguments, but we still need to include the parentheses, and because our function returns a value, we can bind the variable answer to the return value."
   ]
  },
  {
   "cell_type": "markdown",
   "id": "d80da73c",
   "metadata": {},
   "source": [
    "**The structure of a function**\n",
    "________________________________\n",
    "<br> - It starts with the Python keyword def - def is short for define. \n",
    "<br> - That's followed by the name of the function\n",
    "<br> - All function definitions have parentheses after the function name. \n",
    "<br> - You can also define parameters inside the parentheses"
   ]
  },
  {
   "cell_type": "markdown",
   "id": "12d7d6bf",
   "metadata": {},
   "source": [
    "____"
   ]
  },
  {
   "cell_type": "markdown",
   "id": "b9bd2342",
   "metadata": {},
   "source": [
    "**Make sure you leave two black lines, before and after your functions.**"
   ]
  },
  {
   "cell_type": "markdown",
   "id": "50563fdd",
   "metadata": {},
   "source": [
    "___"
   ]
  },
  {
   "cell_type": "markdown",
   "id": "a5eb159f",
   "metadata": {},
   "source": [
    "__Parameters__ are like placeholders for the real values that you'll pass to your function. \n",
    "<br> They're just variables, but they're given a value when you call the function. \n",
    "<br> You may also see them referred to as __formal parameters__.\n",
    "<br> You might also hear programmers refer to them as arguments. That's not strictly accurate. "
   ]
  },
  {
   "cell_type": "markdown",
   "id": "a8ee3021",
   "metadata": {},
   "source": [
    "___"
   ]
  },
  {
   "cell_type": "markdown",
   "id": "256bb97d",
   "metadata": {},
   "source": [
    "__Arguments__ are the values that will be used by __formal parameters__, when we call a function.\n",
    "<br> Each parameter must be given a value, by providing an __argument__ in the function call. \n",
    "<br> Providing values as arguments is called __passing__ the arguments.\n",
    "<br> If a function defines two parameters, we __pass__ two arguments to it when we call it. "
   ]
  },
  {
   "cell_type": "markdown",
   "id": "3f2a715a",
   "metadata": {},
   "source": [
    "___"
   ]
  },
  {
   "cell_type": "markdown",
   "id": "f8938d01",
   "metadata": {},
   "source": [
    "__A parameter is a variable that exists inside the function.__"
   ]
  },
  {
   "cell_type": "markdown",
   "id": "a0496d05",
   "metadata": {},
   "source": [
    "___"
   ]
  },
  {
   "cell_type": "markdown",
   "id": "0d08cd3a",
   "metadata": {},
   "source": [
    "https://en.wikipedia.org/wiki/Evaluation_strategy#Call_by_sharing"
   ]
  },
  {
   "cell_type": "code",
   "execution_count": 12,
   "id": "0c4b10cd",
   "metadata": {},
   "outputs": [
    {
     "name": "stdout",
     "output_type": "stream",
     "text": [
      "[1]\n"
     ]
    }
   ],
   "source": [
    "def f(a_list):\n",
    "    a_list.append(1)\n",
    "\n",
    "m = []\n",
    "f(m)\n",
    "print(m)"
   ]
  },
  {
   "cell_type": "markdown",
   "id": "6ffce138",
   "metadata": {},
   "source": [
    "outputs [1] because the append method modifies the object on which it is called."
   ]
  },
  {
   "cell_type": "code",
   "execution_count": 14,
   "id": "c070ddcf",
   "metadata": {},
   "outputs": [
    {
     "name": "stdout",
     "output_type": "stream",
     "text": [
      "None\n",
      "[]\n"
     ]
    }
   ],
   "source": [
    "# ???????????????????\n",
    "def f(a_list):\n",
    "    a_list = a_list + [1]\n",
    "\n",
    "m = []\n",
    "print(f(m))\n",
    "print(m)"
   ]
  },
  {
   "cell_type": "markdown",
   "id": "eb4d82b6",
   "metadata": {},
   "source": [
    "outputs [], because the statement a_list + [1] reassigns a new list to the variable rather than to the location it references."
   ]
  },
  {
   "cell_type": "markdown",
   "id": "b174dd8c",
   "metadata": {},
   "source": [
    "___"
   ]
  },
  {
   "cell_type": "markdown",
   "id": "92336f15",
   "metadata": {},
   "source": [
    "__scope__ - It's where a variable exists."
   ]
  },
  {
   "cell_type": "markdown",
   "id": "f02b91d4",
   "metadata": {},
   "source": [
    "__Parameters' scope is the function they're defined in.__"
   ]
  },
  {
   "cell_type": "code",
   "execution_count": 15,
   "id": "57abc83d",
   "metadata": {},
   "outputs": [],
   "source": [
    "def is_palindrome(string):\n",
    "    backwards = string[::-1]\n",
    "    return backwards == string\n",
    "\n",
    "# or shortly\n",
    "def is_palindrome(string):\n",
    "    return string[::-1] == string"
   ]
  },
  {
   "cell_type": "code",
   "execution_count": 17,
   "id": "5dd0b0ac",
   "metadata": {},
   "outputs": [
    {
     "name": "stdout",
     "output_type": "stream",
     "text": [
      "Please enter a word to check: racecar\n",
      "'racecar' is a palindrome.\n"
     ]
    }
   ],
   "source": [
    "word = input('Please enter a word to check: ')\n",
    "if is_palindrome(word):\n",
    "    print(f\"'{word}' is a palindrome.\")\n",
    "else:\n",
    "    print(\"'{}' is not a palindrome.\".format(word))"
   ]
  },
  {
   "cell_type": "code",
   "execution_count": 19,
   "id": "faf8cf82",
   "metadata": {},
   "outputs": [
    {
     "name": "stdout",
     "output_type": "stream",
     "text": [
      "Please enter a word to check: Radar\n",
      "'Radar' is not a palindrome.\n"
     ]
    }
   ],
   "source": [
    "word = input('Please enter a word to check: ')\n",
    "if is_palindrome(word):\n",
    "    print(f\"'{word}' is a palindrome.\")\n",
    "else:\n",
    "    print(\"'{}' is not a palindrome.\".format(word))"
   ]
  },
  {
   "cell_type": "code",
   "execution_count": 20,
   "id": "7e045223",
   "metadata": {},
   "outputs": [],
   "source": [
    "def is_palindrome(string):\n",
    "    return string[::-1].casefold() == string.casefold()"
   ]
  },
  {
   "cell_type": "code",
   "execution_count": 21,
   "id": "b6e6f980",
   "metadata": {},
   "outputs": [
    {
     "name": "stdout",
     "output_type": "stream",
     "text": [
      "Please enter a word to check: Radar\n",
      "'Radar' is a palindrome.\n"
     ]
    }
   ],
   "source": [
    "word = input('Please enter a word to check: ')\n",
    "if is_palindrome(word):\n",
    "    print(f\"'{word}' is a palindrome.\")\n",
    "else:\n",
    "    print(\"'{}' is not a palindrome.\".format(word))"
   ]
  },
  {
   "cell_type": "markdown",
   "id": "06a18e34",
   "metadata": {},
   "source": [
    "___"
   ]
  },
  {
   "cell_type": "markdown",
   "id": "b3ec072c",
   "metadata": {},
   "source": [
    "The Python ___isalpha()___ method returns true if a string __only contains letters__. Python ___isnumeric()___ returns true if all characters in a string are __numbers__. Python ___isalnum()___ only returns true if a string contains __alphanumeric characters, without symbols__."
   ]
  },
  {
   "cell_type": "code",
   "execution_count": 26,
   "id": "44ff0b38",
   "metadata": {},
   "outputs": [],
   "source": [
    "def palindrome_sentence(sentence):\n",
    "    string = \"\"\n",
    "    for char in sentence:\n",
    "        if char.isalnum():\n",
    "            string.join(char) # or string += char\n",
    "            \n",
    "    return string[::-1].casefold() == string.casefold()"
   ]
  },
  {
   "cell_type": "code",
   "execution_count": 24,
   "id": "3eaf7141",
   "metadata": {},
   "outputs": [
    {
     "name": "stdout",
     "output_type": "stream",
     "text": [
      "Please enter a word to check: Was it a car, or a cat, I saw\n",
      "'Was it a car, or a cat, I saw' is a palindrome.\n"
     ]
    }
   ],
   "source": [
    "# Was it a car, or a cat, I saw.\n",
    "# Do geese see god?\n",
    "\n",
    "word = input('Please enter a word to check: ')\n",
    "if palindrome_sentence(word):\n",
    "    print(f\"'{word}' is a palindrome.\")\n",
    "else:\n",
    "    print(\"'{}' is not a palindrome.\".format(word))"
   ]
  },
  {
   "cell_type": "code",
   "execution_count": 27,
   "id": "4ecdc9c5",
   "metadata": {},
   "outputs": [
    {
     "name": "stdout",
     "output_type": "stream",
     "text": [
      "Please enter a word to check: Radar\n",
      "'Radar' is a palindrome.\n"
     ]
    }
   ],
   "source": [
    "word = input('Please enter a word to check: ')\n",
    "if palindrome_sentence(word):\n",
    "    print(f\"'{word}' is a palindrome.\")\n",
    "else:\n",
    "    print(\"'{}' is not a palindrome.\".format(word))"
   ]
  },
  {
   "cell_type": "markdown",
   "id": "0d8dc74d",
   "metadata": {},
   "source": [
    "___"
   ]
  },
  {
   "cell_type": "markdown",
   "id": "d5a60cc6",
   "metadata": {},
   "source": [
    "#### Functions calling functions"
   ]
  },
  {
   "cell_type": "code",
   "execution_count": null,
   "id": "2e47bb92",
   "metadata": {},
   "outputs": [],
   "source": [
    "def is_palindrome(string):\n",
    "    return string[::-1].casefold() == string.casefold()"
   ]
  },
  {
   "cell_type": "code",
   "execution_count": 28,
   "id": "41e5c62e",
   "metadata": {},
   "outputs": [],
   "source": [
    "def palindrome_sentence(sentence):\n",
    "    string = \"\"\n",
    "    for char in sentence:\n",
    "        if char.isalnum():\n",
    "            string.join(char) # or string += char\n",
    "            \n",
    "    return is_palindrome(string)"
   ]
  },
  {
   "cell_type": "markdown",
   "id": "c0797631",
   "metadata": {},
   "source": [
    "___"
   ]
  },
  {
   "cell_type": "markdown",
   "id": "81c27930",
   "metadata": {},
   "source": [
    "* How to make sure the users input is numeric"
   ]
  },
  {
   "cell_type": "code",
   "execution_count": 37,
   "id": "2b150761",
   "metadata": {},
   "outputs": [
    {
     "name": "stdout",
     "output_type": "stream",
     "text": [
      "5\n",
      "'Tim'\n"
     ]
    },
    {
     "ename": "ValueError",
     "evalue": "invalid literal for int() with base 10: \"'Tim'\"",
     "output_type": "error",
     "traceback": [
      "\u001b[1;31m---------------------------------------------------------------------------\u001b[0m",
      "\u001b[1;31mValueError\u001b[0m                                Traceback (most recent call last)",
      "\u001b[1;32m<ipython-input-37-e5af4cf226da>\u001b[0m in \u001b[0;36m<module>\u001b[1;34m\u001b[0m\n\u001b[0;32m      8\u001b[0m \u001b[1;33m\u001b[0m\u001b[0m\n\u001b[0;32m      9\u001b[0m \u001b[1;32mwhile\u001b[0m \u001b[0mguess\u001b[0m \u001b[1;33m!=\u001b[0m \u001b[0manswer\u001b[0m\u001b[1;33m:\u001b[0m\u001b[1;33m\u001b[0m\u001b[1;33m\u001b[0m\u001b[0m\n\u001b[1;32m---> 10\u001b[1;33m     \u001b[0mguess\u001b[0m \u001b[1;33m=\u001b[0m \u001b[0mint\u001b[0m\u001b[1;33m(\u001b[0m\u001b[0minput\u001b[0m\u001b[1;33m(\u001b[0m\u001b[1;33m)\u001b[0m\u001b[1;33m)\u001b[0m\u001b[1;33m\u001b[0m\u001b[1;33m\u001b[0m\u001b[0m\n\u001b[0m\u001b[0;32m     11\u001b[0m     \u001b[1;32mif\u001b[0m \u001b[0mguess\u001b[0m \u001b[1;33m==\u001b[0m \u001b[1;36m0\u001b[0m\u001b[1;33m:\u001b[0m\u001b[1;33m\u001b[0m\u001b[1;33m\u001b[0m\u001b[0m\n\u001b[0;32m     12\u001b[0m         \u001b[1;32mbreak\u001b[0m\u001b[1;33m\u001b[0m\u001b[1;33m\u001b[0m\u001b[0m\n",
      "\u001b[1;31mValueError\u001b[0m: invalid literal for int() with base 10: \"'Tim'\""
     ]
    }
   ],
   "source": [
    "import random\n",
    "\n",
    "highest = 10\n",
    "answer = random.randint(1, highest)\n",
    "print(answer)\n",
    "\n",
    "guess = 0\n",
    "\n",
    "while guess != answer:\n",
    "    guess = int(input())\n",
    "    if guess == 0:\n",
    "        break\n",
    "    \n",
    "    if guess == answer:\n",
    "        print('Well done, you guessed it.')\n",
    "#         break\n",
    "    else:\n",
    "        if guess < answer:\n",
    "            print('Please guess higher')\n",
    "        else:\n",
    "            print('Please guess lower')"
   ]
  },
  {
   "cell_type": "code",
   "execution_count": 38,
   "id": "60bcc767",
   "metadata": {},
   "outputs": [
    {
     "name": "stdout",
     "output_type": "stream",
     "text": [
      "6\n",
      ": 4\n",
      "Please guess higher\n",
      ": 'Tim\n",
      ": Ann\n",
      ": Ruz\n",
      ": 3\n",
      "Please guess higher\n",
      ": 6\n",
      "Well done, you guessed it.\n"
     ]
    }
   ],
   "source": [
    "import random\n",
    "\n",
    "\n",
    "def get_integer(prompt):\n",
    "    while True:\n",
    "        temp = input(prompt)\n",
    "        if temp.isnumeric():\n",
    "            return int(temp)\n",
    "            \n",
    "            \n",
    "# The return statement causes execution to leave the function. \n",
    "#There's no need to use break here. \n",
    "#Return will cause the while loop to stop.\n",
    "\n",
    "\n",
    "highest = 10\n",
    "answer = random.randint(1, highest)\n",
    "print(answer)\n",
    "\n",
    "guess = 0\n",
    "\n",
    "while guess != answer:\n",
    "    guess = get_integer(': ')\n",
    "    if guess == 0:\n",
    "        break\n",
    "    \n",
    "    if guess == answer:\n",
    "        print('Well done, you guessed it.')\n",
    "#         break\n",
    "    else:\n",
    "        if guess < answer:\n",
    "            print('Please guess higher')\n",
    "        else:\n",
    "            print('Please guess lower')"
   ]
  },
  {
   "cell_type": "markdown",
   "id": "ca413ca4",
   "metadata": {},
   "source": [
    "___"
   ]
  },
  {
   "cell_type": "code",
   "execution_count": 39,
   "id": "b1c473fe",
   "metadata": {},
   "outputs": [
    {
     "name": "stdout",
     "output_type": "stream",
     "text": [
      "2\n",
      ": \"Ruz\"\n",
      "\"Ruz\" isn't a valid number\n",
      ": 2\n",
      "Well done, you guessed it.\n"
     ]
    }
   ],
   "source": [
    "# adding else block for inputted not valid numbers\n",
    "\n",
    "import random\n",
    "\n",
    "\n",
    "def get_integer(prompt):\n",
    "    while True:\n",
    "        temp = input(prompt)\n",
    "        if temp.isnumeric():\n",
    "            return int(temp)\n",
    "        else:  # !!!!!!!!!!!!!!!!!!!!!!!!!!!!!!!!!!!!!!!!!!!!!!!!!!!!!!!!!!!!!!!!!!!!!!!!!!!!!!!!\n",
    "            print(f'{temp} isn\\'t a valid number')\n",
    "            \n",
    "\n",
    "highest = 10\n",
    "answer = random.randint(1, highest)\n",
    "print(answer)\n",
    "\n",
    "guess = 0\n",
    "\n",
    "while guess != answer:\n",
    "    guess = get_integer(': ')\n",
    "    if guess == 0:\n",
    "        break\n",
    "    \n",
    "    if guess == answer:\n",
    "        print('Well done, you guessed it.')\n",
    "#         break\n",
    "    else:\n",
    "        if guess < answer:\n",
    "            print('Please guess higher')\n",
    "        else:\n",
    "            print('Please guess lower')"
   ]
  },
  {
   "cell_type": "markdown",
   "id": "3412c340",
   "metadata": {},
   "source": [
    "** What may not have been obvious, is that the else isn't needed. If the return is executed, then any code after that line won't be. The function will terminate at that point, and return to the calling code. So that means that some programmers won't use the else."
   ]
  },
  {
   "cell_type": "code",
   "execution_count": 40,
   "id": "f7fbea2a",
   "metadata": {},
   "outputs": [],
   "source": [
    "def get_integer(prompt):\n",
    "    while True:\n",
    "        temp = input(prompt)\n",
    "        if temp.isnumeric():\n",
    "            return int(temp)\n",
    "        print(f'{temp} isn\\'t a valid number')"
   ]
  },
  {
   "cell_type": "code",
   "execution_count": 41,
   "id": "63c27c7d",
   "metadata": {},
   "outputs": [
    {
     "name": "stdout",
     "output_type": "stream",
     "text": [
      ": 3\n"
     ]
    },
    {
     "data": {
      "text/plain": [
       "3"
      ]
     },
     "execution_count": 41,
     "metadata": {},
     "output_type": "execute_result"
    }
   ],
   "source": [
    "get_integer(': ')"
   ]
  },
  {
   "cell_type": "code",
   "execution_count": 42,
   "id": "864bfd9a",
   "metadata": {},
   "outputs": [
    {
     "name": "stdout",
     "output_type": "stream",
     "text": [
      ": 'Zuz'\n",
      "'Zuz' isn't a valid number\n",
      ": dfgh\n",
      "dfgh isn't a valid number\n",
      ": 6.7\n",
      "6.7 isn't a valid number\n",
      ": 5\n"
     ]
    },
    {
     "data": {
      "text/plain": [
       "5"
      ]
     },
     "execution_count": 42,
     "metadata": {},
     "output_type": "execute_result"
    }
   ],
   "source": [
    "get_integer(': ')"
   ]
  },
  {
   "cell_type": "markdown",
   "id": "a5abac82",
   "metadata": {},
   "source": [
    "___"
   ]
  },
  {
   "cell_type": "markdown",
   "id": "543a2aef",
   "metadata": {},
   "source": [
    "Write a function with the following parameters:\n",
    "- n:    a positive number\n",
    "- t:    a string\n",
    "\n",
    "If _t_ has the value 'e', the function should return the sum of all __even__ natural numbers less than _n_.\n",
    "\n",
    "Else if _t_ has the value 'o', the function should return the sum of all __odd__ natural numbers less than _n_.\n",
    "\n",
    "For any other values of _t_ return -1.\n"
   ]
  },
  {
   "cell_type": "code",
   "execution_count": 49,
   "id": "634b158a",
   "metadata": {},
   "outputs": [
    {
     "data": {
      "text/plain": [
       "20"
      ]
     },
     "execution_count": 49,
     "metadata": {},
     "output_type": "execute_result"
    }
   ],
   "source": [
    "# my solution\n",
    "def sum_eo(n, t):\n",
    "    if t == 'e':\n",
    "        even_num_sum = sum([i for i in range(1, n) if i < n and i % 2 == 0])\n",
    "        return even_num_sum\n",
    "    elif t == 'o':\n",
    "        odd_num_sum = sum([i for i in range(1, n) if i < n and i % 2 != 0])\n",
    "        return odd_num_sum\n",
    "    else:\n",
    "        return -1\n",
    "        \n",
    "\n",
    "sum_eo(10, 'e')"
   ]
  },
  {
   "cell_type": "code",
   "execution_count": 50,
   "id": "0b719ef6",
   "metadata": {},
   "outputs": [],
   "source": [
    "# solution\n",
    "\n",
    "def sum_eo(n, t):\n",
    "    if t == 'e':\n",
    "        start = 2\n",
    "    elif t == 'o':\n",
    "        start = 1\n",
    "    else:\n",
    "        return -1\n",
    "    \n",
    "    return sum(range(start, n, 2))"
   ]
  },
  {
   "cell_type": "markdown",
   "id": "466a8980",
   "metadata": {},
   "source": [
    "___"
   ]
  },
  {
   "cell_type": "markdown",
   "id": "b0f6d7f4",
   "metadata": {},
   "source": [
    "#### Returning None"
   ]
  },
  {
   "cell_type": "markdown",
   "id": "c7412dc1",
   "metadata": {},
   "source": [
    "All Python functions return a value. If you don't explicitly return something, then your function will return None.That behavior's automatic - it's how Python functions work."
   ]
  },
  {
   "cell_type": "code",
   "execution_count": null,
   "id": "74544a26",
   "metadata": {},
   "outputs": [],
   "source": []
  }
 ],
 "metadata": {
  "kernelspec": {
   "display_name": "Python 3",
   "language": "python",
   "name": "python3"
  },
  "language_info": {
   "codemirror_mode": {
    "name": "ipython",
    "version": 3
   },
   "file_extension": ".py",
   "mimetype": "text/x-python",
   "name": "python",
   "nbconvert_exporter": "python",
   "pygments_lexer": "ipython3",
   "version": "3.7.11"
  }
 },
 "nbformat": 4,
 "nbformat_minor": 5
}
