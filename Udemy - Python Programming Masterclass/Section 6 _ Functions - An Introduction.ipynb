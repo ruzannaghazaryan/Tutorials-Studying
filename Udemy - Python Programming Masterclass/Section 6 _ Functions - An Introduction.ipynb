{
 "cells": [
  {
   "cell_type": "markdown",
   "id": "0fdf6f84",
   "metadata": {},
   "source": [
    "A Python function definition starts with the **keyword def**."
   ]
  },
  {
   "cell_type": "code",
   "execution_count": 6,
   "id": "92155e80",
   "metadata": {},
   "outputs": [],
   "source": [
    "def multiply():\n",
    "    result = 10.5 * 4\n",
    "    return result\n",
    "\n",
    "# the numbers are hard coded\n",
    "# hard coding"
   ]
  },
  {
   "cell_type": "code",
   "execution_count": 5,
   "id": "4cafe3dd",
   "metadata": {},
   "outputs": [
    {
     "name": "stdout",
     "output_type": "stream",
     "text": [
      "42.0\n"
     ]
    }
   ],
   "source": [
    "answer = multiply()\n",
    "print(answer)\n",
    "\n",
    "# We multiplied an int by a float, so the result is a float."
   ]
  },
  {
   "cell_type": "markdown",
   "id": "51331407",
   "metadata": {},
   "source": [
    "It doesn't have any arguments, but we still need to include the parentheses, and because our function returns a value, we can bind the variable answer to the return value."
   ]
  },
  {
   "cell_type": "markdown",
   "id": "d80da73c",
   "metadata": {},
   "source": [
    "**The structure of a function**\n",
    "________________________________\n",
    "<br> - It starts with the Python keyword def - def is short for define. \n",
    "<br> - That's followed by the name of the function\n",
    "<br> - All function definitions have parentheses after the function name. \n",
    "<br> - You can also define parameters inside the parentheses\n",
    "<br> - and a colon : in the end"
   ]
  },
  {
   "cell_type": "markdown",
   "id": "12d7d6bf",
   "metadata": {},
   "source": [
    "____"
   ]
  },
  {
   "cell_type": "markdown",
   "id": "b9bd2342",
   "metadata": {},
   "source": [
    "**Make sure you leave two black lines, before and after your functions.**"
   ]
  },
  {
   "cell_type": "markdown",
   "id": "50563fdd",
   "metadata": {},
   "source": [
    "___"
   ]
  },
  {
   "cell_type": "markdown",
   "id": "a5eb159f",
   "metadata": {},
   "source": [
    "__Parameters__ are like placeholders for the real values that you'll pass to your function. \n",
    "<br> They're just variables, but they're given a value when you call the function. \n",
    "<br> You may also see them referred to as __formal parameters__.\n",
    "<br> You might also hear programmers refer to them as arguments. That's not strictly accurate. "
   ]
  },
  {
   "cell_type": "markdown",
   "id": "a8ee3021",
   "metadata": {},
   "source": [
    "___"
   ]
  },
  {
   "cell_type": "markdown",
   "id": "256bb97d",
   "metadata": {},
   "source": [
    "__Arguments__ are the values that will be used by __formal parameters__, when we call a function.\n",
    "<br> Each parameter must be given a value, by providing an __argument__ in the function call. \n",
    "<br> Providing values as arguments is called __passing__ the arguments.\n",
    "<br> If a function defines two parameters, we __pass__ two arguments to it when we call it. "
   ]
  },
  {
   "cell_type": "markdown",
   "id": "3f2a715a",
   "metadata": {},
   "source": [
    "___"
   ]
  },
  {
   "cell_type": "markdown",
   "id": "f8938d01",
   "metadata": {},
   "source": [
    "__A parameter is a variable that exists inside the function.__"
   ]
  },
  {
   "cell_type": "markdown",
   "id": "a0496d05",
   "metadata": {},
   "source": [
    "___"
   ]
  },
  {
   "cell_type": "markdown",
   "id": "0d08cd3a",
   "metadata": {},
   "source": [
    "https://en.wikipedia.org/wiki/Evaluation_strategy#Call_by_sharing"
   ]
  },
  {
   "cell_type": "code",
   "execution_count": 12,
   "id": "0c4b10cd",
   "metadata": {},
   "outputs": [
    {
     "name": "stdout",
     "output_type": "stream",
     "text": [
      "[1]\n"
     ]
    }
   ],
   "source": [
    "def f(a_list):\n",
    "    a_list.append(1)\n",
    "\n",
    "m = []\n",
    "f(m)\n",
    "print(m)"
   ]
  },
  {
   "cell_type": "markdown",
   "id": "6ffce138",
   "metadata": {},
   "source": [
    "outputs [1] because the append method modifies the object on which it is called."
   ]
  },
  {
   "cell_type": "code",
   "execution_count": 92,
   "id": "c070ddcf",
   "metadata": {},
   "outputs": [
    {
     "name": "stdout",
     "output_type": "stream",
     "text": [
      "None\n",
      "[]\n"
     ]
    }
   ],
   "source": [
    "def f(a_list):\n",
    "    a_list = a_list + [1]\n",
    "\n",
    "m = []\n",
    "print(f(m))\n",
    "print(m)"
   ]
  },
  {
   "cell_type": "markdown",
   "id": "eb4d82b6",
   "metadata": {},
   "source": [
    "m outputs [], f(m) outputs None because the statement a_list + [1] reassigns a new list to the variable rather than to the location it references."
   ]
  },
  {
   "cell_type": "markdown",
   "id": "b174dd8c",
   "metadata": {},
   "source": [
    "___"
   ]
  },
  {
   "cell_type": "markdown",
   "id": "92336f15",
   "metadata": {},
   "source": [
    "__scope__ - It's where a variable exists."
   ]
  },
  {
   "cell_type": "markdown",
   "id": "f02b91d4",
   "metadata": {},
   "source": [
    "__Parameters' scope is the function they're defined in.__"
   ]
  },
  {
   "cell_type": "code",
   "execution_count": 93,
   "id": "57abc83d",
   "metadata": {},
   "outputs": [],
   "source": [
    "def is_palindrome(string):\n",
    "    backwards = string[::-1]\n",
    "    return backwards == string\n",
    "\n",
    "# or shortly\n",
    "def is_palindrome(string):\n",
    "    return string[::-1] == string"
   ]
  },
  {
   "cell_type": "code",
   "execution_count": 95,
   "id": "5dd0b0ac",
   "metadata": {},
   "outputs": [
    {
     "name": "stdout",
     "output_type": "stream",
     "text": [
      "Please enter a word to check: radar\n",
      "'radar' is a palindrome.\n"
     ]
    }
   ],
   "source": [
    "word = input('Please enter a word to check: ')\n",
    "if is_palindrome(word):\n",
    "    print(f\"'{word}' is a palindrome.\")\n",
    "else:\n",
    "    print(\"'{}' is not a palindrome.\".format(word))"
   ]
  },
  {
   "cell_type": "code",
   "execution_count": 96,
   "id": "faf8cf82",
   "metadata": {},
   "outputs": [
    {
     "name": "stdout",
     "output_type": "stream",
     "text": [
      "Please enter a word to check: Radar\n",
      "'Radar' is not a palindrome.\n"
     ]
    }
   ],
   "source": [
    "word = input('Please enter a word to check: ')\n",
    "if is_palindrome(word):\n",
    "    print(f\"'{word}' is a palindrome.\")\n",
    "else:\n",
    "    print(\"'{}' is not a palindrome.\".format(word))"
   ]
  },
  {
   "cell_type": "code",
   "execution_count": 20,
   "id": "7e045223",
   "metadata": {},
   "outputs": [],
   "source": [
    "def is_palindrome(string):\n",
    "    return string[::-1].casefold() == string.casefold()"
   ]
  },
  {
   "cell_type": "code",
   "execution_count": 21,
   "id": "b6e6f980",
   "metadata": {},
   "outputs": [
    {
     "name": "stdout",
     "output_type": "stream",
     "text": [
      "Please enter a word to check: Radar\n",
      "'Radar' is a palindrome.\n"
     ]
    }
   ],
   "source": [
    "word = input('Please enter a word to check: ')\n",
    "if is_palindrome(word):\n",
    "    print(f\"'{word}' is a palindrome.\")\n",
    "else:\n",
    "    print(\"'{}' is not a palindrome.\".format(word))"
   ]
  },
  {
   "cell_type": "markdown",
   "id": "06a18e34",
   "metadata": {},
   "source": [
    "___"
   ]
  },
  {
   "cell_type": "markdown",
   "id": "b3ec072c",
   "metadata": {},
   "source": [
    "The Python ___isalpha()___ method returns true if a string __only contains letters__. Python ___isnumeric()___ returns true if all characters in a string are __numbers__. Python ___isalnum()___ only returns true if a string contains __alphanumeric characters, without symbols__."
   ]
  },
  {
   "cell_type": "code",
   "execution_count": 26,
   "id": "44ff0b38",
   "metadata": {},
   "outputs": [],
   "source": [
    "def palindrome_sentence(sentence):\n",
    "    string = \"\"\n",
    "    for char in sentence:\n",
    "        if char.isalnum():\n",
    "            string.join(char) # or string += char\n",
    "            \n",
    "    return string[::-1].casefold() == string.casefold()"
   ]
  },
  {
   "cell_type": "code",
   "execution_count": 24,
   "id": "3eaf7141",
   "metadata": {},
   "outputs": [
    {
     "name": "stdout",
     "output_type": "stream",
     "text": [
      "Please enter a word to check: Was it a car, or a cat, I saw\n",
      "'Was it a car, or a cat, I saw' is a palindrome.\n"
     ]
    }
   ],
   "source": [
    "# Was it a car, or a cat, I saw.\n",
    "# Do geese see god?\n",
    "\n",
    "word = input('Please enter a word to check: ')\n",
    "if palindrome_sentence(word):\n",
    "    print(f\"'{word}' is a palindrome.\")\n",
    "else:\n",
    "    print(\"'{}' is not a palindrome.\".format(word))"
   ]
  },
  {
   "cell_type": "code",
   "execution_count": 27,
   "id": "4ecdc9c5",
   "metadata": {},
   "outputs": [
    {
     "name": "stdout",
     "output_type": "stream",
     "text": [
      "Please enter a word to check: Radar\n",
      "'Radar' is a palindrome.\n"
     ]
    }
   ],
   "source": [
    "word = input('Please enter a word to check: ')\n",
    "if palindrome_sentence(word):\n",
    "    print(f\"'{word}' is a palindrome.\")\n",
    "else:\n",
    "    print(\"'{}' is not a palindrome.\".format(word))"
   ]
  },
  {
   "cell_type": "markdown",
   "id": "0d8dc74d",
   "metadata": {},
   "source": [
    "___"
   ]
  },
  {
   "cell_type": "markdown",
   "id": "d5a60cc6",
   "metadata": {},
   "source": [
    "#### Functions calling functions"
   ]
  },
  {
   "cell_type": "code",
   "execution_count": null,
   "id": "2e47bb92",
   "metadata": {},
   "outputs": [],
   "source": [
    "def is_palindrome(string):\n",
    "    return string[::-1].casefold() == string.casefold()"
   ]
  },
  {
   "cell_type": "code",
   "execution_count": 28,
   "id": "41e5c62e",
   "metadata": {},
   "outputs": [],
   "source": [
    "def palindrome_sentence(sentence):\n",
    "    string = \"\"\n",
    "    for char in sentence:\n",
    "        if char.isalnum():\n",
    "            string.join(char) # or string += char\n",
    "            \n",
    "    return is_palindrome(string)"
   ]
  },
  {
   "cell_type": "markdown",
   "id": "c0797631",
   "metadata": {},
   "source": [
    "___"
   ]
  },
  {
   "cell_type": "markdown",
   "id": "81c27930",
   "metadata": {},
   "source": [
    "* How to make sure the users input is numeric"
   ]
  },
  {
   "cell_type": "code",
   "execution_count": 37,
   "id": "2b150761",
   "metadata": {},
   "outputs": [
    {
     "name": "stdout",
     "output_type": "stream",
     "text": [
      "5\n",
      "'Tim'\n"
     ]
    },
    {
     "ename": "ValueError",
     "evalue": "invalid literal for int() with base 10: \"'Tim'\"",
     "output_type": "error",
     "traceback": [
      "\u001b[1;31m---------------------------------------------------------------------------\u001b[0m",
      "\u001b[1;31mValueError\u001b[0m                                Traceback (most recent call last)",
      "\u001b[1;32m<ipython-input-37-e5af4cf226da>\u001b[0m in \u001b[0;36m<module>\u001b[1;34m\u001b[0m\n\u001b[0;32m      8\u001b[0m \u001b[1;33m\u001b[0m\u001b[0m\n\u001b[0;32m      9\u001b[0m \u001b[1;32mwhile\u001b[0m \u001b[0mguess\u001b[0m \u001b[1;33m!=\u001b[0m \u001b[0manswer\u001b[0m\u001b[1;33m:\u001b[0m\u001b[1;33m\u001b[0m\u001b[1;33m\u001b[0m\u001b[0m\n\u001b[1;32m---> 10\u001b[1;33m     \u001b[0mguess\u001b[0m \u001b[1;33m=\u001b[0m \u001b[0mint\u001b[0m\u001b[1;33m(\u001b[0m\u001b[0minput\u001b[0m\u001b[1;33m(\u001b[0m\u001b[1;33m)\u001b[0m\u001b[1;33m)\u001b[0m\u001b[1;33m\u001b[0m\u001b[1;33m\u001b[0m\u001b[0m\n\u001b[0m\u001b[0;32m     11\u001b[0m     \u001b[1;32mif\u001b[0m \u001b[0mguess\u001b[0m \u001b[1;33m==\u001b[0m \u001b[1;36m0\u001b[0m\u001b[1;33m:\u001b[0m\u001b[1;33m\u001b[0m\u001b[1;33m\u001b[0m\u001b[0m\n\u001b[0;32m     12\u001b[0m         \u001b[1;32mbreak\u001b[0m\u001b[1;33m\u001b[0m\u001b[1;33m\u001b[0m\u001b[0m\n",
      "\u001b[1;31mValueError\u001b[0m: invalid literal for int() with base 10: \"'Tim'\""
     ]
    }
   ],
   "source": [
    "import random\n",
    "\n",
    "highest = 10\n",
    "answer = random.randint(1, highest)\n",
    "print(answer)\n",
    "\n",
    "guess = 0\n",
    "\n",
    "while guess != answer:\n",
    "    guess = int(input())\n",
    "    if guess == 0:\n",
    "        break\n",
    "    \n",
    "    if guess == answer:\n",
    "        print('Well done, you guessed it.')\n",
    "#         break\n",
    "    else:\n",
    "        if guess < answer:\n",
    "            print('Please guess higher')\n",
    "        else:\n",
    "            print('Please guess lower')"
   ]
  },
  {
   "cell_type": "code",
   "execution_count": 38,
   "id": "60bcc767",
   "metadata": {},
   "outputs": [
    {
     "name": "stdout",
     "output_type": "stream",
     "text": [
      "6\n",
      ": 4\n",
      "Please guess higher\n",
      ": 'Tim\n",
      ": Ann\n",
      ": Ruz\n",
      ": 3\n",
      "Please guess higher\n",
      ": 6\n",
      "Well done, you guessed it.\n"
     ]
    }
   ],
   "source": [
    "import random\n",
    "\n",
    "\n",
    "def get_integer(prompt):\n",
    "    while True:\n",
    "        temp = input(prompt)\n",
    "        if temp.isnumeric():\n",
    "            return int(temp)\n",
    "            \n",
    "            \n",
    "# The return statement causes execution to leave the function. \n",
    "# There's no need to use break here. \n",
    "# Return will cause the while loop to stop.\n",
    "\n",
    "\n",
    "highest = 10\n",
    "answer = random.randint(1, highest)\n",
    "print(answer)\n",
    "\n",
    "guess = 0\n",
    "\n",
    "while guess != answer:\n",
    "    guess = get_integer(': ')\n",
    "    if guess == 0:\n",
    "        break\n",
    "    \n",
    "    if guess == answer:\n",
    "        print('Well done, you guessed it.')\n",
    "#         break\n",
    "    else:\n",
    "        if guess < answer:\n",
    "            print('Please guess higher')\n",
    "        else:\n",
    "            print('Please guess lower')"
   ]
  },
  {
   "cell_type": "markdown",
   "id": "ca413ca4",
   "metadata": {},
   "source": [
    "___"
   ]
  },
  {
   "cell_type": "code",
   "execution_count": 39,
   "id": "b1c473fe",
   "metadata": {},
   "outputs": [
    {
     "name": "stdout",
     "output_type": "stream",
     "text": [
      "2\n",
      ": \"Ruz\"\n",
      "\"Ruz\" isn't a valid number\n",
      ": 2\n",
      "Well done, you guessed it.\n"
     ]
    }
   ],
   "source": [
    "# adding else block for inputted not valid numbers\n",
    "\n",
    "import random\n",
    "\n",
    "\n",
    "def get_integer(prompt):\n",
    "    while True:\n",
    "        temp = input(prompt)\n",
    "        if temp.isnumeric():\n",
    "            return int(temp)\n",
    "        else:  # !!!!!!!!!!!!!!!!!!!!!!!!!!!!!!!!!!!!!!!!!!!!!!!!!!!!!!!!!!!!!!!!!!!!!!!!!!!!!!!!\n",
    "            print(f'{temp} isn\\'t a valid number')\n",
    "            \n",
    "\n",
    "highest = 10\n",
    "answer = random.randint(1, highest)\n",
    "print(answer)\n",
    "\n",
    "guess = 0\n",
    "\n",
    "while guess != answer:\n",
    "    guess = get_integer(': ')\n",
    "    if guess == 0:\n",
    "        break\n",
    "    \n",
    "    if guess == answer:\n",
    "        print('Well done, you guessed it.')\n",
    "#         break\n",
    "    else:\n",
    "        if guess < answer:\n",
    "            print('Please guess higher')\n",
    "        else:\n",
    "            print('Please guess lower')"
   ]
  },
  {
   "cell_type": "markdown",
   "id": "3412c340",
   "metadata": {},
   "source": [
    "** What may not have been obvious, is that the else isn't needed. If the return is executed, then any code after that line won't be. The function will terminate at that point, and return to the calling code. So that means that some programmers won't use the else."
   ]
  },
  {
   "cell_type": "code",
   "execution_count": 40,
   "id": "f7fbea2a",
   "metadata": {},
   "outputs": [],
   "source": [
    "def get_integer(prompt):\n",
    "    while True:\n",
    "        temp = input(prompt)\n",
    "        if temp.isnumeric():\n",
    "            return int(temp)\n",
    "        print(f'{temp} isn\\'t a valid number')"
   ]
  },
  {
   "cell_type": "code",
   "execution_count": 41,
   "id": "63c27c7d",
   "metadata": {},
   "outputs": [
    {
     "name": "stdout",
     "output_type": "stream",
     "text": [
      ": 3\n"
     ]
    },
    {
     "data": {
      "text/plain": [
       "3"
      ]
     },
     "execution_count": 41,
     "metadata": {},
     "output_type": "execute_result"
    }
   ],
   "source": [
    "get_integer(': ')"
   ]
  },
  {
   "cell_type": "code",
   "execution_count": 42,
   "id": "864bfd9a",
   "metadata": {},
   "outputs": [
    {
     "name": "stdout",
     "output_type": "stream",
     "text": [
      ": 'Zuz'\n",
      "'Zuz' isn't a valid number\n",
      ": dfgh\n",
      "dfgh isn't a valid number\n",
      ": 6.7\n",
      "6.7 isn't a valid number\n",
      ": 5\n"
     ]
    },
    {
     "data": {
      "text/plain": [
       "5"
      ]
     },
     "execution_count": 42,
     "metadata": {},
     "output_type": "execute_result"
    }
   ],
   "source": [
    "get_integer(': ')"
   ]
  },
  {
   "cell_type": "markdown",
   "id": "a5abac82",
   "metadata": {},
   "source": [
    "___"
   ]
  },
  {
   "cell_type": "markdown",
   "id": "543a2aef",
   "metadata": {},
   "source": [
    "Write a function with the following parameters:\n",
    "- n:    a positive number\n",
    "- t:    a string\n",
    "\n",
    "If _t_ has the value 'e', the function should return the sum of all __even__ natural numbers less than _n_.\n",
    "\n",
    "Else if _t_ has the value 'o', the function should return the sum of all __odd__ natural numbers less than _n_.\n",
    "\n",
    "For any other values of _t_ return -1.\n"
   ]
  },
  {
   "cell_type": "code",
   "execution_count": 49,
   "id": "634b158a",
   "metadata": {},
   "outputs": [
    {
     "data": {
      "text/plain": [
       "20"
      ]
     },
     "execution_count": 49,
     "metadata": {},
     "output_type": "execute_result"
    }
   ],
   "source": [
    "# my solution\n",
    "def sum_eo(n, t):\n",
    "    if t == 'e':\n",
    "        even_num_sum = sum([i for i in range(1, n) if i < n and i % 2 == 0])\n",
    "        return even_num_sum\n",
    "    elif t == 'o':\n",
    "        odd_num_sum = sum([i for i in range(1, n) if i < n and i % 2 != 0])\n",
    "        return odd_num_sum\n",
    "    else:\n",
    "        return -1\n",
    "        \n",
    "\n",
    "sum_eo(10, 'e')"
   ]
  },
  {
   "cell_type": "code",
   "execution_count": 50,
   "id": "0b719ef6",
   "metadata": {},
   "outputs": [],
   "source": [
    "# solution\n",
    "\n",
    "def sum_eo(n, t):\n",
    "    if t == 'e':\n",
    "        start = 2\n",
    "    elif t == 'o':\n",
    "        start = 1\n",
    "    else:\n",
    "        return -1\n",
    "    \n",
    "    return sum(range(start, n, 2))"
   ]
  },
  {
   "cell_type": "markdown",
   "id": "466a8980",
   "metadata": {},
   "source": [
    "___"
   ]
  },
  {
   "cell_type": "markdown",
   "id": "b0f6d7f4",
   "metadata": {},
   "source": [
    "#### Returning None"
   ]
  },
  {
   "cell_type": "markdown",
   "id": "c7412dc1",
   "metadata": {},
   "source": [
    "All Python functions return a value. If you don't explicitly return something, then your function will return None.That behavior's automatic - it's how Python functions work."
   ]
  },
  {
   "cell_type": "markdown",
   "id": "6171a09c",
   "metadata": {},
   "source": [
    "___"
   ]
  },
  {
   "cell_type": "code",
   "execution_count": 61,
   "id": "c7c996ab",
   "metadata": {},
   "outputs": [
    {
     "name": "stdout",
     "output_type": "stream",
     "text": [
      "testing something new\n"
     ]
    }
   ],
   "source": [
    "print('testing something new')"
   ]
  },
  {
   "cell_type": "code",
   "execution_count": 62,
   "id": "539a121f",
   "metadata": {},
   "outputs": [],
   "source": [
    "screen_width = 110"
   ]
  },
  {
   "cell_type": "code",
   "execution_count": 63,
   "id": "bb2ba899",
   "metadata": {
    "scrolled": false
   },
   "outputs": [
    {
     "name": "stdout",
     "output_type": "stream",
     "text": [
      "                                            testing something new                                             \n"
     ]
    }
   ],
   "source": [
    "print('testing something new'.center(screen_width))"
   ]
  },
  {
   "cell_type": "code",
   "execution_count": 67,
   "id": "5a43875d",
   "metadata": {},
   "outputs": [],
   "source": [
    "def banner_text(text):\n",
    "    screen_width = 110\n",
    "    if len(text) > screen_width - 4:\n",
    "        print('THE TEXT IS TOO LONG TO FIT IN THE SPECIFIED WIDTH.')\n",
    "    \n",
    "    elif text == '*':\n",
    "        print('*' * screen_width)\n",
    "        \n",
    "    else:\n",
    "        centered_text = text.center(screen_width - 4)\n",
    "        output_string = f'**{centered_text}**'\n",
    "        print(output_string)\n",
    "        \n",
    "        \n",
    "# 4 is subtracted from the screen width because we're printing 4 asterisks - 2 each side of the text. "
   ]
  },
  {
   "cell_type": "code",
   "execution_count": 70,
   "id": "0033fc96",
   "metadata": {},
   "outputs": [
    {
     "name": "stdout",
     "output_type": "stream",
     "text": [
      "**************************************************************************************************************\n",
      "**                                Always look on the bright side of life...                                 **\n",
      "**                                  Laugh and smile and sing and dance...                                   **\n",
      "**                                                                                                          **\n",
      "**************************************************************************************************************\n"
     ]
    }
   ],
   "source": [
    "banner_text('*')\n",
    "banner_text('Always look on the bright side of life...')\n",
    "banner_text('Laugh and smile and sing and dance...')\n",
    "banner_text('  ')\n",
    "banner_text('*')"
   ]
  },
  {
   "cell_type": "markdown",
   "id": "8653db15",
   "metadata": {},
   "source": [
    "So our banner_text function is designed, or intended to perform an action, not to return a result."
   ]
  },
  {
   "cell_type": "markdown",
   "id": "9a01fb4a",
   "metadata": {},
   "source": [
    "___"
   ]
  },
  {
   "cell_type": "code",
   "execution_count": 72,
   "id": "76e18fc0",
   "metadata": {},
   "outputs": [
    {
     "name": "stdout",
     "output_type": "stream",
     "text": [
      "None\n"
     ]
    }
   ],
   "source": [
    "numbers = [3, 5, 6, 4]\n",
    "print(numbers.sort())"
   ]
  },
  {
   "cell_type": "markdown",
   "id": "ff796190",
   "metadata": {},
   "source": [
    "__!!! The dot sort method sorts the list in place. So it's performing an action, sorting the list here, and doesn't return a useful value, and that's why we've got None in the output.__"
   ]
  },
  {
   "cell_type": "code",
   "execution_count": 73,
   "id": "2da0290f",
   "metadata": {},
   "outputs": [
    {
     "name": "stdout",
     "output_type": "stream",
     "text": [
      "[3, 4, 5, 6]\n"
     ]
    }
   ],
   "source": [
    "print(numbers)"
   ]
  },
  {
   "cell_type": "markdown",
   "id": "e695a77e",
   "metadata": {},
   "source": [
    "__Not all functions return something useful - some functions perform an action, rather than producing a value.__"
   ]
  },
  {
   "cell_type": "markdown",
   "id": "9f53a424",
   "metadata": {},
   "source": [
    "___"
   ]
  },
  {
   "cell_type": "markdown",
   "id": "a91baea9",
   "metadata": {},
   "source": [
    "#### Handling invalid arguments"
   ]
  },
  {
   "cell_type": "code",
   "execution_count": 97,
   "id": "d392a792",
   "metadata": {},
   "outputs": [],
   "source": [
    "def banner_text(text):\n",
    "    screen_width = 50\n",
    "    if len(text) > screen_width - 4:\n",
    "        raise ValueError('String {0} is larger than specified width {1}'\n",
    "                        .format(text, screen_width))\n",
    "    elif text == '*':\n",
    "        print('*' * screen_width)\n",
    "    else:\n",
    "        centered_text = text.center(screen_width - 4)\n",
    "        output_string = f'**{centered_text}**'\n",
    "        print(output_string)"
   ]
  },
  {
   "cell_type": "code",
   "execution_count": 98,
   "id": "d71fb76d",
   "metadata": {},
   "outputs": [
    {
     "name": "stdout",
     "output_type": "stream",
     "text": [
      "**************************************************\n",
      "**  Always look on the bright side of life...   **\n"
     ]
    },
    {
     "ename": "ValueError",
     "evalue": "String aaaaaaaaaaaaaaaaaaaaaaaaaaaaaaaaaaaaaaaaaaaaaaaaaaaaaaaaaaaaaaaaaaaaaaaaaaaaaaaaaaaaaaaaaaaaaaaaaaaaaaaaaaaaaaaaaaaaaaaaaaaaaaaaaaaaaaaaaaaaaaaaaaaaaaaaaaaaaaaaaaaaaaaaaa is larger than specified width 50",
     "output_type": "error",
     "traceback": [
      "\u001b[1;31m---------------------------------------------------------------------------\u001b[0m",
      "\u001b[1;31mValueError\u001b[0m                                Traceback (most recent call last)",
      "\u001b[1;32m<ipython-input-98-158e1cc2fb28>\u001b[0m in \u001b[0;36m<module>\u001b[1;34m\u001b[0m\n\u001b[0;32m      1\u001b[0m \u001b[0mbanner_text\u001b[0m\u001b[1;33m(\u001b[0m\u001b[1;34m'*'\u001b[0m\u001b[1;33m)\u001b[0m\u001b[1;33m\u001b[0m\u001b[1;33m\u001b[0m\u001b[0m\n\u001b[0;32m      2\u001b[0m \u001b[0mbanner_text\u001b[0m\u001b[1;33m(\u001b[0m\u001b[1;34m'Always look on the bright side of life...'\u001b[0m\u001b[1;33m)\u001b[0m\u001b[1;33m\u001b[0m\u001b[1;33m\u001b[0m\u001b[0m\n\u001b[1;32m----> 3\u001b[1;33m \u001b[0mbanner_text\u001b[0m\u001b[1;33m(\u001b[0m\u001b[1;34m'a'\u001b[0m \u001b[1;33m*\u001b[0m \u001b[1;36m170\u001b[0m\u001b[1;33m)\u001b[0m\u001b[1;33m\u001b[0m\u001b[1;33m\u001b[0m\u001b[0m\n\u001b[0m\u001b[0;32m      4\u001b[0m \u001b[0mbanner_text\u001b[0m\u001b[1;33m(\u001b[0m\u001b[1;34m'Laugh and smile and sing and dance...'\u001b[0m\u001b[1;33m)\u001b[0m\u001b[1;33m\u001b[0m\u001b[1;33m\u001b[0m\u001b[0m\n\u001b[0;32m      5\u001b[0m \u001b[0mbanner_text\u001b[0m\u001b[1;33m(\u001b[0m\u001b[1;34m'  '\u001b[0m\u001b[1;33m)\u001b[0m\u001b[1;33m\u001b[0m\u001b[1;33m\u001b[0m\u001b[0m\n",
      "\u001b[1;32m<ipython-input-97-809f8b9a6e4c>\u001b[0m in \u001b[0;36mbanner_text\u001b[1;34m(text)\u001b[0m\n\u001b[0;32m      3\u001b[0m     \u001b[1;32mif\u001b[0m \u001b[0mlen\u001b[0m\u001b[1;33m(\u001b[0m\u001b[0mtext\u001b[0m\u001b[1;33m)\u001b[0m \u001b[1;33m>\u001b[0m \u001b[0mscreen_width\u001b[0m \u001b[1;33m-\u001b[0m \u001b[1;36m4\u001b[0m\u001b[1;33m:\u001b[0m\u001b[1;33m\u001b[0m\u001b[1;33m\u001b[0m\u001b[0m\n\u001b[0;32m      4\u001b[0m         raise ValueError('String {0} is larger than specified width {1}'\n\u001b[1;32m----> 5\u001b[1;33m                         .format(text, screen_width))\n\u001b[0m\u001b[0;32m      6\u001b[0m     \u001b[1;32melif\u001b[0m \u001b[0mtext\u001b[0m \u001b[1;33m==\u001b[0m \u001b[1;34m'*'\u001b[0m\u001b[1;33m:\u001b[0m\u001b[1;33m\u001b[0m\u001b[1;33m\u001b[0m\u001b[0m\n\u001b[0;32m      7\u001b[0m         \u001b[0mprint\u001b[0m\u001b[1;33m(\u001b[0m\u001b[1;34m'*'\u001b[0m \u001b[1;33m*\u001b[0m \u001b[0mscreen_width\u001b[0m\u001b[1;33m)\u001b[0m\u001b[1;33m\u001b[0m\u001b[1;33m\u001b[0m\u001b[0m\n",
      "\u001b[1;31mValueError\u001b[0m: String aaaaaaaaaaaaaaaaaaaaaaaaaaaaaaaaaaaaaaaaaaaaaaaaaaaaaaaaaaaaaaaaaaaaaaaaaaaaaaaaaaaaaaaaaaaaaaaaaaaaaaaaaaaaaaaaaaaaaaaaaaaaaaaaaaaaaaaaaaaaaaaaaaaaaaaaaaaaaaaaaaaaaaaaaa is larger than specified width 50"
     ]
    }
   ],
   "source": [
    "banner_text('*')\n",
    "banner_text('Always look on the bright side of life...')\n",
    "banner_text('a' * 170)\n",
    "banner_text('Laugh and smile and sing and dance...')\n",
    "banner_text('  ')\n",
    "banner_text('*')"
   ]
  },
  {
   "cell_type": "markdown",
   "id": "7bb42544",
   "metadata": {},
   "source": [
    "__keyword raise__ - _that's how you raise an exception in Python_"
   ]
  },
  {
   "cell_type": "markdown",
   "id": "a71de60a",
   "metadata": {},
   "source": [
    "https://docs.python.org/3/library/exceptions.html"
   ]
  },
  {
   "cell_type": "markdown",
   "id": "72711e62",
   "metadata": {},
   "source": [
    "___"
   ]
  },
  {
   "cell_type": "markdown",
   "id": "49215aac",
   "metadata": {},
   "source": [
    "___"
   ]
  },
  {
   "cell_type": "markdown",
   "id": "43552819",
   "metadata": {},
   "source": [
    "__Default parameter values__"
   ]
  },
  {
   "cell_type": "markdown",
   "id": "62d18c29",
   "metadata": {},
   "source": [
    "If a function defines two positional parameters, then you must provide two arguments when calling it.\n",
    "<br> __UNLESS__ the parameters have default values. If you provide a default value for a parameter, then it's not necessary to provide a corresponding argument for it."
   ]
  },
  {
   "cell_type": "code",
   "execution_count": 87,
   "id": "806488b1",
   "metadata": {},
   "outputs": [],
   "source": [
    "def banner_text(text, screen_width=80):\n",
    "    if len(text) > screen_width - 4:\n",
    "        raise ValueError('String {0} is larger than specified width {1}'\n",
    "                        .format(text, screen_width))\n",
    "    elif text == '*':\n",
    "        print('*' * screen_width)\n",
    "    else:\n",
    "        centered_text = text.center(screen_width - 4)\n",
    "        output_string = f'**{centered_text}**'\n",
    "        print(output_string)"
   ]
  },
  {
   "cell_type": "markdown",
   "id": "6c8a48f5",
   "metadata": {},
   "source": [
    "#### It's usual not to put a space either side of the equals, when providing default values."
   ]
  },
  {
   "cell_type": "code",
   "execution_count": 90,
   "id": "a9d3a0ac",
   "metadata": {},
   "outputs": [
    {
     "name": "stdout",
     "output_type": "stream",
     "text": [
      "********************************************************************************\n",
      "**                 Always look on the bright side of life...                  **\n",
      "********************************************************************************\n",
      "**************************************************************************************************************\n",
      "**                                Always look on the bright side of life...                                 **\n",
      "**************************************************************************************************************\n"
     ]
    }
   ],
   "source": [
    "banner_text('*')\n",
    "banner_text('Always look on the bright side of life...')\n",
    "banner_text('*')\n",
    "\n",
    "banner_text('*', 110)\n",
    "banner_text('Always look on the bright side of life...', 110)\n",
    "banner_text('*', 110)"
   ]
  },
  {
   "cell_type": "markdown",
   "id": "1dbcebae",
   "metadata": {},
   "source": [
    "So if we call our function without providing an argument for the screen width, the default value of 80 will be used."
   ]
  },
  {
   "cell_type": "markdown",
   "id": "745d4def",
   "metadata": {},
   "source": [
    "___"
   ]
  },
  {
   "cell_type": "markdown",
   "id": "635a0a01",
   "metadata": {},
   "source": [
    "__Keyword arguments__"
   ]
  },
  {
   "cell_type": "code",
   "execution_count": 99,
   "id": "efe02cdd",
   "metadata": {},
   "outputs": [],
   "source": [
    "def banner_text(text, screen_width=80):\n",
    "    if len(text) > screen_width - 4:\n",
    "        raise ValueError('String {0} is larger than specified width {1}'\n",
    "                        .format(text, screen_width))\n",
    "    elif text == '*':\n",
    "        print('*' * screen_width)\n",
    "    else:\n",
    "        centered_text = text.center(screen_width - 4)\n",
    "        output_string = f'**{centered_text}**'\n",
    "        print(output_string)"
   ]
  },
  {
   "cell_type": "code",
   "execution_count": 101,
   "id": "c93952cb",
   "metadata": {},
   "outputs": [
    {
     "name": "stdout",
     "output_type": "stream",
     "text": [
      "********************************************************************************\n",
      "**                 Always look on the bright side of life...                  **\n"
     ]
    },
    {
     "ename": "TypeError",
     "evalue": "banner_text() missing 1 required positional argument: 'text'",
     "output_type": "error",
     "traceback": [
      "\u001b[1;31m---------------------------------------------------------------------------\u001b[0m",
      "\u001b[1;31mTypeError\u001b[0m                                 Traceback (most recent call last)",
      "\u001b[1;32m<ipython-input-101-1072a4ad296e>\u001b[0m in \u001b[0;36m<module>\u001b[1;34m\u001b[0m\n\u001b[0;32m      1\u001b[0m \u001b[0mbanner_text\u001b[0m\u001b[1;33m(\u001b[0m\u001b[1;34m'*'\u001b[0m\u001b[1;33m)\u001b[0m\u001b[1;33m\u001b[0m\u001b[1;33m\u001b[0m\u001b[0m\n\u001b[0;32m      2\u001b[0m \u001b[0mbanner_text\u001b[0m\u001b[1;33m(\u001b[0m\u001b[1;34m'Always look on the bright side of life...'\u001b[0m\u001b[1;33m)\u001b[0m\u001b[1;33m\u001b[0m\u001b[1;33m\u001b[0m\u001b[0m\n\u001b[1;32m----> 3\u001b[1;33m \u001b[0mbanner_text\u001b[0m\u001b[1;33m(\u001b[0m\u001b[1;33m)\u001b[0m \u001b[1;31m# In this case, the error's because we're not passing any text to the function, and it requires some text.\u001b[0m\u001b[1;33m\u001b[0m\u001b[1;33m\u001b[0m\u001b[0m\n\u001b[0m\u001b[0;32m      4\u001b[0m \u001b[0mbanner_text\u001b[0m\u001b[1;33m(\u001b[0m\u001b[1;34m'*'\u001b[0m\u001b[1;33m)\u001b[0m\u001b[1;33m\u001b[0m\u001b[1;33m\u001b[0m\u001b[0m\n",
      "\u001b[1;31mTypeError\u001b[0m: banner_text() missing 1 required positional argument: 'text'"
     ]
    }
   ],
   "source": [
    "banner_text('*')\n",
    "banner_text('Always look on the bright side of life...')\n",
    "banner_text() # In this case, the error's because we're not passing any text to the function, and it requires some text. \n",
    "banner_text('*')"
   ]
  },
  {
   "cell_type": "code",
   "execution_count": 102,
   "id": "9fa40b1e",
   "metadata": {},
   "outputs": [],
   "source": [
    "# To fix that, we can provide a default value for the text parameter.\n",
    "\n",
    "def banner_text(text=' ', screen_width=80):\n",
    "    if len(text) > screen_width - 4:\n",
    "        raise ValueError('String {0} is larger than specified width {1}'\n",
    "                        .format(text, screen_width))\n",
    "    elif text == '*':\n",
    "        print('*' * screen_width)\n",
    "    else:\n",
    "        centered_text = text.center(screen_width - 4)\n",
    "        output_string = f'**{centered_text}**'\n",
    "        print(output_string)"
   ]
  },
  {
   "cell_type": "code",
   "execution_count": 104,
   "id": "04c45644",
   "metadata": {},
   "outputs": [
    {
     "name": "stdout",
     "output_type": "stream",
     "text": [
      "********************************************************************************\n",
      "**                 Always look on the bright side of life...                  **\n",
      "**                                                                            **\n",
      "********************************************************************************\n"
     ]
    }
   ],
   "source": [
    "banner_text('*')\n",
    "banner_text('Always look on the bright side of life...')\n",
    "banner_text()\n",
    "banner_text('*')\n",
    "\n",
    "# You don't have to remember to use a space, when you want to include a blank line in the banner."
   ]
  },
  {
   "cell_type": "markdown",
   "id": "23e1c7ae",
   "metadata": {},
   "source": [
    "___"
   ]
  },
  {
   "cell_type": "markdown",
   "id": "69638f09",
   "metadata": {},
   "source": [
    "- Now I'm going to change the width of our banner to 60 characters."
   ]
  },
  {
   "cell_type": "code",
   "execution_count": 105,
   "id": "74a8a872",
   "metadata": {},
   "outputs": [
    {
     "ename": "SyntaxError",
     "evalue": "invalid syntax (<ipython-input-105-c57994d2e9ce>, line 3)",
     "output_type": "error",
     "traceback": [
      "\u001b[1;36m  File \u001b[1;32m\"<ipython-input-105-c57994d2e9ce>\"\u001b[1;36m, line \u001b[1;32m3\u001b[0m\n\u001b[1;33m    banner_text(, 60) # So we want to provide a value for screen width,\u001b[0m\n\u001b[1;37m                ^\u001b[0m\n\u001b[1;31mSyntaxError\u001b[0m\u001b[1;31m:\u001b[0m invalid syntax\n"
     ]
    }
   ],
   "source": [
    "banner_text('*', 60)\n",
    "banner_text('Always look on the bright side of life...', 60)\n",
    "banner_text(, 60) # So we want to provide a value for screen width, \n",
    "                  # but we also want to use the default value for the text argument.\n",
    "banner_text('*', 60)"
   ]
  },
  {
   "cell_type": "markdown",
   "id": "5d67954c",
   "metadata": {},
   "source": [
    "Now, obviously, we can't just leave the text argument blank - that gives us an error. \n",
    "<br> This is why keyword arguments are useful. We can specify which parameter we want that 60 argument to be used for, by naming it."
   ]
  },
  {
   "cell_type": "code",
   "execution_count": 106,
   "id": "9713544f",
   "metadata": {},
   "outputs": [
    {
     "name": "stdout",
     "output_type": "stream",
     "text": [
      "************************************************************\n",
      "**       Always look on the bright side of life...        **\n",
      "**                                                        **\n",
      "************************************************************\n"
     ]
    }
   ],
   "source": [
    "banner_text('*', 60)\n",
    "banner_text('Always look on the bright side of life...', 60)\n",
    "banner_text(screen_width=60) # So we want to provide a value for screen width, \n",
    "                  # but we also want to use the default value for the text argument.\n",
    "banner_text('*', 60)"
   ]
  },
  {
   "cell_type": "markdown",
   "id": "e5a1f1eb",
   "metadata": {},
   "source": [
    "___"
   ]
  },
  {
   "cell_type": "markdown",
   "id": "09dbfe69",
   "metadata": {},
   "source": [
    "__positional arguments__ - where the arguments are used to provide a value for the parameter in the same position. \n",
    "<br>__keyword arguments__ - where you specify the parameter name when you pass an argument."
   ]
  },
  {
   "cell_type": "markdown",
   "id": "e9249c37",
   "metadata": {},
   "source": [
    "___"
   ]
  },
  {
   "cell_type": "markdown",
   "id": "cecdc51e",
   "metadata": {},
   "source": [
    "### Writing a Docstring (documentation)"
   ]
  },
  {
   "cell_type": "markdown",
   "id": "82757e1d",
   "metadata": {},
   "source": [
    "https://google.github.io/styleguide/pyguide.html#38-comments-and-docstrings"
   ]
  },
  {
   "cell_type": "markdown",
   "id": "78c491a0",
   "metadata": {},
   "source": [
    "Always use the three double-quote \"\"\" format for docstrings.\n",
    "<br>A docstring is a string that is the first statement in a package, module, class or function.\n",
    "<br>So the first line is a short descriptive comment, explaining what our function is for - its purpose, in other words."
   ]
  },
  {
   "cell_type": "code",
   "execution_count": 112,
   "id": "1a0d08d0",
   "metadata": {},
   "outputs": [],
   "source": [
    "def get_integer(prompt):\n",
    "    \"\"\"\n",
    "    Get an integer from Standard Input (stdin).\n",
    "    \n",
    "    The function will continue looping, and prompting\n",
    "    the user, until a valid `int` is entered.\n",
    "    \n",
    "    param:\n",
    "        prompt: The string that the user will see, when\n",
    "            they're prompted to enter the value.\n",
    "    return:\n",
    "        The integer that the user enters.\n",
    "    \"\"\"\n",
    "    while True:\n",
    "        temp = input(prompt)\n",
    "        if temp.isnumeric():\n",
    "            return int(temp)\n",
    "        print(f'{temp} isn\\'t a valid number')"
   ]
  },
  {
   "cell_type": "code",
   "execution_count": 113,
   "id": "3d014c5a",
   "metadata": {},
   "outputs": [],
   "source": [
    "# Anyone calling this function will want to know that it won't exit without a valid integer."
   ]
  },
  {
   "cell_type": "markdown",
   "id": "2864ad2d",
   "metadata": {},
   "source": [
    "Notice that there's no blank line between the end of triple quotes and the start of the code."
   ]
  },
  {
   "cell_type": "markdown",
   "id": "8c4d5e4b",
   "metadata": {},
   "source": [
    "__<u>click on get_integer and use Shift_Tab to see the documentation.__"
   ]
  },
  {
   "cell_type": "code",
   "execution_count": 114,
   "id": "efb055e0",
   "metadata": {},
   "outputs": [
    {
     "name": "stdout",
     "output_type": "stream",
     "text": [
      ": 7\n"
     ]
    }
   ],
   "source": [
    "guess = get_integer(': ')"
   ]
  },
  {
   "cell_type": "markdown",
   "id": "68c1622f",
   "metadata": {},
   "source": [
    "___"
   ]
  },
  {
   "cell_type": "markdown",
   "id": "5ea91ccb",
   "metadata": {},
   "source": [
    "Each __.py__ file that you create becomes a new Python __module__."
   ]
  },
  {
   "cell_type": "markdown",
   "id": "81d2e56c",
   "metadata": {},
   "source": [
    "Python Docstrings appear __inside__ the function. They become an __attribute__ of the function. "
   ]
  },
  {
   "cell_type": "code",
   "execution_count": 117,
   "id": "080d0c1d",
   "metadata": {},
   "outputs": [
    {
     "name": "stdout",
     "output_type": "stream",
     "text": [
      "Forward raw_input to frontends\n",
      "\n",
      "        Raises\n",
      "        ------\n",
      "        StdinNotImplentedError if active frontend doesn't support stdin.\n",
      "        \n"
     ]
    }
   ],
   "source": [
    "print(input.__doc__)"
   ]
  },
  {
   "cell_type": "code",
   "execution_count": 118,
   "id": "48b7d377",
   "metadata": {},
   "outputs": [
    {
     "name": "stdout",
     "output_type": "stream",
     "text": [
      "\n",
      "    Get an integer from Standard Input (stdin).\n",
      "    \n",
      "    The function will continue looping, and prompting\n",
      "    the user, until a valid `int` is entered.\n",
      "    \n",
      "    param:\n",
      "        prompt: The string that the user will see, when\n",
      "            they're prompted to enter the value.\n",
      "    return:\n",
      "        The integer that the user enters.\n",
      "    \n"
     ]
    }
   ],
   "source": [
    "print(get_integer.__doc__)"
   ]
  },
  {
   "cell_type": "markdown",
   "id": "62016fbc",
   "metadata": {},
   "source": [
    "We're not calling the functions here - we're referring their attributes.\n",
    "<br>That means that we don't use parentheses after the function name.\n",
    "\n"
   ]
  },
  {
   "cell_type": "markdown",
   "id": "3d9b4cdb",
   "metadata": {},
   "source": [
    "__or__"
   ]
  },
  {
   "cell_type": "code",
   "execution_count": 119,
   "id": "698af6e5",
   "metadata": {},
   "outputs": [
    {
     "name": "stdout",
     "output_type": "stream",
     "text": [
      "Help on function get_integer in module __main__:\n",
      "\n",
      "get_integer(prompt)\n",
      "    Get an integer from Standard Input (stdin).\n",
      "    \n",
      "    The function will continue looping, and prompting\n",
      "    the user, until a valid `int` is entered.\n",
      "    \n",
      "    param:\n",
      "        prompt: The string that the user will see, when\n",
      "            they're prompted to enter the value.\n",
      "    return:\n",
      "        The integer that the user enters.\n",
      "\n"
     ]
    }
   ],
   "source": [
    "help(get_integer)"
   ]
  },
  {
   "cell_type": "markdown",
   "id": "49e4aad7",
   "metadata": {},
   "source": [
    "___"
   ]
  },
  {
   "cell_type": "markdown",
   "id": "a60d6fd6",
   "metadata": {},
   "source": [
    "### Examples of Docstrings"
   ]
  },
  {
   "cell_type": "code",
   "execution_count": 125,
   "id": "41856e81",
   "metadata": {},
   "outputs": [],
   "source": [
    "def multiply(x, y):\n",
    "    \"\"\"\n",
    "    Multiply 2 numbers.\n",
    " \n",
    "    Although this function is intended to multiply 2 numbers,\n",
    "    you can also use it to multiply a sequence.  If you pass\n",
    "    a string, for example, as the first argument, you'll get\n",
    "    the string repeated `y` times as the returned value.\n",
    " \n",
    "    :param x: The first number to multiply.\n",
    "    :param y: The number to multiply `x` by.\n",
    "    :return: The product of `x` and `y`.\n",
    "    \"\"\"\n",
    "    result = x * y\n",
    "    return result"
   ]
  },
  {
   "cell_type": "code",
   "execution_count": 126,
   "id": "b9dd038b",
   "metadata": {},
   "outputs": [
    {
     "data": {
      "text/plain": [
       "12"
      ]
     },
     "execution_count": 126,
     "metadata": {},
     "output_type": "execute_result"
    }
   ],
   "source": [
    "multiply(3, 4) # shift_tab"
   ]
  },
  {
   "cell_type": "code",
   "execution_count": 127,
   "id": "cd8d501c",
   "metadata": {},
   "outputs": [
    {
     "data": {
      "text/plain": [
       "[1, 2, 1, 2, 1, 2]"
      ]
     },
     "execution_count": 127,
     "metadata": {},
     "output_type": "execute_result"
    }
   ],
   "source": [
    "[1, 2] * 3"
   ]
  },
  {
   "cell_type": "code",
   "execution_count": 128,
   "id": "35a12c59",
   "metadata": {},
   "outputs": [
    {
     "ename": "TypeError",
     "evalue": "can't multiply sequence by non-int of type 'list'",
     "output_type": "error",
     "traceback": [
      "\u001b[1;31m---------------------------------------------------------------------------\u001b[0m",
      "\u001b[1;31mTypeError\u001b[0m                                 Traceback (most recent call last)",
      "\u001b[1;32m<ipython-input-128-15d927583020>\u001b[0m in \u001b[0;36m<module>\u001b[1;34m\u001b[0m\n\u001b[1;32m----> 1\u001b[1;33m \u001b[1;33m[\u001b[0m\u001b[1;36m1\u001b[0m\u001b[1;33m,\u001b[0m \u001b[1;36m3\u001b[0m\u001b[1;33m]\u001b[0m \u001b[1;33m*\u001b[0m \u001b[1;33m[\u001b[0m\u001b[1;36m1\u001b[0m\u001b[1;33m,\u001b[0m \u001b[1;36m2\u001b[0m\u001b[1;33m]\u001b[0m\u001b[1;33m\u001b[0m\u001b[1;33m\u001b[0m\u001b[0m\n\u001b[0m",
      "\u001b[1;31mTypeError\u001b[0m: can't multiply sequence by non-int of type 'list'"
     ]
    }
   ],
   "source": [
    "[1, 3] * [1, 2]"
   ]
  },
  {
   "cell_type": "markdown",
   "id": "0850182f",
   "metadata": {},
   "source": [
    "___"
   ]
  },
  {
   "cell_type": "code",
   "execution_count": 130,
   "id": "da4331f8",
   "metadata": {},
   "outputs": [],
   "source": [
    "def is_palindrome(string):\n",
    "    \"\"\"\n",
    "    Check if a string is a palindrome.\n",
    " \n",
    "    A palindrome is a string that reads the same forwards as backwards.\n",
    " \n",
    "    :param string: The string to check.\n",
    "    :return: True if `string` is a palindrome, False otherwise.\n",
    "    \"\"\"\n",
    "    return string[::-1].casefold() == string.casefold()"
   ]
  },
  {
   "cell_type": "markdown",
   "id": "f2e6b972",
   "metadata": {},
   "source": [
    "___"
   ]
  },
  {
   "cell_type": "code",
   "execution_count": 131,
   "id": "6e30213e",
   "metadata": {},
   "outputs": [],
   "source": [
    "def palindrome_sentence(sentence):\n",
    "    \"\"\"\n",
    "    Check if a sentence is a palindrome.\n",
    " \n",
    "    The function ignores whitespace, capitalisation and\n",
    "    punctuation in the sentence.\n",
    " \n",
    "    :param sentence: The sentence to check.\n",
    "    :return: True if `sentence` is a palindrome, False otherwise.\n",
    "    \"\"\"\n",
    "    string = \"\"\n",
    "    for char in sentence:\n",
    "        if char.isalnum():\n",
    "            string += char\n",
    "    return is_palindrome(string)"
   ]
  },
  {
   "cell_type": "markdown",
   "id": "0a2a8b2b",
   "metadata": {},
   "source": [
    "____"
   ]
  },
  {
   "cell_type": "markdown",
   "id": "9c0ac11c",
   "metadata": {},
   "source": [
    "### Fibonacci Numbers"
   ]
  },
  {
   "cell_type": "markdown",
   "id": "b7ac8ab7",
   "metadata": {},
   "source": [
    "The Fibonacci sequence is a series of numbers in which each number is the sum of the two that precede it.\n",
    "<br>Starting at 0 and 1, the sequence looks like this: 0, 1, 1, 2, 3, 5, 8, 13, 21, 34, and so on forever.\n",
    "<br>The Fibonacci sequence can be described using a mathematical equation: Xn+2= Xn+1 + Xn"
   ]
  },
  {
   "cell_type": "code",
   "execution_count": 142,
   "id": "35f9cf09",
   "metadata": {},
   "outputs": [
    {
     "data": {
      "text/plain": [
       "[0, 1, 1, 2, 3, 5, 8, 13, 21, 34, 55, 89, 144, 233, 377, 610, 987, 1597, 2584]"
      ]
     },
     "execution_count": 142,
     "metadata": {},
     "output_type": "execute_result"
    }
   ],
   "source": [
    "# my solution\n",
    "\n",
    "fib = [0, 1]\n",
    "while True:\n",
    "    sumPrec = fib[-1] + fib[-2]\n",
    "    fib.append(sumPrec)\n",
    "    if sumPrec > 2000:\n",
    "        break   \n",
    "        \n",
    "fib"
   ]
  },
  {
   "cell_type": "code",
   "execution_count": 158,
   "id": "d63ee695",
   "metadata": {},
   "outputs": [],
   "source": [
    "def fibonacci(n):\n",
    "    \"\"\"Return the `n`th Fibonacci number for positive `n`.\"\"\"\n",
    "    if 0 <= n <= 1:\n",
    "        return n\n",
    "    \n",
    "    n_minus1, n_minus2 = 1, 0\n",
    "    \n",
    "    for f in range(n - 1):\n",
    "        result = n_minus2 + n_minus1\n",
    "        n_minus2 = n_minus1\n",
    "        n_minus1 = result\n",
    "    \n",
    "    return result"
   ]
  },
  {
   "cell_type": "code",
   "execution_count": 159,
   "id": "868d7a73",
   "metadata": {},
   "outputs": [
    {
     "data": {
      "text/plain": [
       "2584"
      ]
     },
     "execution_count": 159,
     "metadata": {},
     "output_type": "execute_result"
    }
   ],
   "source": [
    "fibonacci(18)"
   ]
  },
  {
   "cell_type": "code",
   "execution_count": 160,
   "id": "78157221",
   "metadata": {},
   "outputs": [
    {
     "name": "stdout",
     "output_type": "stream",
     "text": [
      "0 0\n",
      "1 1\n",
      "2 1\n",
      "3 2\n",
      "4 3\n",
      "5 5\n",
      "6 8\n",
      "7 13\n",
      "8 21\n",
      "9 34\n",
      "10 55\n",
      "11 89\n",
      "12 144\n",
      "13 233\n",
      "14 377\n",
      "15 610\n",
      "16 987\n",
      "17 1597\n",
      "18 2584\n"
     ]
    }
   ],
   "source": [
    "for i in range(19):\n",
    "    print(i, fibonacci(i))"
   ]
  },
  {
   "cell_type": "markdown",
   "id": "98b5f2c7",
   "metadata": {},
   "source": [
    "___"
   ]
  },
  {
   "cell_type": "markdown",
   "id": "b6e312c8",
   "metadata": {},
   "source": [
    "### Function annotations and type hints"
   ]
  },
  {
   "cell_type": "markdown",
   "id": "5e398628",
   "metadata": {},
   "source": [
    "Function annotations provide a way to describe that, without having to refer to the docstring."
   ]
  },
  {
   "cell_type": "markdown",
   "id": "a8d8cf16",
   "metadata": {},
   "source": [
    "_Function annotations make it clearer what kind of values your functions can accept, and what they return._"
   ]
  },
  {
   "cell_type": "markdown",
   "id": "2afc34ad",
   "metadata": {},
   "source": [
    "is_palindrome function takes a string as an argument and returns a bool."
   ]
  },
  {
   "cell_type": "markdown",
   "id": "0efa56d0",
   "metadata": {},
   "source": [
    "https://www.python.org/dev/peps/pep-3107/"
   ]
  },
  {
   "cell_type": "code",
   "execution_count": 172,
   "id": "0df1644f",
   "metadata": {},
   "outputs": [],
   "source": [
    "def is_palindrome(string: str) -> bool:\n",
    "    \"\"\"\n",
    "    Check if a string is a palindrome.\n",
    " \n",
    "    A palindrome is a string that reads the same forwards as backwards.\n",
    " \n",
    "    :param string: The string to check.\n",
    "    :return: True if `string` is a palindrome, False otherwise.\n",
    "    \"\"\"\n",
    "    return string[::-1].casefold() == string.casefold()"
   ]
  },
  {
   "cell_type": "code",
   "execution_count": 173,
   "id": "5f928a52",
   "metadata": {},
   "outputs": [],
   "source": [
    "# p = is_palindrome() Shift_Tab"
   ]
  },
  {
   "cell_type": "code",
   "execution_count": 174,
   "id": "e5bf5cea",
   "metadata": {},
   "outputs": [
    {
     "data": {
      "text/plain": [
       "True"
      ]
     },
     "execution_count": 174,
     "metadata": {},
     "output_type": "execute_result"
    }
   ],
   "source": [
    "is_palindrome('Radar')"
   ]
  },
  {
   "cell_type": "code",
   "execution_count": 175,
   "id": "5f989b6b",
   "metadata": {},
   "outputs": [],
   "source": [
    "def fibonacci(n: int) -> int:\n",
    "    \"\"\"Return the `n`th Fibonacci number for positive `n`.\"\"\"\n",
    "    if 0 <= n <= 1:\n",
    "        return n\n",
    "    \n",
    "    n_minus1, n_minus2 = 1, 0\n",
    "    \n",
    "    for f in range(n - 1):\n",
    "        result = n_minus2 + n_minus1\n",
    "        n_minus2 = n_minus1\n",
    "        n_minus1 = result\n",
    "    \n",
    "    return result"
   ]
  },
  {
   "cell_type": "code",
   "execution_count": 176,
   "id": "ee8559d8",
   "metadata": {},
   "outputs": [],
   "source": [
    "# The parameters, x and y, can be either ints or floats. When you come to annotate values like this, use float.\n",
    "# You can use an int wherever a float is needed.\n",
    "\n",
    "def multiply(x: float, y: float) -> float:\n",
    "    result = x * y\n",
    "    return result"
   ]
  },
  {
   "cell_type": "markdown",
   "id": "cf06b12c",
   "metadata": {},
   "source": [
    "___"
   ]
  },
  {
   "cell_type": "markdown",
   "id": "019ff188",
   "metadata": {},
   "source": [
    "### Function annotations with default values"
   ]
  },
  {
   "cell_type": "code",
   "execution_count": 191,
   "id": "818a90c8",
   "metadata": {},
   "outputs": [],
   "source": [
    "def banner_text(text=' ', screen_width=80):\n",
    "    pass"
   ]
  },
  {
   "cell_type": "markdown",
   "id": "a2a2c627",
   "metadata": {},
   "source": [
    "__Remember that we don't put spaces around the equal sign, when providing a default parameter value.__\n",
    "<br>__!!! BUT that changes if we annotate the parameters.__ "
   ]
  },
  {
   "cell_type": "code",
   "execution_count": 192,
   "id": "f02ea7d0",
   "metadata": {},
   "outputs": [],
   "source": [
    "def banner_text(text: str = ' ', screen_width: int = 80):\n",
    "    pass"
   ]
  },
  {
   "cell_type": "code",
   "execution_count": 193,
   "id": "7d4345f1",
   "metadata": {},
   "outputs": [],
   "source": [
    "# When we add the annotations we should put spaces around the equal signs. "
   ]
  },
  {
   "cell_type": "code",
   "execution_count": 194,
   "id": "ba35cace",
   "metadata": {},
   "outputs": [],
   "source": [
    "# This function isn't intended to return a value. \n",
    "# To make that clear, we annotate the return value as None.\n",
    "\n",
    "def banner_text(text: str = ' ', screen_width: int = 80) -> None:\n",
    "    pass"
   ]
  },
  {
   "cell_type": "markdown",
   "id": "132117e6",
   "metadata": {},
   "source": [
    "___"
   ]
  },
  {
   "cell_type": "code",
   "execution_count": 195,
   "id": "0ce92427",
   "metadata": {},
   "outputs": [],
   "source": [
    "def banner_text(text: str = \" \", screen_width: int = 80) -> None:\n",
    "    \"\"\" Print a string centred, with ** either side.\n",
    "  \n",
    "    :param text: The string to print.\n",
    "        An asterisk (*) will result in a row of asterisks.\n",
    "        The default will print a blank line, with a ** border at\n",
    "        the left and right edges.\n",
    "    :param screen_width: The overall width to print within\n",
    "        (including the 4 spaces for the ** either side).\n",
    "    :raises ValueError: if the supplied string is too long to fit.\n",
    "    \"\"\"\n",
    "    if len(text) > screen_width - 4:\n",
    "        raise ValueError(\"String '{0}' is larger than specified width {1}\"\n",
    "                         .format(text, screen_width))\n",
    " \n",
    "    if text == \"*\":\n",
    "        print(\"*\" * screen_width)\n",
    "    else:\n",
    "        centred_text = text.center(screen_width - 4)\n",
    "        output_string = \"**{0}**\".format(centred_text)\n",
    "        print(output_string)"
   ]
  },
  {
   "cell_type": "code",
   "execution_count": 197,
   "id": "107e87a9",
   "metadata": {},
   "outputs": [
    {
     "name": "stdout",
     "output_type": "stream",
     "text": [
      "**                                                                            **\n"
     ]
    }
   ],
   "source": [
    "banner_text()"
   ]
  },
  {
   "cell_type": "markdown",
   "id": "64dc5453",
   "metadata": {},
   "source": [
    "Note that the return value shouldn't be documented in Docstring. Even though Python automatically returns None, the function isn't intended to return a useful value.\n",
    "\n",
    "We've included :raises ValueError: to document the function's behaviour, if the caller passes in a string that's too long to fit."
   ]
  },
  {
   "cell_type": "markdown",
   "id": "b382562e",
   "metadata": {},
   "source": [
    "___"
   ]
  },
  {
   "cell_type": "markdown",
   "id": "5dabd739",
   "metadata": {},
   "source": [
    "### Printing in colour"
   ]
  },
  {
   "cell_type": "code",
   "execution_count": 4,
   "id": "b29c6ad7",
   "metadata": {},
   "outputs": [
    {
     "name": "stdout",
     "output_type": "stream",
     "text": [
      "# Some ANSI escape sequences for colours and effects\n",
      "BLACK = '\\u001b[30m'\n",
      "RED = '\\u001b[31m'\n",
      "GREEN = '\\u001b[32m'\n",
      "YELLOW = '\\u001b[33m'\n",
      "BLUE = '\\u001b[34m'\n",
      "MAGENTA = '\\u001b[35m'\n",
      "CYAN = '\\u001b[36m'\n",
      "WHITE = '\\u001b[37m'\n",
      "RESET = '\\u001b[0m'\n",
      " \n",
      "BOLD = '\\u001b[1m'\n",
      "UNDERLINE = '\\u001b[4m'\n",
      "REVERSE = '\\u001b[7m'\n"
     ]
    }
   ],
   "source": [
    "with open(\"colour_codes.txt\") as f:\n",
    "    contents = f.read()\n",
    "    print(contents)"
   ]
  },
  {
   "cell_type": "code",
   "execution_count": 19,
   "id": "c8ea5707",
   "metadata": {},
   "outputs": [],
   "source": [
    "BLACK = '\\u001b[30m'\n",
    "RED = '\\u001b[31m'\n",
    "GREEN = '\\u001b[32m'\n",
    "YELLOW = '\\u001b[33m'\n",
    "BLUE = '\\u001b[34m'\n",
    "MAGENTA = '\\u001b[35m'\n",
    "CYAN = '\\u001b[36m'\n",
    "WHITE = '\\u001b[37m'\n",
    "RESET = '\\u001b[0m'\n",
    " \n",
    "BOLD = '\\u001b[1m'\n",
    "UNDERLINE = '\\u001b[4m'\n",
    "REVERSE = '\\u001b[7m'"
   ]
  },
  {
   "cell_type": "code",
   "execution_count": 20,
   "id": "da461ce1",
   "metadata": {},
   "outputs": [
    {
     "name": "stdout",
     "output_type": "stream",
     "text": [
      "\u001b[31m this is in RED\n",
      "and also is this\n"
     ]
    }
   ],
   "source": [
    "print(RED, 'this is in RED')\n",
    "print('and also is this')"
   ]
  },
  {
   "cell_type": "markdown",
   "id": "c0bb4408",
   "metadata": {},
   "source": [
    "The changes we make to the colors, etc, will stay in effect until we cancel them."
   ]
  },
  {
   "cell_type": "code",
   "execution_count": 21,
   "id": "a3ebe061",
   "metadata": {},
   "outputs": [],
   "source": [
    "def colour_print(text: str, effect: str) -> None:\n",
    "    output_string = f'{effect}{text}{RESET}'\n",
    "    print(output_string)"
   ]
  },
  {
   "cell_type": "code",
   "execution_count": 22,
   "id": "983625fd",
   "metadata": {},
   "outputs": [],
   "source": [
    "# None - The function prints to the screen - it doesn't return a value."
   ]
  },
  {
   "cell_type": "code",
   "execution_count": 23,
   "id": "658ec94b",
   "metadata": {},
   "outputs": [
    {
     "name": "stdout",
     "output_type": "stream",
     "text": [
      "\u001b[31mHello, Red\u001b[0m\n",
      "This should be in the default terminal colour\n",
      "\u001b[34mHello, Blue\u001b[0m\n",
      "\u001b[33mHello, Yellow\u001b[0m\n",
      "\u001b[1mHello, Bold\u001b[0m\n",
      "\u001b[4mHello, Underline\u001b[0m\n",
      "\u001b[7mHello, Reverse\u001b[0m\n",
      "\u001b[30mHello, Black\u001b[0m\n"
     ]
    }
   ],
   "source": [
    "colour_print(\"Hello, Red\", RED)\n",
    "# test that the colour was reset\n",
    "print(\"This should be in the default terminal colour\")\n",
    "colour_print(\"Hello, Blue\", BLUE)\n",
    "colour_print(\"Hello, Yellow\", YELLOW)\n",
    "colour_print(\"Hello, Bold\", BOLD)\n",
    "colour_print(\"Hello, Underline\", UNDERLINE)\n",
    "colour_print(\"Hello, Reverse\", REVERSE)\n",
    "colour_print(\"Hello, Black\", BLACK)"
   ]
  },
  {
   "cell_type": "markdown",
   "id": "e8ce026e",
   "metadata": {},
   "source": [
    "___"
   ]
  },
  {
   "cell_type": "markdown",
   "id": "30b04244",
   "metadata": {},
   "source": [
    "### Opening a Command Prompt or Terminal Session"
   ]
  },
  {
   "cell_type": "markdown",
   "id": "565cb427",
   "metadata": {},
   "source": [
    "type __cmd__ into the search bar"
   ]
  },
  {
   "cell_type": "markdown",
   "id": "7f0b25c1",
   "metadata": {},
   "source": [
    "So the command to change directory is the same on all three operating systems; \n",
    "\n",
    "__cd - short for change directory, and paste in the path from your clipboard__"
   ]
  },
  {
   "cell_type": "markdown",
   "id": "83b900ec",
   "metadata": {},
   "source": [
    "python --version\n",
    "<br>(in Anaconda Prompt)"
   ]
  },
  {
   "cell_type": "markdown",
   "id": "f47a0821",
   "metadata": {},
   "source": [
    "___"
   ]
  },
  {
   "cell_type": "markdown",
   "id": "3dba4d9e",
   "metadata": {},
   "source": [
    "___"
   ]
  },
  {
   "cell_type": "markdown",
   "id": "239ce7ec",
   "metadata": {},
   "source": [
    "### Putting  the HiLo game into a function"
   ]
  },
  {
   "cell_type": "markdown",
   "id": "6d585597",
   "metadata": {},
   "source": [
    "A function to test our HiLo game"
   ]
  },
  {
   "cell_type": "code",
   "execution_count": 26,
   "id": "0d38dfa9",
   "metadata": {},
   "outputs": [],
   "source": [
    "LOW = 1\n",
    "HIGH = 1000\n",
    "\n",
    "def guess_binary(answer, low, high):\n",
    "    guesses = 1\n",
    "    while True:\n",
    "        guess = low + (high - low) // 2\n",
    "        if guess < answer:\n",
    "            low = guess + 1\n",
    "        elif guess > answer:\n",
    "            high = guess - 1\n",
    "        elif guess == answer:\n",
    "            return guesses\n",
    "        guesses += 1"
   ]
  },
  {
   "cell_type": "code",
   "execution_count": 27,
   "id": "5cc56841",
   "metadata": {},
   "outputs": [
    {
     "name": "stdout",
     "output_type": "stream",
     "text": [
      "1 guessed in 9\n",
      "2 guessed in 10\n",
      "3 guessed in 8\n",
      "4 guessed in 10\n",
      "5 guessed in 9\n",
      "6 guessed in 10\n",
      "7 guessed in 7\n",
      "8 guessed in 10\n",
      "9 guessed in 9\n",
      "10 guessed in 10\n",
      "11 guessed in 8\n",
      "12 guessed in 10\n",
      "13 guessed in 9\n",
      "14 guessed in 10\n",
      "15 guessed in 6\n",
      "16 guessed in 10\n",
      "17 guessed in 9\n",
      "18 guessed in 10\n",
      "19 guessed in 8\n",
      "20 guessed in 10\n",
      "21 guessed in 9\n",
      "22 guessed in 10\n",
      "23 guessed in 7\n",
      "24 guessed in 10\n",
      "25 guessed in 9\n",
      "26 guessed in 10\n",
      "27 guessed in 8\n",
      "28 guessed in 10\n",
      "29 guessed in 9\n",
      "30 guessed in 10\n",
      "31 guessed in 5\n",
      "32 guessed in 9\n",
      "33 guessed in 10\n",
      "34 guessed in 8\n",
      "35 guessed in 10\n",
      "36 guessed in 9\n",
      "37 guessed in 10\n",
      "38 guessed in 7\n",
      "39 guessed in 10\n",
      "40 guessed in 9\n",
      "41 guessed in 10\n",
      "42 guessed in 8\n",
      "43 guessed in 10\n",
      "44 guessed in 9\n",
      "45 guessed in 10\n",
      "46 guessed in 6\n",
      "47 guessed in 10\n",
      "48 guessed in 9\n",
      "49 guessed in 10\n",
      "50 guessed in 8\n",
      "51 guessed in 10\n",
      "52 guessed in 9\n",
      "53 guessed in 10\n",
      "54 guessed in 7\n",
      "55 guessed in 10\n",
      "56 guessed in 9\n",
      "57 guessed in 10\n",
      "58 guessed in 8\n",
      "59 guessed in 10\n",
      "60 guessed in 9\n",
      "61 guessed in 10\n",
      "62 guessed in 4\n",
      "63 guessed in 9\n",
      "64 guessed in 10\n",
      "65 guessed in 8\n",
      "66 guessed in 10\n",
      "67 guessed in 9\n",
      "68 guessed in 10\n",
      "69 guessed in 7\n",
      "70 guessed in 10\n",
      "71 guessed in 9\n",
      "72 guessed in 10\n",
      "73 guessed in 8\n",
      "74 guessed in 10\n",
      "75 guessed in 9\n",
      "76 guessed in 10\n",
      "77 guessed in 6\n",
      "78 guessed in 10\n",
      "79 guessed in 9\n",
      "80 guessed in 10\n",
      "81 guessed in 8\n",
      "82 guessed in 10\n",
      "83 guessed in 9\n",
      "84 guessed in 10\n",
      "85 guessed in 7\n",
      "86 guessed in 10\n",
      "87 guessed in 9\n",
      "88 guessed in 10\n",
      "89 guessed in 8\n",
      "90 guessed in 10\n",
      "91 guessed in 9\n",
      "92 guessed in 10\n",
      "93 guessed in 5\n",
      "94 guessed in 10\n",
      "95 guessed in 9\n",
      "96 guessed in 10\n",
      "97 guessed in 8\n",
      "98 guessed in 10\n",
      "99 guessed in 9\n",
      "100 guessed in 10\n",
      "101 guessed in 7\n",
      "102 guessed in 10\n",
      "103 guessed in 9\n",
      "104 guessed in 10\n",
      "105 guessed in 8\n",
      "106 guessed in 10\n",
      "107 guessed in 9\n",
      "108 guessed in 10\n",
      "109 guessed in 6\n",
      "110 guessed in 10\n",
      "111 guessed in 9\n",
      "112 guessed in 10\n",
      "113 guessed in 8\n",
      "114 guessed in 10\n",
      "115 guessed in 9\n",
      "116 guessed in 10\n",
      "117 guessed in 7\n",
      "118 guessed in 10\n",
      "119 guessed in 9\n",
      "120 guessed in 10\n",
      "121 guessed in 8\n",
      "122 guessed in 10\n",
      "123 guessed in 9\n",
      "124 guessed in 10\n",
      "125 guessed in 3\n",
      "126 guessed in 9\n",
      "127 guessed in 10\n",
      "128 guessed in 8\n",
      "129 guessed in 10\n",
      "130 guessed in 9\n",
      "131 guessed in 10\n",
      "132 guessed in 7\n",
      "133 guessed in 10\n",
      "134 guessed in 9\n",
      "135 guessed in 10\n",
      "136 guessed in 8\n",
      "137 guessed in 10\n",
      "138 guessed in 9\n",
      "139 guessed in 10\n",
      "140 guessed in 6\n",
      "141 guessed in 10\n",
      "142 guessed in 9\n",
      "143 guessed in 10\n",
      "144 guessed in 8\n",
      "145 guessed in 10\n",
      "146 guessed in 9\n",
      "147 guessed in 10\n",
      "148 guessed in 7\n",
      "149 guessed in 10\n",
      "150 guessed in 9\n",
      "151 guessed in 10\n",
      "152 guessed in 8\n",
      "153 guessed in 10\n",
      "154 guessed in 9\n",
      "155 guessed in 10\n",
      "156 guessed in 5\n",
      "157 guessed in 9\n",
      "158 guessed in 10\n",
      "159 guessed in 8\n",
      "160 guessed in 10\n",
      "161 guessed in 9\n",
      "162 guessed in 10\n",
      "163 guessed in 7\n",
      "164 guessed in 10\n",
      "165 guessed in 9\n",
      "166 guessed in 10\n",
      "167 guessed in 8\n",
      "168 guessed in 10\n",
      "169 guessed in 9\n",
      "170 guessed in 10\n",
      "171 guessed in 6\n",
      "172 guessed in 10\n",
      "173 guessed in 9\n",
      "174 guessed in 10\n",
      "175 guessed in 8\n",
      "176 guessed in 10\n",
      "177 guessed in 9\n",
      "178 guessed in 10\n",
      "179 guessed in 7\n",
      "180 guessed in 10\n",
      "181 guessed in 9\n",
      "182 guessed in 10\n",
      "183 guessed in 8\n",
      "184 guessed in 10\n",
      "185 guessed in 9\n",
      "186 guessed in 10\n",
      "187 guessed in 4\n",
      "188 guessed in 9\n",
      "189 guessed in 10\n",
      "190 guessed in 8\n",
      "191 guessed in 10\n",
      "192 guessed in 9\n",
      "193 guessed in 10\n",
      "194 guessed in 7\n",
      "195 guessed in 10\n",
      "196 guessed in 9\n",
      "197 guessed in 10\n",
      "198 guessed in 8\n",
      "199 guessed in 10\n",
      "200 guessed in 9\n",
      "201 guessed in 10\n",
      "202 guessed in 6\n",
      "203 guessed in 10\n",
      "204 guessed in 9\n",
      "205 guessed in 10\n",
      "206 guessed in 8\n",
      "207 guessed in 10\n",
      "208 guessed in 9\n",
      "209 guessed in 10\n",
      "210 guessed in 7\n",
      "211 guessed in 10\n",
      "212 guessed in 9\n",
      "213 guessed in 10\n",
      "214 guessed in 8\n",
      "215 guessed in 10\n",
      "216 guessed in 9\n",
      "217 guessed in 10\n",
      "218 guessed in 5\n",
      "219 guessed in 10\n",
      "220 guessed in 9\n",
      "221 guessed in 10\n",
      "222 guessed in 8\n",
      "223 guessed in 10\n",
      "224 guessed in 9\n",
      "225 guessed in 10\n",
      "226 guessed in 7\n",
      "227 guessed in 10\n",
      "228 guessed in 9\n",
      "229 guessed in 10\n",
      "230 guessed in 8\n",
      "231 guessed in 10\n",
      "232 guessed in 9\n",
      "233 guessed in 10\n",
      "234 guessed in 6\n",
      "235 guessed in 10\n",
      "236 guessed in 9\n",
      "237 guessed in 10\n",
      "238 guessed in 8\n",
      "239 guessed in 10\n",
      "240 guessed in 9\n",
      "241 guessed in 10\n",
      "242 guessed in 7\n",
      "243 guessed in 10\n",
      "244 guessed in 9\n",
      "245 guessed in 10\n",
      "246 guessed in 8\n",
      "247 guessed in 10\n",
      "248 guessed in 9\n",
      "249 guessed in 10\n",
      "250 guessed in 2\n",
      "251 guessed in 9\n",
      "252 guessed in 10\n",
      "253 guessed in 8\n",
      "254 guessed in 10\n",
      "255 guessed in 9\n",
      "256 guessed in 10\n",
      "257 guessed in 7\n",
      "258 guessed in 10\n",
      "259 guessed in 9\n",
      "260 guessed in 10\n",
      "261 guessed in 8\n",
      "262 guessed in 10\n",
      "263 guessed in 9\n",
      "264 guessed in 10\n",
      "265 guessed in 6\n",
      "266 guessed in 10\n",
      "267 guessed in 9\n",
      "268 guessed in 10\n",
      "269 guessed in 8\n",
      "270 guessed in 10\n",
      "271 guessed in 9\n",
      "272 guessed in 10\n",
      "273 guessed in 7\n",
      "274 guessed in 10\n",
      "275 guessed in 9\n",
      "276 guessed in 10\n",
      "277 guessed in 8\n",
      "278 guessed in 10\n",
      "279 guessed in 9\n",
      "280 guessed in 10\n",
      "281 guessed in 5\n",
      "282 guessed in 9\n",
      "283 guessed in 10\n",
      "284 guessed in 8\n",
      "285 guessed in 10\n",
      "286 guessed in 9\n",
      "287 guessed in 10\n",
      "288 guessed in 7\n",
      "289 guessed in 10\n",
      "290 guessed in 9\n",
      "291 guessed in 10\n",
      "292 guessed in 8\n",
      "293 guessed in 10\n",
      "294 guessed in 9\n",
      "295 guessed in 10\n",
      "296 guessed in 6\n",
      "297 guessed in 10\n",
      "298 guessed in 9\n",
      "299 guessed in 10\n",
      "300 guessed in 8\n",
      "301 guessed in 10\n",
      "302 guessed in 9\n",
      "303 guessed in 10\n",
      "304 guessed in 7\n",
      "305 guessed in 10\n",
      "306 guessed in 9\n",
      "307 guessed in 10\n",
      "308 guessed in 8\n",
      "309 guessed in 10\n",
      "310 guessed in 9\n",
      "311 guessed in 10\n",
      "312 guessed in 4\n",
      "313 guessed in 9\n",
      "314 guessed in 10\n",
      "315 guessed in 8\n",
      "316 guessed in 10\n",
      "317 guessed in 9\n",
      "318 guessed in 10\n",
      "319 guessed in 7\n",
      "320 guessed in 10\n",
      "321 guessed in 9\n",
      "322 guessed in 10\n",
      "323 guessed in 8\n",
      "324 guessed in 10\n",
      "325 guessed in 9\n",
      "326 guessed in 10\n",
      "327 guessed in 6\n",
      "328 guessed in 10\n",
      "329 guessed in 9\n",
      "330 guessed in 10\n",
      "331 guessed in 8\n",
      "332 guessed in 10\n",
      "333 guessed in 9\n",
      "334 guessed in 10\n",
      "335 guessed in 7\n",
      "336 guessed in 10\n",
      "337 guessed in 9\n",
      "338 guessed in 10\n",
      "339 guessed in 8\n",
      "340 guessed in 10\n",
      "341 guessed in 9\n",
      "342 guessed in 10\n",
      "343 guessed in 5\n",
      "344 guessed in 10\n",
      "345 guessed in 9\n",
      "346 guessed in 10\n",
      "347 guessed in 8\n",
      "348 guessed in 10\n",
      "349 guessed in 9\n",
      "350 guessed in 10\n",
      "351 guessed in 7\n",
      "352 guessed in 10\n",
      "353 guessed in 9\n",
      "354 guessed in 10\n",
      "355 guessed in 8\n",
      "356 guessed in 10\n",
      "357 guessed in 9\n",
      "358 guessed in 10\n",
      "359 guessed in 6\n",
      "360 guessed in 10\n",
      "361 guessed in 9\n",
      "362 guessed in 10\n",
      "363 guessed in 8\n",
      "364 guessed in 10\n",
      "365 guessed in 9\n",
      "366 guessed in 10\n",
      "367 guessed in 7\n",
      "368 guessed in 10\n",
      "369 guessed in 9\n",
      "370 guessed in 10\n",
      "371 guessed in 8\n",
      "372 guessed in 10\n",
      "373 guessed in 9\n",
      "374 guessed in 10\n",
      "375 guessed in 3\n",
      "376 guessed in 9\n",
      "377 guessed in 10\n",
      "378 guessed in 8\n",
      "379 guessed in 10\n",
      "380 guessed in 9\n",
      "381 guessed in 10\n",
      "382 guessed in 7\n",
      "383 guessed in 10\n",
      "384 guessed in 9\n",
      "385 guessed in 10\n",
      "386 guessed in 8\n",
      "387 guessed in 10\n",
      "388 guessed in 9\n",
      "389 guessed in 10\n",
      "390 guessed in 6\n",
      "391 guessed in 10\n",
      "392 guessed in 9\n",
      "393 guessed in 10\n",
      "394 guessed in 8\n",
      "395 guessed in 10\n",
      "396 guessed in 9\n",
      "397 guessed in 10\n",
      "398 guessed in 7\n",
      "399 guessed in 10\n",
      "400 guessed in 9\n",
      "401 guessed in 10\n",
      "402 guessed in 8\n",
      "403 guessed in 10\n",
      "404 guessed in 9\n",
      "405 guessed in 10\n",
      "406 guessed in 5\n",
      "407 guessed in 9\n",
      "408 guessed in 10\n",
      "409 guessed in 8\n",
      "410 guessed in 10\n",
      "411 guessed in 9\n",
      "412 guessed in 10\n",
      "413 guessed in 7\n",
      "414 guessed in 10\n",
      "415 guessed in 9\n",
      "416 guessed in 10\n",
      "417 guessed in 8\n",
      "418 guessed in 10\n",
      "419 guessed in 9\n",
      "420 guessed in 10\n",
      "421 guessed in 6\n",
      "422 guessed in 10\n",
      "423 guessed in 9\n",
      "424 guessed in 10\n",
      "425 guessed in 8\n",
      "426 guessed in 10\n",
      "427 guessed in 9\n",
      "428 guessed in 10\n",
      "429 guessed in 7\n",
      "430 guessed in 10\n",
      "431 guessed in 9\n",
      "432 guessed in 10\n",
      "433 guessed in 8\n",
      "434 guessed in 10\n",
      "435 guessed in 9\n",
      "436 guessed in 10\n",
      "437 guessed in 4\n",
      "438 guessed in 9\n",
      "439 guessed in 10\n",
      "440 guessed in 8\n",
      "441 guessed in 10\n",
      "442 guessed in 9\n",
      "443 guessed in 10\n",
      "444 guessed in 7\n",
      "445 guessed in 10\n",
      "446 guessed in 9\n",
      "447 guessed in 10\n",
      "448 guessed in 8\n",
      "449 guessed in 10\n",
      "450 guessed in 9\n",
      "451 guessed in 10\n",
      "452 guessed in 6\n",
      "453 guessed in 10\n",
      "454 guessed in 9\n",
      "455 guessed in 10\n",
      "456 guessed in 8\n",
      "457 guessed in 10\n",
      "458 guessed in 9\n",
      "459 guessed in 10\n",
      "460 guessed in 7\n",
      "461 guessed in 10\n",
      "462 guessed in 9\n",
      "463 guessed in 10\n",
      "464 guessed in 8\n",
      "465 guessed in 10\n",
      "466 guessed in 9\n",
      "467 guessed in 10\n",
      "468 guessed in 5\n",
      "469 guessed in 10\n",
      "470 guessed in 9\n",
      "471 guessed in 10\n",
      "472 guessed in 8\n",
      "473 guessed in 10\n",
      "474 guessed in 9\n",
      "475 guessed in 10\n",
      "476 guessed in 7\n",
      "477 guessed in 10\n",
      "478 guessed in 9\n",
      "479 guessed in 10\n",
      "480 guessed in 8\n",
      "481 guessed in 10\n",
      "482 guessed in 9\n",
      "483 guessed in 10\n",
      "484 guessed in 6\n",
      "485 guessed in 10\n",
      "486 guessed in 9\n",
      "487 guessed in 10\n",
      "488 guessed in 8\n",
      "489 guessed in 10\n",
      "490 guessed in 9\n",
      "491 guessed in 10\n",
      "492 guessed in 7\n",
      "493 guessed in 10\n",
      "494 guessed in 9\n",
      "495 guessed in 10\n",
      "496 guessed in 8\n",
      "497 guessed in 10\n",
      "498 guessed in 9\n",
      "499 guessed in 10\n",
      "500 guessed in 1\n",
      "501 guessed in 9\n",
      "502 guessed in 10\n",
      "503 guessed in 8\n",
      "504 guessed in 10\n",
      "505 guessed in 9\n",
      "506 guessed in 10\n",
      "507 guessed in 7\n",
      "508 guessed in 10\n",
      "509 guessed in 9\n",
      "510 guessed in 10\n",
      "511 guessed in 8\n",
      "512 guessed in 10\n",
      "513 guessed in 9\n",
      "514 guessed in 10\n",
      "515 guessed in 6\n",
      "516 guessed in 10\n",
      "517 guessed in 9\n",
      "518 guessed in 10\n",
      "519 guessed in 8\n",
      "520 guessed in 10\n",
      "521 guessed in 9\n",
      "522 guessed in 10\n",
      "523 guessed in 7\n",
      "524 guessed in 10\n",
      "525 guessed in 9\n",
      "526 guessed in 10\n",
      "527 guessed in 8\n",
      "528 guessed in 10\n",
      "529 guessed in 9\n",
      "530 guessed in 10\n",
      "531 guessed in 5\n",
      "532 guessed in 9\n",
      "533 guessed in 10\n",
      "534 guessed in 8\n",
      "535 guessed in 10\n",
      "536 guessed in 9\n",
      "537 guessed in 10\n",
      "538 guessed in 7\n",
      "539 guessed in 10\n",
      "540 guessed in 9\n",
      "541 guessed in 10\n",
      "542 guessed in 8\n",
      "543 guessed in 10\n",
      "544 guessed in 9\n",
      "545 guessed in 10\n",
      "546 guessed in 6\n",
      "547 guessed in 10\n",
      "548 guessed in 9\n",
      "549 guessed in 10\n",
      "550 guessed in 8\n",
      "551 guessed in 10\n",
      "552 guessed in 9\n",
      "553 guessed in 10\n",
      "554 guessed in 7\n",
      "555 guessed in 10\n",
      "556 guessed in 9\n",
      "557 guessed in 10\n",
      "558 guessed in 8\n",
      "559 guessed in 10\n",
      "560 guessed in 9\n",
      "561 guessed in 10\n",
      "562 guessed in 4\n",
      "563 guessed in 9\n",
      "564 guessed in 10\n",
      "565 guessed in 8\n",
      "566 guessed in 10\n",
      "567 guessed in 9\n",
      "568 guessed in 10\n",
      "569 guessed in 7\n",
      "570 guessed in 10\n",
      "571 guessed in 9\n",
      "572 guessed in 10\n",
      "573 guessed in 8\n",
      "574 guessed in 10\n",
      "575 guessed in 9\n",
      "576 guessed in 10\n",
      "577 guessed in 6\n",
      "578 guessed in 10\n",
      "579 guessed in 9\n",
      "580 guessed in 10\n",
      "581 guessed in 8\n",
      "582 guessed in 10\n",
      "583 guessed in 9\n",
      "584 guessed in 10\n",
      "585 guessed in 7\n",
      "586 guessed in 10\n",
      "587 guessed in 9\n",
      "588 guessed in 10\n",
      "589 guessed in 8\n",
      "590 guessed in 10\n",
      "591 guessed in 9\n",
      "592 guessed in 10\n",
      "593 guessed in 5\n",
      "594 guessed in 10\n",
      "595 guessed in 9\n",
      "596 guessed in 10\n",
      "597 guessed in 8\n",
      "598 guessed in 10\n",
      "599 guessed in 9\n",
      "600 guessed in 10\n",
      "601 guessed in 7\n",
      "602 guessed in 10\n",
      "603 guessed in 9\n",
      "604 guessed in 10\n",
      "605 guessed in 8\n",
      "606 guessed in 10\n",
      "607 guessed in 9\n",
      "608 guessed in 10\n",
      "609 guessed in 6\n",
      "610 guessed in 10\n",
      "611 guessed in 9\n",
      "612 guessed in 10\n",
      "613 guessed in 8\n",
      "614 guessed in 10\n",
      "615 guessed in 9\n",
      "616 guessed in 10\n",
      "617 guessed in 7\n",
      "618 guessed in 10\n",
      "619 guessed in 9\n",
      "620 guessed in 10\n",
      "621 guessed in 8\n",
      "622 guessed in 10\n",
      "623 guessed in 9\n",
      "624 guessed in 10\n",
      "625 guessed in 3\n",
      "626 guessed in 9\n",
      "627 guessed in 10\n",
      "628 guessed in 8\n",
      "629 guessed in 10\n",
      "630 guessed in 9\n",
      "631 guessed in 10\n",
      "632 guessed in 7\n",
      "633 guessed in 10\n",
      "634 guessed in 9\n",
      "635 guessed in 10\n",
      "636 guessed in 8\n",
      "637 guessed in 10\n",
      "638 guessed in 9\n",
      "639 guessed in 10\n",
      "640 guessed in 6\n",
      "641 guessed in 10\n",
      "642 guessed in 9\n",
      "643 guessed in 10\n",
      "644 guessed in 8\n",
      "645 guessed in 10\n",
      "646 guessed in 9\n",
      "647 guessed in 10\n",
      "648 guessed in 7\n",
      "649 guessed in 10\n",
      "650 guessed in 9\n",
      "651 guessed in 10\n",
      "652 guessed in 8\n",
      "653 guessed in 10\n",
      "654 guessed in 9\n",
      "655 guessed in 10\n",
      "656 guessed in 5\n",
      "657 guessed in 9\n",
      "658 guessed in 10\n",
      "659 guessed in 8\n",
      "660 guessed in 10\n",
      "661 guessed in 9\n",
      "662 guessed in 10\n",
      "663 guessed in 7\n",
      "664 guessed in 10\n",
      "665 guessed in 9\n",
      "666 guessed in 10\n",
      "667 guessed in 8\n",
      "668 guessed in 10\n",
      "669 guessed in 9\n",
      "670 guessed in 10\n",
      "671 guessed in 6\n",
      "672 guessed in 10\n",
      "673 guessed in 9\n",
      "674 guessed in 10\n",
      "675 guessed in 8\n",
      "676 guessed in 10\n",
      "677 guessed in 9\n",
      "678 guessed in 10\n",
      "679 guessed in 7\n",
      "680 guessed in 10\n",
      "681 guessed in 9\n",
      "682 guessed in 10\n",
      "683 guessed in 8\n",
      "684 guessed in 10\n",
      "685 guessed in 9\n",
      "686 guessed in 10\n",
      "687 guessed in 4\n",
      "688 guessed in 9\n",
      "689 guessed in 10\n",
      "690 guessed in 8\n",
      "691 guessed in 10\n",
      "692 guessed in 9\n",
      "693 guessed in 10\n",
      "694 guessed in 7\n",
      "695 guessed in 10\n",
      "696 guessed in 9\n",
      "697 guessed in 10\n",
      "698 guessed in 8\n",
      "699 guessed in 10\n",
      "700 guessed in 9\n",
      "701 guessed in 10\n",
      "702 guessed in 6\n",
      "703 guessed in 10\n",
      "704 guessed in 9\n",
      "705 guessed in 10\n",
      "706 guessed in 8\n",
      "707 guessed in 10\n",
      "708 guessed in 9\n",
      "709 guessed in 10\n",
      "710 guessed in 7\n",
      "711 guessed in 10\n",
      "712 guessed in 9\n",
      "713 guessed in 10\n",
      "714 guessed in 8\n",
      "715 guessed in 10\n",
      "716 guessed in 9\n",
      "717 guessed in 10\n",
      "718 guessed in 5\n",
      "719 guessed in 10\n",
      "720 guessed in 9\n",
      "721 guessed in 10\n",
      "722 guessed in 8\n",
      "723 guessed in 10\n",
      "724 guessed in 9\n",
      "725 guessed in 10\n",
      "726 guessed in 7\n",
      "727 guessed in 10\n",
      "728 guessed in 9\n",
      "729 guessed in 10\n",
      "730 guessed in 8\n",
      "731 guessed in 10\n",
      "732 guessed in 9\n",
      "733 guessed in 10\n",
      "734 guessed in 6\n",
      "735 guessed in 10\n",
      "736 guessed in 9\n",
      "737 guessed in 10\n",
      "738 guessed in 8\n",
      "739 guessed in 10\n",
      "740 guessed in 9\n",
      "741 guessed in 10\n",
      "742 guessed in 7\n",
      "743 guessed in 10\n",
      "744 guessed in 9\n",
      "745 guessed in 10\n",
      "746 guessed in 8\n",
      "747 guessed in 10\n",
      "748 guessed in 9\n",
      "749 guessed in 10\n",
      "750 guessed in 2\n",
      "751 guessed in 9\n",
      "752 guessed in 10\n",
      "753 guessed in 8\n",
      "754 guessed in 10\n",
      "755 guessed in 9\n",
      "756 guessed in 10\n",
      "757 guessed in 7\n",
      "758 guessed in 10\n",
      "759 guessed in 9\n",
      "760 guessed in 10\n",
      "761 guessed in 8\n",
      "762 guessed in 10\n",
      "763 guessed in 9\n",
      "764 guessed in 10\n",
      "765 guessed in 6\n",
      "766 guessed in 10\n",
      "767 guessed in 9\n",
      "768 guessed in 10\n",
      "769 guessed in 8\n",
      "770 guessed in 10\n",
      "771 guessed in 9\n",
      "772 guessed in 10\n",
      "773 guessed in 7\n",
      "774 guessed in 10\n",
      "775 guessed in 9\n",
      "776 guessed in 10\n",
      "777 guessed in 8\n",
      "778 guessed in 10\n",
      "779 guessed in 9\n",
      "780 guessed in 10\n",
      "781 guessed in 5\n",
      "782 guessed in 9\n",
      "783 guessed in 10\n",
      "784 guessed in 8\n",
      "785 guessed in 10\n",
      "786 guessed in 9\n",
      "787 guessed in 10\n",
      "788 guessed in 7\n",
      "789 guessed in 10\n",
      "790 guessed in 9\n",
      "791 guessed in 10\n",
      "792 guessed in 8\n",
      "793 guessed in 10\n",
      "794 guessed in 9\n",
      "795 guessed in 10\n",
      "796 guessed in 6\n",
      "797 guessed in 10\n",
      "798 guessed in 9\n",
      "799 guessed in 10\n",
      "800 guessed in 8\n",
      "801 guessed in 10\n",
      "802 guessed in 9\n",
      "803 guessed in 10\n",
      "804 guessed in 7\n",
      "805 guessed in 10\n",
      "806 guessed in 9\n",
      "807 guessed in 10\n",
      "808 guessed in 8\n",
      "809 guessed in 10\n",
      "810 guessed in 9\n",
      "811 guessed in 10\n",
      "812 guessed in 4\n",
      "813 guessed in 9\n",
      "814 guessed in 10\n",
      "815 guessed in 8\n",
      "816 guessed in 10\n",
      "817 guessed in 9\n",
      "818 guessed in 10\n",
      "819 guessed in 7\n",
      "820 guessed in 10\n",
      "821 guessed in 9\n",
      "822 guessed in 10\n",
      "823 guessed in 8\n",
      "824 guessed in 10\n",
      "825 guessed in 9\n",
      "826 guessed in 10\n",
      "827 guessed in 6\n",
      "828 guessed in 10\n",
      "829 guessed in 9\n",
      "830 guessed in 10\n",
      "831 guessed in 8\n",
      "832 guessed in 10\n",
      "833 guessed in 9\n",
      "834 guessed in 10\n",
      "835 guessed in 7\n",
      "836 guessed in 10\n",
      "837 guessed in 9\n",
      "838 guessed in 10\n",
      "839 guessed in 8\n",
      "840 guessed in 10\n",
      "841 guessed in 9\n",
      "842 guessed in 10\n",
      "843 guessed in 5\n",
      "844 guessed in 10\n",
      "845 guessed in 9\n",
      "846 guessed in 10\n",
      "847 guessed in 8\n",
      "848 guessed in 10\n",
      "849 guessed in 9\n",
      "850 guessed in 10\n",
      "851 guessed in 7\n",
      "852 guessed in 10\n",
      "853 guessed in 9\n",
      "854 guessed in 10\n",
      "855 guessed in 8\n",
      "856 guessed in 10\n",
      "857 guessed in 9\n",
      "858 guessed in 10\n",
      "859 guessed in 6\n",
      "860 guessed in 10\n",
      "861 guessed in 9\n",
      "862 guessed in 10\n",
      "863 guessed in 8\n",
      "864 guessed in 10\n",
      "865 guessed in 9\n",
      "866 guessed in 10\n",
      "867 guessed in 7\n",
      "868 guessed in 10\n",
      "869 guessed in 9\n",
      "870 guessed in 10\n",
      "871 guessed in 8\n",
      "872 guessed in 10\n",
      "873 guessed in 9\n",
      "874 guessed in 10\n",
      "875 guessed in 3\n",
      "876 guessed in 9\n",
      "877 guessed in 10\n",
      "878 guessed in 8\n",
      "879 guessed in 10\n",
      "880 guessed in 9\n",
      "881 guessed in 10\n",
      "882 guessed in 7\n",
      "883 guessed in 10\n",
      "884 guessed in 9\n",
      "885 guessed in 10\n",
      "886 guessed in 8\n",
      "887 guessed in 10\n",
      "888 guessed in 9\n",
      "889 guessed in 10\n",
      "890 guessed in 6\n",
      "891 guessed in 10\n",
      "892 guessed in 9\n",
      "893 guessed in 10\n",
      "894 guessed in 8\n",
      "895 guessed in 10\n",
      "896 guessed in 9\n",
      "897 guessed in 10\n",
      "898 guessed in 7\n",
      "899 guessed in 10\n",
      "900 guessed in 9\n",
      "901 guessed in 10\n",
      "902 guessed in 8\n",
      "903 guessed in 10\n",
      "904 guessed in 9\n",
      "905 guessed in 10\n",
      "906 guessed in 5\n",
      "907 guessed in 10\n",
      "908 guessed in 9\n",
      "909 guessed in 10\n",
      "910 guessed in 8\n",
      "911 guessed in 10\n",
      "912 guessed in 9\n",
      "913 guessed in 10\n",
      "914 guessed in 7\n",
      "915 guessed in 10\n",
      "916 guessed in 9\n",
      "917 guessed in 10\n",
      "918 guessed in 8\n",
      "919 guessed in 10\n",
      "920 guessed in 9\n",
      "921 guessed in 10\n",
      "922 guessed in 6\n",
      "923 guessed in 10\n",
      "924 guessed in 9\n",
      "925 guessed in 10\n",
      "926 guessed in 8\n",
      "927 guessed in 10\n",
      "928 guessed in 9\n",
      "929 guessed in 10\n",
      "930 guessed in 7\n",
      "931 guessed in 10\n",
      "932 guessed in 9\n",
      "933 guessed in 10\n",
      "934 guessed in 8\n",
      "935 guessed in 10\n",
      "936 guessed in 9\n",
      "937 guessed in 10\n",
      "938 guessed in 4\n",
      "939 guessed in 9\n",
      "940 guessed in 10\n",
      "941 guessed in 8\n",
      "942 guessed in 10\n",
      "943 guessed in 9\n",
      "944 guessed in 10\n",
      "945 guessed in 7\n",
      "946 guessed in 10\n",
      "947 guessed in 9\n",
      "948 guessed in 10\n",
      "949 guessed in 8\n",
      "950 guessed in 10\n",
      "951 guessed in 9\n",
      "952 guessed in 10\n",
      "953 guessed in 6\n",
      "954 guessed in 10\n",
      "955 guessed in 9\n",
      "956 guessed in 10\n",
      "957 guessed in 8\n",
      "958 guessed in 10\n",
      "959 guessed in 9\n",
      "960 guessed in 10\n",
      "961 guessed in 7\n",
      "962 guessed in 10\n",
      "963 guessed in 9\n",
      "964 guessed in 10\n",
      "965 guessed in 8\n",
      "966 guessed in 10\n",
      "967 guessed in 9\n",
      "968 guessed in 10\n",
      "969 guessed in 5\n",
      "970 guessed in 10\n",
      "971 guessed in 9\n",
      "972 guessed in 10\n",
      "973 guessed in 8\n",
      "974 guessed in 10\n",
      "975 guessed in 9\n",
      "976 guessed in 10\n",
      "977 guessed in 7\n",
      "978 guessed in 10\n",
      "979 guessed in 9\n",
      "980 guessed in 10\n",
      "981 guessed in 8\n",
      "982 guessed in 10\n",
      "983 guessed in 9\n",
      "984 guessed in 10\n",
      "985 guessed in 6\n",
      "986 guessed in 10\n",
      "987 guessed in 9\n",
      "988 guessed in 10\n",
      "989 guessed in 8\n",
      "990 guessed in 10\n",
      "991 guessed in 9\n",
      "992 guessed in 10\n",
      "993 guessed in 7\n",
      "994 guessed in 10\n",
      "995 guessed in 9\n",
      "996 guessed in 10\n",
      "997 guessed in 8\n",
      "998 guessed in 10\n",
      "999 guessed in 9\n",
      "1000 guessed in 10\n"
     ]
    }
   ],
   "source": [
    "for number in range(LOW, HIGH + 1):\n",
    "    number_of_guesses = guess_binary(number, LOW, HIGH)\n",
    "    print(f'{number} guessed in {number_of_guesses}')"
   ]
  },
  {
   "cell_type": "markdown",
   "id": "a7b855a0",
   "metadata": {},
   "source": [
    "___"
   ]
  },
  {
   "cell_type": "markdown",
   "id": "5d2fa262",
   "metadata": {},
   "source": [
    "__!!!\n",
    "<br>Avoid using the same names for your parameters, as the variables in your main code.__\n",
    "<br> __!!!__"
   ]
  },
  {
   "cell_type": "markdown",
   "id": "a1781d8b",
   "metadata": {},
   "source": [
    "___"
   ]
  },
  {
   "cell_type": "markdown",
   "id": "ae8510a4",
   "metadata": {},
   "source": [
    "### Testing and Debugging"
   ]
  },
  {
   "cell_type": "markdown",
   "id": "7bf006ef",
   "metadata": {},
   "source": [
    "__Testing__ is the process of finding out if there are bugs in your code.\n",
    "<br>__Debugging__ is the process of working out what the bugs are, and fixing them."
   ]
  },
  {
   "cell_type": "markdown",
   "id": "6dd55974",
   "metadata": {},
   "source": [
    "___"
   ]
  },
  {
   "cell_type": "code",
   "execution_count": 28,
   "id": "a9f83894",
   "metadata": {},
   "outputs": [],
   "source": [
    "def fizz_buzz(number: int) -> str:\n",
    "    \"\"\"\n",
    "    Play Fizz Buzz\n",
    "    \n",
    "    param: \n",
    "        number: The number to check\n",
    "    return: \n",
    "        'fizz' if the number is divisible by 3.\n",
    "        'buzz' if the number is divisible by 5.\n",
    "        'fizz buzz' if it's divisible by both 3 and 5.\n",
    "        The number, as a string, otherwise.\n",
    "    \"\"\"\n",
    "    if number % 5 == 0 and number % 3 == 0:\n",
    "        return 'fizz buzz'\n",
    "    elif number % 3 == 0:\n",
    "        return 'fizz'\n",
    "    elif number % 5 == 0:\n",
    "        return 'buzz'\n",
    "    else:\n",
    "        return str(number)"
   ]
  },
  {
   "cell_type": "code",
   "execution_count": 34,
   "id": "af95f432",
   "metadata": {},
   "outputs": [
    {
     "name": "stdout",
     "output_type": "stream",
     "text": [
      "Play Fizz Buzz.  Press ENTER to start\n",
      "\n",
      "1\n",
      "Your go: 2\n",
      "fizz\n",
      "Your go: 4\n",
      "buzz\n",
      "Your go: fizz\n",
      "7\n",
      "Your go: 8\n",
      "fizz\n",
      "Your go: fizz\n",
      "You lose, the correct answer was buzz\n"
     ]
    }
   ],
   "source": [
    "input('Play Fizz Buzz.  Press ENTER to start')\n",
    "print()\n",
    "\n",
    "next_number = 0\n",
    "while next_number < 99:\n",
    "    next_number += 1\n",
    "    print(fizz_buzz(next_number))\n",
    "    next_number += 1\n",
    "    correct_answer = fizz_buzz(next_number)\n",
    "    players_answer = input('Your go: ')\n",
    "    if players_answer != correct_answer:\n",
    "        print('You lose, the correct answer was {}'.format(correct_answer))\n",
    "        break\n",
    "else:\n",
    "    print('Well done, you reached {}'.format(next_number))"
   ]
  },
  {
   "cell_type": "code",
   "execution_count": 35,
   "id": "07b3b3f4",
   "metadata": {},
   "outputs": [],
   "source": [
    "# Because we have to increment next number twice, a while loop is more suitable than a for loop. \n",
    "# It is possible to use a for loop, with a step of two, but it does get a bit messy.\n",
    "\n",
    "# An else block can be used to execute code, only when the loop terminates normally."
   ]
  },
  {
   "cell_type": "markdown",
   "id": "90d75fb5",
   "metadata": {},
   "source": [
    "____"
   ]
  },
  {
   "cell_type": "markdown",
   "id": "0e270114",
   "metadata": {},
   "source": [
    "### Factorial Function"
   ]
  },
  {
   "cell_type": "markdown",
   "id": "17eab17e",
   "metadata": {},
   "source": [
    "The convention is that 0! = 1"
   ]
  },
  {
   "cell_type": "code",
   "execution_count": 36,
   "id": "deb7195d",
   "metadata": {},
   "outputs": [],
   "source": [
    "# my solution\n",
    "\n",
    "def factorial(number: int) -> int:\n",
    "    \"\"\"\n",
    "    Calculating the factorial of a number.\n",
    "    \n",
    "    param:\n",
    "        number: its factorial will be calculated\n",
    "    return:\n",
    "        factorial of the specified number\n",
    "        factorial of 0 is equal to 1\n",
    "    \"\"\"\n",
    "    if number == 0:\n",
    "        return 1\n",
    "    else:\n",
    "        mult = 1\n",
    "        for i in range(2, number + 1):\n",
    "            mult *= i\n",
    "        return mult"
   ]
  },
  {
   "cell_type": "code",
   "execution_count": 37,
   "id": "55f5e46b",
   "metadata": {},
   "outputs": [],
   "source": [
    "def factorial(n: int) -> int:\n",
    "    \"\"\"Return n! (0! is 1).\"\"\"\n",
    "    if n <= 1:\n",
    "        return 1\n",
    " \n",
    "    result = 2\n",
    "    for x in range(3, n + 1):\n",
    "        result *= x\n",
    " \n",
    "    return result"
   ]
  },
  {
   "cell_type": "code",
   "execution_count": 38,
   "id": "4a5ad703",
   "metadata": {},
   "outputs": [],
   "source": [
    "def factorial(n: int) -> int:\n",
    "    \"\"\"\n",
    "    Return n! (0! is 1).\n",
    " \n",
    "    Valid for `n` in the range 0 to 998 (inclusive).\n",
    "    Larger values of `n` will cause a RecursionError.\n",
    "    \"\"\"\n",
    "    if n <= 1:\n",
    "        return 1\n",
    " \n",
    "    return n * factorial(n - 1)"
   ]
  },
  {
   "cell_type": "markdown",
   "id": "8bdc43cf",
   "metadata": {},
   "source": [
    "___"
   ]
  },
  {
   "cell_type": "markdown",
   "id": "1665643b",
   "metadata": {},
   "source": [
    "### *args"
   ]
  },
  {
   "cell_type": "markdown",
   "id": "57bae4ec",
   "metadata": {},
   "source": [
    "https://docs.python.org/3/glossary.html#term-parameter"
   ]
  },
  {
   "cell_type": "markdown",
   "id": "95c66eda",
   "metadata": {},
   "source": [
    "*(star) lets you provide multiple arguments to a function.\n",
    "\n",
    "When you use an asterisk before an object, it unpacks the sequence."
   ]
  },
  {
   "cell_type": "code",
   "execution_count": 62,
   "id": "43de1b28",
   "metadata": {},
   "outputs": [
    {
     "name": "stdout",
     "output_type": "stream",
     "text": [
      "(0, 1, 2, 3, 4, 5)\n"
     ]
    }
   ],
   "source": [
    "numbers = (0, 1, 2, 3, 4, 5)\n",
    "print(numbers)"
   ]
  },
  {
   "cell_type": "code",
   "execution_count": 63,
   "id": "57d95b33",
   "metadata": {
    "scrolled": true
   },
   "outputs": [
    {
     "name": "stdout",
     "output_type": "stream",
     "text": [
      "0 1 2 3 4 5\n"
     ]
    }
   ],
   "source": [
    "print(*numbers)\n",
    "\n",
    "# *numbers was unpacked, then the unpacked values were passed to the print function."
   ]
  },
  {
   "cell_type": "code",
   "execution_count": 64,
   "id": "375443dd",
   "metadata": {
    "scrolled": true
   },
   "outputs": [
    {
     "name": "stdout",
     "output_type": "stream",
     "text": [
      "0 1 2 3 4 5\n"
     ]
    }
   ],
   "source": [
    "print(0, 1, 2, 3, 4, 5)"
   ]
  },
  {
   "cell_type": "markdown",
   "id": "ce2f1231",
   "metadata": {},
   "source": [
    "__So that should demonstrate that  *numbers  was unpacked, and the individual values were passed to the print function.__\n",
    "\n",
    "__You can use * to unpack any sequence type.__"
   ]
  },
  {
   "cell_type": "markdown",
   "id": "7bb8c069",
   "metadata": {},
   "source": [
    "___"
   ]
  },
  {
   "cell_type": "code",
   "execution_count": 65,
   "id": "09edb57c",
   "metadata": {},
   "outputs": [
    {
     "name": "stdout",
     "output_type": "stream",
     "text": [
      "(0, 1, 2, 3, 4, 5)\n",
      "0;1;2;3;4;5\n",
      "0;1;2;3;4;5\n"
     ]
    }
   ],
   "source": [
    "print(numbers, sep=';')\n",
    "print(*numbers, sep=';')\n",
    "print(0, 1, 2, 3, 4, 5, sep=';')"
   ]
  },
  {
   "cell_type": "markdown",
   "id": "9837d35b",
   "metadata": {},
   "source": [
    "Notice that there's no semicolon in the first line of output. \n",
    "<br>We're only printing a single value there, so the separator character isn't used."
   ]
  },
  {
   "cell_type": "code",
   "execution_count": 66,
   "id": "1f4aa86e",
   "metadata": {},
   "outputs": [],
   "source": [
    "def test_star(*args):\n",
    "    print(args)\n",
    "    for x in args:\n",
    "        print(x)"
   ]
  },
  {
   "cell_type": "code",
   "execution_count": 67,
   "id": "a2dfdc17",
   "metadata": {},
   "outputs": [
    {
     "name": "stdout",
     "output_type": "stream",
     "text": [
      "(0, 1, 2, 3, 4, 5)\n",
      "0\n",
      "1\n",
      "2\n",
      "3\n",
      "4\n",
      "5\n"
     ]
    }
   ],
   "source": [
    "test_star(0, 1, 2, 3, 4, 5)"
   ]
  },
  {
   "cell_type": "markdown",
   "id": "d7949e93",
   "metadata": {},
   "source": [
    "Inside our function, args is a tuple. We can see that on the first line of the output.\n",
    "<br>The function then iterates over args and prints each of its items.\n",
    "\n",
    "the * means that this parameter will be replaced by an unpacked tuple.\n",
    "\n",
    "When the function's called, the values will be packed up into a tuple.\n",
    "<br>We passed a total of six arguments - the numbers zero to five - and they get packed up into the tuple called args. \n",
    "\n",
    "Using *args means that we can provide a variable number of arguments to our functions."
   ]
  },
  {
   "cell_type": "markdown",
   "id": "857a5fbc",
   "metadata": {},
   "source": [
    "___"
   ]
  },
  {
   "cell_type": "code",
   "execution_count": 68,
   "id": "99fabc65",
   "metadata": {},
   "outputs": [],
   "source": [
    "def colour_print(text: str, effect: str) -> None:\n",
    "    output_string = f'{effect}{text}{RESET}'\n",
    "    print(output_string)"
   ]
  },
  {
   "cell_type": "markdown",
   "id": "c4e2df56",
   "metadata": {},
   "source": [
    "This function doesn't allow us to print yellow and bold, or blue and inverted, for example.\n",
    "\n",
    "We can improve our function, by allowing more than one ANSI sequence to be passed, for the effect parameter."
   ]
  },
  {
   "cell_type": "code",
   "execution_count": 69,
   "id": "28a81cb0",
   "metadata": {},
   "outputs": [],
   "source": [
    "def colour_print(text: str, *effects: str) -> None:\n",
    "    effect_string = ''.join(effects)\n",
    "    output_string = f'{effect_string}{text}{RESET}'\n",
    "    print(output_string)"
   ]
  },
  {
   "cell_type": "code",
   "execution_count": 70,
   "id": "b144b127",
   "metadata": {},
   "outputs": [
    {
     "name": "stdout",
     "output_type": "stream",
     "text": [
      "\u001b[31mHello, Red\u001b[0m\n",
      "\u001b[31m\u001b[1mHello, Red\u001b[0m\n"
     ]
    }
   ],
   "source": [
    "colour_print(\"Hello, Red\", RED)\n",
    "colour_print(\"Hello, Red\", RED, BOLD)"
   ]
  },
  {
   "cell_type": "markdown",
   "id": "f6c5cf37",
   "metadata": {},
   "source": [
    "___"
   ]
  },
  {
   "cell_type": "markdown",
   "id": "91551aa3",
   "metadata": {},
   "source": [
    "### Different types of Parameter"
   ]
  },
  {
   "cell_type": "code",
   "execution_count": 72,
   "id": "bdab7eda",
   "metadata": {},
   "outputs": [],
   "source": [
    "def func(p1, p2, *args, k, **kwargs):\n",
    "    print(\"positional-or-keyword:...{}, {}\".format(p1, p2))\n",
    "    print(\"var-positional (*args):..{}\".format(args))\n",
    "    print(\"keyword:.................{}\".format(k))\n",
    "    print(\"var-keyword:.............{}\".format(kwargs))"
   ]
  },
  {
   "cell_type": "code",
   "execution_count": 73,
   "id": "b681ad06",
   "metadata": {},
   "outputs": [
    {
     "name": "stdout",
     "output_type": "stream",
     "text": [
      "positional-or-keyword:...1, 2\n",
      "var-positional (*args):..(3, 4, 5)\n",
      "keyword:.................6\n",
      "var-keyword:.............{'key1': 7, 'key2': 8}\n"
     ]
    }
   ],
   "source": [
    "func(1, 2, 3, 4, 5, k=6, key1=7, key2=8)"
   ]
  },
  {
   "cell_type": "code",
   "execution_count": 74,
   "id": "6915a5a7",
   "metadata": {},
   "outputs": [
    {
     "name": "stdout",
     "output_type": "stream",
     "text": [
      "positional-or-keyword:...1, 2\n",
      "var-positional (*args):..(3, 4, 5, 9)\n",
      "keyword:.................6\n",
      "var-keyword:.............{'key1': 7, 'key2': 8}\n"
     ]
    }
   ],
   "source": [
    "func(1, 2, 3, 4, 5, 9, k=6, key1=7, key2=8)"
   ]
  },
  {
   "cell_type": "markdown",
   "id": "7624de68",
   "metadata": {},
   "source": [
    "Python needs k to be passed using its name, otherwise, it wouldn't know when to stop using the values for *args."
   ]
  },
  {
   "cell_type": "code",
   "execution_count": 75,
   "id": "1d313b55",
   "metadata": {},
   "outputs": [
    {
     "ename": "TypeError",
     "evalue": "func() missing 1 required keyword-only argument: 'k'",
     "output_type": "error",
     "traceback": [
      "\u001b[1;31m---------------------------------------------------------------------------\u001b[0m",
      "\u001b[1;31mTypeError\u001b[0m                                 Traceback (most recent call last)",
      "\u001b[1;32m<ipython-input-75-23ba429c01f2>\u001b[0m in \u001b[0;36m<module>\u001b[1;34m\u001b[0m\n\u001b[1;32m----> 1\u001b[1;33m \u001b[0mfunc\u001b[0m\u001b[1;33m(\u001b[0m\u001b[1;36m1\u001b[0m\u001b[1;33m,\u001b[0m \u001b[1;36m2\u001b[0m\u001b[1;33m,\u001b[0m \u001b[1;36m3\u001b[0m\u001b[1;33m,\u001b[0m \u001b[1;36m4\u001b[0m\u001b[1;33m,\u001b[0m \u001b[1;36m5\u001b[0m\u001b[1;33m,\u001b[0m \u001b[1;36m9\u001b[0m\u001b[1;33m,\u001b[0m \u001b[0mkey1\u001b[0m\u001b[1;33m=\u001b[0m\u001b[1;36m7\u001b[0m\u001b[1;33m,\u001b[0m \u001b[0mkey2\u001b[0m\u001b[1;33m=\u001b[0m\u001b[1;36m8\u001b[0m\u001b[1;33m)\u001b[0m\u001b[1;33m\u001b[0m\u001b[1;33m\u001b[0m\u001b[0m\n\u001b[0m",
      "\u001b[1;31mTypeError\u001b[0m: func() missing 1 required keyword-only argument: 'k'"
     ]
    }
   ],
   "source": [
    "func(1, 2, 3, 4, 5, 9, key1=7, key2=8)"
   ]
  },
  {
   "cell_type": "markdown",
   "id": "89d0adaf",
   "metadata": {},
   "source": [
    "___"
   ]
  },
  {
   "cell_type": "code",
   "execution_count": 76,
   "id": "43541d4a",
   "metadata": {},
   "outputs": [],
   "source": [
    "# my solution\n",
    "\n",
    "def sum_numbers(*args: float) -> float:\n",
    "    \"\"\"\n",
    "    Calculate the sum of all numbers passed as its arguments.\n",
    "    \"\"\"\n",
    "    return sum(args)"
   ]
  },
  {
   "cell_type": "code",
   "execution_count": 77,
   "id": "3dff55b0",
   "metadata": {},
   "outputs": [
    {
     "data": {
      "text/plain": [
       "6"
      ]
     },
     "execution_count": 77,
     "metadata": {},
     "output_type": "execute_result"
    }
   ],
   "source": [
    "sum_numbers(1, 2, 3)"
   ]
  },
  {
   "cell_type": "code",
   "execution_count": 79,
   "id": "3c07a481",
   "metadata": {},
   "outputs": [
    {
     "name": "stdout",
     "output_type": "stream",
     "text": [
      "8.8\n"
     ]
    }
   ],
   "source": [
    "def sum_numbers(*values: float) -> float:\n",
    "    \"\"\" calculates the sum of all the numbers passed as arguments \"\"\"\n",
    "    result = 0\n",
    "    for number in values:\n",
    "        result += number\n",
    "    return result\n",
    "\n",
    "\n",
    "print(sum_numbers(1.1, 2.2, 5.5))"
   ]
  },
  {
   "cell_type": "markdown",
   "id": "56dd99da",
   "metadata": {},
   "source": [
    "___"
   ]
  },
  {
   "cell_type": "code",
   "execution_count": null,
   "id": "0001126d",
   "metadata": {},
   "outputs": [],
   "source": []
  }
 ],
 "metadata": {
  "kernelspec": {
   "display_name": "Python 3",
   "language": "python",
   "name": "python3"
  },
  "language_info": {
   "codemirror_mode": {
    "name": "ipython",
    "version": 3
   },
   "file_extension": ".py",
   "mimetype": "text/x-python",
   "name": "python",
   "nbconvert_exporter": "python",
   "pygments_lexer": "ipython3",
   "version": "3.7.11"
  }
 },
 "nbformat": 4,
 "nbformat_minor": 5
}
