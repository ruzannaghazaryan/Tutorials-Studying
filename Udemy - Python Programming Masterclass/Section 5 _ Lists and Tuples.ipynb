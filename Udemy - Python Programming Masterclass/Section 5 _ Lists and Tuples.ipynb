{
 "cells": [
  {
   "cell_type": "markdown",
   "id": "2a119519",
   "metadata": {},
   "source": [
    "https://docs.python.org/3/library/stdtypes.html#sequence-types-list-tuple-range"
   ]
  },
  {
   "cell_type": "markdown",
   "id": "8dc5915f",
   "metadata": {},
   "source": [
    "A __sequence__ is an ordered collection of items.\n",
    "\n",
    "The word __ordered__ here is important.\n",
    "\n",
    "If a sequence wasn't ordered, you couldn't refer to individual items by their index position."
   ]
  },
  {
   "cell_type": "markdown",
   "id": "86e9567b",
   "metadata": {},
   "source": [
    "___"
   ]
  },
  {
   "cell_type": "markdown",
   "id": "dca48c58",
   "metadata": {},
   "source": [
    "string _ an ordered sequence of characters"
   ]
  },
  {
   "cell_type": "markdown",
   "id": "0f5510db",
   "metadata": {},
   "source": [
    "___"
   ]
  },
  {
   "cell_type": "markdown",
   "id": "29c58360",
   "metadata": {},
   "source": [
    "In Python, anything that you can iterate over is an iterable.<br>That means that if you can use it in a for loop, then it's iterable.\n",
    "\n",
    "All sequence types can be iterated over.\n",
    "\n",
    "BUT Not all iterables are sequences.<br>\n",
    "For example, you can use a dictionary in a __for__ loop, but it's not a sequence."
   ]
  },
  {
   "cell_type": "markdown",
   "id": "4ca87fdc",
   "metadata": {},
   "source": [
    "___"
   ]
  },
  {
   "cell_type": "markdown",
   "id": "6e0389f5",
   "metadata": {},
   "source": [
    "### Lists"
   ]
  },
  {
   "cell_type": "markdown",
   "id": "8c02733c",
   "metadata": {},
   "source": [
    "https://docs.python.org/3/library/stdtypes.html#typesseq-list"
   ]
  },
  {
   "cell_type": "markdown",
   "id": "b988f3e3",
   "metadata": {},
   "source": [
    "There's one big difference between strings and lists: __strings are immutable__, which means they can't be changed. __Lists__, on the other hand, __are mutable__."
   ]
  },
  {
   "cell_type": "markdown",
   "id": "89a8e5e1",
   "metadata": {},
   "source": [
    "The following __immutable types__ are built into Python: \n",
    "- int, \n",
    "- float, \n",
    "- bool (True or False): a subclass of int, \n",
    "- string,\n",
    "- tuple, \n",
    "- frozenset \n",
    "- bytes. "
   ]
  },
  {
   "cell_type": "markdown",
   "id": "d30cf2dd",
   "metadata": {},
   "source": [
    "### Immutable Objects"
   ]
  },
  {
   "cell_type": "markdown",
   "id": "8a20d764",
   "metadata": {},
   "source": [
    "The ID for an object may be different each time you run the program, but while your program is running, the object will have the same id."
   ]
  },
  {
   "cell_type": "markdown",
   "id": "0c4b7251",
   "metadata": {},
   "source": [
    "If python has to destroy the object and re-create it, then it's ID will also change. So that gives us a good way to tell if an object is changed, or if python has to create a new object."
   ]
  },
  {
   "cell_type": "code",
   "execution_count": 6,
   "id": "8f4ec566",
   "metadata": {},
   "outputs": [
    {
     "name": "stdout",
     "output_type": "stream",
     "text": [
      "140709031027232\n",
      "140709031027232\n"
     ]
    }
   ],
   "source": [
    "a = 5\n",
    "b = 5\n",
    "print(id(a))\n",
    "print(id(b))"
   ]
  },
  {
   "cell_type": "code",
   "execution_count": 7,
   "id": "7114b985",
   "metadata": {},
   "outputs": [
    {
     "name": "stdout",
     "output_type": "stream",
     "text": [
      "140709030504784\n",
      "140709030504784\n"
     ]
    }
   ],
   "source": [
    "result = True\n",
    "another_result = result\n",
    "print(id(result))\n",
    "print(id(another_result))"
   ]
  },
  {
   "cell_type": "markdown",
   "id": "3e5505d3",
   "metadata": {},
   "source": [
    "Both variables have the same ID. They're both bound to the same value - True - so that makes sense that it should have the same ID. __Remember that we're printing the ID of True (of the value, not the variable name) here__. The variables - result and another_result - are just names that we've bound to that value. Alright, so if bool values could be changed, then changing the values should mean that the ID doesn't change."
   ]
  },
  {
   "cell_type": "code",
   "execution_count": 8,
   "id": "1b4248d8",
   "metadata": {},
   "outputs": [
    {
     "name": "stdout",
     "output_type": "stream",
     "text": [
      "140709030504816\n"
     ]
    }
   ],
   "source": [
    "result = False\n",
    "print(id(result))"
   ]
  },
  {
   "cell_type": "markdown",
   "id": "9e62504a",
   "metadata": {},
   "source": [
    "We've got a different ID for a result. Because bools are immutable, we weren't able to change the value of True. What Python's done instead, is rebound result to a new value - False."
   ]
  },
  {
   "cell_type": "code",
   "execution_count": 13,
   "id": "731ae0ad",
   "metadata": {},
   "outputs": [
    {
     "name": "stdout",
     "output_type": "stream",
     "text": [
      "1720050216304\n",
      "1720050216304\n",
      "1720050866288\n"
     ]
    }
   ],
   "source": [
    "result = 'Correct'\n",
    "another_result = result\n",
    "print(id(result))\n",
    "print(id(another_result))\n",
    "\n",
    "# let's attempt to mutate result\n",
    "result += 'ish'\n",
    "print(id(result))"
   ]
  },
  {
   "cell_type": "markdown",
   "id": "ebc42b01",
   "metadata": {},
   "source": [
    "The id of result has changed, but another_result still has the same id that it had to start with."
   ]
  },
  {
   "cell_type": "code",
   "execution_count": 16,
   "id": "930d1914",
   "metadata": {
    "scrolled": true
   },
   "outputs": [
    {
     "name": "stdout",
     "output_type": "stream",
     "text": [
      "Correct\n",
      "1720050216304\n"
     ]
    }
   ],
   "source": [
    "print(another_result) # because they have different ids with result\n",
    "print(id(another_result))"
   ]
  },
  {
   "cell_type": "markdown",
   "id": "5444cb77",
   "metadata": {},
   "source": [
    "___"
   ]
  },
  {
   "cell_type": "markdown",
   "id": "93636aea",
   "metadata": {},
   "source": [
    "### Mutable Objects"
   ]
  },
  {
   "cell_type": "markdown",
   "id": "12de2ba7",
   "metadata": {},
   "source": [
    "Python has the following __mutable objects__ built in:\n",
    "\n",
    "- list\n",
    "- dict\n",
    "- set\n",
    "- bytearray"
   ]
  },
  {
   "cell_type": "markdown",
   "id": "9e11ee84",
   "metadata": {},
   "source": [
    "So we can change the value of mutable objects, without the object being destroyed and re-created."
   ]
  },
  {
   "cell_type": "code",
   "execution_count": 1,
   "id": "6b7559ce",
   "metadata": {},
   "outputs": [
    {
     "name": "stdout",
     "output_type": "stream",
     "text": [
      "2296114118408\n",
      "2296114118408\n",
      "\n",
      "['milk', 'pasta', 'eggs', 'spam', 'bread', 'rice', 'cookies']\n",
      "2296114118408\n",
      "\n",
      "['milk', 'pasta', 'eggs', 'spam', 'bread', 'rice', 'cookies']\n",
      "2296114118408\n"
     ]
    }
   ],
   "source": [
    "shoppingList = ['milk', \n",
    "               'pasta',\n",
    "               'eggs',\n",
    "               'spam', \n",
    "               'bread', \n",
    "               'rice']\n",
    "\n",
    "another_list = shoppingList\n",
    "print(id(shoppingList))\n",
    "print(id(another_list))\n",
    "print()\n",
    "\n",
    "shoppingList += ['cookies']\n",
    "print(shoppingList)\n",
    "print(id(shoppingList))\n",
    "print()\n",
    "\n",
    "print(another_list)\n",
    "print(id(another_list))"
   ]
  },
  {
   "cell_type": "code",
   "execution_count": 77,
   "id": "6b290fe3",
   "metadata": {},
   "outputs": [
    {
     "name": "stdout",
     "output_type": "stream",
     "text": [
      "[5, 2, 3]\n",
      "[5, 2, 3]\n"
     ]
    }
   ],
   "source": [
    "a = b = [1, 2, 3]\n",
    "b[0] = 5 \n",
    "print(b)\n",
    "print(a)"
   ]
  },
  {
   "cell_type": "markdown",
   "id": "4fec9832",
   "metadata": {},
   "source": [
    "__Strings are immutable__. When we tried to change a string, Python created a new object - a new string - and re-attached the name to it. You can't change the value of an immutable object.\n",
    "\n",
    "__Lists are mutable__ - they can be changed. When we appended a new item in this code, Python was able to change the contents of the list, without creating a new one."
   ]
  },
  {
   "cell_type": "markdown",
   "id": "1e578867",
   "metadata": {},
   "source": [
    "___"
   ]
  },
  {
   "cell_type": "markdown",
   "id": "8428d144",
   "metadata": {},
   "source": [
    "### len(), min(), max() functions"
   ]
  },
  {
   "cell_type": "code",
   "execution_count": 3,
   "id": "e9e97dcd",
   "metadata": {},
   "outputs": [
    {
     "name": "stdout",
     "output_type": "stream",
     "text": [
      "2\n",
      "8\n"
     ]
    }
   ],
   "source": [
    "even = [2, 4, 6, 8]\n",
    "odd = [1, 3, 5, 7, 9]\n",
    "\n",
    "print(min(even))\n",
    "print(max(even))"
   ]
  },
  {
   "cell_type": "markdown",
   "id": "1eb22a2e",
   "metadata": {},
   "source": [
    "__len__ returns __the number of items in the sequence__. For a string, that would be the number of characters in the string. For a list though, it's the number of items."
   ]
  },
  {
   "cell_type": "code",
   "execution_count": 4,
   "id": "04dd4267",
   "metadata": {},
   "outputs": [
    {
     "name": "stdout",
     "output_type": "stream",
     "text": [
      "4 5\n"
     ]
    }
   ],
   "source": [
    "print(len(even), len(odd))"
   ]
  },
  {
   "cell_type": "markdown",
   "id": "fcd6d2da",
   "metadata": {},
   "source": [
    "____"
   ]
  },
  {
   "cell_type": "markdown",
   "id": "b2a488fa",
   "metadata": {},
   "source": [
    "### count() method"
   ]
  },
  {
   "cell_type": "markdown",
   "id": "f8152c44",
   "metadata": {},
   "source": [
    "Let's see how many times the letter s appears in Mississippi."
   ]
  },
  {
   "cell_type": "code",
   "execution_count": 5,
   "id": "a3e2ef88",
   "metadata": {
    "scrolled": true
   },
   "outputs": [
    {
     "name": "stdout",
     "output_type": "stream",
     "text": [
      "4\n",
      "0\n",
      "2\n"
     ]
    }
   ],
   "source": [
    "print('Mississippi'.count('s'))\n",
    "print('Mississippi'.count('m'))\n",
    "print('Mississippi'.count('iss'))"
   ]
  },
  {
   "cell_type": "code",
   "execution_count": 6,
   "id": "8be9d418",
   "metadata": {},
   "outputs": [
    {
     "name": "stdout",
     "output_type": "stream",
     "text": [
      "0\n",
      "1\n"
     ]
    }
   ],
   "source": [
    "print(even.count(3))\n",
    "print(even.count(2))"
   ]
  },
  {
   "cell_type": "markdown",
   "id": "91b5e208",
   "metadata": {},
   "source": [
    "___"
   ]
  },
  {
   "cell_type": "markdown",
   "id": "ef395fb7",
   "metadata": {},
   "source": [
    "### Operations on Mutable Sequences"
   ]
  },
  {
   "cell_type": "markdown",
   "id": "c1ec1991",
   "metadata": {},
   "source": [
    "### append method()\n",
    "\n",
    "append is a method that can only be used with a mutable sequence type - such as a list - to add new values "
   ]
  },
  {
   "cell_type": "markdown",
   "id": "42ee38c3",
   "metadata": {},
   "source": [
    "___"
   ]
  },
  {
   "cell_type": "markdown",
   "id": "048ad041",
   "metadata": {},
   "source": [
    "_A method is the same as a function, except that it's bound to an object. That means we need an object, in order to call the method._"
   ]
  },
  {
   "cell_type": "markdown",
   "id": "9dc2b459",
   "metadata": {},
   "source": [
    "___"
   ]
  },
  {
   "cell_type": "markdown",
   "id": "834e4591",
   "metadata": {},
   "source": [
    "We've used a few functions above: min and max, and the len function.\n",
    "\n",
    "_When you call a function, you just type its name, and provide any arguments in parentheses._"
   ]
  },
  {
   "cell_type": "markdown",
   "id": "9fa18dd8",
   "metadata": {},
   "source": [
    "___"
   ]
  },
  {
   "cell_type": "markdown",
   "id": "bbc699c5",
   "metadata": {},
   "source": [
    "_When we call a method, we tell it which object it's called on. In other words, which object it should be using when it performs its function._"
   ]
  },
  {
   "cell_type": "markdown",
   "id": "f6c2438b",
   "metadata": {},
   "source": [
    "The syntax of a method is simple. You start with the object you're using, then a dot, then the name of the method. If the method needs arguments, you put them in parentheses after the method name."
   ]
  },
  {
   "cell_type": "markdown",
   "id": "62b9998d",
   "metadata": {},
   "source": [
    "___"
   ]
  },
  {
   "cell_type": "code",
   "execution_count": 32,
   "id": "9c933139",
   "metadata": {},
   "outputs": [
    {
     "name": "stdout",
     "output_type": "stream",
     "text": [
      "[2, 4, 6, 8]\n"
     ]
    }
   ],
   "source": [
    "print(even)"
   ]
  },
  {
   "cell_type": "code",
   "execution_count": 33,
   "id": "6848eb00",
   "metadata": {},
   "outputs": [
    {
     "name": "stdout",
     "output_type": "stream",
     "text": [
      "[2, 4, 6, 8, 10]\n"
     ]
    }
   ],
   "source": [
    "even.append(10)\n",
    "print(even)"
   ]
  },
  {
   "cell_type": "markdown",
   "id": "4c055660",
   "metadata": {},
   "source": [
    "___"
   ]
  },
  {
   "cell_type": "markdown",
   "id": "1286f62c",
   "metadata": {},
   "source": [
    "#### Appending to a List"
   ]
  },
  {
   "cell_type": "code",
   "execution_count": 35,
   "id": "1121db75",
   "metadata": {},
   "outputs": [
    {
     "name": "stdout",
     "output_type": "stream",
     "text": [
      "Please add options from the list below:\n",
      "1: computer\n",
      "2: monitor\n",
      "3: keyboard\n",
      "4: mouse\n",
      "5: mouse mat\n",
      "0: to finish\n",
      "1\n",
      "adding 1\n",
      "4\n",
      "adding 4\n",
      "0\n",
      "['computer', 'mouse']\n"
     ]
    }
   ],
   "source": [
    "current_choice = '-'\n",
    "computer_parts = []\n",
    "\n",
    "while current_choice != '0':\n",
    "    if current_choice in '12345':\n",
    "        print('adding {}'.format(current_choice))\n",
    "        \n",
    "        if current_choice == '1':\n",
    "            computer_parts.append('computer')\n",
    "        elif current_choice == '2':\n",
    "            computer_parts.append('monitor')\n",
    "        elif current_choice == '3':\n",
    "            computer_parts.append('keyboard')\n",
    "        elif current_choice == '4':\n",
    "            computer_parts.append('mouse')\n",
    "        elif current_choice == '5':\n",
    "            computer_parts.append('mouse mat')\n",
    "    else:\n",
    "        print('Please add options from the list below:')\n",
    "        print('1: computer')\n",
    "        print('2: monitor')\n",
    "        print('3: keyboard')\n",
    "        print('4: mouse')\n",
    "        print('5: mouse mat')\n",
    "        print('0: to finish')\n",
    "        \n",
    "    current_choice = input()\n",
    "    \n",
    "print(computer_parts)"
   ]
  },
  {
   "cell_type": "markdown",
   "id": "404b80ab",
   "metadata": {},
   "source": [
    "### index method()"
   ]
  },
  {
   "cell_type": "code",
   "execution_count": 38,
   "id": "26789358",
   "metadata": {
    "scrolled": false
   },
   "outputs": [
    {
     "name": "stdout",
     "output_type": "stream",
     "text": [
      "Please add options from the list below:\n",
      "1: computer\n",
      "2: monitor\n",
      "3: keyboard\n",
      "4: mouse\n",
      "5: mouse mat\n",
      "6: hdmi cable\n",
      "0: to finish\n",
      "1\n",
      "adding 1\n",
      "2\n",
      "adding 2\n",
      "0\n",
      "['computer', 'monitor']\n"
     ]
    }
   ],
   "source": [
    "# Partially Efficient code\n",
    "\n",
    "availableParts = ['computer',\n",
    "                  'monitor',\n",
    "                  'keyboard',\n",
    "                  'mouse',\n",
    "                  'mouse mat', \n",
    "                  'hdmi cable'\n",
    "                 ]\n",
    "\n",
    "current_choice = '-'\n",
    "computer_parts = []\n",
    "\n",
    "while current_choice != '0':\n",
    "    if current_choice in '123456':\n",
    "        print('adding {}'.format(current_choice))\n",
    "        \n",
    "        if current_choice == '1':\n",
    "            computer_parts.append('computer')\n",
    "        elif current_choice == '2':\n",
    "            computer_parts.append('monitor')\n",
    "        elif current_choice == '3':\n",
    "            computer_parts.append('keyboard')\n",
    "        elif current_choice == '4':\n",
    "            computer_parts.append('mouse')\n",
    "        elif current_choice == '5':\n",
    "            computer_parts.append('mouse mat')\n",
    "        elif current_choice == '6':\n",
    "            computer_parts.append('hdmi cable')\n",
    "    else:\n",
    "        print('Please add options from the list below:')\n",
    "        for part in availableParts:\n",
    "            print('{0}: {1}'.format(availableParts.index(part) + 1, part))\n",
    "        print('0: to finish')\n",
    "        \n",
    "    current_choice = input()\n",
    "    \n",
    "print(computer_parts)"
   ]
  },
  {
   "cell_type": "markdown",
   "id": "1584fbdb",
   "metadata": {},
   "source": [
    " What we've done above isn't very efficient, and that's because Python has to look up each item in the list, in order to get its index position."
   ]
  },
  {
   "cell_type": "markdown",
   "id": "46ead374",
   "metadata": {},
   "source": [
    "### The enumerate Function\n",
    "\n",
    "_enumerate returns each item with its index position._"
   ]
  },
  {
   "cell_type": "markdown",
   "id": "cb680075",
   "metadata": {},
   "source": [
    "If there are hundreds or thousands of items, finding the index positions will take a while."
   ]
  },
  {
   "cell_type": "code",
   "execution_count": 41,
   "id": "adb96691",
   "metadata": {},
   "outputs": [
    {
     "name": "stdout",
     "output_type": "stream",
     "text": [
      "Please add options from the list below:\n",
      "1: computer\n",
      "2: monitor\n",
      "3: keyboard\n",
      "4: mouse\n",
      "5: mouse mat\n",
      "6: hdmi cable\n",
      "0: to finish\n",
      "1\n",
      "adding 1\n",
      "6\n",
      "adding 6\n",
      "7\n",
      "Please add options from the list below:\n",
      "1: computer\n",
      "2: monitor\n",
      "3: keyboard\n",
      "4: mouse\n",
      "5: mouse mat\n",
      "6: hdmi cable\n",
      "0: to finish\n",
      "0\n",
      "['computer', 'hdmi cable']\n"
     ]
    }
   ],
   "source": [
    "availableParts = ['computer',\n",
    "                  'monitor',\n",
    "                  'keyboard',\n",
    "                  'mouse',\n",
    "                  'mouse mat', \n",
    "                  'hdmi cable'\n",
    "                 ]\n",
    "\n",
    "current_choice = '-'\n",
    "computer_parts = []\n",
    "\n",
    "while current_choice != '0':\n",
    "    if current_choice in '123456':\n",
    "        print('adding {}'.format(current_choice))\n",
    "        \n",
    "        if current_choice == '1':\n",
    "            computer_parts.append('computer')\n",
    "        elif current_choice == '2':\n",
    "            computer_parts.append('monitor')\n",
    "        elif current_choice == '3':\n",
    "            computer_parts.append('keyboard')\n",
    "        elif current_choice == '4':\n",
    "            computer_parts.append('mouse')\n",
    "        elif current_choice == '5':\n",
    "            computer_parts.append('mouse mat')\n",
    "        elif current_choice == '6':\n",
    "            computer_parts.append('hdmi cable')\n",
    "    else:\n",
    "        print('Please add options from the list below:')\n",
    "        for number, part in enumerate(availableParts):\n",
    "            print('{0}: {1}'.format(number + 1, part))\n",
    "        print('0: to finish')\n",
    "        \n",
    "    current_choice = input()\n",
    "    \n",
    "print(computer_parts)"
   ]
  },
  {
   "cell_type": "code",
   "execution_count": 48,
   "id": "938894e0",
   "metadata": {},
   "outputs": [
    {
     "name": "stdout",
     "output_type": "stream",
     "text": [
      "0 computer\n",
      "1 monitor\n",
      "2 keyboard\n",
      "3 mouse\n",
      "4 mouse mat\n",
      "5 hdmi cable\n"
     ]
    }
   ],
   "source": [
    "availableParts = ['computer',\n",
    "                  'monitor',\n",
    "                  'keyboard',\n",
    "                  'mouse',\n",
    "                  'mouse mat', \n",
    "                  'hdmi cable'\n",
    "                 ]\n",
    "\n",
    "for index, value in enumerate(availableParts):\n",
    "    print(index, value)"
   ]
  },
  {
   "cell_type": "markdown",
   "id": "bd06ab1e",
   "metadata": {},
   "source": [
    "So for loop starts with the word for, and then the names of one or more variables.\n",
    "\n",
    "enumerate returns pairs of values - we get the index position and the item, as a pair of values. The first value is the index position and the second value is the item."
   ]
  },
  {
   "cell_type": "markdown",
   "id": "9e5582e9",
   "metadata": {},
   "source": [
    "___"
   ]
  },
  {
   "cell_type": "markdown",
   "id": "c06d41a9",
   "metadata": {},
   "source": [
    "Good news is, __we can use enumerate with any iterable type. All sequences are iterable__, so let's see another example here."
   ]
  },
  {
   "cell_type": "code",
   "execution_count": 49,
   "id": "08b37326",
   "metadata": {
    "scrolled": true
   },
   "outputs": [
    {
     "name": "stdout",
     "output_type": "stream",
     "text": [
      "0 t\n",
      "1 e\n",
      "2 s\n",
      "3 t\n",
      "4 i\n",
      "5 n\n",
      "6 g\n"
     ]
    }
   ],
   "source": [
    "word = 'testing'\n",
    "for index, value in enumerate(word):\n",
    "    print(index, value)"
   ]
  },
  {
   "cell_type": "markdown",
   "id": "f686da5a",
   "metadata": {},
   "source": [
    "___"
   ]
  },
  {
   "cell_type": "code",
   "execution_count": 52,
   "id": "4cf8c730",
   "metadata": {},
   "outputs": [
    {
     "name": "stdout",
     "output_type": "stream",
     "text": [
      "['1', '2', '3', '4', '5', '6', '7']\n",
      "Please add options from the list below:\n",
      "1: computer\n",
      "2: monitor\n",
      "3: keyboard\n",
      "4: mouse\n",
      "5: mouse mat\n",
      "6: hdmi cable\n",
      "7: dvd drive\n",
      "0: to finish\n",
      "1\n",
      "adding 1\n",
      "8\\\n",
      "Please add options from the list below:\n",
      "1: computer\n",
      "2: monitor\n",
      "3: keyboard\n",
      "4: mouse\n",
      "5: mouse mat\n",
      "6: hdmi cable\n",
      "7: dvd drive\n",
      "0: to finish\n",
      "7\n",
      "adding 7\n",
      "0\n",
      "['computer', 'dvd drive']\n"
     ]
    }
   ],
   "source": [
    "availableParts = ['computer',\n",
    "                  'monitor',\n",
    "                  'keyboard',\n",
    "                  'mouse',\n",
    "                  'mouse mat', \n",
    "                  'hdmi cable',\n",
    "                  'dvd drive'\n",
    "                 ]\n",
    "\n",
    "valid_choices = [str(i) for i in range(1, len(availableParts) + 1)]\n",
    "print(valid_choices)\n",
    "current_choice = '-'\n",
    "computer_parts = []\n",
    "\n",
    "while current_choice != '0':\n",
    "    if current_choice in valid_choices:\n",
    "        print('adding {}'.format(current_choice))\n",
    "        index = int(current_choice) - 1\n",
    "        chosen_part = availableParts[index]\n",
    "        computer_parts.append(chosen_part)\n",
    "    else:\n",
    "        print('Please add options from the list below:')\n",
    "        for number, part in enumerate(availableParts):\n",
    "            print('{0}: {1}'.format(number + 1, part))\n",
    "        print('0: to finish')\n",
    "        \n",
    "    current_choice = input()\n",
    "    \n",
    "print(computer_parts)"
   ]
  },
  {
   "cell_type": "markdown",
   "id": "8e0d748f",
   "metadata": {},
   "source": [
    "___"
   ]
  },
  {
   "cell_type": "markdown",
   "id": "d65ad087",
   "metadata": {},
   "source": [
    "### remove() method"
   ]
  },
  {
   "cell_type": "markdown",
   "id": "0bb9de70",
   "metadata": {},
   "source": [
    "__Removing Items from a List__\n",
    "\n",
    "_list.remove(x)_\n",
    "\n",
    "Remove the first item from the list whose value is equal to x. It raises a ValueError if there is no such item."
   ]
  },
  {
   "cell_type": "code",
   "execution_count": 55,
   "id": "059529c4",
   "metadata": {},
   "outputs": [
    {
     "name": "stdout",
     "output_type": "stream",
     "text": [
      "Please add options from the list below:\n",
      "1: computer\n",
      "2: monitor\n",
      "3: keyboard\n",
      "4: mouse\n",
      "5: mouse mat\n",
      "6: hdmi cable\n",
      "7: dvd drive\n",
      "0: to finish\n",
      "1\n",
      "adding 1\n",
      "Your list now contains: ['computer']\n",
      "8\n",
      "Please add options from the list below:\n",
      "1: computer\n",
      "2: monitor\n",
      "3: keyboard\n",
      "4: mouse\n",
      "5: mouse mat\n",
      "6: hdmi cable\n",
      "7: dvd drive\n",
      "0: to finish\n",
      "5\n",
      "adding 5\n",
      "Your list now contains: ['computer', 'mouse mat']\n",
      "5\n",
      "removing 5\n",
      "Your list now contains: ['computer']\n",
      "0\n",
      "['computer']\n"
     ]
    }
   ],
   "source": [
    "availableParts = ['computer',\n",
    "                  'monitor',\n",
    "                  'keyboard',\n",
    "                  'mouse',\n",
    "                  'mouse mat', \n",
    "                  'hdmi cable',\n",
    "                  'dvd drive'\n",
    "                 ]\n",
    "\n",
    "valid_choices = [str(i) for i in range(1, len(availableParts) + 1)]\n",
    "current_choice = '-'\n",
    "computer_parts = []\n",
    "\n",
    "while current_choice != '0':\n",
    "    if current_choice in valid_choices:\n",
    "        index = int(current_choice) - 1\n",
    "        chosen_part = availableParts[index]\n",
    "        if chosen_part in computer_parts:\n",
    "            print('removing {}'.format(current_choice))\n",
    "            computer_parts.remove(chosen_part)\n",
    "        else:\n",
    "            print('adding {}'.format(current_choice))\n",
    "            computer_parts.append(chosen_part)\n",
    "        print(\"Your list now contains: {}\".format(computer_parts))\n",
    "    else:\n",
    "        print('Please add options from the list below:')\n",
    "        for number, part in enumerate(availableParts):\n",
    "            print('{0}: {1}'.format(number + 1, part))\n",
    "        print('0: to finish')\n",
    "        \n",
    "    current_choice = input()\n",
    "    \n",
    "print(computer_parts)"
   ]
  },
  {
   "cell_type": "code",
   "execution_count": 57,
   "id": "0875a4d6",
   "metadata": {},
   "outputs": [
    {
     "name": "stdout",
     "output_type": "stream",
     "text": [
      "['cnn', 'media', 'bbc']\n"
     ]
    }
   ],
   "source": [
    "news = ['bbc', 'cnn', 'media', 'bbc']\n",
    "news.remove('bbc')\n",
    "print(news)"
   ]
  },
  {
   "cell_type": "markdown",
   "id": "c113f061",
   "metadata": {},
   "source": [
    "___"
   ]
  },
  {
   "cell_type": "code",
   "execution_count": 9,
   "id": "16f7701e",
   "metadata": {},
   "outputs": [],
   "source": [
    "even = [2, 4, 6, 8]\n",
    "odd = [1, 3, 5, 7, 9]"
   ]
  },
  {
   "cell_type": "code",
   "execution_count": 10,
   "id": "bd389fc4",
   "metadata": {
    "scrolled": true
   },
   "outputs": [
    {
     "name": "stdout",
     "output_type": "stream",
     "text": [
      "[2, 4, 6, 8, [1, 3, 5, 7, 9]]\n"
     ]
    }
   ],
   "source": [
    "even.append(odd)\n",
    "print(even)"
   ]
  },
  {
   "cell_type": "markdown",
   "id": "d15c641e",
   "metadata": {},
   "source": [
    "### extend() method"
   ]
  },
  {
   "cell_type": "code",
   "execution_count": 14,
   "id": "763e7da4",
   "metadata": {},
   "outputs": [],
   "source": [
    "even = [2, 4, 6, 8]\n",
    "odd = [1, 3, 5, 7, 9]"
   ]
  },
  {
   "cell_type": "code",
   "execution_count": 15,
   "id": "5eac2943",
   "metadata": {},
   "outputs": [
    {
     "name": "stdout",
     "output_type": "stream",
     "text": [
      "[2, 4, 6, 8, 1, 3, 5, 7, 9]\n"
     ]
    }
   ],
   "source": [
    "# combining them by using the extend method\n",
    "\n",
    "even.extend(odd)\n",
    "print(even)"
   ]
  },
  {
   "cell_type": "markdown",
   "id": "8cb5b512",
   "metadata": {},
   "source": [
    "### sort() method\n",
    "\n",
    "__Sorting lists__"
   ]
  },
  {
   "cell_type": "code",
   "execution_count": 16,
   "id": "9ed099d8",
   "metadata": {},
   "outputs": [
    {
     "name": "stdout",
     "output_type": "stream",
     "text": [
      "[1, 2, 3, 4, 5, 6, 7, 8, 9]\n"
     ]
    }
   ],
   "source": [
    "even.sort()\n",
    "print(even)"
   ]
  },
  {
   "cell_type": "code",
   "execution_count": 17,
   "id": "b358ba3b",
   "metadata": {},
   "outputs": [
    {
     "name": "stdout",
     "output_type": "stream",
     "text": [
      "[9, 8, 7, 6, 5, 4, 3, 2, 1]\n"
     ]
    }
   ],
   "source": [
    "even.sort(reverse=True)\n",
    "print(even)"
   ]
  },
  {
   "cell_type": "markdown",
   "id": "ddf5b8f2",
   "metadata": {},
   "source": [
    "__The sort method doesn't create a copy of the list - it rearranges the items in the list.__"
   ]
  },
  {
   "cell_type": "code",
   "execution_count": 68,
   "id": "82266bc4",
   "metadata": {},
   "outputs": [
    {
     "name": "stdout",
     "output_type": "stream",
     "text": [
      "[2, 4, 6, 8, 1, 3, 5, 7, 9]\n",
      "[2, 4, 6, 8, 1, 3, 5, 7, 9]\n",
      "\n",
      "[9, 8, 7, 6, 5, 4, 3, 2, 1]\n",
      "[9, 8, 7, 6, 5, 4, 3, 2, 1]\n"
     ]
    }
   ],
   "source": [
    "even = [2, 4, 6, 8]\n",
    "odd = [1, 3, 5, 7, 9]\n",
    "\n",
    "even.extend(odd)\n",
    "print(even)\n",
    "another_even = even\n",
    "print(another_even)\n",
    "\n",
    "print()\n",
    "\n",
    "even.sort(reverse=True)\n",
    "print(even)\n",
    "print(another_even)\n",
    "\n",
    "# That's because there's only one list and we mutated the list by sorting it."
   ]
  },
  {
   "cell_type": "markdown",
   "id": "b98c8818",
   "metadata": {},
   "source": [
    "___"
   ]
  },
  {
   "cell_type": "markdown",
   "id": "d7894a20",
   "metadata": {},
   "source": [
    "https://docs.python.org/3/library/functions.html"
   ]
  },
  {
   "cell_type": "markdown",
   "id": "dd9c425b",
   "metadata": {},
   "source": [
    "___"
   ]
  },
  {
   "cell_type": "markdown",
   "id": "dddb3f2f",
   "metadata": {},
   "source": [
    "### sorted() function\n",
    "\n",
    "#### Sorting things"
   ]
  },
  {
   "cell_type": "markdown",
   "id": "8f310849",
   "metadata": {},
   "source": [
    "So we've seen that lists have their own sort method which sorts the list in place, but you may want to sort other things besides lists. _To do that, you can use the sorted function._\n",
    "\n",
    "__So the sorted function can be used to sort any iterable object.__"
   ]
  },
  {
   "cell_type": "code",
   "execution_count": 69,
   "id": "d5496018",
   "metadata": {},
   "outputs": [],
   "source": [
    "pangram = 'The quick brown fox jumps over the lazy dog'\n",
    "\n",
    "#  A pangram is a phrase that contains all the letters of an alphabet, at least once. "
   ]
  },
  {
   "cell_type": "code",
   "execution_count": 70,
   "id": "4e2c9d46",
   "metadata": {},
   "outputs": [
    {
     "name": "stdout",
     "output_type": "stream",
     "text": [
      "[' ', ' ', ' ', ' ', ' ', ' ', ' ', ' ', 'T', 'a', 'b', 'c', 'd', 'e', 'e', 'e', 'f', 'g', 'h', 'h', 'i', 'j', 'k', 'l', 'm', 'n', 'o', 'o', 'o', 'o', 'p', 'q', 'r', 'r', 's', 't', 'u', 'u', 'v', 'w', 'x', 'y', 'z']\n"
     ]
    }
   ],
   "source": [
    "letters = sorted(pangram)\n",
    "print(letters)"
   ]
  },
  {
   "cell_type": "markdown",
   "id": "3e777a6c",
   "metadata": {},
   "source": [
    "Python sorted function will take any iterable but will always return a list, and the list is in alphabetical order.\n",
    "<br>\n",
    "Uppercase letters sort before lowercase."
   ]
  },
  {
   "cell_type": "code",
   "execution_count": 72,
   "id": "edaf9571",
   "metadata": {},
   "outputs": [
    {
     "name": "stdout",
     "output_type": "stream",
     "text": [
      "[1.6, 2.3, 3.1, 4.5, 8.7, 9.2]\n",
      "[2.3, 4.5, 8.7, 3.1, 9.2, 1.6]\n"
     ]
    }
   ],
   "source": [
    "numbers = [2.3, 4.5, 8.7, 3.1, 9.2, 1.6 ]\n",
    "sorted_numbers = sorted(numbers)\n",
    "print(sorted_numbers)\n",
    "print(numbers)"
   ]
  },
  {
   "cell_type": "markdown",
   "id": "c349bc8e",
   "metadata": {},
   "source": [
    "Notice that we get a list returned here, and the difference here was this time we passed a list to the sorted function, but got a different list back."
   ]
  },
  {
   "cell_type": "markdown",
   "id": "6dbfbe51",
   "metadata": {},
   "source": [
    "Sorted function created a new list and left the original one unchanged. Because sorted returns a new list, we assigned its return value to another variable: sorted_numbers.\n",
    "\n",
    "On the other hand, the sort method sorts the list in place. That means we don't assign the return value to another variable. Assigning it to a variable doesn't give it the result you might expect. So let's do that to see. "
   ]
  },
  {
   "cell_type": "code",
   "execution_count": 75,
   "id": "986b6eef",
   "metadata": {},
   "outputs": [
    {
     "name": "stdout",
     "output_type": "stream",
     "text": [
      "[1.6, 2.3, 3.1, 4.5, 8.7, 9.2]\n"
     ]
    }
   ],
   "source": [
    "numbers.sort()\n",
    "print(numbers)"
   ]
  },
  {
   "cell_type": "code",
   "execution_count": 76,
   "id": "9982d409",
   "metadata": {},
   "outputs": [
    {
     "name": "stdout",
     "output_type": "stream",
     "text": [
      "[1.6, 2.3, 3.1, 4.5, 8.7, 9.2]\n",
      "None\n"
     ]
    }
   ],
   "source": [
    "numbers = [2.3, 4.5, 8.7, 3.1, 9.2, 1.6 ]\n",
    "\n",
    "another_sorted_numbers = numbers.sort()\n",
    "\n",
    "print(numbers)\n",
    "print(another_sorted_numbers)"
   ]
  },
  {
   "cell_type": "markdown",
   "id": "cbcbf36f",
   "metadata": {},
   "source": [
    "You'll find that most of the methods that modify an object in place, like sort does, return None. So there's very rarely, if ever, a need to assign the result of a sort method to a variable."
   ]
  },
  {
   "cell_type": "markdown",
   "id": "8f4c6c6b",
   "metadata": {},
   "source": [
    "___"
   ]
  },
  {
   "cell_type": "markdown",
   "id": "a4c66294",
   "metadata": {},
   "source": [
    "### Case-Insensitive Sorting"
   ]
  },
  {
   "cell_type": "markdown",
   "id": "91000d3a",
   "metadata": {},
   "source": [
    "Whenever you want to perform a case insensitive sort, just add __key=str.casefold without parentheses__ as an argument to sort method or sorted function.\n",
    "\n",
    "Use the casefold method of the string class.\n",
    "\n",
    "Use it if you need to sort some text, without worrying about capitalisation."
   ]
  },
  {
   "cell_type": "code",
   "execution_count": 20,
   "id": "ae76f8f6",
   "metadata": {
    "scrolled": true
   },
   "outputs": [
    {
     "name": "stdout",
     "output_type": "stream",
     "text": [
      "[' ', ' ', ' ', ' ', ' ', ' ', ' ', ' ', 'T', 'a', 'b', 'c', 'd', 'e', 'e', 'e', 'f', 'g', 'h', 'h', 'i', 'j', 'k', 'l', 'm', 'n', 'o', 'o', 'o', 'o', 'p', 'q', 'r', 'r', 's', 't', 'u', 'u', 'v', 'w', 'x', 'y', 'z']\n"
     ]
    }
   ],
   "source": [
    "print(sorted('The quick brown fox jumps over the lazy dog'))"
   ]
  },
  {
   "cell_type": "code",
   "execution_count": 21,
   "id": "2a7c24c5",
   "metadata": {
    "scrolled": true
   },
   "outputs": [
    {
     "name": "stdout",
     "output_type": "stream",
     "text": [
      "[' ', ' ', ' ', ' ', ' ', ' ', ' ', ' ', 'a', 'b', 'c', 'd', 'e', 'e', 'e', 'f', 'g', 'h', 'h', 'i', 'j', 'k', 'l', 'm', 'n', 'o', 'o', 'o', 'o', 'p', 'q', 'r', 'r', 's', 'T', 't', 'u', 'u', 'v', 'w', 'x', 'y', 'z']\n"
     ]
    }
   ],
   "source": [
    "print(sorted('The quick brown fox jumps over the lazy dog', \n",
    "             key = str.casefold))"
   ]
  },
  {
   "cell_type": "markdown",
   "id": "8f563f35",
   "metadata": {},
   "source": [
    "It's very important that we don't include those parentheses after the function name. That would call the function, which isn't what we want here. What we're doing is telling the sorted function the name of another function it should use, when comparing the values."
   ]
  },
  {
   "cell_type": "code",
   "execution_count": 24,
   "id": "66f2f8c9",
   "metadata": {},
   "outputs": [
    {
     "name": "stdout",
     "output_type": "stream",
     "text": [
      "None\n"
     ]
    }
   ],
   "source": [
    "names = ['Graham',\n",
    "        'John',\n",
    "        'terry',\n",
    "        'eric',\n",
    "        'Terry',\n",
    "        'michael'\n",
    "        ]\n",
    "\n",
    "print(names.sort())\n",
    "\n",
    "# !!!! here we got an error, because you should first sort the list and then only print the list name."
   ]
  },
  {
   "cell_type": "code",
   "execution_count": 27,
   "id": "4479673e",
   "metadata": {},
   "outputs": [
    {
     "name": "stdout",
     "output_type": "stream",
     "text": [
      "['Graham', 'John', 'Terry', 'eric', 'michael', 'terry']\n",
      "\n",
      "['eric', 'Graham', 'John', 'michael', 'Terry', 'terry']\n"
     ]
    }
   ],
   "source": [
    "names = ['Graham',\n",
    "        'John',\n",
    "        'terry',\n",
    "        'eric',\n",
    "        'Terry',\n",
    "        'michael'\n",
    "        ]\n",
    "\n",
    "names.sort()\n",
    "print(names)\n",
    "\n",
    "print()\n",
    "\n",
    "names.sort(key = str.casefold)\n",
    "print(names)"
   ]
  },
  {
   "cell_type": "markdown",
   "id": "694a04ef",
   "metadata": {},
   "source": [
    "___"
   ]
  },
  {
   "cell_type": "markdown",
   "id": "eaad881f",
   "metadata": {},
   "source": [
    "### Creating Lists"
   ]
  },
  {
   "cell_type": "code",
   "execution_count": 30,
   "id": "8296521e",
   "metadata": {},
   "outputs": [
    {
     "name": "stdout",
     "output_type": "stream",
     "text": [
      "[2, 4, 6, 8, 1, 3, 5, 7, 9]\n",
      "\n",
      "[1, 2, 3, 4, 5, 6, 7, 8, 9]\n"
     ]
    }
   ],
   "source": [
    "empty_list = []\n",
    "\n",
    "even = [2, 4, 6, 8]\n",
    "odd = [1, 3, 5, 7, 9]\n",
    "\n",
    "# You can also create a list by concatenating existing lists.\n",
    "numbers = even + odd\n",
    "print(numbers)\n",
    "\n",
    "print()\n",
    "\n",
    "sorted_numbers = sorted(numbers)\n",
    "print(sorted_numbers)"
   ]
  },
  {
   "cell_type": "code",
   "execution_count": 31,
   "id": "dcfe8c48",
   "metadata": {},
   "outputs": [
    {
     "name": "stdout",
     "output_type": "stream",
     "text": [
      "['1', '2', '3', '4', '5', '6', '7', '8', '9']\n"
     ]
    }
   ],
   "source": [
    "digits = sorted(\"432985617\")\n",
    "print(digits)"
   ]
  },
  {
   "cell_type": "code",
   "execution_count": 33,
   "id": "48d538fe",
   "metadata": {},
   "outputs": [
    {
     "data": {
      "text/plain": [
       "['4', '3', '2', '9', '8', '5', '6', '1', '7']"
      ]
     },
     "execution_count": 33,
     "metadata": {},
     "output_type": "execute_result"
    }
   ],
   "source": [
    "list(\"432985617\")"
   ]
  },
  {
   "cell_type": "markdown",
   "id": "840c26fa",
   "metadata": {},
   "source": [
    "____"
   ]
  },
  {
   "cell_type": "code",
   "execution_count": 35,
   "id": "f799c4d8",
   "metadata": {},
   "outputs": [
    {
     "name": "stdout",
     "output_type": "stream",
     "text": [
      "[2, 4, 6, 8, 1, 3, 5, 7, 9]\n",
      "[2, 4, 6, 8, 1, 3, 5, 7, 9]\n"
     ]
    }
   ],
   "source": [
    "print(numbers)\n",
    "\n",
    "more_numbers = list(numbers)\n",
    "print(more_numbers)"
   ]
  },
  {
   "cell_type": "markdown",
   "id": "bed82d8e",
   "metadata": {},
   "source": [
    "It's one way to copy a list. We've now got two lists with the same items; numbers and more_numbers. They're not the same list, though."
   ]
  },
  {
   "cell_type": "code",
   "execution_count": 36,
   "id": "6bda9860",
   "metadata": {},
   "outputs": [
    {
     "name": "stdout",
     "output_type": "stream",
     "text": [
      "2296131859272\n",
      "2296132335368\n"
     ]
    }
   ],
   "source": [
    "# First way \n",
    "\n",
    "print(id(numbers))\n",
    "print(id(more_numbers))"
   ]
  },
  {
   "cell_type": "code",
   "execution_count": 37,
   "id": "c650f0bc",
   "metadata": {},
   "outputs": [
    {
     "name": "stdout",
     "output_type": "stream",
     "text": [
      "False\n"
     ]
    }
   ],
   "source": [
    "# Second way - We can also use is to see if they're the same\n",
    "\n",
    "print(numbers is more_numbers)"
   ]
  },
  {
   "cell_type": "code",
   "execution_count": 38,
   "id": "f1ebe82c",
   "metadata": {},
   "outputs": [
    {
     "name": "stdout",
     "output_type": "stream",
     "text": [
      "True\n"
     ]
    }
   ],
   "source": [
    "# they're not the same list. They are equal though, because they contain the same items in the same order.\n",
    "\n",
    "print(numbers == more_numbers)"
   ]
  },
  {
   "cell_type": "code",
   "execution_count": 45,
   "id": "86b7583e",
   "metadata": {},
   "outputs": [
    {
     "name": "stdout",
     "output_type": "stream",
     "text": [
      "[2, 4, 6, 8, 1, 3, 5, 7, 9]\n",
      "[2, 4, 6, 8, 1, 3, 5, 7, 9]\n",
      "\n",
      "2296131859272\n",
      "2296131656712\n"
     ]
    }
   ],
   "source": [
    "# Third way - There's another way to copy lists and that's to use a slice\n",
    "\n",
    "print(numbers)\n",
    "\n",
    "more_numbers = numbers[:]\n",
    "print(more_numbers)\n",
    "\n",
    "print()\n",
    "\n",
    "print(id(numbers))\n",
    "print(id(more_numbers))"
   ]
  },
  {
   "cell_type": "markdown",
   "id": "4b809570",
   "metadata": {},
   "source": [
    "The most readable way is to use the **copy method**."
   ]
  },
  {
   "cell_type": "code",
   "execution_count": 46,
   "id": "24a8d214",
   "metadata": {},
   "outputs": [
    {
     "name": "stdout",
     "output_type": "stream",
     "text": [
      "[2, 4, 6, 8, 1, 3, 5, 7, 9]\n",
      "\n",
      "2296131859272\n",
      "2296131657288\n"
     ]
    }
   ],
   "source": [
    "more_numbers = numbers.copy()\n",
    "print(more_numbers)\n",
    "\n",
    "print()\n",
    "\n",
    "print(id(numbers))\n",
    "print(id(more_numbers))"
   ]
  },
  {
   "cell_type": "markdown",
   "id": "a7364818",
   "metadata": {},
   "source": [
    "https://stackoverflow.com/questions/2612802/list-changes-unexpectedly-after-assignment-why-is-this-and-how-can-i-prevent-it/43220129#43220129"
   ]
  },
  {
   "cell_type": "markdown",
   "id": "a74b5833",
   "metadata": {},
   "source": [
    "___"
   ]
  },
  {
   "cell_type": "markdown",
   "id": "4c9c8b21",
   "metadata": {},
   "source": [
    "== will return True if the lists contain the same items, in the same order. \n",
    "\n",
    "The is operator will return True if two variables are referring to the same list."
   ]
  },
  {
   "cell_type": "markdown",
   "id": "f2b50cb3",
   "metadata": {},
   "source": [
    "____"
   ]
  },
  {
   "cell_type": "markdown",
   "id": "a6254409",
   "metadata": {},
   "source": [
    "### Replacing a slice\n",
    "**Mutable Sequence Operations**"
   ]
  },
  {
   "cell_type": "markdown",
   "id": "09c1dc45",
   "metadata": {},
   "source": [
    "https://docs.python.org/3/library/stdtypes.html#mutable-sequence-types"
   ]
  },
  {
   "cell_type": "code",
   "execution_count": 54,
   "id": "b3e2a488",
   "metadata": {},
   "outputs": [
    {
     "name": "stdout",
     "output_type": "stream",
     "text": [
      "['computer', 'monitor', 'keyboard', 'trackball', 'mouse mat']\n"
     ]
    }
   ],
   "source": [
    "computer_parts = ['computer',\n",
    "                  'monitor',\n",
    "                  'keyboard',\n",
    "                  'mouse',\n",
    "                  'mouse mat'\n",
    "                 ]\n",
    "\n",
    "# Let's now replace the mouse in our list with a trackball.\n",
    "\n",
    "computer_parts[3] = 'trackball'\n",
    "print(computer_parts)\n",
    "\n",
    "# s[i] = x        item i of s is replaced by x"
   ]
  },
  {
   "cell_type": "markdown",
   "id": "4c87d37d",
   "metadata": {},
   "source": [
    "**!!! Strings are immutable, so we can't replace one character with another.**"
   ]
  },
  {
   "cell_type": "code",
   "execution_count": 55,
   "id": "860828d4",
   "metadata": {},
   "outputs": [
    {
     "name": "stdout",
     "output_type": "stream",
     "text": [
      "['computer', 'monitor', 'keyboard', 't', 'r', 'a', 'c', 'k', 'b', 'a', 'l', 'l']\n"
     ]
    }
   ],
   "source": [
    "computer_parts = ['computer',\n",
    "                  'monitor',\n",
    "                  'keyboard',\n",
    "                  'mouse',\n",
    "                  'mouse mat'\n",
    "                 ]\n",
    "\n",
    "computer_parts[3:] = 'trackball'\n",
    "print(computer_parts)\n",
    "\n",
    "# s[i:j] = t      slice of s from i to j is replaced by the contents of the iterable t"
   ]
  },
  {
   "cell_type": "code",
   "execution_count": 56,
   "id": "4de9f859",
   "metadata": {},
   "outputs": [
    {
     "name": "stdout",
     "output_type": "stream",
     "text": [
      "['computer', 'monitor', 'keyboard', 'trackball']\n"
     ]
    }
   ],
   "source": [
    "computer_parts = ['computer',\n",
    "                  'monitor',\n",
    "                  'keyboard',\n",
    "                  'mouse',\n",
    "                  'mouse mat'\n",
    "                 ]\n",
    "\n",
    "computer_parts[3:] = ['trackball']\n",
    "print(computer_parts)"
   ]
  },
  {
   "cell_type": "markdown",
   "id": "66b810e9",
   "metadata": {},
   "source": [
    "___"
   ]
  },
  {
   "cell_type": "markdown",
   "id": "d9dc10f6",
   "metadata": {},
   "source": [
    "### Deleting Items from a List"
   ]
  },
  {
   "cell_type": "code",
   "execution_count": 63,
   "id": "2f0160a9",
   "metadata": {},
   "outputs": [],
   "source": [
    "data = [4, 5, 104, 105, 110, 120, 130, 130, 150,\n",
    "       160, 170, 183, 185, 187, 188, 191, 350, 360]"
   ]
  },
  {
   "cell_type": "markdown",
   "id": "44b940bb",
   "metadata": {},
   "source": [
    "the first two values are much lower than the others, and we can remove them from the list"
   ]
  },
  {
   "cell_type": "code",
   "execution_count": 64,
   "id": "5c1c5c1e",
   "metadata": {},
   "outputs": [
    {
     "name": "stdout",
     "output_type": "stream",
     "text": [
      "[104, 105, 110, 120, 130, 130, 150, 160, 170, 183, 185, 187, 188, 191, 350, 360]\n"
     ]
    }
   ],
   "source": [
    "del data[:2]\n",
    "print(data)"
   ]
  },
  {
   "cell_type": "code",
   "execution_count": 65,
   "id": "06bfdc8e",
   "metadata": {},
   "outputs": [
    {
     "name": "stdout",
     "output_type": "stream",
     "text": [
      "[104, 105, 110, 120, 130, 130, 150, 160, 170, 183, 185, 187, 188, 191]\n"
     ]
    }
   ],
   "source": [
    "del data[14:]\n",
    "print(data)"
   ]
  },
  {
   "cell_type": "markdown",
   "id": "1224c6b9",
   "metadata": {},
   "source": [
    "____"
   ]
  },
  {
   "cell_type": "code",
   "execution_count": 66,
   "id": "e5f6e496",
   "metadata": {},
   "outputs": [
    {
     "name": "stdout",
     "output_type": "stream",
     "text": [
      "[5, 104, 105, 110, 120, 130, 130, 150, 160, 170, 183, 185, 187, 188, 191, 360]\n"
     ]
    }
   ],
   "source": [
    "data = [4, 5, 104, 105, 110, 120, 130, 130, 150,\n",
    "       160, 170, 183, 185, 187, 188, 191, 350, 360]\n",
    "\n",
    "min_valid = 100\n",
    "max_valid = 200\n",
    "\n",
    "for index, value in enumerate(data):\n",
    "    if value < min_valid or value > max_valid:\n",
    "        del data[index]\n",
    "\n",
    "print(data)        "
   ]
  },
  {
   "cell_type": "markdown",
   "id": "39dd910b",
   "metadata": {},
   "source": [
    "**!!! But it's not going to work.**\n",
    "\n",
    "You can see the first value is 5, which should have been removed. At the end of the list we've still got 360, as well. Now the debugger will help to understand what's going on here."
   ]
  },
  {
   "cell_type": "markdown",
   "id": "2be2fe0c",
   "metadata": {},
   "source": [
    "Alright so index is currently zero and value is 4. That'll pass the condition, so del data[0] will be executed.\n",
    "<br>The list now starts with the value 5. You can see that 4 has been removed.\n",
    "\n",
    "Step over once more. Now check the values of index and value.\n",
    "<br>Index is 1 and the value's 104. 5 has been skipped because it's now at position zero."
   ]
  },
  {
   "cell_type": "markdown",
   "id": "f1cdd578",
   "metadata": {},
   "source": [
    "**The message to take away from this** is to be very careful when changing the size of an object, that you're iterating over. If you want to replace items with different ones, that's normally fine, but deleting items from a list, or any other mutable sequence type, while iterating forwards over it will cause problems, as we've seen here."
   ]
  },
  {
   "cell_type": "markdown",
   "id": "ca06ec3a",
   "metadata": {},
   "source": [
    "___"
   ]
  },
  {
   "cell_type": "markdown",
   "id": "6215949b",
   "metadata": {},
   "source": [
    "### Safely removing values from a list (from an *ordered* set of data)"
   ]
  },
  {
   "cell_type": "code",
   "execution_count": 67,
   "id": "7eff5bbe",
   "metadata": {},
   "outputs": [
    {
     "name": "stdout",
     "output_type": "stream",
     "text": [
      "2\n",
      "[104, 105, 110, 120, 130, 130, 150, 160, 170, 183, 185, 187, 188, 191, 350, 360]\n"
     ]
    }
   ],
   "source": [
    "data = [4, 5, 104, 105, 110, 120, 130, 130, 150,\n",
    "       160, 170, 183, 185, 187, 188, 191, 350, 360]\n",
    "\n",
    "min_valid = 100\n",
    "max_valid = 200\n",
    "\n",
    "# So I'm going to assume that we don't have enough memory to copy the list. \n",
    "# You may not have enough RAM for copying the entire list.\n",
    "\n",
    "stop = 0\n",
    "for index, value in enumerate(data):\n",
    "    if value >= min_valid:\n",
    "        stop = index\n",
    "        break\n",
    "        \n",
    "print(stop) # for debugging\n",
    "del data[:stop] # Remember that a slice extends up to, but not including, the stop value.\n",
    "print(data)"
   ]
  },
  {
   "cell_type": "markdown",
   "id": "a8dc4112",
   "metadata": {},
   "source": [
    "___"
   ]
  },
  {
   "cell_type": "markdown",
   "id": "e4f66b1a",
   "metadata": {},
   "source": [
    "Deleting the items from the end of the list needs a bit more thought.\n",
    "<br>If there are billions of items, we don't want to work through the entire list to find the first value to be deleted.\n",
    "<br>Instead, we can process the list from the end."
   ]
  },
  {
   "cell_type": "code",
   "execution_count": 70,
   "id": "b1567381",
   "metadata": {},
   "outputs": [
    {
     "name": "stdout",
     "output_type": "stream",
     "text": [
      "15\n",
      "14\n",
      "13\n",
      "12\n",
      "11\n",
      "10\n",
      "9\n",
      "8\n",
      "7\n",
      "6\n",
      "5\n",
      "4\n",
      "3\n",
      "2\n",
      "1\n",
      "0\n"
     ]
    }
   ],
   "source": [
    "# We want to work backwards, which means that we'll start at the index position 1 less than the length of the list.\n",
    "# We can't use 0 as the stop value. Remember that the last value in a range or slice isn't included.\n",
    "# If we use 0, the first item in the list won't be included.\n",
    "# And that's why we're using -1 as the stop value.\n",
    "\n",
    "start = 0\n",
    "for index in range(len(data) - 1, -1, -1): \n",
    "    print(index)"
   ]
  },
  {
   "cell_type": "markdown",
   "id": "d08ed8e7",
   "metadata": {},
   "source": [
    "If we find a value that's within the valid range - so a value that's less than or equal to 200 - we can break out of the loop."
   ]
  },
  {
   "cell_type": "code",
   "execution_count": 71,
   "id": "c86b8e87",
   "metadata": {},
   "outputs": [
    {
     "name": "stdout",
     "output_type": "stream",
     "text": [
      "[104, 105, 110, 120, 130, 130, 150, 160, 170, 183, 185, 187, 188, 191]\n"
     ]
    }
   ],
   "source": [
    "start = 0\n",
    "for index in range(len(data) - 1, -1, -1):\n",
    "    if data[index] <= max_valid:\n",
    "        start = index\n",
    "        break\n",
    "\n",
    "del data[start + 1 :]\n",
    "print(data)"
   ]
  },
  {
   "cell_type": "markdown",
   "id": "14ff7ccc",
   "metadata": {},
   "source": [
    "or"
   ]
  },
  {
   "cell_type": "code",
   "execution_count": null,
   "id": "0309e4fb",
   "metadata": {},
   "outputs": [],
   "source": [
    "start = 0\n",
    "for index in range(len(data) - 1, -1, -1):\n",
    "    if data[index] <= max_valid:\n",
    "        start = index + 1\n",
    "        break\n",
    "\n",
    "del data[start :]\n",
    "print(data)"
   ]
  },
  {
   "cell_type": "markdown",
   "id": "afec1471",
   "metadata": {},
   "source": [
    "___"
   ]
  },
  {
   "cell_type": "markdown",
   "id": "0705752b",
   "metadata": {},
   "source": [
    "### Edge case, Corner case\n",
    "\n",
    "https://en.wikipedia.org/wiki/Edge_case#:~:text=An%20edge%20case%20is%20a,can%20be%20expected%20or%20unexpected.<br>\n",
    "https://en.wikipedia.org/wiki/Corner_case"
   ]
  },
  {
   "cell_type": "markdown",
   "id": "e145e880",
   "metadata": {},
   "source": [
    "You need to test for all the scenarios in your code, to make sure there are no bugs.\n",
    "<br> Make sure you test edge cases and corner cases: An **edge case** is \"a problem or situation that occurs at an extreme operation parameter\", and a **corner case** is similar, but when there's more than one parameter involved."
   ]
  },
  {
   "cell_type": "markdown",
   "id": "c9eaacd6",
   "metadata": {},
   "source": [
    "___"
   ]
  },
  {
   "cell_type": "markdown",
   "id": "e5e1cab2",
   "metadata": {},
   "source": [
    "### Removing Items from a List Backwards"
   ]
  },
  {
   "cell_type": "markdown",
   "id": "8d71a141",
   "metadata": {},
   "source": [
    "You should be careful, when changing a list that you're iterating over. One way to be careful, is to iterate backwards.\n",
    "<br> If we remove an item at index 10, all the items above that would shuffle down. But the indexes from 9 to 0 wouldn't be affected.\n",
    "\n",
    "Iterating backwards is a valuable technique, and allows the size of your sequence to be changed without causing a problem. "
   ]
  },
  {
   "cell_type": "code",
   "execution_count": 8,
   "id": "9fb3bbee",
   "metadata": {},
   "outputs": [
    {
     "name": "stdout",
     "output_type": "stream",
     "text": [
      "9 [104, 101, 4, 105, 308, 103, 5, 107, 100, 306, 106, 102, 108]\n",
      "6 [104, 101, 4, 105, 308, 103, 5, 107, 100, 106, 102, 108]\n",
      "4 [104, 101, 4, 105, 308, 103, 107, 100, 106, 102, 108]\n",
      "2 [104, 101, 4, 105, 103, 107, 100, 106, 102, 108]\n",
      "\n",
      "[104, 101, 105, 103, 107, 100, 106, 102, 108]\n"
     ]
    }
   ],
   "source": [
    "# The values to remove appear randomly in the list.\n",
    "\n",
    "data = [104, 101, 4, 105, 308, 103, 5,\n",
    "       107, 100, 306, 106, 102, 108]\n",
    "\n",
    "min_valid = 100\n",
    "max_valid = 200\n",
    "\n",
    "# it's not sorted\n",
    "\n",
    "for index in range(len(data)-1, -1, -1):\n",
    "    if data[index] < min_valid or data[index] > max_valid:\n",
    "        print(index, data)\n",
    "        del data[index]\n",
    "        \n",
    "print()\n",
    "\n",
    "print(data) # The four rogue values have gone from the list."
   ]
  },
  {
   "cell_type": "markdown",
   "id": "69d27a2f",
   "metadata": {},
   "source": [
    "### The Reversed() Function\n",
    "\n",
    "this function gives us a way to iterate over a sequence in reverse"
   ]
  },
  {
   "cell_type": "code",
   "execution_count": 14,
   "id": "262b8b1d",
   "metadata": {},
   "outputs": [
    {
     "name": "stdout",
     "output_type": "stream",
     "text": [
      "0 108\n",
      "1 102\n",
      "2 106\n",
      "3 306\n",
      "4 100\n",
      "5 107\n",
      "6 5\n",
      "7 103\n",
      "8 308\n",
      "9 105\n",
      "10 4\n",
      "11 101\n",
      "12 104\n"
     ]
    }
   ],
   "source": [
    "data = [104, 101, 4, 105, 308, 103, 5,\n",
    "       107, 100, 306, 106, 102, 108]\n",
    "\n",
    "for index, value in enumerate(reversed(data)):\n",
    "    print(index, value)"
   ]
  },
  {
   "cell_type": "markdown",
   "id": "c57bc1b3",
   "metadata": {},
   "source": [
    "**!!!  When you use a reversed iterator, the index positions relate to the data in reverse order.**"
   ]
  },
  {
   "cell_type": "markdown",
   "id": "4e8dcb9a",
   "metadata": {},
   "source": [
    "It's easy to get the correct index positions. All we need to do is just subtract index from 12."
   ]
  },
  {
   "cell_type": "code",
   "execution_count": 15,
   "id": "ebb0d0dd",
   "metadata": {},
   "outputs": [
    {
     "data": {
      "text/plain": [
       "[104, 101, 4, 105, 308, 103, 5, 107, 100, 306, 106, 102, 108]"
      ]
     },
     "execution_count": 15,
     "metadata": {},
     "output_type": "execute_result"
    }
   ],
   "source": [
    "data"
   ]
  },
  {
   "cell_type": "code",
   "execution_count": 16,
   "id": "964a8836",
   "metadata": {},
   "outputs": [
    {
     "data": {
      "text/plain": [
       "<list_reverseiterator at 0x13a1f602108>"
      ]
     },
     "execution_count": 16,
     "metadata": {},
     "output_type": "execute_result"
    }
   ],
   "source": [
    "reversed(data)"
   ]
  },
  {
   "cell_type": "code",
   "execution_count": 18,
   "id": "cea0cdc4",
   "metadata": {},
   "outputs": [
    {
     "name": "stdout",
     "output_type": "stream",
     "text": [
      "[104, 101, 105, 103, 107, 100, 106, 102, 108]\n"
     ]
    }
   ],
   "source": [
    "data = [104, 101, 4, 105, 308, 103, 5,\n",
    "       107, 100, 306, 106, 102, 108]\n",
    "\n",
    "# len(data) is 13\n",
    "\n",
    "min_valid = 100\n",
    "max_valid = 200\n",
    "\n",
    "top_index = len(data) - 1  \n",
    "for index, value in enumerate(reversed(data)):\n",
    "    if value < min_valid or value > max_valid:\n",
    "        del data[top_index - index]\n",
    "        \n",
    "print(data)\n",
    "\n",
    "# if not reversed - 108 is at index 12\n",
    "# if reversed - at index 0"
   ]
  },
  {
   "cell_type": "markdown",
   "id": "6f08646d",
   "metadata": {},
   "source": [
    "___"
   ]
  },
  {
   "cell_type": "markdown",
   "id": "35c34b34",
   "metadata": {},
   "source": [
    "# 110. Algorithm Performance ---- (to be looked through, DON'T FORGET)"
   ]
  },
  {
   "cell_type": "markdown",
   "id": "52ad2163",
   "metadata": {},
   "source": [
    "___"
   ]
  },
  {
   "cell_type": "markdown",
   "id": "cee40b55",
   "metadata": {},
   "source": [
    "### Nested Lists & Code Style"
   ]
  },
  {
   "cell_type": "code",
   "execution_count": 19,
   "id": "630c70d3",
   "metadata": {},
   "outputs": [
    {
     "name": "stdout",
     "output_type": "stream",
     "text": [
      "[2, 4, 6, 8, 1, 3, 5, 7, 9]\n"
     ]
    }
   ],
   "source": [
    "even = [2, 4, 6, 8]\n",
    "odd = [1, 3, 5, 7, 9]\n",
    "\n",
    "numbers = even + odd\n",
    "\n",
    "print(numbers)"
   ]
  },
  {
   "cell_type": "code",
   "execution_count": 20,
   "id": "40466a77",
   "metadata": {},
   "outputs": [
    {
     "name": "stdout",
     "output_type": "stream",
     "text": [
      "[[2, 4, 6, 8], [1, 3, 5, 7, 9]]\n"
     ]
    }
   ],
   "source": [
    "even = [2, 4, 6, 8]\n",
    "odd = [1, 3, 5, 7, 9]\n",
    "\n",
    "numbers = [even, odd]\n",
    "\n",
    "print(numbers)"
   ]
  },
  {
   "cell_type": "code",
   "execution_count": 22,
   "id": "04885276",
   "metadata": {},
   "outputs": [
    {
     "name": "stdout",
     "output_type": "stream",
     "text": [
      "[2, 4, 6, 8]\n",
      "2\n",
      "4\n",
      "6\n",
      "8\n",
      "[1, 3, 5, 7, 9]\n",
      "1\n",
      "3\n",
      "5\n",
      "7\n",
      "9\n"
     ]
    }
   ],
   "source": [
    "for i in numbers:\n",
    "    print(i)\n",
    "    \n",
    "    for value in i:\n",
    "        print(value)"
   ]
  },
  {
   "cell_type": "markdown",
   "id": "fa6f354f",
   "metadata": {},
   "source": [
    "https://www.python.org/dev/peps/pep-0008/\n",
    "\n",
    "https://google.github.io/styleguide/pyguide.html  **Read this!!!**"
   ]
  },
  {
   "cell_type": "markdown",
   "id": "6abca222",
   "metadata": {},
   "source": [
    "___"
   ]
  },
  {
   "cell_type": "code",
   "execution_count": 23,
   "id": "dccf98e7",
   "metadata": {},
   "outputs": [],
   "source": [
    "menu = [\n",
    "        [\"egg\", \"bacon\"],\n",
    "        [\"egg\", \"sausage\", \"bacon\"],\n",
    "        [\"egg\", \"spam\"],\n",
    "        [\"egg\", \"bacon\", \"spam\"],\n",
    "        [\"egg\", \"bacon\", \"sausage\", \"spam\"],\n",
    "        [\"spam\", \"bacon\", \"sausage\", \"spam\"],\n",
    "        [\"spam\", \"sausage\", \"spam\", \"bacon\", \"spam\", \"tomato\", \"spam\"],\n",
    "        [\"spam\", \"egg\", \"spam\", \"spam\", \"bacon\", \"spam\"],\n",
    "]"
   ]
  },
  {
   "cell_type": "code",
   "execution_count": 24,
   "id": "56dedd38",
   "metadata": {},
   "outputs": [
    {
     "name": "stdout",
     "output_type": "stream",
     "text": [
      "['egg', 'bacon']\n",
      "egg\n",
      "bacon\n",
      "['egg', 'sausage', 'bacon']\n",
      "egg\n",
      "sausage\n",
      "bacon\n",
      "['egg', 'spam'] has a spam score 1\n",
      "['egg', 'bacon', 'spam'] has a spam score 1\n",
      "['egg', 'bacon', 'sausage', 'spam'] has a spam score 1\n",
      "['spam', 'bacon', 'sausage', 'spam'] has a spam score 2\n",
      "['spam', 'sausage', 'spam', 'bacon', 'spam', 'tomato', 'spam'] has a spam score 4\n",
      "['spam', 'egg', 'spam', 'spam', 'bacon', 'spam'] has a spam score 4\n"
     ]
    }
   ],
   "source": [
    "for meal in menu:\n",
    "    if \"spam\" not in meal:\n",
    "        print(meal)\n",
    "        \n",
    "        for item in meal:\n",
    "            print(item)\n",
    "    else:\n",
    "        print(\"{0} has a spam score {1}\"\n",
    "             .format(meal, meal.count(\"spam\")))"
   ]
  },
  {
   "cell_type": "markdown",
   "id": "eac54bdc",
   "metadata": {},
   "source": [
    "___"
   ]
  },
  {
   "cell_type": "markdown",
   "id": "2ce60efc",
   "metadata": {},
   "source": [
    "#### Challenge\n",
    "\n",
    "write code to print out all the meals in the menu, but with **spam** removed"
   ]
  },
  {
   "cell_type": "code",
   "execution_count": 25,
   "id": "b2f0632e",
   "metadata": {},
   "outputs": [],
   "source": [
    "menu = [\n",
    "        [\"egg\", \"bacon\"],\n",
    "        [\"egg\", \"sausage\", \"bacon\"],\n",
    "        [\"egg\", \"spam\"],\n",
    "        [\"egg\", \"bacon\", \"spam\"],\n",
    "        [\"egg\", \"bacon\", \"sausage\", \"spam\"],\n",
    "        [\"spam\", \"bacon\", \"sausage\", \"spam\"],\n",
    "        [\"spam\", \"sausage\", \"spam\", \"bacon\", \"spam\", \"tomato\", \"spam\"],\n",
    "        [\"spam\", \"egg\", \"spam\", \"spam\", \"bacon\", \"spam\"],\n",
    "]"
   ]
  },
  {
   "cell_type": "code",
   "execution_count": 26,
   "id": "81fa07ef",
   "metadata": {},
   "outputs": [
    {
     "name": "stdout",
     "output_type": "stream",
     "text": [
      "['egg', 'bacon']\n",
      "['egg', 'sausage', 'bacon']\n",
      "['egg']\n",
      "['egg', 'bacon']\n",
      "['egg', 'bacon', 'sausage']\n",
      "['bacon', 'sausage']\n",
      "['sausage', 'bacon', 'tomato']\n",
      "['egg', 'bacon', 'spam']\n"
     ]
    }
   ],
   "source": [
    "for meal in menu:\n",
    "    for item in meal:\n",
    "        if item == 'spam':\n",
    "            meal.remove('spam')\n",
    "    print(meal)"
   ]
  },
  {
   "cell_type": "code",
   "execution_count": 27,
   "id": "30f7a15f",
   "metadata": {},
   "outputs": [
    {
     "name": "stdout",
     "output_type": "stream",
     "text": [
      "['egg', 'bacon']\n",
      "['egg', 'sausage', 'bacon']\n",
      "['egg']\n",
      "['egg', 'bacon']\n",
      "['egg', 'bacon', 'sausage']\n",
      "['bacon', 'sausage']\n",
      "['sausage', 'bacon', 'tomato']\n",
      "['egg', 'bacon']\n"
     ]
    }
   ],
   "source": [
    "# Backwards through the list\n",
    "\n",
    "for meal in menu:\n",
    "    for index in range(len(meal)-1, -1, -1):\n",
    "        if meal[index] == 'spam':\n",
    "            del meal[index]\n",
    "    print(meal)"
   ]
  },
  {
   "cell_type": "code",
   "execution_count": 28,
   "id": "770572ff",
   "metadata": {},
   "outputs": [
    {
     "name": "stdout",
     "output_type": "stream",
     "text": [
      "egg\n",
      "bacon\n",
      "\n",
      "egg\n",
      "sausage\n",
      "bacon\n",
      "\n",
      "egg\n",
      "\n",
      "egg\n",
      "bacon\n",
      "\n",
      "egg\n",
      "bacon\n",
      "sausage\n",
      "\n",
      "bacon\n",
      "sausage\n",
      "\n",
      "sausage\n",
      "bacon\n",
      "tomato\n",
      "\n",
      "egg\n",
      "bacon\n",
      "\n"
     ]
    }
   ],
   "source": [
    "for meal in menu:\n",
    "    for item in meal:\n",
    "        if item != 'spam':\n",
    "            print(item)\n",
    "    print()"
   ]
  },
  {
   "cell_type": "markdown",
   "id": "e3441841",
   "metadata": {},
   "source": [
    "The items for each meal are on a separate line here, though, which isn't ideal.\n",
    "<br> The print function has some extra arguments that we can use."
   ]
  },
  {
   "cell_type": "markdown",
   "id": "b2a8e4a0",
   "metadata": {},
   "source": [
    "### print() revisited"
   ]
  },
  {
   "cell_type": "code",
   "execution_count": 31,
   "id": "01d5dbb1",
   "metadata": {},
   "outputs": [
    {
     "name": "stdout",
     "output_type": "stream",
     "text": [
      "Tim 25 Python 2022\n"
     ]
    }
   ],
   "source": [
    "name = \"Tim\"\n",
    "age = 25\n",
    "\n",
    "print(name, age, \"Python\", 2022) # we can provide several values"
   ]
  },
  {
   "cell_type": "code",
   "execution_count": 34,
   "id": "4109d814",
   "metadata": {},
   "outputs": [
    {
     "name": "stdout",
     "output_type": "stream",
     "text": [
      "Tim, 25, Python, 2022\n"
     ]
    }
   ],
   "source": [
    "# sep=' '   The sep parameter is a keyword argument, and its default value is ' '\n",
    "\n",
    "print(name, age, \"Python\", 2022, sep=', ')"
   ]
  },
  {
   "cell_type": "markdown",
   "id": "21d1499c",
   "metadata": {},
   "source": [
    "If we want to provide a value for sep, we have to specify its name. Now that's why they're also called named arguments. "
   ]
  },
  {
   "cell_type": "markdown",
   "id": "9fb24d15",
   "metadata": {},
   "source": [
    "<u>Remember that the separator's only used between the values we print, when we pass more than one value to the print function."
   ]
  },
  {
   "cell_type": "markdown",
   "id": "4e2be7a0",
   "metadata": {},
   "source": [
    "#### <u>It's usual not to put spaces either side of the equal sign, when passing a keyword argument"
   ]
  },
  {
   "cell_type": "markdown",
   "id": "32fa355a",
   "metadata": {},
   "source": [
    "The other keyword argument that we saw in the documentation, was **end**."
   ]
  },
  {
   "cell_type": "code",
   "execution_count": 51,
   "id": "d81f82f3",
   "metadata": {},
   "outputs": [],
   "source": [
    "menu = [\n",
    "        [\"egg\", \"bacon\"],\n",
    "        [\"egg\", \"sausage\", \"bacon\"],\n",
    "        [\"egg\", \"spam\"],\n",
    "        [\"egg\", \"bacon\", \"spam\"],\n",
    "        [\"egg\", \"bacon\", \"sausage\", \"spam\"],\n",
    "        [\"spam\", \"bacon\", \"sausage\", \"spam\"],\n",
    "        [\"spam\", \"sausage\", \"spam\", \"bacon\", \"spam\", \"tomato\", \"spam\"],\n",
    "        [\"spam\", \"egg\", \"spam\", \"spam\", \"bacon\", \"spam\"],\n",
    "]"
   ]
  },
  {
   "cell_type": "code",
   "execution_count": 52,
   "id": "20afe342",
   "metadata": {},
   "outputs": [
    {
     "name": "stdout",
     "output_type": "stream",
     "text": [
      "egg bacon \n",
      "egg sausage bacon \n",
      "egg \n",
      "egg bacon \n",
      "egg bacon sausage \n",
      "bacon sausage \n",
      "sausage bacon tomato \n",
      "egg bacon \n"
     ]
    }
   ],
   "source": [
    "for meal in menu:\n",
    "    for item in meal:\n",
    "        if item != 'spam':\n",
    "            print(item, end=' ')\n",
    "    print()\n",
    "    \n",
    "# Setting end to a space, tells print to print a space after printing, instead of a newline (default)."
   ]
  },
  {
   "cell_type": "code",
   "execution_count": 53,
   "id": "dd843596",
   "metadata": {},
   "outputs": [
    {
     "name": "stdout",
     "output_type": "stream",
     "text": [
      "egg, bacon, \n",
      "egg, sausage, bacon, \n",
      "egg, \n",
      "egg, bacon, \n",
      "egg, bacon, sausage, \n",
      "bacon, sausage, \n",
      "sausage, bacon, tomato, \n",
      "egg, bacon, \n"
     ]
    }
   ],
   "source": [
    "for meal in menu:\n",
    "    for item in meal:\n",
    "        if item != 'spam':\n",
    "            print(item, end=', ')\n",
    "    print()"
   ]
  },
  {
   "cell_type": "code",
   "execution_count": 54,
   "id": "02d91848",
   "metadata": {},
   "outputs": [
    {
     "name": "stdout",
     "output_type": "stream",
     "text": [
      "egg, bacon\n",
      "egg, sausage, bacon\n",
      "egg\n",
      "egg, bacon\n",
      "egg, bacon, sausage\n",
      "bacon, sausage\n",
      "sausage, bacon, tomato\n",
      "egg, bacon\n"
     ]
    }
   ],
   "source": [
    "for meal in menu:\n",
    "    items = \", \".join((item for item in meal if item != 'spam'))\n",
    "    print(items)"
   ]
  },
  {
   "cell_type": "markdown",
   "id": "c52f2c54",
   "metadata": {},
   "source": [
    "___"
   ]
  },
  {
   "cell_type": "markdown",
   "id": "c497ce90",
   "metadata": {},
   "source": [
    "### The join method"
   ]
  },
  {
   "cell_type": "markdown",
   "id": "cf7ea64c",
   "metadata": {},
   "source": [
    "<u>**The join method actually takes care of iterating. We give it an iterable and it joins all the items in the iterable.**\n",
    "\n",
    "<u>**It uses the string we call it on as the separator.**"
   ]
  },
  {
   "cell_type": "code",
   "execution_count": 59,
   "id": "0f1e5eb3",
   "metadata": {},
   "outputs": [],
   "source": [
    "menu = [\n",
    "        [\"egg\", \"bacon\"],\n",
    "        [\"egg\", \"sausage\", \"bacon\"],\n",
    "        [\"egg\", \"spam\"],\n",
    "        [\"egg\", \"bacon\", \"spam\"],\n",
    "        [\"egg\", \"bacon\", \"sausage\", \"spam\"],\n",
    "        [\"spam\", \"bacon\", \"sausage\", \"spam\"],\n",
    "        [\"spam\", \"sausage\", \"spam\", \"bacon\", \"spam\", \"tomato\", \"spam\"],\n",
    "        [\"spam\", \"egg\", \"spam\", \"spam\", \"bacon\", \"spam\"],\n",
    "]"
   ]
  },
  {
   "cell_type": "code",
   "execution_count": 60,
   "id": "7466b6ce",
   "metadata": {},
   "outputs": [
    {
     "name": "stdout",
     "output_type": "stream",
     "text": [
      "['egg', 'bacon']\n",
      "['egg', 'sausage', 'bacon']\n",
      "['egg']\n",
      "['egg', 'bacon']\n",
      "['egg', 'bacon', 'sausage']\n",
      "['bacon', 'sausage']\n",
      "['sausage', 'bacon', 'tomato']\n",
      "['egg', 'bacon']\n"
     ]
    }
   ],
   "source": [
    "for meal in menu:\n",
    "    for index in range(len(meal)-1, -1, -1):\n",
    "        if meal[index] == 'spam':\n",
    "            del meal[index]\n",
    "    \n",
    "    print(meal)"
   ]
  },
  {
   "cell_type": "code",
   "execution_count": 61,
   "id": "90a435bd",
   "metadata": {},
   "outputs": [
    {
     "name": "stdout",
     "output_type": "stream",
     "text": [
      "egg, bacon\n",
      "egg, sausage, bacon\n",
      "egg\n",
      "egg, bacon\n",
      "egg, bacon, sausage\n",
      "bacon, sausage\n",
      "sausage, bacon, tomato\n",
      "egg, bacon\n"
     ]
    }
   ],
   "source": [
    "for meal in menu:\n",
    "    for index in range(len(meal)-1, -1, -1):\n",
    "        if meal[index] == 'spam':\n",
    "            del meal[index]\n",
    "    \n",
    "    print(\", \".join(meal))"
   ]
  },
  {
   "cell_type": "code",
   "execution_count": 62,
   "id": "ac930283",
   "metadata": {},
   "outputs": [],
   "source": [
    "flowers = [\n",
    "    \"Daffodil\",\n",
    "    'Evening Primrose',\n",
    "    'Hydrangea',\n",
    "    'Iris',\n",
    "    'Lavanda', \n",
    "    'Sunflower'\n",
    "]"
   ]
  },
  {
   "cell_type": "code",
   "execution_count": 64,
   "id": "cf3adeb9",
   "metadata": {},
   "outputs": [
    {
     "name": "stdout",
     "output_type": "stream",
     "text": [
      "Daffodil | Evening Primrose | Hydrangea | Iris | Lavanda | Sunflower\n"
     ]
    }
   ],
   "source": [
    "separator = \" | \"\n",
    "output = separator.join(flowers)\n",
    "print(output)"
   ]
  },
  {
   "cell_type": "markdown",
   "id": "506c33ea",
   "metadata": {},
   "source": [
    "**!!! Now note that we haven't had to use a for loop here. Join iterates over the list for us.**"
   ]
  },
  {
   "cell_type": "markdown",
   "id": "e4dc3942",
   "metadata": {},
   "source": [
    "___"
   ]
  },
  {
   "cell_type": "markdown",
   "id": "b72c047a",
   "metadata": {},
   "source": [
    "#### <u>So the join method creates a string from a list, and separates each item with the string that it's called on."
   ]
  },
  {
   "cell_type": "markdown",
   "id": "054d8976",
   "metadata": {},
   "source": [
    "___"
   ]
  },
  {
   "cell_type": "code",
   "execution_count": 65,
   "id": "4fbdd936",
   "metadata": {},
   "outputs": [
    {
     "name": "stdout",
     "output_type": "stream",
     "text": [
      "Daffodil,Evening Primrose,Hydrangea,Iris,Lavanda,Sunflower\n"
     ]
    }
   ],
   "source": [
    "print(','.join(flowers))"
   ]
  },
  {
   "cell_type": "markdown",
   "id": "cbe6bde0",
   "metadata": {},
   "source": [
    "**!!! there is one thing to be aware of - all the items in the iterable must be strings, if you want to join the items**"
   ]
  },
  {
   "cell_type": "markdown",
   "id": "5079709f",
   "metadata": {},
   "source": [
    "___"
   ]
  },
  {
   "cell_type": "markdown",
   "id": "b044cfb0",
   "metadata": {},
   "source": [
    "### The split method"
   ]
  },
  {
   "cell_type": "code",
   "execution_count": 80,
   "id": "bb9a0cde",
   "metadata": {},
   "outputs": [
    {
     "name": "stdout",
     "output_type": "stream",
     "text": [
      "['The', 'quick', 'brown', 'fox', 'jumps', 'over', 'the', 'lazy', 'dog.']\n"
     ]
    }
   ],
   "source": [
    "panagram = 'The quick brown fox jumps over the lazy dog.'\n",
    "\n",
    "words = panagram.split(' ')\n",
    "print(words)\n",
    "\n",
    "# we get a list containing all the words in the string"
   ]
  },
  {
   "cell_type": "code",
   "execution_count": 81,
   "id": "c3643638",
   "metadata": {},
   "outputs": [
    {
     "name": "stdout",
     "output_type": "stream",
     "text": [
      "The quick brown\n",
      "fox jumps\t over\n",
      "the lazy dog.\n",
      "\n",
      "\n",
      "['The', 'quick', 'brown\\nfox', 'jumps\\t', 'over\\nthe', 'lazy', 'dog.\\n']\n"
     ]
    }
   ],
   "source": [
    "panagram = \"\"\"The quick brown\n",
    "fox jumps\\t over\n",
    "the lazy dog.\n",
    "\"\"\"\n",
    "print(panagram)\n",
    "\n",
    "print()\n",
    "\n",
    "print(panagram.split(' '))"
   ]
  },
  {
   "cell_type": "code",
   "execution_count": 82,
   "id": "0e19e803",
   "metadata": {},
   "outputs": [
    {
     "name": "stdout",
     "output_type": "stream",
     "text": [
      "The quick brown\n",
      "fox jumps\t over\n",
      "the lazy dog.\n",
      "\n",
      "\n",
      "['The quick brown\\nfox jumps', ' over\\nthe lazy dog.\\n']\n"
     ]
    }
   ],
   "source": [
    "panagram = \"\"\"The quick brown\n",
    "fox jumps\\t over\n",
    "the lazy dog.\n",
    "\"\"\"\n",
    "print(panagram)\n",
    "\n",
    "print()\n",
    "\n",
    "print(panagram.split('\\t'))"
   ]
  },
  {
   "cell_type": "code",
   "execution_count": 84,
   "id": "9b19a00e",
   "metadata": {},
   "outputs": [
    {
     "name": "stdout",
     "output_type": "stream",
     "text": [
      "['9', '345', '78', '098', '56', '234', '11']\n"
     ]
    }
   ],
   "source": [
    "numbers = '9, 345, 78, 098, 56, 234, 11'\n",
    "print(numbers.split(', '))"
   ]
  },
  {
   "cell_type": "markdown",
   "id": "b9a50a51",
   "metadata": {},
   "source": [
    "**<u>when you split a string, you get a list of strings**"
   ]
  },
  {
   "cell_type": "code",
   "execution_count": 96,
   "id": "24b9fa7b",
   "metadata": {},
   "outputs": [
    {
     "name": "stdout",
     "output_type": "stream",
     "text": [
      "9 233 347 15 <class 'str'>\n",
      "\n",
      "['9', '233', '347', '15']\n"
     ]
    }
   ],
   "source": [
    "generated_list =['9', ' ',\n",
    "                '2', '3', '3', ' ', \n",
    "                '3', '4', '7', ' ', \n",
    "                '1', '5'\n",
    "                ]\n",
    "\n",
    "values = ''.join(generated_list)\n",
    "print(values, type(values))\n",
    "\n",
    "print()\n",
    "\n",
    "values_list = values.split(' ')\n",
    "print(values_list)"
   ]
  },
  {
   "cell_type": "code",
   "execution_count": 97,
   "id": "98854ab5",
   "metadata": {},
   "outputs": [
    {
     "name": "stdout",
     "output_type": "stream",
     "text": [
      "[9, 233, 347, 15]\n"
     ]
    }
   ],
   "source": [
    "values_list_int = [int(i) for i in values_list]\n",
    "print(values_list_int)"
   ]
  },
  {
   "cell_type": "code",
   "execution_count": 98,
   "id": "7821988a",
   "metadata": {},
   "outputs": [
    {
     "name": "stdout",
     "output_type": "stream",
     "text": [
      "['9', '233', '347', '15']\n",
      "[9, 233, 347, 15]\n"
     ]
    }
   ],
   "source": [
    "# replace each value, in turn, with its integer equivalent\n",
    "\n",
    "print(values_list)\n",
    "for index in range(len(values_list)):\n",
    "    values_list[index] = int(values_list[index])\n",
    "print(values_list)"
   ]
  },
  {
   "cell_type": "code",
   "execution_count": 101,
   "id": "53043b6e",
   "metadata": {},
   "outputs": [
    {
     "name": "stdout",
     "output_type": "stream",
     "text": [
      "[9, 233, 347, 15]\n"
     ]
    }
   ],
   "source": [
    "# create a new list\n",
    "\n",
    "values_list = ['9', '233', '347', '15']\n",
    "integer_values = []\n",
    "for value in values_list:\n",
    "    integer_values.append(int(value))\n",
    "print(integer_values)"
   ]
  },
  {
   "cell_type": "markdown",
   "id": "287f13b8",
   "metadata": {},
   "source": [
    "___"
   ]
  },
  {
   "cell_type": "markdown",
   "id": "f676300d",
   "metadata": {},
   "source": [
    "### Tuples\n",
    "\n",
    "**immutable sequence**"
   ]
  },
  {
   "cell_type": "markdown",
   "id": "bf89c8a7",
   "metadata": {},
   "source": [
    "**tuples help protect the integrity of your data**"
   ]
  },
  {
   "cell_type": "markdown",
   "id": "35dd00fd",
   "metadata": {},
   "source": [
    "https://docs.python.org/3/library/stdtypes.html#common-sequence-operations"
   ]
  },
  {
   "cell_type": "markdown",
   "id": "4b938ba6",
   "metadata": {},
   "source": [
    "All of the common sequence operations can be performed on tuples."
   ]
  },
  {
   "cell_type": "code",
   "execution_count": 106,
   "id": "7da61f8a",
   "metadata": {},
   "outputs": [
    {
     "name": "stdout",
     "output_type": "stream",
     "text": [
      "('a', 'b', 'c') <class 'tuple'>\n"
     ]
    }
   ],
   "source": [
    "t = 'a', 'b', 'c'\n",
    "print(t, type(t))"
   ]
  },
  {
   "cell_type": "code",
   "execution_count": 105,
   "id": "e84590ef",
   "metadata": {},
   "outputs": [
    {
     "name": "stdout",
     "output_type": "stream",
     "text": [
      "('a', 'b', 'c') <class 'tuple'>\n"
     ]
    }
   ],
   "source": [
    "t = ('a', 'b', 'c')\n",
    "print(t, type(t))"
   ]
  },
  {
   "cell_type": "code",
   "execution_count": 107,
   "id": "41c1c239",
   "metadata": {},
   "outputs": [
    {
     "name": "stdout",
     "output_type": "stream",
     "text": [
      "Tim 25 Python 2022\n",
      "('Tim', 25, 'Python', 2022)\n"
     ]
    }
   ],
   "source": [
    "name = 'Tim'\n",
    "age = 25\n",
    "print(name, age, 'Python', 2022)\n",
    "print((name, age, 'Python', 2022))"
   ]
  },
  {
   "cell_type": "code",
   "execution_count": 108,
   "id": "9d43eae3",
   "metadata": {},
   "outputs": [],
   "source": [
    "welcome = \"Welcome to my Nightmare\", \"Alice Cooper\", 1975\n",
    "bad = \"Bad Company\", \"Bad Company\", 1974\n",
    "budgie = \"Nightflight\", \"Budgie\", 1981\n",
    "imelda = \"More Mayhem\", \"Emilda May\", 2011\n",
    "metallica = \"Ride the Lightning\", \"Metallica\", 1984"
   ]
  },
  {
   "cell_type": "code",
   "execution_count": 110,
   "id": "e3a62a9c",
   "metadata": {},
   "outputs": [
    {
     "name": "stdout",
     "output_type": "stream",
     "text": [
      "('Ride the Lightning', 'Metallica', 1984)\n",
      "Ride the Lightning\n",
      "Metallica\n",
      "1984\n"
     ]
    }
   ],
   "source": [
    "print(metallica)\n",
    "print(metallica[0])\n",
    "print(metallica[1])\n",
    "print(metallica[2])"
   ]
  },
  {
   "cell_type": "markdown",
   "id": "e41759de",
   "metadata": {},
   "source": [
    "___"
   ]
  },
  {
   "cell_type": "markdown",
   "id": "4e8a6a0a",
   "metadata": {},
   "source": [
    "Unlike a list, a tuple is immutable. If you attempt to change an item in a tuple, you'll get an error."
   ]
  },
  {
   "cell_type": "code",
   "execution_count": 111,
   "id": "6738e8ac",
   "metadata": {},
   "outputs": [
    {
     "ename": "TypeError",
     "evalue": "'tuple' object does not support item assignment",
     "output_type": "error",
     "traceback": [
      "\u001b[1;31m---------------------------------------------------------------------------\u001b[0m",
      "\u001b[1;31mTypeError\u001b[0m                                 Traceback (most recent call last)",
      "\u001b[1;32m<ipython-input-111-0a5360697ec2>\u001b[0m in \u001b[0;36m<module>\u001b[1;34m\u001b[0m\n\u001b[1;32m----> 1\u001b[1;33m \u001b[0mmetallica\u001b[0m\u001b[1;33m[\u001b[0m\u001b[1;36m0\u001b[0m\u001b[1;33m]\u001b[0m \u001b[1;33m=\u001b[0m \u001b[1;34m'something else'\u001b[0m\u001b[1;33m\u001b[0m\u001b[1;33m\u001b[0m\u001b[0m\n\u001b[0m",
      "\u001b[1;31mTypeError\u001b[0m: 'tuple' object does not support item assignment"
     ]
    }
   ],
   "source": [
    "metallica[0] = 'something else'"
   ]
  },
  {
   "cell_type": "markdown",
   "id": "40916070",
   "metadata": {},
   "source": [
    "___"
   ]
  },
  {
   "cell_type": "markdown",
   "id": "a82f89f6",
   "metadata": {},
   "source": [
    "Because tuples don't have the overhead of the methods needed to change them, **tuples use less memory than lists**. That's one reason why you might want to use a tuple. "
   ]
  },
  {
   "cell_type": "markdown",
   "id": "58815067",
   "metadata": {},
   "source": [
    "https://docs.python.org/3/library/functions.html"
   ]
  },
  {
   "cell_type": "markdown",
   "id": "85c35b4b",
   "metadata": {},
   "source": [
    "Using a tuple, for things that shouldn't change, can help to prevent bugs in your programs."
   ]
  },
  {
   "cell_type": "markdown",
   "id": "83318db8",
   "metadata": {},
   "source": [
    "___"
   ]
  },
  {
   "cell_type": "code",
   "execution_count": 1,
   "id": "1911a428",
   "metadata": {},
   "outputs": [
    {
     "name": "stdout",
     "output_type": "stream",
     "text": [
      "12\n"
     ]
    }
   ],
   "source": [
    "a = b = c = d = e = f = 12\n",
    "print(c)"
   ]
  },
  {
   "cell_type": "code",
   "execution_count": 5,
   "id": "ba6f67ea",
   "metadata": {},
   "outputs": [
    {
     "name": "stdout",
     "output_type": "stream",
     "text": [
      "1\n",
      "2\n",
      "25\n"
     ]
    }
   ],
   "source": [
    "x, y, z = 1, 2, 25\n",
    "print(x)\n",
    "print(y)\n",
    "print(z)\n",
    "\n",
    "# those three values on the right hand side, look suspiciously like a tuple.\n",
    "# That's because they are a tuple."
   ]
  },
  {
   "cell_type": "markdown",
   "id": "70005cfc",
   "metadata": {},
   "source": [
    "this is called unpacking a tuple"
   ]
  },
  {
   "cell_type": "code",
   "execution_count": 10,
   "id": "88ee470f",
   "metadata": {},
   "outputs": [
    {
     "name": "stdout",
     "output_type": "stream",
     "text": [
      "Unpacking a tuple\n",
      "1\n",
      "2\n",
      "76\n"
     ]
    }
   ],
   "source": [
    "print('Unpacking a tuple')\n",
    "\n",
    "data = 1, 2, 76        # data represents a tuple\n",
    "x, y, z = data         # three separate variables, that each get a value from the data tuple.\n",
    "\n",
    "print(x)\n",
    "print(y)\n",
    "print(z)\n",
    "\n",
    "# You can't have a tuple on the left of an assignment, because tuples, if you recall, are immutable."
   ]
  },
  {
   "cell_type": "markdown",
   "id": "9001a203",
   "metadata": {},
   "source": [
    "**<u>you can unpack any sequence type</u>**"
   ]
  },
  {
   "cell_type": "code",
   "execution_count": 11,
   "id": "3cee5fce",
   "metadata": {},
   "outputs": [
    {
     "name": "stdout",
     "output_type": "stream",
     "text": [
      "Unpacking a list\n",
      "12\n",
      "13\n",
      "14\n"
     ]
    }
   ],
   "source": [
    "print('Unpacking a list')\n",
    "\n",
    "data_list = [12, 13, 14]\n",
    "p, q, r = data_list\n",
    "print(p)\n",
    "print(q)\n",
    "print(r)"
   ]
  },
  {
   "cell_type": "markdown",
   "id": "7ebbdc98",
   "metadata": {},
   "source": [
    "**The second advantage of tuples, is that you can always unpack them successfully.\n",
    "<br>Because a tuple can't be changed, you always know how many items there are to unpack. **"
   ]
  },
  {
   "cell_type": "markdown",
   "id": "61c1e33c",
   "metadata": {},
   "source": [
    "___"
   ]
  },
  {
   "cell_type": "code",
   "execution_count": 12,
   "id": "c16ffcc9",
   "metadata": {},
   "outputs": [
    {
     "name": "stdout",
     "output_type": "stream",
     "text": [
      "0 a\n",
      "1 b\n",
      "2 c\n",
      "3 d\n"
     ]
    }
   ],
   "source": [
    "for index, character in enumerate('abcd'):\n",
    "    print(index, character)"
   ]
  },
  {
   "cell_type": "code",
   "execution_count": 13,
   "id": "86158fa5",
   "metadata": {},
   "outputs": [
    {
     "name": "stdout",
     "output_type": "stream",
     "text": [
      "(0, 'a')\n",
      "(1, 'b')\n",
      "(2, 'c')\n",
      "(3, 'd')\n"
     ]
    }
   ],
   "source": [
    "for t in enumerate('abcd'):\n",
    "    print(t)"
   ]
  },
  {
   "cell_type": "code",
   "execution_count": 14,
   "id": "d4d66940",
   "metadata": {},
   "outputs": [
    {
     "name": "stdout",
     "output_type": "stream",
     "text": [
      "0\n",
      "a\n"
     ]
    }
   ],
   "source": [
    "index, character = (0, 'a')\n",
    "print(index)\n",
    "print(character)"
   ]
  },
  {
   "cell_type": "markdown",
   "id": "db522162",
   "metadata": {},
   "source": [
    "*So that's what's happening on line one. Each time around the loop, index and character are unpacked from the tuple that enumerate creates.*"
   ]
  },
  {
   "cell_type": "code",
   "execution_count": 16,
   "id": "879ca872",
   "metadata": {},
   "outputs": [
    {
     "name": "stdout",
     "output_type": "stream",
     "text": [
      "0 a\n",
      "1 b\n",
      "2 c\n",
      "3 d\n"
     ]
    }
   ],
   "source": [
    "for t in enumerate('abcd'):\n",
    "    index, character = t\n",
    "    print(index, character)"
   ]
  },
  {
   "cell_type": "markdown",
   "id": "668ecc5e",
   "metadata": {},
   "source": [
    "___"
   ]
  },
  {
   "cell_type": "code",
   "execution_count": 17,
   "id": "966b45a4",
   "metadata": {},
   "outputs": [],
   "source": [
    "welcome = \"Welcome to my Nightmare\", \"Alice Cooper\", 1975\n",
    "bad = \"Bad Company\", \"Bad Company\", 1974\n",
    "budgie = \"Nightflight\", \"Budgie\", 1981\n",
    "imelda = \"More Mayhem\", \"Emilda May\", 2011\n",
    "metallica = \"Ride the Lightning\", \"Metallica\", 1984"
   ]
  },
  {
   "cell_type": "code",
   "execution_count": 18,
   "id": "8d7a4ebd",
   "metadata": {},
   "outputs": [
    {
     "name": "stdout",
     "output_type": "stream",
     "text": [
      "Ride the Lightning\n",
      "Metallica\n",
      "1984\n"
     ]
    }
   ],
   "source": [
    "title, artist, year = metallica\n",
    "print(title)\n",
    "print(artist)\n",
    "print(year)"
   ]
  },
  {
   "cell_type": "markdown",
   "id": "34fea1ce",
   "metadata": {},
   "source": [
    "___"
   ]
  },
  {
   "cell_type": "code",
   "execution_count": 19,
   "id": "db892c78",
   "metadata": {},
   "outputs": [
    {
     "name": "stdout",
     "output_type": "stream",
     "text": [
      "20000\n",
      "20000\n"
     ]
    }
   ],
   "source": [
    "table = ('Coffee table', 200, 100, 75, 34.50)\n",
    "print(table[1] * table[2])\n",
    "\n",
    "name, length, width, height, price = table\n",
    "print(length * width)"
   ]
  },
  {
   "cell_type": "markdown",
   "id": "5c176fd1",
   "metadata": {},
   "source": [
    "___"
   ]
  },
  {
   "cell_type": "markdown",
   "id": "389bc748",
   "metadata": {},
   "source": [
    "### Nested Tuples and Lists"
   ]
  },
  {
   "cell_type": "code",
   "execution_count": 20,
   "id": "508d06f2",
   "metadata": {},
   "outputs": [],
   "source": [
    "albums = [(\"Welcome to my Nightmare\", \"Alice Cooper\", 1975),\n",
    "          (\"Bad Company\", \"Bad Company\", 1974),\n",
    "          (\"Nightflight\", \"Budgie\", 1981),\n",
    "          (\"More Mayhem\", \"Emilda May\", 2011),\n",
    "          (\"Ride the Lightning\", \"Metallica\", 1984)\n",
    "         ]"
   ]
  },
  {
   "cell_type": "code",
   "execution_count": 21,
   "id": "2bd7dc48",
   "metadata": {},
   "outputs": [
    {
     "name": "stdout",
     "output_type": "stream",
     "text": [
      "5\n"
     ]
    }
   ],
   "source": [
    "print(len(albums))"
   ]
  },
  {
   "cell_type": "code",
   "execution_count": 33,
   "id": "845185b5",
   "metadata": {},
   "outputs": [
    {
     "name": "stdout",
     "output_type": "stream",
     "text": [
      "Album: Welcome to my Nightmare, Artist: Alice Cooper , Year: 1975\n",
      "Album: Bad Company            , Artist: Bad Company  , Year: 1974\n",
      "Album: Nightflight            , Artist: Budgie       , Year: 1981\n",
      "Album: More Mayhem            , Artist: Emilda May   , Year: 2011\n",
      "Album: Ride the Lightning     , Artist: Metallica    , Year: 1984\n"
     ]
    }
   ],
   "source": [
    "for album in albums:\n",
    "    print(\"Album: {:23}, Artist: {:13}, Year: {}\"\n",
    "          .format(album[0], album[1], album[2]))"
   ]
  },
  {
   "cell_type": "code",
   "execution_count": 35,
   "id": "87839d40",
   "metadata": {},
   "outputs": [
    {
     "name": "stdout",
     "output_type": "stream",
     "text": [
      "Album: Welcome to my Nightmare, Artist: Alice Cooper , Year: 1975\n",
      "Album: Bad Company            , Artist: Bad Company  , Year: 1974\n",
      "Album: Nightflight            , Artist: Budgie       , Year: 1981\n",
      "Album: More Mayhem            , Artist: Emilda May   , Year: 2011\n",
      "Album: Ride the Lightning     , Artist: Metallica    , Year: 1984\n"
     ]
    }
   ],
   "source": [
    "for album in albums:\n",
    "    name, artist, year = album\n",
    "    print(f\"Album: {name:23}, Artist: {artist:13}, Year: {year}\")"
   ]
  },
  {
   "cell_type": "code",
   "execution_count": 36,
   "id": "d026003b",
   "metadata": {},
   "outputs": [
    {
     "name": "stdout",
     "output_type": "stream",
     "text": [
      "Album: Welcome to my Nightmare, Artist: Alice Cooper , Year: 1975\n",
      "Album: Bad Company            , Artist: Bad Company  , Year: 1974\n",
      "Album: Nightflight            , Artist: Budgie       , Year: 1981\n",
      "Album: More Mayhem            , Artist: Emilda May   , Year: 2011\n",
      "Album: Ride the Lightning     , Artist: Metallica    , Year: 1984\n"
     ]
    }
   ],
   "source": [
    "for name, artist, year in albums:\n",
    "    print(f\"Album: {name:23}, Artist: {artist:13}, Year: {year}\")"
   ]
  },
  {
   "cell_type": "markdown",
   "id": "f35d1194",
   "metadata": {},
   "source": [
    "___"
   ]
  },
  {
   "cell_type": "code",
   "execution_count": 37,
   "id": "acf8e06e",
   "metadata": {},
   "outputs": [],
   "source": [
    "albums = [\n",
    "    (\"Welcome to my Nightmare\", \"Alice Cooper\", 1975,\n",
    "     [\n",
    "         (1, \"Welcome to my Nightmare\"),\n",
    "         (2, \"Devil's Food\"),\n",
    "         (3, \"The Black Widow\"),\n",
    "         (4, \"Some Folks\"),\n",
    "         (5, \"Only Women Bleed\"),\n",
    "     ]\n",
    "     ),\n",
    "    (\"Bad Company\", \"Bad Company\", 1974,\n",
    "     [\n",
    "         (1, \"Can't Get Enough\"),\n",
    "         (2, \"Rock Steady\"),\n",
    "         (3, \"Ready for Love\"),\n",
    "         (4, \"Don't Let Me Down\"),\n",
    "         (5, \"Bad Company\"),\n",
    "         (6, \"The Way I Choose\"),\n",
    "         (7, \"Movin' On\"),\n",
    "         (8, \"Seagull\"),\n",
    "     ]\n",
    "     ),\n",
    "    (\"Nightflight\", \"Budgie\", 1981,\n",
    "     [\n",
    "         (1, \"I Turned to Stone\"),\n",
    "         (2, \"Keeping a Rendezvous\"),\n",
    "         (3, \"Reaper of the Glory\"),\n",
    "         (4, \"She Used Me Up\"),\n",
    "     ]\n",
    "     ),\n",
    "    (\"More Mayhem\", \"Imelda May\", 2011,\n",
    "     [\n",
    "         (1, \"Pulling the Rug\"),\n",
    "         (2, \"Psycho\"),\n",
    "         (3, \"Mayhem\"),\n",
    "         (4, \"Kentish Town Waltz\"),\n",
    "     ]\n",
    "     ),\n",
    "]"
   ]
  },
  {
   "cell_type": "code",
   "execution_count": 40,
   "id": "96ca584c",
   "metadata": {},
   "outputs": [
    {
     "name": "stdout",
     "output_type": "stream",
     "text": [
      "Album: Welcome to my Nightmare, Artist: Alice Cooper, Year: 1975, Songs: [(1, 'Welcome to my Nightmare'), (2, \"Devil's Food\"), (3, 'The Black Widow'), (4, 'Some Folks'), (5, 'Only Women Bleed')]\n",
      "\n",
      "Album: Bad Company, Artist: Bad Company, Year: 1974, Songs: [(1, \"Can't Get Enough\"), (2, 'Rock Steady'), (3, 'Ready for Love'), (4, \"Don't Let Me Down\"), (5, 'Bad Company'), (6, 'The Way I Choose'), (7, \"Movin' On\"), (8, 'Seagull')]\n",
      "\n",
      "Album: Nightflight, Artist: Budgie, Year: 1981, Songs: [(1, 'I Turned to Stone'), (2, 'Keeping a Rendezvous'), (3, 'Reaper of the Glory'), (4, 'She Used Me Up')]\n",
      "\n",
      "Album: More Mayhem, Artist: Imelda May, Year: 2011, Songs: [(1, 'Pulling the Rug'), (2, 'Psycho'), (3, 'Mayhem'), (4, 'Kentish Town Waltz')]\n",
      "\n"
     ]
    }
   ],
   "source": [
    "for name, artist, year, songs in albums:\n",
    "    print(f\"Album: {name}, Artist: {artist}, Year: {year}, Songs: {songs}\")\n",
    "    print()"
   ]
  },
  {
   "cell_type": "markdown",
   "id": "8e89dcf5",
   "metadata": {},
   "source": [
    "___"
   ]
  },
  {
   "cell_type": "markdown",
   "id": "b4549193",
   "metadata": {},
   "source": [
    "### Importing data"
   ]
  },
  {
   "cell_type": "markdown",
   "id": "f7ae5832",
   "metadata": {},
   "source": [
    "Python lets us import things from other Python files, which can be a great way to share data between different programs. And it's also a great way to share code between different programs."
   ]
  },
  {
   "cell_type": "code",
   "execution_count": 2,
   "id": "c7facc4f",
   "metadata": {},
   "outputs": [],
   "source": [
    "from albumsData import albums"
   ]
  },
  {
   "cell_type": "code",
   "execution_count": 3,
   "id": "a9a817d3",
   "metadata": {},
   "outputs": [
    {
     "name": "stdout",
     "output_type": "stream",
     "text": [
      "[('Welcome to my Nightmare', 'Alice Cooper', 1975, [(1, 'Welcome to my Nightmare'), (2, \"Devil's Food\"), (3, 'The Black Widow'), (4, 'Some Folks'), (5, 'Only Women Bleed')]), ('Bad Company', 'Bad Company', 1974, [(1, \"Can't Get Enough\"), (2, 'Rock Steady'), (3, 'Ready for Love'), (4, \"Don't Let Me Down\"), (5, 'Bad Company'), (6, 'The Way I Choose'), (7, \"Movin' On\"), (8, 'Seagull')]), ('Nightflight', 'Budgie', 1981, [(1, 'I Turned to Stone'), (2, 'Keeping a Rendezvous'), (3, 'Reaper of the Glory'), (4, 'She Used Me Up')]), ('More Mayhem', 'Imelda May', 2011, [(1, 'Pulling the Rug'), (2, 'Psycho'), (3, 'Mayhem'), (4, 'Kentish Town Waltz')])]\n"
     ]
    }
   ],
   "source": [
    "print(albums)"
   ]
  },
  {
   "cell_type": "code",
   "execution_count": 14,
   "id": "f3e040d8",
   "metadata": {},
   "outputs": [
    {
     "name": "stdout",
     "output_type": "stream",
     "text": [
      "Please choose your album (invalid choice exists):\n",
      "____________________________________________________________________________________________________________________________\n",
      "\n",
      "1: Welcome to my Nightmare, Alice Cooper, 1975, [(1, 'Welcome to my Nightmare'), (2, \"Devil's Food\"), (3, 'The Black Widow'), (4, 'Some Folks'), (5, 'Only Women Bleed')]\n",
      "\n",
      "2: Bad Company, Bad Company, 1974, [(1, \"Can't Get Enough\"), (2, 'Rock Steady'), (3, 'Ready for Love'), (4, \"Don't Let Me Down\"), (5, 'Bad Company'), (6, 'The Way I Choose'), (7, \"Movin' On\"), (8, 'Seagull')]\n",
      "\n",
      "3: Nightflight, Budgie, 1981, [(1, 'I Turned to Stone'), (2, 'Keeping a Rendezvous'), (3, 'Reaper of the Glory'), (4, 'She Used Me Up')]\n",
      "\n",
      "4: More Mayhem, Imelda May, 2011, [(1, 'Pulling the Rug'), (2, 'Psycho'), (3, 'Mayhem'), (4, 'Kentish Town Waltz')]\n",
      "\n"
     ]
    }
   ],
   "source": [
    "while True:\n",
    "    print('Please choose your album (invalid choice exists):')\n",
    "    print('_' * 124)\n",
    "    print()\n",
    "    \n",
    "    for index, (title, artist, year, songs) in enumerate(albums):\n",
    "        print('{}: {}, {}, {}, {}'\n",
    "             .format(index + 1, title, artist, year, songs))\n",
    "        print()\n",
    "        \n",
    "    break"
   ]
  },
  {
   "cell_type": "markdown",
   "id": "7ab14d4c",
   "metadata": {},
   "source": [
    "**What happens if I remove those parentheses in for loop?** "
   ]
  },
  {
   "cell_type": "code",
   "execution_count": 15,
   "id": "3c433211",
   "metadata": {},
   "outputs": [
    {
     "name": "stdout",
     "output_type": "stream",
     "text": [
      "Please choose your album (invalid choice exists):\n",
      "____________________________________________________________________________________________________________________________\n",
      "\n"
     ]
    },
    {
     "ename": "ValueError",
     "evalue": "not enough values to unpack (expected 5, got 2)",
     "output_type": "error",
     "traceback": [
      "\u001b[1;31m---------------------------------------------------------------------------\u001b[0m",
      "\u001b[1;31mValueError\u001b[0m                                Traceback (most recent call last)",
      "\u001b[1;32m<ipython-input-15-352eb27d86f6>\u001b[0m in \u001b[0;36m<module>\u001b[1;34m\u001b[0m\n\u001b[0;32m      4\u001b[0m     \u001b[0mprint\u001b[0m\u001b[1;33m(\u001b[0m\u001b[1;33m)\u001b[0m\u001b[1;33m\u001b[0m\u001b[1;33m\u001b[0m\u001b[0m\n\u001b[0;32m      5\u001b[0m \u001b[1;33m\u001b[0m\u001b[0m\n\u001b[1;32m----> 6\u001b[1;33m     \u001b[1;32mfor\u001b[0m \u001b[0mindex\u001b[0m\u001b[1;33m,\u001b[0m \u001b[0mtitle\u001b[0m\u001b[1;33m,\u001b[0m \u001b[0martist\u001b[0m\u001b[1;33m,\u001b[0m \u001b[0myear\u001b[0m\u001b[1;33m,\u001b[0m \u001b[0msongs\u001b[0m \u001b[1;32min\u001b[0m \u001b[0menumerate\u001b[0m\u001b[1;33m(\u001b[0m\u001b[0malbums\u001b[0m\u001b[1;33m)\u001b[0m\u001b[1;33m:\u001b[0m\u001b[1;33m\u001b[0m\u001b[1;33m\u001b[0m\u001b[0m\n\u001b[0m\u001b[0;32m      7\u001b[0m         print('{}: {}, {}, {}, {}'\n\u001b[0;32m      8\u001b[0m              .format(index + 1, title, artist, year, songs))\n",
      "\u001b[1;31mValueError\u001b[0m: not enough values to unpack (expected 5, got 2)"
     ]
    }
   ],
   "source": [
    "while True:\n",
    "    print('Please choose your album (invalid choice exists):')\n",
    "    print('_' * 124)\n",
    "    print()\n",
    "    \n",
    "    for index, title, artist, year, songs in enumerate(albums):\n",
    "        print('{}: {}, {}, {}, {}'\n",
    "             .format(index + 1, title, artist, year, songs))\n",
    "        print()\n",
    "        \n",
    "    break"
   ]
  },
  {
   "cell_type": "code",
   "execution_count": 17,
   "id": "58cde116",
   "metadata": {},
   "outputs": [
    {
     "name": "stdout",
     "output_type": "stream",
     "text": [
      "0 ('Welcome to my Nightmare', 'Alice Cooper', 1975, [(1, 'Welcome to my Nightmare'), (2, \"Devil's Food\"), (3, 'The Black Widow'), (4, 'Some Folks'), (5, 'Only Women Bleed')])\n",
      "1 ('Bad Company', 'Bad Company', 1974, [(1, \"Can't Get Enough\"), (2, 'Rock Steady'), (3, 'Ready for Love'), (4, \"Don't Let Me Down\"), (5, 'Bad Company'), (6, 'The Way I Choose'), (7, \"Movin' On\"), (8, 'Seagull')])\n",
      "2 ('Nightflight', 'Budgie', 1981, [(1, 'I Turned to Stone'), (2, 'Keeping a Rendezvous'), (3, 'Reaper of the Glory'), (4, 'She Used Me Up')])\n",
      "3 ('More Mayhem', 'Imelda May', 2011, [(1, 'Pulling the Rug'), (2, 'Psycho'), (3, 'Mayhem'), (4, 'Kentish Town Waltz')])\n"
     ]
    }
   ],
   "source": [
    "for index, value in enumerate(albums):\n",
    "    print(index, value)\n",
    "    \n",
    "# The first is an int, the index position of each item, \n",
    "# but the second item is a tuple, and it actually contains four items; \n",
    "# the title, the artist, the year, as well as the list of songs."
   ]
  },
  {
   "cell_type": "code",
   "execution_count": 18,
   "id": "4e579d55",
   "metadata": {},
   "outputs": [
    {
     "name": "stdout",
     "output_type": "stream",
     "text": [
      "0 Welcome to my Nightmare Alice Cooper 1975 [(1, 'Welcome to my Nightmare'), (2, \"Devil's Food\"), (3, 'The Black Widow'), (4, 'Some Folks'), (5, 'Only Women Bleed')]\n",
      "1 Bad Company Bad Company 1974 [(1, \"Can't Get Enough\"), (2, 'Rock Steady'), (3, 'Ready for Love'), (4, \"Don't Let Me Down\"), (5, 'Bad Company'), (6, 'The Way I Choose'), (7, \"Movin' On\"), (8, 'Seagull')]\n",
      "2 Nightflight Budgie 1981 [(1, 'I Turned to Stone'), (2, 'Keeping a Rendezvous'), (3, 'Reaper of the Glory'), (4, 'She Used Me Up')]\n",
      "3 More Mayhem Imelda May 2011 [(1, 'Pulling the Rug'), (2, 'Psycho'), (3, 'Mayhem'), (4, 'Kentish Town Waltz')]\n"
     ]
    }
   ],
   "source": [
    "for index, value in enumerate(albums):\n",
    "    title, artist, year, songs = value\n",
    "    print(index, title, artist, year, songs)"
   ]
  },
  {
   "cell_type": "markdown",
   "id": "ee815560",
   "metadata": {},
   "source": [
    "___"
   ]
  },
  {
   "cell_type": "code",
   "execution_count": null,
   "id": "c7a0d845",
   "metadata": {},
   "outputs": [],
   "source": []
  }
 ],
 "metadata": {
  "kernelspec": {
   "display_name": "Python 3",
   "language": "python",
   "name": "python3"
  },
  "language_info": {
   "codemirror_mode": {
    "name": "ipython",
    "version": 3
   },
   "file_extension": ".py",
   "mimetype": "text/x-python",
   "name": "python",
   "nbconvert_exporter": "python",
   "pygments_lexer": "ipython3",
   "version": "3.7.11"
  }
 },
 "nbformat": 4,
 "nbformat_minor": 5
}
