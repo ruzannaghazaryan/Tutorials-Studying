{
 "cells": [
  {
   "cell_type": "markdown",
   "id": "2a119519",
   "metadata": {},
   "source": [
    "https://docs.python.org/3/library/stdtypes.html#sequence-types-list-tuple-range"
   ]
  },
  {
   "cell_type": "markdown",
   "id": "8dc5915f",
   "metadata": {},
   "source": [
    "A __sequence__ is an ordered collection of items.\n",
    "\n",
    "The word __ordered__ here is important.\n",
    "\n",
    "If a sequence wasn't ordered, you couldn't refer to individual items by their index position."
   ]
  },
  {
   "cell_type": "markdown",
   "id": "86e9567b",
   "metadata": {},
   "source": [
    "___"
   ]
  },
  {
   "cell_type": "markdown",
   "id": "dca48c58",
   "metadata": {},
   "source": [
    "string _ an ordered sequence of characters"
   ]
  },
  {
   "cell_type": "markdown",
   "id": "0f5510db",
   "metadata": {},
   "source": [
    "___"
   ]
  },
  {
   "cell_type": "markdown",
   "id": "29c58360",
   "metadata": {},
   "source": [
    "In Python, anything that you can iterate over is an iterable.<br>That means that if you can use it in a for loop, then it's iterable.\n",
    "\n",
    "All sequence types can be iterated over.\n",
    "\n",
    "BUT Not all iterables are sequences.<br>\n",
    "For example, you can use a dictionary in a __for__ loop, but it's not a sequence."
   ]
  },
  {
   "cell_type": "markdown",
   "id": "4ca87fdc",
   "metadata": {},
   "source": [
    "___"
   ]
  },
  {
   "cell_type": "markdown",
   "id": "6e0389f5",
   "metadata": {},
   "source": [
    "### Lists"
   ]
  },
  {
   "cell_type": "markdown",
   "id": "b988f3e3",
   "metadata": {},
   "source": [
    "There's one big difference between strings and lists: __strings are immutable__, which means they can't be changed. __Lists__, on the other hand, __are mutable__."
   ]
  },
  {
   "cell_type": "markdown",
   "id": "89a8e5e1",
   "metadata": {},
   "source": [
    "The following __immutable types__ are built into Python: \n",
    "- int, \n",
    "- float, \n",
    "- bool (True or False): a subclass of int, \n",
    "- string,\n",
    "- tuple, \n",
    "- frozenset \n",
    "- bytes. "
   ]
  },
  {
   "cell_type": "markdown",
   "id": "d30cf2dd",
   "metadata": {},
   "source": [
    "### Immutable Objects"
   ]
  },
  {
   "cell_type": "markdown",
   "id": "8a20d764",
   "metadata": {},
   "source": [
    "The ID for an object may be different each time you run the program, but while your program is running, the object will have the same id."
   ]
  },
  {
   "cell_type": "markdown",
   "id": "0c4b7251",
   "metadata": {},
   "source": [
    "If python has to destroy the object and re-create it, then it's ID will also change. So that gives us a good way to tell if an object is changed, or if python has to create a new object."
   ]
  },
  {
   "cell_type": "code",
   "execution_count": 6,
   "id": "8f4ec566",
   "metadata": {},
   "outputs": [
    {
     "name": "stdout",
     "output_type": "stream",
     "text": [
      "140709031027232\n",
      "140709031027232\n"
     ]
    }
   ],
   "source": [
    "a = 5\n",
    "b = 5\n",
    "print(id(a))\n",
    "print(id(b))"
   ]
  },
  {
   "cell_type": "code",
   "execution_count": 7,
   "id": "7114b985",
   "metadata": {},
   "outputs": [
    {
     "name": "stdout",
     "output_type": "stream",
     "text": [
      "140709030504784\n",
      "140709030504784\n"
     ]
    }
   ],
   "source": [
    "result = True\n",
    "another_result = result\n",
    "print(id(result))\n",
    "print(id(another_result))"
   ]
  },
  {
   "cell_type": "markdown",
   "id": "3e5505d3",
   "metadata": {},
   "source": [
    "Both variables have the same ID. They're both bound to the same value - True - so that makes sense that it should have the same ID. Remember that we're printing the ID of True here. The variables - result and another_result - are just names that we've bound to that value. Alright, so if bool values could be changed, then changing the values should mean that the ID doesn't change."
   ]
  },
  {
   "cell_type": "code",
   "execution_count": 8,
   "id": "1b4248d8",
   "metadata": {},
   "outputs": [
    {
     "name": "stdout",
     "output_type": "stream",
     "text": [
      "140709030504816\n"
     ]
    }
   ],
   "source": [
    "result = False\n",
    "print(id(result))"
   ]
  },
  {
   "cell_type": "markdown",
   "id": "9e62504a",
   "metadata": {},
   "source": [
    "We've got a different ID for a result. Because bools are immutable, we weren't able to change the value of True. What Python's done instead, is rebound result to a new value - False."
   ]
  },
  {
   "cell_type": "code",
   "execution_count": 13,
   "id": "731ae0ad",
   "metadata": {},
   "outputs": [
    {
     "name": "stdout",
     "output_type": "stream",
     "text": [
      "1720050216304\n",
      "1720050216304\n",
      "1720050866288\n"
     ]
    }
   ],
   "source": [
    "result = 'Correct'\n",
    "another_result = result\n",
    "print(id(result))\n",
    "print(id(another_result))\n",
    "\n",
    "# let's attempt to mutate result\n",
    "result += 'ish'\n",
    "print(id(result))"
   ]
  },
  {
   "cell_type": "markdown",
   "id": "ebc42b01",
   "metadata": {},
   "source": [
    "The id of result has changed, but another_result still has the same id that it had to start with."
   ]
  },
  {
   "cell_type": "code",
   "execution_count": 16,
   "id": "930d1914",
   "metadata": {
    "scrolled": true
   },
   "outputs": [
    {
     "name": "stdout",
     "output_type": "stream",
     "text": [
      "Correct\n",
      "1720050216304\n"
     ]
    }
   ],
   "source": [
    "print(another_result) # because they have different ids with result\n",
    "print(id(another_result))"
   ]
  },
  {
   "cell_type": "markdown",
   "id": "5444cb77",
   "metadata": {},
   "source": [
    "___"
   ]
  },
  {
   "cell_type": "markdown",
   "id": "93636aea",
   "metadata": {},
   "source": [
    "### Mutable Objects"
   ]
  },
  {
   "cell_type": "markdown",
   "id": "12de2ba7",
   "metadata": {},
   "source": [
    "Python has the following __mutable objects__ built in:\n",
    "\n",
    "- list\n",
    "- dict\n",
    "- set\n",
    "- bytearray"
   ]
  },
  {
   "cell_type": "markdown",
   "id": "9e11ee84",
   "metadata": {},
   "source": [
    "So we can change the value of mutable objects, without the object being destroyed and re-created."
   ]
  },
  {
   "cell_type": "code",
   "execution_count": 20,
   "id": "6b7559ce",
   "metadata": {},
   "outputs": [
    {
     "name": "stdout",
     "output_type": "stream",
     "text": [
      "1720051091528\n",
      "1720051091528\n",
      "['milk', 'pasta', 'eggs', 'spam', 'bread', 'rice', 'cookies']\n",
      "1720051091528\n",
      "['milk', 'pasta', 'eggs', 'spam', 'bread', 'rice', 'cookies']\n",
      "1720051091528\n"
     ]
    }
   ],
   "source": [
    "shoppingList = ['milk', \n",
    "               'pasta',\n",
    "               'eggs',\n",
    "               'spam', \n",
    "               'bread', \n",
    "               'rice']\n",
    "\n",
    "another_list = shoppingList\n",
    "print(id(shoppingList))\n",
    "print(id(another_list))\n",
    "\n",
    "shoppingList += ['cookies']\n",
    "print(shoppingList)\n",
    "print(id(shoppingList))\n",
    "\n",
    "print(another_list)\n",
    "print(id(another_list))"
   ]
  },
  {
   "cell_type": "markdown",
   "id": "4fec9832",
   "metadata": {},
   "source": [
    "__Strings are immutable__. When we tried to change a string, Python created a new object - a new string - and re-attached the name to it. You can't change the value of an immutable object.\n",
    "\n",
    "__Lists are mutable__ - they can be changed. When we appended a new item in this code, Python was able to change the contents of the list, without creating a new one."
   ]
  },
  {
   "cell_type": "markdown",
   "id": "1e578867",
   "metadata": {},
   "source": [
    "___"
   ]
  },
  {
   "cell_type": "code",
   "execution_count": 24,
   "id": "e9e97dcd",
   "metadata": {},
   "outputs": [
    {
     "name": "stdout",
     "output_type": "stream",
     "text": [
      "2\n",
      "8\n"
     ]
    }
   ],
   "source": [
    "even = [2, 4, 6, 8]\n",
    "odd = [1, 3, 5, 7, 9]\n",
    "\n",
    "print(min(even))\n",
    "print(max(even))"
   ]
  },
  {
   "cell_type": "markdown",
   "id": "1eb22a2e",
   "metadata": {},
   "source": [
    "__len__ returns __the number of items in the sequence__. For a string, that would be the number of characters in the string. For a list though, it's the number of items."
   ]
  },
  {
   "cell_type": "code",
   "execution_count": 25,
   "id": "04dd4267",
   "metadata": {},
   "outputs": [
    {
     "name": "stdout",
     "output_type": "stream",
     "text": [
      "4 5\n"
     ]
    }
   ],
   "source": [
    "print(len(even), len(odd))"
   ]
  },
  {
   "cell_type": "markdown",
   "id": "f8152c44",
   "metadata": {},
   "source": [
    "Let's see how many times the letter s appears in Mississippi."
   ]
  },
  {
   "cell_type": "markdown",
   "id": "2bf26408",
   "metadata": {},
   "source": [
    "__count()__"
   ]
  },
  {
   "cell_type": "code",
   "execution_count": 31,
   "id": "a3e2ef88",
   "metadata": {
    "scrolled": true
   },
   "outputs": [
    {
     "name": "stdout",
     "output_type": "stream",
     "text": [
      "4\n",
      "0\n",
      "2\n"
     ]
    }
   ],
   "source": [
    "print('Mississippi'.count('s'))\n",
    "print('Mississippi'.count('m'))\n",
    "print('Mississippi'.count('iss'))"
   ]
  },
  {
   "cell_type": "code",
   "execution_count": 29,
   "id": "8be9d418",
   "metadata": {},
   "outputs": [
    {
     "name": "stdout",
     "output_type": "stream",
     "text": [
      "0\n",
      "1\n"
     ]
    }
   ],
   "source": [
    "print(even.count(3))\n",
    "print(even.count(2))"
   ]
  },
  {
   "cell_type": "markdown",
   "id": "91b5e208",
   "metadata": {},
   "source": [
    "___"
   ]
  },
  {
   "cell_type": "markdown",
   "id": "ef395fb7",
   "metadata": {},
   "source": [
    "### Operations on Mutable Sequences"
   ]
  },
  {
   "cell_type": "markdown",
   "id": "c1ec1991",
   "metadata": {},
   "source": [
    "__append method__"
   ]
  },
  {
   "cell_type": "markdown",
   "id": "42ee38c3",
   "metadata": {},
   "source": [
    "___"
   ]
  },
  {
   "cell_type": "markdown",
   "id": "048ad041",
   "metadata": {},
   "source": [
    "_A method is the same as a function, except that it's bound to an object. That means we need an object, in order to call the method._"
   ]
  },
  {
   "cell_type": "markdown",
   "id": "9dc2b459",
   "metadata": {},
   "source": [
    "___"
   ]
  },
  {
   "cell_type": "markdown",
   "id": "834e4591",
   "metadata": {},
   "source": [
    "We've used a few functions above: min and max, and the len function.\n",
    "\n",
    "_When you call a function, you just type its name, and provide any arguments in parentheses._"
   ]
  },
  {
   "cell_type": "markdown",
   "id": "9fa18dd8",
   "metadata": {},
   "source": [
    "___"
   ]
  },
  {
   "cell_type": "markdown",
   "id": "bbc699c5",
   "metadata": {},
   "source": [
    "_When we call a method, we tell it which object it's called on. In other words, which object it should be using when it performs its function._"
   ]
  },
  {
   "cell_type": "markdown",
   "id": "f6c2438b",
   "metadata": {},
   "source": [
    "The syntax of a method is simple. You start with the object you're using, then a dot, then the name of the method. If the method needs arguments, you put them in parentheses after the method name."
   ]
  },
  {
   "cell_type": "markdown",
   "id": "62b9998d",
   "metadata": {},
   "source": [
    "___"
   ]
  },
  {
   "cell_type": "code",
   "execution_count": 32,
   "id": "9c933139",
   "metadata": {},
   "outputs": [
    {
     "name": "stdout",
     "output_type": "stream",
     "text": [
      "[2, 4, 6, 8]\n"
     ]
    }
   ],
   "source": [
    "print(even)"
   ]
  },
  {
   "cell_type": "code",
   "execution_count": 33,
   "id": "6848eb00",
   "metadata": {},
   "outputs": [
    {
     "name": "stdout",
     "output_type": "stream",
     "text": [
      "[2, 4, 6, 8, 10]\n"
     ]
    }
   ],
   "source": [
    "even.append(10)\n",
    "print(even)"
   ]
  },
  {
   "cell_type": "markdown",
   "id": "4c055660",
   "metadata": {},
   "source": [
    "___"
   ]
  },
  {
   "cell_type": "markdown",
   "id": "1286f62c",
   "metadata": {},
   "source": [
    "### Appending to a List"
   ]
  },
  {
   "cell_type": "code",
   "execution_count": 35,
   "id": "1121db75",
   "metadata": {},
   "outputs": [
    {
     "name": "stdout",
     "output_type": "stream",
     "text": [
      "Please add options from the list below:\n",
      "1: computer\n",
      "2: monitor\n",
      "3: keyboard\n",
      "4: mouse\n",
      "5: mouse mat\n",
      "0: to finish\n",
      "1\n",
      "adding 1\n",
      "4\n",
      "adding 4\n",
      "0\n",
      "['computer', 'mouse']\n"
     ]
    }
   ],
   "source": [
    "current_choice = '-'\n",
    "computer_parts = []\n",
    "\n",
    "while current_choice != '0':\n",
    "    if current_choice in '12345':\n",
    "        print('adding {}'.format(current_choice))\n",
    "        \n",
    "        if current_choice == '1':\n",
    "            computer_parts.append('computer')\n",
    "        elif current_choice == '2':\n",
    "            computer_parts.append('monitor')\n",
    "        elif current_choice == '3':\n",
    "            computer_parts.append('keyboard')\n",
    "        elif current_choice == '4':\n",
    "            computer_parts.append('mouse')\n",
    "        elif current_choice == '5':\n",
    "            computer_parts.append('mouse mat')\n",
    "    else:\n",
    "        print('Please add options from the list below:')\n",
    "        print('1: computer')\n",
    "        print('2: monitor')\n",
    "        print('3: keyboard')\n",
    "        print('4: mouse')\n",
    "        print('5: mouse mat')\n",
    "        print('0: to finish')\n",
    "        \n",
    "    current_choice = input()\n",
    "    \n",
    "print(computer_parts)"
   ]
  },
  {
   "cell_type": "code",
   "execution_count": 38,
   "id": "26789358",
   "metadata": {},
   "outputs": [
    {
     "name": "stdout",
     "output_type": "stream",
     "text": [
      "Please add options from the list below:\n",
      "1: computer\n",
      "2: monitor\n",
      "3: keyboard\n",
      "4: mouse\n",
      "5: mouse mat\n",
      "6: hdmi cable\n",
      "0: to finish\n",
      "1\n",
      "adding 1\n",
      "2\n",
      "adding 2\n",
      "0\n",
      "['computer', 'monitor']\n"
     ]
    }
   ],
   "source": [
    "# Partially Efficiently\n",
    "\n",
    "availableParts = ['computer',\n",
    "                  'monitor',\n",
    "                  'keyboard',\n",
    "                  'mouse',\n",
    "                  'mouse mat', \n",
    "                  'hdmi cable'\n",
    "                 ]\n",
    "\n",
    "current_choice = '-'\n",
    "computer_parts = []\n",
    "\n",
    "while current_choice != '0':\n",
    "    if current_choice in '123456':\n",
    "        print('adding {}'.format(current_choice))\n",
    "        \n",
    "        if current_choice == '1':\n",
    "            computer_parts.append('computer')\n",
    "        elif current_choice == '2':\n",
    "            computer_parts.append('monitor')\n",
    "        elif current_choice == '3':\n",
    "            computer_parts.append('keyboard')\n",
    "        elif current_choice == '4':\n",
    "            computer_parts.append('mouse')\n",
    "        elif current_choice == '5':\n",
    "            computer_parts.append('mouse mat')\n",
    "        elif current_choice == '6':\n",
    "            computer_parts.append('hdmi cable')\n",
    "    else:\n",
    "        print('Please add options from the list below:')\n",
    "        for part in availableParts:\n",
    "            print('{0}: {1}'.format(availableParts.index(part) + 1, part))\n",
    "        print('0: to finish')\n",
    "        \n",
    "    current_choice = input()\n",
    "    \n",
    "print(computer_parts)"
   ]
  },
  {
   "cell_type": "markdown",
   "id": "1584fbdb",
   "metadata": {},
   "source": [
    " What we've done above isn't very efficient, and that's because Python has to look up each item in the list, in order to get its index position."
   ]
  },
  {
   "cell_type": "markdown",
   "id": "46ead374",
   "metadata": {},
   "source": [
    "### The enumerate Function\n",
    "\n",
    "_enumerate returns each item with its index position._"
   ]
  },
  {
   "cell_type": "markdown",
   "id": "cb680075",
   "metadata": {},
   "source": [
    "If there are hundreds or thousands of items, finding the index positions will take a while."
   ]
  },
  {
   "cell_type": "code",
   "execution_count": 41,
   "id": "adb96691",
   "metadata": {},
   "outputs": [
    {
     "name": "stdout",
     "output_type": "stream",
     "text": [
      "Please add options from the list below:\n",
      "1: computer\n",
      "2: monitor\n",
      "3: keyboard\n",
      "4: mouse\n",
      "5: mouse mat\n",
      "6: hdmi cable\n",
      "0: to finish\n",
      "1\n",
      "adding 1\n",
      "6\n",
      "adding 6\n",
      "7\n",
      "Please add options from the list below:\n",
      "1: computer\n",
      "2: monitor\n",
      "3: keyboard\n",
      "4: mouse\n",
      "5: mouse mat\n",
      "6: hdmi cable\n",
      "0: to finish\n",
      "0\n",
      "['computer', 'hdmi cable']\n"
     ]
    }
   ],
   "source": [
    "availableParts = ['computer',\n",
    "                  'monitor',\n",
    "                  'keyboard',\n",
    "                  'mouse',\n",
    "                  'mouse mat', \n",
    "                  'hdmi cable'\n",
    "                 ]\n",
    "\n",
    "current_choice = '-'\n",
    "computer_parts = []\n",
    "\n",
    "while current_choice != '0':\n",
    "    if current_choice in '123456':\n",
    "        print('adding {}'.format(current_choice))\n",
    "        \n",
    "        if current_choice == '1':\n",
    "            computer_parts.append('computer')\n",
    "        elif current_choice == '2':\n",
    "            computer_parts.append('monitor')\n",
    "        elif current_choice == '3':\n",
    "            computer_parts.append('keyboard')\n",
    "        elif current_choice == '4':\n",
    "            computer_parts.append('mouse')\n",
    "        elif current_choice == '5':\n",
    "            computer_parts.append('mouse mat')\n",
    "        elif current_choice == '6':\n",
    "            computer_parts.append('hdmi cable')\n",
    "    else:\n",
    "        print('Please add options from the list below:')\n",
    "        for number, part in enumerate(availableParts):\n",
    "            print('{0}: {1}'.format(number + 1, part))\n",
    "        print('0: to finish')\n",
    "        \n",
    "    current_choice = input()\n",
    "    \n",
    "print(computer_parts)"
   ]
  },
  {
   "cell_type": "code",
   "execution_count": 48,
   "id": "938894e0",
   "metadata": {},
   "outputs": [
    {
     "name": "stdout",
     "output_type": "stream",
     "text": [
      "0 computer\n",
      "1 monitor\n",
      "2 keyboard\n",
      "3 mouse\n",
      "4 mouse mat\n",
      "5 hdmi cable\n"
     ]
    }
   ],
   "source": [
    "availableParts = ['computer',\n",
    "                  'monitor',\n",
    "                  'keyboard',\n",
    "                  'mouse',\n",
    "                  'mouse mat', \n",
    "                  'hdmi cable'\n",
    "                 ]\n",
    "\n",
    "for index, value in enumerate(availableParts):\n",
    "    print(index, value)"
   ]
  },
  {
   "cell_type": "markdown",
   "id": "bd06ab1e",
   "metadata": {},
   "source": [
    "So for loop starts with the word for, and then the names of one or more variables.\n",
    "\n",
    "enumerate returns pairs of values - we get the index position and the item, as a pair of values. The first value is the index position and the second value is the item."
   ]
  },
  {
   "cell_type": "markdown",
   "id": "9e5582e9",
   "metadata": {},
   "source": [
    "___"
   ]
  },
  {
   "cell_type": "markdown",
   "id": "c06d41a9",
   "metadata": {},
   "source": [
    "Good news is, __we can use enumerate with any iterable type. All sequences are iterable__, so let's see another example here."
   ]
  },
  {
   "cell_type": "code",
   "execution_count": 49,
   "id": "08b37326",
   "metadata": {
    "scrolled": true
   },
   "outputs": [
    {
     "name": "stdout",
     "output_type": "stream",
     "text": [
      "0 t\n",
      "1 e\n",
      "2 s\n",
      "3 t\n",
      "4 i\n",
      "5 n\n",
      "6 g\n"
     ]
    }
   ],
   "source": [
    "word = 'testing'\n",
    "for index, value in enumerate(word):\n",
    "    print(index, value)"
   ]
  },
  {
   "cell_type": "markdown",
   "id": "f686da5a",
   "metadata": {},
   "source": [
    "___"
   ]
  },
  {
   "cell_type": "code",
   "execution_count": 52,
   "id": "4cf8c730",
   "metadata": {},
   "outputs": [
    {
     "name": "stdout",
     "output_type": "stream",
     "text": [
      "['1', '2', '3', '4', '5', '6', '7']\n",
      "Please add options from the list below:\n",
      "1: computer\n",
      "2: monitor\n",
      "3: keyboard\n",
      "4: mouse\n",
      "5: mouse mat\n",
      "6: hdmi cable\n",
      "7: dvd drive\n",
      "0: to finish\n",
      "1\n",
      "adding 1\n",
      "8\\\n",
      "Please add options from the list below:\n",
      "1: computer\n",
      "2: monitor\n",
      "3: keyboard\n",
      "4: mouse\n",
      "5: mouse mat\n",
      "6: hdmi cable\n",
      "7: dvd drive\n",
      "0: to finish\n",
      "7\n",
      "adding 7\n",
      "0\n",
      "['computer', 'dvd drive']\n"
     ]
    }
   ],
   "source": [
    "availableParts = ['computer',\n",
    "                  'monitor',\n",
    "                  'keyboard',\n",
    "                  'mouse',\n",
    "                  'mouse mat', \n",
    "                  'hdmi cable',\n",
    "                  'dvd drive'\n",
    "                 ]\n",
    "\n",
    "valid_choices = [str(i) for i in range(1, len(availableParts) + 1)]\n",
    "print(valid_choices)\n",
    "current_choice = '-'\n",
    "computer_parts = []\n",
    "\n",
    "while current_choice != '0':\n",
    "    if current_choice in valid_choices:\n",
    "        print('adding {}'.format(current_choice))\n",
    "        index = int(current_choice) - 1\n",
    "        chosen_part = availableParts[index]\n",
    "        computer_parts.append(chosen_part)\n",
    "    else:\n",
    "        print('Please add options from the list below:')\n",
    "        for number, part in enumerate(availableParts):\n",
    "            print('{0}: {1}'.format(number + 1, part))\n",
    "        print('0: to finish')\n",
    "        \n",
    "    current_choice = input()\n",
    "    \n",
    "print(computer_parts)"
   ]
  },
  {
   "cell_type": "markdown",
   "id": "8e0d748f",
   "metadata": {},
   "source": [
    "___"
   ]
  },
  {
   "cell_type": "markdown",
   "id": "0bb9de70",
   "metadata": {},
   "source": [
    "### Removing Items from a List\n",
    "\n",
    "_list.remove(x)_\n",
    "\n",
    "Remove the first item from the list whose value is equal to x. It raises a ValueError if there is no such item."
   ]
  },
  {
   "cell_type": "code",
   "execution_count": 55,
   "id": "059529c4",
   "metadata": {},
   "outputs": [
    {
     "name": "stdout",
     "output_type": "stream",
     "text": [
      "Please add options from the list below:\n",
      "1: computer\n",
      "2: monitor\n",
      "3: keyboard\n",
      "4: mouse\n",
      "5: mouse mat\n",
      "6: hdmi cable\n",
      "7: dvd drive\n",
      "0: to finish\n",
      "1\n",
      "adding 1\n",
      "Your list now contains: ['computer']\n",
      "8\n",
      "Please add options from the list below:\n",
      "1: computer\n",
      "2: monitor\n",
      "3: keyboard\n",
      "4: mouse\n",
      "5: mouse mat\n",
      "6: hdmi cable\n",
      "7: dvd drive\n",
      "0: to finish\n",
      "5\n",
      "adding 5\n",
      "Your list now contains: ['computer', 'mouse mat']\n",
      "5\n",
      "removing 5\n",
      "Your list now contains: ['computer']\n",
      "0\n",
      "['computer']\n"
     ]
    }
   ],
   "source": [
    "availableParts = ['computer',\n",
    "                  'monitor',\n",
    "                  'keyboard',\n",
    "                  'mouse',\n",
    "                  'mouse mat', \n",
    "                  'hdmi cable',\n",
    "                  'dvd drive'\n",
    "                 ]\n",
    "\n",
    "valid_choices = [str(i) for i in range(1, len(availableParts) + 1)]\n",
    "current_choice = '-'\n",
    "computer_parts = []\n",
    "\n",
    "while current_choice != '0':\n",
    "    if current_choice in valid_choices:\n",
    "        index = int(current_choice) - 1\n",
    "        chosen_part = availableParts[index]\n",
    "        if chosen_part in computer_parts:\n",
    "            print('removing {}'.format(current_choice))\n",
    "            computer_parts.remove(chosen_part)\n",
    "        else:\n",
    "            print('adding {}'.format(current_choice))\n",
    "            computer_parts.append(chosen_part)\n",
    "        print(\"Your list now contains: {}\".format(computer_parts))\n",
    "    else:\n",
    "        print('Please add options from the list below:')\n",
    "        for number, part in enumerate(availableParts):\n",
    "            print('{0}: {1}'.format(number + 1, part))\n",
    "        print('0: to finish')\n",
    "        \n",
    "    current_choice = input()\n",
    "    \n",
    "print(computer_parts)"
   ]
  },
  {
   "cell_type": "code",
   "execution_count": 57,
   "id": "0875a4d6",
   "metadata": {},
   "outputs": [
    {
     "name": "stdout",
     "output_type": "stream",
     "text": [
      "['cnn', 'media', 'bbc']\n"
     ]
    }
   ],
   "source": [
    "news = ['bbc', 'cnn', 'media', 'bbc']\n",
    "news.remove('bbc')\n",
    "print(news)"
   ]
  },
  {
   "cell_type": "markdown",
   "id": "c113f061",
   "metadata": {},
   "source": [
    "___"
   ]
  },
  {
   "cell_type": "markdown",
   "id": "42d1acd1",
   "metadata": {},
   "source": [
    "### Sorting lists\n",
    "\n",
    "_sort method_"
   ]
  },
  {
   "cell_type": "code",
   "execution_count": 61,
   "id": "16f7701e",
   "metadata": {},
   "outputs": [],
   "source": [
    "even = [2, 4, 6, 8]\n",
    "odd = [1, 3, 5, 7, 9]"
   ]
  },
  {
   "cell_type": "code",
   "execution_count": 62,
   "id": "5eac2943",
   "metadata": {},
   "outputs": [
    {
     "name": "stdout",
     "output_type": "stream",
     "text": [
      "[2, 4, 6, 8, 1, 3, 5, 7, 9]\n"
     ]
    }
   ],
   "source": [
    "# combining them by using the extend method\n",
    "\n",
    "even.extend(odd)\n",
    "print(even)"
   ]
  },
  {
   "cell_type": "code",
   "execution_count": 63,
   "id": "9ed099d8",
   "metadata": {},
   "outputs": [
    {
     "name": "stdout",
     "output_type": "stream",
     "text": [
      "[1, 2, 3, 4, 5, 6, 7, 8, 9]\n"
     ]
    }
   ],
   "source": [
    "even.sort()\n",
    "print(even)"
   ]
  },
  {
   "cell_type": "code",
   "execution_count": 64,
   "id": "b358ba3b",
   "metadata": {},
   "outputs": [
    {
     "name": "stdout",
     "output_type": "stream",
     "text": [
      "[9, 8, 7, 6, 5, 4, 3, 2, 1]\n"
     ]
    }
   ],
   "source": [
    "even.sort(reverse=True)\n",
    "print(even)"
   ]
  },
  {
   "cell_type": "markdown",
   "id": "ddf5b8f2",
   "metadata": {},
   "source": [
    "__The sort method doesn't create a copy of the list - it rearranges the items in the list.__"
   ]
  },
  {
   "cell_type": "code",
   "execution_count": 68,
   "id": "82266bc4",
   "metadata": {},
   "outputs": [
    {
     "name": "stdout",
     "output_type": "stream",
     "text": [
      "[2, 4, 6, 8, 1, 3, 5, 7, 9]\n",
      "[2, 4, 6, 8, 1, 3, 5, 7, 9]\n",
      "\n",
      "[9, 8, 7, 6, 5, 4, 3, 2, 1]\n",
      "[9, 8, 7, 6, 5, 4, 3, 2, 1]\n"
     ]
    }
   ],
   "source": [
    "even = [2, 4, 6, 8]\n",
    "odd = [1, 3, 5, 7, 9]\n",
    "\n",
    "even.extend(odd)\n",
    "print(even)\n",
    "another_even = even\n",
    "print(another_even)\n",
    "\n",
    "print()\n",
    "\n",
    "even.sort(reverse=True)\n",
    "print(even)\n",
    "print(another_even)\n",
    "\n",
    "# That's because there's only one list and we mutated the list by sorting it."
   ]
  },
  {
   "cell_type": "markdown",
   "id": "b98c8818",
   "metadata": {},
   "source": [
    "___"
   ]
  },
  {
   "cell_type": "markdown",
   "id": "d7894a20",
   "metadata": {},
   "source": [
    "https://docs.python.org/3/library/functions.html"
   ]
  },
  {
   "cell_type": "markdown",
   "id": "dd9c425b",
   "metadata": {},
   "source": [
    "___"
   ]
  },
  {
   "cell_type": "markdown",
   "id": "dddb3f2f",
   "metadata": {},
   "source": [
    "### Sorting things\n",
    "\n",
    "**sorted() function**"
   ]
  },
  {
   "cell_type": "markdown",
   "id": "8f310849",
   "metadata": {},
   "source": [
    "So we've seen that lists have their own sort method which sorts the list in place, but you may want to sort other things besides lists. _To do that, you can use the sorted function._\n",
    "\n",
    "__So the sorted function can be used to sort any iterable object.__"
   ]
  },
  {
   "cell_type": "code",
   "execution_count": 69,
   "id": "d5496018",
   "metadata": {},
   "outputs": [],
   "source": [
    "pangram = 'The quick brown fox jumps over the lazy dog'\n",
    "\n",
    "#  A pangram is a phrase that contains all the letters of an alphabet, at least once. "
   ]
  },
  {
   "cell_type": "code",
   "execution_count": 70,
   "id": "4e2c9d46",
   "metadata": {},
   "outputs": [
    {
     "name": "stdout",
     "output_type": "stream",
     "text": [
      "[' ', ' ', ' ', ' ', ' ', ' ', ' ', ' ', 'T', 'a', 'b', 'c', 'd', 'e', 'e', 'e', 'f', 'g', 'h', 'h', 'i', 'j', 'k', 'l', 'm', 'n', 'o', 'o', 'o', 'o', 'p', 'q', 'r', 'r', 's', 't', 'u', 'u', 'v', 'w', 'x', 'y', 'z']\n"
     ]
    }
   ],
   "source": [
    "letters = sorted(pangram)\n",
    "print(letters)"
   ]
  },
  {
   "cell_type": "markdown",
   "id": "3e777a6c",
   "metadata": {},
   "source": [
    "Python sorted function will take any iterable but will always return a list, and the list is in alphabetical order.\n",
    "<br>\n",
    "Uppercase letters sort before lowercase."
   ]
  },
  {
   "cell_type": "code",
   "execution_count": 72,
   "id": "edaf9571",
   "metadata": {},
   "outputs": [
    {
     "name": "stdout",
     "output_type": "stream",
     "text": [
      "[1.6, 2.3, 3.1, 4.5, 8.7, 9.2]\n",
      "[2.3, 4.5, 8.7, 3.1, 9.2, 1.6]\n"
     ]
    }
   ],
   "source": [
    "numbers = [2.3, 4.5, 8.7, 3.1, 9.2, 1.6 ]\n",
    "sorted_numbers = sorted(numbers)\n",
    "print(sorted_numbers)\n",
    "print(numbers)"
   ]
  },
  {
   "cell_type": "markdown",
   "id": "c349bc8e",
   "metadata": {},
   "source": [
    "Notice that we get a list returned here, and the difference here was this time we passed a list to the sorted function, but got a different list back."
   ]
  },
  {
   "cell_type": "markdown",
   "id": "6dbfbe51",
   "metadata": {},
   "source": [
    "Sorted function created a new list and left the original one unchanged. Because sorted returns a new list, we assigned its return value to another variable: sorted_numbers.\n",
    "\n",
    "On the other hand, the sort method sorts the list in place. That means we don't assign the return value to another variable. Assigning it to a variable doesn't give it the result you might expect. So let's do that to see. "
   ]
  },
  {
   "cell_type": "code",
   "execution_count": 75,
   "id": "986b6eef",
   "metadata": {},
   "outputs": [
    {
     "name": "stdout",
     "output_type": "stream",
     "text": [
      "[1.6, 2.3, 3.1, 4.5, 8.7, 9.2]\n"
     ]
    }
   ],
   "source": [
    "numbers.sort()\n",
    "print(numbers)"
   ]
  },
  {
   "cell_type": "code",
   "execution_count": 76,
   "id": "9982d409",
   "metadata": {},
   "outputs": [
    {
     "name": "stdout",
     "output_type": "stream",
     "text": [
      "[1.6, 2.3, 3.1, 4.5, 8.7, 9.2]\n",
      "None\n"
     ]
    }
   ],
   "source": [
    "numbers = [2.3, 4.5, 8.7, 3.1, 9.2, 1.6 ]\n",
    "\n",
    "another_sorted_numbers = numbers.sort()\n",
    "\n",
    "print(numbers)\n",
    "print(another_sorted_numbers)"
   ]
  },
  {
   "cell_type": "markdown",
   "id": "cbcbf36f",
   "metadata": {},
   "source": [
    "You'll find that most of the methods that modify an object in place, like sort does, return None. So there's very rarely, if ever, a need to assign the result of a sort method to a variable."
   ]
  },
  {
   "cell_type": "markdown",
   "id": "8f4c6c6b",
   "metadata": {},
   "source": [
    "___"
   ]
  },
  {
   "cell_type": "code",
   "execution_count": null,
   "id": "ab40f512",
   "metadata": {},
   "outputs": [],
   "source": []
  }
 ],
 "metadata": {
  "kernelspec": {
   "display_name": "Python 3",
   "language": "python",
   "name": "python3"
  },
  "language_info": {
   "codemirror_mode": {
    "name": "ipython",
    "version": 3
   },
   "file_extension": ".py",
   "mimetype": "text/x-python",
   "name": "python",
   "nbconvert_exporter": "python",
   "pygments_lexer": "ipython3",
   "version": "3.7.11"
  }
 },
 "nbformat": 4,
 "nbformat_minor": 5
}
