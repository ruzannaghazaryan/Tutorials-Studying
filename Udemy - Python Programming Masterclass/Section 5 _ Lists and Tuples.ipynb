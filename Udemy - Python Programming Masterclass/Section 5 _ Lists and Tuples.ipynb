{
 "cells": [
  {
   "cell_type": "markdown",
   "id": "2a119519",
   "metadata": {},
   "source": [
    "https://docs.python.org/3/library/stdtypes.html#sequence-types-list-tuple-range"
   ]
  },
  {
   "cell_type": "markdown",
   "id": "8dc5915f",
   "metadata": {},
   "source": [
    "A __sequence__ is an ordered collection of items.\n",
    "\n",
    "The word __ordered__ here is important.\n",
    "\n",
    "If a sequence wasn't ordered, you couldn't refer to individual items by their index position."
   ]
  },
  {
   "cell_type": "markdown",
   "id": "86e9567b",
   "metadata": {},
   "source": [
    "___"
   ]
  },
  {
   "cell_type": "markdown",
   "id": "dca48c58",
   "metadata": {},
   "source": [
    "string _ an ordered sequence of characters"
   ]
  },
  {
   "cell_type": "markdown",
   "id": "0f5510db",
   "metadata": {},
   "source": [
    "___"
   ]
  },
  {
   "cell_type": "markdown",
   "id": "29c58360",
   "metadata": {},
   "source": [
    "In Python, anything that you can iterate over is an iterable.<br>That means that if you can use it in a for loop, then it's iterable.\n",
    "\n",
    "All sequence types can be iterated over.\n",
    "\n",
    "BUT Not all iterables are sequences.<br>\n",
    "For example, you can use a dictionary in a __for__ loop, but it's not a sequence."
   ]
  },
  {
   "cell_type": "markdown",
   "id": "4ca87fdc",
   "metadata": {},
   "source": [
    "___"
   ]
  },
  {
   "cell_type": "markdown",
   "id": "6e0389f5",
   "metadata": {},
   "source": [
    "### Lists"
   ]
  },
  {
   "cell_type": "markdown",
   "id": "b988f3e3",
   "metadata": {},
   "source": [
    "There's one big difference between strings and lists: __strings are immutable__, which means they can't be changed. __Lists__, on the other hand, __are mutable__."
   ]
  },
  {
   "cell_type": "markdown",
   "id": "89a8e5e1",
   "metadata": {},
   "source": [
    "The following __immutable types__ are built into Python: \n",
    "- int, \n",
    "- float, \n",
    "- bool (True or False): a subclass of int, \n",
    "- string,\n",
    "- tuple, \n",
    "- frozenset \n",
    "- bytes. "
   ]
  },
  {
   "cell_type": "markdown",
   "id": "d30cf2dd",
   "metadata": {},
   "source": [
    "### Immutable Objects"
   ]
  },
  {
   "cell_type": "markdown",
   "id": "8a20d764",
   "metadata": {},
   "source": [
    "The ID for an object may be different each time you run the program, but while your program is running, the object will have the same id."
   ]
  },
  {
   "cell_type": "markdown",
   "id": "0c4b7251",
   "metadata": {},
   "source": [
    "If python has to destroy the object and re-create it, then it's ID will also change. So that gives us a good way to tell if an object is changed, or if python has to create a new object."
   ]
  },
  {
   "cell_type": "code",
   "execution_count": 6,
   "id": "8f4ec566",
   "metadata": {},
   "outputs": [
    {
     "name": "stdout",
     "output_type": "stream",
     "text": [
      "140709031027232\n",
      "140709031027232\n"
     ]
    }
   ],
   "source": [
    "a = 5\n",
    "b = 5\n",
    "print(id(a))\n",
    "print(id(b))"
   ]
  },
  {
   "cell_type": "code",
   "execution_count": 7,
   "id": "7114b985",
   "metadata": {},
   "outputs": [
    {
     "name": "stdout",
     "output_type": "stream",
     "text": [
      "140709030504784\n",
      "140709030504784\n"
     ]
    }
   ],
   "source": [
    "result = True\n",
    "another_result = result\n",
    "print(id(result))\n",
    "print(id(another_result))"
   ]
  },
  {
   "cell_type": "markdown",
   "id": "3e5505d3",
   "metadata": {},
   "source": [
    "Both variables have the same ID. They're both bound to the same value - True - so that makes sense that it should have the same ID. Remember that we're printing the ID of True here. The variables - result and another_result - are just names that we've bound to that value. Alright, so if bool values could be changed, then changing the values should mean that the ID doesn't change."
   ]
  },
  {
   "cell_type": "code",
   "execution_count": 8,
   "id": "1b4248d8",
   "metadata": {},
   "outputs": [
    {
     "name": "stdout",
     "output_type": "stream",
     "text": [
      "140709030504816\n"
     ]
    }
   ],
   "source": [
    "result = False\n",
    "print(id(result))"
   ]
  },
  {
   "cell_type": "markdown",
   "id": "9e62504a",
   "metadata": {},
   "source": [
    "We've got a different ID for a result. Because bools are immutable, we weren't able to change the value of True. What Python's done instead, is rebound result to a new value - False."
   ]
  },
  {
   "cell_type": "code",
   "execution_count": 13,
   "id": "731ae0ad",
   "metadata": {},
   "outputs": [
    {
     "name": "stdout",
     "output_type": "stream",
     "text": [
      "1720050216304\n",
      "1720050216304\n",
      "1720050866288\n"
     ]
    }
   ],
   "source": [
    "result = 'Correct'\n",
    "another_result = result\n",
    "print(id(result))\n",
    "print(id(another_result))\n",
    "\n",
    "# let's attempt to mutate result\n",
    "result += 'ish'\n",
    "print(id(result))"
   ]
  },
  {
   "cell_type": "markdown",
   "id": "ebc42b01",
   "metadata": {},
   "source": [
    "The id of result has changed, but another_result still has the same id that it had to start with."
   ]
  },
  {
   "cell_type": "code",
   "execution_count": 16,
   "id": "930d1914",
   "metadata": {
    "scrolled": true
   },
   "outputs": [
    {
     "name": "stdout",
     "output_type": "stream",
     "text": [
      "Correct\n",
      "1720050216304\n"
     ]
    }
   ],
   "source": [
    "print(another_result) # because they have different ids with result\n",
    "print(id(another_result))"
   ]
  },
  {
   "cell_type": "markdown",
   "id": "5444cb77",
   "metadata": {},
   "source": [
    "___"
   ]
  },
  {
   "cell_type": "markdown",
   "id": "93636aea",
   "metadata": {},
   "source": [
    "### Mutable Objects"
   ]
  },
  {
   "cell_type": "markdown",
   "id": "12de2ba7",
   "metadata": {},
   "source": [
    "Python has the following __mutable objects__ built in:\n",
    "\n",
    "- list\n",
    "- dict\n",
    "- set\n",
    "- bytearray"
   ]
  },
  {
   "cell_type": "markdown",
   "id": "9e11ee84",
   "metadata": {},
   "source": [
    "So we can change the value of mutable objects, without the object being destroyed and re-created."
   ]
  },
  {
   "cell_type": "code",
   "execution_count": 20,
   "id": "6b7559ce",
   "metadata": {},
   "outputs": [
    {
     "name": "stdout",
     "output_type": "stream",
     "text": [
      "1720051091528\n",
      "1720051091528\n",
      "['milk', 'pasta', 'eggs', 'spam', 'bread', 'rice', 'cookies']\n",
      "1720051091528\n",
      "['milk', 'pasta', 'eggs', 'spam', 'bread', 'rice', 'cookies']\n",
      "1720051091528\n"
     ]
    }
   ],
   "source": [
    "shoppingList = ['milk', \n",
    "               'pasta',\n",
    "               'eggs',\n",
    "               'spam', \n",
    "               'bread', \n",
    "               'rice']\n",
    "\n",
    "another_list = shoppingList\n",
    "print(id(shoppingList))\n",
    "print(id(another_list))\n",
    "\n",
    "shoppingList += ['cookies']\n",
    "print(shoppingList)\n",
    "print(id(shoppingList))\n",
    "\n",
    "print(another_list)\n",
    "print(id(another_list))"
   ]
  },
  {
   "cell_type": "markdown",
   "id": "4fec9832",
   "metadata": {},
   "source": [
    "__Strings are immutable__. When we tried to change a string, Python created a new object - a new string - and re-attached the name to it. You can't change the value of an immutable object.\n",
    "\n",
    "__Lists are mutable__ - they can be changed. When we appended a new item in this code, Python was able to change the contents of the list, without creating a new one."
   ]
  },
  {
   "cell_type": "markdown",
   "id": "1e578867",
   "metadata": {},
   "source": [
    "___"
   ]
  },
  {
   "cell_type": "code",
   "execution_count": 24,
   "id": "e9e97dcd",
   "metadata": {},
   "outputs": [
    {
     "name": "stdout",
     "output_type": "stream",
     "text": [
      "2\n",
      "8\n"
     ]
    }
   ],
   "source": [
    "even = [2, 4, 6, 8]\n",
    "odd = [1, 3, 5, 7, 9]\n",
    "\n",
    "print(min(even))\n",
    "print(max(even))"
   ]
  },
  {
   "cell_type": "markdown",
   "id": "1eb22a2e",
   "metadata": {},
   "source": [
    "__len__ returns __the number of items in the sequence__. For a string, that would be the number of characters in the string. For a list though, it's the number of items."
   ]
  },
  {
   "cell_type": "code",
   "execution_count": 25,
   "id": "04dd4267",
   "metadata": {},
   "outputs": [
    {
     "name": "stdout",
     "output_type": "stream",
     "text": [
      "4 5\n"
     ]
    }
   ],
   "source": [
    "print(len(even), len(odd))"
   ]
  },
  {
   "cell_type": "markdown",
   "id": "f8152c44",
   "metadata": {},
   "source": [
    "Let's see how many times the letter s appears in Mississippi."
   ]
  },
  {
   "cell_type": "markdown",
   "id": "2bf26408",
   "metadata": {},
   "source": [
    "__count()__"
   ]
  },
  {
   "cell_type": "code",
   "execution_count": 31,
   "id": "a3e2ef88",
   "metadata": {
    "scrolled": true
   },
   "outputs": [
    {
     "name": "stdout",
     "output_type": "stream",
     "text": [
      "4\n",
      "0\n",
      "2\n"
     ]
    }
   ],
   "source": [
    "print('Mississippi'.count('s'))\n",
    "print('Mississippi'.count('m'))\n",
    "print('Mississippi'.count('iss'))"
   ]
  },
  {
   "cell_type": "code",
   "execution_count": 29,
   "id": "8be9d418",
   "metadata": {},
   "outputs": [
    {
     "name": "stdout",
     "output_type": "stream",
     "text": [
      "0\n",
      "1\n"
     ]
    }
   ],
   "source": [
    "print(even.count(3))\n",
    "print(even.count(2))"
   ]
  },
  {
   "cell_type": "markdown",
   "id": "91b5e208",
   "metadata": {},
   "source": [
    "___"
   ]
  },
  {
   "cell_type": "markdown",
   "id": "ef395fb7",
   "metadata": {},
   "source": [
    "### Operations on Mutable Sequences"
   ]
  },
  {
   "cell_type": "markdown",
   "id": "c1ec1991",
   "metadata": {},
   "source": [
    "__append method__"
   ]
  },
  {
   "cell_type": "markdown",
   "id": "42ee38c3",
   "metadata": {},
   "source": [
    "___"
   ]
  },
  {
   "cell_type": "markdown",
   "id": "048ad041",
   "metadata": {},
   "source": [
    "_A method is the same as a function, except that it's bound to an object. That means we need an object, in order to call the method._"
   ]
  },
  {
   "cell_type": "markdown",
   "id": "9dc2b459",
   "metadata": {},
   "source": [
    "___"
   ]
  },
  {
   "cell_type": "markdown",
   "id": "834e4591",
   "metadata": {},
   "source": [
    "We've used a few functions above: min and max, and the len function.\n",
    "\n",
    "_When you call a function, you just type its name, and provide any arguments in parentheses._"
   ]
  },
  {
   "cell_type": "markdown",
   "id": "9fa18dd8",
   "metadata": {},
   "source": [
    "___"
   ]
  },
  {
   "cell_type": "markdown",
   "id": "bbc699c5",
   "metadata": {},
   "source": [
    "_When we call a method, we tell it which object it's called on. In other words, which object it should be using when it performs its function._"
   ]
  },
  {
   "cell_type": "markdown",
   "id": "f6c2438b",
   "metadata": {},
   "source": [
    "The syntax of a method is simple. You start with the object you're using, then a dot, then the name of the method. If the method needs arguments, you put them in parentheses after the method name."
   ]
  },
  {
   "cell_type": "markdown",
   "id": "62b9998d",
   "metadata": {},
   "source": [
    "___"
   ]
  },
  {
   "cell_type": "code",
   "execution_count": 32,
   "id": "9c933139",
   "metadata": {},
   "outputs": [
    {
     "name": "stdout",
     "output_type": "stream",
     "text": [
      "[2, 4, 6, 8]\n"
     ]
    }
   ],
   "source": [
    "print(even)"
   ]
  },
  {
   "cell_type": "code",
   "execution_count": 33,
   "id": "6848eb00",
   "metadata": {},
   "outputs": [
    {
     "name": "stdout",
     "output_type": "stream",
     "text": [
      "[2, 4, 6, 8, 10]\n"
     ]
    }
   ],
   "source": [
    "even.append(10)\n",
    "print(even)"
   ]
  },
  {
   "cell_type": "markdown",
   "id": "4c055660",
   "metadata": {},
   "source": [
    "___"
   ]
  },
  {
   "cell_type": "markdown",
   "id": "1286f62c",
   "metadata": {},
   "source": [
    "### Appending to a List"
   ]
  },
  {
   "cell_type": "code",
   "execution_count": 35,
   "id": "1121db75",
   "metadata": {},
   "outputs": [
    {
     "name": "stdout",
     "output_type": "stream",
     "text": [
      "Please add options from the list below:\n",
      "1: computer\n",
      "2: monitor\n",
      "3: keyboard\n",
      "4: mouse\n",
      "5: mouse mat\n",
      "0: to finish\n",
      "1\n",
      "adding 1\n",
      "4\n",
      "adding 4\n",
      "0\n",
      "['computer', 'mouse']\n"
     ]
    }
   ],
   "source": [
    "current_choice = '-'\n",
    "computer_parts = []\n",
    "\n",
    "while current_choice != '0':\n",
    "    if current_choice in '12345':\n",
    "        print('adding {}'.format(current_choice))\n",
    "        \n",
    "        if current_choice == '1':\n",
    "            computer_parts.append('computer')\n",
    "        elif current_choice == '2':\n",
    "            computer_parts.append('monitor')\n",
    "        elif current_choice == '3':\n",
    "            computer_parts.append('keyboard')\n",
    "        elif current_choice == '4':\n",
    "            computer_parts.append('mouse')\n",
    "        elif current_choice == '5':\n",
    "            computer_parts.append('mouse mat')\n",
    "    else:\n",
    "        print('Please add options from the list below:')\n",
    "        print('1: computer')\n",
    "        print('2: monitor')\n",
    "        print('3: keyboard')\n",
    "        print('4: mouse')\n",
    "        print('5: mouse mat')\n",
    "        print('0: to finish')\n",
    "        \n",
    "    current_choice = input()\n",
    "    \n",
    "print(computer_parts)"
   ]
  },
  {
   "cell_type": "code",
   "execution_count": 37,
   "id": "26789358",
   "metadata": {},
   "outputs": [
    {
     "name": "stdout",
     "output_type": "stream",
     "text": [
      "Please add options from the list below:\n",
      "1: computer\n",
      "2: monitor\n",
      "3: keyboard\n",
      "4: mouse\n",
      "5: mouse mat\n",
      "6: hdmi cable\n",
      "0: to finish\n",
      "0\n",
      "[]\n"
     ]
    }
   ],
   "source": [
    "# Efficiently\n",
    "\n",
    "availableParts = ['computer',\n",
    "                  'monitor',\n",
    "                  'keyboard',\n",
    "                  'mouse',\n",
    "                  'mouse mat', \n",
    "                  'hdmi cable'\n",
    "                 ]\n",
    "\n",
    "current_choice = '-'\n",
    "computer_parts = []\n",
    "\n",
    "while current_choice != '0':\n",
    "    if current_choice in '12345':\n",
    "        print('adding {}'.format(current_choice))\n",
    "        \n",
    "        if current_choice == '1':\n",
    "            computer_parts.append('computer')\n",
    "        elif current_choice == '2':\n",
    "            computer_parts.append('monitor')\n",
    "        elif current_choice == '3':\n",
    "            computer_parts.append('keyboard')\n",
    "        elif current_choice == '4':\n",
    "            computer_parts.append('mouse')\n",
    "        elif current_choice == '5':\n",
    "            computer_parts.append('mouse mat')\n",
    "    else:\n",
    "        print('Please add options from the list below:')\n",
    "        for part in availableParts:\n",
    "            print('{0}: {1}'.format(availableParts.index(part) + 1, part))\n",
    "        print('0: to finish')\n",
    "        \n",
    "    current_choice = input()\n",
    "    \n",
    "print(computer_parts)"
   ]
  },
  {
   "cell_type": "markdown",
   "id": "1584fbdb",
   "metadata": {},
   "source": [
    " What we've done above isn't very efficient, and that's because Python has to look up each item in the list, in order to get its index position."
   ]
  },
  {
   "cell_type": "markdown",
   "id": "46ead374",
   "metadata": {},
   "source": []
  }
 ],
 "metadata": {
  "kernelspec": {
   "display_name": "Python 3",
   "language": "python",
   "name": "python3"
  },
  "language_info": {
   "codemirror_mode": {
    "name": "ipython",
    "version": 3
   },
   "file_extension": ".py",
   "mimetype": "text/x-python",
   "name": "python",
   "nbconvert_exporter": "python",
   "pygments_lexer": "ipython3",
   "version": "3.7.11"
  }
 },
 "nbformat": 4,
 "nbformat_minor": 5
}
