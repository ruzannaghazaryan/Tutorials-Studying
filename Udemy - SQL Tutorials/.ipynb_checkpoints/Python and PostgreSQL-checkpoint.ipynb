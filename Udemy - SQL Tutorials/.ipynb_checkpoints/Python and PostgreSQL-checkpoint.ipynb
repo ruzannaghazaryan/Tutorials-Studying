{
 "cells": [
  {
   "cell_type": "markdown",
   "id": "240bd712",
   "metadata": {},
   "source": [
    "A quick overview of how to use the __psycopg2__ library with Python to interact with a database in PostgreSQl with Python."
   ]
  },
  {
   "cell_type": "markdown",
   "id": "3baa9c16",
   "metadata": {},
   "source": [
    "---"
   ]
  },
  {
   "cell_type": "code",
   "execution_count": 3,
   "id": "5badc4a2",
   "metadata": {},
   "outputs": [],
   "source": [
    "# pip install psycopg2"
   ]
  },
  {
   "cell_type": "code",
   "execution_count": 4,
   "id": "ccf47d92",
   "metadata": {},
   "outputs": [],
   "source": [
    "import psycopg2 as pg2"
   ]
  },
  {
   "cell_type": "markdown",
   "id": "de0e91ae",
   "metadata": {},
   "source": [
    "If it's the default username and you haven't changed it, then it's \"postgres\". You can check it with\n",
    "\n",
    "SELECT usename FROM pg_user;"
   ]
  },
  {
   "cell_type": "code",
   "execution_count": 25,
   "id": "0b8fc427",
   "metadata": {},
   "outputs": [],
   "source": [
    "# Create a connection with PostgreSQL\n",
    "conn = pg2.connect(database='dvdrental', \n",
    "                  user='postgres',\n",
    "                  password='datascience')"
   ]
  },
  {
   "cell_type": "markdown",
   "id": "29f8dd05",
   "metadata": {},
   "source": [
    "So now that we've established the connection to PostgreSQL, the next step is to retrieve the __cursor__. So you can basically think of it as some sort of iterator or pointer for SQL data retrieval."
   ]
  },
  {
   "cell_type": "code",
   "execution_count": 26,
   "id": "7bebea20",
   "metadata": {},
   "outputs": [],
   "source": [
    "# Establish connection and start cursor to be ready to query\n",
    "cur = conn.cursor()"
   ]
  },
  {
   "cell_type": "code",
   "execution_count": 27,
   "id": "ee273f3b",
   "metadata": {},
   "outputs": [],
   "source": [
    "# Pass in a PostgreSQL query as a string\n",
    "cur.execute('SELECT * FROM payment;')"
   ]
  },
  {
   "cell_type": "markdown",
   "id": "c5487991",
   "metadata": {},
   "source": [
    "And this cursor then has a couple of methods available. It has \n",
    "- fetchall()\n",
    "- fetchmany() \n",
    "- fetchone()\n",
    "<br>to return the rows of data"
   ]
  },
  {
   "cell_type": "code",
   "execution_count": 12,
   "id": "941aeed5",
   "metadata": {},
   "outputs": [
    {
     "data": {
      "text/plain": [
       "(17505,\n",
       " 341,\n",
       " 1,\n",
       " 1849,\n",
       " Decimal('7.99'),\n",
       " datetime.datetime(2007, 2, 16, 22, 41, 45, 996577))"
      ]
     },
     "execution_count": 12,
     "metadata": {},
     "output_type": "execute_result"
    }
   ],
   "source": [
    "# Return a tuple of the first row as Python objects\n",
    "cur.fetchone()"
   ]
  },
  {
   "cell_type": "code",
   "execution_count": 13,
   "id": "b7ea1a8b",
   "metadata": {},
   "outputs": [
    {
     "data": {
      "text/plain": [
       "[(17506,\n",
       "  341,\n",
       "  2,\n",
       "  2829,\n",
       "  Decimal('2.99'),\n",
       "  datetime.datetime(2007, 2, 19, 19, 39, 56, 996577)),\n",
       " (17507,\n",
       "  341,\n",
       "  2,\n",
       "  3130,\n",
       "  Decimal('7.99'),\n",
       "  datetime.datetime(2007, 2, 20, 17, 31, 48, 996577)),\n",
       " (17508,\n",
       "  341,\n",
       "  1,\n",
       "  3382,\n",
       "  Decimal('5.99'),\n",
       "  datetime.datetime(2007, 2, 21, 12, 33, 49, 996577)),\n",
       " (17509,\n",
       "  342,\n",
       "  2,\n",
       "  2190,\n",
       "  Decimal('5.99'),\n",
       "  datetime.datetime(2007, 2, 17, 23, 58, 17, 996577)),\n",
       " (17510,\n",
       "  342,\n",
       "  1,\n",
       "  2914,\n",
       "  Decimal('5.99'),\n",
       "  datetime.datetime(2007, 2, 20, 2, 11, 44, 996577)),\n",
       " (17511,\n",
       "  342,\n",
       "  1,\n",
       "  3081,\n",
       "  Decimal('2.99'),\n",
       "  datetime.datetime(2007, 2, 20, 13, 57, 39, 996577)),\n",
       " (17512,\n",
       "  343,\n",
       "  2,\n",
       "  1547,\n",
       "  Decimal('4.99'),\n",
       "  datetime.datetime(2007, 2, 16, 0, 10, 50, 996577)),\n",
       " (17513,\n",
       "  343,\n",
       "  1,\n",
       "  1564,\n",
       "  Decimal('6.99'),\n",
       "  datetime.datetime(2007, 2, 16, 1, 15, 33, 996577)),\n",
       " (17514,\n",
       "  343,\n",
       "  2,\n",
       "  1879,\n",
       "  Decimal('0.99'),\n",
       "  datetime.datetime(2007, 2, 17, 1, 26, 0, 996577)),\n",
       " (17515,\n",
       "  343,\n",
       "  2,\n",
       "  1922,\n",
       "  Decimal('0.99'),\n",
       "  datetime.datetime(2007, 2, 17, 4, 32, 51, 996577))]"
      ]
     },
     "execution_count": 13,
     "metadata": {},
     "output_type": "execute_result"
    }
   ],
   "source": [
    "# Return N number of rows\n",
    "cur.fetchmany(10)"
   ]
  },
  {
   "cell_type": "markdown",
   "id": "504eed9e",
   "metadata": {},
   "source": [
    "It returns it as a list of tuple items, which is nice cause then you can use __tuple unpacking__."
   ]
  },
  {
   "cell_type": "code",
   "execution_count": 28,
   "id": "ac1e5baa",
   "metadata": {},
   "outputs": [],
   "source": [
    "# Return All rows at once, to save and index results, assign it to a variable.\n",
    "data = cur.fetchall()"
   ]
  },
  {
   "cell_type": "code",
   "execution_count": 29,
   "id": "7e133b87",
   "metadata": {},
   "outputs": [
    {
     "data": {
      "text/plain": [
       "(17503,\n",
       " 341,\n",
       " 2,\n",
       " 1520,\n",
       " Decimal('7.99'),\n",
       " datetime.datetime(2007, 2, 15, 22, 25, 46, 996577))"
      ]
     },
     "execution_count": 29,
     "metadata": {},
     "output_type": "execute_result"
    }
   ],
   "source": [
    "data[0]"
   ]
  },
  {
   "cell_type": "markdown",
   "id": "4e3f5cb2",
   "metadata": {},
   "source": [
    "---"
   ]
  },
  {
   "cell_type": "markdown",
   "id": "fd38a2cc",
   "metadata": {},
   "source": [
    "__Inserting Information__"
   ]
  },
  {
   "cell_type": "code",
   "execution_count": 30,
   "id": "0b7a88dd",
   "metadata": {},
   "outputs": [],
   "source": [
    "query1 = \"\"\"\n",
    "            CREATE TABLE new_table(\n",
    "            user_id SERIAL PRIMARY KEY,\n",
    "            tmstmp TIMESTAMP,\n",
    "            type VARCHAR(10)\n",
    "            );\n",
    "         \"\"\""
   ]
  },
  {
   "cell_type": "code",
   "execution_count": 31,
   "id": "76713be5",
   "metadata": {},
   "outputs": [],
   "source": [
    "cur.execute(query1)"
   ]
  },
  {
   "cell_type": "code",
   "execution_count": 33,
   "id": "bd4c78ef",
   "metadata": {},
   "outputs": [],
   "source": [
    "# commit the changes to the database\n",
    "conn.commit()"
   ]
  },
  {
   "cell_type": "code",
   "execution_count": 34,
   "id": "ac1a6544",
   "metadata": {},
   "outputs": [],
   "source": [
    "# Don't forget to close the connection!\n",
    "# killing the kernel or shutting down juptyer will also close it\n",
    "conn.close()"
   ]
  },
  {
   "cell_type": "code",
   "execution_count": null,
   "id": "2dd11d29",
   "metadata": {},
   "outputs": [],
   "source": []
  }
 ],
 "metadata": {
  "kernelspec": {
   "display_name": "Python 3 (ipykernel)",
   "language": "python",
   "name": "python3"
  },
  "language_info": {
   "codemirror_mode": {
    "name": "ipython",
    "version": 3
   },
   "file_extension": ".py",
   "mimetype": "text/x-python",
   "name": "python",
   "nbconvert_exporter": "python",
   "pygments_lexer": "ipython3",
   "version": "3.9.12"
  }
 },
 "nbformat": 4,
 "nbformat_minor": 5
}
